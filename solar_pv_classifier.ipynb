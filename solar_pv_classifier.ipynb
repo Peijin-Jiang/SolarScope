{
  "cells": [
    {
      "cell_type": "code",
      "execution_count": null,
      "metadata": {
        "colab": {
          "base_uri": "https://localhost:8080/"
        },
        "id": "rrZP-bUz2mTg",
        "outputId": "a9b2c491-e679-487c-bac9-8c75fb044252"
      },
      "outputs": [
        {
          "output_type": "stream",
          "name": "stdout",
          "text": [
            "Mounted at /content/drive\n"
          ]
        }
      ],
      "source": [
        "# mount the google drive\n",
        "from google.colab import drive\n",
        "drive.mount('/content/drive')"
      ]
    },
    {
      "cell_type": "code",
      "execution_count": null,
      "metadata": {
        "id": "FeBw-dUe6Rfu"
      },
      "outputs": [],
      "source": [
        "# from tempfile import tempdir\n",
        "# # Make a fake dataset csv\n",
        "# import os\n",
        "# import pandas as pd\n",
        "# from sklearn.model_selection import train_test_split\n",
        "\n",
        "# DENMARK_DIR = \"/content/drive/MyDrive/solar_PV/data/Denmark\"\n",
        "\n",
        "# dataset_csv = {\n",
        "#     \"image_paths\": [],\n",
        "#     \"labels\": []\n",
        "# }\n",
        "\n",
        "# for folder in os.listdir(DENMARK_DIR):\n",
        "#   for file in [\"positive\", \"negative\"]:\n",
        "#     for image in os.listdir(os.path.join(DENMARK_DIR, folder, file)):\n",
        "#       dataset_csv[\"image_paths\"].append(os.path.join(DENMARK_DIR, folder, file, image))\n",
        "#       label = True if file == \"positive\" else False\n",
        "#       dataset_csv[\"labels\"].append(label)\n",
        "\n",
        "# df = pd.DataFrame(dataset_csv)\n",
        "# save_dir = \"/content/drive/MyDrive/solar_PV/src/dataset_csv/classification/\"\n",
        "# os.makedirs(save_dir, exist_ok=True)\n",
        "# # split to train, val and test df\n",
        "# val_r, test_r = 0.1, 0.2\n",
        "# train_df, temp_df = train_test_split(df, test_size=val_r+test_r, random_state=42)\n",
        "# val_df, test_df = train_test_split(temp_df, test_size=test_r/(val_r+test_r), random_state=42)\n",
        "\n",
        "# # save the train, val and test df\n",
        "# train_df.to_csv(os.path.join(save_dir, \"train.csv\"), index=False)\n",
        "# val_df.to_csv(os.path.join(save_dir, \"val.csv\"), index=False)\n",
        "# test_df.to_csv(os.path.join(save_dir, \"test.csv\"), index=False)\n",
        "# print(train_df.shape, val_df.shape, test_df.shape)\n",
        "# print(train_df[\"labels\"].value_counts())"
      ]
    },
    {
      "cell_type": "code",
      "execution_count": null,
      "metadata": {
        "colab": {
          "base_uri": "https://localhost:8080/"
        },
        "id": "6P6nD_5zFIO2",
        "outputId": "fd8f1a7f-c516-43a2-fe62-8cbc0db3cfba"
      },
      "outputs": [
        {
          "output_type": "stream",
          "name": "stdout",
          "text": [
            "Requirement already satisfied: timm in /usr/local/lib/python3.11/dist-packages (1.0.17)\n",
            "Requirement already satisfied: torch in /usr/local/lib/python3.11/dist-packages (from timm) (2.6.0+cu124)\n",
            "Requirement already satisfied: torchvision in /usr/local/lib/python3.11/dist-packages (from timm) (0.21.0+cu124)\n",
            "Requirement already satisfied: pyyaml in /usr/local/lib/python3.11/dist-packages (from timm) (6.0.2)\n",
            "Requirement already satisfied: huggingface_hub in /usr/local/lib/python3.11/dist-packages (from timm) (0.33.4)\n",
            "Requirement already satisfied: safetensors in /usr/local/lib/python3.11/dist-packages (from timm) (0.5.3)\n",
            "Requirement already satisfied: filelock in /usr/local/lib/python3.11/dist-packages (from huggingface_hub->timm) (3.18.0)\n",
            "Requirement already satisfied: fsspec>=2023.5.0 in /usr/local/lib/python3.11/dist-packages (from huggingface_hub->timm) (2025.3.2)\n",
            "Requirement already satisfied: packaging>=20.9 in /usr/local/lib/python3.11/dist-packages (from huggingface_hub->timm) (25.0)\n",
            "Requirement already satisfied: requests in /usr/local/lib/python3.11/dist-packages (from huggingface_hub->timm) (2.32.3)\n",
            "Requirement already satisfied: tqdm>=4.42.1 in /usr/local/lib/python3.11/dist-packages (from huggingface_hub->timm) (4.67.1)\n",
            "Requirement already satisfied: typing-extensions>=3.7.4.3 in /usr/local/lib/python3.11/dist-packages (from huggingface_hub->timm) (4.14.1)\n",
            "Requirement already satisfied: hf-xet<2.0.0,>=1.1.2 in /usr/local/lib/python3.11/dist-packages (from huggingface_hub->timm) (1.1.5)\n",
            "Requirement already satisfied: networkx in /usr/local/lib/python3.11/dist-packages (from torch->timm) (3.5)\n",
            "Requirement already satisfied: jinja2 in /usr/local/lib/python3.11/dist-packages (from torch->timm) (3.1.6)\n",
            "Collecting nvidia-cuda-nvrtc-cu12==12.4.127 (from torch->timm)\n",
            "  Downloading nvidia_cuda_nvrtc_cu12-12.4.127-py3-none-manylinux2014_x86_64.whl.metadata (1.5 kB)\n",
            "Collecting nvidia-cuda-runtime-cu12==12.4.127 (from torch->timm)\n",
            "  Downloading nvidia_cuda_runtime_cu12-12.4.127-py3-none-manylinux2014_x86_64.whl.metadata (1.5 kB)\n",
            "Collecting nvidia-cuda-cupti-cu12==12.4.127 (from torch->timm)\n",
            "  Downloading nvidia_cuda_cupti_cu12-12.4.127-py3-none-manylinux2014_x86_64.whl.metadata (1.6 kB)\n",
            "Collecting nvidia-cudnn-cu12==9.1.0.70 (from torch->timm)\n",
            "  Downloading nvidia_cudnn_cu12-9.1.0.70-py3-none-manylinux2014_x86_64.whl.metadata (1.6 kB)\n",
            "Collecting nvidia-cublas-cu12==12.4.5.8 (from torch->timm)\n",
            "  Downloading nvidia_cublas_cu12-12.4.5.8-py3-none-manylinux2014_x86_64.whl.metadata (1.5 kB)\n",
            "Collecting nvidia-cufft-cu12==11.2.1.3 (from torch->timm)\n",
            "  Downloading nvidia_cufft_cu12-11.2.1.3-py3-none-manylinux2014_x86_64.whl.metadata (1.5 kB)\n",
            "Collecting nvidia-curand-cu12==10.3.5.147 (from torch->timm)\n",
            "  Downloading nvidia_curand_cu12-10.3.5.147-py3-none-manylinux2014_x86_64.whl.metadata (1.5 kB)\n",
            "Collecting nvidia-cusolver-cu12==11.6.1.9 (from torch->timm)\n",
            "  Downloading nvidia_cusolver_cu12-11.6.1.9-py3-none-manylinux2014_x86_64.whl.metadata (1.6 kB)\n",
            "Collecting nvidia-cusparse-cu12==12.3.1.170 (from torch->timm)\n",
            "  Downloading nvidia_cusparse_cu12-12.3.1.170-py3-none-manylinux2014_x86_64.whl.metadata (1.6 kB)\n",
            "Requirement already satisfied: nvidia-cusparselt-cu12==0.6.2 in /usr/local/lib/python3.11/dist-packages (from torch->timm) (0.6.2)\n",
            "Requirement already satisfied: nvidia-nccl-cu12==2.21.5 in /usr/local/lib/python3.11/dist-packages (from torch->timm) (2.21.5)\n",
            "Requirement already satisfied: nvidia-nvtx-cu12==12.4.127 in /usr/local/lib/python3.11/dist-packages (from torch->timm) (12.4.127)\n",
            "Collecting nvidia-nvjitlink-cu12==12.4.127 (from torch->timm)\n",
            "  Downloading nvidia_nvjitlink_cu12-12.4.127-py3-none-manylinux2014_x86_64.whl.metadata (1.5 kB)\n",
            "Requirement already satisfied: triton==3.2.0 in /usr/local/lib/python3.11/dist-packages (from torch->timm) (3.2.0)\n",
            "Requirement already satisfied: sympy==1.13.1 in /usr/local/lib/python3.11/dist-packages (from torch->timm) (1.13.1)\n",
            "Requirement already satisfied: mpmath<1.4,>=1.1.0 in /usr/local/lib/python3.11/dist-packages (from sympy==1.13.1->torch->timm) (1.3.0)\n",
            "Requirement already satisfied: numpy in /usr/local/lib/python3.11/dist-packages (from torchvision->timm) (2.0.2)\n",
            "Requirement already satisfied: pillow!=8.3.*,>=5.3.0 in /usr/local/lib/python3.11/dist-packages (from torchvision->timm) (11.2.1)\n",
            "Requirement already satisfied: MarkupSafe>=2.0 in /usr/local/lib/python3.11/dist-packages (from jinja2->torch->timm) (3.0.2)\n",
            "Requirement already satisfied: charset-normalizer<4,>=2 in /usr/local/lib/python3.11/dist-packages (from requests->huggingface_hub->timm) (3.4.2)\n",
            "Requirement already satisfied: idna<4,>=2.5 in /usr/local/lib/python3.11/dist-packages (from requests->huggingface_hub->timm) (3.10)\n",
            "Requirement already satisfied: urllib3<3,>=1.21.1 in /usr/local/lib/python3.11/dist-packages (from requests->huggingface_hub->timm) (2.4.0)\n",
            "Requirement already satisfied: certifi>=2017.4.17 in /usr/local/lib/python3.11/dist-packages (from requests->huggingface_hub->timm) (2025.7.14)\n",
            "Downloading nvidia_cublas_cu12-12.4.5.8-py3-none-manylinux2014_x86_64.whl (363.4 MB)\n",
            "\u001b[2K   \u001b[90m━━━━━━━━━━━━━━━━━━━━━━━━━━━━━━━━━━━━━━━━\u001b[0m \u001b[32m363.4/363.4 MB\u001b[0m \u001b[31m3.4 MB/s\u001b[0m eta \u001b[36m0:00:00\u001b[0m\n",
            "\u001b[?25hDownloading nvidia_cuda_cupti_cu12-12.4.127-py3-none-manylinux2014_x86_64.whl (13.8 MB)\n",
            "\u001b[2K   \u001b[90m━━━━━━━━━━━━━━━━━━━━━━━━━━━━━━━━━━━━━━━━\u001b[0m \u001b[32m13.8/13.8 MB\u001b[0m \u001b[31m116.2 MB/s\u001b[0m eta \u001b[36m0:00:00\u001b[0m\n",
            "\u001b[?25hDownloading nvidia_cuda_nvrtc_cu12-12.4.127-py3-none-manylinux2014_x86_64.whl (24.6 MB)\n",
            "\u001b[2K   \u001b[90m━━━━━━━━━━━━━━━━━━━━━━━━━━━━━━━━━━━━━━━━\u001b[0m \u001b[32m24.6/24.6 MB\u001b[0m \u001b[31m97.3 MB/s\u001b[0m eta \u001b[36m0:00:00\u001b[0m\n",
            "\u001b[?25hDownloading nvidia_cuda_runtime_cu12-12.4.127-py3-none-manylinux2014_x86_64.whl (883 kB)\n",
            "\u001b[2K   \u001b[90m━━━━━━━━━━━━━━━━━━━━━━━━━━━━━━━━━━━━━━━━\u001b[0m \u001b[32m883.7/883.7 kB\u001b[0m \u001b[31m63.1 MB/s\u001b[0m eta \u001b[36m0:00:00\u001b[0m\n",
            "\u001b[?25hDownloading nvidia_cudnn_cu12-9.1.0.70-py3-none-manylinux2014_x86_64.whl (664.8 MB)\n",
            "\u001b[2K   \u001b[90m━━━━━━━━━━━━━━━━━━━━━━━━━━━━━━━━━━━━━━━━\u001b[0m \u001b[32m664.8/664.8 MB\u001b[0m \u001b[31m1.7 MB/s\u001b[0m eta \u001b[36m0:00:00\u001b[0m\n",
            "\u001b[?25hDownloading nvidia_cufft_cu12-11.2.1.3-py3-none-manylinux2014_x86_64.whl (211.5 MB)\n",
            "\u001b[2K   \u001b[90m━━━━━━━━━━━━━━━━━━━━━━━━━━━━━━━━━━━━━━━━\u001b[0m \u001b[32m211.5/211.5 MB\u001b[0m \u001b[31m11.5 MB/s\u001b[0m eta \u001b[36m0:00:00\u001b[0m\n",
            "\u001b[?25hDownloading nvidia_curand_cu12-10.3.5.147-py3-none-manylinux2014_x86_64.whl (56.3 MB)\n",
            "\u001b[2K   \u001b[90m━━━━━━━━━━━━━━━━━━━━━━━━━━━━━━━━━━━━━━━━\u001b[0m \u001b[32m56.3/56.3 MB\u001b[0m \u001b[31m42.8 MB/s\u001b[0m eta \u001b[36m0:00:00\u001b[0m\n",
            "\u001b[?25hDownloading nvidia_cusolver_cu12-11.6.1.9-py3-none-manylinux2014_x86_64.whl (127.9 MB)\n",
            "\u001b[2K   \u001b[90m━━━━━━━━━━━━━━━━━━━━━━━━━━━━━━━━━━━━━━━━\u001b[0m \u001b[32m127.9/127.9 MB\u001b[0m \u001b[31m18.9 MB/s\u001b[0m eta \u001b[36m0:00:00\u001b[0m\n",
            "\u001b[?25hDownloading nvidia_cusparse_cu12-12.3.1.170-py3-none-manylinux2014_x86_64.whl (207.5 MB)\n",
            "\u001b[2K   \u001b[90m━━━━━━━━━━━━━━━━━━━━━━━━━━━━━━━━━━━━━━━━\u001b[0m \u001b[32m207.5/207.5 MB\u001b[0m \u001b[31m5.3 MB/s\u001b[0m eta \u001b[36m0:00:00\u001b[0m\n",
            "\u001b[?25hDownloading nvidia_nvjitlink_cu12-12.4.127-py3-none-manylinux2014_x86_64.whl (21.1 MB)\n",
            "\u001b[2K   \u001b[90m━━━━━━━━━━━━━━━━━━━━━━━━━━━━━━━━━━━━━━━━\u001b[0m \u001b[32m21.1/21.1 MB\u001b[0m \u001b[31m113.0 MB/s\u001b[0m eta \u001b[36m0:00:00\u001b[0m\n",
            "\u001b[?25hInstalling collected packages: nvidia-nvjitlink-cu12, nvidia-curand-cu12, nvidia-cufft-cu12, nvidia-cuda-runtime-cu12, nvidia-cuda-nvrtc-cu12, nvidia-cuda-cupti-cu12, nvidia-cublas-cu12, nvidia-cusparse-cu12, nvidia-cudnn-cu12, nvidia-cusolver-cu12\n",
            "  Attempting uninstall: nvidia-nvjitlink-cu12\n",
            "    Found existing installation: nvidia-nvjitlink-cu12 12.5.82\n",
            "    Uninstalling nvidia-nvjitlink-cu12-12.5.82:\n",
            "      Successfully uninstalled nvidia-nvjitlink-cu12-12.5.82\n",
            "  Attempting uninstall: nvidia-curand-cu12\n",
            "    Found existing installation: nvidia-curand-cu12 10.3.6.82\n",
            "    Uninstalling nvidia-curand-cu12-10.3.6.82:\n",
            "      Successfully uninstalled nvidia-curand-cu12-10.3.6.82\n",
            "  Attempting uninstall: nvidia-cufft-cu12\n",
            "    Found existing installation: nvidia-cufft-cu12 11.2.3.61\n",
            "    Uninstalling nvidia-cufft-cu12-11.2.3.61:\n",
            "      Successfully uninstalled nvidia-cufft-cu12-11.2.3.61\n",
            "  Attempting uninstall: nvidia-cuda-runtime-cu12\n",
            "    Found existing installation: nvidia-cuda-runtime-cu12 12.5.82\n",
            "    Uninstalling nvidia-cuda-runtime-cu12-12.5.82:\n",
            "      Successfully uninstalled nvidia-cuda-runtime-cu12-12.5.82\n",
            "  Attempting uninstall: nvidia-cuda-nvrtc-cu12\n",
            "    Found existing installation: nvidia-cuda-nvrtc-cu12 12.5.82\n",
            "    Uninstalling nvidia-cuda-nvrtc-cu12-12.5.82:\n",
            "      Successfully uninstalled nvidia-cuda-nvrtc-cu12-12.5.82\n",
            "  Attempting uninstall: nvidia-cuda-cupti-cu12\n",
            "    Found existing installation: nvidia-cuda-cupti-cu12 12.5.82\n",
            "    Uninstalling nvidia-cuda-cupti-cu12-12.5.82:\n",
            "      Successfully uninstalled nvidia-cuda-cupti-cu12-12.5.82\n",
            "  Attempting uninstall: nvidia-cublas-cu12\n",
            "    Found existing installation: nvidia-cublas-cu12 12.5.3.2\n",
            "    Uninstalling nvidia-cublas-cu12-12.5.3.2:\n",
            "      Successfully uninstalled nvidia-cublas-cu12-12.5.3.2\n",
            "  Attempting uninstall: nvidia-cusparse-cu12\n",
            "    Found existing installation: nvidia-cusparse-cu12 12.5.1.3\n",
            "    Uninstalling nvidia-cusparse-cu12-12.5.1.3:\n",
            "      Successfully uninstalled nvidia-cusparse-cu12-12.5.1.3\n",
            "  Attempting uninstall: nvidia-cudnn-cu12\n",
            "    Found existing installation: nvidia-cudnn-cu12 9.3.0.75\n",
            "    Uninstalling nvidia-cudnn-cu12-9.3.0.75:\n",
            "      Successfully uninstalled nvidia-cudnn-cu12-9.3.0.75\n",
            "  Attempting uninstall: nvidia-cusolver-cu12\n",
            "    Found existing installation: nvidia-cusolver-cu12 11.6.3.83\n",
            "    Uninstalling nvidia-cusolver-cu12-11.6.3.83:\n",
            "      Successfully uninstalled nvidia-cusolver-cu12-11.6.3.83\n",
            "Successfully installed nvidia-cublas-cu12-12.4.5.8 nvidia-cuda-cupti-cu12-12.4.127 nvidia-cuda-nvrtc-cu12-12.4.127 nvidia-cuda-runtime-cu12-12.4.127 nvidia-cudnn-cu12-9.1.0.70 nvidia-cufft-cu12-11.2.1.3 nvidia-curand-cu12-10.3.5.147 nvidia-cusolver-cu12-11.6.1.9 nvidia-cusparse-cu12-12.3.1.170 nvidia-nvjitlink-cu12-12.4.127\n",
            "Requirement already satisfied: wandb in /usr/local/lib/python3.11/dist-packages (0.21.0)\n",
            "Requirement already satisfied: click!=8.0.0,>=7.1 in /usr/local/lib/python3.11/dist-packages (from wandb) (8.2.1)\n",
            "Requirement already satisfied: gitpython!=3.1.29,>=1.0.0 in /usr/local/lib/python3.11/dist-packages (from wandb) (3.1.44)\n",
            "Requirement already satisfied: packaging in /usr/local/lib/python3.11/dist-packages (from wandb) (25.0)\n",
            "Requirement already satisfied: platformdirs in /usr/local/lib/python3.11/dist-packages (from wandb) (4.3.8)\n",
            "Requirement already satisfied: protobuf!=4.21.0,!=5.28.0,<7,>=3.19.0 in /usr/local/lib/python3.11/dist-packages (from wandb) (5.29.5)\n",
            "Requirement already satisfied: pydantic<3 in /usr/local/lib/python3.11/dist-packages (from wandb) (2.11.7)\n",
            "Requirement already satisfied: pyyaml in /usr/local/lib/python3.11/dist-packages (from wandb) (6.0.2)\n",
            "Requirement already satisfied: requests<3,>=2.0.0 in /usr/local/lib/python3.11/dist-packages (from wandb) (2.32.3)\n",
            "Requirement already satisfied: sentry-sdk>=2.0.0 in /usr/local/lib/python3.11/dist-packages (from wandb) (2.33.0)\n",
            "Requirement already satisfied: typing-extensions<5,>=4.8 in /usr/local/lib/python3.11/dist-packages (from wandb) (4.14.1)\n",
            "Requirement already satisfied: gitdb<5,>=4.0.1 in /usr/local/lib/python3.11/dist-packages (from gitpython!=3.1.29,>=1.0.0->wandb) (4.0.12)\n",
            "Requirement already satisfied: annotated-types>=0.6.0 in /usr/local/lib/python3.11/dist-packages (from pydantic<3->wandb) (0.7.0)\n",
            "Requirement already satisfied: pydantic-core==2.33.2 in /usr/local/lib/python3.11/dist-packages (from pydantic<3->wandb) (2.33.2)\n",
            "Requirement already satisfied: typing-inspection>=0.4.0 in /usr/local/lib/python3.11/dist-packages (from pydantic<3->wandb) (0.4.1)\n",
            "Requirement already satisfied: charset-normalizer<4,>=2 in /usr/local/lib/python3.11/dist-packages (from requests<3,>=2.0.0->wandb) (3.4.2)\n",
            "Requirement already satisfied: idna<4,>=2.5 in /usr/local/lib/python3.11/dist-packages (from requests<3,>=2.0.0->wandb) (3.10)\n",
            "Requirement already satisfied: urllib3<3,>=1.21.1 in /usr/local/lib/python3.11/dist-packages (from requests<3,>=2.0.0->wandb) (2.4.0)\n",
            "Requirement already satisfied: certifi>=2017.4.17 in /usr/local/lib/python3.11/dist-packages (from requests<3,>=2.0.0->wandb) (2025.7.14)\n",
            "Requirement already satisfied: smmap<6,>=3.0.1 in /usr/local/lib/python3.11/dist-packages (from gitdb<5,>=4.0.1->gitpython!=3.1.29,>=1.0.0->wandb) (5.0.2)\n"
          ]
        }
      ],
      "source": [
        "# Installing the environment\n",
        "!pip install timm\n",
        "!pip install wandb"
      ]
    },
    {
      "cell_type": "code",
      "execution_count": null,
      "metadata": {
        "id": "OdjMNk-J_cnF"
      },
      "outputs": [],
      "source": [
        "SRCDIR=\"/content/drive/MyDrive/solar_PV_prediction/src/\"\n",
        "\n",
        "import os\n",
        "import sys\n",
        "sys.path.append(SRCDIR)\n",
        "\n",
        "from classify import train_main # type: ignore"
      ]
    },
    {
      "cell_type": "markdown",
      "metadata": {
        "id": "mc_bqfoqdE6c"
      },
      "source": [
        "ResNet50"
      ]
    },
    {
      "cell_type": "code",
      "execution_count": null,
      "metadata": {
        "colab": {
          "base_uri": "https://localhost:8080/",
          "height": 1000
        },
        "id": "ktZBP_E-dEDm",
        "outputId": "1cd19da1-ec6e-419d-f1cf-af720d3d0240"
      },
      "outputs": [
        {
          "name": "stdout",
          "output_type": "stream",
          "text": [
            "Training on device:  cuda\n"
          ]
        },
        {
          "data": {
            "text/html": [
              "Finishing previous runs because reinit is set to 'default'."
            ],
            "text/plain": [
              "<IPython.core.display.HTML object>"
            ]
          },
          "metadata": {},
          "output_type": "display_data"
        },
        {
          "data": {
            "text/html": [],
            "text/plain": [
              "<IPython.core.display.HTML object>"
            ]
          },
          "metadata": {},
          "output_type": "display_data"
        },
        {
          "data": {
            "text/html": [
              " View run <strong style=\"color:#cdcd00\">eager-oath-1</strong> at: <a href='https://wandb.ai/hansen_msr/Solar-PV-classification-finetuning-resnet50_25-06-22_freeze/runs/ywq27264' target=\"_blank\">https://wandb.ai/hansen_msr/Solar-PV-classification-finetuning-resnet50_25-06-22_freeze/runs/ywq27264</a><br> View project at: <a href='https://wandb.ai/hansen_msr/Solar-PV-classification-finetuning-resnet50_25-06-22_freeze' target=\"_blank\">https://wandb.ai/hansen_msr/Solar-PV-classification-finetuning-resnet50_25-06-22_freeze</a><br>Synced 5 W&B file(s), 0 media file(s), 0 artifact file(s) and 0 other file(s)"
            ],
            "text/plain": [
              "<IPython.core.display.HTML object>"
            ]
          },
          "metadata": {},
          "output_type": "display_data"
        },
        {
          "data": {
            "text/html": [
              "Find logs at: <code>./wandb/run-20250622_035330-ywq27264/logs</code>"
            ],
            "text/plain": [
              "<IPython.core.display.HTML object>"
            ]
          },
          "metadata": {},
          "output_type": "display_data"
        },
        {
          "data": {
            "text/html": [
              "Tracking run with wandb version 0.20.1"
            ],
            "text/plain": [
              "<IPython.core.display.HTML object>"
            ]
          },
          "metadata": {},
          "output_type": "display_data"
        },
        {
          "data": {
            "text/html": [
              "Run data is saved locally in <code>/content/wandb/run-20250622_035836-hwc3gosv</code>"
            ],
            "text/plain": [
              "<IPython.core.display.HTML object>"
            ]
          },
          "metadata": {},
          "output_type": "display_data"
        },
        {
          "data": {
            "text/html": [
              "Syncing run <strong><a href='https://wandb.ai/hansen_msr/Solar-PV-classification-finetuning-resnet50_25-06-22_freeze/runs/hwc3gosv' target=\"_blank\">pretty-spaceship-2</a></strong> to <a href='https://wandb.ai/hansen_msr/Solar-PV-classification-finetuning-resnet50_25-06-22_freeze' target=\"_blank\">Weights & Biases</a> (<a href='https://wandb.me/developer-guide' target=\"_blank\">docs</a>)<br>"
            ],
            "text/plain": [
              "<IPython.core.display.HTML object>"
            ]
          },
          "metadata": {},
          "output_type": "display_data"
        },
        {
          "data": {
            "text/html": [
              " View project at <a href='https://wandb.ai/hansen_msr/Solar-PV-classification-finetuning-resnet50_25-06-22_freeze' target=\"_blank\">https://wandb.ai/hansen_msr/Solar-PV-classification-finetuning-resnet50_25-06-22_freeze</a>"
            ],
            "text/plain": [
              "<IPython.core.display.HTML object>"
            ]
          },
          "metadata": {},
          "output_type": "display_data"
        },
        {
          "data": {
            "text/html": [
              " View run at <a href='https://wandb.ai/hansen_msr/Solar-PV-classification-finetuning-resnet50_25-06-22_freeze/runs/hwc3gosv' target=\"_blank\">https://wandb.ai/hansen_msr/Solar-PV-classification-finetuning-resnet50_25-06-22_freeze/runs/hwc3gosv</a>"
            ],
            "text/plain": [
              "<IPython.core.display.HTML object>"
            ]
          },
          "metadata": {},
          "output_type": "display_data"
        },
        {
          "name": "stdout",
          "output_type": "stream",
          "text": [
            "Setting image size to  518\n",
            "The number of trainable parameters:  2049\n"
          ]
        },
        {
          "name": "stderr",
          "output_type": "stream",
          "text": [
            "/usr/local/lib/python3.11/dist-packages/torch/utils/data/dataloader.py:624: UserWarning: This DataLoader will create 30 worker processes in total. Our suggested max number of worker in current system is 12, which is smaller than what this DataLoader is going to create. Please be aware that excessive worker creation might get DataLoader running slow or even freeze, lower the worker number to avoid potential slowness/freeze if necessary.\n",
            "  warnings.warn(\n",
            "/content/drive/MyDrive/solar_PV_prediction/src/classify.py:183: FutureWarning: `torch.cuda.amp.GradScaler(args...)` is deprecated. Please use `torch.amp.GradScaler('cuda', args...)` instead.\n",
            "  fp16_scaler = torch.cuda.amp.GradScaler()\n",
            "Training for one epoch:   0%|          | 0/6957 [00:00<?, ?it/s]/content/drive/MyDrive/solar_PV_prediction/src/classify.py:195: FutureWarning: `torch.cuda.amp.autocast(args...)` is deprecated. Please use `torch.amp.autocast('cuda', args...)` instead.\n",
            "  with torch.cuda.amp.autocast(dtype=torch.float16):\n",
            "Training for one epoch: 100%|██████████| 6957/6957 [7:04:47<00:00,  3.66s/it, loss=0.18, lr=0.01]\n"
          ]
        },
        {
          "name": "stdout",
          "output_type": "stream",
          "text": [
            "Epoch 1/5, Training Loss: 0.1051, Validation Loss: 0.1012\n",
            "Accuracy: 0.9696, Balanced Accuracy: 0.7900, AUROC: 0.9339, AUPRC: 0.6717, Precision: 0.6120, Recall: 0.5953\n"
          ]
        },
        {
          "name": "stderr",
          "output_type": "stream",
          "text": [
            "Training for one epoch:   0%|          | 0/6957 [00:00<?, ?it/s]/usr/local/lib/python3.11/dist-packages/torch/utils/data/dataloader.py:624: UserWarning: This DataLoader will create 30 worker processes in total. Our suggested max number of worker in current system is 12, which is smaller than what this DataLoader is going to create. Please be aware that excessive worker creation might get DataLoader running slow or even freeze, lower the worker number to avoid potential slowness/freeze if necessary.\n",
            "  warnings.warn(\n",
            "/content/drive/MyDrive/solar_PV_prediction/src/classify.py:195: FutureWarning: `torch.cuda.amp.autocast(args...)` is deprecated. Please use `torch.amp.autocast('cuda', args...)` instead.\n",
            "  with torch.cuda.amp.autocast(dtype=torch.float16):\n",
            "Training for one epoch: 100%|██████████| 6957/6957 [2:21:55<00:00,  1.22s/it, loss=0.0642, lr=0.00854]\n"
          ]
        },
        {
          "name": "stdout",
          "output_type": "stream",
          "text": [
            "Epoch 2/5, Training Loss: 0.0766, Validation Loss: 0.0933\n",
            "Accuracy: 0.9714, Balanced Accuracy: 0.7959, AUROC: 0.9399, AUPRC: 0.6969, Precision: 0.6394, Recall: 0.6057\n"
          ]
        },
        {
          "name": "stderr",
          "output_type": "stream",
          "text": [
            "Training for one epoch:   0%|          | 0/6957 [00:00<?, ?it/s]/usr/local/lib/python3.11/dist-packages/torch/utils/data/dataloader.py:624: UserWarning: This DataLoader will create 30 worker processes in total. Our suggested max number of worker in current system is 12, which is smaller than what this DataLoader is going to create. Please be aware that excessive worker creation might get DataLoader running slow or even freeze, lower the worker number to avoid potential slowness/freeze if necessary.\n",
            "  warnings.warn(\n",
            "/content/drive/MyDrive/solar_PV_prediction/src/classify.py:195: FutureWarning: `torch.cuda.amp.autocast(args...)` is deprecated. Please use `torch.amp.autocast('cuda', args...)` instead.\n",
            "  with torch.cuda.amp.autocast(dtype=torch.float16):\n",
            "Training for one epoch: 100%|██████████| 6957/6957 [2:22:37<00:00,  1.23s/it, loss=0.0429, lr=0.005]\n"
          ]
        },
        {
          "name": "stdout",
          "output_type": "stream",
          "text": [
            "Epoch 3/5, Training Loss: 0.0750, Validation Loss: 0.0927\n",
            "Accuracy: 0.9718, Balanced Accuracy: 0.7944, AUROC: 0.9394, AUPRC: 0.6954, Precision: 0.6473, Recall: 0.6020\n"
          ]
        },
        {
          "name": "stderr",
          "output_type": "stream",
          "text": [
            "\rTraining for one epoch:   0%|          | 0/6957 [00:00<?, ?it/s]/usr/local/lib/python3.11/dist-packages/torch/utils/data/dataloader.py:624: UserWarning: This DataLoader will create 30 worker processes in total. Our suggested max number of worker in current system is 12, which is smaller than what this DataLoader is going to create. Please be aware that excessive worker creation might get DataLoader running slow or even freeze, lower the worker number to avoid potential slowness/freeze if necessary.\n",
            "  warnings.warn(\n",
            "/content/drive/MyDrive/solar_PV_prediction/src/classify.py:195: FutureWarning: `torch.cuda.amp.autocast(args...)` is deprecated. Please use `torch.amp.autocast('cuda', args...)` instead.\n",
            "  with torch.cuda.amp.autocast(dtype=torch.float16):\n",
            "Training for one epoch: 100%|██████████| 6957/6957 [2:22:51<00:00,  1.23s/it, loss=0.0202, lr=0.00147]\n"
          ]
        },
        {
          "name": "stdout",
          "output_type": "stream",
          "text": [
            "Epoch 4/5, Training Loss: 0.0731, Validation Loss: 0.0928\n",
            "Accuracy: 0.9716, Balanced Accuracy: 0.7957, AUROC: 0.9408, AUPRC: 0.6985, Precision: 0.6435, Recall: 0.6049\n"
          ]
        },
        {
          "name": "stderr",
          "output_type": "stream",
          "text": [
            "\rTraining for one epoch:   0%|          | 0/6957 [00:00<?, ?it/s]/usr/local/lib/python3.11/dist-packages/torch/utils/data/dataloader.py:624: UserWarning: This DataLoader will create 30 worker processes in total. Our suggested max number of worker in current system is 12, which is smaller than what this DataLoader is going to create. Please be aware that excessive worker creation might get DataLoader running slow or even freeze, lower the worker number to avoid potential slowness/freeze if necessary.\n",
            "  warnings.warn(\n",
            "/content/drive/MyDrive/solar_PV_prediction/src/classify.py:195: FutureWarning: `torch.cuda.amp.autocast(args...)` is deprecated. Please use `torch.amp.autocast('cuda', args...)` instead.\n",
            "  with torch.cuda.amp.autocast(dtype=torch.float16):\n",
            "Training for one epoch: 100%|██████████| 6957/6957 [2:22:52<00:00,  1.23s/it, loss=0.0245, lr=1e-6]\n"
          ]
        },
        {
          "name": "stdout",
          "output_type": "stream",
          "text": [
            "Epoch 5/5, Training Loss: 0.0724, Validation Loss: 0.0936\n",
            "Accuracy: 0.9717, Balanced Accuracy: 0.7961, AUROC: 0.9396, AUPRC: 0.6970, Precision: 0.6449, Recall: 0.6057\n"
          ]
        },
        {
          "name": "stderr",
          "output_type": "stream",
          "text": [
            "\r  0%|          | 0/16 [00:00<?, ?it/s]/usr/local/lib/python3.11/dist-packages/torch/utils/data/dataloader.py:624: UserWarning: This DataLoader will create 30 worker processes in total. Our suggested max number of worker in current system is 12, which is smaller than what this DataLoader is going to create. Please be aware that excessive worker creation might get DataLoader running slow or even freeze, lower the worker number to avoid potential slowness/freeze if necessary.\n",
            "  warnings.warn(\n",
            "/content/drive/MyDrive/solar_PV_prediction/src/classify.py:247: FutureWarning: `torch.cuda.amp.autocast(args...)` is deprecated. Please use `torch.amp.autocast('cuda', args...)` instead.\n",
            "  with torch.cuda.amp.autocast(dtype=torch.float16):\n",
            "100%|██████████| 16/16 [00:52<00:00,  3.28s/it]\n"
          ]
        },
        {
          "name": "stdout",
          "output_type": "stream",
          "text": [
            "Accuracy: 0.2185, Balanced Accuracy: 0.5561 AUROC: 0.7030, AUPRC: 0.1847, Precision: 0.1245, Recall: 0.9911\n"
          ]
        }
      ],
      "source": [
        "dataset_dir = \"/content/drive/MyDrive/solar_PV_prediction/src/dataset_csv/classification\"\n",
        "# dataset_dir = \"/content/drive/MyDrive/solar_PV_prediction/src/dataset_csv_20241019/classification/seattle\"\n",
        "image_size=518\n",
        "batch_size = 128\n",
        "lr = 0.01\n",
        "opt = \"AdamW\"\n",
        "training_ratio = 1\n",
        "epochs = 5\n",
        "weight_decay = 0.001\n",
        "# resume_ckpt = \"/content/drive/MyDrive/solar_PV_prediction/outputs/12.9_classification_stage1/vit_large_patch14_dinov2_lvd142m_24-12-13_freeze/model_8.pth\" # Resume the previous checkpointing\n",
        "resume_ckpt = \"\"\n",
        "freeze_backbone = True\n",
        "model_name=\"resnet50\"\n",
        "exp_name = \"freeze\"\n",
        "country = \"All\"\n",
        "save_dir = os.path.join(\"/content/drive/MyDrive/solar_PV_prediction/outputs/May_classification_stage1_lr_{}_bsz_{}_opt_{}_ration_{}_country_{}\".format(lr, batch_size, opt, training_ratio, country))\n",
        "# save_dir = os.path.join(\"/content/drive/MyDrive/solar_PV_prediction/outputs/classification_stage2\")\n",
        "os.makedirs(save_dir, exist_ok=True)\n",
        "train_main(dataset_dir,\n",
        "           image_size=image_size,\n",
        "           batch_size=batch_size,\n",
        "           lr=lr, weight_decay=weight_decay,\n",
        "           epochs=epochs,\n",
        "           model_name=model_name,\n",
        "           save_dir=save_dir,\n",
        "           resume_ckpt=resume_ckpt,\n",
        "           freeze_backbone=freeze_backbone,\n",
        "           exp_name=exp_name,\n",
        "           opt = opt,\n",
        "           training_ratio = training_ratio,\n",
        "           country=country)"
      ]
    },
    {
      "cell_type": "markdown",
      "metadata": {
        "id": "xelqFS4bgSeW"
      },
      "source": [
        "ResNet-34"
      ]
    },
    {
      "cell_type": "code",
      "execution_count": null,
      "metadata": {
        "id": "Kj3XCQQogTrX"
      },
      "outputs": [],
      "source": [
        "dataset_dir = \"/content/drive/MyDrive/solar_PV_prediction/src/dataset_csv_20241019/classification\"\n",
        "# dataset_dir = \"/content/drive/MyDrive/solar_PV_prediction/src/dataset_csv_20241019/classification/seattle\"\n",
        "image_size=518\n",
        "batch_size = 128\n",
        "# lr = 0.001\n",
        "lr = 0.0002\n",
        "epochs = 2\n",
        "resume_ckpt = \"\" # Resume the previous checkpointing\n",
        "freeze_backbone = False\n",
        "model_name=\"resnet34.a1_in1k\"\n",
        "exp_name = \"fully\"\n",
        "# model_name=\"vit_base_patch14_dinov2.lvd142m\"\n",
        "# model_name=\"vit_small_patch14_dinov2.lvd142m\"\n",
        "# model_name=\"convnextv2_huge.fcmae_ft_in22k_in1k_512\"\n",
        "# model_name=\"resnet34\"\n",
        "save_dir = os.path.join(\"/content/drive/MyDrive/solar_PV_prediction/outputs/classification_stage1\")\n",
        "# save_dir = os.path.join(\"/content/drive/MyDrive/solar_PV_prediction/outputs/classification_stage2\")\n",
        "os.makedirs(save_dir, exist_ok=True)\n",
        "train_main(dataset_dir, image_size=image_size, batch_size=batch_size, lr=lr, epochs=epochs, model_name=model_name, save_dir=save_dir, resume_ckpt=resume_ckpt, exp_name=exp_name, freeze_backbone=freeze_backbone)"
      ]
    },
    {
      "cell_type": "markdown",
      "metadata": {
        "id": "EocImKO6dGXi"
      },
      "source": [
        "openclip"
      ]
    },
    {
      "cell_type": "code",
      "execution_count": null,
      "metadata": {
        "id": "yFseCweFdHhm"
      },
      "outputs": [],
      "source": [
        "dataset_dir = \"/content/drive/MyDrive/solar_PV_prediction/src/dataset_csv_20241019/classification\"\n",
        "# dataset_dir = \"/content/drive/MyDrive/solar_PV_prediction/src/dataset_csv_20241019/classification/seattle\"\n",
        "image_size=224\n",
        "batch_size = 512\n",
        "lr = 0.0002\n",
        "epochs = 2\n",
        "weight_decay = 0.001\n",
        "resume_ckpt = \"\" # Resume the previous checkpointing\n",
        "freeze_backbone = True\n",
        "# model_name=\"resnet50\"\n",
        "# model_name=\"vit_base_patch14_dinov2.lvd142m\"\n",
        "model_name=\"timm/vit_large_patch14_clip_224.openai\"\n",
        "exp_name = \"aug2\"\n",
        "# model_name=\"vit_large_patch14_dinov2.lvd142m\"\n",
        "# model_name=\"convnextv2_huge.fcmae_ft_in22k_in1k_512\"\n",
        "# model_name=\"resnet34\"\n",
        "save_dir = os.path.join(\"/content/drive/MyDrive/solar_PV_prediction/outputs/classification_stage1\")\n",
        "# save_dir = os.path.join(\"/content/drive/MyDrive/solar_PV_prediction/outputs/classification_stage2\")\n",
        "os.makedirs(save_dir, exist_ok=True)\n",
        "train_main(dataset_dir,\n",
        "           image_size=image_size,\n",
        "           batch_size=batch_size,\n",
        "           lr=lr, weight_decay=weight_decay,\n",
        "           epochs=epochs,\n",
        "           model_name=model_name,\n",
        "           save_dir=save_dir,\n",
        "           resume_ckpt=resume_ckpt,\n",
        "           freeze_backbone=freeze_backbone,\n",
        "           exp_name=exp_name)"
      ]
    },
    {
      "cell_type": "markdown",
      "metadata": {
        "id": "XpoIzo6KcN3E"
      },
      "source": [
        "dinov2 large model"
      ]
    },
    {
      "cell_type": "code",
      "execution_count": null,
      "metadata": {
        "colab": {
          "base_uri": "https://localhost:8080/",
          "height": 1000,
          "referenced_widgets": [
            "555dd48e6bf5491f8f40142cc4f4aa0a",
            "1da81162d92345049c14b586afe5f6c8",
            "d517631b1102471bbd6645ceb9121998",
            "d946503919d44e7d8a91c7fa49c71abf",
            "b7b4d54d7e1d4cb2bb065ccf8fcf731c",
            "a3c7149ed2574a07b087124a9b08e14c",
            "28755ac11b3d484bb416b681c77c4707",
            "951b37c828f04c64b81c91378b36c0a5",
            "7b76074b5ec946f9aef5245d8d60c61f",
            "196e3e631f67479485240712c5cf616c",
            "0761b8cdf8e74e3ea9f9733825de2ff9"
          ]
        },
        "id": "n9w_tNwqEgJ6",
        "outputId": "e0dfe887-5d67-43cf-c29b-536c1cf1c827"
      },
      "outputs": [
        {
          "name": "stdout",
          "output_type": "stream",
          "text": [
            "Training on device:  cuda\n"
          ]
        },
        {
          "data": {
            "application/javascript": [
              "\n",
              "        window._wandbApiKey = new Promise((resolve, reject) => {\n",
              "            function loadScript(url) {\n",
              "            return new Promise(function(resolve, reject) {\n",
              "                let newScript = document.createElement(\"script\");\n",
              "                newScript.onerror = reject;\n",
              "                newScript.onload = resolve;\n",
              "                document.body.appendChild(newScript);\n",
              "                newScript.src = url;\n",
              "            });\n",
              "            }\n",
              "            loadScript(\"https://cdn.jsdelivr.net/npm/postmate/build/postmate.min.js\").then(() => {\n",
              "            const iframe = document.createElement('iframe')\n",
              "            iframe.style.cssText = \"width:0;height:0;border:none\"\n",
              "            document.body.appendChild(iframe)\n",
              "            const handshake = new Postmate({\n",
              "                container: iframe,\n",
              "                url: 'https://wandb.ai/authorize'\n",
              "            });\n",
              "            const timeout = setTimeout(() => reject(\"Couldn't auto authenticate\"), 5000)\n",
              "            handshake.then(function(child) {\n",
              "                child.on('authorize', data => {\n",
              "                    clearTimeout(timeout)\n",
              "                    resolve(data)\n",
              "                });\n",
              "            });\n",
              "            })\n",
              "        });\n",
              "    "
            ],
            "text/plain": [
              "<IPython.core.display.Javascript object>"
            ]
          },
          "metadata": {},
          "output_type": "display_data"
        },
        {
          "name": "stderr",
          "output_type": "stream",
          "text": [
            "\u001b[34m\u001b[1mwandb\u001b[0m: \u001b[33mWARNING\u001b[0m If you're specifying your api key in code, ensure this code is not shared publicly.\n",
            "\u001b[34m\u001b[1mwandb\u001b[0m: \u001b[33mWARNING\u001b[0m Consider setting the WANDB_API_KEY environment variable, or running `wandb login` from the command line.\n",
            "\u001b[34m\u001b[1mwandb\u001b[0m: No netrc file found, creating one.\n",
            "\u001b[34m\u001b[1mwandb\u001b[0m: Appending key for api.wandb.ai to your netrc file: /root/.netrc\n",
            "\u001b[34m\u001b[1mwandb\u001b[0m: Currently logged in as: \u001b[33mpeijinjiang1201\u001b[0m (\u001b[33mhansen_msr\u001b[0m) to \u001b[32mhttps://api.wandb.ai\u001b[0m. Use \u001b[1m`wandb login --relogin`\u001b[0m to force relogin\n"
          ]
        },
        {
          "data": {
            "text/html": [
              "Tracking run with wandb version 0.20.1"
            ],
            "text/plain": [
              "<IPython.core.display.HTML object>"
            ]
          },
          "metadata": {},
          "output_type": "display_data"
        },
        {
          "data": {
            "text/html": [
              "Run data is saved locally in <code>/content/wandb/run-20250620_054029-fy40ofb3</code>"
            ],
            "text/plain": [
              "<IPython.core.display.HTML object>"
            ]
          },
          "metadata": {},
          "output_type": "display_data"
        },
        {
          "data": {
            "text/html": [
              "Syncing run <strong><a href='https://wandb.ai/hansen_msr/Solar-PV-classification-finetuning-vit_large_patch14_dinov2_lvd142m_25-06-20_freeze/runs/fy40ofb3' target=\"_blank\">stoic-leaf-11</a></strong> to <a href='https://wandb.ai/hansen_msr/Solar-PV-classification-finetuning-vit_large_patch14_dinov2_lvd142m_25-06-20_freeze' target=\"_blank\">Weights & Biases</a> (<a href='https://wandb.me/developer-guide' target=\"_blank\">docs</a>)<br>"
            ],
            "text/plain": [
              "<IPython.core.display.HTML object>"
            ]
          },
          "metadata": {},
          "output_type": "display_data"
        },
        {
          "data": {
            "text/html": [
              " View project at <a href='https://wandb.ai/hansen_msr/Solar-PV-classification-finetuning-vit_large_patch14_dinov2_lvd142m_25-06-20_freeze' target=\"_blank\">https://wandb.ai/hansen_msr/Solar-PV-classification-finetuning-vit_large_patch14_dinov2_lvd142m_25-06-20_freeze</a>"
            ],
            "text/plain": [
              "<IPython.core.display.HTML object>"
            ]
          },
          "metadata": {},
          "output_type": "display_data"
        },
        {
          "data": {
            "text/html": [
              " View run at <a href='https://wandb.ai/hansen_msr/Solar-PV-classification-finetuning-vit_large_patch14_dinov2_lvd142m_25-06-20_freeze/runs/fy40ofb3' target=\"_blank\">https://wandb.ai/hansen_msr/Solar-PV-classification-finetuning-vit_large_patch14_dinov2_lvd142m_25-06-20_freeze/runs/fy40ofb3</a>"
            ],
            "text/plain": [
              "<IPython.core.display.HTML object>"
            ]
          },
          "metadata": {},
          "output_type": "display_data"
        },
        {
          "name": "stderr",
          "output_type": "stream",
          "text": [
            "/usr/local/lib/python3.11/dist-packages/huggingface_hub/utils/_auth.py:94: UserWarning: \n",
            "The secret `HF_TOKEN` does not exist in your Colab secrets.\n",
            "To authenticate with the Hugging Face Hub, create a token in your settings tab (https://huggingface.co/settings/tokens), set it as secret in your Google Colab and restart your session.\n",
            "You will be able to reuse this secret in all of your notebooks.\n",
            "Please note that authentication is recommended but still optional to access public models or datasets.\n",
            "  warnings.warn(\n"
          ]
        },
        {
          "data": {
            "application/vnd.jupyter.widget-view+json": {
              "model_id": "555dd48e6bf5491f8f40142cc4f4aa0a",
              "version_major": 2,
              "version_minor": 0
            },
            "text/plain": [
              "model.safetensors:   0%|          | 0.00/1.22G [00:00<?, ?B/s]"
            ]
          },
          "metadata": {},
          "output_type": "display_data"
        },
        {
          "name": "stdout",
          "output_type": "stream",
          "text": [
            "The number of trainable parameters:  1025\n"
          ]
        },
        {
          "name": "stderr",
          "output_type": "stream",
          "text": [
            "/usr/local/lib/python3.11/dist-packages/torch/utils/data/dataloader.py:624: UserWarning: This DataLoader will create 30 worker processes in total. Our suggested max number of worker in current system is 12, which is smaller than what this DataLoader is going to create. Please be aware that excessive worker creation might get DataLoader running slow or even freeze, lower the worker number to avoid potential slowness/freeze if necessary.\n",
            "  warnings.warn(\n",
            "/content/drive/MyDrive/solar_PV_prediction/src/classify.py:183: FutureWarning: `torch.cuda.amp.GradScaler(args...)` is deprecated. Please use `torch.amp.GradScaler('cuda', args...)` instead.\n",
            "  fp16_scaler = torch.cuda.amp.GradScaler()\n",
            "Training for one epoch:   0%|          | 0/165 [00:00<?, ?it/s]/content/drive/MyDrive/solar_PV_prediction/src/classify.py:195: FutureWarning: `torch.cuda.amp.autocast(args...)` is deprecated. Please use `torch.amp.autocast('cuda', args...)` instead.\n",
            "  with torch.cuda.amp.autocast(dtype=torch.float16):\n",
            "Training for one epoch: 100%|██████████| 165/165 [13:29<00:00,  4.91s/it, loss=0.0483, lr=0.00994]\n"
          ]
        },
        {
          "name": "stdout",
          "output_type": "stream",
          "text": [
            "[Errno 5] Input/output error: '/content/drive/MyDrive/solar_PV/data/France/ign_all/img/CCCDZ1044QJSUN.png'\n",
            "[Errno 5] Input/output error: '/content/drive/MyDrive/solar_PV/data/France/google_all/img/EBFJE2955EFZUK.png'\n",
            "[Errno 5] Input/output error: '/content/drive/MyDrive/solar_PV/data/France/google_all/img/EDVPY1D75QQYQT.png'\n",
            "[Errno 5] Input/output error: '/content/drive/MyDrive/solar_PV/data/France/google_all/img/PPBZR7F8CBPCMS.png'\n",
            "Epoch 1/10, Training Loss: 0.1771, Validation Loss: 0.1573\n",
            "Accuracy: 0.9629, Balanced Accuracy: 0.5461, AUROC: 0.7199, AUPRC: 0.2074, Precision: 0.6630, Recall: 0.0941\n"
          ]
        },
        {
          "name": "stderr",
          "output_type": "stream",
          "text": [
            "\rTraining for one epoch:   0%|          | 0/165 [00:00<?, ?it/s]/usr/local/lib/python3.11/dist-packages/torch/utils/data/dataloader.py:624: UserWarning: This DataLoader will create 30 worker processes in total. Our suggested max number of worker in current system is 12, which is smaller than what this DataLoader is going to create. Please be aware that excessive worker creation might get DataLoader running slow or even freeze, lower the worker number to avoid potential slowness/freeze if necessary.\n",
            "  warnings.warn(\n",
            "/content/drive/MyDrive/solar_PV_prediction/src/classify.py:195: FutureWarning: `torch.cuda.amp.autocast(args...)` is deprecated. Please use `torch.amp.autocast('cuda', args...)` instead.\n",
            "  with torch.cuda.amp.autocast(dtype=torch.float16):\n",
            "Training for one epoch: 100%|██████████| 165/165 [04:27<00:00,  1.62s/it, loss=0.0937, lr=0.0097]\n"
          ]
        },
        {
          "name": "stdout",
          "output_type": "stream",
          "text": [
            "Epoch 2/10, Training Loss: 0.1233, Validation Loss: 0.1289\n",
            "Accuracy: 0.9640, Balanced Accuracy: 0.5786, AUROC: 0.8454, AUPRC: 0.3288, Precision: 0.6492, Recall: 0.1606\n"
          ]
        },
        {
          "name": "stderr",
          "output_type": "stream",
          "text": [
            "\rTraining for one epoch:   0%|          | 0/165 [00:00<?, ?it/s]/usr/local/lib/python3.11/dist-packages/torch/utils/data/dataloader.py:624: UserWarning: This DataLoader will create 30 worker processes in total. Our suggested max number of worker in current system is 12, which is smaller than what this DataLoader is going to create. Please be aware that excessive worker creation might get DataLoader running slow or even freeze, lower the worker number to avoid potential slowness/freeze if necessary.\n",
            "  warnings.warn(\n",
            "/content/drive/MyDrive/solar_PV_prediction/src/classify.py:195: FutureWarning: `torch.cuda.amp.autocast(args...)` is deprecated. Please use `torch.amp.autocast('cuda', args...)` instead.\n",
            "  with torch.cuda.amp.autocast(dtype=torch.float16):\n",
            "Training for one epoch: 100%|██████████| 165/165 [04:30<00:00,  1.64s/it, loss=0.0264, lr=0.00884]\n"
          ]
        },
        {
          "name": "stdout",
          "output_type": "stream",
          "text": [
            "Epoch 3/10, Training Loss: 0.1090, Validation Loss: 0.1237\n",
            "Accuracy: 0.9652, Balanced Accuracy: 0.5923, AUROC: 0.8703, AUPRC: 0.3707, Precision: 0.6919, Recall: 0.1879\n"
          ]
        },
        {
          "name": "stderr",
          "output_type": "stream",
          "text": [
            "\rTraining for one epoch:   0%|          | 0/165 [00:00<?, ?it/s]/usr/local/lib/python3.11/dist-packages/torch/utils/data/dataloader.py:624: UserWarning: This DataLoader will create 30 worker processes in total. Our suggested max number of worker in current system is 12, which is smaller than what this DataLoader is going to create. Please be aware that excessive worker creation might get DataLoader running slow or even freeze, lower the worker number to avoid potential slowness/freeze if necessary.\n",
            "  warnings.warn(\n",
            "/content/drive/MyDrive/solar_PV_prediction/src/classify.py:195: FutureWarning: `torch.cuda.amp.autocast(args...)` is deprecated. Please use `torch.amp.autocast('cuda', args...)` instead.\n",
            "  with torch.cuda.amp.autocast(dtype=torch.float16):\n",
            "Training for one epoch: 100%|██████████| 165/165 [04:29<00:00,  1.63s/it, loss=0.00203, lr=0.00751]\n"
          ]
        },
        {
          "name": "stdout",
          "output_type": "stream",
          "text": [
            "Epoch 4/10, Training Loss: 0.1081, Validation Loss: 0.1712\n",
            "Accuracy: 0.9625, Balanced Accuracy: 0.5370, AUROC: 0.8562, AUPRC: 0.2674, Precision: 0.6510, Recall: 0.0756\n"
          ]
        },
        {
          "name": "stderr",
          "output_type": "stream",
          "text": [
            "\rTraining for one epoch:   0%|          | 0/165 [00:00<?, ?it/s]/usr/local/lib/python3.11/dist-packages/torch/utils/data/dataloader.py:624: UserWarning: This DataLoader will create 30 worker processes in total. Our suggested max number of worker in current system is 12, which is smaller than what this DataLoader is going to create. Please be aware that excessive worker creation might get DataLoader running slow or even freeze, lower the worker number to avoid potential slowness/freeze if necessary.\n",
            "  warnings.warn(\n",
            "/content/drive/MyDrive/solar_PV_prediction/src/classify.py:195: FutureWarning: `torch.cuda.amp.autocast(args...)` is deprecated. Please use `torch.amp.autocast('cuda', args...)` instead.\n",
            "  with torch.cuda.amp.autocast(dtype=torch.float16):\n",
            "Training for one epoch: 100%|██████████| 165/165 [04:29<00:00,  1.63s/it, loss=0.164, lr=0.00588]\n"
          ]
        },
        {
          "name": "stdout",
          "output_type": "stream",
          "text": [
            "Epoch 5/10, Training Loss: 0.1062, Validation Loss: 0.1208\n",
            "Accuracy: 0.9643, Balanced Accuracy: 0.6565, AUROC: 0.8808, AUPRC: 0.4164, Precision: 0.5721, Recall: 0.3228\n"
          ]
        },
        {
          "name": "stderr",
          "output_type": "stream",
          "text": [
            "\rTraining for one epoch:   0%|          | 0/165 [00:00<?, ?it/s]/usr/local/lib/python3.11/dist-packages/torch/utils/data/dataloader.py:624: UserWarning: This DataLoader will create 30 worker processes in total. Our suggested max number of worker in current system is 12, which is smaller than what this DataLoader is going to create. Please be aware that excessive worker creation might get DataLoader running slow or even freeze, lower the worker number to avoid potential slowness/freeze if necessary.\n",
            "  warnings.warn(\n",
            "/content/drive/MyDrive/solar_PV_prediction/src/classify.py:195: FutureWarning: `torch.cuda.amp.autocast(args...)` is deprecated. Please use `torch.amp.autocast('cuda', args...)` instead.\n",
            "  with torch.cuda.amp.autocast(dtype=torch.float16):\n",
            "Training for one epoch: 100%|██████████| 165/165 [04:25<00:00,  1.61s/it, loss=0.00817, lr=0.00414]\n"
          ]
        },
        {
          "name": "stdout",
          "output_type": "stream",
          "text": [
            "Epoch 6/10, Training Loss: 0.1052, Validation Loss: 0.1209\n",
            "Accuracy: 0.9658, Balanced Accuracy: 0.6102, AUROC: 0.8850, AUPRC: 0.4017, Precision: 0.6857, Recall: 0.2246\n"
          ]
        },
        {
          "name": "stderr",
          "output_type": "stream",
          "text": [
            "\rTraining for one epoch:   0%|          | 0/165 [00:00<?, ?it/s]/usr/local/lib/python3.11/dist-packages/torch/utils/data/dataloader.py:624: UserWarning: This DataLoader will create 30 worker processes in total. Our suggested max number of worker in current system is 12, which is smaller than what this DataLoader is going to create. Please be aware that excessive worker creation might get DataLoader running slow or even freeze, lower the worker number to avoid potential slowness/freeze if necessary.\n",
            "  warnings.warn(\n",
            "/content/drive/MyDrive/solar_PV_prediction/src/classify.py:195: FutureWarning: `torch.cuda.amp.autocast(args...)` is deprecated. Please use `torch.amp.autocast('cuda', args...)` instead.\n",
            "  with torch.cuda.amp.autocast(dtype=torch.float16):\n",
            "Training for one epoch: 100%|██████████| 165/165 [04:32<00:00,  1.65s/it, loss=0.111, lr=0.00251]\n"
          ]
        },
        {
          "name": "stdout",
          "output_type": "stream",
          "text": [
            "Epoch 7/10, Training Loss: 0.0966, Validation Loss: 0.1251\n",
            "Accuracy: 0.9624, Balanced Accuracy: 0.6246, AUROC: 0.8754, AUPRC: 0.3668, Precision: 0.5335, Recall: 0.2584\n"
          ]
        },
        {
          "name": "stderr",
          "output_type": "stream",
          "text": [
            "\rTraining for one epoch:   0%|          | 0/165 [00:00<?, ?it/s]/usr/local/lib/python3.11/dist-packages/torch/utils/data/dataloader.py:624: UserWarning: This DataLoader will create 30 worker processes in total. Our suggested max number of worker in current system is 12, which is smaller than what this DataLoader is going to create. Please be aware that excessive worker creation might get DataLoader running slow or even freeze, lower the worker number to avoid potential slowness/freeze if necessary.\n",
            "  warnings.warn(\n",
            "/content/drive/MyDrive/solar_PV_prediction/src/classify.py:195: FutureWarning: `torch.cuda.amp.autocast(args...)` is deprecated. Please use `torch.amp.autocast('cuda', args...)` instead.\n",
            "  with torch.cuda.amp.autocast(dtype=torch.float16):\n",
            "Training for one epoch: 100%|██████████| 165/165 [04:32<00:00,  1.65s/it, loss=0.158, lr=0.00118]\n"
          ]
        },
        {
          "name": "stdout",
          "output_type": "stream",
          "text": [
            "Epoch 8/10, Training Loss: 0.0919, Validation Loss: 0.1070\n",
            "Accuracy: 0.9674, Balanced Accuracy: 0.6840, AUROC: 0.9079, AUPRC: 0.4988, Precision: 0.6358, Recall: 0.3767\n"
          ]
        },
        {
          "name": "stderr",
          "output_type": "stream",
          "text": [
            "\rTraining for one epoch:   0%|          | 0/165 [00:00<?, ?it/s]/usr/local/lib/python3.11/dist-packages/torch/utils/data/dataloader.py:624: UserWarning: This DataLoader will create 30 worker processes in total. Our suggested max number of worker in current system is 12, which is smaller than what this DataLoader is going to create. Please be aware that excessive worker creation might get DataLoader running slow or even freeze, lower the worker number to avoid potential slowness/freeze if necessary.\n",
            "  warnings.warn(\n",
            "/content/drive/MyDrive/solar_PV_prediction/src/classify.py:195: FutureWarning: `torch.cuda.amp.autocast(args...)` is deprecated. Please use `torch.amp.autocast('cuda', args...)` instead.\n",
            "  with torch.cuda.amp.autocast(dtype=torch.float16):\n",
            "Training for one epoch: 100%|██████████| 165/165 [04:32<00:00,  1.65s/it, loss=0.182, lr=0.000306]\n"
          ]
        },
        {
          "name": "stdout",
          "output_type": "stream",
          "text": [
            "Epoch 9/10, Training Loss: 0.0883, Validation Loss: 0.1052\n",
            "Accuracy: 0.9681, Balanced Accuracy: 0.6656, AUROC: 0.9072, AUPRC: 0.4938, Precision: 0.6805, Recall: 0.3377\n"
          ]
        },
        {
          "name": "stderr",
          "output_type": "stream",
          "text": [
            "\rTraining for one epoch:   0%|          | 0/165 [00:00<?, ?it/s]/usr/local/lib/python3.11/dist-packages/torch/utils/data/dataloader.py:624: UserWarning: This DataLoader will create 30 worker processes in total. Our suggested max number of worker in current system is 12, which is smaller than what this DataLoader is going to create. Please be aware that excessive worker creation might get DataLoader running slow or even freeze, lower the worker number to avoid potential slowness/freeze if necessary.\n",
            "  warnings.warn(\n",
            "/content/drive/MyDrive/solar_PV_prediction/src/classify.py:195: FutureWarning: `torch.cuda.amp.autocast(args...)` is deprecated. Please use `torch.amp.autocast('cuda', args...)` instead.\n",
            "  with torch.cuda.amp.autocast(dtype=torch.float16):\n",
            "Training for one epoch: 100%|██████████| 165/165 [04:30<00:00,  1.64s/it, loss=0.216, lr=1.01e-6]\n"
          ]
        },
        {
          "name": "stdout",
          "output_type": "stream",
          "text": [
            "Epoch 10/10, Training Loss: 0.0876, Validation Loss: 0.1044\n",
            "Accuracy: 0.9683, Balanced Accuracy: 0.6604, AUROC: 0.9082, AUPRC: 0.4942, Precision: 0.6978, Recall: 0.3265\n"
          ]
        },
        {
          "name": "stderr",
          "output_type": "stream",
          "text": [
            "\r  0%|          | 0/16 [00:00<?, ?it/s]/usr/local/lib/python3.11/dist-packages/torch/utils/data/dataloader.py:624: UserWarning: This DataLoader will create 30 worker processes in total. Our suggested max number of worker in current system is 12, which is smaller than what this DataLoader is going to create. Please be aware that excessive worker creation might get DataLoader running slow or even freeze, lower the worker number to avoid potential slowness/freeze if necessary.\n",
            "  warnings.warn(\n",
            "/content/drive/MyDrive/solar_PV_prediction/src/classify.py:247: FutureWarning: `torch.cuda.amp.autocast(args...)` is deprecated. Please use `torch.amp.autocast('cuda', args...)` instead.\n",
            "  with torch.cuda.amp.autocast(dtype=torch.float16):\n",
            "100%|██████████| 16/16 [02:19<00:00,  8.74s/it]\n"
          ]
        },
        {
          "name": "stdout",
          "output_type": "stream",
          "text": [
            "Accuracy: 0.9135, Balanced Accuracy: 0.6177 AUROC: 0.9228, AUPRC: 0.6995, Precision: 0.9636, Recall: 0.2366\n"
          ]
        }
      ],
      "source": [
        "dataset_dir = \"/content/drive/MyDrive/solar_PV_prediction/src/dataset_csv/classification\"\n",
        "# dataset_dir = \"/content/drive/MyDrive/solar_PV_prediction/src/dataset_csv_20241019/classification/seattle\"\n",
        "image_size=518\n",
        "batch_size = 128\n",
        "lr = 0.01\n",
        "opt = \"Adam\"\n",
        "training_ratio = 1\n",
        "epochs = 10\n",
        "weight_decay = 0.001\n",
        "# resume_ckpt = \"/content/drive/MyDrive/solar_PV_prediction/outputs/12.9_classification_stage1/vit_large_patch14_dinov2_lvd142m_24-12-13_freeze/model_8.pth\" # Resume the previous checkpointing\n",
        "resume_ckpt = \"\"\n",
        "freeze_backbone = True\n",
        "model_name=\"vit_large_patch14_dinov2.lvd142m\"\n",
        "exp_name = \"freeze\"\n",
        "country = \"Denmark\"\n",
        "save_dir = os.path.join(\"/content/drive/MyDrive/solar_PV_prediction/outputs/May_classification_stage1_lr_{}_bsz_{}_opt_{}_ration_{}_country_{}\".format(lr, batch_size, opt, training_ratio, country))\n",
        "# save_dir = os.path.join(\"/content/drive/MyDrive/solar_PV_prediction/outputs/classification_stage2\")\n",
        "os.makedirs(save_dir, exist_ok=True)\n",
        "train_main(dataset_dir,\n",
        "           image_size=image_size,\n",
        "           batch_size=batch_size,\n",
        "           lr=lr, weight_decay=weight_decay,\n",
        "           epochs=epochs,\n",
        "           model_name=model_name,\n",
        "           save_dir=save_dir,\n",
        "           resume_ckpt=resume_ckpt,\n",
        "           freeze_backbone=freeze_backbone,\n",
        "           exp_name=exp_name,\n",
        "           opt = opt,\n",
        "           training_ratio = training_ratio,\n",
        "           country=country)"
      ]
    },
    {
      "cell_type": "markdown",
      "metadata": {
        "id": "lqRtG3SO2A7e"
      },
      "source": [
        "Swin Transformer"
      ]
    },
    {
      "cell_type": "code",
      "execution_count": null,
      "metadata": {
        "id": "OVUxmvRl39KU"
      },
      "outputs": [],
      "source": [
        "dataset_dir = \"/content/drive/MyDrive/solar_PV_prediction/src/dataset_csv/classification\"\n",
        "# dataset_dir = \"/content/drive/MyDrive/solar_PV_prediction/src/dataset_csv_20241019/classification/seattle\"\n",
        "image_size=256\n",
        "batch_size = 8\n",
        "lr = 0.0002\n",
        "epochs = 10\n",
        "weight_decay = 0.001\n",
        "resume_ckpt = \"\" # Resume the previous checkpointing\n",
        "freeze_backbone = False\n",
        "model_name=\"timm/swinv2_tiny_window8_256.ms_in1k\"\n",
        "exp_name = \"freeze\"\n",
        "save_dir = os.path.join(\"/content/drive/MyDrive/solar_PV_prediction/outputs/12.9_classification_stage1\")\n",
        "# save_dir = os.path.join(\"/content/drive/MyDrive/solar_PV_prediction/outputs/classification_stage2\")\n",
        "os.makedirs(save_dir, exist_ok=True)\n",
        "train_main(dataset_dir,\n",
        "           image_size=image_size,\n",
        "           batch_size=batch_size,\n",
        "           lr=lr, weight_decay=weight_decay,\n",
        "           epochs=epochs,\n",
        "           model_name=model_name,\n",
        "           save_dir=save_dir,\n",
        "           resume_ckpt=resume_ckpt,\n",
        "           freeze_backbone=freeze_backbone,\n",
        "           exp_name=exp_name)"
      ]
    },
    {
      "cell_type": "markdown",
      "metadata": {
        "id": "PentOLFQ2Uk-"
      },
      "source": [
        "Inception Net"
      ]
    },
    {
      "cell_type": "code",
      "execution_count": null,
      "metadata": {
        "colab": {
          "background_save": true,
          "base_uri": "https://localhost:8080/",
          "height": 1000,
          "referenced_widgets": [
            "a1b66589b033405b931534733a8eb740"
          ]
        },
        "id": "1gFwwGe-4fRt",
        "outputId": "ba2ef327-8c15-4f1d-f64c-7ea1fc2e0c43"
      },
      "outputs": [
        {
          "name": "stdout",
          "output_type": "stream",
          "text": [
            "Training on device:  cuda\n"
          ]
        },
        {
          "data": {
            "application/javascript": [
              "\n",
              "        window._wandbApiKey = new Promise((resolve, reject) => {\n",
              "            function loadScript(url) {\n",
              "            return new Promise(function(resolve, reject) {\n",
              "                let newScript = document.createElement(\"script\");\n",
              "                newScript.onerror = reject;\n",
              "                newScript.onload = resolve;\n",
              "                document.body.appendChild(newScript);\n",
              "                newScript.src = url;\n",
              "            });\n",
              "            }\n",
              "            loadScript(\"https://cdn.jsdelivr.net/npm/postmate/build/postmate.min.js\").then(() => {\n",
              "            const iframe = document.createElement('iframe')\n",
              "            iframe.style.cssText = \"width:0;height:0;border:none\"\n",
              "            document.body.appendChild(iframe)\n",
              "            const handshake = new Postmate({\n",
              "                container: iframe,\n",
              "                url: 'https://wandb.ai/authorize'\n",
              "            });\n",
              "            const timeout = setTimeout(() => reject(\"Couldn't auto authenticate\"), 5000)\n",
              "            handshake.then(function(child) {\n",
              "                child.on('authorize', data => {\n",
              "                    clearTimeout(timeout)\n",
              "                    resolve(data)\n",
              "                });\n",
              "            });\n",
              "            })\n",
              "        });\n",
              "    "
            ],
            "text/plain": [
              "<IPython.core.display.Javascript object>"
            ]
          },
          "metadata": {},
          "output_type": "display_data"
        },
        {
          "name": "stderr",
          "output_type": "stream",
          "text": [
            "\u001b[34m\u001b[1mwandb\u001b[0m: Logging into wandb.ai. (Learn how to deploy a W&B server locally: https://wandb.me/wandb-server)\n",
            "\u001b[34m\u001b[1mwandb\u001b[0m: You can find your API key in your browser here: https://wandb.ai/authorize?ref=models\n",
            "wandb: Paste an API key from your profile and hit enter:\u001b[34m\u001b[1mwandb\u001b[0m: \u001b[33mWARNING\u001b[0m If you're specifying your api key in code, ensure this code is not shared publicly.\n",
            "\u001b[34m\u001b[1mwandb\u001b[0m: \u001b[33mWARNING\u001b[0m Consider setting the WANDB_API_KEY environment variable, or running `wandb login` from the command line.\n",
            "\u001b[34m\u001b[1mwandb\u001b[0m: No netrc file found, creating one.\n",
            "\u001b[34m\u001b[1mwandb\u001b[0m: Appending key for api.wandb.ai to your netrc file: /root/.netrc\n",
            "\u001b[34m\u001b[1mwandb\u001b[0m: Currently logged in as: \u001b[33mpeijinjiang1201\u001b[0m (\u001b[33mhansen_msr\u001b[0m) to \u001b[32mhttps://api.wandb.ai\u001b[0m. Use \u001b[1m`wandb login --relogin`\u001b[0m to force relogin\n"
          ]
        },
        {
          "data": {
            "text/html": [
              "Tracking run with wandb version 0.20.1"
            ],
            "text/plain": [
              "<IPython.core.display.HTML object>"
            ]
          },
          "metadata": {},
          "output_type": "display_data"
        },
        {
          "data": {
            "text/html": [
              "Run data is saved locally in <code>/content/wandb/run-20250628_192620-79ga9ocd</code>"
            ],
            "text/plain": [
              "<IPython.core.display.HTML object>"
            ]
          },
          "metadata": {},
          "output_type": "display_data"
        },
        {
          "data": {
            "text/html": [
              "Syncing run <strong><a href='https://wandb.ai/hansen_msr/Solar-PV-classification-finetuning-timm_inception_v3_tf_adv_in1k_25-06-28_freeze/runs/79ga9ocd' target=\"_blank\">charmed-durian-7</a></strong> to <a href='https://wandb.ai/hansen_msr/Solar-PV-classification-finetuning-timm_inception_v3_tf_adv_in1k_25-06-28_freeze' target=\"_blank\">Weights & Biases</a> (<a href='https://wandb.me/developer-guide' target=\"_blank\">docs</a>)<br>"
            ],
            "text/plain": [
              "<IPython.core.display.HTML object>"
            ]
          },
          "metadata": {},
          "output_type": "display_data"
        },
        {
          "data": {
            "text/html": [
              " View project at <a href='https://wandb.ai/hansen_msr/Solar-PV-classification-finetuning-timm_inception_v3_tf_adv_in1k_25-06-28_freeze' target=\"_blank\">https://wandb.ai/hansen_msr/Solar-PV-classification-finetuning-timm_inception_v3_tf_adv_in1k_25-06-28_freeze</a>"
            ],
            "text/plain": [
              "<IPython.core.display.HTML object>"
            ]
          },
          "metadata": {},
          "output_type": "display_data"
        },
        {
          "data": {
            "text/html": [
              " View run at <a href='https://wandb.ai/hansen_msr/Solar-PV-classification-finetuning-timm_inception_v3_tf_adv_in1k_25-06-28_freeze/runs/79ga9ocd' target=\"_blank\">https://wandb.ai/hansen_msr/Solar-PV-classification-finetuning-timm_inception_v3_tf_adv_in1k_25-06-28_freeze/runs/79ga9ocd</a>"
            ],
            "text/plain": [
              "<IPython.core.display.HTML object>"
            ]
          },
          "metadata": {},
          "output_type": "display_data"
        },
        {
          "name": "stderr",
          "output_type": "stream",
          "text": [
            "/usr/local/lib/python3.11/dist-packages/huggingface_hub/utils/_auth.py:104: UserWarning: \n",
            "Error while fetching `HF_TOKEN` secret value from your vault: 'Requesting secret HF_TOKEN timed out. Secrets can only be fetched when running from the Colab UI.'.\n",
            "You are not authenticated with the Hugging Face Hub in this notebook.\n",
            "If the error persists, please let us know by opening an issue on GitHub (https://github.com/huggingface/huggingface_hub/issues/new).\n",
            "  warnings.warn(\n"
          ]
        },
        {
          "data": {
            "application/vnd.jupyter.widget-view+json": {
              "model_id": "a1b66589b033405b931534733a8eb740",
              "version_major": 2,
              "version_minor": 0
            },
            "text/plain": [
              "model.safetensors:   0%|          | 0.00/95.5M [00:00<?, ?B/s]"
            ]
          },
          "metadata": {},
          "output_type": "display_data"
        },
        {
          "name": "stdout",
          "output_type": "stream",
          "text": [
            "Setting image size to  518\n",
            "The number of trainable parameters:  2049\n"
          ]
        },
        {
          "name": "stderr",
          "output_type": "stream",
          "text": [
            "/usr/local/lib/python3.11/dist-packages/torch/utils/data/dataloader.py:624: UserWarning: This DataLoader will create 30 worker processes in total. Our suggested max number of worker in current system is 12, which is smaller than what this DataLoader is going to create. Please be aware that excessive worker creation might get DataLoader running slow or even freeze, lower the worker number to avoid potential slowness/freeze if necessary.\n",
            "  warnings.warn(\n"
          ]
        },
        {
          "name": "stdout",
          "output_type": "stream",
          "text": [
            "Resuming training from epoch 6 Load model from /content/drive/MyDrive/solar_PV_prediction/outputs/May_classification_stage1_lr_0.03_bsz_64_opt_AdamW_ration_1_country_All/timm_inception_v3_tf_adv_in1k_25-06-28_freeze/model_5.pth\n"
          ]
        },
        {
          "name": "stderr",
          "output_type": "stream",
          "text": [
            "/content/drive/MyDrive/solar_PV_prediction/src/classify.py:183: FutureWarning: `torch.cuda.amp.GradScaler(args...)` is deprecated. Please use `torch.amp.GradScaler('cuda', args...)` instead.\n",
            "  fp16_scaler = torch.cuda.amp.GradScaler()\n",
            "Training for one epoch:   0%|          | 0/13914 [00:00<?, ?it/s]"
          ]
        },
        {
          "name": "stdout",
          "output_type": "stream",
          "text": [
            "[Errno 5] Input/output error: '/content/drive/MyDrive/solar_PV/data/France/google_all/img/UEHCZ1085CBJXX.png'\n",
            "[Errno 5] Input/output error: '/content/drive/MyDrive/solar_PV/data/France/google_all/img/TZJUJ3C4CAMBNF.png'\n"
          ]
        },
        {
          "name": "stderr",
          "output_type": "stream",
          "text": [
            "/content/drive/MyDrive/solar_PV_prediction/src/classify.py:195: FutureWarning: `torch.cuda.amp.autocast(args...)` is deprecated. Please use `torch.amp.autocast('cuda', args...)` instead.\n",
            "  with torch.cuda.amp.autocast(dtype=torch.float16):\n",
            "Training for one epoch: 100%|██████████| 13914/13914 [9:09:43<00:00,  2.37s/it, loss=0.00463, lr=0.0075]\n"
          ]
        },
        {
          "name": "stdout",
          "output_type": "stream",
          "text": [
            "Epoch 7/10, Training Loss: 0.0996, Validation Loss: 0.1435\n",
            "Accuracy: 0.9478, Balanced Accuracy: 0.8051, AUROC: 0.9197, AUPRC: 0.6037, Precision: 0.3956, Recall: 0.6504\n"
          ]
        },
        {
          "name": "stderr",
          "output_type": "stream",
          "text": [
            "Training for one epoch:   0%|          | 0/13914 [00:00<?, ?it/s]/usr/local/lib/python3.11/dist-packages/torch/utils/data/dataloader.py:624: UserWarning: This DataLoader will create 30 worker processes in total. Our suggested max number of worker in current system is 12, which is smaller than what this DataLoader is going to create. Please be aware that excessive worker creation might get DataLoader running slow or even freeze, lower the worker number to avoid potential slowness/freeze if necessary.\n",
            "  warnings.warn(\n",
            "/content/drive/MyDrive/solar_PV_prediction/src/classify.py:195: FutureWarning: `torch.cuda.amp.autocast(args...)` is deprecated. Please use `torch.amp.autocast('cuda', args...)` instead.\n",
            "  with torch.cuda.amp.autocast(dtype=torch.float16):\n",
            "Training for one epoch: 100%|██████████| 13914/13914 [2:22:42<00:00,  1.63it/s, loss=0.0265, lr=0.00351]\n"
          ]
        },
        {
          "name": "stdout",
          "output_type": "stream",
          "text": [
            "Epoch 8/10, Training Loss: 0.0893, Validation Loss: 0.2354\n",
            "Accuracy: 0.9023, Balanced Accuracy: 0.8336, AUROC: 0.9176, AUPRC: 0.6133, Precision: 0.2504, Recall: 0.7590\n"
          ]
        },
        {
          "name": "stderr",
          "output_type": "stream",
          "text": [
            "Training for one epoch:   0%|          | 0/13914 [00:00<?, ?it/s]/usr/local/lib/python3.11/dist-packages/torch/utils/data/dataloader.py:624: UserWarning: This DataLoader will create 30 worker processes in total. Our suggested max number of worker in current system is 12, which is smaller than what this DataLoader is going to create. Please be aware that excessive worker creation might get DataLoader running slow or even freeze, lower the worker number to avoid potential slowness/freeze if necessary.\n",
            "  warnings.warn(\n",
            "/content/drive/MyDrive/solar_PV_prediction/src/classify.py:195: FutureWarning: `torch.cuda.amp.autocast(args...)` is deprecated. Please use `torch.amp.autocast('cuda', args...)` instead.\n",
            "  with torch.cuda.amp.autocast(dtype=torch.float16):\n",
            "Training for one epoch: 100%|██████████| 13914/13914 [2:25:35<00:00,  1.59it/s, loss=0.599, lr=0.000906]\n"
          ]
        },
        {
          "name": "stdout",
          "output_type": "stream",
          "text": [
            "Epoch 9/10, Training Loss: 0.0834, Validation Loss: 0.2010\n",
            "Accuracy: 0.9180, Balanced Accuracy: 0.8338, AUROC: 0.9266, AUPRC: 0.6340, Precision: 0.2862, Recall: 0.7424\n"
          ]
        },
        {
          "name": "stderr",
          "output_type": "stream",
          "text": [
            "Training for one epoch:   0%|          | 0/13914 [00:00<?, ?it/s]/usr/local/lib/python3.11/dist-packages/torch/utils/data/dataloader.py:624: UserWarning: This DataLoader will create 30 worker processes in total. Our suggested max number of worker in current system is 12, which is smaller than what this DataLoader is going to create. Please be aware that excessive worker creation might get DataLoader running slow or even freeze, lower the worker number to avoid potential slowness/freeze if necessary.\n",
            "  warnings.warn(\n",
            "/content/drive/MyDrive/solar_PV_prediction/src/classify.py:195: FutureWarning: `torch.cuda.amp.autocast(args...)` is deprecated. Please use `torch.amp.autocast('cuda', args...)` instead.\n",
            "  with torch.cuda.amp.autocast(dtype=torch.float16):\n",
            "Training for one epoch: 100%|██████████| 13914/13914 [2:22:51<00:00,  1.62it/s, loss=0.0252, lr=1e-6]\n"
          ]
        },
        {
          "name": "stdout",
          "output_type": "stream",
          "text": [
            "Epoch 10/10, Training Loss: 0.0796, Validation Loss: 0.2243\n",
            "Accuracy: 0.9062, Balanced Accuracy: 0.8382, AUROC: 0.9259, AUPRC: 0.6061, Precision: 0.2599, Recall: 0.7645\n"
          ]
        },
        {
          "name": "stderr",
          "output_type": "stream",
          "text": [
            "  0%|          | 0/32 [00:00<?, ?it/s]/usr/local/lib/python3.11/dist-packages/torch/utils/data/dataloader.py:624: UserWarning: This DataLoader will create 30 worker processes in total. Our suggested max number of worker in current system is 12, which is smaller than what this DataLoader is going to create. Please be aware that excessive worker creation might get DataLoader running slow or even freeze, lower the worker number to avoid potential slowness/freeze if necessary.\n",
            "  warnings.warn(\n",
            "/content/drive/MyDrive/solar_PV_prediction/src/classify.py:247: FutureWarning: `torch.cuda.amp.autocast(args...)` is deprecated. Please use `torch.amp.autocast('cuda', args...)` instead.\n",
            "  with torch.cuda.amp.autocast(dtype=torch.float16):\n",
            "100%|██████████| 32/32 [01:10<00:00,  2.20s/it]\n"
          ]
        },
        {
          "name": "stdout",
          "output_type": "stream",
          "text": [
            "Accuracy: 0.1635, Balanced Accuracy: 0.5251 AUROC: 0.6080, AUPRC: 0.2310, Precision: 0.1173, Recall: 0.9911\n"
          ]
        }
      ],
      "source": [
        "\n",
        "dataset_dir = \"/content/drive/MyDrive/solar_PV_prediction/src/dataset_csv/classification\"\n",
        "# dataset_dir = \"/content/drive/MyDrive/solar_PV_prediction/src/dataset_csv_20241019/classification/seattle\"\n",
        "image_size=518\n",
        "batch_size = 32\n",
        "lr = 0.05\n",
        "opt = \"Adam\"\n",
        "training_ratio =0.1\n",
        "epochs = 10\n",
        "weight_decay = 0.001\n",
        "# resume_ckpt = \"/content/drive/MyDrive/solar_PV_prediction/outputs/12.9_classification_stage1/vit_large_patch14_dinov2_lvd142m_24-12-13_freeze/model_8.pth\" # Resume the previous checkpointing\n",
        "resume_ckpt = \"\"\n",
        "freeze_backbone = True\n",
        "model_name=\"timm/inception_v3.tf_adv_in1k\"\n",
        "exp_name = \"freeze\"\n",
        "country = \"All\"\n",
        "save_dir = os.path.join(\"/content/drive/MyDrive/solar_PV_prediction/outputs/May_classification_stage1_lr_{}_bsz_{}_opt_{}_ration_{}_country_{}\".format(lr, batch_size, opt, training_ratio, country))\n",
        "# save_dir = os.path.join(\"/content/drive/MyDrive/solar_PV_prediction/outputs/classification_stage2\")\n",
        "os.makedirs(save_dir, exist_ok=True)\n",
        "train_main(dataset_dir,\n",
        "           image_size=image_size,\n",
        "           batch_size=batch_size,\n",
        "           lr=lr, weight_decay=weight_decay,\n",
        "           epochs=epochs,\n",
        "           model_name=model_name,\n",
        "           save_dir=save_dir,\n",
        "           resume_ckpt=resume_ckpt,\n",
        "           freeze_backbone=freeze_backbone,\n",
        "           exp_name=exp_name,\n",
        "           opt = opt,\n",
        "           training_ratio = training_ratio,\n",
        "           country=country)"
      ]
    },
    {
      "cell_type": "markdown",
      "metadata": {
        "id": "H1m92USyR8LA"
      },
      "source": [
        "Transfer learning"
      ]
    },
    {
      "cell_type": "code",
      "execution_count": null,
      "metadata": {
        "id": "rgABnbk3R-3F"
      },
      "outputs": [],
      "source": [
        "dataset_dir = \"/content/drive/MyDrive/solar_PV_prediction/src/dataset_csv/classification/seattle\"\n",
        "image_size=518\n",
        "batch_size = 32\n",
        "lr = 0.0002\n",
        "epochs = 10\n",
        "weight_decay = 0.001\n",
        "resume_ckpt = \"/content/drive/MyDrive/solar_PV_prediction/outputs/classification_stage1/resnet50_24-10-22_/model_1.pth\" # Resume the previous checkpointing\n",
        "freeze_backbone = False\n",
        "model_name=\"resnet50\"\n",
        "# model_name=\"vit_base_patch14_dinov2.lvd142m\"\n",
        "# model_name=\"vit_large_patch14_dinov2.lvd142m\"\n",
        "exp_name = \"10epochs\"\n",
        "# model_name=\"vit_large_patch14_dinov2.lvd142m\"\n",
        "# model_name=\"convnextv2_huge.fcmae_ft_in22k_in1k_512\"\n",
        "# model_name=\"resnet34\"\n",
        "save_dir = os.path.join(\"/content/drive/MyDrive/solar_PV_prediction/outputs/BC_classification_stage1+2\")\n",
        "os.makedirs(save_dir, exist_ok=True)\n",
        "train_main(dataset_dir,\n",
        "           image_size=image_size,\n",
        "           batch_size=batch_size,\n",
        "           lr=lr, weight_decay=weight_decay,\n",
        "           epochs=epochs,\n",
        "           model_name=model_name,\n",
        "           save_dir=save_dir,\n",
        "           resume_ckpt=resume_ckpt,\n",
        "           freeze_backbone=freeze_backbone,\n",
        "           exp_name=exp_name,\n",
        "           start_epoch=0)"
      ]
    },
    {
      "cell_type": "markdown",
      "metadata": {
        "id": "ly8vx78DM_XQ"
      },
      "source": [
        "Test one image"
      ]
    },
    {
      "cell_type": "code",
      "execution_count": null,
      "metadata": {
        "id": "HkzdqXTEM9va"
      },
      "outputs": [],
      "source": [
        "import torch\n",
        "import torch.nn as nn\n",
        "import numpy as np\n",
        "import timm\n",
        "from PIL import Image\n",
        "from torchvision import transforms\n",
        "\n",
        "image_path = \"/content/drive/MyDrive/solar_PV_prediction/Canada_prediction/Seattle_test/seattle_neg/map_47.62529257109909_-122.33956378813846.png\"\n",
        "classifier_name = \"resnet50\"\n",
        "# classifier_name = \"vit_small_patch14_dinov2.lvd142m\"\n",
        "classifier_path = \"/content/drive/MyDrive/solar_PV_prediction/outputs/resnet50_24-10-03/model_0.pth\"\n",
        "# classifier_path = \"/content/drive/MyDrive/solar_PV_prediction/outputs/vit_small_patch14_dinov2.lvd142m_24-10-03/model_4.pth\"\n",
        "image_size=518\n",
        "\n",
        "# define transform\n",
        "def classifier_transform(images: np.ndarray, image_size: int=224):\n",
        "    VAL_TRANSFORM = transforms.Compose([\n",
        "      transforms.Resize((image_size, image_size)),\n",
        "      transforms.ToTensor(),\n",
        "      transforms.Normalize([0.485, 0.456, 0.406], [0.229, 0.224, 0.225]),\n",
        "  ])\n",
        "    images = [VAL_TRANSFORM(Image.fromarray(img.astype(np.uint8))) for img in images]\n",
        "    images = torch.stack(images)\n",
        "    return images\n",
        "\n",
        "# load model\n",
        "classifier = timm.create_model(classifier_name, pretrained=True)\n",
        "device = torch.device(\"cuda\" if torch.cuda.is_available() else \"cpu\")\n",
        "classifier = classifier.to(device)\n",
        "# create binary classifier\n",
        "if hasattr(classifier, \"fc\"):\n",
        "  classifier.fc = nn.Linear(classifier.fc.in_features, 1)\n",
        "elif hasattr(classifier, \"head\"):\n",
        "  classifier.head = nn.Linear(classifier.num_features, 1)\n",
        "else:\n",
        "  raise NotImplementedError\n",
        "classifier = classifier.to(device)\n",
        "classifier_state = torch.load(classifier_path)\n",
        "classifier.load_state_dict(classifier_state)\n",
        "classifier.eval()\n",
        "\n",
        "input_image = Image.open(image_path).convert(\"RGB\")\n",
        "input_image = classifier_transform([np.array(input_image)], image_size=image_size)\n",
        "input_image = input_image.to(device)\n",
        "with torch.no_grad():\n",
        "  output = classifier(input_image)\n",
        "print(output)"
      ]
    },
    {
      "cell_type": "code",
      "execution_count": null,
      "metadata": {
        "id": "pqQcblXlWjNg"
      },
      "outputs": [],
      "source": [
        "test_dataset.data.iloc[:, 0].to_list()"
      ]
    },
    {
      "cell_type": "markdown",
      "metadata": {
        "id": "ZqRIfcOcGTBv"
      },
      "source": [
        "Run evaluation on test"
      ]
    },
    {
      "cell_type": "code",
      "execution_count": null,
      "metadata": {
        "id": "Y4yJyRdQGR0s"
      },
      "outputs": [],
      "source": [
        "import torch\n",
        "import torch.nn as nn\n",
        "import numpy as np\n",
        "import timm\n",
        "import wandb\n",
        "import pandas as pd\n",
        "from tqdm import tqdm\n",
        "from PIL import Image\n",
        "from torch.utils.data import DataLoader\n",
        "from torchvision import transforms\n",
        "\n",
        "SRCDIR=\"/content/drive/MyDrive/solar_PV_prediction/src/\"\n",
        "\n",
        "import os\n",
        "import sys\n",
        "sys.path.append(SRCDIR)\n",
        "\n",
        "from classify import make_models_transforms, ImageDataset, evaluate_model # type: ignore\n",
        "\n",
        "writer = wandb.init(project=\"Solar-PV-classification-finetuning-test\")\n",
        "\n",
        "# image_path = \"/content/drive/MyDrive/solar_PV_prediction/Canada_prediction/Seattle_test/seattle_neg/map_47.62529257109909_-122.33956378813846.png\"\n",
        "test_csv = \"/content/drive/MyDrive/solar_PV_prediction/src/dataset_csv/classification/test.csv\"\n",
        "# classifier_name = \"resnet50\"\n",
        "# classifier_name = \"vit_small_patch14_dinov2.lvd142m\"\n",
        "classifier_names = {\"DINO\": \"vit_large_patch14_dinov2.lvd142m\", \"InceptionNet\": \"timm/inception_v3.tf_adv_in1k\"}\n",
        "# classifier_path = \"/content/drive/MyDrive/solar_PV_prediction/outputs/resnet50_24-10-03/model_4.pth\"\n",
        "classifier_paths = {\n",
        "    \"DINO\": \"/content/drive/MyDrive/solar_PV_prediction/outputs/12.9_classification_stage1/vit_large_patch14_dinov2_lvd142m_24-12-21_freeze/model_9.pth\",\n",
        "    \"InceptionNet\": \"/content/drive/MyDrive/solar_PV_prediction/outputs/12.9_classification_stage1/timm_inception_v3_tf_adv_in1k_24-12-19_freeze/model_9.pth\"\n",
        "}\n",
        "colors = {\n",
        "    \"DINO\": \"green\",\n",
        "    \"ResNet\": \"blue\",\n",
        "    \"InceptionNet\": \"blue\"\n",
        "}\n",
        "\n",
        "save_dir = \"/content/drive/MyDrive/solar_PV_prediction/outputs/test_evaluation\"\n",
        "os.makedirs(save_dir, exist_ok=True)\n",
        "image_size=518\n",
        "\n",
        "results = {}\n",
        "\n",
        "for model in [\"DINO\", \"InceptionNet\"]:\n",
        "  classifier_name = classifier_names[model]\n",
        "  classifier_path = classifier_paths[model]\n",
        "\n",
        "  device = torch.device(\"cuda\" if torch.cuda.is_available() else \"cpu\")\n",
        "  classifier, TRAIN_TRANSFORM, VAL_TRANSFORM = make_models_transforms(classifier_name, image_size)\n",
        "  classifier = classifier.to(device)\n",
        "  classifier_state = torch.load(classifier_path)\n",
        "  msg, _ = classifier.load_state_dict(classifier_state)\n",
        "  print(msg)\n",
        "  classifier.eval()\n",
        "\n",
        "  # load test dataset\n",
        "  test_dataset = ImageDataset(csv_file=test_csv, transform=VAL_TRANSFORM)\n",
        "  test_loader = DataLoader(test_dataset, batch_size=16, shuffle=False, num_workers=40)\n",
        "  labels, _, probs = evaluate_model(classifier, test_loader)\n",
        "  images = test_dataset.data.iloc[:, 0].to_list()\n",
        "  prediction_df = pd.DataFrame({\"image_path\": images, \"label\": labels, \"prob\": probs})\n",
        "  prediction_df.to_csv(os.path.join(save_dir, f\"{model}_prediction.csv\"), index=False)\n",
        "  results[model] = {\n",
        "      \"labels\": labels,\n",
        "      \"probs\": probs\n",
        "  }\n",
        "\n",
        "\n",
        "# plot the ROC and AUPRC curves\n",
        "import numpy as np\n",
        "import matplotlib.pyplot as plt\n",
        "from sklearn.metrics import roc_curve, auc, precision_recall_curve, average_precision_score\n",
        "\n",
        "# Function to plot ROC curve\n",
        "def plot_roc_curve(results, colors, save_path):\n",
        "    plt.figure(figsize=(8, 6))\n",
        "    for model in [\"DINO\", \"InceptionNet\"]:\n",
        "        labels = results[model][\"labels\"]\n",
        "        probs = results[model][\"probs\"]\n",
        "        fpr, tpr, _ = roc_curve(labels, probs)\n",
        "        roc_auc = auc(fpr, tpr)\n",
        "        # Plot the ROC curve\n",
        "        plt.plot(fpr, tpr, color=colors[model], lw=2, label=f'{model} AUC = {roc_auc:.2f}')\n",
        "\n",
        "    # Add a dashed diagonal line for chance\n",
        "    plt.plot([0, 1], [0, 1], color='red', linestyle='--', lw=2, label='Chance')\n",
        "\n",
        "    # Customize axes and titles\n",
        "    plt.xlim([0.0, 1.0])\n",
        "    plt.ylim([0.0, 1.05])\n",
        "    plt.xlabel('False Positive Rate', fontsize=14)\n",
        "    plt.ylabel('True Positive Rate', fontsize=14)\n",
        "    plt.title('Receiver Operating Characteristic (ROC) Curve', fontsize=16)\n",
        "    plt.legend(loc=\"lower right\", fontsize=12)\n",
        "\n",
        "    # Remove background grid\n",
        "    plt.grid(False)\n",
        "    plt.savefig(save_path)\n",
        "    plt.show()\n",
        "\n",
        "# Function to plot AUPRC curve\n",
        "def plot_auprc_curve(results, colors, save_path):\n",
        "    plt.figure(figsize=(8, 6))\n",
        "    for model in [\"DINO\", \"InceptionNet\"]:\n",
        "        labels = results[model][\"labels\"]\n",
        "        probs = results[model][\"probs\"]\n",
        "        precision, recall, _ = precision_recall_curve(labels, probs)\n",
        "        auprc = average_precision_score(labels, probs)\n",
        "        # Plot the Precision-Recall curve\n",
        "        plt.plot(recall, precision, color=colors[model], lw=2, label=f'{model} AUPRC = {auprc:.2f}')\n",
        "\n",
        "    # Customize axes and titles\n",
        "    plt.xlim([0.0, 1.0])\n",
        "    plt.ylim([0.0, 1.05])\n",
        "    plt.xlabel('Recall', fontsize=14)\n",
        "    plt.ylabel('Precision', fontsize=14)\n",
        "    plt.title('Precision-Recall (PR) Curve', fontsize=16)\n",
        "    plt.legend(loc=\"lower left\", fontsize=12)\n",
        "\n",
        "    # Remove background grid\n",
        "    plt.grid(False)\n",
        "    plt.savefig(save_path)\n",
        "    plt.show()\n",
        "\n",
        "# Plot and save the curves\n",
        "plot_roc_curve(results, colors, os.path.join(save_dir, \"roc_curve.png\"))\n",
        "plot_auprc_curve(results, colors, os.path.join(save_dir, \"pr_curve.png\"))"
      ]
    },
    {
      "cell_type": "markdown",
      "metadata": {
        "id": "1TQS-LVo-COi"
      },
      "source": [
        "Run variance"
      ]
    },
    {
      "cell_type": "code",
      "execution_count": null,
      "metadata": {
        "colab": {
          "base_uri": "https://localhost:8080/",
          "height": 381,
          "referenced_widgets": [
            "732eaac2211f4df3be39c84167f1d6c6",
            "179535aeab34403f94d861798f066cb0",
            "3c834d0a01b64b7e872272b964115243",
            "b3b6940c596a4c59a11e67d68de37b3f",
            "9b8b0a2f7e3e45639cb4d3f3c2ed7e3c",
            "857fde1ad1e94549b9d486b09fd7e7ac",
            "4f817aa7750d46b2be35e6fbd6286617",
            "c8944ddd59dd4b2db1c0c36ea8f86889",
            "a3c52d41e9c74e3e88d6069aee582169",
            "c89907d0986c4ff4ba93ee2bf505ed8d",
            "d2a254e88cd849dda857b64ad811af70"
          ]
        },
        "id": "ti7b92HL-nEV",
        "outputId": "252cb864-c6fa-4f70-805c-6db0324dd3ae"
      },
      "outputs": [
        {
          "output_type": "stream",
          "name": "stdout",
          "text": [
            "Training on device:  cuda\n"
          ]
        },
        {
          "output_type": "stream",
          "name": "stderr",
          "text": [
            "/usr/local/lib/python3.11/dist-packages/huggingface_hub/utils/_auth.py:94: UserWarning: \n",
            "The secret `HF_TOKEN` does not exist in your Colab secrets.\n",
            "To authenticate with the Hugging Face Hub, create a token in your settings tab (https://huggingface.co/settings/tokens), set it as secret in your Google Colab and restart your session.\n",
            "You will be able to reuse this secret in all of your notebooks.\n",
            "Please note that authentication is recommended but still optional to access public models or datasets.\n",
            "  warnings.warn(\n"
          ]
        },
        {
          "output_type": "display_data",
          "data": {
            "text/plain": [
              "model.safetensors:   0%|          | 0.00/1.22G [00:00<?, ?B/s]"
            ],
            "application/vnd.jupyter.widget-view+json": {
              "version_major": 2,
              "version_minor": 0,
              "model_id": "732eaac2211f4df3be39c84167f1d6c6"
            }
          },
          "metadata": {}
        },
        {
          "output_type": "stream",
          "name": "stderr",
          "text": [
            "/usr/local/lib/python3.11/dist-packages/torch/utils/data/dataloader.py:624: UserWarning: This DataLoader will create 30 worker processes in total. Our suggested max number of worker in current system is 12, which is smaller than what this DataLoader is going to create. Please be aware that excessive worker creation might get DataLoader running slow or even freeze, lower the worker number to avoid potential slowness/freeze if necessary.\n",
            "  warnings.warn(\n",
            "  0%|          | 0/500 [00:00<?, ?it/s]/tmp/ipython-input-4-887033943.py:34: FutureWarning: `torch.cuda.amp.autocast(args...)` is deprecated. Please use `torch.amp.autocast('cuda', args...)` instead.\n",
            "  with torch.cuda.amp.autocast(dtype=torch.float16):\n",
            "100%|██████████| 500/500 [00:55<00:00,  9.05it/s]\n"
          ]
        },
        {
          "output_type": "stream",
          "name": "stdout",
          "text": [
            "Acc,   mean: 0.7587, var: 0.0094\n",
            "BACC,  mean: 0.8331, var: 0.0102\n",
            "AUROC, mean: 0.9306, var: 0.0074\n",
            "AUPRC, mean: 0.7089, var: 0.0276\n",
            "Prec,  mean: 0.3084, var: 0.0177\n",
            "Rec,   mean: 0.9290, var: 0.0176\n"
          ]
        }
      ],
      "source": [
        "import torch\n",
        "import numpy as np\n",
        "\n",
        "from tqdm import tqdm\n",
        "from classify import make_models_transforms, DataLoader, classification_metrics, ImageDataset\n",
        "\n",
        "dataset_dir = \"/content/drive/MyDrive/solar_PV_prediction/src/dataset_csv/classification\"\n",
        "# dataset_dir = \"/content/drive/MyDrive/solar_PV_prediction/Japan/zoom19_cv/classification\"\n",
        "model_name=\"vit_large_patch14_dinov2.lvd142m\"\n",
        "# model_name=\"timm/inception_v3.tf_adv_in1k\"\n",
        "# put your model path here\n",
        "model_path = \"/content/drive/MyDrive/solar_PV_prediction/outputs/May_classification_stage1_lr_0.01_bsz_128_opt_Adam_ration_1/vit_large_patch14_dinov2_lvd142m_25-06-19_freeze/model_9.pth\"\n",
        "image_size=518\n",
        "\n",
        "### DO NOT MODIFY THE CODE BELOW ###\n",
        "device = 'cuda' if torch.cuda.is_available() else 'cpu'\n",
        "print(\"Training on device: \", device)\n",
        "# create save dir\n",
        "test_csv = os.path.join(dataset_dir, \"test.csv\")\n",
        "# create model\n",
        "model, TRAIN_TRANSFORM, VAL_TRANSFORM = make_models_transforms(model_name, image_size, True)\n",
        "model.load_state_dict(torch.load(model_path))\n",
        "model = model.to(device)\n",
        "test_dataset = ImageDataset(csv_file=test_csv, transform=VAL_TRANSFORM)\n",
        "test_loader = DataLoader(test_dataset, batch_size=4, shuffle=False, num_workers=30)\n",
        "\n",
        "model.eval()\n",
        "device = 'cuda' if torch.cuda.is_available() else 'cpu'\n",
        "y_true, y_pred, y_scores = [], [], []\n",
        "\n",
        "with torch.no_grad():\n",
        "    for images, labels in tqdm(test_loader):\n",
        "        images, labels = images.to(device), labels.to(device)\n",
        "        with torch.cuda.amp.autocast(dtype=torch.float16):\n",
        "            outputs = model(images)\n",
        "        scores = torch.sigmoid(outputs).cpu().numpy().flatten()\n",
        "        preds = (scores > 0.5).astype(int)\n",
        "        y_true.extend(labels.cpu().numpy())\n",
        "        y_pred.extend(preds)\n",
        "        y_scores.extend(scores)\n",
        "\n",
        "n_boostrap = 1000\n",
        "\n",
        "all_acc, all_bacc, all_auroc, all_auprc, all_precision, all_recall = [], [], [], [], [], []\n",
        "\n",
        "for _ in range(n_boostrap):\n",
        "  sampled_indices = np.random.choice(np.arange(len(y_true)), size=len(y_true), replace=True)\n",
        "  y_true_sampled = np.asarray(y_true)[sampled_indices]\n",
        "  y_pred_sampled = np.asarray(y_pred)[sampled_indices]\n",
        "  y_scores_sampled = np.asarray(y_scores)[sampled_indices]\n",
        "\n",
        "  acc, bacc, auroc, auprc, precision, recall = classification_metrics(y_true_sampled, y_pred_sampled, y_scores_sampled)\n",
        "\n",
        "  all_acc.append(acc)\n",
        "  all_bacc.append(bacc)\n",
        "  all_auroc.append(auroc)\n",
        "  all_auprc.append(auprc)\n",
        "  all_precision.append(precision)\n",
        "  all_recall.append(recall)\n",
        "\n",
        "\n",
        "print(f\"Acc,   mean: {np.mean(all_acc):.4f}, var: {np.std(all_acc):.4f}\")\n",
        "print(f\"BACC,  mean: {np.mean(all_bacc):.4f}, var: {np.std(all_bacc):.4f}\")\n",
        "print(f\"AUROC, mean: {np.mean(all_auroc):.4f}, var: {np.std(all_auroc):.4f}\")\n",
        "print(f\"AUPRC, mean: {np.mean(all_auprc):.4f}, var: {np.std(all_auprc):.4f}\")\n",
        "print(f\"Prec,  mean: {np.mean(all_precision):.4f}, var: {np.std(all_precision):.4f}\")\n",
        "print(f\"Rec,   mean: {np.mean(all_recall):.4f}, var: {np.std(all_recall):.4f}\")\n"
      ]
    }
  ],
  "metadata": {
    "accelerator": "GPU",
    "colab": {
      "gpuType": "A100",
      "machine_shape": "hm",
      "provenance": []
    },
    "kernelspec": {
      "display_name": "Python 3",
      "name": "python3"
    },
    "language_info": {
      "name": "python"
    },
    "widgets": {
      "application/vnd.jupyter.widget-state+json": {
        "0761b8cdf8e74e3ea9f9733825de2ff9": {
          "model_module": "@jupyter-widgets/controls",
          "model_module_version": "1.5.0",
          "model_name": "DescriptionStyleModel",
          "state": {
            "_model_module": "@jupyter-widgets/controls",
            "_model_module_version": "1.5.0",
            "_model_name": "DescriptionStyleModel",
            "_view_count": null,
            "_view_module": "@jupyter-widgets/base",
            "_view_module_version": "1.2.0",
            "_view_name": "StyleView",
            "description_width": ""
          }
        },
        "196e3e631f67479485240712c5cf616c": {
          "model_module": "@jupyter-widgets/base",
          "model_module_version": "1.2.0",
          "model_name": "LayoutModel",
          "state": {
            "_model_module": "@jupyter-widgets/base",
            "_model_module_version": "1.2.0",
            "_model_name": "LayoutModel",
            "_view_count": null,
            "_view_module": "@jupyter-widgets/base",
            "_view_module_version": "1.2.0",
            "_view_name": "LayoutView",
            "align_content": null,
            "align_items": null,
            "align_self": null,
            "border": null,
            "bottom": null,
            "display": null,
            "flex": null,
            "flex_flow": null,
            "grid_area": null,
            "grid_auto_columns": null,
            "grid_auto_flow": null,
            "grid_auto_rows": null,
            "grid_column": null,
            "grid_gap": null,
            "grid_row": null,
            "grid_template_areas": null,
            "grid_template_columns": null,
            "grid_template_rows": null,
            "height": null,
            "justify_content": null,
            "justify_items": null,
            "left": null,
            "margin": null,
            "max_height": null,
            "max_width": null,
            "min_height": null,
            "min_width": null,
            "object_fit": null,
            "object_position": null,
            "order": null,
            "overflow": null,
            "overflow_x": null,
            "overflow_y": null,
            "padding": null,
            "right": null,
            "top": null,
            "visibility": null,
            "width": null
          }
        },
        "1da81162d92345049c14b586afe5f6c8": {
          "model_module": "@jupyter-widgets/controls",
          "model_module_version": "1.5.0",
          "model_name": "HTMLModel",
          "state": {
            "_dom_classes": [],
            "_model_module": "@jupyter-widgets/controls",
            "_model_module_version": "1.5.0",
            "_model_name": "HTMLModel",
            "_view_count": null,
            "_view_module": "@jupyter-widgets/controls",
            "_view_module_version": "1.5.0",
            "_view_name": "HTMLView",
            "description": "",
            "description_tooltip": null,
            "layout": "IPY_MODEL_a3c7149ed2574a07b087124a9b08e14c",
            "placeholder": "​",
            "style": "IPY_MODEL_28755ac11b3d484bb416b681c77c4707",
            "value": "model.safetensors: 100%"
          }
        },
        "28755ac11b3d484bb416b681c77c4707": {
          "model_module": "@jupyter-widgets/controls",
          "model_module_version": "1.5.0",
          "model_name": "DescriptionStyleModel",
          "state": {
            "_model_module": "@jupyter-widgets/controls",
            "_model_module_version": "1.5.0",
            "_model_name": "DescriptionStyleModel",
            "_view_count": null,
            "_view_module": "@jupyter-widgets/base",
            "_view_module_version": "1.2.0",
            "_view_name": "StyleView",
            "description_width": ""
          }
        },
        "555dd48e6bf5491f8f40142cc4f4aa0a": {
          "model_module": "@jupyter-widgets/controls",
          "model_module_version": "1.5.0",
          "model_name": "HBoxModel",
          "state": {
            "_dom_classes": [],
            "_model_module": "@jupyter-widgets/controls",
            "_model_module_version": "1.5.0",
            "_model_name": "HBoxModel",
            "_view_count": null,
            "_view_module": "@jupyter-widgets/controls",
            "_view_module_version": "1.5.0",
            "_view_name": "HBoxView",
            "box_style": "",
            "children": [
              "IPY_MODEL_1da81162d92345049c14b586afe5f6c8",
              "IPY_MODEL_d517631b1102471bbd6645ceb9121998",
              "IPY_MODEL_d946503919d44e7d8a91c7fa49c71abf"
            ],
            "layout": "IPY_MODEL_b7b4d54d7e1d4cb2bb065ccf8fcf731c"
          }
        },
        "7b76074b5ec946f9aef5245d8d60c61f": {
          "model_module": "@jupyter-widgets/controls",
          "model_module_version": "1.5.0",
          "model_name": "ProgressStyleModel",
          "state": {
            "_model_module": "@jupyter-widgets/controls",
            "_model_module_version": "1.5.0",
            "_model_name": "ProgressStyleModel",
            "_view_count": null,
            "_view_module": "@jupyter-widgets/base",
            "_view_module_version": "1.2.0",
            "_view_name": "StyleView",
            "bar_color": null,
            "description_width": ""
          }
        },
        "951b37c828f04c64b81c91378b36c0a5": {
          "model_module": "@jupyter-widgets/base",
          "model_module_version": "1.2.0",
          "model_name": "LayoutModel",
          "state": {
            "_model_module": "@jupyter-widgets/base",
            "_model_module_version": "1.2.0",
            "_model_name": "LayoutModel",
            "_view_count": null,
            "_view_module": "@jupyter-widgets/base",
            "_view_module_version": "1.2.0",
            "_view_name": "LayoutView",
            "align_content": null,
            "align_items": null,
            "align_self": null,
            "border": null,
            "bottom": null,
            "display": null,
            "flex": null,
            "flex_flow": null,
            "grid_area": null,
            "grid_auto_columns": null,
            "grid_auto_flow": null,
            "grid_auto_rows": null,
            "grid_column": null,
            "grid_gap": null,
            "grid_row": null,
            "grid_template_areas": null,
            "grid_template_columns": null,
            "grid_template_rows": null,
            "height": null,
            "justify_content": null,
            "justify_items": null,
            "left": null,
            "margin": null,
            "max_height": null,
            "max_width": null,
            "min_height": null,
            "min_width": null,
            "object_fit": null,
            "object_position": null,
            "order": null,
            "overflow": null,
            "overflow_x": null,
            "overflow_y": null,
            "padding": null,
            "right": null,
            "top": null,
            "visibility": null,
            "width": null
          }
        },
        "a3c7149ed2574a07b087124a9b08e14c": {
          "model_module": "@jupyter-widgets/base",
          "model_module_version": "1.2.0",
          "model_name": "LayoutModel",
          "state": {
            "_model_module": "@jupyter-widgets/base",
            "_model_module_version": "1.2.0",
            "_model_name": "LayoutModel",
            "_view_count": null,
            "_view_module": "@jupyter-widgets/base",
            "_view_module_version": "1.2.0",
            "_view_name": "LayoutView",
            "align_content": null,
            "align_items": null,
            "align_self": null,
            "border": null,
            "bottom": null,
            "display": null,
            "flex": null,
            "flex_flow": null,
            "grid_area": null,
            "grid_auto_columns": null,
            "grid_auto_flow": null,
            "grid_auto_rows": null,
            "grid_column": null,
            "grid_gap": null,
            "grid_row": null,
            "grid_template_areas": null,
            "grid_template_columns": null,
            "grid_template_rows": null,
            "height": null,
            "justify_content": null,
            "justify_items": null,
            "left": null,
            "margin": null,
            "max_height": null,
            "max_width": null,
            "min_height": null,
            "min_width": null,
            "object_fit": null,
            "object_position": null,
            "order": null,
            "overflow": null,
            "overflow_x": null,
            "overflow_y": null,
            "padding": null,
            "right": null,
            "top": null,
            "visibility": null,
            "width": null
          }
        },
        "b7b4d54d7e1d4cb2bb065ccf8fcf731c": {
          "model_module": "@jupyter-widgets/base",
          "model_module_version": "1.2.0",
          "model_name": "LayoutModel",
          "state": {
            "_model_module": "@jupyter-widgets/base",
            "_model_module_version": "1.2.0",
            "_model_name": "LayoutModel",
            "_view_count": null,
            "_view_module": "@jupyter-widgets/base",
            "_view_module_version": "1.2.0",
            "_view_name": "LayoutView",
            "align_content": null,
            "align_items": null,
            "align_self": null,
            "border": null,
            "bottom": null,
            "display": null,
            "flex": null,
            "flex_flow": null,
            "grid_area": null,
            "grid_auto_columns": null,
            "grid_auto_flow": null,
            "grid_auto_rows": null,
            "grid_column": null,
            "grid_gap": null,
            "grid_row": null,
            "grid_template_areas": null,
            "grid_template_columns": null,
            "grid_template_rows": null,
            "height": null,
            "justify_content": null,
            "justify_items": null,
            "left": null,
            "margin": null,
            "max_height": null,
            "max_width": null,
            "min_height": null,
            "min_width": null,
            "object_fit": null,
            "object_position": null,
            "order": null,
            "overflow": null,
            "overflow_x": null,
            "overflow_y": null,
            "padding": null,
            "right": null,
            "top": null,
            "visibility": null,
            "width": null
          }
        },
        "d517631b1102471bbd6645ceb9121998": {
          "model_module": "@jupyter-widgets/controls",
          "model_module_version": "1.5.0",
          "model_name": "FloatProgressModel",
          "state": {
            "_dom_classes": [],
            "_model_module": "@jupyter-widgets/controls",
            "_model_module_version": "1.5.0",
            "_model_name": "FloatProgressModel",
            "_view_count": null,
            "_view_module": "@jupyter-widgets/controls",
            "_view_module_version": "1.5.0",
            "_view_name": "ProgressView",
            "bar_style": "success",
            "description": "",
            "description_tooltip": null,
            "layout": "IPY_MODEL_951b37c828f04c64b81c91378b36c0a5",
            "max": 1217502758,
            "min": 0,
            "orientation": "horizontal",
            "style": "IPY_MODEL_7b76074b5ec946f9aef5245d8d60c61f",
            "value": 1217502758
          }
        },
        "d946503919d44e7d8a91c7fa49c71abf": {
          "model_module": "@jupyter-widgets/controls",
          "model_module_version": "1.5.0",
          "model_name": "HTMLModel",
          "state": {
            "_dom_classes": [],
            "_model_module": "@jupyter-widgets/controls",
            "_model_module_version": "1.5.0",
            "_model_name": "HTMLModel",
            "_view_count": null,
            "_view_module": "@jupyter-widgets/controls",
            "_view_module_version": "1.5.0",
            "_view_name": "HTMLView",
            "description": "",
            "description_tooltip": null,
            "layout": "IPY_MODEL_196e3e631f67479485240712c5cf616c",
            "placeholder": "​",
            "style": "IPY_MODEL_0761b8cdf8e74e3ea9f9733825de2ff9",
            "value": " 1.22G/1.22G [00:03&lt;00:00, 345MB/s]"
          }
        },
        "732eaac2211f4df3be39c84167f1d6c6": {
          "model_module": "@jupyter-widgets/controls",
          "model_name": "HBoxModel",
          "model_module_version": "1.5.0",
          "state": {
            "_dom_classes": [],
            "_model_module": "@jupyter-widgets/controls",
            "_model_module_version": "1.5.0",
            "_model_name": "HBoxModel",
            "_view_count": null,
            "_view_module": "@jupyter-widgets/controls",
            "_view_module_version": "1.5.0",
            "_view_name": "HBoxView",
            "box_style": "",
            "children": [
              "IPY_MODEL_179535aeab34403f94d861798f066cb0",
              "IPY_MODEL_3c834d0a01b64b7e872272b964115243",
              "IPY_MODEL_b3b6940c596a4c59a11e67d68de37b3f"
            ],
            "layout": "IPY_MODEL_9b8b0a2f7e3e45639cb4d3f3c2ed7e3c"
          }
        },
        "179535aeab34403f94d861798f066cb0": {
          "model_module": "@jupyter-widgets/controls",
          "model_name": "HTMLModel",
          "model_module_version": "1.5.0",
          "state": {
            "_dom_classes": [],
            "_model_module": "@jupyter-widgets/controls",
            "_model_module_version": "1.5.0",
            "_model_name": "HTMLModel",
            "_view_count": null,
            "_view_module": "@jupyter-widgets/controls",
            "_view_module_version": "1.5.0",
            "_view_name": "HTMLView",
            "description": "",
            "description_tooltip": null,
            "layout": "IPY_MODEL_857fde1ad1e94549b9d486b09fd7e7ac",
            "placeholder": "​",
            "style": "IPY_MODEL_4f817aa7750d46b2be35e6fbd6286617",
            "value": "model.safetensors: 100%"
          }
        },
        "3c834d0a01b64b7e872272b964115243": {
          "model_module": "@jupyter-widgets/controls",
          "model_name": "FloatProgressModel",
          "model_module_version": "1.5.0",
          "state": {
            "_dom_classes": [],
            "_model_module": "@jupyter-widgets/controls",
            "_model_module_version": "1.5.0",
            "_model_name": "FloatProgressModel",
            "_view_count": null,
            "_view_module": "@jupyter-widgets/controls",
            "_view_module_version": "1.5.0",
            "_view_name": "ProgressView",
            "bar_style": "success",
            "description": "",
            "description_tooltip": null,
            "layout": "IPY_MODEL_c8944ddd59dd4b2db1c0c36ea8f86889",
            "max": 1217502758,
            "min": 0,
            "orientation": "horizontal",
            "style": "IPY_MODEL_a3c52d41e9c74e3e88d6069aee582169",
            "value": 1217502758
          }
        },
        "b3b6940c596a4c59a11e67d68de37b3f": {
          "model_module": "@jupyter-widgets/controls",
          "model_name": "HTMLModel",
          "model_module_version": "1.5.0",
          "state": {
            "_dom_classes": [],
            "_model_module": "@jupyter-widgets/controls",
            "_model_module_version": "1.5.0",
            "_model_name": "HTMLModel",
            "_view_count": null,
            "_view_module": "@jupyter-widgets/controls",
            "_view_module_version": "1.5.0",
            "_view_name": "HTMLView",
            "description": "",
            "description_tooltip": null,
            "layout": "IPY_MODEL_c89907d0986c4ff4ba93ee2bf505ed8d",
            "placeholder": "​",
            "style": "IPY_MODEL_d2a254e88cd849dda857b64ad811af70",
            "value": " 1.22G/1.22G [00:04&lt;00:00, 264MB/s]"
          }
        },
        "9b8b0a2f7e3e45639cb4d3f3c2ed7e3c": {
          "model_module": "@jupyter-widgets/base",
          "model_name": "LayoutModel",
          "model_module_version": "1.2.0",
          "state": {
            "_model_module": "@jupyter-widgets/base",
            "_model_module_version": "1.2.0",
            "_model_name": "LayoutModel",
            "_view_count": null,
            "_view_module": "@jupyter-widgets/base",
            "_view_module_version": "1.2.0",
            "_view_name": "LayoutView",
            "align_content": null,
            "align_items": null,
            "align_self": null,
            "border": null,
            "bottom": null,
            "display": null,
            "flex": null,
            "flex_flow": null,
            "grid_area": null,
            "grid_auto_columns": null,
            "grid_auto_flow": null,
            "grid_auto_rows": null,
            "grid_column": null,
            "grid_gap": null,
            "grid_row": null,
            "grid_template_areas": null,
            "grid_template_columns": null,
            "grid_template_rows": null,
            "height": null,
            "justify_content": null,
            "justify_items": null,
            "left": null,
            "margin": null,
            "max_height": null,
            "max_width": null,
            "min_height": null,
            "min_width": null,
            "object_fit": null,
            "object_position": null,
            "order": null,
            "overflow": null,
            "overflow_x": null,
            "overflow_y": null,
            "padding": null,
            "right": null,
            "top": null,
            "visibility": null,
            "width": null
          }
        },
        "857fde1ad1e94549b9d486b09fd7e7ac": {
          "model_module": "@jupyter-widgets/base",
          "model_name": "LayoutModel",
          "model_module_version": "1.2.0",
          "state": {
            "_model_module": "@jupyter-widgets/base",
            "_model_module_version": "1.2.0",
            "_model_name": "LayoutModel",
            "_view_count": null,
            "_view_module": "@jupyter-widgets/base",
            "_view_module_version": "1.2.0",
            "_view_name": "LayoutView",
            "align_content": null,
            "align_items": null,
            "align_self": null,
            "border": null,
            "bottom": null,
            "display": null,
            "flex": null,
            "flex_flow": null,
            "grid_area": null,
            "grid_auto_columns": null,
            "grid_auto_flow": null,
            "grid_auto_rows": null,
            "grid_column": null,
            "grid_gap": null,
            "grid_row": null,
            "grid_template_areas": null,
            "grid_template_columns": null,
            "grid_template_rows": null,
            "height": null,
            "justify_content": null,
            "justify_items": null,
            "left": null,
            "margin": null,
            "max_height": null,
            "max_width": null,
            "min_height": null,
            "min_width": null,
            "object_fit": null,
            "object_position": null,
            "order": null,
            "overflow": null,
            "overflow_x": null,
            "overflow_y": null,
            "padding": null,
            "right": null,
            "top": null,
            "visibility": null,
            "width": null
          }
        },
        "4f817aa7750d46b2be35e6fbd6286617": {
          "model_module": "@jupyter-widgets/controls",
          "model_name": "DescriptionStyleModel",
          "model_module_version": "1.5.0",
          "state": {
            "_model_module": "@jupyter-widgets/controls",
            "_model_module_version": "1.5.0",
            "_model_name": "DescriptionStyleModel",
            "_view_count": null,
            "_view_module": "@jupyter-widgets/base",
            "_view_module_version": "1.2.0",
            "_view_name": "StyleView",
            "description_width": ""
          }
        },
        "c8944ddd59dd4b2db1c0c36ea8f86889": {
          "model_module": "@jupyter-widgets/base",
          "model_name": "LayoutModel",
          "model_module_version": "1.2.0",
          "state": {
            "_model_module": "@jupyter-widgets/base",
            "_model_module_version": "1.2.0",
            "_model_name": "LayoutModel",
            "_view_count": null,
            "_view_module": "@jupyter-widgets/base",
            "_view_module_version": "1.2.0",
            "_view_name": "LayoutView",
            "align_content": null,
            "align_items": null,
            "align_self": null,
            "border": null,
            "bottom": null,
            "display": null,
            "flex": null,
            "flex_flow": null,
            "grid_area": null,
            "grid_auto_columns": null,
            "grid_auto_flow": null,
            "grid_auto_rows": null,
            "grid_column": null,
            "grid_gap": null,
            "grid_row": null,
            "grid_template_areas": null,
            "grid_template_columns": null,
            "grid_template_rows": null,
            "height": null,
            "justify_content": null,
            "justify_items": null,
            "left": null,
            "margin": null,
            "max_height": null,
            "max_width": null,
            "min_height": null,
            "min_width": null,
            "object_fit": null,
            "object_position": null,
            "order": null,
            "overflow": null,
            "overflow_x": null,
            "overflow_y": null,
            "padding": null,
            "right": null,
            "top": null,
            "visibility": null,
            "width": null
          }
        },
        "a3c52d41e9c74e3e88d6069aee582169": {
          "model_module": "@jupyter-widgets/controls",
          "model_name": "ProgressStyleModel",
          "model_module_version": "1.5.0",
          "state": {
            "_model_module": "@jupyter-widgets/controls",
            "_model_module_version": "1.5.0",
            "_model_name": "ProgressStyleModel",
            "_view_count": null,
            "_view_module": "@jupyter-widgets/base",
            "_view_module_version": "1.2.0",
            "_view_name": "StyleView",
            "bar_color": null,
            "description_width": ""
          }
        },
        "c89907d0986c4ff4ba93ee2bf505ed8d": {
          "model_module": "@jupyter-widgets/base",
          "model_name": "LayoutModel",
          "model_module_version": "1.2.0",
          "state": {
            "_model_module": "@jupyter-widgets/base",
            "_model_module_version": "1.2.0",
            "_model_name": "LayoutModel",
            "_view_count": null,
            "_view_module": "@jupyter-widgets/base",
            "_view_module_version": "1.2.0",
            "_view_name": "LayoutView",
            "align_content": null,
            "align_items": null,
            "align_self": null,
            "border": null,
            "bottom": null,
            "display": null,
            "flex": null,
            "flex_flow": null,
            "grid_area": null,
            "grid_auto_columns": null,
            "grid_auto_flow": null,
            "grid_auto_rows": null,
            "grid_column": null,
            "grid_gap": null,
            "grid_row": null,
            "grid_template_areas": null,
            "grid_template_columns": null,
            "grid_template_rows": null,
            "height": null,
            "justify_content": null,
            "justify_items": null,
            "left": null,
            "margin": null,
            "max_height": null,
            "max_width": null,
            "min_height": null,
            "min_width": null,
            "object_fit": null,
            "object_position": null,
            "order": null,
            "overflow": null,
            "overflow_x": null,
            "overflow_y": null,
            "padding": null,
            "right": null,
            "top": null,
            "visibility": null,
            "width": null
          }
        },
        "d2a254e88cd849dda857b64ad811af70": {
          "model_module": "@jupyter-widgets/controls",
          "model_name": "DescriptionStyleModel",
          "model_module_version": "1.5.0",
          "state": {
            "_model_module": "@jupyter-widgets/controls",
            "_model_module_version": "1.5.0",
            "_model_name": "DescriptionStyleModel",
            "_view_count": null,
            "_view_module": "@jupyter-widgets/base",
            "_view_module_version": "1.2.0",
            "_view_name": "StyleView",
            "description_width": ""
          }
        }
      }
    }
  },
  "nbformat": 4,
  "nbformat_minor": 0
}