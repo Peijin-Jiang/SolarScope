{
  "cells": [
    {
      "cell_type": "code",
      "execution_count": null,
      "metadata": {
        "colab": {
          "base_uri": "https://localhost:8080/"
        },
        "id": "BHgIjhT2ZeFT",
        "outputId": "392694c2-2b35-4994-b2ab-a530a0631573"
      },
      "outputs": [
        {
          "output_type": "stream",
          "name": "stdout",
          "text": [
            "Mounted at /content/drive\n"
          ]
        }
      ],
      "source": [
        "# mount the google drive\n",
        "from google.colab import drive\n",
        "drive.mount('/content/drive', force_remount=True)"
      ]
    },
    {
      "cell_type": "code",
      "execution_count": null,
      "metadata": {
        "id": "nj3guquBQYy2"
      },
      "outputs": [],
      "source": [
        "# import torch\n",
        "# image_size = 640\n",
        "# predicted_masks = torch.zeros((2, 3, 512, 512))\n",
        "# predicted_masks = torch.nn.functional.interpolate(predicted_masks, size=(image_size, image_size), mode=\"bilinear\", align_corners=False)\n",
        "# predicted_masks.shape"
      ]
    },
    {
      "cell_type": "code",
      "execution_count": null,
      "metadata": {
        "id": "mrnJXw28H0fb"
      },
      "outputs": [],
      "source": [
        "# import torch\n",
        "# from transformers import SegformerForSemanticSegmentation\n",
        "# import json\n",
        "# from huggingface_hub import hf_hub_download\n",
        "\n",
        "# # define model\n",
        "# model = SegformerForSemanticSegmentation.from_pretrained(\"nvidia/mit-b1\",\n",
        "#                                                          num_labels=1,\n",
        "#                                                          id2label={1: \"solar_pv\"},\n",
        "#                                                          label2id={\"solar_pv\": 1},\n",
        "# ).cuda()\n",
        "# inputs = torch.zeros((1, 3, 512, 512))\n",
        "# model.eval()\n",
        "# model(inputs.to(\"cuda\")).logits.shape"
      ]
    },
    {
      "cell_type": "code",
      "execution_count": null,
      "metadata": {
        "id": "5RtQ8QAAyr96"
      },
      "outputs": [],
      "source": [
        "DATADIR=\"/content/drive/MyDrive/solar_PV/data/\"\n",
        "SRCDIR=\"/content/drive/MyDrive/solar_PV_prediction/src/\""
      ]
    },
    {
      "cell_type": "code",
      "execution_count": null,
      "metadata": {
        "colab": {
          "base_uri": "https://localhost:8080/"
        },
        "id": "LRQ9pzAr1fjN",
        "outputId": "aa3c2df9-891f-41ba-9ae7-e95f537e78c8"
      },
      "outputs": [
        {
          "output_type": "stream",
          "name": "stdout",
          "text": [
            "Collecting monai\n",
            "  Downloading monai-1.5.0-py3-none-any.whl.metadata (13 kB)\n",
            "Requirement already satisfied: numpy<3.0,>=1.24 in /usr/local/lib/python3.11/dist-packages (from monai) (2.0.2)\n",
            "Requirement already satisfied: torch<2.7.0,>=2.4.1 in /usr/local/lib/python3.11/dist-packages (from monai) (2.6.0+cu124)\n",
            "Requirement already satisfied: filelock in /usr/local/lib/python3.11/dist-packages (from torch<2.7.0,>=2.4.1->monai) (3.18.0)\n",
            "Requirement already satisfied: typing-extensions>=4.10.0 in /usr/local/lib/python3.11/dist-packages (from torch<2.7.0,>=2.4.1->monai) (4.14.0)\n",
            "Requirement already satisfied: networkx in /usr/local/lib/python3.11/dist-packages (from torch<2.7.0,>=2.4.1->monai) (3.5)\n",
            "Requirement already satisfied: jinja2 in /usr/local/lib/python3.11/dist-packages (from torch<2.7.0,>=2.4.1->monai) (3.1.6)\n",
            "Requirement already satisfied: fsspec in /usr/local/lib/python3.11/dist-packages (from torch<2.7.0,>=2.4.1->monai) (2025.3.2)\n",
            "Collecting nvidia-cuda-nvrtc-cu12==12.4.127 (from torch<2.7.0,>=2.4.1->monai)\n",
            "  Downloading nvidia_cuda_nvrtc_cu12-12.4.127-py3-none-manylinux2014_x86_64.whl.metadata (1.5 kB)\n",
            "Collecting nvidia-cuda-runtime-cu12==12.4.127 (from torch<2.7.0,>=2.4.1->monai)\n",
            "  Downloading nvidia_cuda_runtime_cu12-12.4.127-py3-none-manylinux2014_x86_64.whl.metadata (1.5 kB)\n",
            "Collecting nvidia-cuda-cupti-cu12==12.4.127 (from torch<2.7.0,>=2.4.1->monai)\n",
            "  Downloading nvidia_cuda_cupti_cu12-12.4.127-py3-none-manylinux2014_x86_64.whl.metadata (1.6 kB)\n",
            "Collecting nvidia-cudnn-cu12==9.1.0.70 (from torch<2.7.0,>=2.4.1->monai)\n",
            "  Downloading nvidia_cudnn_cu12-9.1.0.70-py3-none-manylinux2014_x86_64.whl.metadata (1.6 kB)\n",
            "Collecting nvidia-cublas-cu12==12.4.5.8 (from torch<2.7.0,>=2.4.1->monai)\n",
            "  Downloading nvidia_cublas_cu12-12.4.5.8-py3-none-manylinux2014_x86_64.whl.metadata (1.5 kB)\n",
            "Collecting nvidia-cufft-cu12==11.2.1.3 (from torch<2.7.0,>=2.4.1->monai)\n",
            "  Downloading nvidia_cufft_cu12-11.2.1.3-py3-none-manylinux2014_x86_64.whl.metadata (1.5 kB)\n",
            "Collecting nvidia-curand-cu12==10.3.5.147 (from torch<2.7.0,>=2.4.1->monai)\n",
            "  Downloading nvidia_curand_cu12-10.3.5.147-py3-none-manylinux2014_x86_64.whl.metadata (1.5 kB)\n",
            "Collecting nvidia-cusolver-cu12==11.6.1.9 (from torch<2.7.0,>=2.4.1->monai)\n",
            "  Downloading nvidia_cusolver_cu12-11.6.1.9-py3-none-manylinux2014_x86_64.whl.metadata (1.6 kB)\n",
            "Collecting nvidia-cusparse-cu12==12.3.1.170 (from torch<2.7.0,>=2.4.1->monai)\n",
            "  Downloading nvidia_cusparse_cu12-12.3.1.170-py3-none-manylinux2014_x86_64.whl.metadata (1.6 kB)\n",
            "Requirement already satisfied: nvidia-cusparselt-cu12==0.6.2 in /usr/local/lib/python3.11/dist-packages (from torch<2.7.0,>=2.4.1->monai) (0.6.2)\n",
            "Requirement already satisfied: nvidia-nccl-cu12==2.21.5 in /usr/local/lib/python3.11/dist-packages (from torch<2.7.0,>=2.4.1->monai) (2.21.5)\n",
            "Requirement already satisfied: nvidia-nvtx-cu12==12.4.127 in /usr/local/lib/python3.11/dist-packages (from torch<2.7.0,>=2.4.1->monai) (12.4.127)\n",
            "Collecting nvidia-nvjitlink-cu12==12.4.127 (from torch<2.7.0,>=2.4.1->monai)\n",
            "  Downloading nvidia_nvjitlink_cu12-12.4.127-py3-none-manylinux2014_x86_64.whl.metadata (1.5 kB)\n",
            "Requirement already satisfied: triton==3.2.0 in /usr/local/lib/python3.11/dist-packages (from torch<2.7.0,>=2.4.1->monai) (3.2.0)\n",
            "Requirement already satisfied: sympy==1.13.1 in /usr/local/lib/python3.11/dist-packages (from torch<2.7.0,>=2.4.1->monai) (1.13.1)\n",
            "Requirement already satisfied: mpmath<1.4,>=1.1.0 in /usr/local/lib/python3.11/dist-packages (from sympy==1.13.1->torch<2.7.0,>=2.4.1->monai) (1.3.0)\n",
            "Requirement already satisfied: MarkupSafe>=2.0 in /usr/local/lib/python3.11/dist-packages (from jinja2->torch<2.7.0,>=2.4.1->monai) (3.0.2)\n",
            "Downloading monai-1.5.0-py3-none-any.whl (2.7 MB)\n",
            "\u001b[2K   \u001b[90m━━━━━━━━━━━━━━━━━━━━━━━━━━━━━━━━━━━━━━━━\u001b[0m \u001b[32m2.7/2.7 MB\u001b[0m \u001b[31m30.9 MB/s\u001b[0m eta \u001b[36m0:00:00\u001b[0m\n",
            "\u001b[?25hDownloading nvidia_cublas_cu12-12.4.5.8-py3-none-manylinux2014_x86_64.whl (363.4 MB)\n",
            "\u001b[2K   \u001b[90m━━━━━━━━━━━━━━━━━━━━━━━━━━━━━━━━━━━━━━━━\u001b[0m \u001b[32m363.4/363.4 MB\u001b[0m \u001b[31m2.9 MB/s\u001b[0m eta \u001b[36m0:00:00\u001b[0m\n",
            "\u001b[?25hDownloading nvidia_cuda_cupti_cu12-12.4.127-py3-none-manylinux2014_x86_64.whl (13.8 MB)\n",
            "\u001b[2K   \u001b[90m━━━━━━━━━━━━━━━━━━━━━━━━━━━━━━━━━━━━━━━━\u001b[0m \u001b[32m13.8/13.8 MB\u001b[0m \u001b[31m120.3 MB/s\u001b[0m eta \u001b[36m0:00:00\u001b[0m\n",
            "\u001b[?25hDownloading nvidia_cuda_nvrtc_cu12-12.4.127-py3-none-manylinux2014_x86_64.whl (24.6 MB)\n",
            "\u001b[2K   \u001b[90m━━━━━━━━━━━━━━━━━━━━━━━━━━━━━━━━━━━━━━━━\u001b[0m \u001b[32m24.6/24.6 MB\u001b[0m \u001b[31m94.2 MB/s\u001b[0m eta \u001b[36m0:00:00\u001b[0m\n",
            "\u001b[?25hDownloading nvidia_cuda_runtime_cu12-12.4.127-py3-none-manylinux2014_x86_64.whl (883 kB)\n",
            "\u001b[2K   \u001b[90m━━━━━━━━━━━━━━━━━━━━━━━━━━━━━━━━━━━━━━━━\u001b[0m \u001b[32m883.7/883.7 kB\u001b[0m \u001b[31m57.3 MB/s\u001b[0m eta \u001b[36m0:00:00\u001b[0m\n",
            "\u001b[?25hDownloading nvidia_cudnn_cu12-9.1.0.70-py3-none-manylinux2014_x86_64.whl (664.8 MB)\n",
            "\u001b[2K   \u001b[90m━━━━━━━━━━━━━━━━━━━━━━━━━━━━━━━━━━━━━━━━\u001b[0m \u001b[32m664.8/664.8 MB\u001b[0m \u001b[31m2.0 MB/s\u001b[0m eta \u001b[36m0:00:00\u001b[0m\n",
            "\u001b[?25hDownloading nvidia_cufft_cu12-11.2.1.3-py3-none-manylinux2014_x86_64.whl (211.5 MB)\n",
            "\u001b[2K   \u001b[90m━━━━━━━━━━━━━━━━━━━━━━━━━━━━━━━━━━━━━━━━\u001b[0m \u001b[32m211.5/211.5 MB\u001b[0m \u001b[31m11.5 MB/s\u001b[0m eta \u001b[36m0:00:00\u001b[0m\n",
            "\u001b[?25hDownloading nvidia_curand_cu12-10.3.5.147-py3-none-manylinux2014_x86_64.whl (56.3 MB)\n",
            "\u001b[2K   \u001b[90m━━━━━━━━━━━━━━━━━━━━━━━━━━━━━━━━━━━━━━━━\u001b[0m \u001b[32m56.3/56.3 MB\u001b[0m \u001b[31m42.0 MB/s\u001b[0m eta \u001b[36m0:00:00\u001b[0m\n",
            "\u001b[?25hDownloading nvidia_cusolver_cu12-11.6.1.9-py3-none-manylinux2014_x86_64.whl (127.9 MB)\n",
            "\u001b[2K   \u001b[90m━━━━━━━━━━━━━━━━━━━━━━━━━━━━━━━━━━━━━━━━\u001b[0m \u001b[32m127.9/127.9 MB\u001b[0m \u001b[31m19.4 MB/s\u001b[0m eta \u001b[36m0:00:00\u001b[0m\n",
            "\u001b[?25hDownloading nvidia_cusparse_cu12-12.3.1.170-py3-none-manylinux2014_x86_64.whl (207.5 MB)\n",
            "\u001b[2K   \u001b[90m━━━━━━━━━━━━━━━━━━━━━━━━━━━━━━━━━━━━━━━━\u001b[0m \u001b[32m207.5/207.5 MB\u001b[0m \u001b[31m3.3 MB/s\u001b[0m eta \u001b[36m0:00:00\u001b[0m\n",
            "\u001b[?25hDownloading nvidia_nvjitlink_cu12-12.4.127-py3-none-manylinux2014_x86_64.whl (21.1 MB)\n",
            "\u001b[2K   \u001b[90m━━━━━━━━━━━━━━━━━━━━━━━━━━━━━━━━━━━━━━━━\u001b[0m \u001b[32m21.1/21.1 MB\u001b[0m \u001b[31m99.9 MB/s\u001b[0m eta \u001b[36m0:00:00\u001b[0m\n",
            "\u001b[?25hInstalling collected packages: nvidia-nvjitlink-cu12, nvidia-curand-cu12, nvidia-cufft-cu12, nvidia-cuda-runtime-cu12, nvidia-cuda-nvrtc-cu12, nvidia-cuda-cupti-cu12, nvidia-cublas-cu12, nvidia-cusparse-cu12, nvidia-cudnn-cu12, nvidia-cusolver-cu12, monai\n",
            "  Attempting uninstall: nvidia-nvjitlink-cu12\n",
            "    Found existing installation: nvidia-nvjitlink-cu12 12.5.82\n",
            "    Uninstalling nvidia-nvjitlink-cu12-12.5.82:\n",
            "      Successfully uninstalled nvidia-nvjitlink-cu12-12.5.82\n",
            "  Attempting uninstall: nvidia-curand-cu12\n",
            "    Found existing installation: nvidia-curand-cu12 10.3.6.82\n",
            "    Uninstalling nvidia-curand-cu12-10.3.6.82:\n",
            "      Successfully uninstalled nvidia-curand-cu12-10.3.6.82\n",
            "  Attempting uninstall: nvidia-cufft-cu12\n",
            "    Found existing installation: nvidia-cufft-cu12 11.2.3.61\n",
            "    Uninstalling nvidia-cufft-cu12-11.2.3.61:\n",
            "      Successfully uninstalled nvidia-cufft-cu12-11.2.3.61\n",
            "  Attempting uninstall: nvidia-cuda-runtime-cu12\n",
            "    Found existing installation: nvidia-cuda-runtime-cu12 12.5.82\n",
            "    Uninstalling nvidia-cuda-runtime-cu12-12.5.82:\n",
            "      Successfully uninstalled nvidia-cuda-runtime-cu12-12.5.82\n",
            "  Attempting uninstall: nvidia-cuda-nvrtc-cu12\n",
            "    Found existing installation: nvidia-cuda-nvrtc-cu12 12.5.82\n",
            "    Uninstalling nvidia-cuda-nvrtc-cu12-12.5.82:\n",
            "      Successfully uninstalled nvidia-cuda-nvrtc-cu12-12.5.82\n",
            "  Attempting uninstall: nvidia-cuda-cupti-cu12\n",
            "    Found existing installation: nvidia-cuda-cupti-cu12 12.5.82\n",
            "    Uninstalling nvidia-cuda-cupti-cu12-12.5.82:\n",
            "      Successfully uninstalled nvidia-cuda-cupti-cu12-12.5.82\n",
            "  Attempting uninstall: nvidia-cublas-cu12\n",
            "    Found existing installation: nvidia-cublas-cu12 12.5.3.2\n",
            "    Uninstalling nvidia-cublas-cu12-12.5.3.2:\n",
            "      Successfully uninstalled nvidia-cublas-cu12-12.5.3.2\n",
            "  Attempting uninstall: nvidia-cusparse-cu12\n",
            "    Found existing installation: nvidia-cusparse-cu12 12.5.1.3\n",
            "    Uninstalling nvidia-cusparse-cu12-12.5.1.3:\n",
            "      Successfully uninstalled nvidia-cusparse-cu12-12.5.1.3\n",
            "  Attempting uninstall: nvidia-cudnn-cu12\n",
            "    Found existing installation: nvidia-cudnn-cu12 9.3.0.75\n",
            "    Uninstalling nvidia-cudnn-cu12-9.3.0.75:\n",
            "      Successfully uninstalled nvidia-cudnn-cu12-9.3.0.75\n",
            "  Attempting uninstall: nvidia-cusolver-cu12\n",
            "    Found existing installation: nvidia-cusolver-cu12 11.6.3.83\n",
            "    Uninstalling nvidia-cusolver-cu12-11.6.3.83:\n",
            "      Successfully uninstalled nvidia-cusolver-cu12-11.6.3.83\n",
            "Successfully installed monai-1.5.0 nvidia-cublas-cu12-12.4.5.8 nvidia-cuda-cupti-cu12-12.4.127 nvidia-cuda-nvrtc-cu12-12.4.127 nvidia-cuda-runtime-cu12-12.4.127 nvidia-cudnn-cu12-9.1.0.70 nvidia-cufft-cu12-11.2.1.3 nvidia-curand-cu12-10.3.5.147 nvidia-cusolver-cu12-11.6.1.9 nvidia-cusparse-cu12-12.3.1.170 nvidia-nvjitlink-cu12-12.4.127\n",
            "Requirement already satisfied: wandb in /usr/local/lib/python3.11/dist-packages (0.20.1)\n",
            "Requirement already satisfied: click!=8.0.0,>=7.1 in /usr/local/lib/python3.11/dist-packages (from wandb) (8.2.1)\n",
            "Requirement already satisfied: gitpython!=3.1.29,>=1.0.0 in /usr/local/lib/python3.11/dist-packages (from wandb) (3.1.44)\n",
            "Requirement already satisfied: packaging in /usr/local/lib/python3.11/dist-packages (from wandb) (24.2)\n",
            "Requirement already satisfied: platformdirs in /usr/local/lib/python3.11/dist-packages (from wandb) (4.3.8)\n",
            "Requirement already satisfied: protobuf!=4.21.0,!=5.28.0,<7,>=3.19.0 in /usr/local/lib/python3.11/dist-packages (from wandb) (5.29.5)\n",
            "Requirement already satisfied: psutil>=5.0.0 in /usr/local/lib/python3.11/dist-packages (from wandb) (5.9.5)\n",
            "Requirement already satisfied: pydantic<3 in /usr/local/lib/python3.11/dist-packages (from wandb) (2.11.7)\n",
            "Requirement already satisfied: pyyaml in /usr/local/lib/python3.11/dist-packages (from wandb) (6.0.2)\n",
            "Requirement already satisfied: requests<3,>=2.0.0 in /usr/local/lib/python3.11/dist-packages (from wandb) (2.32.3)\n",
            "Requirement already satisfied: sentry-sdk>=2.0.0 in /usr/local/lib/python3.11/dist-packages (from wandb) (2.30.0)\n",
            "Requirement already satisfied: setproctitle in /usr/local/lib/python3.11/dist-packages (from wandb) (1.3.6)\n",
            "Requirement already satisfied: typing-extensions<5,>=4.8 in /usr/local/lib/python3.11/dist-packages (from wandb) (4.14.0)\n",
            "Requirement already satisfied: gitdb<5,>=4.0.1 in /usr/local/lib/python3.11/dist-packages (from gitpython!=3.1.29,>=1.0.0->wandb) (4.0.12)\n",
            "Requirement already satisfied: annotated-types>=0.6.0 in /usr/local/lib/python3.11/dist-packages (from pydantic<3->wandb) (0.7.0)\n",
            "Requirement already satisfied: pydantic-core==2.33.2 in /usr/local/lib/python3.11/dist-packages (from pydantic<3->wandb) (2.33.2)\n",
            "Requirement already satisfied: typing-inspection>=0.4.0 in /usr/local/lib/python3.11/dist-packages (from pydantic<3->wandb) (0.4.1)\n",
            "Requirement already satisfied: charset-normalizer<4,>=2 in /usr/local/lib/python3.11/dist-packages (from requests<3,>=2.0.0->wandb) (3.4.2)\n",
            "Requirement already satisfied: idna<4,>=2.5 in /usr/local/lib/python3.11/dist-packages (from requests<3,>=2.0.0->wandb) (3.10)\n",
            "Requirement already satisfied: urllib3<3,>=1.21.1 in /usr/local/lib/python3.11/dist-packages (from requests<3,>=2.0.0->wandb) (2.4.0)\n",
            "Requirement already satisfied: certifi>=2017.4.17 in /usr/local/lib/python3.11/dist-packages (from requests<3,>=2.0.0->wandb) (2025.6.15)\n",
            "Requirement already satisfied: smmap<6,>=3.0.1 in /usr/local/lib/python3.11/dist-packages (from gitdb<5,>=4.0.1->gitpython!=3.1.29,>=1.0.0->wandb) (5.0.2)\n",
            "Collecting segmentation-models-pytorch\n",
            "  Downloading segmentation_models_pytorch-0.5.0-py3-none-any.whl.metadata (17 kB)\n",
            "Requirement already satisfied: huggingface-hub>=0.24 in /usr/local/lib/python3.11/dist-packages (from segmentation-models-pytorch) (0.33.0)\n",
            "Requirement already satisfied: numpy>=1.19.3 in /usr/local/lib/python3.11/dist-packages (from segmentation-models-pytorch) (2.0.2)\n",
            "Requirement already satisfied: pillow>=8 in /usr/local/lib/python3.11/dist-packages (from segmentation-models-pytorch) (11.2.1)\n",
            "Requirement already satisfied: safetensors>=0.3.1 in /usr/local/lib/python3.11/dist-packages (from segmentation-models-pytorch) (0.5.3)\n",
            "Requirement already satisfied: timm>=0.9 in /usr/local/lib/python3.11/dist-packages (from segmentation-models-pytorch) (1.0.15)\n",
            "Requirement already satisfied: torch>=1.8 in /usr/local/lib/python3.11/dist-packages (from segmentation-models-pytorch) (2.6.0+cu124)\n",
            "Requirement already satisfied: torchvision>=0.9 in /usr/local/lib/python3.11/dist-packages (from segmentation-models-pytorch) (0.21.0+cu124)\n",
            "Requirement already satisfied: tqdm>=4.42.1 in /usr/local/lib/python3.11/dist-packages (from segmentation-models-pytorch) (4.67.1)\n",
            "Requirement already satisfied: filelock in /usr/local/lib/python3.11/dist-packages (from huggingface-hub>=0.24->segmentation-models-pytorch) (3.18.0)\n",
            "Requirement already satisfied: fsspec>=2023.5.0 in /usr/local/lib/python3.11/dist-packages (from huggingface-hub>=0.24->segmentation-models-pytorch) (2025.3.2)\n",
            "Requirement already satisfied: packaging>=20.9 in /usr/local/lib/python3.11/dist-packages (from huggingface-hub>=0.24->segmentation-models-pytorch) (24.2)\n",
            "Requirement already satisfied: pyyaml>=5.1 in /usr/local/lib/python3.11/dist-packages (from huggingface-hub>=0.24->segmentation-models-pytorch) (6.0.2)\n",
            "Requirement already satisfied: requests in /usr/local/lib/python3.11/dist-packages (from huggingface-hub>=0.24->segmentation-models-pytorch) (2.32.3)\n",
            "Requirement already satisfied: typing-extensions>=3.7.4.3 in /usr/local/lib/python3.11/dist-packages (from huggingface-hub>=0.24->segmentation-models-pytorch) (4.14.0)\n",
            "Requirement already satisfied: hf-xet<2.0.0,>=1.1.2 in /usr/local/lib/python3.11/dist-packages (from huggingface-hub>=0.24->segmentation-models-pytorch) (1.1.5)\n",
            "Requirement already satisfied: networkx in /usr/local/lib/python3.11/dist-packages (from torch>=1.8->segmentation-models-pytorch) (3.5)\n",
            "Requirement already satisfied: jinja2 in /usr/local/lib/python3.11/dist-packages (from torch>=1.8->segmentation-models-pytorch) (3.1.6)\n",
            "Requirement already satisfied: nvidia-cuda-nvrtc-cu12==12.4.127 in /usr/local/lib/python3.11/dist-packages (from torch>=1.8->segmentation-models-pytorch) (12.4.127)\n",
            "Requirement already satisfied: nvidia-cuda-runtime-cu12==12.4.127 in /usr/local/lib/python3.11/dist-packages (from torch>=1.8->segmentation-models-pytorch) (12.4.127)\n",
            "Requirement already satisfied: nvidia-cuda-cupti-cu12==12.4.127 in /usr/local/lib/python3.11/dist-packages (from torch>=1.8->segmentation-models-pytorch) (12.4.127)\n",
            "Requirement already satisfied: nvidia-cudnn-cu12==9.1.0.70 in /usr/local/lib/python3.11/dist-packages (from torch>=1.8->segmentation-models-pytorch) (9.1.0.70)\n",
            "Requirement already satisfied: nvidia-cublas-cu12==12.4.5.8 in /usr/local/lib/python3.11/dist-packages (from torch>=1.8->segmentation-models-pytorch) (12.4.5.8)\n",
            "Requirement already satisfied: nvidia-cufft-cu12==11.2.1.3 in /usr/local/lib/python3.11/dist-packages (from torch>=1.8->segmentation-models-pytorch) (11.2.1.3)\n",
            "Requirement already satisfied: nvidia-curand-cu12==10.3.5.147 in /usr/local/lib/python3.11/dist-packages (from torch>=1.8->segmentation-models-pytorch) (10.3.5.147)\n",
            "Requirement already satisfied: nvidia-cusolver-cu12==11.6.1.9 in /usr/local/lib/python3.11/dist-packages (from torch>=1.8->segmentation-models-pytorch) (11.6.1.9)\n",
            "Requirement already satisfied: nvidia-cusparse-cu12==12.3.1.170 in /usr/local/lib/python3.11/dist-packages (from torch>=1.8->segmentation-models-pytorch) (12.3.1.170)\n",
            "Requirement already satisfied: nvidia-cusparselt-cu12==0.6.2 in /usr/local/lib/python3.11/dist-packages (from torch>=1.8->segmentation-models-pytorch) (0.6.2)\n",
            "Requirement already satisfied: nvidia-nccl-cu12==2.21.5 in /usr/local/lib/python3.11/dist-packages (from torch>=1.8->segmentation-models-pytorch) (2.21.5)\n",
            "Requirement already satisfied: nvidia-nvtx-cu12==12.4.127 in /usr/local/lib/python3.11/dist-packages (from torch>=1.8->segmentation-models-pytorch) (12.4.127)\n",
            "Requirement already satisfied: nvidia-nvjitlink-cu12==12.4.127 in /usr/local/lib/python3.11/dist-packages (from torch>=1.8->segmentation-models-pytorch) (12.4.127)\n",
            "Requirement already satisfied: triton==3.2.0 in /usr/local/lib/python3.11/dist-packages (from torch>=1.8->segmentation-models-pytorch) (3.2.0)\n",
            "Requirement already satisfied: sympy==1.13.1 in /usr/local/lib/python3.11/dist-packages (from torch>=1.8->segmentation-models-pytorch) (1.13.1)\n",
            "Requirement already satisfied: mpmath<1.4,>=1.1.0 in /usr/local/lib/python3.11/dist-packages (from sympy==1.13.1->torch>=1.8->segmentation-models-pytorch) (1.3.0)\n",
            "Requirement already satisfied: MarkupSafe>=2.0 in /usr/local/lib/python3.11/dist-packages (from jinja2->torch>=1.8->segmentation-models-pytorch) (3.0.2)\n",
            "Requirement already satisfied: charset-normalizer<4,>=2 in /usr/local/lib/python3.11/dist-packages (from requests->huggingface-hub>=0.24->segmentation-models-pytorch) (3.4.2)\n",
            "Requirement already satisfied: idna<4,>=2.5 in /usr/local/lib/python3.11/dist-packages (from requests->huggingface-hub>=0.24->segmentation-models-pytorch) (3.10)\n",
            "Requirement already satisfied: urllib3<3,>=1.21.1 in /usr/local/lib/python3.11/dist-packages (from requests->huggingface-hub>=0.24->segmentation-models-pytorch) (2.4.0)\n",
            "Requirement already satisfied: certifi>=2017.4.17 in /usr/local/lib/python3.11/dist-packages (from requests->huggingface-hub>=0.24->segmentation-models-pytorch) (2025.6.15)\n",
            "Downloading segmentation_models_pytorch-0.5.0-py3-none-any.whl (154 kB)\n",
            "\u001b[2K   \u001b[90m━━━━━━━━━━━━━━━━━━━━━━━━━━━━━━━━━━━━━━━━\u001b[0m \u001b[32m154.8/154.8 kB\u001b[0m \u001b[31m4.1 MB/s\u001b[0m eta \u001b[36m0:00:00\u001b[0m\n",
            "\u001b[?25hInstalling collected packages: segmentation-models-pytorch\n",
            "Successfully installed segmentation-models-pytorch-0.5.0\n",
            "Requirement already satisfied: pandas in /usr/local/lib/python3.11/dist-packages (2.2.2)\n",
            "Collecting pandas\n",
            "  Downloading pandas-2.3.0-cp311-cp311-manylinux_2_17_x86_64.manylinux2014_x86_64.whl.metadata (91 kB)\n",
            "\u001b[2K     \u001b[90m━━━━━━━━━━━━━━━━━━━━━━━━━━━━━━━━━━━━━━━━\u001b[0m \u001b[32m91.2/91.2 kB\u001b[0m \u001b[31m2.7 MB/s\u001b[0m eta \u001b[36m0:00:00\u001b[0m\n",
            "\u001b[?25hRequirement already satisfied: numpy>=1.23.2 in /usr/local/lib/python3.11/dist-packages (from pandas) (2.0.2)\n",
            "Requirement already satisfied: python-dateutil>=2.8.2 in /usr/local/lib/python3.11/dist-packages (from pandas) (2.9.0.post0)\n",
            "Requirement already satisfied: pytz>=2020.1 in /usr/local/lib/python3.11/dist-packages (from pandas) (2025.2)\n",
            "Requirement already satisfied: tzdata>=2022.7 in /usr/local/lib/python3.11/dist-packages (from pandas) (2025.2)\n",
            "Requirement already satisfied: six>=1.5 in /usr/local/lib/python3.11/dist-packages (from python-dateutil>=2.8.2->pandas) (1.17.0)\n",
            "Downloading pandas-2.3.0-cp311-cp311-manylinux_2_17_x86_64.manylinux2014_x86_64.whl (12.4 MB)\n",
            "\u001b[2K   \u001b[90m━━━━━━━━━━━━━━━━━━━━━━━━━━━━━━━━━━━━━━━━\u001b[0m \u001b[32m12.4/12.4 MB\u001b[0m \u001b[31m121.0 MB/s\u001b[0m eta \u001b[36m0:00:00\u001b[0m\n",
            "\u001b[?25hInstalling collected packages: pandas\n",
            "  Attempting uninstall: pandas\n",
            "    Found existing installation: pandas 2.2.2\n",
            "    Uninstalling pandas-2.2.2:\n",
            "      Successfully uninstalled pandas-2.2.2\n",
            "\u001b[31mERROR: pip's dependency resolver does not currently take into account all the packages that are installed. This behaviour is the source of the following dependency conflicts.\n",
            "google-colab 1.0.0 requires pandas==2.2.2, but you have pandas 2.3.0 which is incompatible.\n",
            "dask-cudf-cu12 25.2.2 requires pandas<2.2.4dev0,>=2.0, but you have pandas 2.3.0 which is incompatible.\n",
            "cudf-cu12 25.2.1 requires pandas<2.2.4dev0,>=2.0, but you have pandas 2.3.0 which is incompatible.\u001b[0m\u001b[31m\n",
            "\u001b[0mSuccessfully installed pandas-2.3.0\n"
          ]
        }
      ],
      "source": [
        "# Installing the environment\n",
        "!pip install monai\n",
        "!pip install wandb\n",
        "!pip install segmentation-models-pytorch\n",
        "!pip install pandas -U"
      ]
    },
    {
      "cell_type": "code",
      "execution_count": null,
      "metadata": {
        "id": "mPVsFrjTpsrf"
      },
      "outputs": [],
      "source": [
        "# import os\n",
        "# import sys\n",
        "# import segmentation_models_pytorch as smp\n",
        "\n",
        "# sys.path.append(SRCDIR)\n",
        "\n",
        "# import data\n",
        "\n",
        "# model = smp.DeepLabV3Plus(\n",
        "#     encoder_name='resnet101',\n",
        "#     encoder_weights='imagenet',\n",
        "#     classes=1,\n",
        "#     activation='sigmoid',\n",
        "# )\n",
        "# preprocessing_fn = smp.encoders.get_preprocessing_fn('resnet101', 'imagenet')\n",
        "# model = model.to(\"cuda\")\n",
        "# image_size, mask_size = 512, 512\n",
        "# val_csv = os.path.join(\"/content/drive/MyDrive/solar_PV/src/dataset_csv\", \"val.csv\")\n",
        "# val_data = data.SegmentationDataset(val_csv,\n",
        "#                                     image_size=image_size,\n",
        "#                                     mask_size=mask_size,\n",
        "#                                     transform=preprocessing_fn, model_name=\"deeplabv3-resnet101\")\n",
        "# inputs = val_data[0]['pixel_values']\n",
        "# inputs.max(), inputs.min()\n",
        "# # import torch\n",
        "# # inputs = torch.zeros((1, 3, 512, 512))\n",
        "# model.eval()\n",
        "# model((inputs.unsqueeze(0)).to(\"cuda\"))"
      ]
    },
    {
      "cell_type": "code",
      "execution_count": null,
      "metadata": {
        "id": "llTEauHR286t"
      },
      "outputs": [],
      "source": [
        "# inputs.max(), inputs.min()"
      ]
    },
    {
      "cell_type": "code",
      "execution_count": null,
      "metadata": {
        "colab": {
          "base_uri": "https://localhost:8080/",
          "height": 349
        },
        "id": "jJg-kR9ly8TO",
        "outputId": "84e8dedc-8fb0-4c29-83b7-d9b138b219e6"
      },
      "outputs": [
        {
          "output_type": "stream",
          "name": "stdout",
          "text": [
            "(589, 3)\n",
            "<module 'params' from '/content/drive/MyDrive/solar_PV_prediction/src/params.py'>\n"
          ]
        },
        {
          "output_type": "display_data",
          "data": {
            "text/plain": [
              "<IPython.core.display.Javascript object>"
            ],
            "application/javascript": [
              "\n",
              "        window._wandbApiKey = new Promise((resolve, reject) => {\n",
              "            function loadScript(url) {\n",
              "            return new Promise(function(resolve, reject) {\n",
              "                let newScript = document.createElement(\"script\");\n",
              "                newScript.onerror = reject;\n",
              "                newScript.onload = resolve;\n",
              "                document.body.appendChild(newScript);\n",
              "                newScript.src = url;\n",
              "            });\n",
              "            }\n",
              "            loadScript(\"https://cdn.jsdelivr.net/npm/postmate/build/postmate.min.js\").then(() => {\n",
              "            const iframe = document.createElement('iframe')\n",
              "            iframe.style.cssText = \"width:0;height:0;border:none\"\n",
              "            document.body.appendChild(iframe)\n",
              "            const handshake = new Postmate({\n",
              "                container: iframe,\n",
              "                url: 'https://wandb.ai/authorize'\n",
              "            });\n",
              "            const timeout = setTimeout(() => reject(\"Couldn't auto authenticate\"), 5000)\n",
              "            handshake.then(function(child) {\n",
              "                child.on('authorize', data => {\n",
              "                    clearTimeout(timeout)\n",
              "                    resolve(data)\n",
              "                });\n",
              "            });\n",
              "            })\n",
              "        });\n",
              "    "
            ]
          },
          "metadata": {}
        },
        {
          "output_type": "stream",
          "name": "stderr",
          "text": [
            "\u001b[34m\u001b[1mwandb\u001b[0m: Logging into wandb.ai. (Learn how to deploy a W&B server locally: https://wandb.me/wandb-server)\n",
            "\u001b[34m\u001b[1mwandb\u001b[0m: You can find your API key in your browser here: https://wandb.ai/authorize?ref=models\n",
            "wandb: Paste an API key from your profile and hit enter:"
          ]
        },
        {
          "name": "stdout",
          "output_type": "stream",
          "text": [
            " ··········\n"
          ]
        },
        {
          "output_type": "stream",
          "name": "stderr",
          "text": [
            "\u001b[34m\u001b[1mwandb\u001b[0m: \u001b[33mWARNING\u001b[0m If you're specifying your api key in code, ensure this code is not shared publicly.\n",
            "\u001b[34m\u001b[1mwandb\u001b[0m: \u001b[33mWARNING\u001b[0m Consider setting the WANDB_API_KEY environment variable, or running `wandb login` from the command line.\n",
            "\u001b[34m\u001b[1mwandb\u001b[0m: No netrc file found, creating one.\n",
            "\u001b[34m\u001b[1mwandb\u001b[0m: Appending key for api.wandb.ai to your netrc file: /root/.netrc\n",
            "\u001b[34m\u001b[1mwandb\u001b[0m: Currently logged in as: \u001b[33mpeijinjiang1201\u001b[0m (\u001b[33mhansen_msr\u001b[0m) to \u001b[32mhttps://api.wandb.ai\u001b[0m. Use \u001b[1m`wandb login --relogin`\u001b[0m to force relogin\n"
          ]
        },
        {
          "output_type": "display_data",
          "data": {
            "text/plain": [
              "<IPython.core.display.HTML object>"
            ],
            "text/html": [
              "Tracking run with wandb version 0.20.1"
            ]
          },
          "metadata": {}
        },
        {
          "output_type": "display_data",
          "data": {
            "text/plain": [
              "<IPython.core.display.HTML object>"
            ],
            "text/html": [
              "Run data is saved locally in <code>/content/wandb/run-20250626_074542-5f58v6ek</code>"
            ]
          },
          "metadata": {}
        },
        {
          "output_type": "display_data",
          "data": {
            "text/plain": [
              "<IPython.core.display.HTML object>"
            ],
            "text/html": [
              "Syncing run <strong><a href='https://wandb.ai/hansen_msr/Solar-PV-segmentation-finetuning-segformer-b5_25-06-26_lr_2e-05_opt_adam_bsz_4_ratio_1_loss_Dice%2BBCE_country_China/runs/5f58v6ek' target=\"_blank\">fanciful-capybara-1</a></strong> to <a href='https://wandb.ai/hansen_msr/Solar-PV-segmentation-finetuning-segformer-b5_25-06-26_lr_2e-05_opt_adam_bsz_4_ratio_1_loss_Dice%2BBCE_country_China' target=\"_blank\">Weights & Biases</a> (<a href='https://wandb.me/developer-guide' target=\"_blank\">docs</a>)<br>"
            ]
          },
          "metadata": {}
        },
        {
          "output_type": "display_data",
          "data": {
            "text/plain": [
              "<IPython.core.display.HTML object>"
            ],
            "text/html": [
              " View project at <a href='https://wandb.ai/hansen_msr/Solar-PV-segmentation-finetuning-segformer-b5_25-06-26_lr_2e-05_opt_adam_bsz_4_ratio_1_loss_Dice%2BBCE_country_China' target=\"_blank\">https://wandb.ai/hansen_msr/Solar-PV-segmentation-finetuning-segformer-b5_25-06-26_lr_2e-05_opt_adam_bsz_4_ratio_1_loss_Dice%2BBCE_country_China</a>"
            ]
          },
          "metadata": {}
        },
        {
          "output_type": "display_data",
          "data": {
            "text/plain": [
              "<IPython.core.display.HTML object>"
            ],
            "text/html": [
              " View run at <a href='https://wandb.ai/hansen_msr/Solar-PV-segmentation-finetuning-segformer-b5_25-06-26_lr_2e-05_opt_adam_bsz_4_ratio_1_loss_Dice%2BBCE_country_China/runs/5f58v6ek' target=\"_blank\">https://wandb.ai/hansen_msr/Solar-PV-segmentation-finetuning-segformer-b5_25-06-26_lr_2e-05_opt_adam_bsz_4_ratio_1_loss_Dice%2BBCE_country_China/runs/5f58v6ek</a>"
            ]
          },
          "metadata": {}
        }
      ],
      "source": [
        "import os\n",
        "import sys\n",
        "import wandb\n",
        "import pandas as pd\n",
        "from datetime import datetime\n",
        "\n",
        "sys.path.append(SRCDIR)\n",
        "\n",
        "import numpy as np\n",
        "import params as args # type: ignore\n",
        "import losses, metrics, data, models, training # type: ignore\n",
        "args.batch_size = 4\n",
        "args.lr = 0.00002\n",
        "args.training_ratio=1\n",
        "args.optim = \"adam\"\n",
        "args.loss = \"Dice+BCE\"\n",
        "args.resume_ckpt =\"/content/drive/MyDrive/solar_PV_prediction/outputs_segAug/segformer-b5_25-06-20_lr_2e-05_opt_adam_bsz_4_ratio_1_loss_Dice+BCE_country_China/model_39.pth\"\n",
        "args.model_name = \"segformer-b5\"# deeplabv3-resnet101\", \"sam\"\"segformer-b5\"\"unet\"\n",
        "args.dataset_csv = \"/content/drive/MyDrive/solar_PV_prediction/src/dataset_csv\"\n",
        "country = \"China\"\n",
        "if country != \"All\":\n",
        "  train_csv = os.path.join(args.dataset_csv, f\"train_{country}.csv\")\n",
        "  print(pd.read_csv(train_csv).shape)\n",
        "else:\n",
        "  train_csv = os.path.join(args.dataset_csv, f\"train.csv\")\n",
        "val_csv = os.path.join(args.dataset_csv, \"val.csv\")\n",
        "test_csv = os.path.join(args.dataset_csv, \"test.csv\")\n",
        "args.exp_date = datetime.now().strftime(\"%y-%m-%d\")\n",
        "args.exp_code = f'{args.model_name}_{args.exp_date}_lr_{args.lr}_opt_{args.optim}_bsz_{args.batch_size}_ratio_{args.training_ratio}_loss_{args.loss}_country_{country}'\n",
        "print(args)\n",
        "\n",
        "if args.report_to == \"wandb\":\n",
        "  writer = wandb.init(project=\"Solar-PV-segmentation-finetuning-\" + args.exp_code)\n",
        "else:\n",
        "  writer = None"
      ]
    },
    {
      "cell_type": "code",
      "execution_count": null,
      "metadata": {
        "colab": {
          "base_uri": "https://localhost:8080/"
        },
        "id": "BY3eZKuZL6Gm",
        "outputId": "6ebfbb6e-6adb-40c8-c9e2-f3753152d7f9"
      },
      "outputs": [
        {
          "output_type": "execute_result",
          "data": {
            "text/plain": [
              "{'__name__': 'params',\n",
              " '__doc__': None,\n",
              " '__package__': '',\n",
              " '__loader__': <_frozen_importlib_external.SourceFileLoader at 0x7cd38d8bea50>,\n",
              " '__spec__': ModuleSpec(name='params', loader=<_frozen_importlib_external.SourceFileLoader object at 0x7cd38d8bea50>, origin='/content/drive/MyDrive/solar_PV_prediction/src/params.py'),\n",
              " '__file__': '/content/drive/MyDrive/solar_PV_prediction/src/params.py',\n",
              " '__cached__': '/content/drive/MyDrive/solar_PV_prediction/src/__pycache__/params.cpython-311.pyc',\n",
              " '__builtins__': {'__name__': 'builtins',\n",
              "  '__doc__': \"Built-in functions, types, exceptions, and other objects.\\n\\nThis module provides direct access to all 'built-in'\\nidentifiers of Python; for example, builtins.len is\\nthe full name for the built-in function len().\\n\\nThis module is not normally accessed explicitly by most\\napplications, but can be useful in modules that provide\\nobjects with the same name as a built-in value, but in\\nwhich the built-in of that name is also needed.\",\n",
              "  '__package__': '',\n",
              "  '__loader__': _frozen_importlib.BuiltinImporter,\n",
              "  '__spec__': ModuleSpec(name='builtins', loader=<class '_frozen_importlib.BuiltinImporter'>, origin='built-in'),\n",
              "  '__build_class__': <function __build_class__>,\n",
              "  '__import__': <function __import__(name, globals=None, locals=None, fromlist=(), level=0)>,\n",
              "  'abs': <function abs(x, /)>,\n",
              "  'all': <function all(iterable, /)>,\n",
              "  'any': <function any(iterable, /)>,\n",
              "  'ascii': <function ascii(obj, /)>,\n",
              "  'bin': <function bin(number, /)>,\n",
              "  'breakpoint': <function breakpoint>,\n",
              "  'callable': <function callable(obj, /)>,\n",
              "  'chr': <function chr(i, /)>,\n",
              "  'compile': <function compile(source, filename, mode, flags=0, dont_inherit=False, optimize=-1, *, _feature_version=-1)>,\n",
              "  'delattr': <function delattr(obj, name, /)>,\n",
              "  'dir': <function dir>,\n",
              "  'divmod': <function divmod(x, y, /)>,\n",
              "  'eval': <function eval(source, globals=None, locals=None, /)>,\n",
              "  'exec': <function exec(source, globals=None, locals=None, /, *, closure=None)>,\n",
              "  'format': <function format(value, format_spec='', /)>,\n",
              "  'getattr': <function getattr>,\n",
              "  'globals': <function globals()>,\n",
              "  'hasattr': <function hasattr(obj, name, /)>,\n",
              "  'hash': <function hash(obj, /)>,\n",
              "  'hex': <function hex(number, /)>,\n",
              "  'id': <function id(obj, /)>,\n",
              "  'input': <bound method Kernel.raw_input of <google.colab._kernel.Kernel object at 0x7cd3d9c1d850>>,\n",
              "  'isinstance': <function isinstance(obj, class_or_tuple, /)>,\n",
              "  'issubclass': <function issubclass(cls, class_or_tuple, /)>,\n",
              "  'iter': <function iter>,\n",
              "  'aiter': <function aiter(async_iterable, /)>,\n",
              "  'len': <function len(obj, /)>,\n",
              "  'locals': <function locals()>,\n",
              "  'max': <function max>,\n",
              "  'min': <function min>,\n",
              "  'next': <function next>,\n",
              "  'anext': <function anext>,\n",
              "  'oct': <function oct(number, /)>,\n",
              "  'ord': <function ord(c, /)>,\n",
              "  'pow': <function pow(base, exp, mod=None)>,\n",
              "  'print': <function print(*args, sep=' ', end='\\n', file=None, flush=False)>,\n",
              "  'repr': <function repr(obj, /)>,\n",
              "  'round': <function round(number, ndigits=None)>,\n",
              "  'setattr': <function setattr(obj, name, value, /)>,\n",
              "  'sorted': <function sorted(iterable, /, *, key=None, reverse=False)>,\n",
              "  'sum': <function sum(iterable, /, start=0)>,\n",
              "  'vars': <function vars>,\n",
              "  'None': None,\n",
              "  'Ellipsis': Ellipsis,\n",
              "  'NotImplemented': NotImplemented,\n",
              "  'False': False,\n",
              "  'True': True,\n",
              "  'bool': bool,\n",
              "  'memoryview': memoryview,\n",
              "  'bytearray': bytearray,\n",
              "  'bytes': bytes,\n",
              "  'classmethod': classmethod,\n",
              "  'complex': complex,\n",
              "  'dict': dict,\n",
              "  'enumerate': enumerate,\n",
              "  'filter': filter,\n",
              "  'float': float,\n",
              "  'frozenset': frozenset,\n",
              "  'property': property,\n",
              "  'int': int,\n",
              "  'list': list,\n",
              "  'map': map,\n",
              "  'object': object,\n",
              "  'range': range,\n",
              "  'reversed': reversed,\n",
              "  'set': set,\n",
              "  'slice': slice,\n",
              "  'staticmethod': staticmethod,\n",
              "  'str': str,\n",
              "  'super': super,\n",
              "  'tuple': tuple,\n",
              "  'type': type,\n",
              "  'zip': zip,\n",
              "  '__debug__': True,\n",
              "  'BaseException': BaseException,\n",
              "  'BaseExceptionGroup': BaseExceptionGroup,\n",
              "  'Exception': Exception,\n",
              "  'GeneratorExit': GeneratorExit,\n",
              "  'KeyboardInterrupt': KeyboardInterrupt,\n",
              "  'SystemExit': SystemExit,\n",
              "  'ArithmeticError': ArithmeticError,\n",
              "  'AssertionError': AssertionError,\n",
              "  'AttributeError': AttributeError,\n",
              "  'BufferError': BufferError,\n",
              "  'EOFError': EOFError,\n",
              "  'ImportError': ImportError,\n",
              "  'LookupError': LookupError,\n",
              "  'MemoryError': MemoryError,\n",
              "  'NameError': NameError,\n",
              "  'OSError': OSError,\n",
              "  'ReferenceError': ReferenceError,\n",
              "  'RuntimeError': RuntimeError,\n",
              "  'StopAsyncIteration': StopAsyncIteration,\n",
              "  'StopIteration': StopIteration,\n",
              "  'SyntaxError': SyntaxError,\n",
              "  'SystemError': SystemError,\n",
              "  'TypeError': TypeError,\n",
              "  'ValueError': ValueError,\n",
              "  'Warning': Warning,\n",
              "  'FloatingPointError': FloatingPointError,\n",
              "  'OverflowError': OverflowError,\n",
              "  'ZeroDivisionError': ZeroDivisionError,\n",
              "  'BytesWarning': BytesWarning,\n",
              "  'DeprecationWarning': DeprecationWarning,\n",
              "  'EncodingWarning': EncodingWarning,\n",
              "  'FutureWarning': FutureWarning,\n",
              "  'ImportWarning': ImportWarning,\n",
              "  'PendingDeprecationWarning': PendingDeprecationWarning,\n",
              "  'ResourceWarning': ResourceWarning,\n",
              "  'RuntimeWarning': RuntimeWarning,\n",
              "  'SyntaxWarning': SyntaxWarning,\n",
              "  'UnicodeWarning': UnicodeWarning,\n",
              "  'UserWarning': UserWarning,\n",
              "  'BlockingIOError': BlockingIOError,\n",
              "  'ChildProcessError': ChildProcessError,\n",
              "  'ConnectionError': ConnectionError,\n",
              "  'FileExistsError': FileExistsError,\n",
              "  'FileNotFoundError': FileNotFoundError,\n",
              "  'InterruptedError': InterruptedError,\n",
              "  'IsADirectoryError': IsADirectoryError,\n",
              "  'NotADirectoryError': NotADirectoryError,\n",
              "  'PermissionError': PermissionError,\n",
              "  'ProcessLookupError': ProcessLookupError,\n",
              "  'TimeoutError': TimeoutError,\n",
              "  'IndentationError': IndentationError,\n",
              "  'IndexError': IndexError,\n",
              "  'KeyError': KeyError,\n",
              "  'ModuleNotFoundError': ModuleNotFoundError,\n",
              "  'NotImplementedError': NotImplementedError,\n",
              "  'RecursionError': RecursionError,\n",
              "  'UnboundLocalError': UnboundLocalError,\n",
              "  'UnicodeError': UnicodeError,\n",
              "  'BrokenPipeError': BrokenPipeError,\n",
              "  'ConnectionAbortedError': ConnectionAbortedError,\n",
              "  'ConnectionRefusedError': ConnectionRefusedError,\n",
              "  'ConnectionResetError': ConnectionResetError,\n",
              "  'TabError': TabError,\n",
              "  'UnicodeDecodeError': UnicodeDecodeError,\n",
              "  'UnicodeEncodeError': UnicodeEncodeError,\n",
              "  'UnicodeTranslateError': UnicodeTranslateError,\n",
              "  'ExceptionGroup': ExceptionGroup,\n",
              "  'EnvironmentError': OSError,\n",
              "  'IOError': OSError,\n",
              "  'open': <function io.open(file, mode='r', buffering=-1, encoding=None, errors=None, newline=None, closefd=True, opener=None)>,\n",
              "  'copyright': Copyright (c) 2001-2023 Python Software Foundation.\n",
              "  All Rights Reserved.\n",
              "  \n",
              "  Copyright (c) 2000 BeOpen.com.\n",
              "  All Rights Reserved.\n",
              "  \n",
              "  Copyright (c) 1995-2001 Corporation for National Research Initiatives.\n",
              "  All Rights Reserved.\n",
              "  \n",
              "  Copyright (c) 1991-1995 Stichting Mathematisch Centrum, Amsterdam.\n",
              "  All Rights Reserved.,\n",
              "  'credits':     Thanks to CWI, CNRI, BeOpen.com, Zope Corporation and a cast of thousands\n",
              "      for supporting Python development.  See www.python.org for more information.,\n",
              "  'license': Type license() to see the full license text,\n",
              "  'help': Type help() for interactive help, or help(object) for help about object.,\n",
              "  'execfile': <function _pydev_bundle._pydev_execfile.execfile(file, glob=None, loc=None)>,\n",
              "  'runfile': <function _pydev_bundle.pydev_umd.runfile(filename, args=None, wdir=None, namespace=None)>,\n",
              "  '__IPYTHON__': True,\n",
              "  'display': <function IPython.core.display.display(*objs, include=None, exclude=None, metadata=None, transient=None, display_id=None, **kwargs)>,\n",
              "  '__pybind11_internals_v4_gcc_libstdcpp_cxxabi1014__': <capsule object NULL at 0x7cd3d9ca50e0>,\n",
              "  '__pybind11_internals_v4_gcc_libstdcpp_cxxabi1011__': <capsule object NULL at 0x7cd38d97ef40>,\n",
              "  '__pybind11_internals_v4_gcc_libstdcpp_cxxabi1013__': <capsule object NULL at 0x7cd2bc31b3c0>,\n",
              "  '__pybind11_internals_v4_clang_libstdcpp_cxxabi1002__': <capsule object NULL at 0x7cd213a95b60>,\n",
              "  'get_ipython': <bound method InteractiveShell.get_ipython of <google.colab._shell.Shell object at 0x7cd3d9c1edd0>>},\n",
              " 'dataset_csv': '/content/drive/MyDrive/solar_PV_prediction/src/dataset_csv',\n",
              " 'model_name': 'segformer-b5',\n",
              " 'loss': 'Dice+BCE',\n",
              " 'seed': 0,\n",
              " 'device': 'cuda',\n",
              " 'epochs': 200,\n",
              " 'warmup_epochs': 5,\n",
              " 'batch_size': 4,\n",
              " 'max_len': 256,\n",
              " 'training_ratio': 1,\n",
              " 'lr': 2e-05,\n",
              " 'min_lr': 1e-06,\n",
              " 'lr_scheduler': 'cosine',\n",
              " 'augmentation': True,\n",
              " 'gc': 1,\n",
              " 'folds': 0,\n",
              " 'prop': 1,\n",
              " 'optim': 'adam',\n",
              " 'optim_wd': 0,\n",
              " 'save_dir': '/content/drive/MyDrive/solar_PV_prediction/outputs_segAug',\n",
              " 'report_to': 'wandb',\n",
              " 'resume_ckpt': '/content/drive/MyDrive/solar_PV_prediction/outputs_segAug/segformer-b5_25-06-20_lr_2e-05_opt_adam_bsz_4_ratio_1_loss_Dice+BCE_country_China/model_39.pth',\n",
              " 'workers': 12,\n",
              " 'exp_date': '25-06-26',\n",
              " 'exp_code': 'segformer-b5_25-06-26_lr_2e-05_opt_adam_bsz_4_ratio_1_loss_Dice+BCE_country_China'}"
            ]
          },
          "metadata": {},
          "execution_count": 5
        }
      ],
      "source": [
        "args.__dict__"
      ]
    },
    {
      "cell_type": "code",
      "execution_count": null,
      "metadata": {
        "colab": {
          "base_uri": "https://localhost:8080/",
          "height": 1000,
          "referenced_widgets": [
            "c4b2ef4e05a64b14a3cf1bb042afc292",
            "9996cb3284c7451ab6e1eab7bf89b62b",
            "651fa62d5b8d4e27a0ab1a6b6dbbe7c6",
            "78e5aeaa5f554375bbe47461ef18bf3d",
            "959370af2e49451c9845cc8673cf6da0",
            "ea593ac35a264eb3a61d17e6f83495f8",
            "8065c9b67a554a5cbf686b7b4773c028",
            "41afed5d48264bb29bed93fdc140e3f0",
            "cac214dd2298420993aee52287ed0c4c",
            "c237fcdcaa26402c98b43201c1df451b",
            "4b1dbf52f7c444478adb77ecdbafff25",
            "b6c7a602da804d708c0cbbf344348c25",
            "e6ada03031fd4c35871f74f048cf1803",
            "d70fbba86cc840d583c066daebc87c9b",
            "2a0ca9d0088f497b831678d0590ad1af",
            "9bd64b7b9fc843828d76af306f06303f",
            "8d5b95c6e38041e1afe29644bfad1643",
            "cefa0269bb0e401cb679948fcb70ddbe",
            "ffa965d06c53437fb9a4be88a421b699",
            "b2beb7867d104be7a339a8513ca5ed1b",
            "a5a3255691f2478e939c8ecc33b14f53",
            "895b135d5208440abc2dad608f298c74",
            "d14a6484813d487289994cddec47a172",
            "be8a14a64a4c42c7b29eab84dc8066cc",
            "fb152fe47c3c4823a27f41a607467c90",
            "34adbc534a7349a1ab1efe992e496fc2",
            "daa662ed61e34140aeed5c8c94ed32c1",
            "300487c8d990449985b9b6b0b317a9ca",
            "a6debd102e4047a7baa5fa0260d311a9",
            "bd356f4d8b624a3c80cd91551d12c22c",
            "0ef0f8426d194d128465683a9e7f9220",
            "5d9f6cb7c8ce4432bf34255e99f2f023",
            "820f94f00aaf4f689afbb298b01caa76"
          ]
        },
        "id": "F2Ra-x07ILnI",
        "outputId": "ab976f46-ca63-4344-a2cc-3282ee267127"
      },
      "outputs": [
        {
          "output_type": "stream",
          "name": "stderr",
          "text": [
            "/usr/local/lib/python3.11/dist-packages/huggingface_hub/utils/_auth.py:94: UserWarning: \n",
            "The secret `HF_TOKEN` does not exist in your Colab secrets.\n",
            "To authenticate with the Hugging Face Hub, create a token in your settings tab (https://huggingface.co/settings/tokens), set it as secret in your Google Colab and restart your session.\n",
            "You will be able to reuse this secret in all of your notebooks.\n",
            "Please note that authentication is recommended but still optional to access public models or datasets.\n",
            "  warnings.warn(\n"
          ]
        },
        {
          "output_type": "display_data",
          "data": {
            "text/plain": [
              "config.json: 0.00B [00:00, ?B/s]"
            ],
            "application/vnd.jupyter.widget-view+json": {
              "version_major": 2,
              "version_minor": 0,
              "model_id": "c4b2ef4e05a64b14a3cf1bb042afc292"
            }
          },
          "metadata": {}
        },
        {
          "output_type": "display_data",
          "data": {
            "text/plain": [
              "pytorch_model.bin:   0%|          | 0.00/328M [00:00<?, ?B/s]"
            ],
            "application/vnd.jupyter.widget-view+json": {
              "version_major": 2,
              "version_minor": 0,
              "model_id": "b6c7a602da804d708c0cbbf344348c25"
            }
          },
          "metadata": {}
        },
        {
          "output_type": "display_data",
          "data": {
            "text/plain": [
              "model.safetensors:   0%|          | 0.00/328M [00:00<?, ?B/s]"
            ],
            "application/vnd.jupyter.widget-view+json": {
              "version_major": 2,
              "version_minor": 0,
              "model_id": "d14a6484813d487289994cddec47a172"
            }
          },
          "metadata": {}
        },
        {
          "output_type": "stream",
          "name": "stderr",
          "text": [
            "Some weights of SegformerForSemanticSegmentation were not initialized from the model checkpoint at nvidia/mit-b5 and are newly initialized: ['decode_head.batch_norm.bias', 'decode_head.batch_norm.num_batches_tracked', 'decode_head.batch_norm.running_mean', 'decode_head.batch_norm.running_var', 'decode_head.batch_norm.weight', 'decode_head.classifier.bias', 'decode_head.classifier.weight', 'decode_head.linear_c.0.proj.bias', 'decode_head.linear_c.0.proj.weight', 'decode_head.linear_c.1.proj.bias', 'decode_head.linear_c.1.proj.weight', 'decode_head.linear_c.2.proj.bias', 'decode_head.linear_c.2.proj.weight', 'decode_head.linear_c.3.proj.bias', 'decode_head.linear_c.3.proj.weight', 'decode_head.linear_fuse.weight']\n",
            "You should probably TRAIN this model on a down-stream task to be able to use it for predictions and inference.\n"
          ]
        },
        {
          "output_type": "stream",
          "name": "stdout",
          "text": [
            "Resume from previous checkpoint: /content/drive/MyDrive/solar_PV_prediction/outputs_segAug/segformer-b5_25-06-20_lr_2e-05_opt_adam_bsz_4_ratio_1_loss_Dice+BCE_country_China/model_39.pth, starting from 40...\n"
          ]
        },
        {
          "output_type": "stream",
          "name": "stderr",
          "text": [
            "Start training the model for one epoch...:  14%|█▎        | 20/148 [00:19<00:54,  2.35it/s]"
          ]
        },
        {
          "output_type": "stream",
          "name": "stdout",
          "text": [
            "Batch 20 | Loss: 0.3208 | Learning rate:  0.000019\n"
          ]
        },
        {
          "output_type": "stream",
          "name": "stderr",
          "text": [
            "Start training the model for one epoch...:  27%|██▋       | 40/148 [00:27<00:45,  2.37it/s]"
          ]
        },
        {
          "output_type": "stream",
          "name": "stdout",
          "text": [
            "Batch 40 | Loss: 0.3864 | Learning rate:  0.000019\n"
          ]
        },
        {
          "output_type": "stream",
          "name": "stderr",
          "text": [
            "Start training the model for one epoch...:  41%|████      | 60/148 [00:36<00:37,  2.38it/s]"
          ]
        },
        {
          "output_type": "stream",
          "name": "stdout",
          "text": [
            "Batch 60 | Loss: 0.2744 | Learning rate:  0.000018\n"
          ]
        },
        {
          "output_type": "stream",
          "name": "stderr",
          "text": [
            "Start training the model for one epoch...:  54%|█████▍    | 80/148 [00:44<00:28,  2.38it/s]"
          ]
        },
        {
          "output_type": "stream",
          "name": "stdout",
          "text": [
            "Batch 80 | Loss: 0.2818 | Learning rate:  0.000018\n"
          ]
        },
        {
          "output_type": "stream",
          "name": "stderr",
          "text": [
            "Start training the model for one epoch...:  68%|██████▊   | 100/148 [00:53<00:20,  2.37it/s]"
          ]
        },
        {
          "output_type": "stream",
          "name": "stdout",
          "text": [
            "Batch 100 | Loss: 0.2752 | Learning rate:  0.000018\n"
          ]
        },
        {
          "output_type": "stream",
          "name": "stderr",
          "text": [
            "Start training the model for one epoch...:  81%|████████  | 120/148 [01:01<00:11,  2.38it/s]"
          ]
        },
        {
          "output_type": "stream",
          "name": "stdout",
          "text": [
            "Batch 120 | Loss: 0.3519 | Learning rate:  0.000018\n"
          ]
        },
        {
          "output_type": "stream",
          "name": "stderr",
          "text": [
            "Start training the model for one epoch...:  95%|█████████▍| 140/148 [01:10<00:03,  2.38it/s]"
          ]
        },
        {
          "output_type": "stream",
          "name": "stdout",
          "text": [
            "Batch 140 | Loss: 0.3040 | Learning rate:  0.000018\n"
          ]
        },
        {
          "output_type": "stream",
          "name": "stderr",
          "text": [
            "Start training the model for one epoch...: 100%|██████████| 148/148 [01:13<00:00,  2.01it/s]\n",
            "0it [00:00, ?it/s]"
          ]
        },
        {
          "output_type": "stream",
          "name": "stdout",
          "text": [
            "[Errno 5] Input/output error: '/content/drive/MyDrive/solar_PV/data/France/google_all/img/DUXYU6550EDRIG.png'[Errno 5] Input/output error: '/content/drive/MyDrive/solar_PV/data/France/google_all/img/HXMXY5574WPOII.png'[Errno 5] Input/output error: '/content/drive/MyDrive/solar_PV/data/France/google_all/img/DLMRU6596NGWAS.png'[Errno 5] Input/output error: '/content/drive/MyDrive/solar_PV/data/France/google_all/img/YQXQS5F0DJYWE.png'\n",
            "\n",
            "\n",
            "\n"
          ]
        },
        {
          "output_type": "stream",
          "name": "stderr",
          "text": [
            "\u001b[34m\u001b[1mwandb\u001b[0m: \u001b[33mWARNING\u001b[0m Data passed to `wandb.Image` should consist of values in the range [0, 255], image data will be normalized to this range, but behavior will be removed in a future version of wandb.\n",
            "954it [16:47,  1.06s/it]\n"
          ]
        },
        {
          "output_type": "stream",
          "name": "stdout",
          "text": [
            "Epoch: 40, train loss: 0.30086002760642283, val_loss: 0.5427718947581025, val_dice: 0.15730895850544957, val_IoU: 0.13425330509932637\n"
          ]
        },
        {
          "output_type": "stream",
          "name": "stderr",
          "text": [
            "Start training the model for one epoch...:  14%|█▎        | 20/148 [00:09<00:53,  2.37it/s]"
          ]
        },
        {
          "output_type": "stream",
          "name": "stdout",
          "text": [
            "Batch 20 | Loss: 0.2633 | Learning rate:  0.000018\n"
          ]
        },
        {
          "output_type": "stream",
          "name": "stderr",
          "text": [
            "Start training the model for one epoch...:  27%|██▋       | 40/148 [00:18<00:45,  2.38it/s]"
          ]
        },
        {
          "output_type": "stream",
          "name": "stdout",
          "text": [
            "Batch 40 | Loss: 0.2909 | Learning rate:  0.000018\n"
          ]
        },
        {
          "output_type": "stream",
          "name": "stderr",
          "text": [
            "Start training the model for one epoch...:  41%|████      | 60/148 [00:26<00:37,  2.37it/s]"
          ]
        },
        {
          "output_type": "stream",
          "name": "stdout",
          "text": [
            "Batch 60 | Loss: 0.4823 | Learning rate:  0.000018\n"
          ]
        },
        {
          "output_type": "stream",
          "name": "stderr",
          "text": [
            "Start training the model for one epoch...:  54%|█████▍    | 80/148 [00:35<00:28,  2.38it/s]"
          ]
        },
        {
          "output_type": "stream",
          "name": "stdout",
          "text": [
            "Batch 80 | Loss: 0.3252 | Learning rate:  0.000018\n"
          ]
        },
        {
          "output_type": "stream",
          "name": "stderr",
          "text": [
            "Start training the model for one epoch...:  68%|██████▊   | 100/148 [00:43<00:20,  2.37it/s]"
          ]
        },
        {
          "output_type": "stream",
          "name": "stdout",
          "text": [
            "Batch 100 | Loss: 0.2603 | Learning rate:  0.000018\n"
          ]
        },
        {
          "output_type": "stream",
          "name": "stderr",
          "text": [
            "Start training the model for one epoch...:  81%|████████  | 120/148 [00:52<00:11,  2.38it/s]"
          ]
        },
        {
          "output_type": "stream",
          "name": "stdout",
          "text": [
            "Batch 120 | Loss: 0.3612 | Learning rate:  0.000018\n"
          ]
        },
        {
          "output_type": "stream",
          "name": "stderr",
          "text": [
            "Start training the model for one epoch...:  95%|█████████▍| 140/148 [01:00<00:03,  2.39it/s]"
          ]
        },
        {
          "output_type": "stream",
          "name": "stdout",
          "text": [
            "Batch 140 | Loss: 0.3037 | Learning rate:  0.000018\n"
          ]
        },
        {
          "output_type": "stream",
          "name": "stderr",
          "text": [
            "Start training the model for one epoch...: 100%|██████████| 148/148 [01:03<00:00,  2.32it/s]\n",
            "954it [02:06,  7.53it/s]\n"
          ]
        },
        {
          "output_type": "stream",
          "name": "stdout",
          "text": [
            "Epoch: 41, train loss: 0.30175384375694636, val_loss: 0.5336961235452748, val_dice: 0.20480927165078222, val_IoU: 0.1717668176111219\n"
          ]
        },
        {
          "output_type": "stream",
          "name": "stderr",
          "text": [
            "Start training the model for one epoch...:  14%|█▎        | 20/148 [00:09<00:54,  2.37it/s]"
          ]
        },
        {
          "output_type": "stream",
          "name": "stdout",
          "text": [
            "Batch 20 | Loss: 0.2580 | Learning rate:  0.000018\n"
          ]
        },
        {
          "output_type": "stream",
          "name": "stderr",
          "text": [
            "Start training the model for one epoch...:  27%|██▋       | 40/148 [00:18<00:45,  2.38it/s]"
          ]
        },
        {
          "output_type": "stream",
          "name": "stdout",
          "text": [
            "Batch 40 | Loss: 0.4048 | Learning rate:  0.000018\n"
          ]
        },
        {
          "output_type": "stream",
          "name": "stderr",
          "text": [
            "Start training the model for one epoch...:  41%|████      | 60/148 [00:26<00:37,  2.38it/s]"
          ]
        },
        {
          "output_type": "stream",
          "name": "stdout",
          "text": [
            "Batch 60 | Loss: 0.2536 | Learning rate:  0.000018\n"
          ]
        },
        {
          "output_type": "stream",
          "name": "stderr",
          "text": [
            "Start training the model for one epoch...:  54%|█████▍    | 80/148 [00:35<00:28,  2.37it/s]"
          ]
        },
        {
          "output_type": "stream",
          "name": "stdout",
          "text": [
            "Batch 80 | Loss: 0.2219 | Learning rate:  0.000018\n"
          ]
        },
        {
          "output_type": "stream",
          "name": "stderr",
          "text": [
            "Start training the model for one epoch...:  68%|██████▊   | 100/148 [00:44<00:22,  2.09it/s]"
          ]
        },
        {
          "output_type": "stream",
          "name": "stdout",
          "text": [
            "Batch 100 | Loss: 0.3384 | Learning rate:  0.000018\n"
          ]
        },
        {
          "output_type": "stream",
          "name": "stderr",
          "text": [
            "Start training the model for one epoch...:  81%|████████  | 120/148 [00:52<00:11,  2.37it/s]"
          ]
        },
        {
          "output_type": "stream",
          "name": "stdout",
          "text": [
            "Batch 120 | Loss: 0.3525 | Learning rate:  0.000018\n"
          ]
        },
        {
          "output_type": "stream",
          "name": "stderr",
          "text": [
            "Start training the model for one epoch...:  95%|█████████▍| 140/148 [01:00<00:03,  2.39it/s]"
          ]
        },
        {
          "output_type": "stream",
          "name": "stdout",
          "text": [
            "Batch 140 | Loss: 0.2156 | Learning rate:  0.000018\n"
          ]
        },
        {
          "output_type": "stream",
          "name": "stderr",
          "text": [
            "Start training the model for one epoch...: 100%|██████████| 148/148 [01:04<00:00,  2.30it/s]\n",
            "954it [02:06,  7.51it/s]\n"
          ]
        },
        {
          "output_type": "stream",
          "name": "stdout",
          "text": [
            "Epoch: 42, train loss: 0.2969314339193138, val_loss: 0.5362232935066243, val_dice: 0.1903795714962127, val_IoU: 0.16090269006979135\n"
          ]
        },
        {
          "output_type": "stream",
          "name": "stderr",
          "text": [
            "Start training the model for one epoch...:  14%|█▎        | 20/148 [00:09<00:53,  2.38it/s]"
          ]
        },
        {
          "output_type": "stream",
          "name": "stdout",
          "text": [
            "Batch 20 | Loss: 0.4287 | Learning rate:  0.000018\n"
          ]
        },
        {
          "output_type": "stream",
          "name": "stderr",
          "text": [
            "Start training the model for one epoch...:  27%|██▋       | 40/148 [00:18<00:45,  2.37it/s]"
          ]
        },
        {
          "output_type": "stream",
          "name": "stdout",
          "text": [
            "Batch 40 | Loss: 0.3818 | Learning rate:  0.000018\n"
          ]
        },
        {
          "output_type": "stream",
          "name": "stderr",
          "text": [
            "Start training the model for one epoch...:  41%|████      | 60/148 [00:26<00:37,  2.37it/s]"
          ]
        },
        {
          "output_type": "stream",
          "name": "stdout",
          "text": [
            "Batch 60 | Loss: 0.4085 | Learning rate:  0.000018\n"
          ]
        },
        {
          "output_type": "stream",
          "name": "stderr",
          "text": [
            "Start training the model for one epoch...:  54%|█████▍    | 80/148 [00:34<00:28,  2.38it/s]"
          ]
        },
        {
          "output_type": "stream",
          "name": "stdout",
          "text": [
            "Batch 80 | Loss: 0.2546 | Learning rate:  0.000018\n"
          ]
        },
        {
          "output_type": "stream",
          "name": "stderr",
          "text": [
            "Start training the model for one epoch...:  68%|██████▊   | 100/148 [00:43<00:20,  2.36it/s]"
          ]
        },
        {
          "output_type": "stream",
          "name": "stdout",
          "text": [
            "Batch 100 | Loss: 0.3523 | Learning rate:  0.000018\n"
          ]
        },
        {
          "output_type": "stream",
          "name": "stderr",
          "text": [
            "Start training the model for one epoch...:  81%|████████  | 120/148 [00:51<00:11,  2.37it/s]"
          ]
        },
        {
          "output_type": "stream",
          "name": "stdout",
          "text": [
            "Batch 120 | Loss: 0.3354 | Learning rate:  0.000018\n"
          ]
        },
        {
          "output_type": "stream",
          "name": "stderr",
          "text": [
            "Start training the model for one epoch...:  95%|█████████▍| 140/148 [01:00<00:03,  2.39it/s]"
          ]
        },
        {
          "output_type": "stream",
          "name": "stdout",
          "text": [
            "Batch 140 | Loss: 0.3200 | Learning rate:  0.000018\n"
          ]
        },
        {
          "output_type": "stream",
          "name": "stderr",
          "text": [
            "Start training the model for one epoch...: 100%|██████████| 148/148 [01:03<00:00,  2.33it/s]\n",
            "954it [02:07,  7.51it/s]\n"
          ]
        },
        {
          "output_type": "stream",
          "name": "stdout",
          "text": [
            "Epoch: 43, train loss: 0.3101674172322492, val_loss: 0.5468833633313889, val_dice: 0.16070753277459557, val_IoU: 0.13462871854250844\n"
          ]
        },
        {
          "output_type": "stream",
          "name": "stderr",
          "text": [
            "Start training the model for one epoch...:  14%|█▎        | 20/148 [00:09<00:54,  2.36it/s]"
          ]
        },
        {
          "output_type": "stream",
          "name": "stdout",
          "text": [
            "Batch 20 | Loss: 0.3638 | Learning rate:  0.000018\n"
          ]
        },
        {
          "output_type": "stream",
          "name": "stderr",
          "text": [
            "Start training the model for one epoch...:  27%|██▋       | 40/148 [00:18<00:45,  2.37it/s]"
          ]
        },
        {
          "output_type": "stream",
          "name": "stdout",
          "text": [
            "Batch 40 | Loss: 0.2737 | Learning rate:  0.000018\n"
          ]
        },
        {
          "output_type": "stream",
          "name": "stderr",
          "text": [
            "Start training the model for one epoch...:  41%|████      | 60/148 [00:26<00:37,  2.37it/s]"
          ]
        },
        {
          "output_type": "stream",
          "name": "stdout",
          "text": [
            "Batch 60 | Loss: 0.2576 | Learning rate:  0.000018\n"
          ]
        },
        {
          "output_type": "stream",
          "name": "stderr",
          "text": [
            "Start training the model for one epoch...:  54%|█████▍    | 80/148 [00:34<00:28,  2.38it/s]"
          ]
        },
        {
          "output_type": "stream",
          "name": "stdout",
          "text": [
            "Batch 80 | Loss: 0.1920 | Learning rate:  0.000018\n"
          ]
        },
        {
          "output_type": "stream",
          "name": "stderr",
          "text": [
            "Start training the model for one epoch...:  68%|██████▊   | 100/148 [00:43<00:20,  2.37it/s]"
          ]
        },
        {
          "output_type": "stream",
          "name": "stdout",
          "text": [
            "Batch 100 | Loss: 0.4410 | Learning rate:  0.000018\n"
          ]
        },
        {
          "output_type": "stream",
          "name": "stderr",
          "text": [
            "Start training the model for one epoch...:  81%|████████  | 120/148 [00:51<00:11,  2.37it/s]"
          ]
        },
        {
          "output_type": "stream",
          "name": "stdout",
          "text": [
            "Batch 120 | Loss: 0.3462 | Learning rate:  0.000018\n"
          ]
        },
        {
          "output_type": "stream",
          "name": "stderr",
          "text": [
            "Start training the model for one epoch...:  95%|█████████▍| 140/148 [01:00<00:03,  2.39it/s]"
          ]
        },
        {
          "output_type": "stream",
          "name": "stdout",
          "text": [
            "Batch 140 | Loss: 0.2993 | Learning rate:  0.000018\n"
          ]
        },
        {
          "output_type": "stream",
          "name": "stderr",
          "text": [
            "Start training the model for one epoch...: 100%|██████████| 148/148 [01:03<00:00,  2.33it/s]\n",
            "954it [02:06,  7.52it/s]\n"
          ]
        },
        {
          "output_type": "stream",
          "name": "stdout",
          "text": [
            "Epoch: 44, train loss: 0.3056696930245773, val_loss: 0.5180807796851644, val_dice: 0.2798302567935407, val_IoU: 0.23511064035913096\n"
          ]
        },
        {
          "output_type": "stream",
          "name": "stderr",
          "text": [
            "Start training the model for one epoch...:  14%|█▎        | 20/148 [00:10<01:03,  2.02it/s]"
          ]
        },
        {
          "output_type": "stream",
          "name": "stdout",
          "text": [
            "Batch 20 | Loss: 0.4000 | Learning rate:  0.000018\n"
          ]
        },
        {
          "output_type": "stream",
          "name": "stderr",
          "text": [
            "Start training the model for one epoch...:  27%|██▋       | 40/148 [00:18<00:45,  2.37it/s]"
          ]
        },
        {
          "output_type": "stream",
          "name": "stdout",
          "text": [
            "Batch 40 | Loss: 0.2415 | Learning rate:  0.000018\n"
          ]
        },
        {
          "output_type": "stream",
          "name": "stderr",
          "text": [
            "Start training the model for one epoch...:  41%|████      | 60/148 [00:27<00:37,  2.37it/s]"
          ]
        },
        {
          "output_type": "stream",
          "name": "stdout",
          "text": [
            "Batch 60 | Loss: 0.2357 | Learning rate:  0.000018\n"
          ]
        },
        {
          "output_type": "stream",
          "name": "stderr",
          "text": [
            "Start training the model for one epoch...:  54%|█████▍    | 80/148 [00:35<00:28,  2.38it/s]"
          ]
        },
        {
          "output_type": "stream",
          "name": "stdout",
          "text": [
            "Batch 80 | Loss: 0.3172 | Learning rate:  0.000018\n"
          ]
        },
        {
          "output_type": "stream",
          "name": "stderr",
          "text": [
            "Start training the model for one epoch...:  68%|██████▊   | 100/148 [00:43<00:20,  2.37it/s]"
          ]
        },
        {
          "output_type": "stream",
          "name": "stdout",
          "text": [
            "Batch 100 | Loss: 0.2408 | Learning rate:  0.000018\n"
          ]
        },
        {
          "output_type": "stream",
          "name": "stderr",
          "text": [
            "Start training the model for one epoch...:  81%|████████  | 120/148 [00:52<00:11,  2.37it/s]"
          ]
        },
        {
          "output_type": "stream",
          "name": "stdout",
          "text": [
            "Batch 120 | Loss: 0.4726 | Learning rate:  0.000018\n"
          ]
        },
        {
          "output_type": "stream",
          "name": "stderr",
          "text": [
            "Start training the model for one epoch...:  95%|█████████▍| 140/148 [01:00<00:03,  2.39it/s]"
          ]
        },
        {
          "output_type": "stream",
          "name": "stdout",
          "text": [
            "Batch 140 | Loss: 0.2294 | Learning rate:  0.000018\n"
          ]
        },
        {
          "output_type": "stream",
          "name": "stderr",
          "text": [
            "Start training the model for one epoch...: 100%|██████████| 148/148 [01:04<00:00,  2.31it/s]\n",
            "954it [02:06,  7.52it/s]\n"
          ]
        },
        {
          "output_type": "stream",
          "name": "stdout",
          "text": [
            "Epoch: 45, train loss: 0.29731814100130183, val_loss: 0.5377694183737977, val_dice: 0.20827050905551697, val_IoU: 0.177558719852226\n"
          ]
        },
        {
          "output_type": "stream",
          "name": "stderr",
          "text": [
            "Start training the model for one epoch...:  14%|█▎        | 20/148 [00:09<00:53,  2.37it/s]"
          ]
        },
        {
          "output_type": "stream",
          "name": "stdout",
          "text": [
            "Batch 20 | Loss: 0.2781 | Learning rate:  0.000018\n"
          ]
        },
        {
          "output_type": "stream",
          "name": "stderr",
          "text": [
            "Start training the model for one epoch...:  27%|██▋       | 40/148 [00:18<00:45,  2.38it/s]"
          ]
        },
        {
          "output_type": "stream",
          "name": "stdout",
          "text": [
            "Batch 40 | Loss: 0.3650 | Learning rate:  0.000018\n"
          ]
        },
        {
          "output_type": "stream",
          "name": "stderr",
          "text": [
            "Start training the model for one epoch...:  41%|████      | 60/148 [00:26<00:37,  2.38it/s]"
          ]
        },
        {
          "output_type": "stream",
          "name": "stdout",
          "text": [
            "Batch 60 | Loss: 0.2574 | Learning rate:  0.000018\n"
          ]
        },
        {
          "output_type": "stream",
          "name": "stderr",
          "text": [
            "Start training the model for one epoch...:  54%|█████▍    | 80/148 [00:34<00:28,  2.37it/s]"
          ]
        },
        {
          "output_type": "stream",
          "name": "stdout",
          "text": [
            "Batch 80 | Loss: 0.1461 | Learning rate:  0.000018\n"
          ]
        },
        {
          "output_type": "stream",
          "name": "stderr",
          "text": [
            "Start training the model for one epoch...:  68%|██████▊   | 100/148 [00:43<00:20,  2.37it/s]"
          ]
        },
        {
          "output_type": "stream",
          "name": "stdout",
          "text": [
            "Batch 100 | Loss: 0.2298 | Learning rate:  0.000018\n"
          ]
        },
        {
          "output_type": "stream",
          "name": "stderr",
          "text": [
            "Start training the model for one epoch...:  81%|████████  | 120/148 [00:51<00:11,  2.37it/s]"
          ]
        },
        {
          "output_type": "stream",
          "name": "stdout",
          "text": [
            "Batch 120 | Loss: 0.2355 | Learning rate:  0.000018\n"
          ]
        },
        {
          "output_type": "stream",
          "name": "stderr",
          "text": [
            "Start training the model for one epoch...:  95%|█████████▍| 140/148 [01:00<00:03,  2.39it/s]"
          ]
        },
        {
          "output_type": "stream",
          "name": "stdout",
          "text": [
            "Batch 140 | Loss: 0.3570 | Learning rate:  0.000018\n"
          ]
        },
        {
          "output_type": "stream",
          "name": "stderr",
          "text": [
            "Start training the model for one epoch...: 100%|██████████| 148/148 [01:03<00:00,  2.33it/s]\n",
            "954it [02:06,  7.52it/s]\n"
          ]
        },
        {
          "output_type": "stream",
          "name": "stdout",
          "text": [
            "Epoch: 46, train loss: 0.2990424291708985, val_loss: 0.5353414505970053, val_dice: 0.2237511578621311, val_IoU: 0.18786150432519008\n"
          ]
        },
        {
          "output_type": "stream",
          "name": "stderr",
          "text": [
            "Start training the model for one epoch...:  14%|█▎        | 20/148 [00:09<00:53,  2.37it/s]"
          ]
        },
        {
          "output_type": "stream",
          "name": "stdout",
          "text": [
            "Batch 20 | Loss: 0.2145 | Learning rate:  0.000018\n"
          ]
        },
        {
          "output_type": "stream",
          "name": "stderr",
          "text": [
            "Start training the model for one epoch...:  27%|██▋       | 40/148 [00:18<00:45,  2.36it/s]"
          ]
        },
        {
          "output_type": "stream",
          "name": "stdout",
          "text": [
            "Batch 40 | Loss: 0.3007 | Learning rate:  0.000018\n"
          ]
        },
        {
          "output_type": "stream",
          "name": "stderr",
          "text": [
            "Start training the model for one epoch...:  41%|████      | 60/148 [00:26<00:37,  2.37it/s]"
          ]
        },
        {
          "output_type": "stream",
          "name": "stdout",
          "text": [
            "Batch 60 | Loss: 0.2076 | Learning rate:  0.000018\n"
          ]
        },
        {
          "output_type": "stream",
          "name": "stderr",
          "text": [
            "Start training the model for one epoch...:  54%|█████▍    | 80/148 [00:35<00:28,  2.37it/s]"
          ]
        },
        {
          "output_type": "stream",
          "name": "stdout",
          "text": [
            "Batch 80 | Loss: 0.2998 | Learning rate:  0.000018\n"
          ]
        },
        {
          "output_type": "stream",
          "name": "stderr",
          "text": [
            "Start training the model for one epoch...:  68%|██████▊   | 100/148 [00:43<00:20,  2.37it/s]"
          ]
        },
        {
          "output_type": "stream",
          "name": "stdout",
          "text": [
            "Batch 100 | Loss: 0.2903 | Learning rate:  0.000018\n"
          ]
        },
        {
          "output_type": "stream",
          "name": "stderr",
          "text": [
            "Start training the model for one epoch...:  81%|████████  | 120/148 [00:52<00:12,  2.27it/s]"
          ]
        },
        {
          "output_type": "stream",
          "name": "stdout",
          "text": [
            "Batch 120 | Loss: 0.2502 | Learning rate:  0.000018\n"
          ]
        },
        {
          "output_type": "stream",
          "name": "stderr",
          "text": [
            "Start training the model for one epoch...:  95%|█████████▍| 140/148 [01:00<00:03,  2.39it/s]"
          ]
        },
        {
          "output_type": "stream",
          "name": "stdout",
          "text": [
            "Batch 140 | Loss: 0.2466 | Learning rate:  0.000018\n"
          ]
        },
        {
          "output_type": "stream",
          "name": "stderr",
          "text": [
            "Start training the model for one epoch...: 100%|██████████| 148/148 [01:04<00:00,  2.31it/s]\n",
            "954it [02:06,  7.52it/s]\n"
          ]
        },
        {
          "output_type": "stream",
          "name": "stdout",
          "text": [
            "Epoch: 47, train loss: 0.2999478312763008, val_loss: 0.5336121167026976, val_dice: 0.23139247810139676, val_IoU: 0.19508034481126335\n"
          ]
        },
        {
          "output_type": "stream",
          "name": "stderr",
          "text": [
            "Start training the model for one epoch...:  14%|█▎        | 20/148 [00:09<00:54,  2.37it/s]"
          ]
        },
        {
          "output_type": "stream",
          "name": "stdout",
          "text": [
            "Batch 20 | Loss: 0.4218 | Learning rate:  0.000018\n"
          ]
        },
        {
          "output_type": "stream",
          "name": "stderr",
          "text": [
            "Start training the model for one epoch...:  27%|██▋       | 40/148 [00:18<00:45,  2.38it/s]"
          ]
        },
        {
          "output_type": "stream",
          "name": "stdout",
          "text": [
            "Batch 40 | Loss: 0.3867 | Learning rate:  0.000018\n"
          ]
        },
        {
          "output_type": "stream",
          "name": "stderr",
          "text": [
            "Start training the model for one epoch...:  41%|████      | 60/148 [00:26<00:37,  2.37it/s]"
          ]
        },
        {
          "output_type": "stream",
          "name": "stdout",
          "text": [
            "Batch 60 | Loss: 0.2033 | Learning rate:  0.000018\n"
          ]
        },
        {
          "output_type": "stream",
          "name": "stderr",
          "text": [
            "Start training the model for one epoch...:  54%|█████▍    | 80/148 [00:34<00:28,  2.38it/s]"
          ]
        },
        {
          "output_type": "stream",
          "name": "stdout",
          "text": [
            "Batch 80 | Loss: 0.3394 | Learning rate:  0.000018\n"
          ]
        },
        {
          "output_type": "stream",
          "name": "stderr",
          "text": [
            "Start training the model for one epoch...:  68%|██████▊   | 100/148 [00:43<00:20,  2.38it/s]"
          ]
        },
        {
          "output_type": "stream",
          "name": "stdout",
          "text": [
            "Batch 100 | Loss: 0.2271 | Learning rate:  0.000018\n"
          ]
        },
        {
          "output_type": "stream",
          "name": "stderr",
          "text": [
            "Start training the model for one epoch...:  81%|████████  | 120/148 [00:51<00:11,  2.37it/s]"
          ]
        },
        {
          "output_type": "stream",
          "name": "stdout",
          "text": [
            "Batch 120 | Loss: 0.3103 | Learning rate:  0.000018\n"
          ]
        },
        {
          "output_type": "stream",
          "name": "stderr",
          "text": [
            "Start training the model for one epoch...:  95%|█████████▍| 140/148 [01:00<00:03,  2.39it/s]"
          ]
        },
        {
          "output_type": "stream",
          "name": "stdout",
          "text": [
            "Batch 140 | Loss: 0.2661 | Learning rate:  0.000018\n"
          ]
        },
        {
          "output_type": "stream",
          "name": "stderr",
          "text": [
            "Start training the model for one epoch...: 100%|██████████| 148/148 [01:03<00:00,  2.33it/s]\n",
            "954it [02:07,  7.51it/s]\n"
          ]
        },
        {
          "output_type": "stream",
          "name": "stdout",
          "text": [
            "Epoch: 48, train loss: 0.2979647197030686, val_loss: 0.5326286963571792, val_dice: 0.24691696100112032, val_IoU: 0.20681802985174522\n"
          ]
        },
        {
          "output_type": "stream",
          "name": "stderr",
          "text": [
            "Start training the model for one epoch...:  14%|█▎        | 20/148 [00:09<00:53,  2.38it/s]"
          ]
        },
        {
          "output_type": "stream",
          "name": "stdout",
          "text": [
            "Batch 20 | Loss: 0.1727 | Learning rate:  0.000018\n"
          ]
        },
        {
          "output_type": "stream",
          "name": "stderr",
          "text": [
            "Start training the model for one epoch...:  27%|██▋       | 40/148 [00:18<00:45,  2.37it/s]"
          ]
        },
        {
          "output_type": "stream",
          "name": "stdout",
          "text": [
            "Batch 40 | Loss: 0.2261 | Learning rate:  0.000018\n"
          ]
        },
        {
          "output_type": "stream",
          "name": "stderr",
          "text": [
            "Start training the model for one epoch...:  41%|████      | 60/148 [00:26<00:37,  2.38it/s]"
          ]
        },
        {
          "output_type": "stream",
          "name": "stdout",
          "text": [
            "Batch 60 | Loss: 0.3022 | Learning rate:  0.000018\n"
          ]
        },
        {
          "output_type": "stream",
          "name": "stderr",
          "text": [
            "Start training the model for one epoch...:  54%|█████▍    | 80/148 [00:34<00:28,  2.37it/s]"
          ]
        },
        {
          "output_type": "stream",
          "name": "stdout",
          "text": [
            "Batch 80 | Loss: 0.3626 | Learning rate:  0.000018\n"
          ]
        },
        {
          "output_type": "stream",
          "name": "stderr",
          "text": [
            "Start training the model for one epoch...:  68%|██████▊   | 100/148 [00:43<00:20,  2.37it/s]"
          ]
        },
        {
          "output_type": "stream",
          "name": "stdout",
          "text": [
            "Batch 100 | Loss: 0.1743 | Learning rate:  0.000018\n"
          ]
        },
        {
          "output_type": "stream",
          "name": "stderr",
          "text": [
            "Start training the model for one epoch...:  81%|████████  | 120/148 [00:51<00:11,  2.37it/s]"
          ]
        },
        {
          "output_type": "stream",
          "name": "stdout",
          "text": [
            "Batch 120 | Loss: 0.1472 | Learning rate:  0.000018\n"
          ]
        },
        {
          "output_type": "stream",
          "name": "stderr",
          "text": [
            "Start training the model for one epoch...:  95%|█████████▍| 140/148 [01:00<00:03,  2.39it/s]"
          ]
        },
        {
          "output_type": "stream",
          "name": "stdout",
          "text": [
            "Batch 140 | Loss: 0.3664 | Learning rate:  0.000018\n"
          ]
        },
        {
          "output_type": "stream",
          "name": "stderr",
          "text": [
            "Start training the model for one epoch...: 100%|██████████| 148/148 [01:03<00:00,  2.33it/s]\n",
            "954it [02:07,  7.51it/s]\n"
          ]
        },
        {
          "output_type": "stream",
          "name": "stdout",
          "text": [
            "Epoch: 49, train loss: 0.3057084696719775, val_loss: 0.5498896133724749, val_dice: 0.18241360928846137, val_IoU: 0.153887181931912\n"
          ]
        },
        {
          "output_type": "stream",
          "name": "stderr",
          "text": [
            "Start training the model for one epoch...:  14%|█▎        | 20/148 [00:10<00:53,  2.38it/s]"
          ]
        },
        {
          "output_type": "stream",
          "name": "stdout",
          "text": [
            "Batch 20 | Loss: 0.2630 | Learning rate:  0.000018\n"
          ]
        },
        {
          "output_type": "stream",
          "name": "stderr",
          "text": [
            "Start training the model for one epoch...:  27%|██▋       | 40/148 [00:18<00:45,  2.37it/s]"
          ]
        },
        {
          "output_type": "stream",
          "name": "stdout",
          "text": [
            "Batch 40 | Loss: 0.1711 | Learning rate:  0.000018\n"
          ]
        },
        {
          "output_type": "stream",
          "name": "stderr",
          "text": [
            "Start training the model for one epoch...:  41%|████      | 60/148 [00:27<00:37,  2.38it/s]"
          ]
        },
        {
          "output_type": "stream",
          "name": "stdout",
          "text": [
            "Batch 60 | Loss: 0.4502 | Learning rate:  0.000018\n"
          ]
        },
        {
          "output_type": "stream",
          "name": "stderr",
          "text": [
            "Start training the model for one epoch...:  54%|█████▍    | 80/148 [00:35<00:28,  2.37it/s]"
          ]
        },
        {
          "output_type": "stream",
          "name": "stdout",
          "text": [
            "Batch 80 | Loss: 0.2304 | Learning rate:  0.000018\n"
          ]
        },
        {
          "output_type": "stream",
          "name": "stderr",
          "text": [
            "Start training the model for one epoch...:  68%|██████▊   | 100/148 [00:43<00:20,  2.37it/s]"
          ]
        },
        {
          "output_type": "stream",
          "name": "stdout",
          "text": [
            "Batch 100 | Loss: 0.3476 | Learning rate:  0.000018\n"
          ]
        },
        {
          "output_type": "stream",
          "name": "stderr",
          "text": [
            "Start training the model for one epoch...:  81%|████████  | 120/148 [00:52<00:11,  2.37it/s]"
          ]
        },
        {
          "output_type": "stream",
          "name": "stdout",
          "text": [
            "Batch 120 | Loss: 0.3200 | Learning rate:  0.000018\n"
          ]
        },
        {
          "output_type": "stream",
          "name": "stderr",
          "text": [
            "Start training the model for one epoch...:  95%|█████████▍| 140/148 [01:00<00:03,  2.38it/s]"
          ]
        },
        {
          "output_type": "stream",
          "name": "stdout",
          "text": [
            "Batch 140 | Loss: 0.4100 | Learning rate:  0.000018\n"
          ]
        },
        {
          "output_type": "stream",
          "name": "stderr",
          "text": [
            "Start training the model for one epoch...: 100%|██████████| 148/148 [01:04<00:00,  2.31it/s]\n",
            "954it [02:07,  7.51it/s]\n"
          ]
        },
        {
          "output_type": "stream",
          "name": "stdout",
          "text": [
            "Epoch: 50, train loss: 0.2982316039301254, val_loss: 0.5474901453004193, val_dice: 0.1857044278523416, val_IoU: 0.15658477985415373\n"
          ]
        },
        {
          "output_type": "stream",
          "name": "stderr",
          "text": [
            "Start training the model for one epoch...:  14%|█▎        | 20/148 [00:09<00:53,  2.38it/s]"
          ]
        },
        {
          "output_type": "stream",
          "name": "stdout",
          "text": [
            "Batch 20 | Loss: 0.2261 | Learning rate:  0.000017\n"
          ]
        },
        {
          "output_type": "stream",
          "name": "stderr",
          "text": [
            "Start training the model for one epoch...:  27%|██▋       | 40/148 [00:18<00:45,  2.38it/s]"
          ]
        },
        {
          "output_type": "stream",
          "name": "stdout",
          "text": [
            "Batch 40 | Loss: 0.3904 | Learning rate:  0.000017\n"
          ]
        },
        {
          "output_type": "stream",
          "name": "stderr",
          "text": [
            "Start training the model for one epoch...:  41%|████      | 60/148 [00:26<00:37,  2.37it/s]"
          ]
        },
        {
          "output_type": "stream",
          "name": "stdout",
          "text": [
            "Batch 60 | Loss: 0.3209 | Learning rate:  0.000017\n"
          ]
        },
        {
          "output_type": "stream",
          "name": "stderr",
          "text": [
            "Start training the model for one epoch...:  54%|█████▍    | 80/148 [00:35<00:28,  2.37it/s]"
          ]
        },
        {
          "output_type": "stream",
          "name": "stdout",
          "text": [
            "Batch 80 | Loss: 0.2128 | Learning rate:  0.000017\n"
          ]
        },
        {
          "output_type": "stream",
          "name": "stderr",
          "text": [
            "Start training the model for one epoch...:  68%|██████▊   | 100/148 [00:43<00:20,  2.37it/s]"
          ]
        },
        {
          "output_type": "stream",
          "name": "stdout",
          "text": [
            "Batch 100 | Loss: 0.3003 | Learning rate:  0.000017\n"
          ]
        },
        {
          "output_type": "stream",
          "name": "stderr",
          "text": [
            "Start training the model for one epoch...:  81%|████████  | 120/148 [00:51<00:11,  2.37it/s]"
          ]
        },
        {
          "output_type": "stream",
          "name": "stdout",
          "text": [
            "Batch 120 | Loss: 0.3410 | Learning rate:  0.000017\n"
          ]
        },
        {
          "output_type": "stream",
          "name": "stderr",
          "text": [
            "Start training the model for one epoch...:  95%|█████████▍| 140/148 [01:00<00:03,  2.39it/s]"
          ]
        },
        {
          "output_type": "stream",
          "name": "stdout",
          "text": [
            "Batch 140 | Loss: 0.2330 | Learning rate:  0.000017\n"
          ]
        },
        {
          "output_type": "stream",
          "name": "stderr",
          "text": [
            "Start training the model for one epoch...: 100%|██████████| 148/148 [01:03<00:00,  2.33it/s]\n",
            "954it [02:06,  7.51it/s]\n"
          ]
        },
        {
          "output_type": "stream",
          "name": "stdout",
          "text": [
            "Epoch: 51, train loss: 0.29463292406620206, val_loss: 0.5448011515088051, val_dice: 0.14954976824142024, val_IoU: 0.12382275380453453\n"
          ]
        },
        {
          "output_type": "stream",
          "name": "stderr",
          "text": [
            "Start training the model for one epoch...:  14%|█▎        | 20/148 [00:09<00:53,  2.37it/s]"
          ]
        },
        {
          "output_type": "stream",
          "name": "stdout",
          "text": [
            "Batch 20 | Loss: 0.3388 | Learning rate:  0.000017\n"
          ]
        },
        {
          "output_type": "stream",
          "name": "stderr",
          "text": [
            "Start training the model for one epoch...:  27%|██▋       | 40/148 [00:18<00:45,  2.37it/s]"
          ]
        },
        {
          "output_type": "stream",
          "name": "stdout",
          "text": [
            "Batch 40 | Loss: 0.2478 | Learning rate:  0.000017\n"
          ]
        },
        {
          "output_type": "stream",
          "name": "stderr",
          "text": [
            "Start training the model for one epoch...:  41%|████      | 60/148 [00:26<00:37,  2.38it/s]"
          ]
        },
        {
          "output_type": "stream",
          "name": "stdout",
          "text": [
            "Batch 60 | Loss: 0.2648 | Learning rate:  0.000017\n"
          ]
        },
        {
          "output_type": "stream",
          "name": "stderr",
          "text": [
            "Start training the model for one epoch...:  54%|█████▍    | 80/148 [00:35<00:29,  2.34it/s]"
          ]
        },
        {
          "output_type": "stream",
          "name": "stdout",
          "text": [
            "Batch 80 | Loss: 0.4348 | Learning rate:  0.000017\n"
          ]
        },
        {
          "output_type": "stream",
          "name": "stderr",
          "text": [
            "Start training the model for one epoch...:  68%|██████▊   | 100/148 [00:43<00:20,  2.38it/s]"
          ]
        },
        {
          "output_type": "stream",
          "name": "stdout",
          "text": [
            "Batch 100 | Loss: 0.2993 | Learning rate:  0.000017\n"
          ]
        },
        {
          "output_type": "stream",
          "name": "stderr",
          "text": [
            "Start training the model for one epoch...:  81%|████████  | 120/148 [00:52<00:11,  2.38it/s]"
          ]
        },
        {
          "output_type": "stream",
          "name": "stdout",
          "text": [
            "Batch 120 | Loss: 0.2881 | Learning rate:  0.000017\n"
          ]
        },
        {
          "output_type": "stream",
          "name": "stderr",
          "text": [
            "Start training the model for one epoch...:  95%|█████████▍| 140/148 [01:00<00:03,  2.39it/s]"
          ]
        },
        {
          "output_type": "stream",
          "name": "stdout",
          "text": [
            "Batch 140 | Loss: 0.1992 | Learning rate:  0.000017\n"
          ]
        },
        {
          "output_type": "stream",
          "name": "stderr",
          "text": [
            "Start training the model for one epoch...: 100%|██████████| 148/148 [01:03<00:00,  2.31it/s]\n",
            "954it [02:06,  7.51it/s]\n"
          ]
        },
        {
          "output_type": "stream",
          "name": "stdout",
          "text": [
            "Epoch: 52, train loss: 0.27036020899745256, val_loss: 0.5204084837024316, val_dice: 0.22523321081340517, val_IoU: 0.19135807872513746\n"
          ]
        },
        {
          "output_type": "stream",
          "name": "stderr",
          "text": [
            "Start training the model for one epoch...:  14%|█▎        | 20/148 [00:09<00:54,  2.36it/s]"
          ]
        },
        {
          "output_type": "stream",
          "name": "stdout",
          "text": [
            "Batch 20 | Loss: 0.3113 | Learning rate:  0.000017\n"
          ]
        },
        {
          "output_type": "stream",
          "name": "stderr",
          "text": [
            "Start training the model for one epoch...:  27%|██▋       | 40/148 [00:18<00:45,  2.37it/s]"
          ]
        },
        {
          "output_type": "stream",
          "name": "stdout",
          "text": [
            "Batch 40 | Loss: 0.1962 | Learning rate:  0.000017\n"
          ]
        },
        {
          "output_type": "stream",
          "name": "stderr",
          "text": [
            "Start training the model for one epoch...:  41%|████      | 60/148 [00:26<00:37,  2.38it/s]"
          ]
        },
        {
          "output_type": "stream",
          "name": "stdout",
          "text": [
            "Batch 60 | Loss: 0.2678 | Learning rate:  0.000017\n"
          ]
        },
        {
          "output_type": "stream",
          "name": "stderr",
          "text": [
            "Start training the model for one epoch...:  54%|█████▍    | 80/148 [00:34<00:28,  2.37it/s]"
          ]
        },
        {
          "output_type": "stream",
          "name": "stdout",
          "text": [
            "Batch 80 | Loss: 0.4700 | Learning rate:  0.000017\n"
          ]
        },
        {
          "output_type": "stream",
          "name": "stderr",
          "text": [
            "Start training the model for one epoch...:  68%|██████▊   | 100/148 [00:43<00:20,  2.38it/s]"
          ]
        },
        {
          "output_type": "stream",
          "name": "stdout",
          "text": [
            "Batch 100 | Loss: 0.1870 | Learning rate:  0.000017\n"
          ]
        },
        {
          "output_type": "stream",
          "name": "stderr",
          "text": [
            "Start training the model for one epoch...:  81%|████████  | 120/148 [00:51<00:11,  2.38it/s]"
          ]
        },
        {
          "output_type": "stream",
          "name": "stdout",
          "text": [
            "Batch 120 | Loss: 0.2949 | Learning rate:  0.000017\n"
          ]
        },
        {
          "output_type": "stream",
          "name": "stderr",
          "text": [
            "Start training the model for one epoch...:  95%|█████████▍| 140/148 [01:00<00:03,  2.39it/s]"
          ]
        },
        {
          "output_type": "stream",
          "name": "stdout",
          "text": [
            "Batch 140 | Loss: 0.2568 | Learning rate:  0.000017\n"
          ]
        },
        {
          "output_type": "stream",
          "name": "stderr",
          "text": [
            "Start training the model for one epoch...: 100%|██████████| 148/148 [01:03<00:00,  2.33it/s]\n",
            "954it [02:06,  7.51it/s]\n"
          ]
        },
        {
          "output_type": "stream",
          "name": "stdout",
          "text": [
            "Epoch: 53, train loss: 0.2547688265205235, val_loss: 0.5187585190469614, val_dice: 0.227302940857253, val_IoU: 0.19151566655077348\n"
          ]
        },
        {
          "output_type": "stream",
          "name": "stderr",
          "text": [
            "Start training the model for one epoch...:  14%|█▎        | 20/148 [00:09<00:53,  2.37it/s]"
          ]
        },
        {
          "output_type": "stream",
          "name": "stdout",
          "text": [
            "Batch 20 | Loss: 0.2549 | Learning rate:  0.000017\n"
          ]
        },
        {
          "output_type": "stream",
          "name": "stderr",
          "text": [
            "Start training the model for one epoch...:  27%|██▋       | 40/148 [00:18<00:45,  2.37it/s]"
          ]
        },
        {
          "output_type": "stream",
          "name": "stdout",
          "text": [
            "Batch 40 | Loss: 0.2890 | Learning rate:  0.000017\n"
          ]
        },
        {
          "output_type": "stream",
          "name": "stderr",
          "text": [
            "Start training the model for one epoch...:  41%|████      | 60/148 [00:26<00:36,  2.38it/s]"
          ]
        },
        {
          "output_type": "stream",
          "name": "stdout",
          "text": [
            "Batch 60 | Loss: 0.0474 | Learning rate:  0.000017\n"
          ]
        },
        {
          "output_type": "stream",
          "name": "stderr",
          "text": [
            "Start training the model for one epoch...:  54%|█████▍    | 80/148 [00:34<00:28,  2.37it/s]"
          ]
        },
        {
          "output_type": "stream",
          "name": "stdout",
          "text": [
            "Batch 80 | Loss: 0.1242 | Learning rate:  0.000017\n"
          ]
        },
        {
          "output_type": "stream",
          "name": "stderr",
          "text": [
            "Start training the model for one epoch...:  68%|██████▊   | 100/148 [00:43<00:20,  2.38it/s]"
          ]
        },
        {
          "output_type": "stream",
          "name": "stdout",
          "text": [
            "Batch 100 | Loss: 0.1921 | Learning rate:  0.000017\n"
          ]
        },
        {
          "output_type": "stream",
          "name": "stderr",
          "text": [
            "Start training the model for one epoch...:  81%|████████  | 120/148 [00:51<00:11,  2.38it/s]"
          ]
        },
        {
          "output_type": "stream",
          "name": "stdout",
          "text": [
            "Batch 120 | Loss: 0.2310 | Learning rate:  0.000017\n"
          ]
        },
        {
          "output_type": "stream",
          "name": "stderr",
          "text": [
            "Start training the model for one epoch...:  95%|█████████▍| 140/148 [01:00<00:03,  2.38it/s]"
          ]
        },
        {
          "output_type": "stream",
          "name": "stdout",
          "text": [
            "Batch 140 | Loss: 0.1779 | Learning rate:  0.000017\n"
          ]
        },
        {
          "output_type": "stream",
          "name": "stderr",
          "text": [
            "Start training the model for one epoch...: 100%|██████████| 148/148 [01:03<00:00,  2.33it/s]\n",
            "954it [02:06,  7.51it/s]\n"
          ]
        },
        {
          "output_type": "stream",
          "name": "stdout",
          "text": [
            "Epoch: 54, train loss: 0.2184282314737101, val_loss: 0.5300541014666328, val_dice: 0.15085066918701992, val_IoU: 0.12924150046507799\n"
          ]
        },
        {
          "output_type": "stream",
          "name": "stderr",
          "text": [
            "Start training the model for one epoch...:  14%|█▎        | 20/148 [00:10<00:56,  2.28it/s]"
          ]
        },
        {
          "output_type": "stream",
          "name": "stdout",
          "text": [
            "Batch 20 | Loss: 0.2637 | Learning rate:  0.000017\n"
          ]
        },
        {
          "output_type": "stream",
          "name": "stderr",
          "text": [
            "Start training the model for one epoch...:  27%|██▋       | 40/148 [00:18<00:45,  2.37it/s]"
          ]
        },
        {
          "output_type": "stream",
          "name": "stdout",
          "text": [
            "Batch 40 | Loss: 0.2272 | Learning rate:  0.000017\n"
          ]
        },
        {
          "output_type": "stream",
          "name": "stderr",
          "text": [
            "Start training the model for one epoch...:  41%|████      | 60/148 [00:26<00:37,  2.37it/s]"
          ]
        },
        {
          "output_type": "stream",
          "name": "stdout",
          "text": [
            "Batch 60 | Loss: 0.1926 | Learning rate:  0.000017\n"
          ]
        },
        {
          "output_type": "stream",
          "name": "stderr",
          "text": [
            "Start training the model for one epoch...:  54%|█████▍    | 80/148 [00:35<00:28,  2.38it/s]"
          ]
        },
        {
          "output_type": "stream",
          "name": "stdout",
          "text": [
            "Batch 80 | Loss: 0.1692 | Learning rate:  0.000017\n"
          ]
        },
        {
          "output_type": "stream",
          "name": "stderr",
          "text": [
            "Start training the model for one epoch...:  68%|██████▊   | 100/148 [00:43<00:20,  2.37it/s]"
          ]
        },
        {
          "output_type": "stream",
          "name": "stdout",
          "text": [
            "Batch 100 | Loss: 0.1480 | Learning rate:  0.000017\n"
          ]
        },
        {
          "output_type": "stream",
          "name": "stderr",
          "text": [
            "Start training the model for one epoch...:  81%|████████  | 120/148 [00:52<00:11,  2.37it/s]"
          ]
        },
        {
          "output_type": "stream",
          "name": "stdout",
          "text": [
            "Batch 120 | Loss: 0.2778 | Learning rate:  0.000017\n"
          ]
        },
        {
          "output_type": "stream",
          "name": "stderr",
          "text": [
            "Start training the model for one epoch...:  95%|█████████▍| 140/148 [01:00<00:03,  2.39it/s]"
          ]
        },
        {
          "output_type": "stream",
          "name": "stdout",
          "text": [
            "Batch 140 | Loss: 0.2985 | Learning rate:  0.000017\n"
          ]
        },
        {
          "output_type": "stream",
          "name": "stderr",
          "text": [
            "Start training the model for one epoch...: 100%|██████████| 148/148 [01:03<00:00,  2.32it/s]\n",
            "954it [02:07,  7.51it/s]\n"
          ]
        },
        {
          "output_type": "stream",
          "name": "stdout",
          "text": [
            "Epoch: 55, train loss: 0.208789186325629, val_loss: 0.5384355168984871, val_dice: 0.19512817706152338, val_IoU: 0.16748885877459604\n"
          ]
        },
        {
          "output_type": "stream",
          "name": "stderr",
          "text": [
            "Start training the model for one epoch...:  14%|█▎        | 20/148 [00:09<00:53,  2.38it/s]"
          ]
        },
        {
          "output_type": "stream",
          "name": "stdout",
          "text": [
            "Batch 20 | Loss: 0.2907 | Learning rate:  0.000017\n"
          ]
        },
        {
          "output_type": "stream",
          "name": "stderr",
          "text": [
            "Start training the model for one epoch...:  27%|██▋       | 40/148 [00:18<00:45,  2.37it/s]"
          ]
        },
        {
          "output_type": "stream",
          "name": "stdout",
          "text": [
            "Batch 40 | Loss: 0.1638 | Learning rate:  0.000017\n"
          ]
        },
        {
          "output_type": "stream",
          "name": "stderr",
          "text": [
            "Start training the model for one epoch...:  41%|████      | 60/148 [00:26<00:37,  2.37it/s]"
          ]
        },
        {
          "output_type": "stream",
          "name": "stdout",
          "text": [
            "Batch 60 | Loss: 0.1883 | Learning rate:  0.000017\n"
          ]
        },
        {
          "output_type": "stream",
          "name": "stderr",
          "text": [
            "Start training the model for one epoch...:  54%|█████▍    | 80/148 [00:34<00:28,  2.37it/s]"
          ]
        },
        {
          "output_type": "stream",
          "name": "stdout",
          "text": [
            "Batch 80 | Loss: 0.3760 | Learning rate:  0.000017\n"
          ]
        },
        {
          "output_type": "stream",
          "name": "stderr",
          "text": [
            "Start training the model for one epoch...:  68%|██████▊   | 100/148 [00:43<00:20,  2.37it/s]"
          ]
        },
        {
          "output_type": "stream",
          "name": "stdout",
          "text": [
            "Batch 100 | Loss: 0.2068 | Learning rate:  0.000017\n"
          ]
        },
        {
          "output_type": "stream",
          "name": "stderr",
          "text": [
            "Start training the model for one epoch...:  81%|████████  | 120/148 [00:51<00:11,  2.38it/s]"
          ]
        },
        {
          "output_type": "stream",
          "name": "stdout",
          "text": [
            "Batch 120 | Loss: 0.3177 | Learning rate:  0.000017\n"
          ]
        },
        {
          "output_type": "stream",
          "name": "stderr",
          "text": [
            "Start training the model for one epoch...:  95%|█████████▍| 140/148 [01:00<00:03,  2.35it/s]"
          ]
        },
        {
          "output_type": "stream",
          "name": "stdout",
          "text": [
            "Batch 140 | Loss: 0.2205 | Learning rate:  0.000017\n"
          ]
        },
        {
          "output_type": "stream",
          "name": "stderr",
          "text": [
            "Start training the model for one epoch...: 100%|██████████| 148/148 [01:03<00:00,  2.33it/s]\n",
            "954it [02:06,  7.52it/s]\n"
          ]
        },
        {
          "output_type": "stream",
          "name": "stdout",
          "text": [
            "Epoch: 56, train loss: 0.20657050949395508, val_loss: 0.5070317882724278, val_dice: 0.16322127491119726, val_IoU: 0.13997017681948629\n"
          ]
        },
        {
          "output_type": "stream",
          "name": "stderr",
          "text": [
            "Start training the model for one epoch...:  14%|█▎        | 20/148 [00:09<00:53,  2.37it/s]"
          ]
        },
        {
          "output_type": "stream",
          "name": "stdout",
          "text": [
            "Batch 20 | Loss: 0.3680 | Learning rate:  0.000017\n"
          ]
        },
        {
          "output_type": "stream",
          "name": "stderr",
          "text": [
            "Start training the model for one epoch...:  27%|██▋       | 40/148 [00:18<00:45,  2.38it/s]"
          ]
        },
        {
          "output_type": "stream",
          "name": "stdout",
          "text": [
            "Batch 40 | Loss: 0.3015 | Learning rate:  0.000017\n"
          ]
        },
        {
          "output_type": "stream",
          "name": "stderr",
          "text": [
            "Start training the model for one epoch...:  41%|████      | 60/148 [00:27<00:37,  2.37it/s]"
          ]
        },
        {
          "output_type": "stream",
          "name": "stdout",
          "text": [
            "Batch 60 | Loss: 0.1123 | Learning rate:  0.000017\n"
          ]
        },
        {
          "output_type": "stream",
          "name": "stderr",
          "text": [
            "Start training the model for one epoch...:  54%|█████▍    | 80/148 [00:35<00:28,  2.38it/s]"
          ]
        },
        {
          "output_type": "stream",
          "name": "stdout",
          "text": [
            "Batch 80 | Loss: 0.1076 | Learning rate:  0.000017\n"
          ]
        },
        {
          "output_type": "stream",
          "name": "stderr",
          "text": [
            "Start training the model for one epoch...:  68%|██████▊   | 100/148 [00:43<00:20,  2.38it/s]"
          ]
        },
        {
          "output_type": "stream",
          "name": "stdout",
          "text": [
            "Batch 100 | Loss: 0.1845 | Learning rate:  0.000017\n"
          ]
        },
        {
          "output_type": "stream",
          "name": "stderr",
          "text": [
            "Start training the model for one epoch...:  81%|████████  | 120/148 [00:52<00:11,  2.37it/s]"
          ]
        },
        {
          "output_type": "stream",
          "name": "stdout",
          "text": [
            "Batch 120 | Loss: 0.2361 | Learning rate:  0.000017\n"
          ]
        },
        {
          "output_type": "stream",
          "name": "stderr",
          "text": [
            "Start training the model for one epoch...:  95%|█████████▍| 140/148 [01:00<00:03,  2.39it/s]"
          ]
        },
        {
          "output_type": "stream",
          "name": "stdout",
          "text": [
            "Batch 140 | Loss: 0.2074 | Learning rate:  0.000017\n"
          ]
        },
        {
          "output_type": "stream",
          "name": "stderr",
          "text": [
            "Start training the model for one epoch...: 100%|██████████| 148/148 [01:04<00:00,  2.31it/s]\n",
            "954it [02:06,  7.52it/s]\n"
          ]
        },
        {
          "output_type": "stream",
          "name": "stdout",
          "text": [
            "Epoch: 57, train loss: 0.18542176897864085, val_loss: 0.46843496243034016, val_dice: 0.1453407234726664, val_IoU: 0.12610035020840715\n"
          ]
        },
        {
          "output_type": "stream",
          "name": "stderr",
          "text": [
            "Start training the model for one epoch...:  14%|█▎        | 20/148 [00:09<00:53,  2.37it/s]"
          ]
        },
        {
          "output_type": "stream",
          "name": "stdout",
          "text": [
            "Batch 20 | Loss: 0.2403 | Learning rate:  0.000017\n"
          ]
        },
        {
          "output_type": "stream",
          "name": "stderr",
          "text": [
            "Start training the model for one epoch...:  27%|██▋       | 40/148 [00:18<00:45,  2.38it/s]"
          ]
        },
        {
          "output_type": "stream",
          "name": "stdout",
          "text": [
            "Batch 40 | Loss: 0.1973 | Learning rate:  0.000017\n"
          ]
        },
        {
          "output_type": "stream",
          "name": "stderr",
          "text": [
            "Start training the model for one epoch...:  41%|████      | 60/148 [00:26<00:37,  2.37it/s]"
          ]
        },
        {
          "output_type": "stream",
          "name": "stdout",
          "text": [
            "Batch 60 | Loss: 0.1389 | Learning rate:  0.000017\n"
          ]
        },
        {
          "output_type": "stream",
          "name": "stderr",
          "text": [
            "Start training the model for one epoch...:  54%|█████▍    | 80/148 [00:34<00:28,  2.37it/s]"
          ]
        },
        {
          "output_type": "stream",
          "name": "stdout",
          "text": [
            "Batch 80 | Loss: 0.1309 | Learning rate:  0.000017\n"
          ]
        },
        {
          "output_type": "stream",
          "name": "stderr",
          "text": [
            "Start training the model for one epoch...:  68%|██████▊   | 100/148 [00:43<00:20,  2.38it/s]"
          ]
        },
        {
          "output_type": "stream",
          "name": "stdout",
          "text": [
            "Batch 100 | Loss: 0.2195 | Learning rate:  0.000017\n"
          ]
        },
        {
          "output_type": "stream",
          "name": "stderr",
          "text": [
            "Start training the model for one epoch...:  81%|████████  | 120/148 [00:51<00:11,  2.37it/s]"
          ]
        },
        {
          "output_type": "stream",
          "name": "stdout",
          "text": [
            "Batch 120 | Loss: 0.1167 | Learning rate:  0.000017\n"
          ]
        },
        {
          "output_type": "stream",
          "name": "stderr",
          "text": [
            "Start training the model for one epoch...:  95%|█████████▍| 140/148 [01:00<00:03,  2.39it/s]"
          ]
        },
        {
          "output_type": "stream",
          "name": "stdout",
          "text": [
            "Batch 140 | Loss: 0.1044 | Learning rate:  0.000017\n"
          ]
        },
        {
          "output_type": "stream",
          "name": "stderr",
          "text": [
            "Start training the model for one epoch...: 100%|██████████| 148/148 [01:03<00:00,  2.33it/s]\n",
            "954it [02:07,  7.51it/s]\n"
          ]
        },
        {
          "output_type": "stream",
          "name": "stdout",
          "text": [
            "Epoch: 58, train loss: 0.16537900344544165, val_loss: 0.4437710289185402, val_dice: 0.126076167726879, val_IoU: 0.11027474834090889\n"
          ]
        },
        {
          "output_type": "stream",
          "name": "stderr",
          "text": [
            "Start training the model for one epoch...:  14%|█▎        | 20/148 [00:09<00:54,  2.37it/s]"
          ]
        },
        {
          "output_type": "stream",
          "name": "stdout",
          "text": [
            "Batch 20 | Loss: 0.0767 | Learning rate:  0.000017\n"
          ]
        },
        {
          "output_type": "stream",
          "name": "stderr",
          "text": [
            "Start training the model for one epoch...:  27%|██▋       | 40/148 [00:18<00:45,  2.37it/s]"
          ]
        },
        {
          "output_type": "stream",
          "name": "stdout",
          "text": [
            "Batch 40 | Loss: 0.1827 | Learning rate:  0.000017\n"
          ]
        },
        {
          "output_type": "stream",
          "name": "stderr",
          "text": [
            "Start training the model for one epoch...:  41%|████      | 60/148 [00:26<00:37,  2.37it/s]"
          ]
        },
        {
          "output_type": "stream",
          "name": "stdout",
          "text": [
            "Batch 60 | Loss: 0.1054 | Learning rate:  0.000017\n"
          ]
        },
        {
          "output_type": "stream",
          "name": "stderr",
          "text": [
            "Start training the model for one epoch...:  54%|█████▍    | 80/148 [00:34<00:28,  2.37it/s]"
          ]
        },
        {
          "output_type": "stream",
          "name": "stdout",
          "text": [
            "Batch 80 | Loss: 0.1652 | Learning rate:  0.000017\n"
          ]
        },
        {
          "output_type": "stream",
          "name": "stderr",
          "text": [
            "Start training the model for one epoch...:  68%|██████▊   | 100/148 [00:43<00:20,  2.38it/s]"
          ]
        },
        {
          "output_type": "stream",
          "name": "stdout",
          "text": [
            "Batch 100 | Loss: 0.1366 | Learning rate:  0.000017\n"
          ]
        },
        {
          "output_type": "stream",
          "name": "stderr",
          "text": [
            "Start training the model for one epoch...:  81%|████████  | 120/148 [00:51<00:11,  2.36it/s]"
          ]
        },
        {
          "output_type": "stream",
          "name": "stdout",
          "text": [
            "Batch 120 | Loss: 0.0861 | Learning rate:  0.000017\n"
          ]
        },
        {
          "output_type": "stream",
          "name": "stderr",
          "text": [
            "Start training the model for one epoch...:  95%|█████████▍| 140/148 [01:00<00:03,  2.39it/s]"
          ]
        },
        {
          "output_type": "stream",
          "name": "stdout",
          "text": [
            "Batch 140 | Loss: 0.1212 | Learning rate:  0.000017\n"
          ]
        },
        {
          "output_type": "stream",
          "name": "stderr",
          "text": [
            "Start training the model for one epoch...: 100%|██████████| 148/148 [01:03<00:00,  2.33it/s]\n",
            "954it [02:07,  7.51it/s]\n"
          ]
        },
        {
          "output_type": "stream",
          "name": "stdout",
          "text": [
            "Epoch: 59, train loss: 0.14769839409839464, val_loss: 0.3506578934111435, val_dice: 0.23043859009769233, val_IoU: 0.1973223098472451\n"
          ]
        },
        {
          "output_type": "stream",
          "name": "stderr",
          "text": [
            "Start training the model for one epoch...:  14%|█▎        | 20/148 [00:09<00:53,  2.38it/s]"
          ]
        },
        {
          "output_type": "stream",
          "name": "stdout",
          "text": [
            "Batch 20 | Loss: 0.2082 | Learning rate:  0.000016\n"
          ]
        },
        {
          "output_type": "stream",
          "name": "stderr",
          "text": [
            "Start training the model for one epoch...:  27%|██▋       | 40/148 [00:18<00:45,  2.37it/s]"
          ]
        },
        {
          "output_type": "stream",
          "name": "stdout",
          "text": [
            "Batch 40 | Loss: 0.1383 | Learning rate:  0.000016\n"
          ]
        },
        {
          "output_type": "stream",
          "name": "stderr",
          "text": [
            "Start training the model for one epoch...:  41%|████      | 60/148 [00:27<00:37,  2.38it/s]"
          ]
        },
        {
          "output_type": "stream",
          "name": "stdout",
          "text": [
            "Batch 60 | Loss: 0.1539 | Learning rate:  0.000016\n"
          ]
        },
        {
          "output_type": "stream",
          "name": "stderr",
          "text": [
            "Start training the model for one epoch...:  54%|█████▍    | 80/148 [00:35<00:28,  2.38it/s]"
          ]
        },
        {
          "output_type": "stream",
          "name": "stdout",
          "text": [
            "Batch 80 | Loss: 0.1341 | Learning rate:  0.000016\n"
          ]
        },
        {
          "output_type": "stream",
          "name": "stderr",
          "text": [
            "Start training the model for one epoch...:  68%|██████▊   | 100/148 [00:43<00:20,  2.38it/s]"
          ]
        },
        {
          "output_type": "stream",
          "name": "stdout",
          "text": [
            "Batch 100 | Loss: 0.0988 | Learning rate:  0.000016\n"
          ]
        },
        {
          "output_type": "stream",
          "name": "stderr",
          "text": [
            "Start training the model for one epoch...:  81%|████████  | 120/148 [00:52<00:11,  2.37it/s]"
          ]
        },
        {
          "output_type": "stream",
          "name": "stdout",
          "text": [
            "Batch 120 | Loss: 0.1118 | Learning rate:  0.000016\n"
          ]
        },
        {
          "output_type": "stream",
          "name": "stderr",
          "text": [
            "Start training the model for one epoch...:  95%|█████████▍| 140/148 [01:00<00:03,  2.39it/s]"
          ]
        },
        {
          "output_type": "stream",
          "name": "stdout",
          "text": [
            "Batch 140 | Loss: 0.1373 | Learning rate:  0.000016\n"
          ]
        },
        {
          "output_type": "stream",
          "name": "stderr",
          "text": [
            "Start training the model for one epoch...: 100%|██████████| 148/148 [01:03<00:00,  2.31it/s]\n",
            "954it [02:06,  7.51it/s]\n"
          ]
        },
        {
          "output_type": "stream",
          "name": "stdout",
          "text": [
            "Epoch: 60, train loss: 0.13278025210004402, val_loss: 0.3660678532388475, val_dice: 0.16199595748950624, val_IoU: 0.14045535606318396\n"
          ]
        },
        {
          "output_type": "stream",
          "name": "stderr",
          "text": [
            "Start training the model for one epoch...:  14%|█▎        | 20/148 [00:09<00:53,  2.38it/s]"
          ]
        },
        {
          "output_type": "stream",
          "name": "stdout",
          "text": [
            "Batch 20 | Loss: 0.1705 | Learning rate:  0.000016\n"
          ]
        },
        {
          "output_type": "stream",
          "name": "stderr",
          "text": [
            "Start training the model for one epoch...:  27%|██▋       | 40/148 [00:18<00:45,  2.37it/s]"
          ]
        },
        {
          "output_type": "stream",
          "name": "stdout",
          "text": [
            "Batch 40 | Loss: 0.1269 | Learning rate:  0.000016\n"
          ]
        },
        {
          "output_type": "stream",
          "name": "stderr",
          "text": [
            "Start training the model for one epoch...:  41%|████      | 60/148 [00:26<00:37,  2.38it/s]"
          ]
        },
        {
          "output_type": "stream",
          "name": "stdout",
          "text": [
            "Batch 60 | Loss: 0.1046 | Learning rate:  0.000016\n"
          ]
        },
        {
          "output_type": "stream",
          "name": "stderr",
          "text": [
            "Start training the model for one epoch...:  54%|█████▍    | 80/148 [00:34<00:28,  2.38it/s]"
          ]
        },
        {
          "output_type": "stream",
          "name": "stdout",
          "text": [
            "Batch 80 | Loss: 0.0886 | Learning rate:  0.000016\n"
          ]
        },
        {
          "output_type": "stream",
          "name": "stderr",
          "text": [
            "Start training the model for one epoch...:  68%|██████▊   | 100/148 [00:43<00:20,  2.37it/s]"
          ]
        },
        {
          "output_type": "stream",
          "name": "stdout",
          "text": [
            "Batch 100 | Loss: 0.0877 | Learning rate:  0.000016\n"
          ]
        },
        {
          "output_type": "stream",
          "name": "stderr",
          "text": [
            "Start training the model for one epoch...:  81%|████████  | 120/148 [00:51<00:11,  2.38it/s]"
          ]
        },
        {
          "output_type": "stream",
          "name": "stdout",
          "text": [
            "Batch 120 | Loss: 0.0501 | Learning rate:  0.000016\n"
          ]
        },
        {
          "output_type": "stream",
          "name": "stderr",
          "text": [
            "Start training the model for one epoch...:  95%|█████████▍| 140/148 [01:00<00:03,  2.39it/s]"
          ]
        },
        {
          "output_type": "stream",
          "name": "stdout",
          "text": [
            "Batch 140 | Loss: 0.1401 | Learning rate:  0.000016\n"
          ]
        },
        {
          "output_type": "stream",
          "name": "stderr",
          "text": [
            "Start training the model for one epoch...: 100%|██████████| 148/148 [01:03<00:00,  2.33it/s]\n",
            "954it [02:07,  7.51it/s]\n"
          ]
        },
        {
          "output_type": "stream",
          "name": "stdout",
          "text": [
            "Epoch: 61, train loss: 0.129623526833146, val_loss: 0.3678661501288914, val_dice: 0.2103880724957497, val_IoU: 0.1792310667377033\n"
          ]
        },
        {
          "output_type": "stream",
          "name": "stderr",
          "text": [
            "Start training the model for one epoch...:  14%|█▎        | 20/148 [00:09<00:53,  2.38it/s]"
          ]
        },
        {
          "output_type": "stream",
          "name": "stdout",
          "text": [
            "Batch 20 | Loss: 0.1523 | Learning rate:  0.000016\n"
          ]
        },
        {
          "output_type": "stream",
          "name": "stderr",
          "text": [
            "Start training the model for one epoch...:  27%|██▋       | 40/148 [00:18<00:45,  2.38it/s]"
          ]
        },
        {
          "output_type": "stream",
          "name": "stdout",
          "text": [
            "Batch 40 | Loss: 0.2226 | Learning rate:  0.000016\n"
          ]
        },
        {
          "output_type": "stream",
          "name": "stderr",
          "text": [
            "Start training the model for one epoch...:  41%|████      | 60/148 [00:26<00:37,  2.37it/s]"
          ]
        },
        {
          "output_type": "stream",
          "name": "stdout",
          "text": [
            "Batch 60 | Loss: 0.0976 | Learning rate:  0.000016\n"
          ]
        },
        {
          "output_type": "stream",
          "name": "stderr",
          "text": [
            "Start training the model for one epoch...:  54%|█████▍    | 80/148 [00:35<00:31,  2.13it/s]"
          ]
        },
        {
          "output_type": "stream",
          "name": "stdout",
          "text": [
            "Batch 80 | Loss: 0.0646 | Learning rate:  0.000016\n"
          ]
        },
        {
          "output_type": "stream",
          "name": "stderr",
          "text": [
            "Start training the model for one epoch...:  68%|██████▊   | 100/148 [00:43<00:20,  2.37it/s]"
          ]
        },
        {
          "output_type": "stream",
          "name": "stdout",
          "text": [
            "Batch 100 | Loss: 0.1105 | Learning rate:  0.000016\n"
          ]
        },
        {
          "output_type": "stream",
          "name": "stderr",
          "text": [
            "Start training the model for one epoch...:  81%|████████  | 120/148 [00:52<00:11,  2.37it/s]"
          ]
        },
        {
          "output_type": "stream",
          "name": "stdout",
          "text": [
            "Batch 120 | Loss: 0.1057 | Learning rate:  0.000016\n"
          ]
        },
        {
          "output_type": "stream",
          "name": "stderr",
          "text": [
            "Start training the model for one epoch...:  95%|█████████▍| 140/148 [01:00<00:03,  2.39it/s]"
          ]
        },
        {
          "output_type": "stream",
          "name": "stdout",
          "text": [
            "Batch 140 | Loss: 0.1136 | Learning rate:  0.000016\n"
          ]
        },
        {
          "output_type": "stream",
          "name": "stderr",
          "text": [
            "Start training the model for one epoch...: 100%|██████████| 148/148 [01:04<00:00,  2.31it/s]\n",
            "954it [02:07,  7.51it/s]\n"
          ]
        },
        {
          "output_type": "stream",
          "name": "stdout",
          "text": [
            "Epoch: 62, train loss: 0.12463321929445138, val_loss: 0.37646720445943327, val_dice: 0.16572306826915506, val_IoU: 0.14358623552403024\n"
          ]
        },
        {
          "output_type": "stream",
          "name": "stderr",
          "text": [
            "Start training the model for one epoch...:  14%|█▎        | 20/148 [00:09<00:53,  2.38it/s]"
          ]
        },
        {
          "output_type": "stream",
          "name": "stdout",
          "text": [
            "Batch 20 | Loss: 0.2010 | Learning rate:  0.000016\n"
          ]
        },
        {
          "output_type": "stream",
          "name": "stderr",
          "text": [
            "Start training the model for one epoch...:  27%|██▋       | 40/148 [00:18<00:45,  2.37it/s]"
          ]
        },
        {
          "output_type": "stream",
          "name": "stdout",
          "text": [
            "Batch 40 | Loss: 0.0598 | Learning rate:  0.000016\n"
          ]
        },
        {
          "output_type": "stream",
          "name": "stderr",
          "text": [
            "Start training the model for one epoch...:  41%|████      | 60/148 [00:26<00:37,  2.37it/s]"
          ]
        },
        {
          "output_type": "stream",
          "name": "stdout",
          "text": [
            "Batch 60 | Loss: 0.0925 | Learning rate:  0.000016\n"
          ]
        },
        {
          "output_type": "stream",
          "name": "stderr",
          "text": [
            "Start training the model for one epoch...:  54%|█████▍    | 80/148 [00:35<00:28,  2.37it/s]"
          ]
        },
        {
          "output_type": "stream",
          "name": "stdout",
          "text": [
            "Batch 80 | Loss: 0.1059 | Learning rate:  0.000016\n"
          ]
        },
        {
          "output_type": "stream",
          "name": "stderr",
          "text": [
            "Start training the model for one epoch...:  68%|██████▊   | 100/148 [00:43<00:20,  2.38it/s]"
          ]
        },
        {
          "output_type": "stream",
          "name": "stdout",
          "text": [
            "Batch 100 | Loss: 0.1904 | Learning rate:  0.000016\n"
          ]
        },
        {
          "output_type": "stream",
          "name": "stderr",
          "text": [
            "Start training the model for one epoch...:  81%|████████  | 120/148 [00:51<00:11,  2.37it/s]"
          ]
        },
        {
          "output_type": "stream",
          "name": "stdout",
          "text": [
            "Batch 120 | Loss: 0.0834 | Learning rate:  0.000016\n"
          ]
        },
        {
          "output_type": "stream",
          "name": "stderr",
          "text": [
            "Start training the model for one epoch...:  95%|█████████▍| 140/148 [01:00<00:03,  2.39it/s]"
          ]
        },
        {
          "output_type": "stream",
          "name": "stdout",
          "text": [
            "Batch 140 | Loss: 0.1271 | Learning rate:  0.000016\n"
          ]
        },
        {
          "output_type": "stream",
          "name": "stderr",
          "text": [
            "Start training the model for one epoch...: 100%|██████████| 148/148 [01:03<00:00,  2.33it/s]\n",
            "954it [02:06,  7.52it/s]\n"
          ]
        },
        {
          "output_type": "stream",
          "name": "stdout",
          "text": [
            "Epoch: 63, train loss: 0.11940910833308825, val_loss: 0.35384438461790046, val_dice: 0.14904624258461668, val_IoU: 0.13005196803127042\n"
          ]
        },
        {
          "output_type": "stream",
          "name": "stderr",
          "text": [
            "Start training the model for one epoch...:  14%|█▎        | 20/148 [00:09<00:53,  2.37it/s]"
          ]
        },
        {
          "output_type": "stream",
          "name": "stdout",
          "text": [
            "Batch 20 | Loss: 0.1659 | Learning rate:  0.000016\n"
          ]
        },
        {
          "output_type": "stream",
          "name": "stderr",
          "text": [
            "Start training the model for one epoch...:  27%|██▋       | 40/148 [00:18<00:45,  2.38it/s]"
          ]
        },
        {
          "output_type": "stream",
          "name": "stdout",
          "text": [
            "Batch 40 | Loss: 0.1351 | Learning rate:  0.000016\n"
          ]
        },
        {
          "output_type": "stream",
          "name": "stderr",
          "text": [
            "Start training the model for one epoch...:  41%|████      | 60/148 [00:26<00:37,  2.37it/s]"
          ]
        },
        {
          "output_type": "stream",
          "name": "stdout",
          "text": [
            "Batch 60 | Loss: 0.0790 | Learning rate:  0.000016\n"
          ]
        },
        {
          "output_type": "stream",
          "name": "stderr",
          "text": [
            "Start training the model for one epoch...:  54%|█████▍    | 80/148 [00:34<00:28,  2.37it/s]"
          ]
        },
        {
          "output_type": "stream",
          "name": "stdout",
          "text": [
            "Batch 80 | Loss: 0.1563 | Learning rate:  0.000016\n"
          ]
        },
        {
          "output_type": "stream",
          "name": "stderr",
          "text": [
            "Start training the model for one epoch...:  68%|██████▊   | 100/148 [00:43<00:20,  2.37it/s]"
          ]
        },
        {
          "output_type": "stream",
          "name": "stdout",
          "text": [
            "Batch 100 | Loss: 0.0703 | Learning rate:  0.000016\n"
          ]
        },
        {
          "output_type": "stream",
          "name": "stderr",
          "text": [
            "Start training the model for one epoch...:  81%|████████  | 120/148 [00:51<00:11,  2.36it/s]"
          ]
        },
        {
          "output_type": "stream",
          "name": "stdout",
          "text": [
            "Batch 120 | Loss: 0.1532 | Learning rate:  0.000016\n"
          ]
        },
        {
          "output_type": "stream",
          "name": "stderr",
          "text": [
            "Start training the model for one epoch...:  95%|█████████▍| 140/148 [01:00<00:03,  2.39it/s]"
          ]
        },
        {
          "output_type": "stream",
          "name": "stdout",
          "text": [
            "Batch 140 | Loss: 0.1046 | Learning rate:  0.000016\n"
          ]
        },
        {
          "output_type": "stream",
          "name": "stderr",
          "text": [
            "Start training the model for one epoch...: 100%|██████████| 148/148 [01:03<00:00,  2.33it/s]\n",
            "954it [02:06,  7.52it/s]\n"
          ]
        },
        {
          "output_type": "stream",
          "name": "stdout",
          "text": [
            "Epoch: 64, train loss: 0.12451380798341455, val_loss: 0.3402261027765599, val_dice: 0.14689939713636335, val_IoU: 0.12677095555208312\n"
          ]
        },
        {
          "output_type": "stream",
          "name": "stderr",
          "text": [
            "Start training the model for one epoch...:  14%|█▎        | 20/148 [00:09<00:53,  2.37it/s]"
          ]
        },
        {
          "output_type": "stream",
          "name": "stdout",
          "text": [
            "Batch 20 | Loss: 0.1324 | Learning rate:  0.000016\n"
          ]
        },
        {
          "output_type": "stream",
          "name": "stderr",
          "text": [
            "Start training the model for one epoch...:  27%|██▋       | 40/148 [00:18<00:47,  2.28it/s]"
          ]
        },
        {
          "output_type": "stream",
          "name": "stdout",
          "text": [
            "Batch 40 | Loss: 0.1991 | Learning rate:  0.000016\n"
          ]
        },
        {
          "output_type": "stream",
          "name": "stderr",
          "text": [
            "Start training the model for one epoch...:  41%|████      | 60/148 [00:26<00:37,  2.37it/s]"
          ]
        },
        {
          "output_type": "stream",
          "name": "stdout",
          "text": [
            "Batch 60 | Loss: 0.1164 | Learning rate:  0.000016\n"
          ]
        },
        {
          "output_type": "stream",
          "name": "stderr",
          "text": [
            "Start training the model for one epoch...:  54%|█████▍    | 80/148 [00:35<00:28,  2.37it/s]"
          ]
        },
        {
          "output_type": "stream",
          "name": "stdout",
          "text": [
            "Batch 80 | Loss: 0.0853 | Learning rate:  0.000016\n"
          ]
        },
        {
          "output_type": "stream",
          "name": "stderr",
          "text": [
            "Start training the model for one epoch...:  68%|██████▊   | 100/148 [00:43<00:20,  2.37it/s]"
          ]
        },
        {
          "output_type": "stream",
          "name": "stdout",
          "text": [
            "Batch 100 | Loss: 0.0765 | Learning rate:  0.000016\n"
          ]
        },
        {
          "output_type": "stream",
          "name": "stderr",
          "text": [
            "Start training the model for one epoch...:  81%|████████  | 120/148 [00:52<00:11,  2.37it/s]"
          ]
        },
        {
          "output_type": "stream",
          "name": "stdout",
          "text": [
            "Batch 120 | Loss: 0.0558 | Learning rate:  0.000016\n"
          ]
        },
        {
          "output_type": "stream",
          "name": "stderr",
          "text": [
            "Start training the model for one epoch...:  95%|█████████▍| 140/148 [01:00<00:03,  2.39it/s]"
          ]
        },
        {
          "output_type": "stream",
          "name": "stdout",
          "text": [
            "Batch 140 | Loss: 0.0731 | Learning rate:  0.000016\n"
          ]
        },
        {
          "output_type": "stream",
          "name": "stderr",
          "text": [
            "Start training the model for one epoch...: 100%|██████████| 148/148 [01:03<00:00,  2.32it/s]\n",
            "954it [02:07,  7.50it/s]\n"
          ]
        },
        {
          "output_type": "stream",
          "name": "stdout",
          "text": [
            "Epoch: 65, train loss: 0.10433922126587178, val_loss: 0.38272844120641425, val_dice: 0.12877781451356676, val_IoU: 0.11146101915857622\n"
          ]
        },
        {
          "output_type": "stream",
          "name": "stderr",
          "text": [
            "Start training the model for one epoch...:  14%|█▎        | 20/148 [00:09<00:53,  2.38it/s]"
          ]
        },
        {
          "output_type": "stream",
          "name": "stdout",
          "text": [
            "Batch 20 | Loss: 0.0493 | Learning rate:  0.000016\n"
          ]
        },
        {
          "output_type": "stream",
          "name": "stderr",
          "text": [
            "Start training the model for one epoch...:  27%|██▋       | 40/148 [00:18<00:45,  2.37it/s]"
          ]
        },
        {
          "output_type": "stream",
          "name": "stdout",
          "text": [
            "Batch 40 | Loss: 0.0660 | Learning rate:  0.000016\n"
          ]
        },
        {
          "output_type": "stream",
          "name": "stderr",
          "text": [
            "Start training the model for one epoch...:  41%|████      | 60/148 [00:26<00:37,  2.37it/s]"
          ]
        },
        {
          "output_type": "stream",
          "name": "stdout",
          "text": [
            "Batch 60 | Loss: 0.0971 | Learning rate:  0.000016\n"
          ]
        },
        {
          "output_type": "stream",
          "name": "stderr",
          "text": [
            "Start training the model for one epoch...:  54%|█████▍    | 80/148 [00:34<00:28,  2.38it/s]"
          ]
        },
        {
          "output_type": "stream",
          "name": "stdout",
          "text": [
            "Batch 80 | Loss: 0.0908 | Learning rate:  0.000016\n"
          ]
        },
        {
          "output_type": "stream",
          "name": "stderr",
          "text": [
            "Start training the model for one epoch...:  68%|██████▊   | 100/148 [00:43<00:20,  2.37it/s]"
          ]
        },
        {
          "output_type": "stream",
          "name": "stdout",
          "text": [
            "Batch 100 | Loss: 0.0842 | Learning rate:  0.000016\n"
          ]
        },
        {
          "output_type": "stream",
          "name": "stderr",
          "text": [
            "Start training the model for one epoch...:  81%|████████  | 120/148 [00:51<00:11,  2.35it/s]"
          ]
        },
        {
          "output_type": "stream",
          "name": "stdout",
          "text": [
            "Batch 120 | Loss: 0.0896 | Learning rate:  0.000016\n"
          ]
        },
        {
          "output_type": "stream",
          "name": "stderr",
          "text": [
            "Start training the model for one epoch...:  95%|█████████▍| 140/148 [01:00<00:03,  2.39it/s]"
          ]
        },
        {
          "output_type": "stream",
          "name": "stdout",
          "text": [
            "Batch 140 | Loss: 0.0446 | Learning rate:  0.000016\n"
          ]
        },
        {
          "output_type": "stream",
          "name": "stderr",
          "text": [
            "Start training the model for one epoch...: 100%|██████████| 148/148 [01:03<00:00,  2.33it/s]\n",
            "954it [02:07,  7.51it/s]\n"
          ]
        },
        {
          "output_type": "stream",
          "name": "stdout",
          "text": [
            "Epoch: 66, train loss: 0.09899308323558118, val_loss: 0.36150641548808515, val_dice: 0.1246907840811669, val_IoU: 0.10879633792716152\n"
          ]
        },
        {
          "output_type": "stream",
          "name": "stderr",
          "text": [
            "Start training the model for one epoch...:  14%|█▎        | 20/148 [00:09<00:53,  2.38it/s]"
          ]
        },
        {
          "output_type": "stream",
          "name": "stdout",
          "text": [
            "Batch 20 | Loss: 0.0507 | Learning rate:  0.000016\n"
          ]
        },
        {
          "output_type": "stream",
          "name": "stderr",
          "text": [
            "Start training the model for one epoch...:  27%|██▋       | 40/148 [00:18<00:45,  2.38it/s]"
          ]
        },
        {
          "output_type": "stream",
          "name": "stdout",
          "text": [
            "Batch 40 | Loss: 0.0896 | Learning rate:  0.000016\n"
          ]
        },
        {
          "output_type": "stream",
          "name": "stderr",
          "text": [
            "Start training the model for one epoch...:  41%|████      | 60/148 [00:26<00:37,  2.37it/s]"
          ]
        },
        {
          "output_type": "stream",
          "name": "stdout",
          "text": [
            "Batch 60 | Loss: 0.0654 | Learning rate:  0.000016\n"
          ]
        },
        {
          "output_type": "stream",
          "name": "stderr",
          "text": [
            "Start training the model for one epoch...:  54%|█████▍    | 80/148 [00:35<00:29,  2.30it/s]"
          ]
        },
        {
          "output_type": "stream",
          "name": "stdout",
          "text": [
            "Batch 80 | Loss: 0.1114 | Learning rate:  0.000016\n"
          ]
        },
        {
          "output_type": "stream",
          "name": "stderr",
          "text": [
            "Start training the model for one epoch...:  68%|██████▊   | 100/148 [00:44<00:20,  2.37it/s]"
          ]
        },
        {
          "output_type": "stream",
          "name": "stdout",
          "text": [
            "Batch 100 | Loss: 0.0923 | Learning rate:  0.000016\n"
          ]
        },
        {
          "output_type": "stream",
          "name": "stderr",
          "text": [
            "Start training the model for one epoch...:  81%|████████  | 120/148 [00:52<00:11,  2.37it/s]"
          ]
        },
        {
          "output_type": "stream",
          "name": "stdout",
          "text": [
            "Batch 120 | Loss: 0.1083 | Learning rate:  0.000016\n"
          ]
        },
        {
          "output_type": "stream",
          "name": "stderr",
          "text": [
            "Start training the model for one epoch...:  95%|█████████▍| 140/148 [01:00<00:03,  2.38it/s]"
          ]
        },
        {
          "output_type": "stream",
          "name": "stdout",
          "text": [
            "Batch 140 | Loss: 0.0710 | Learning rate:  0.000016\n"
          ]
        },
        {
          "output_type": "stream",
          "name": "stderr",
          "text": [
            "Start training the model for one epoch...: 100%|██████████| 148/148 [01:04<00:00,  2.30it/s]\n",
            "954it [02:06,  7.52it/s]\n"
          ]
        },
        {
          "output_type": "stream",
          "name": "stdout",
          "text": [
            "Epoch: 67, train loss: 0.11552913407669277, val_loss: 0.42420713620678185, val_dice: 0.0961580424761417, val_IoU: 0.08523925497111655\n"
          ]
        },
        {
          "output_type": "stream",
          "name": "stderr",
          "text": [
            "Start training the model for one epoch...:  14%|█▎        | 20/148 [00:09<00:53,  2.38it/s]"
          ]
        },
        {
          "output_type": "stream",
          "name": "stdout",
          "text": [
            "Batch 20 | Loss: 0.0901 | Learning rate:  0.000015\n"
          ]
        },
        {
          "output_type": "stream",
          "name": "stderr",
          "text": [
            "Start training the model for one epoch...:  27%|██▋       | 40/148 [00:18<00:45,  2.38it/s]"
          ]
        },
        {
          "output_type": "stream",
          "name": "stdout",
          "text": [
            "Batch 40 | Loss: 0.0906 | Learning rate:  0.000015\n"
          ]
        },
        {
          "output_type": "stream",
          "name": "stderr",
          "text": [
            "Start training the model for one epoch...:  41%|████      | 60/148 [00:26<00:37,  2.38it/s]"
          ]
        },
        {
          "output_type": "stream",
          "name": "stdout",
          "text": [
            "Batch 60 | Loss: 0.1535 | Learning rate:  0.000015\n"
          ]
        },
        {
          "output_type": "stream",
          "name": "stderr",
          "text": [
            "Start training the model for one epoch...:  54%|█████▍    | 80/148 [00:34<00:28,  2.38it/s]"
          ]
        },
        {
          "output_type": "stream",
          "name": "stdout",
          "text": [
            "Batch 80 | Loss: 0.1554 | Learning rate:  0.000015\n"
          ]
        },
        {
          "output_type": "stream",
          "name": "stderr",
          "text": [
            "Start training the model for one epoch...:  68%|██████▊   | 100/148 [00:43<00:20,  2.37it/s]"
          ]
        },
        {
          "output_type": "stream",
          "name": "stdout",
          "text": [
            "Batch 100 | Loss: 0.1624 | Learning rate:  0.000015\n"
          ]
        },
        {
          "output_type": "stream",
          "name": "stderr",
          "text": [
            "Start training the model for one epoch...:  81%|████████  | 120/148 [00:51<00:11,  2.37it/s]"
          ]
        },
        {
          "output_type": "stream",
          "name": "stdout",
          "text": [
            "Batch 120 | Loss: 0.1532 | Learning rate:  0.000015\n"
          ]
        },
        {
          "output_type": "stream",
          "name": "stderr",
          "text": [
            "Start training the model for one epoch...:  95%|█████████▍| 140/148 [01:00<00:03,  2.40it/s]"
          ]
        },
        {
          "output_type": "stream",
          "name": "stdout",
          "text": [
            "Batch 140 | Loss: 0.0591 | Learning rate:  0.000015\n"
          ]
        },
        {
          "output_type": "stream",
          "name": "stderr",
          "text": [
            "Start training the model for one epoch...: 100%|██████████| 148/148 [01:03<00:00,  2.33it/s]\n",
            "954it [02:07,  7.49it/s]\n"
          ]
        },
        {
          "output_type": "stream",
          "name": "stdout",
          "text": [
            "Epoch: 68, train loss: 0.11612491027728931, val_loss: 0.36348592885135356, val_dice: 0.15120747758263992, val_IoU: 0.13127342642301734\n"
          ]
        },
        {
          "output_type": "stream",
          "name": "stderr",
          "text": [
            "Start training the model for one epoch...:  14%|█▎        | 20/148 [00:09<00:54,  2.36it/s]"
          ]
        },
        {
          "output_type": "stream",
          "name": "stdout",
          "text": [
            "Batch 20 | Loss: 0.0753 | Learning rate:  0.000015\n"
          ]
        },
        {
          "output_type": "stream",
          "name": "stderr",
          "text": [
            "Start training the model for one epoch...:  27%|██▋       | 40/148 [00:18<00:45,  2.38it/s]"
          ]
        },
        {
          "output_type": "stream",
          "name": "stdout",
          "text": [
            "Batch 40 | Loss: 0.0748 | Learning rate:  0.000015\n"
          ]
        },
        {
          "output_type": "stream",
          "name": "stderr",
          "text": [
            "Start training the model for one epoch...:  41%|████      | 60/148 [00:26<00:37,  2.38it/s]"
          ]
        },
        {
          "output_type": "stream",
          "name": "stdout",
          "text": [
            "Batch 60 | Loss: 0.0917 | Learning rate:  0.000015\n"
          ]
        },
        {
          "output_type": "stream",
          "name": "stderr",
          "text": [
            "Start training the model for one epoch...:  54%|█████▍    | 80/148 [00:35<00:28,  2.37it/s]"
          ]
        },
        {
          "output_type": "stream",
          "name": "stdout",
          "text": [
            "Batch 80 | Loss: 0.0579 | Learning rate:  0.000015\n"
          ]
        },
        {
          "output_type": "stream",
          "name": "stderr",
          "text": [
            "Start training the model for one epoch...:  68%|██████▊   | 100/148 [00:43<00:20,  2.37it/s]"
          ]
        },
        {
          "output_type": "stream",
          "name": "stdout",
          "text": [
            "Batch 100 | Loss: 0.0934 | Learning rate:  0.000015\n"
          ]
        },
        {
          "output_type": "stream",
          "name": "stderr",
          "text": [
            "Start training the model for one epoch...:  81%|████████  | 120/148 [00:51<00:11,  2.38it/s]"
          ]
        },
        {
          "output_type": "stream",
          "name": "stdout",
          "text": [
            "Batch 120 | Loss: 0.0987 | Learning rate:  0.000015\n"
          ]
        },
        {
          "output_type": "stream",
          "name": "stderr",
          "text": [
            "Start training the model for one epoch...:  95%|█████████▍| 140/148 [01:00<00:03,  2.39it/s]"
          ]
        },
        {
          "output_type": "stream",
          "name": "stdout",
          "text": [
            "Batch 140 | Loss: 0.1270 | Learning rate:  0.000015\n"
          ]
        },
        {
          "output_type": "stream",
          "name": "stderr",
          "text": [
            "Start training the model for one epoch...: 100%|██████████| 148/148 [01:03<00:00,  2.33it/s]\n",
            "954it [02:07,  7.46it/s]\n"
          ]
        },
        {
          "output_type": "stream",
          "name": "stdout",
          "text": [
            "Epoch: 69, train loss: 0.09759050619008171, val_loss: 0.3738014282545454, val_dice: 0.14473207955774928, val_IoU: 0.1261780522421271\n"
          ]
        },
        {
          "output_type": "stream",
          "name": "stderr",
          "text": [
            "Start training the model for one epoch...:  14%|█▎        | 20/148 [00:09<00:53,  2.38it/s]"
          ]
        },
        {
          "output_type": "stream",
          "name": "stdout",
          "text": [
            "Batch 20 | Loss: 0.1320 | Learning rate:  0.000015\n"
          ]
        },
        {
          "output_type": "stream",
          "name": "stderr",
          "text": [
            "Start training the model for one epoch...:  27%|██▋       | 40/148 [00:18<00:45,  2.37it/s]"
          ]
        },
        {
          "output_type": "stream",
          "name": "stdout",
          "text": [
            "Batch 40 | Loss: 0.3462 | Learning rate:  0.000015\n"
          ]
        },
        {
          "output_type": "stream",
          "name": "stderr",
          "text": [
            "Start training the model for one epoch...:  41%|████      | 60/148 [00:26<00:37,  2.37it/s]"
          ]
        },
        {
          "output_type": "stream",
          "name": "stdout",
          "text": [
            "Batch 60 | Loss: 0.1964 | Learning rate:  0.000015\n"
          ]
        },
        {
          "output_type": "stream",
          "name": "stderr",
          "text": [
            "Start training the model for one epoch...:  54%|█████▍    | 80/148 [00:34<00:28,  2.38it/s]"
          ]
        },
        {
          "output_type": "stream",
          "name": "stdout",
          "text": [
            "Batch 80 | Loss: 0.4180 | Learning rate:  0.000015\n"
          ]
        },
        {
          "output_type": "stream",
          "name": "stderr",
          "text": [
            "Start training the model for one epoch...:  68%|██████▊   | 100/148 [00:43<00:20,  2.37it/s]"
          ]
        },
        {
          "output_type": "stream",
          "name": "stdout",
          "text": [
            "Batch 100 | Loss: 0.0253 | Learning rate:  0.000015\n"
          ]
        },
        {
          "output_type": "stream",
          "name": "stderr",
          "text": [
            "Start training the model for one epoch...:  81%|████████  | 120/148 [00:51<00:11,  2.37it/s]"
          ]
        },
        {
          "output_type": "stream",
          "name": "stdout",
          "text": [
            "Batch 120 | Loss: 0.0370 | Learning rate:  0.000015\n"
          ]
        },
        {
          "output_type": "stream",
          "name": "stderr",
          "text": [
            "Start training the model for one epoch...:  95%|█████████▍| 140/148 [01:00<00:03,  2.39it/s]"
          ]
        },
        {
          "output_type": "stream",
          "name": "stdout",
          "text": [
            "Batch 140 | Loss: 0.0760 | Learning rate:  0.000015\n"
          ]
        },
        {
          "output_type": "stream",
          "name": "stderr",
          "text": [
            "Start training the model for one epoch...: 100%|██████████| 148/148 [01:03<00:00,  2.33it/s]\n",
            "954it [02:07,  7.50it/s]\n"
          ]
        },
        {
          "output_type": "stream",
          "name": "stdout",
          "text": [
            "Epoch: 70, train loss: 0.09450916372038223, val_loss: 0.3257554489689678, val_dice: 0.21505508098711704, val_IoU: 0.18463085975968066\n"
          ]
        },
        {
          "output_type": "stream",
          "name": "stderr",
          "text": [
            "Start training the model for one epoch...:  14%|█▎        | 20/148 [00:09<00:53,  2.38it/s]"
          ]
        },
        {
          "output_type": "stream",
          "name": "stdout",
          "text": [
            "Batch 20 | Loss: 0.0558 | Learning rate:  0.000015\n"
          ]
        },
        {
          "output_type": "stream",
          "name": "stderr",
          "text": [
            "Start training the model for one epoch...:  27%|██▋       | 40/148 [00:18<00:45,  2.37it/s]"
          ]
        },
        {
          "output_type": "stream",
          "name": "stdout",
          "text": [
            "Batch 40 | Loss: 0.0841 | Learning rate:  0.000015\n"
          ]
        },
        {
          "output_type": "stream",
          "name": "stderr",
          "text": [
            "Start training the model for one epoch...:  41%|████      | 60/148 [00:26<00:37,  2.37it/s]"
          ]
        },
        {
          "output_type": "stream",
          "name": "stdout",
          "text": [
            "Batch 60 | Loss: 0.0743 | Learning rate:  0.000015\n"
          ]
        },
        {
          "output_type": "stream",
          "name": "stderr",
          "text": [
            "Start training the model for one epoch...:  54%|█████▍    | 80/148 [00:34<00:28,  2.38it/s]"
          ]
        },
        {
          "output_type": "stream",
          "name": "stdout",
          "text": [
            "Batch 80 | Loss: 0.0746 | Learning rate:  0.000015\n"
          ]
        },
        {
          "output_type": "stream",
          "name": "stderr",
          "text": [
            "Start training the model for one epoch...:  68%|██████▊   | 100/148 [00:43<00:20,  2.37it/s]"
          ]
        },
        {
          "output_type": "stream",
          "name": "stdout",
          "text": [
            "Batch 100 | Loss: 0.1279 | Learning rate:  0.000015\n"
          ]
        },
        {
          "output_type": "stream",
          "name": "stderr",
          "text": [
            "Start training the model for one epoch...:  81%|████████  | 120/148 [00:51<00:11,  2.37it/s]"
          ]
        },
        {
          "output_type": "stream",
          "name": "stdout",
          "text": [
            "Batch 120 | Loss: 0.0781 | Learning rate:  0.000015\n"
          ]
        },
        {
          "output_type": "stream",
          "name": "stderr",
          "text": [
            "Start training the model for one epoch...:  95%|█████████▍| 140/148 [01:00<00:03,  2.39it/s]"
          ]
        },
        {
          "output_type": "stream",
          "name": "stdout",
          "text": [
            "Batch 140 | Loss: 0.0999 | Learning rate:  0.000015\n"
          ]
        },
        {
          "output_type": "stream",
          "name": "stderr",
          "text": [
            "Start training the model for one epoch...: 100%|██████████| 148/148 [01:03<00:00,  2.33it/s]\n",
            "954it [02:07,  7.50it/s]\n"
          ]
        },
        {
          "output_type": "stream",
          "name": "stdout",
          "text": [
            "Epoch: 71, train loss: 0.0849909873528255, val_loss: 0.3526574163785521, val_dice: 0.16453791686787125, val_IoU: 0.14328192936139117\n"
          ]
        },
        {
          "output_type": "stream",
          "name": "stderr",
          "text": [
            "Start training the model for one epoch...:  14%|█▎        | 20/148 [00:09<00:54,  2.36it/s]"
          ]
        },
        {
          "output_type": "stream",
          "name": "stdout",
          "text": [
            "Batch 20 | Loss: 0.0618 | Learning rate:  0.000015\n"
          ]
        },
        {
          "output_type": "stream",
          "name": "stderr",
          "text": [
            "Start training the model for one epoch...:  27%|██▋       | 40/148 [00:18<00:45,  2.37it/s]"
          ]
        },
        {
          "output_type": "stream",
          "name": "stdout",
          "text": [
            "Batch 40 | Loss: 0.0797 | Learning rate:  0.000015\n"
          ]
        },
        {
          "output_type": "stream",
          "name": "stderr",
          "text": [
            "Start training the model for one epoch...:  41%|████      | 60/148 [00:27<00:38,  2.27it/s]"
          ]
        },
        {
          "output_type": "stream",
          "name": "stdout",
          "text": [
            "Batch 60 | Loss: 0.0725 | Learning rate:  0.000015\n"
          ]
        },
        {
          "output_type": "stream",
          "name": "stderr",
          "text": [
            "Start training the model for one epoch...:  54%|█████▍    | 80/148 [00:35<00:28,  2.36it/s]"
          ]
        },
        {
          "output_type": "stream",
          "name": "stdout",
          "text": [
            "Batch 80 | Loss: 0.0579 | Learning rate:  0.000015\n"
          ]
        },
        {
          "output_type": "stream",
          "name": "stderr",
          "text": [
            "Start training the model for one epoch...:  68%|██████▊   | 100/148 [00:44<00:20,  2.38it/s]"
          ]
        },
        {
          "output_type": "stream",
          "name": "stdout",
          "text": [
            "Batch 100 | Loss: 0.0318 | Learning rate:  0.000015\n"
          ]
        },
        {
          "output_type": "stream",
          "name": "stderr",
          "text": [
            "Start training the model for one epoch...:  81%|████████  | 120/148 [00:52<00:11,  2.37it/s]"
          ]
        },
        {
          "output_type": "stream",
          "name": "stdout",
          "text": [
            "Batch 120 | Loss: 0.0660 | Learning rate:  0.000015\n"
          ]
        },
        {
          "output_type": "stream",
          "name": "stderr",
          "text": [
            "Start training the model for one epoch...:  95%|█████████▍| 140/148 [01:00<00:03,  2.39it/s]"
          ]
        },
        {
          "output_type": "stream",
          "name": "stdout",
          "text": [
            "Batch 140 | Loss: 0.0681 | Learning rate:  0.000015\n"
          ]
        },
        {
          "output_type": "stream",
          "name": "stderr",
          "text": [
            "Start training the model for one epoch...: 100%|██████████| 148/148 [01:04<00:00,  2.31it/s]\n",
            "954it [02:07,  7.50it/s]\n"
          ]
        },
        {
          "output_type": "stream",
          "name": "stdout",
          "text": [
            "Epoch: 72, train loss: 0.08507489312339474, val_loss: 0.3475974616545801, val_dice: 0.12144359907793507, val_IoU: 0.10713021121395704\n"
          ]
        },
        {
          "output_type": "stream",
          "name": "stderr",
          "text": [
            "Start training the model for one epoch...:  14%|█▎        | 20/148 [00:09<00:53,  2.38it/s]"
          ]
        },
        {
          "output_type": "stream",
          "name": "stdout",
          "text": [
            "Batch 20 | Loss: 0.0921 | Learning rate:  0.000015\n"
          ]
        },
        {
          "output_type": "stream",
          "name": "stderr",
          "text": [
            "Start training the model for one epoch...:  27%|██▋       | 40/148 [00:18<00:45,  2.37it/s]"
          ]
        },
        {
          "output_type": "stream",
          "name": "stdout",
          "text": [
            "Batch 40 | Loss: 0.1471 | Learning rate:  0.000015\n"
          ]
        },
        {
          "output_type": "stream",
          "name": "stderr",
          "text": [
            "Start training the model for one epoch...:  41%|████      | 60/148 [00:26<00:37,  2.37it/s]"
          ]
        },
        {
          "output_type": "stream",
          "name": "stdout",
          "text": [
            "Batch 60 | Loss: 0.0592 | Learning rate:  0.000015\n"
          ]
        },
        {
          "output_type": "stream",
          "name": "stderr",
          "text": [
            "Start training the model for one epoch...:  54%|█████▍    | 80/148 [00:34<00:28,  2.36it/s]"
          ]
        },
        {
          "output_type": "stream",
          "name": "stdout",
          "text": [
            "Batch 80 | Loss: 0.0399 | Learning rate:  0.000015\n"
          ]
        },
        {
          "output_type": "stream",
          "name": "stderr",
          "text": [
            "Start training the model for one epoch...:  68%|██████▊   | 100/148 [00:43<00:20,  2.37it/s]"
          ]
        },
        {
          "output_type": "stream",
          "name": "stdout",
          "text": [
            "Batch 100 | Loss: 0.0725 | Learning rate:  0.000015\n"
          ]
        },
        {
          "output_type": "stream",
          "name": "stderr",
          "text": [
            "Start training the model for one epoch...:  81%|████████  | 120/148 [00:51<00:11,  2.37it/s]"
          ]
        },
        {
          "output_type": "stream",
          "name": "stdout",
          "text": [
            "Batch 120 | Loss: 0.0616 | Learning rate:  0.000015\n"
          ]
        },
        {
          "output_type": "stream",
          "name": "stderr",
          "text": [
            "Start training the model for one epoch...:  95%|█████████▍| 140/148 [01:00<00:03,  2.39it/s]"
          ]
        },
        {
          "output_type": "stream",
          "name": "stdout",
          "text": [
            "Batch 140 | Loss: 0.0546 | Learning rate:  0.000015\n"
          ]
        },
        {
          "output_type": "stream",
          "name": "stderr",
          "text": [
            "Start training the model for one epoch...: 100%|██████████| 148/148 [01:03<00:00,  2.33it/s]\n",
            "954it [02:07,  7.51it/s]\n"
          ]
        },
        {
          "output_type": "stream",
          "name": "stdout",
          "text": [
            "Epoch: 73, train loss: 0.08213230588699917, val_loss: 0.34673826933000823, val_dice: 0.162689141895379, val_IoU: 0.14145012013316183\n"
          ]
        },
        {
          "output_type": "stream",
          "name": "stderr",
          "text": [
            "Start training the model for one epoch...:  14%|█▎        | 20/148 [00:09<00:54,  2.36it/s]"
          ]
        },
        {
          "output_type": "stream",
          "name": "stdout",
          "text": [
            "Batch 20 | Loss: 0.1387 | Learning rate:  0.000015\n"
          ]
        },
        {
          "output_type": "stream",
          "name": "stderr",
          "text": [
            "Start training the model for one epoch...:  27%|██▋       | 40/148 [00:18<00:45,  2.38it/s]"
          ]
        },
        {
          "output_type": "stream",
          "name": "stdout",
          "text": [
            "Batch 40 | Loss: 0.0586 | Learning rate:  0.000015\n"
          ]
        },
        {
          "output_type": "stream",
          "name": "stderr",
          "text": [
            "Start training the model for one epoch...:  41%|████      | 60/148 [00:26<00:37,  2.38it/s]"
          ]
        },
        {
          "output_type": "stream",
          "name": "stdout",
          "text": [
            "Batch 60 | Loss: 0.0885 | Learning rate:  0.000015\n"
          ]
        },
        {
          "output_type": "stream",
          "name": "stderr",
          "text": [
            "Start training the model for one epoch...:  54%|█████▍    | 80/148 [00:34<00:28,  2.37it/s]"
          ]
        },
        {
          "output_type": "stream",
          "name": "stdout",
          "text": [
            "Batch 80 | Loss: 0.0963 | Learning rate:  0.000015\n"
          ]
        },
        {
          "output_type": "stream",
          "name": "stderr",
          "text": [
            "Start training the model for one epoch...:  68%|██████▊   | 100/148 [00:43<00:20,  2.37it/s]"
          ]
        },
        {
          "output_type": "stream",
          "name": "stdout",
          "text": [
            "Batch 100 | Loss: 0.1321 | Learning rate:  0.000015\n"
          ]
        },
        {
          "output_type": "stream",
          "name": "stderr",
          "text": [
            "Start training the model for one epoch...:  81%|████████  | 120/148 [00:51<00:11,  2.37it/s]"
          ]
        },
        {
          "output_type": "stream",
          "name": "stdout",
          "text": [
            "Batch 120 | Loss: 0.0430 | Learning rate:  0.000015\n"
          ]
        },
        {
          "output_type": "stream",
          "name": "stderr",
          "text": [
            "Start training the model for one epoch...:  95%|█████████▍| 140/148 [01:00<00:03,  2.39it/s]"
          ]
        },
        {
          "output_type": "stream",
          "name": "stdout",
          "text": [
            "Batch 140 | Loss: 0.0301 | Learning rate:  0.000015\n"
          ]
        },
        {
          "output_type": "stream",
          "name": "stderr",
          "text": [
            "Start training the model for one epoch...: 100%|██████████| 148/148 [01:03<00:00,  2.33it/s]\n",
            "954it [02:06,  7.51it/s]\n"
          ]
        },
        {
          "output_type": "stream",
          "name": "stdout",
          "text": [
            "Epoch: 74, train loss: 0.07851887428881349, val_loss: 0.36106378340652406, val_dice: 0.14538245007109515, val_IoU: 0.12627155747882157\n"
          ]
        },
        {
          "output_type": "stream",
          "name": "stderr",
          "text": [
            "Start training the model for one epoch...:  14%|█▎        | 20/148 [00:09<00:53,  2.38it/s]"
          ]
        },
        {
          "output_type": "stream",
          "name": "stdout",
          "text": [
            "Batch 20 | Loss: 0.0620 | Learning rate:  0.000015\n"
          ]
        },
        {
          "output_type": "stream",
          "name": "stderr",
          "text": [
            "Start training the model for one epoch...:  27%|██▋       | 40/148 [00:18<00:45,  2.37it/s]"
          ]
        },
        {
          "output_type": "stream",
          "name": "stdout",
          "text": [
            "Batch 40 | Loss: 0.1288 | Learning rate:  0.000015\n"
          ]
        },
        {
          "output_type": "stream",
          "name": "stderr",
          "text": [
            "Start training the model for one epoch...:  41%|████      | 60/148 [00:26<00:37,  2.37it/s]"
          ]
        },
        {
          "output_type": "stream",
          "name": "stdout",
          "text": [
            "Batch 60 | Loss: 0.0421 | Learning rate:  0.000015\n"
          ]
        },
        {
          "output_type": "stream",
          "name": "stderr",
          "text": [
            "Start training the model for one epoch...:  54%|█████▍    | 80/148 [00:34<00:28,  2.37it/s]"
          ]
        },
        {
          "output_type": "stream",
          "name": "stdout",
          "text": [
            "Batch 80 | Loss: 0.0524 | Learning rate:  0.000014\n"
          ]
        },
        {
          "output_type": "stream",
          "name": "stderr",
          "text": [
            "Start training the model for one epoch...:  68%|██████▊   | 100/148 [00:43<00:20,  2.37it/s]"
          ]
        },
        {
          "output_type": "stream",
          "name": "stdout",
          "text": [
            "Batch 100 | Loss: 0.0740 | Learning rate:  0.000014\n"
          ]
        },
        {
          "output_type": "stream",
          "name": "stderr",
          "text": [
            "Start training the model for one epoch...:  81%|████████  | 120/148 [00:51<00:11,  2.37it/s]"
          ]
        },
        {
          "output_type": "stream",
          "name": "stdout",
          "text": [
            "Batch 120 | Loss: 0.0601 | Learning rate:  0.000014\n"
          ]
        },
        {
          "output_type": "stream",
          "name": "stderr",
          "text": [
            "Start training the model for one epoch...:  95%|█████████▍| 140/148 [01:00<00:03,  2.39it/s]"
          ]
        },
        {
          "output_type": "stream",
          "name": "stdout",
          "text": [
            "Batch 140 | Loss: 0.0652 | Learning rate:  0.000014\n"
          ]
        },
        {
          "output_type": "stream",
          "name": "stderr",
          "text": [
            "Start training the model for one epoch...: 100%|██████████| 148/148 [01:03<00:00,  2.33it/s]\n",
            "954it [02:07,  7.51it/s]\n"
          ]
        },
        {
          "output_type": "stream",
          "name": "stdout",
          "text": [
            "Epoch: 75, train loss: 0.08442887978477252, val_loss: 0.3961523660933072, val_dice: 0.07162131720903821, val_IoU: 0.06382983903678055\n"
          ]
        },
        {
          "output_type": "stream",
          "name": "stderr",
          "text": [
            "Start training the model for one epoch...:  14%|█▎        | 20/148 [00:09<00:54,  2.37it/s]"
          ]
        },
        {
          "output_type": "stream",
          "name": "stdout",
          "text": [
            "Batch 20 | Loss: 0.0421 | Learning rate:  0.000014\n"
          ]
        },
        {
          "output_type": "stream",
          "name": "stderr",
          "text": [
            "Start training the model for one epoch...:  27%|██▋       | 40/148 [00:18<00:45,  2.38it/s]"
          ]
        },
        {
          "output_type": "stream",
          "name": "stdout",
          "text": [
            "Batch 40 | Loss: 0.0705 | Learning rate:  0.000014\n"
          ]
        },
        {
          "output_type": "stream",
          "name": "stderr",
          "text": [
            "Start training the model for one epoch...:  41%|████      | 60/148 [00:26<00:37,  2.38it/s]"
          ]
        },
        {
          "output_type": "stream",
          "name": "stdout",
          "text": [
            "Batch 60 | Loss: 0.0509 | Learning rate:  0.000014\n"
          ]
        },
        {
          "output_type": "stream",
          "name": "stderr",
          "text": [
            "Start training the model for one epoch...:  54%|█████▍    | 80/148 [00:34<00:28,  2.37it/s]"
          ]
        },
        {
          "output_type": "stream",
          "name": "stdout",
          "text": [
            "Batch 80 | Loss: 0.0714 | Learning rate:  0.000014\n"
          ]
        },
        {
          "output_type": "stream",
          "name": "stderr",
          "text": [
            "Start training the model for one epoch...:  68%|██████▊   | 100/148 [00:43<00:20,  2.37it/s]"
          ]
        },
        {
          "output_type": "stream",
          "name": "stdout",
          "text": [
            "Batch 100 | Loss: 0.0448 | Learning rate:  0.000014\n"
          ]
        },
        {
          "output_type": "stream",
          "name": "stderr",
          "text": [
            "Start training the model for one epoch...:  81%|████████  | 120/148 [00:51<00:11,  2.37it/s]"
          ]
        },
        {
          "output_type": "stream",
          "name": "stdout",
          "text": [
            "Batch 120 | Loss: 0.0793 | Learning rate:  0.000014\n"
          ]
        },
        {
          "output_type": "stream",
          "name": "stderr",
          "text": [
            "Start training the model for one epoch...:  95%|█████████▍| 140/148 [01:00<00:03,  2.38it/s]"
          ]
        },
        {
          "output_type": "stream",
          "name": "stdout",
          "text": [
            "Batch 140 | Loss: 0.0575 | Learning rate:  0.000014\n"
          ]
        },
        {
          "output_type": "stream",
          "name": "stderr",
          "text": [
            "Start training the model for one epoch...: 100%|██████████| 148/148 [01:03<00:00,  2.33it/s]\n",
            "954it [02:06,  7.51it/s]\n"
          ]
        },
        {
          "output_type": "stream",
          "name": "stdout",
          "text": [
            "Epoch: 76, train loss: 0.08336772535600372, val_loss: 0.36024071097342725, val_dice: 0.13591376556323143, val_IoU: 0.11895662975067854\n"
          ]
        },
        {
          "output_type": "stream",
          "name": "stderr",
          "text": [
            "Start training the model for one epoch...:  14%|█▎        | 20/148 [00:09<00:53,  2.38it/s]"
          ]
        },
        {
          "output_type": "stream",
          "name": "stdout",
          "text": [
            "Batch 20 | Loss: 0.2426 | Learning rate:  0.000014\n"
          ]
        },
        {
          "output_type": "stream",
          "name": "stderr",
          "text": [
            "Start training the model for one epoch...:  27%|██▋       | 40/148 [00:18<00:45,  2.38it/s]"
          ]
        },
        {
          "output_type": "stream",
          "name": "stdout",
          "text": [
            "Batch 40 | Loss: 0.0661 | Learning rate:  0.000014\n"
          ]
        },
        {
          "output_type": "stream",
          "name": "stderr",
          "text": [
            "Start training the model for one epoch...:  41%|████      | 60/148 [00:26<00:37,  2.37it/s]"
          ]
        },
        {
          "output_type": "stream",
          "name": "stdout",
          "text": [
            "Batch 60 | Loss: 0.0646 | Learning rate:  0.000014\n"
          ]
        },
        {
          "output_type": "stream",
          "name": "stderr",
          "text": [
            "Start training the model for one epoch...:  54%|█████▍    | 80/148 [00:35<00:30,  2.25it/s]"
          ]
        },
        {
          "output_type": "stream",
          "name": "stdout",
          "text": [
            "Batch 80 | Loss: 0.0561 | Learning rate:  0.000014\n"
          ]
        },
        {
          "output_type": "stream",
          "name": "stderr",
          "text": [
            "Start training the model for one epoch...:  68%|██████▊   | 100/148 [00:43<00:20,  2.38it/s]"
          ]
        },
        {
          "output_type": "stream",
          "name": "stdout",
          "text": [
            "Batch 100 | Loss: 0.1295 | Learning rate:  0.000014\n"
          ]
        },
        {
          "output_type": "stream",
          "name": "stderr",
          "text": [
            "Start training the model for one epoch...:  81%|████████  | 120/148 [00:52<00:11,  2.36it/s]"
          ]
        },
        {
          "output_type": "stream",
          "name": "stdout",
          "text": [
            "Batch 120 | Loss: 0.0677 | Learning rate:  0.000014\n"
          ]
        },
        {
          "output_type": "stream",
          "name": "stderr",
          "text": [
            "Start training the model for one epoch...:  95%|█████████▍| 140/148 [01:00<00:03,  2.39it/s]"
          ]
        },
        {
          "output_type": "stream",
          "name": "stdout",
          "text": [
            "Batch 140 | Loss: 0.0567 | Learning rate:  0.000014\n"
          ]
        },
        {
          "output_type": "stream",
          "name": "stderr",
          "text": [
            "Start training the model for one epoch...: 100%|██████████| 148/148 [01:04<00:00,  2.31it/s]\n",
            "954it [02:07,  7.51it/s]\n"
          ]
        },
        {
          "output_type": "stream",
          "name": "stdout",
          "text": [
            "Epoch: 77, train loss: 0.0769383854333412, val_loss: 0.3690639210736039, val_dice: 0.1274820752222767, val_IoU: 0.11247799629669752\n"
          ]
        },
        {
          "output_type": "stream",
          "name": "stderr",
          "text": [
            "Start training the model for one epoch...:  14%|█▎        | 20/148 [00:09<00:53,  2.37it/s]"
          ]
        },
        {
          "output_type": "stream",
          "name": "stdout",
          "text": [
            "Batch 20 | Loss: 0.0951 | Learning rate:  0.000014\n"
          ]
        },
        {
          "output_type": "stream",
          "name": "stderr",
          "text": [
            "Start training the model for one epoch...:  27%|██▋       | 40/148 [00:18<00:45,  2.37it/s]"
          ]
        },
        {
          "output_type": "stream",
          "name": "stdout",
          "text": [
            "Batch 40 | Loss: 0.1240 | Learning rate:  0.000014\n"
          ]
        },
        {
          "output_type": "stream",
          "name": "stderr",
          "text": [
            "Start training the model for one epoch...:  41%|████      | 60/148 [00:26<00:37,  2.37it/s]"
          ]
        },
        {
          "output_type": "stream",
          "name": "stdout",
          "text": [
            "Batch 60 | Loss: 0.0378 | Learning rate:  0.000014\n"
          ]
        },
        {
          "output_type": "stream",
          "name": "stderr",
          "text": [
            "Start training the model for one epoch...:  54%|█████▍    | 80/148 [00:34<00:28,  2.37it/s]"
          ]
        },
        {
          "output_type": "stream",
          "name": "stdout",
          "text": [
            "Batch 80 | Loss: 0.0428 | Learning rate:  0.000014\n"
          ]
        },
        {
          "output_type": "stream",
          "name": "stderr",
          "text": [
            "Start training the model for one epoch...:  68%|██████▊   | 100/148 [00:43<00:20,  2.37it/s]"
          ]
        },
        {
          "output_type": "stream",
          "name": "stdout",
          "text": [
            "Batch 100 | Loss: 0.0562 | Learning rate:  0.000014\n"
          ]
        },
        {
          "output_type": "stream",
          "name": "stderr",
          "text": [
            "Start training the model for one epoch...:  81%|████████  | 120/148 [00:51<00:11,  2.38it/s]"
          ]
        },
        {
          "output_type": "stream",
          "name": "stdout",
          "text": [
            "Batch 120 | Loss: 0.0575 | Learning rate:  0.000014\n"
          ]
        },
        {
          "output_type": "stream",
          "name": "stderr",
          "text": [
            "Start training the model for one epoch...:  95%|█████████▍| 140/148 [01:00<00:03,  2.39it/s]"
          ]
        },
        {
          "output_type": "stream",
          "name": "stdout",
          "text": [
            "Batch 140 | Loss: 0.0373 | Learning rate:  0.000014\n"
          ]
        },
        {
          "output_type": "stream",
          "name": "stderr",
          "text": [
            "Start training the model for one epoch...: 100%|██████████| 148/148 [01:03<00:00,  2.33it/s]\n",
            "954it [02:06,  7.52it/s]\n"
          ]
        },
        {
          "output_type": "stream",
          "name": "stdout",
          "text": [
            "Epoch: 78, train loss: 0.07582897410375646, val_loss: 0.42258366993169616, val_dice: 0.14582242884770316, val_IoU: 0.12786428330765987\n"
          ]
        },
        {
          "output_type": "stream",
          "name": "stderr",
          "text": [
            "Start training the model for one epoch...:  14%|█▎        | 20/148 [00:09<00:53,  2.37it/s]"
          ]
        },
        {
          "output_type": "stream",
          "name": "stdout",
          "text": [
            "Batch 20 | Loss: 0.0627 | Learning rate:  0.000014\n"
          ]
        },
        {
          "output_type": "stream",
          "name": "stderr",
          "text": [
            "Start training the model for one epoch...:  27%|██▋       | 40/148 [00:18<00:45,  2.37it/s]"
          ]
        },
        {
          "output_type": "stream",
          "name": "stdout",
          "text": [
            "Batch 40 | Loss: 0.1934 | Learning rate:  0.000014\n"
          ]
        },
        {
          "output_type": "stream",
          "name": "stderr",
          "text": [
            "Start training the model for one epoch...:  41%|████      | 60/148 [00:26<00:36,  2.38it/s]"
          ]
        },
        {
          "output_type": "stream",
          "name": "stdout",
          "text": [
            "Batch 60 | Loss: 0.0380 | Learning rate:  0.000014\n"
          ]
        },
        {
          "output_type": "stream",
          "name": "stderr",
          "text": [
            "Start training the model for one epoch...:  54%|█████▍    | 80/148 [00:34<00:28,  2.36it/s]"
          ]
        },
        {
          "output_type": "stream",
          "name": "stdout",
          "text": [
            "Batch 80 | Loss: 0.1253 | Learning rate:  0.000014\n"
          ]
        },
        {
          "output_type": "stream",
          "name": "stderr",
          "text": [
            "Start training the model for one epoch...:  68%|██████▊   | 100/148 [00:43<00:20,  2.38it/s]"
          ]
        },
        {
          "output_type": "stream",
          "name": "stdout",
          "text": [
            "Batch 100 | Loss: 0.0201 | Learning rate:  0.000014\n"
          ]
        },
        {
          "output_type": "stream",
          "name": "stderr",
          "text": [
            "Start training the model for one epoch...:  81%|████████  | 120/148 [00:51<00:11,  2.37it/s]"
          ]
        },
        {
          "output_type": "stream",
          "name": "stdout",
          "text": [
            "Batch 120 | Loss: 0.0935 | Learning rate:  0.000014\n"
          ]
        },
        {
          "output_type": "stream",
          "name": "stderr",
          "text": [
            "Start training the model for one epoch...:  95%|█████████▍| 140/148 [01:00<00:03,  2.38it/s]"
          ]
        },
        {
          "output_type": "stream",
          "name": "stdout",
          "text": [
            "Batch 140 | Loss: 0.0579 | Learning rate:  0.000014\n"
          ]
        },
        {
          "output_type": "stream",
          "name": "stderr",
          "text": [
            "Start training the model for one epoch...: 100%|██████████| 148/148 [01:03<00:00,  2.33it/s]\n",
            "954it [02:07,  7.51it/s]\n"
          ]
        },
        {
          "output_type": "stream",
          "name": "stdout",
          "text": [
            "Epoch: 79, train loss: 0.07514386968938885, val_loss: 0.3911425584470326, val_dice: 0.12967916853817166, val_IoU: 0.11359372695442728\n"
          ]
        },
        {
          "output_type": "stream",
          "name": "stderr",
          "text": [
            "Start training the model for one epoch...:  14%|█▎        | 20/148 [00:09<00:53,  2.37it/s]"
          ]
        },
        {
          "output_type": "stream",
          "name": "stdout",
          "text": [
            "Batch 20 | Loss: 0.0493 | Learning rate:  0.000014\n"
          ]
        },
        {
          "output_type": "stream",
          "name": "stderr",
          "text": [
            "Start training the model for one epoch...:  27%|██▋       | 40/148 [00:18<00:46,  2.32it/s]"
          ]
        },
        {
          "output_type": "stream",
          "name": "stdout",
          "text": [
            "Batch 40 | Loss: 0.0462 | Learning rate:  0.000014\n"
          ]
        },
        {
          "output_type": "stream",
          "name": "stderr",
          "text": [
            "Start training the model for one epoch...:  41%|████      | 60/148 [00:26<00:37,  2.38it/s]"
          ]
        },
        {
          "output_type": "stream",
          "name": "stdout",
          "text": [
            "Batch 60 | Loss: 0.0883 | Learning rate:  0.000014\n"
          ]
        },
        {
          "output_type": "stream",
          "name": "stderr",
          "text": [
            "Start training the model for one epoch...:  54%|█████▍    | 80/148 [00:35<00:28,  2.38it/s]"
          ]
        },
        {
          "output_type": "stream",
          "name": "stdout",
          "text": [
            "Batch 80 | Loss: 0.0850 | Learning rate:  0.000014\n"
          ]
        },
        {
          "output_type": "stream",
          "name": "stderr",
          "text": [
            "Start training the model for one epoch...:  68%|██████▊   | 100/148 [00:43<00:20,  2.37it/s]"
          ]
        },
        {
          "output_type": "stream",
          "name": "stdout",
          "text": [
            "Batch 100 | Loss: 0.0527 | Learning rate:  0.000014\n"
          ]
        },
        {
          "output_type": "stream",
          "name": "stderr",
          "text": [
            "Start training the model for one epoch...:  81%|████████  | 120/148 [00:52<00:11,  2.37it/s]"
          ]
        },
        {
          "output_type": "stream",
          "name": "stdout",
          "text": [
            "Batch 120 | Loss: 0.0840 | Learning rate:  0.000014\n"
          ]
        },
        {
          "output_type": "stream",
          "name": "stderr",
          "text": [
            "Start training the model for one epoch...:  95%|█████████▍| 140/148 [01:00<00:03,  2.38it/s]"
          ]
        },
        {
          "output_type": "stream",
          "name": "stdout",
          "text": [
            "Batch 140 | Loss: 0.0619 | Learning rate:  0.000014\n"
          ]
        },
        {
          "output_type": "stream",
          "name": "stderr",
          "text": [
            "Start training the model for one epoch...: 100%|██████████| 148/148 [01:03<00:00,  2.32it/s]\n",
            "954it [02:06,  7.51it/s]\n"
          ]
        },
        {
          "output_type": "stream",
          "name": "stdout",
          "text": [
            "Epoch: 80, train loss: 0.0692687684393211, val_loss: 0.3487480119675148, val_dice: 0.16041688516745922, val_IoU: 0.13905770858140667\n"
          ]
        },
        {
          "output_type": "stream",
          "name": "stderr",
          "text": [
            "Start training the model for one epoch...:  14%|█▎        | 20/148 [00:09<00:53,  2.38it/s]"
          ]
        },
        {
          "output_type": "stream",
          "name": "stdout",
          "text": [
            "Batch 20 | Loss: 0.0917 | Learning rate:  0.000014\n"
          ]
        },
        {
          "output_type": "stream",
          "name": "stderr",
          "text": [
            "Start training the model for one epoch...:  27%|██▋       | 40/148 [00:18<00:45,  2.37it/s]"
          ]
        },
        {
          "output_type": "stream",
          "name": "stdout",
          "text": [
            "Batch 40 | Loss: 0.0684 | Learning rate:  0.000014\n"
          ]
        },
        {
          "output_type": "stream",
          "name": "stderr",
          "text": [
            "Start training the model for one epoch...:  41%|████      | 60/148 [00:26<00:37,  2.38it/s]"
          ]
        },
        {
          "output_type": "stream",
          "name": "stdout",
          "text": [
            "Batch 60 | Loss: 0.1232 | Learning rate:  0.000014\n"
          ]
        },
        {
          "output_type": "stream",
          "name": "stderr",
          "text": [
            "Start training the model for one epoch...:  54%|█████▍    | 80/148 [00:34<00:28,  2.37it/s]"
          ]
        },
        {
          "output_type": "stream",
          "name": "stdout",
          "text": [
            "Batch 80 | Loss: 0.0635 | Learning rate:  0.000014\n"
          ]
        },
        {
          "output_type": "stream",
          "name": "stderr",
          "text": [
            "Start training the model for one epoch...:  68%|██████▊   | 100/148 [00:43<00:20,  2.37it/s]"
          ]
        },
        {
          "output_type": "stream",
          "name": "stdout",
          "text": [
            "Batch 100 | Loss: 0.0568 | Learning rate:  0.000014\n"
          ]
        },
        {
          "output_type": "stream",
          "name": "stderr",
          "text": [
            "Start training the model for one epoch...:  81%|████████  | 120/148 [00:51<00:11,  2.38it/s]"
          ]
        },
        {
          "output_type": "stream",
          "name": "stdout",
          "text": [
            "Batch 120 | Loss: 0.0560 | Learning rate:  0.000014\n"
          ]
        },
        {
          "output_type": "stream",
          "name": "stderr",
          "text": [
            "Start training the model for one epoch...:  95%|█████████▍| 140/148 [01:00<00:03,  2.39it/s]"
          ]
        },
        {
          "output_type": "stream",
          "name": "stdout",
          "text": [
            "Batch 140 | Loss: 0.2101 | Learning rate:  0.000014\n"
          ]
        },
        {
          "output_type": "stream",
          "name": "stderr",
          "text": [
            "Start training the model for one epoch...: 100%|██████████| 148/148 [01:03<00:00,  2.33it/s]\n",
            "954it [02:07,  7.51it/s]\n"
          ]
        },
        {
          "output_type": "stream",
          "name": "stdout",
          "text": [
            "Epoch: 81, train loss: 0.0733953306854174, val_loss: 0.3409088447775918, val_dice: 0.18502122357694906, val_IoU: 0.16178804280036155\n"
          ]
        },
        {
          "output_type": "stream",
          "name": "stderr",
          "text": [
            "Start training the model for one epoch...:  14%|█▎        | 20/148 [00:09<00:53,  2.38it/s]"
          ]
        },
        {
          "output_type": "stream",
          "name": "stdout",
          "text": [
            "Batch 20 | Loss: 0.0806 | Learning rate:  0.000014\n"
          ]
        },
        {
          "output_type": "stream",
          "name": "stderr",
          "text": [
            "Start training the model for one epoch...:  27%|██▋       | 40/148 [00:18<00:45,  2.37it/s]"
          ]
        },
        {
          "output_type": "stream",
          "name": "stdout",
          "text": [
            "Batch 40 | Loss: 0.0468 | Learning rate:  0.000014\n"
          ]
        },
        {
          "output_type": "stream",
          "name": "stderr",
          "text": [
            "Start training the model for one epoch...:  41%|████      | 60/148 [00:26<00:37,  2.37it/s]"
          ]
        },
        {
          "output_type": "stream",
          "name": "stdout",
          "text": [
            "Batch 60 | Loss: 0.0753 | Learning rate:  0.000014\n"
          ]
        },
        {
          "output_type": "stream",
          "name": "stderr",
          "text": [
            "Start training the model for one epoch...:  54%|█████▍    | 80/148 [00:35<00:28,  2.37it/s]"
          ]
        },
        {
          "output_type": "stream",
          "name": "stdout",
          "text": [
            "Batch 80 | Loss: 0.1193 | Learning rate:  0.000014\n"
          ]
        },
        {
          "output_type": "stream",
          "name": "stderr",
          "text": [
            "Start training the model for one epoch...:  68%|██████▊   | 100/148 [00:43<00:20,  2.38it/s]"
          ]
        },
        {
          "output_type": "stream",
          "name": "stdout",
          "text": [
            "Batch 100 | Loss: 0.0312 | Learning rate:  0.000013\n"
          ]
        },
        {
          "output_type": "stream",
          "name": "stderr",
          "text": [
            "Start training the model for one epoch...:  81%|████████  | 120/148 [00:52<00:11,  2.37it/s]"
          ]
        },
        {
          "output_type": "stream",
          "name": "stdout",
          "text": [
            "Batch 120 | Loss: 0.0648 | Learning rate:  0.000013\n"
          ]
        },
        {
          "output_type": "stream",
          "name": "stderr",
          "text": [
            "Start training the model for one epoch...:  95%|█████████▍| 140/148 [01:00<00:03,  2.39it/s]"
          ]
        },
        {
          "output_type": "stream",
          "name": "stdout",
          "text": [
            "Batch 140 | Loss: 0.0765 | Learning rate:  0.000013\n"
          ]
        },
        {
          "output_type": "stream",
          "name": "stderr",
          "text": [
            "Start training the model for one epoch...: 100%|██████████| 148/148 [01:04<00:00,  2.31it/s]\n",
            "954it [02:06,  7.52it/s]\n"
          ]
        },
        {
          "output_type": "stream",
          "name": "stdout",
          "text": [
            "Epoch: 82, train loss: 0.06804602978297987, val_loss: 0.41061050881020555, val_dice: 0.16389467662568402, val_IoU: 0.14255853002369273\n"
          ]
        },
        {
          "output_type": "stream",
          "name": "stderr",
          "text": [
            "Start training the model for one epoch...:  14%|█▎        | 20/148 [00:09<00:53,  2.38it/s]"
          ]
        },
        {
          "output_type": "stream",
          "name": "stdout",
          "text": [
            "Batch 20 | Loss: 0.0329 | Learning rate:  0.000013\n"
          ]
        },
        {
          "output_type": "stream",
          "name": "stderr",
          "text": [
            "Start training the model for one epoch...:  27%|██▋       | 40/148 [00:18<00:45,  2.37it/s]"
          ]
        },
        {
          "output_type": "stream",
          "name": "stdout",
          "text": [
            "Batch 40 | Loss: 0.0712 | Learning rate:  0.000013\n"
          ]
        },
        {
          "output_type": "stream",
          "name": "stderr",
          "text": [
            "Start training the model for one epoch...:  41%|████      | 60/148 [00:26<00:37,  2.37it/s]"
          ]
        },
        {
          "output_type": "stream",
          "name": "stdout",
          "text": [
            "Batch 60 | Loss: 0.0524 | Learning rate:  0.000013\n"
          ]
        },
        {
          "output_type": "stream",
          "name": "stderr",
          "text": [
            "Start training the model for one epoch...:  54%|█████▍    | 80/148 [00:34<00:28,  2.38it/s]"
          ]
        },
        {
          "output_type": "stream",
          "name": "stdout",
          "text": [
            "Batch 80 | Loss: 0.0480 | Learning rate:  0.000013\n"
          ]
        },
        {
          "output_type": "stream",
          "name": "stderr",
          "text": [
            "Start training the model for one epoch...:  68%|██████▊   | 100/148 [00:43<00:20,  2.37it/s]"
          ]
        },
        {
          "output_type": "stream",
          "name": "stdout",
          "text": [
            "Batch 100 | Loss: 0.2057 | Learning rate:  0.000013\n"
          ]
        },
        {
          "output_type": "stream",
          "name": "stderr",
          "text": [
            "Start training the model for one epoch...:  81%|████████  | 120/148 [00:51<00:11,  2.37it/s]"
          ]
        },
        {
          "output_type": "stream",
          "name": "stdout",
          "text": [
            "Batch 120 | Loss: 0.0527 | Learning rate:  0.000013\n"
          ]
        },
        {
          "output_type": "stream",
          "name": "stderr",
          "text": [
            "Start training the model for one epoch...:  95%|█████████▍| 140/148 [01:00<00:03,  2.40it/s]"
          ]
        },
        {
          "output_type": "stream",
          "name": "stdout",
          "text": [
            "Batch 140 | Loss: 0.0409 | Learning rate:  0.000013\n"
          ]
        },
        {
          "output_type": "stream",
          "name": "stderr",
          "text": [
            "Start training the model for one epoch...: 100%|██████████| 148/148 [01:03<00:00,  2.33it/s]\n",
            "954it [02:07,  7.51it/s]\n"
          ]
        },
        {
          "output_type": "stream",
          "name": "stdout",
          "text": [
            "Epoch: 83, train loss: 0.06508449748208797, val_loss: 0.397142363036641, val_dice: 0.14391596858113664, val_IoU: 0.12666998464054255\n"
          ]
        },
        {
          "output_type": "stream",
          "name": "stderr",
          "text": [
            "Start training the model for one epoch...:  14%|█▎        | 20/148 [00:09<00:53,  2.38it/s]"
          ]
        },
        {
          "output_type": "stream",
          "name": "stdout",
          "text": [
            "Batch 20 | Loss: 0.0323 | Learning rate:  0.000013\n"
          ]
        },
        {
          "output_type": "stream",
          "name": "stderr",
          "text": [
            "Start training the model for one epoch...:  27%|██▋       | 40/148 [00:18<00:45,  2.37it/s]"
          ]
        },
        {
          "output_type": "stream",
          "name": "stdout",
          "text": [
            "Batch 40 | Loss: 0.0614 | Learning rate:  0.000013\n"
          ]
        },
        {
          "output_type": "stream",
          "name": "stderr",
          "text": [
            "Start training the model for one epoch...:  41%|████      | 60/148 [00:26<00:37,  2.37it/s]"
          ]
        },
        {
          "output_type": "stream",
          "name": "stdout",
          "text": [
            "Batch 60 | Loss: 0.0457 | Learning rate:  0.000013\n"
          ]
        },
        {
          "output_type": "stream",
          "name": "stderr",
          "text": [
            "Start training the model for one epoch...:  54%|█████▍    | 80/148 [00:35<00:28,  2.37it/s]"
          ]
        },
        {
          "output_type": "stream",
          "name": "stdout",
          "text": [
            "Batch 80 | Loss: 0.0558 | Learning rate:  0.000013\n"
          ]
        },
        {
          "output_type": "stream",
          "name": "stderr",
          "text": [
            "Start training the model for one epoch...:  68%|██████▊   | 100/148 [00:43<00:20,  2.38it/s]"
          ]
        },
        {
          "output_type": "stream",
          "name": "stdout",
          "text": [
            "Batch 100 | Loss: 0.0414 | Learning rate:  0.000013\n"
          ]
        },
        {
          "output_type": "stream",
          "name": "stderr",
          "text": [
            "Start training the model for one epoch...:  81%|████████  | 120/148 [00:51<00:11,  2.37it/s]"
          ]
        },
        {
          "output_type": "stream",
          "name": "stdout",
          "text": [
            "Batch 120 | Loss: 0.0377 | Learning rate:  0.000013\n"
          ]
        },
        {
          "output_type": "stream",
          "name": "stderr",
          "text": [
            "Start training the model for one epoch...:  95%|█████████▍| 140/148 [01:00<00:03,  2.38it/s]"
          ]
        },
        {
          "output_type": "stream",
          "name": "stdout",
          "text": [
            "Batch 140 | Loss: 0.0638 | Learning rate:  0.000013\n"
          ]
        },
        {
          "output_type": "stream",
          "name": "stderr",
          "text": [
            "Start training the model for one epoch...: 100%|██████████| 148/148 [01:04<00:00,  2.31it/s]\n",
            "954it [02:06,  7.51it/s]\n"
          ]
        },
        {
          "output_type": "stream",
          "name": "stdout",
          "text": [
            "Epoch: 84, train loss: 0.0615452772534981, val_loss: 0.3998445825420898, val_dice: 0.13438039519297085, val_IoU: 0.11821658932148643\n"
          ]
        },
        {
          "output_type": "stream",
          "name": "stderr",
          "text": [
            "Start training the model for one epoch...:  14%|█▎        | 20/148 [00:09<00:54,  2.37it/s]"
          ]
        },
        {
          "output_type": "stream",
          "name": "stdout",
          "text": [
            "Batch 20 | Loss: 0.0612 | Learning rate:  0.000013\n"
          ]
        },
        {
          "output_type": "stream",
          "name": "stderr",
          "text": [
            "Start training the model for one epoch...:  27%|██▋       | 40/148 [00:18<00:45,  2.38it/s]"
          ]
        },
        {
          "output_type": "stream",
          "name": "stdout",
          "text": [
            "Batch 40 | Loss: 0.0627 | Learning rate:  0.000013\n"
          ]
        },
        {
          "output_type": "stream",
          "name": "stderr",
          "text": [
            "Start training the model for one epoch...:  41%|████      | 60/148 [00:26<00:37,  2.38it/s]"
          ]
        },
        {
          "output_type": "stream",
          "name": "stdout",
          "text": [
            "Batch 60 | Loss: 0.0546 | Learning rate:  0.000013\n"
          ]
        },
        {
          "output_type": "stream",
          "name": "stderr",
          "text": [
            "Start training the model for one epoch...:  54%|█████▍    | 80/148 [00:34<00:28,  2.38it/s]"
          ]
        },
        {
          "output_type": "stream",
          "name": "stdout",
          "text": [
            "Batch 80 | Loss: 0.0300 | Learning rate:  0.000013\n"
          ]
        },
        {
          "output_type": "stream",
          "name": "stderr",
          "text": [
            "Start training the model for one epoch...:  68%|██████▊   | 100/148 [00:43<00:20,  2.37it/s]"
          ]
        },
        {
          "output_type": "stream",
          "name": "stdout",
          "text": [
            "Batch 100 | Loss: 0.2652 | Learning rate:  0.000013\n"
          ]
        },
        {
          "output_type": "stream",
          "name": "stderr",
          "text": [
            "Start training the model for one epoch...:  81%|████████  | 120/148 [00:51<00:11,  2.36it/s]"
          ]
        },
        {
          "output_type": "stream",
          "name": "stdout",
          "text": [
            "Batch 120 | Loss: 0.0372 | Learning rate:  0.000013\n"
          ]
        },
        {
          "output_type": "stream",
          "name": "stderr",
          "text": [
            "Start training the model for one epoch...:  95%|█████████▍| 140/148 [01:00<00:03,  2.38it/s]"
          ]
        },
        {
          "output_type": "stream",
          "name": "stdout",
          "text": [
            "Batch 140 | Loss: 0.0386 | Learning rate:  0.000013\n"
          ]
        },
        {
          "output_type": "stream",
          "name": "stderr",
          "text": [
            "Start training the model for one epoch...: 100%|██████████| 148/148 [01:03<00:00,  2.33it/s]\n",
            "954it [02:07,  7.51it/s]\n"
          ]
        },
        {
          "output_type": "stream",
          "name": "stdout",
          "text": [
            "Epoch: 85, train loss: 0.06422523862204037, val_loss: 0.40869110800029096, val_dice: 0.14040124108954322, val_IoU: 0.12330777877921999\n"
          ]
        },
        {
          "output_type": "stream",
          "name": "stderr",
          "text": [
            "Start training the model for one epoch...:  14%|█▎        | 20/148 [00:09<00:53,  2.38it/s]"
          ]
        },
        {
          "output_type": "stream",
          "name": "stdout",
          "text": [
            "Batch 20 | Loss: 0.0802 | Learning rate:  0.000013\n"
          ]
        },
        {
          "output_type": "stream",
          "name": "stderr",
          "text": [
            "Start training the model for one epoch...:  27%|██▋       | 40/148 [00:18<00:45,  2.37it/s]"
          ]
        },
        {
          "output_type": "stream",
          "name": "stdout",
          "text": [
            "Batch 40 | Loss: 0.0616 | Learning rate:  0.000013\n"
          ]
        },
        {
          "output_type": "stream",
          "name": "stderr",
          "text": [
            "Start training the model for one epoch...:  41%|████      | 60/148 [00:26<00:37,  2.37it/s]"
          ]
        },
        {
          "output_type": "stream",
          "name": "stdout",
          "text": [
            "Batch 60 | Loss: 0.0605 | Learning rate:  0.000013\n"
          ]
        },
        {
          "output_type": "stream",
          "name": "stderr",
          "text": [
            "Start training the model for one epoch...:  54%|█████▍    | 80/148 [00:34<00:28,  2.38it/s]"
          ]
        },
        {
          "output_type": "stream",
          "name": "stdout",
          "text": [
            "Batch 80 | Loss: 0.0392 | Learning rate:  0.000013\n"
          ]
        },
        {
          "output_type": "stream",
          "name": "stderr",
          "text": [
            "Start training the model for one epoch...:  68%|██████▊   | 100/148 [00:43<00:20,  2.37it/s]"
          ]
        },
        {
          "output_type": "stream",
          "name": "stdout",
          "text": [
            "Batch 100 | Loss: 0.0418 | Learning rate:  0.000013\n"
          ]
        },
        {
          "output_type": "stream",
          "name": "stderr",
          "text": [
            "Start training the model for one epoch...:  81%|████████  | 120/148 [00:51<00:11,  2.38it/s]"
          ]
        },
        {
          "output_type": "stream",
          "name": "stdout",
          "text": [
            "Batch 120 | Loss: 0.0569 | Learning rate:  0.000013\n"
          ]
        },
        {
          "output_type": "stream",
          "name": "stderr",
          "text": [
            "Start training the model for one epoch...:  95%|█████████▍| 140/148 [01:00<00:03,  2.39it/s]"
          ]
        },
        {
          "output_type": "stream",
          "name": "stdout",
          "text": [
            "Batch 140 | Loss: 0.0809 | Learning rate:  0.000013\n"
          ]
        },
        {
          "output_type": "stream",
          "name": "stderr",
          "text": [
            "Start training the model for one epoch...: 100%|██████████| 148/148 [01:03<00:00,  2.33it/s]\n",
            "954it [02:07,  7.50it/s]\n"
          ]
        },
        {
          "output_type": "stream",
          "name": "stdout",
          "text": [
            "Epoch: 86, train loss: 0.06946681118947831, val_loss: 0.4115061651626348, val_dice: 0.1396972431382229, val_IoU: 0.12206712263852629\n"
          ]
        },
        {
          "output_type": "stream",
          "name": "stderr",
          "text": [
            "Start training the model for one epoch...:  14%|█▎        | 20/148 [00:09<00:53,  2.38it/s]"
          ]
        },
        {
          "output_type": "stream",
          "name": "stdout",
          "text": [
            "Batch 20 | Loss: 0.0806 | Learning rate:  0.000013\n"
          ]
        },
        {
          "output_type": "stream",
          "name": "stderr",
          "text": [
            "Start training the model for one epoch...:  27%|██▋       | 40/148 [00:18<00:45,  2.37it/s]"
          ]
        },
        {
          "output_type": "stream",
          "name": "stdout",
          "text": [
            "Batch 40 | Loss: 0.0531 | Learning rate:  0.000013\n"
          ]
        },
        {
          "output_type": "stream",
          "name": "stderr",
          "text": [
            "Start training the model for one epoch...:  41%|████      | 60/148 [00:27<00:37,  2.35it/s]"
          ]
        },
        {
          "output_type": "stream",
          "name": "stdout",
          "text": [
            "Batch 60 | Loss: 0.0949 | Learning rate:  0.000013\n"
          ]
        },
        {
          "output_type": "stream",
          "name": "stderr",
          "text": [
            "Start training the model for one epoch...:  54%|█████▍    | 80/148 [00:35<00:28,  2.37it/s]"
          ]
        },
        {
          "output_type": "stream",
          "name": "stdout",
          "text": [
            "Batch 80 | Loss: 0.0396 | Learning rate:  0.000013\n"
          ]
        },
        {
          "output_type": "stream",
          "name": "stderr",
          "text": [
            "Start training the model for one epoch...:  68%|██████▊   | 100/148 [00:44<00:20,  2.37it/s]"
          ]
        },
        {
          "output_type": "stream",
          "name": "stdout",
          "text": [
            "Batch 100 | Loss: 0.0322 | Learning rate:  0.000013\n"
          ]
        },
        {
          "output_type": "stream",
          "name": "stderr",
          "text": [
            "Start training the model for one epoch...:  81%|████████  | 120/148 [00:52<00:11,  2.36it/s]"
          ]
        },
        {
          "output_type": "stream",
          "name": "stdout",
          "text": [
            "Batch 120 | Loss: 0.0613 | Learning rate:  0.000013\n"
          ]
        },
        {
          "output_type": "stream",
          "name": "stderr",
          "text": [
            "Start training the model for one epoch...:  95%|█████████▍| 140/148 [01:00<00:03,  2.39it/s]"
          ]
        },
        {
          "output_type": "stream",
          "name": "stdout",
          "text": [
            "Batch 140 | Loss: 0.0350 | Learning rate:  0.000013\n"
          ]
        },
        {
          "output_type": "stream",
          "name": "stderr",
          "text": [
            "Start training the model for one epoch...: 100%|██████████| 148/148 [01:04<00:00,  2.31it/s]\n",
            "954it [02:06,  7.51it/s]\n"
          ]
        },
        {
          "output_type": "stream",
          "name": "stdout",
          "text": [
            "Epoch: 87, train loss: 0.06331200506915716, val_loss: 0.39690970314717394, val_dice: 0.19025210040850477, val_IoU: 0.16524464714054377\n"
          ]
        },
        {
          "output_type": "stream",
          "name": "stderr",
          "text": [
            "Start training the model for one epoch...:  14%|█▎        | 20/148 [00:09<00:53,  2.37it/s]"
          ]
        },
        {
          "output_type": "stream",
          "name": "stdout",
          "text": [
            "Batch 20 | Loss: 0.0599 | Learning rate:  0.000013\n"
          ]
        },
        {
          "output_type": "stream",
          "name": "stderr",
          "text": [
            "Start training the model for one epoch...:  27%|██▋       | 40/148 [00:18<00:45,  2.37it/s]"
          ]
        },
        {
          "output_type": "stream",
          "name": "stdout",
          "text": [
            "Batch 40 | Loss: 0.0716 | Learning rate:  0.000013\n"
          ]
        },
        {
          "output_type": "stream",
          "name": "stderr",
          "text": [
            "Start training the model for one epoch...:  41%|████      | 60/148 [00:26<00:37,  2.37it/s]"
          ]
        },
        {
          "output_type": "stream",
          "name": "stdout",
          "text": [
            "Batch 60 | Loss: 0.0414 | Learning rate:  0.000013\n"
          ]
        },
        {
          "output_type": "stream",
          "name": "stderr",
          "text": [
            "Start training the model for one epoch...:  54%|█████▍    | 80/148 [00:34<00:28,  2.37it/s]"
          ]
        },
        {
          "output_type": "stream",
          "name": "stdout",
          "text": [
            "Batch 80 | Loss: 0.0437 | Learning rate:  0.000013\n"
          ]
        },
        {
          "output_type": "stream",
          "name": "stderr",
          "text": [
            "Start training the model for one epoch...:  68%|██████▊   | 100/148 [00:43<00:20,  2.37it/s]"
          ]
        },
        {
          "output_type": "stream",
          "name": "stdout",
          "text": [
            "Batch 100 | Loss: 0.0358 | Learning rate:  0.000013\n"
          ]
        },
        {
          "output_type": "stream",
          "name": "stderr",
          "text": [
            "Start training the model for one epoch...:  81%|████████  | 120/148 [00:51<00:11,  2.38it/s]"
          ]
        },
        {
          "output_type": "stream",
          "name": "stdout",
          "text": [
            "Batch 120 | Loss: 0.0347 | Learning rate:  0.000013\n"
          ]
        },
        {
          "output_type": "stream",
          "name": "stderr",
          "text": [
            "Start training the model for one epoch...:  95%|█████████▍| 140/148 [01:00<00:03,  2.39it/s]"
          ]
        },
        {
          "output_type": "stream",
          "name": "stdout",
          "text": [
            "Batch 140 | Loss: 0.0478 | Learning rate:  0.000013\n"
          ]
        },
        {
          "output_type": "stream",
          "name": "stderr",
          "text": [
            "Start training the model for one epoch...: 100%|██████████| 148/148 [01:03<00:00,  2.33it/s]\n",
            "954it [02:06,  7.51it/s]\n"
          ]
        },
        {
          "output_type": "stream",
          "name": "stdout",
          "text": [
            "Epoch: 88, train loss: 0.05614049589840343, val_loss: 0.37222199748607987, val_dice: 0.1589219628555853, val_IoU: 0.14014251442176115\n"
          ]
        },
        {
          "output_type": "stream",
          "name": "stderr",
          "text": [
            "Start training the model for one epoch...:  14%|█▎        | 20/148 [00:09<00:54,  2.37it/s]"
          ]
        },
        {
          "output_type": "stream",
          "name": "stdout",
          "text": [
            "Batch 20 | Loss: 0.0343 | Learning rate:  0.000013\n"
          ]
        },
        {
          "output_type": "stream",
          "name": "stderr",
          "text": [
            "Start training the model for one epoch...:  27%|██▋       | 40/148 [00:18<00:45,  2.37it/s]"
          ]
        },
        {
          "output_type": "stream",
          "name": "stdout",
          "text": [
            "Batch 40 | Loss: 0.0545 | Learning rate:  0.000013\n"
          ]
        },
        {
          "output_type": "stream",
          "name": "stderr",
          "text": [
            "Start training the model for one epoch...:  41%|████      | 60/148 [00:26<00:37,  2.38it/s]"
          ]
        },
        {
          "output_type": "stream",
          "name": "stdout",
          "text": [
            "Batch 60 | Loss: 0.0573 | Learning rate:  0.000012\n"
          ]
        },
        {
          "output_type": "stream",
          "name": "stderr",
          "text": [
            "Start training the model for one epoch...:  54%|█████▍    | 80/148 [00:34<00:28,  2.37it/s]"
          ]
        },
        {
          "output_type": "stream",
          "name": "stdout",
          "text": [
            "Batch 80 | Loss: 0.0852 | Learning rate:  0.000012\n"
          ]
        },
        {
          "output_type": "stream",
          "name": "stderr",
          "text": [
            "Start training the model for one epoch...:  68%|██████▊   | 100/148 [00:43<00:20,  2.37it/s]"
          ]
        },
        {
          "output_type": "stream",
          "name": "stdout",
          "text": [
            "Batch 100 | Loss: 0.2020 | Learning rate:  0.000012\n"
          ]
        },
        {
          "output_type": "stream",
          "name": "stderr",
          "text": [
            "Start training the model for one epoch...:  81%|████████  | 120/148 [00:52<00:12,  2.17it/s]"
          ]
        },
        {
          "output_type": "stream",
          "name": "stdout",
          "text": [
            "Batch 120 | Loss: 0.0464 | Learning rate:  0.000012\n"
          ]
        },
        {
          "output_type": "stream",
          "name": "stderr",
          "text": [
            "Start training the model for one epoch...:  95%|█████████▍| 140/148 [01:00<00:03,  2.38it/s]"
          ]
        },
        {
          "output_type": "stream",
          "name": "stdout",
          "text": [
            "Batch 140 | Loss: 0.0272 | Learning rate:  0.000012\n"
          ]
        },
        {
          "output_type": "stream",
          "name": "stderr",
          "text": [
            "Start training the model for one epoch...: 100%|██████████| 148/148 [01:04<00:00,  2.31it/s]\n",
            "954it [02:07,  7.51it/s]\n"
          ]
        },
        {
          "output_type": "stream",
          "name": "stdout",
          "text": [
            "Epoch: 89, train loss: 0.05652496849841161, val_loss: 0.38701699471464324, val_dice: 0.1677538008082684, val_IoU: 0.14753786202789648\n"
          ]
        },
        {
          "output_type": "stream",
          "name": "stderr",
          "text": [
            "Start training the model for one epoch...:  14%|█▎        | 20/148 [00:09<00:53,  2.37it/s]"
          ]
        },
        {
          "output_type": "stream",
          "name": "stdout",
          "text": [
            "Batch 20 | Loss: 0.0393 | Learning rate:  0.000012\n"
          ]
        },
        {
          "output_type": "stream",
          "name": "stderr",
          "text": [
            "Start training the model for one epoch...:  27%|██▋       | 40/148 [00:18<00:45,  2.37it/s]"
          ]
        },
        {
          "output_type": "stream",
          "name": "stdout",
          "text": [
            "Batch 40 | Loss: 0.0659 | Learning rate:  0.000012\n"
          ]
        },
        {
          "output_type": "stream",
          "name": "stderr",
          "text": [
            "Start training the model for one epoch...:  41%|████      | 60/148 [00:26<00:37,  2.37it/s]"
          ]
        },
        {
          "output_type": "stream",
          "name": "stdout",
          "text": [
            "Batch 60 | Loss: 0.0544 | Learning rate:  0.000012\n"
          ]
        },
        {
          "output_type": "stream",
          "name": "stderr",
          "text": [
            "Start training the model for one epoch...:  54%|█████▍    | 80/148 [00:35<00:28,  2.37it/s]"
          ]
        },
        {
          "output_type": "stream",
          "name": "stdout",
          "text": [
            "Batch 80 | Loss: 0.0699 | Learning rate:  0.000012\n"
          ]
        },
        {
          "output_type": "stream",
          "name": "stderr",
          "text": [
            "Start training the model for one epoch...:  68%|██████▊   | 100/148 [00:43<00:20,  2.37it/s]"
          ]
        },
        {
          "output_type": "stream",
          "name": "stdout",
          "text": [
            "Batch 100 | Loss: 0.0645 | Learning rate:  0.000012\n"
          ]
        },
        {
          "output_type": "stream",
          "name": "stderr",
          "text": [
            "Start training the model for one epoch...:  81%|████████  | 120/148 [00:51<00:11,  2.37it/s]"
          ]
        },
        {
          "output_type": "stream",
          "name": "stdout",
          "text": [
            "Batch 120 | Loss: 0.0402 | Learning rate:  0.000012\n"
          ]
        },
        {
          "output_type": "stream",
          "name": "stderr",
          "text": [
            "Start training the model for one epoch...:  95%|█████████▍| 140/148 [01:00<00:03,  2.39it/s]"
          ]
        },
        {
          "output_type": "stream",
          "name": "stdout",
          "text": [
            "Batch 140 | Loss: 0.0778 | Learning rate:  0.000012\n"
          ]
        },
        {
          "output_type": "stream",
          "name": "stderr",
          "text": [
            "Start training the model for one epoch...: 100%|██████████| 148/148 [01:03<00:00,  2.33it/s]\n",
            "954it [02:07,  7.49it/s]\n"
          ]
        },
        {
          "output_type": "stream",
          "name": "stdout",
          "text": [
            "Epoch: 90, train loss: 0.05551883189410374, val_loss: 0.40642471262790747, val_dice: 0.13205734604794842, val_IoU: 0.11647855775052526\n"
          ]
        },
        {
          "output_type": "stream",
          "name": "stderr",
          "text": [
            "Start training the model for one epoch...:  14%|█▎        | 20/148 [00:09<00:53,  2.37it/s]"
          ]
        },
        {
          "output_type": "stream",
          "name": "stdout",
          "text": [
            "Batch 20 | Loss: 0.0640 | Learning rate:  0.000012\n"
          ]
        },
        {
          "output_type": "stream",
          "name": "stderr",
          "text": [
            "Start training the model for one epoch...:  27%|██▋       | 40/148 [00:18<00:45,  2.37it/s]"
          ]
        },
        {
          "output_type": "stream",
          "name": "stdout",
          "text": [
            "Batch 40 | Loss: 0.0533 | Learning rate:  0.000012\n"
          ]
        },
        {
          "output_type": "stream",
          "name": "stderr",
          "text": [
            "Start training the model for one epoch...:  41%|████      | 60/148 [00:26<00:37,  2.37it/s]"
          ]
        },
        {
          "output_type": "stream",
          "name": "stdout",
          "text": [
            "Batch 60 | Loss: 0.0305 | Learning rate:  0.000012\n"
          ]
        },
        {
          "output_type": "stream",
          "name": "stderr",
          "text": [
            "Start training the model for one epoch...:  54%|█████▍    | 80/148 [00:34<00:28,  2.37it/s]"
          ]
        },
        {
          "output_type": "stream",
          "name": "stdout",
          "text": [
            "Batch 80 | Loss: 0.0444 | Learning rate:  0.000012\n"
          ]
        },
        {
          "output_type": "stream",
          "name": "stderr",
          "text": [
            "Start training the model for one epoch...:  68%|██████▊   | 100/148 [00:43<00:20,  2.37it/s]"
          ]
        },
        {
          "output_type": "stream",
          "name": "stdout",
          "text": [
            "Batch 100 | Loss: 0.0311 | Learning rate:  0.000012\n"
          ]
        },
        {
          "output_type": "stream",
          "name": "stderr",
          "text": [
            "Start training the model for one epoch...:  81%|████████  | 120/148 [00:51<00:11,  2.37it/s]"
          ]
        },
        {
          "output_type": "stream",
          "name": "stdout",
          "text": [
            "Batch 120 | Loss: 0.0289 | Learning rate:  0.000012\n"
          ]
        },
        {
          "output_type": "stream",
          "name": "stderr",
          "text": [
            "Start training the model for one epoch...:  95%|█████████▍| 140/148 [01:00<00:03,  2.39it/s]"
          ]
        },
        {
          "output_type": "stream",
          "name": "stdout",
          "text": [
            "Batch 140 | Loss: 0.0276 | Learning rate:  0.000012\n"
          ]
        },
        {
          "output_type": "stream",
          "name": "stderr",
          "text": [
            "Start training the model for one epoch...: 100%|██████████| 148/148 [01:03<00:00,  2.33it/s]\n",
            "954it [02:07,  7.50it/s]\n"
          ]
        },
        {
          "output_type": "stream",
          "name": "stdout",
          "text": [
            "Epoch: 91, train loss: 0.06302693906567387, val_loss: 0.4690720070957888, val_dice: 0.1279795425393749, val_IoU: 0.11341490598027239\n"
          ]
        },
        {
          "output_type": "stream",
          "name": "stderr",
          "text": [
            "Start training the model for one epoch...:  14%|█▎        | 20/148 [00:09<00:54,  2.36it/s]"
          ]
        },
        {
          "output_type": "stream",
          "name": "stdout",
          "text": [
            "Batch 20 | Loss: 0.0276 | Learning rate:  0.000012\n"
          ]
        },
        {
          "output_type": "stream",
          "name": "stderr",
          "text": [
            "Start training the model for one epoch...:  27%|██▋       | 40/148 [00:18<00:45,  2.37it/s]"
          ]
        },
        {
          "output_type": "stream",
          "name": "stdout",
          "text": [
            "Batch 40 | Loss: 0.0293 | Learning rate:  0.000012\n"
          ]
        },
        {
          "output_type": "stream",
          "name": "stderr",
          "text": [
            "Start training the model for one epoch...:  41%|████      | 60/148 [00:27<00:37,  2.37it/s]"
          ]
        },
        {
          "output_type": "stream",
          "name": "stdout",
          "text": [
            "Batch 60 | Loss: 0.0596 | Learning rate:  0.000012\n"
          ]
        },
        {
          "output_type": "stream",
          "name": "stderr",
          "text": [
            "Start training the model for one epoch...:  54%|█████▍    | 80/148 [00:35<00:28,  2.38it/s]"
          ]
        },
        {
          "output_type": "stream",
          "name": "stdout",
          "text": [
            "Batch 80 | Loss: 0.0171 | Learning rate:  0.000012\n"
          ]
        },
        {
          "output_type": "stream",
          "name": "stderr",
          "text": [
            "Start training the model for one epoch...:  68%|██████▊   | 100/148 [00:43<00:20,  2.38it/s]"
          ]
        },
        {
          "output_type": "stream",
          "name": "stdout",
          "text": [
            "Batch 100 | Loss: 0.0400 | Learning rate:  0.000012\n"
          ]
        },
        {
          "output_type": "stream",
          "name": "stderr",
          "text": [
            "Start training the model for one epoch...:  81%|████████  | 120/148 [00:52<00:11,  2.36it/s]"
          ]
        },
        {
          "output_type": "stream",
          "name": "stdout",
          "text": [
            "Batch 120 | Loss: 0.0353 | Learning rate:  0.000012\n"
          ]
        },
        {
          "output_type": "stream",
          "name": "stderr",
          "text": [
            "Start training the model for one epoch...:  95%|█████████▍| 140/148 [01:00<00:03,  2.39it/s]"
          ]
        },
        {
          "output_type": "stream",
          "name": "stdout",
          "text": [
            "Batch 140 | Loss: 0.0464 | Learning rate:  0.000012\n"
          ]
        },
        {
          "output_type": "stream",
          "name": "stderr",
          "text": [
            "Start training the model for one epoch...: 100%|██████████| 148/148 [01:04<00:00,  2.31it/s]\n",
            "954it [02:07,  7.51it/s]\n"
          ]
        },
        {
          "output_type": "stream",
          "name": "stdout",
          "text": [
            "Epoch: 92, train loss: 0.05417367968255201, val_loss: 0.44997702274213797, val_dice: 0.12212676159023243, val_IoU: 0.10883995601548567\n"
          ]
        },
        {
          "output_type": "stream",
          "name": "stderr",
          "text": [
            "Start training the model for one epoch...:  14%|█▎        | 20/148 [00:09<00:54,  2.37it/s]"
          ]
        },
        {
          "output_type": "stream",
          "name": "stdout",
          "text": [
            "Batch 20 | Loss: 0.0572 | Learning rate:  0.000012\n"
          ]
        },
        {
          "output_type": "stream",
          "name": "stderr",
          "text": [
            "Start training the model for one epoch...:  27%|██▋       | 40/148 [00:18<00:45,  2.37it/s]"
          ]
        },
        {
          "output_type": "stream",
          "name": "stdout",
          "text": [
            "Batch 40 | Loss: 0.0221 | Learning rate:  0.000012\n"
          ]
        },
        {
          "output_type": "stream",
          "name": "stderr",
          "text": [
            "Start training the model for one epoch...:  41%|████      | 60/148 [00:26<00:37,  2.37it/s]"
          ]
        },
        {
          "output_type": "stream",
          "name": "stdout",
          "text": [
            "Batch 60 | Loss: 0.0388 | Learning rate:  0.000012\n"
          ]
        },
        {
          "output_type": "stream",
          "name": "stderr",
          "text": [
            "Start training the model for one epoch...:  54%|█████▍    | 80/148 [00:34<00:28,  2.37it/s]"
          ]
        },
        {
          "output_type": "stream",
          "name": "stdout",
          "text": [
            "Batch 80 | Loss: 0.0814 | Learning rate:  0.000012\n"
          ]
        },
        {
          "output_type": "stream",
          "name": "stderr",
          "text": [
            "Start training the model for one epoch...:  68%|██████▊   | 100/148 [00:43<00:20,  2.38it/s]"
          ]
        },
        {
          "output_type": "stream",
          "name": "stdout",
          "text": [
            "Batch 100 | Loss: 0.0212 | Learning rate:  0.000012\n"
          ]
        },
        {
          "output_type": "stream",
          "name": "stderr",
          "text": [
            "Start training the model for one epoch...:  81%|████████  | 120/148 [00:51<00:11,  2.37it/s]"
          ]
        },
        {
          "output_type": "stream",
          "name": "stdout",
          "text": [
            "Batch 120 | Loss: 0.0410 | Learning rate:  0.000012\n"
          ]
        },
        {
          "output_type": "stream",
          "name": "stderr",
          "text": [
            "Start training the model for one epoch...:  95%|█████████▍| 140/148 [01:00<00:03,  2.39it/s]"
          ]
        },
        {
          "output_type": "stream",
          "name": "stdout",
          "text": [
            "Batch 140 | Loss: 0.0760 | Learning rate:  0.000012\n"
          ]
        },
        {
          "output_type": "stream",
          "name": "stderr",
          "text": [
            "Start training the model for one epoch...: 100%|██████████| 148/148 [01:03<00:00,  2.33it/s]\n",
            "954it [02:07,  7.51it/s]\n"
          ]
        },
        {
          "output_type": "stream",
          "name": "stdout",
          "text": [
            "Epoch: 93, train loss: 0.05217334040365106, val_loss: 0.43779524239229206, val_dice: 0.11646519245750046, val_IoU: 0.10297369795507794\n"
          ]
        },
        {
          "output_type": "stream",
          "name": "stderr",
          "text": [
            "Start training the model for one epoch...:  14%|█▎        | 20/148 [00:09<00:53,  2.37it/s]"
          ]
        },
        {
          "output_type": "stream",
          "name": "stdout",
          "text": [
            "Batch 20 | Loss: 0.0492 | Learning rate:  0.000012\n"
          ]
        },
        {
          "output_type": "stream",
          "name": "stderr",
          "text": [
            "Start training the model for one epoch...:  27%|██▋       | 40/148 [00:18<00:45,  2.38it/s]"
          ]
        },
        {
          "output_type": "stream",
          "name": "stdout",
          "text": [
            "Batch 40 | Loss: 0.0442 | Learning rate:  0.000012\n"
          ]
        },
        {
          "output_type": "stream",
          "name": "stderr",
          "text": [
            "Start training the model for one epoch...:  41%|████      | 60/148 [00:26<00:37,  2.37it/s]"
          ]
        },
        {
          "output_type": "stream",
          "name": "stdout",
          "text": [
            "Batch 60 | Loss: 0.0575 | Learning rate:  0.000012\n"
          ]
        },
        {
          "output_type": "stream",
          "name": "stderr",
          "text": [
            "Start training the model for one epoch...:  54%|█████▍    | 80/148 [00:34<00:28,  2.37it/s]"
          ]
        },
        {
          "output_type": "stream",
          "name": "stdout",
          "text": [
            "Batch 80 | Loss: 0.0230 | Learning rate:  0.000012\n"
          ]
        },
        {
          "output_type": "stream",
          "name": "stderr",
          "text": [
            "Start training the model for one epoch...:  68%|██████▊   | 100/148 [00:43<00:20,  2.37it/s]"
          ]
        },
        {
          "output_type": "stream",
          "name": "stdout",
          "text": [
            "Batch 100 | Loss: 0.0420 | Learning rate:  0.000012\n"
          ]
        },
        {
          "output_type": "stream",
          "name": "stderr",
          "text": [
            "Start training the model for one epoch...:  81%|████████  | 120/148 [00:51<00:11,  2.37it/s]"
          ]
        },
        {
          "output_type": "stream",
          "name": "stdout",
          "text": [
            "Batch 120 | Loss: 0.0338 | Learning rate:  0.000012\n"
          ]
        },
        {
          "output_type": "stream",
          "name": "stderr",
          "text": [
            "Start training the model for one epoch...:  95%|█████████▍| 140/148 [01:00<00:03,  2.38it/s]"
          ]
        },
        {
          "output_type": "stream",
          "name": "stdout",
          "text": [
            "Batch 140 | Loss: 0.0365 | Learning rate:  0.000012\n"
          ]
        },
        {
          "output_type": "stream",
          "name": "stderr",
          "text": [
            "Start training the model for one epoch...: 100%|██████████| 148/148 [01:03<00:00,  2.33it/s]\n",
            "954it [02:07,  7.50it/s]\n"
          ]
        },
        {
          "output_type": "stream",
          "name": "stdout",
          "text": [
            "Epoch: 94, train loss: 0.05441251558226508, val_loss: 0.3897571243829947, val_dice: 0.11659380894240676, val_IoU: 0.10340366190499237\n"
          ]
        },
        {
          "output_type": "stream",
          "name": "stderr",
          "text": [
            "Start training the model for one epoch...:  14%|█▎        | 20/148 [00:09<00:53,  2.38it/s]"
          ]
        },
        {
          "output_type": "stream",
          "name": "stdout",
          "text": [
            "Batch 20 | Loss: 0.0361 | Learning rate:  0.000012\n"
          ]
        },
        {
          "output_type": "stream",
          "name": "stderr",
          "text": [
            "Start training the model for one epoch...:  27%|██▋       | 40/148 [00:18<00:45,  2.37it/s]"
          ]
        },
        {
          "output_type": "stream",
          "name": "stdout",
          "text": [
            "Batch 40 | Loss: 0.0453 | Learning rate:  0.000012\n"
          ]
        },
        {
          "output_type": "stream",
          "name": "stderr",
          "text": [
            "Start training the model for one epoch...:  41%|████      | 60/148 [00:26<00:37,  2.38it/s]"
          ]
        },
        {
          "output_type": "stream",
          "name": "stdout",
          "text": [
            "Batch 60 | Loss: 0.0272 | Learning rate:  0.000012\n"
          ]
        },
        {
          "output_type": "stream",
          "name": "stderr",
          "text": [
            "Start training the model for one epoch...:  54%|█████▍    | 80/148 [00:34<00:28,  2.37it/s]"
          ]
        },
        {
          "output_type": "stream",
          "name": "stdout",
          "text": [
            "Batch 80 | Loss: 0.0434 | Learning rate:  0.000012\n"
          ]
        },
        {
          "output_type": "stream",
          "name": "stderr",
          "text": [
            "Start training the model for one epoch...:  68%|██████▊   | 100/148 [00:43<00:20,  2.37it/s]"
          ]
        },
        {
          "output_type": "stream",
          "name": "stdout",
          "text": [
            "Batch 100 | Loss: 0.0423 | Learning rate:  0.000012\n"
          ]
        },
        {
          "output_type": "stream",
          "name": "stderr",
          "text": [
            "Start training the model for one epoch...:  81%|████████  | 120/148 [00:51<00:11,  2.38it/s]"
          ]
        },
        {
          "output_type": "stream",
          "name": "stdout",
          "text": [
            "Batch 120 | Loss: 0.0295 | Learning rate:  0.000012\n"
          ]
        },
        {
          "output_type": "stream",
          "name": "stderr",
          "text": [
            "Start training the model for one epoch...:  95%|█████████▍| 140/148 [01:00<00:03,  2.39it/s]"
          ]
        },
        {
          "output_type": "stream",
          "name": "stdout",
          "text": [
            "Batch 140 | Loss: 0.0463 | Learning rate:  0.000012\n"
          ]
        },
        {
          "output_type": "stream",
          "name": "stderr",
          "text": [
            "Start training the model for one epoch...: 100%|██████████| 148/148 [01:03<00:00,  2.33it/s]\n",
            "954it [02:06,  7.52it/s]\n"
          ]
        },
        {
          "output_type": "stream",
          "name": "stdout",
          "text": [
            "Epoch: 95, train loss: 0.052137989122923965, val_loss: 0.48871085923985114, val_dice: 0.1750971777969317, val_IoU: 0.15338303708373155\n"
          ]
        },
        {
          "output_type": "stream",
          "name": "stderr",
          "text": [
            "Start training the model for one epoch...:  14%|█▎        | 20/148 [00:09<00:53,  2.38it/s]"
          ]
        },
        {
          "output_type": "stream",
          "name": "stdout",
          "text": [
            "Batch 20 | Loss: 0.0523 | Learning rate:  0.000011\n"
          ]
        },
        {
          "output_type": "stream",
          "name": "stderr",
          "text": [
            "Start training the model for one epoch...:  27%|██▋       | 40/148 [00:18<00:45,  2.37it/s]"
          ]
        },
        {
          "output_type": "stream",
          "name": "stdout",
          "text": [
            "Batch 40 | Loss: 0.0199 | Learning rate:  0.000011\n"
          ]
        },
        {
          "output_type": "stream",
          "name": "stderr",
          "text": [
            "Start training the model for one epoch...:  41%|████      | 60/148 [00:26<00:37,  2.38it/s]"
          ]
        },
        {
          "output_type": "stream",
          "name": "stdout",
          "text": [
            "Batch 60 | Loss: 0.0285 | Learning rate:  0.000011\n"
          ]
        },
        {
          "output_type": "stream",
          "name": "stderr",
          "text": [
            "Start training the model for one epoch...:  54%|█████▍    | 80/148 [00:35<00:28,  2.37it/s]"
          ]
        },
        {
          "output_type": "stream",
          "name": "stdout",
          "text": [
            "Batch 80 | Loss: 0.0759 | Learning rate:  0.000011\n"
          ]
        },
        {
          "output_type": "stream",
          "name": "stderr",
          "text": [
            "Start training the model for one epoch...:  68%|██████▊   | 100/148 [00:43<00:20,  2.37it/s]"
          ]
        },
        {
          "output_type": "stream",
          "name": "stdout",
          "text": [
            "Batch 100 | Loss: 0.0530 | Learning rate:  0.000011\n"
          ]
        },
        {
          "output_type": "stream",
          "name": "stderr",
          "text": [
            "Start training the model for one epoch...:  81%|████████  | 120/148 [00:51<00:11,  2.37it/s]"
          ]
        },
        {
          "output_type": "stream",
          "name": "stdout",
          "text": [
            "Batch 120 | Loss: 0.0729 | Learning rate:  0.000011\n"
          ]
        },
        {
          "output_type": "stream",
          "name": "stderr",
          "text": [
            "Start training the model for one epoch...:  95%|█████████▍| 140/148 [01:00<00:03,  2.39it/s]"
          ]
        },
        {
          "output_type": "stream",
          "name": "stdout",
          "text": [
            "Batch 140 | Loss: 0.0326 | Learning rate:  0.000011\n"
          ]
        },
        {
          "output_type": "stream",
          "name": "stderr",
          "text": [
            "Start training the model for one epoch...: 100%|██████████| 148/148 [01:03<00:00,  2.33it/s]\n",
            "954it [02:07,  7.50it/s]\n"
          ]
        },
        {
          "output_type": "stream",
          "name": "stdout",
          "text": [
            "Epoch: 96, train loss: 0.0529667371758134, val_loss: 0.4403147734662584, val_dice: 0.15389702785589252, val_IoU: 0.1367118546909374\n"
          ]
        },
        {
          "output_type": "stream",
          "name": "stderr",
          "text": [
            "Start training the model for one epoch...:  14%|█▎        | 20/148 [00:09<00:53,  2.38it/s]"
          ]
        },
        {
          "output_type": "stream",
          "name": "stdout",
          "text": [
            "Batch 20 | Loss: 0.2941 | Learning rate:  0.000011\n"
          ]
        },
        {
          "output_type": "stream",
          "name": "stderr",
          "text": [
            "Start training the model for one epoch...:  27%|██▋       | 40/148 [00:18<00:45,  2.38it/s]"
          ]
        },
        {
          "output_type": "stream",
          "name": "stdout",
          "text": [
            "Batch 40 | Loss: 0.1060 | Learning rate:  0.000011\n"
          ]
        },
        {
          "output_type": "stream",
          "name": "stderr",
          "text": [
            "Start training the model for one epoch...:  41%|████      | 60/148 [00:26<00:37,  2.37it/s]"
          ]
        },
        {
          "output_type": "stream",
          "name": "stdout",
          "text": [
            "Batch 60 | Loss: 0.0532 | Learning rate:  0.000011\n"
          ]
        },
        {
          "output_type": "stream",
          "name": "stderr",
          "text": [
            "Start training the model for one epoch...:  54%|█████▍    | 80/148 [00:34<00:28,  2.37it/s]"
          ]
        },
        {
          "output_type": "stream",
          "name": "stdout",
          "text": [
            "Batch 80 | Loss: 0.0546 | Learning rate:  0.000011\n"
          ]
        },
        {
          "output_type": "stream",
          "name": "stderr",
          "text": [
            "Start training the model for one epoch...:  68%|██████▊   | 100/148 [00:43<00:20,  2.38it/s]"
          ]
        },
        {
          "output_type": "stream",
          "name": "stdout",
          "text": [
            "Batch 100 | Loss: 0.0461 | Learning rate:  0.000011\n"
          ]
        },
        {
          "output_type": "stream",
          "name": "stderr",
          "text": [
            "Start training the model for one epoch...:  81%|████████  | 120/148 [00:51<00:11,  2.36it/s]"
          ]
        },
        {
          "output_type": "stream",
          "name": "stdout",
          "text": [
            "Batch 120 | Loss: 0.0498 | Learning rate:  0.000011\n"
          ]
        },
        {
          "output_type": "stream",
          "name": "stderr",
          "text": [
            "Start training the model for one epoch...:  95%|█████████▍| 140/148 [01:00<00:03,  2.38it/s]"
          ]
        },
        {
          "output_type": "stream",
          "name": "stdout",
          "text": [
            "Batch 140 | Loss: 0.0449 | Learning rate:  0.000011\n"
          ]
        },
        {
          "output_type": "stream",
          "name": "stderr",
          "text": [
            "Start training the model for one epoch...: 100%|██████████| 148/148 [01:03<00:00,  2.33it/s]\n",
            "954it [02:07,  7.50it/s]\n"
          ]
        },
        {
          "output_type": "stream",
          "name": "stdout",
          "text": [
            "Epoch: 97, train loss: 0.05521384333386212, val_loss: 0.43732098094041244, val_dice: 0.11922620473037303, val_IoU: 0.10609483078791447\n"
          ]
        },
        {
          "output_type": "stream",
          "name": "stderr",
          "text": [
            "Start training the model for one epoch...:  14%|█▎        | 20/148 [00:09<00:53,  2.38it/s]"
          ]
        },
        {
          "output_type": "stream",
          "name": "stdout",
          "text": [
            "Batch 20 | Loss: 0.0706 | Learning rate:  0.000011\n"
          ]
        },
        {
          "output_type": "stream",
          "name": "stderr",
          "text": [
            "Start training the model for one epoch...:  27%|██▋       | 40/148 [00:18<00:45,  2.38it/s]"
          ]
        },
        {
          "output_type": "stream",
          "name": "stdout",
          "text": [
            "Batch 40 | Loss: 0.0392 | Learning rate:  0.000011\n"
          ]
        },
        {
          "output_type": "stream",
          "name": "stderr",
          "text": [
            "Start training the model for one epoch...:  41%|████      | 60/148 [00:26<00:37,  2.37it/s]"
          ]
        },
        {
          "output_type": "stream",
          "name": "stdout",
          "text": [
            "Batch 60 | Loss: 0.0109 | Learning rate:  0.000011\n"
          ]
        },
        {
          "output_type": "stream",
          "name": "stderr",
          "text": [
            "Start training the model for one epoch...:  54%|█████▍    | 80/148 [00:35<00:29,  2.34it/s]"
          ]
        },
        {
          "output_type": "stream",
          "name": "stdout",
          "text": [
            "Batch 80 | Loss: 0.0259 | Learning rate:  0.000011\n"
          ]
        },
        {
          "output_type": "stream",
          "name": "stderr",
          "text": [
            "Start training the model for one epoch...:  68%|██████▊   | 100/148 [00:43<00:20,  2.38it/s]"
          ]
        },
        {
          "output_type": "stream",
          "name": "stdout",
          "text": [
            "Batch 100 | Loss: 0.0449 | Learning rate:  0.000011\n"
          ]
        },
        {
          "output_type": "stream",
          "name": "stderr",
          "text": [
            "Start training the model for one epoch...:  81%|████████  | 120/148 [00:52<00:11,  2.37it/s]"
          ]
        },
        {
          "output_type": "stream",
          "name": "stdout",
          "text": [
            "Batch 120 | Loss: 0.0309 | Learning rate:  0.000011\n"
          ]
        },
        {
          "output_type": "stream",
          "name": "stderr",
          "text": [
            "Start training the model for one epoch...:  95%|█████████▍| 140/148 [01:00<00:03,  2.39it/s]"
          ]
        },
        {
          "output_type": "stream",
          "name": "stdout",
          "text": [
            "Batch 140 | Loss: 0.0573 | Learning rate:  0.000011\n"
          ]
        },
        {
          "output_type": "stream",
          "name": "stderr",
          "text": [
            "Start training the model for one epoch...: 100%|██████████| 148/148 [01:04<00:00,  2.31it/s]\n",
            "954it [02:07,  7.50it/s]\n"
          ]
        },
        {
          "output_type": "stream",
          "name": "stdout",
          "text": [
            "Epoch: 98, train loss: 0.0508448491439324, val_loss: 0.4581948806584444, val_dice: 0.15014917098466496, val_IoU: 0.13379303780247662\n"
          ]
        },
        {
          "output_type": "stream",
          "name": "stderr",
          "text": [
            "Start training the model for one epoch...:  14%|█▎        | 20/148 [00:09<00:53,  2.37it/s]"
          ]
        },
        {
          "output_type": "stream",
          "name": "stdout",
          "text": [
            "Batch 20 | Loss: 0.0366 | Learning rate:  0.000011\n"
          ]
        },
        {
          "output_type": "stream",
          "name": "stderr",
          "text": [
            "Start training the model for one epoch...:  27%|██▋       | 40/148 [00:18<00:45,  2.38it/s]"
          ]
        },
        {
          "output_type": "stream",
          "name": "stdout",
          "text": [
            "Batch 40 | Loss: 0.0384 | Learning rate:  0.000011\n"
          ]
        },
        {
          "output_type": "stream",
          "name": "stderr",
          "text": [
            "Start training the model for one epoch...:  41%|████      | 60/148 [00:26<00:37,  2.37it/s]"
          ]
        },
        {
          "output_type": "stream",
          "name": "stdout",
          "text": [
            "Batch 60 | Loss: 0.0185 | Learning rate:  0.000011\n"
          ]
        },
        {
          "output_type": "stream",
          "name": "stderr",
          "text": [
            "Start training the model for one epoch...:  54%|█████▍    | 80/148 [00:34<00:28,  2.38it/s]"
          ]
        },
        {
          "output_type": "stream",
          "name": "stdout",
          "text": [
            "Batch 80 | Loss: 0.0274 | Learning rate:  0.000011\n"
          ]
        },
        {
          "output_type": "stream",
          "name": "stderr",
          "text": [
            "Start training the model for one epoch...:  68%|██████▊   | 100/148 [00:43<00:20,  2.38it/s]"
          ]
        },
        {
          "output_type": "stream",
          "name": "stdout",
          "text": [
            "Batch 100 | Loss: 0.0489 | Learning rate:  0.000011\n"
          ]
        },
        {
          "output_type": "stream",
          "name": "stderr",
          "text": [
            "Start training the model for one epoch...:  81%|████████  | 120/148 [00:51<00:11,  2.37it/s]"
          ]
        },
        {
          "output_type": "stream",
          "name": "stdout",
          "text": [
            "Batch 120 | Loss: 0.0325 | Learning rate:  0.000011\n"
          ]
        },
        {
          "output_type": "stream",
          "name": "stderr",
          "text": [
            "Start training the model for one epoch...:  95%|█████████▍| 140/148 [01:00<00:03,  2.38it/s]"
          ]
        },
        {
          "output_type": "stream",
          "name": "stdout",
          "text": [
            "Batch 140 | Loss: 0.0249 | Learning rate:  0.000011\n"
          ]
        },
        {
          "output_type": "stream",
          "name": "stderr",
          "text": [
            "Start training the model for one epoch...: 100%|██████████| 148/148 [01:03<00:00,  2.33it/s]\n",
            "954it [02:07,  7.49it/s]\n"
          ]
        },
        {
          "output_type": "stream",
          "name": "stdout",
          "text": [
            "Epoch: 99, train loss: 0.04764659029456812, val_loss: 0.46263291918725336, val_dice: 0.12555605130304787, val_IoU: 0.11158257955214076\n"
          ]
        },
        {
          "output_type": "stream",
          "name": "stderr",
          "text": [
            "Start training the model for one epoch...:  14%|█▎        | 20/148 [00:09<00:53,  2.38it/s]"
          ]
        },
        {
          "output_type": "stream",
          "name": "stdout",
          "text": [
            "Batch 20 | Loss: 0.0482 | Learning rate:  0.000011\n"
          ]
        },
        {
          "output_type": "stream",
          "name": "stderr",
          "text": [
            "Start training the model for one epoch...:  27%|██▋       | 40/148 [00:18<00:45,  2.38it/s]"
          ]
        },
        {
          "output_type": "stream",
          "name": "stdout",
          "text": [
            "Batch 40 | Loss: 0.2735 | Learning rate:  0.000011\n"
          ]
        },
        {
          "output_type": "stream",
          "name": "stderr",
          "text": [
            "Start training the model for one epoch...:  41%|████      | 60/148 [00:26<00:37,  2.38it/s]"
          ]
        },
        {
          "output_type": "stream",
          "name": "stdout",
          "text": [
            "Batch 60 | Loss: 0.0716 | Learning rate:  0.000011\n"
          ]
        },
        {
          "output_type": "stream",
          "name": "stderr",
          "text": [
            "Start training the model for one epoch...:  54%|█████▍    | 80/148 [00:34<00:28,  2.36it/s]"
          ]
        },
        {
          "output_type": "stream",
          "name": "stdout",
          "text": [
            "Batch 80 | Loss: 0.0291 | Learning rate:  0.000011\n"
          ]
        },
        {
          "output_type": "stream",
          "name": "stderr",
          "text": [
            "Start training the model for one epoch...:  68%|██████▊   | 100/148 [00:43<00:20,  2.36it/s]"
          ]
        },
        {
          "output_type": "stream",
          "name": "stdout",
          "text": [
            "Batch 100 | Loss: 0.0370 | Learning rate:  0.000011\n"
          ]
        },
        {
          "output_type": "stream",
          "name": "stderr",
          "text": [
            "Start training the model for one epoch...:  81%|████████  | 120/148 [00:51<00:11,  2.38it/s]"
          ]
        },
        {
          "output_type": "stream",
          "name": "stdout",
          "text": [
            "Batch 120 | Loss: 0.0571 | Learning rate:  0.000011\n"
          ]
        },
        {
          "output_type": "stream",
          "name": "stderr",
          "text": [
            "Start training the model for one epoch...:  95%|█████████▍| 140/148 [01:00<00:03,  2.39it/s]"
          ]
        },
        {
          "output_type": "stream",
          "name": "stdout",
          "text": [
            "Batch 140 | Loss: 0.0242 | Learning rate:  0.000011\n"
          ]
        },
        {
          "output_type": "stream",
          "name": "stderr",
          "text": [
            "Start training the model for one epoch...: 100%|██████████| 148/148 [01:03<00:00,  2.33it/s]\n",
            "954it [02:07,  7.49it/s]\n"
          ]
        },
        {
          "output_type": "stream",
          "name": "stdout",
          "text": [
            "Epoch: 100, train loss: 0.057328735151000926, val_loss: 0.4105185164173819, val_dice: 0.11539116138325266, val_IoU: 0.10271048887244351\n"
          ]
        },
        {
          "output_type": "stream",
          "name": "stderr",
          "text": [
            "Start training the model for one epoch...:  14%|█▎        | 20/148 [00:09<00:53,  2.38it/s]"
          ]
        },
        {
          "output_type": "stream",
          "name": "stdout",
          "text": [
            "Batch 20 | Loss: 0.3277 | Learning rate:  0.000011\n"
          ]
        },
        {
          "output_type": "stream",
          "name": "stderr",
          "text": [
            "Start training the model for one epoch...:  27%|██▋       | 40/148 [00:18<00:45,  2.37it/s]"
          ]
        },
        {
          "output_type": "stream",
          "name": "stdout",
          "text": [
            "Batch 40 | Loss: 0.0610 | Learning rate:  0.000011\n"
          ]
        },
        {
          "output_type": "stream",
          "name": "stderr",
          "text": [
            "Start training the model for one epoch...:  41%|████      | 60/148 [00:26<00:37,  2.37it/s]"
          ]
        },
        {
          "output_type": "stream",
          "name": "stdout",
          "text": [
            "Batch 60 | Loss: 0.0376 | Learning rate:  0.000011\n"
          ]
        },
        {
          "output_type": "stream",
          "name": "stderr",
          "text": [
            "Start training the model for one epoch...:  54%|█████▍    | 80/148 [00:34<00:28,  2.38it/s]"
          ]
        },
        {
          "output_type": "stream",
          "name": "stdout",
          "text": [
            "Batch 80 | Loss: 0.0894 | Learning rate:  0.000011\n"
          ]
        },
        {
          "output_type": "stream",
          "name": "stderr",
          "text": [
            "Start training the model for one epoch...:  68%|██████▊   | 100/148 [00:43<00:20,  2.37it/s]"
          ]
        },
        {
          "output_type": "stream",
          "name": "stdout",
          "text": [
            "Batch 100 | Loss: 0.0432 | Learning rate:  0.000011\n"
          ]
        },
        {
          "output_type": "stream",
          "name": "stderr",
          "text": [
            "Start training the model for one epoch...:  81%|████████  | 120/148 [00:51<00:11,  2.37it/s]"
          ]
        },
        {
          "output_type": "stream",
          "name": "stdout",
          "text": [
            "Batch 120 | Loss: 0.1039 | Learning rate:  0.000011\n"
          ]
        },
        {
          "output_type": "stream",
          "name": "stderr",
          "text": [
            "Start training the model for one epoch...:  95%|█████████▍| 140/148 [01:00<00:03,  2.38it/s]"
          ]
        },
        {
          "output_type": "stream",
          "name": "stdout",
          "text": [
            "Batch 140 | Loss: 0.0662 | Learning rate:  0.000011\n"
          ]
        },
        {
          "output_type": "stream",
          "name": "stderr",
          "text": [
            "Start training the model for one epoch...: 100%|██████████| 148/148 [01:03<00:00,  2.33it/s]\n",
            "954it [02:08,  7.45it/s]\n"
          ]
        },
        {
          "output_type": "stream",
          "name": "stdout",
          "text": [
            "Epoch: 101, train loss: 0.051548546519935935, val_loss: 0.4865043141861569, val_dice: 0.1063157001093526, val_IoU: 0.09524448191608618\n"
          ]
        },
        {
          "output_type": "stream",
          "name": "stderr",
          "text": [
            "Start training the model for one epoch...:  14%|█▎        | 20/148 [00:09<00:53,  2.38it/s]"
          ]
        },
        {
          "output_type": "stream",
          "name": "stdout",
          "text": [
            "Batch 20 | Loss: 0.0450 | Learning rate:  0.000011\n"
          ]
        },
        {
          "output_type": "stream",
          "name": "stderr",
          "text": [
            "Start training the model for one epoch...:  27%|██▋       | 40/148 [00:18<00:45,  2.37it/s]"
          ]
        },
        {
          "output_type": "stream",
          "name": "stdout",
          "text": [
            "Batch 40 | Loss: 0.0554 | Learning rate:  0.000011\n"
          ]
        },
        {
          "output_type": "stream",
          "name": "stderr",
          "text": [
            "Start training the model for one epoch...:  41%|████      | 60/148 [00:26<00:37,  2.37it/s]"
          ]
        },
        {
          "output_type": "stream",
          "name": "stdout",
          "text": [
            "Batch 60 | Loss: 0.0367 | Learning rate:  0.000011\n"
          ]
        },
        {
          "output_type": "stream",
          "name": "stderr",
          "text": [
            "Start training the model for one epoch...:  54%|█████▍    | 80/148 [00:34<00:28,  2.37it/s]"
          ]
        },
        {
          "output_type": "stream",
          "name": "stdout",
          "text": [
            "Batch 80 | Loss: 0.0442 | Learning rate:  0.000010\n"
          ]
        },
        {
          "output_type": "stream",
          "name": "stderr",
          "text": [
            "Start training the model for one epoch...:  68%|██████▊   | 100/148 [00:43<00:20,  2.37it/s]"
          ]
        },
        {
          "output_type": "stream",
          "name": "stdout",
          "text": [
            "Batch 100 | Loss: 0.0354 | Learning rate:  0.000010\n"
          ]
        },
        {
          "output_type": "stream",
          "name": "stderr",
          "text": [
            "Start training the model for one epoch...:  81%|████████  | 120/148 [00:51<00:11,  2.37it/s]"
          ]
        },
        {
          "output_type": "stream",
          "name": "stdout",
          "text": [
            "Batch 120 | Loss: 0.0567 | Learning rate:  0.000010\n"
          ]
        },
        {
          "output_type": "stream",
          "name": "stderr",
          "text": [
            "Start training the model for one epoch...:  95%|█████████▍| 140/148 [01:00<00:03,  2.39it/s]"
          ]
        },
        {
          "output_type": "stream",
          "name": "stdout",
          "text": [
            "Batch 140 | Loss: 0.0398 | Learning rate:  0.000010\n"
          ]
        },
        {
          "output_type": "stream",
          "name": "stderr",
          "text": [
            "Start training the model for one epoch...: 100%|██████████| 148/148 [01:03<00:00,  2.33it/s]\n",
            "954it [02:07,  7.48it/s]\n"
          ]
        },
        {
          "output_type": "stream",
          "name": "stdout",
          "text": [
            "Epoch: 102, train loss: 0.044273198582232, val_loss: 0.45798225916797136, val_dice: 0.11723452581892105, val_IoU: 0.10472479641765443\n"
          ]
        },
        {
          "output_type": "stream",
          "name": "stderr",
          "text": [
            "Start training the model for one epoch...:  14%|█▎        | 20/148 [00:09<00:53,  2.37it/s]"
          ]
        },
        {
          "output_type": "stream",
          "name": "stdout",
          "text": [
            "Batch 20 | Loss: 0.0438 | Learning rate:  0.000010\n"
          ]
        },
        {
          "output_type": "stream",
          "name": "stderr",
          "text": [
            "Start training the model for one epoch...:  27%|██▋       | 40/148 [00:18<00:45,  2.37it/s]"
          ]
        },
        {
          "output_type": "stream",
          "name": "stdout",
          "text": [
            "Batch 40 | Loss: 0.0431 | Learning rate:  0.000010\n"
          ]
        },
        {
          "output_type": "stream",
          "name": "stderr",
          "text": [
            "Start training the model for one epoch...:  41%|████      | 60/148 [00:26<00:37,  2.37it/s]"
          ]
        },
        {
          "output_type": "stream",
          "name": "stdout",
          "text": [
            "Batch 60 | Loss: 0.0494 | Learning rate:  0.000010\n"
          ]
        },
        {
          "output_type": "stream",
          "name": "stderr",
          "text": [
            "Start training the model for one epoch...:  54%|█████▍    | 80/148 [00:34<00:28,  2.36it/s]"
          ]
        },
        {
          "output_type": "stream",
          "name": "stdout",
          "text": [
            "Batch 80 | Loss: 0.0236 | Learning rate:  0.000010\n"
          ]
        },
        {
          "output_type": "stream",
          "name": "stderr",
          "text": [
            "Start training the model for one epoch...:  68%|██████▊   | 100/148 [00:43<00:20,  2.37it/s]"
          ]
        },
        {
          "output_type": "stream",
          "name": "stdout",
          "text": [
            "Batch 100 | Loss: 0.0560 | Learning rate:  0.000010\n"
          ]
        },
        {
          "output_type": "stream",
          "name": "stderr",
          "text": [
            "Start training the model for one epoch...:  81%|████████  | 120/148 [00:51<00:11,  2.37it/s]"
          ]
        },
        {
          "output_type": "stream",
          "name": "stdout",
          "text": [
            "Batch 120 | Loss: 0.0670 | Learning rate:  0.000010\n"
          ]
        },
        {
          "output_type": "stream",
          "name": "stderr",
          "text": [
            "Start training the model for one epoch...:  95%|█████████▍| 140/148 [01:00<00:03,  2.38it/s]"
          ]
        },
        {
          "output_type": "stream",
          "name": "stdout",
          "text": [
            "Batch 140 | Loss: 0.0237 | Learning rate:  0.000010\n"
          ]
        },
        {
          "output_type": "stream",
          "name": "stderr",
          "text": [
            "Start training the model for one epoch...: 100%|██████████| 148/148 [01:03<00:00,  2.33it/s]\n",
            "954it [02:07,  7.49it/s]\n"
          ]
        },
        {
          "output_type": "stream",
          "name": "stdout",
          "text": [
            "Epoch: 103, train loss: 0.04434864108475882, val_loss: 0.39091752266483987, val_dice: 0.15306909644533948, val_IoU: 0.13379209811288195\n"
          ]
        },
        {
          "output_type": "stream",
          "name": "stderr",
          "text": [
            "Start training the model for one epoch...:  14%|█▎        | 20/148 [00:09<00:53,  2.38it/s]"
          ]
        },
        {
          "output_type": "stream",
          "name": "stdout",
          "text": [
            "Batch 20 | Loss: 0.0324 | Learning rate:  0.000010\n"
          ]
        },
        {
          "output_type": "stream",
          "name": "stderr",
          "text": [
            "Start training the model for one epoch...:  27%|██▋       | 40/148 [00:18<00:45,  2.37it/s]"
          ]
        },
        {
          "output_type": "stream",
          "name": "stdout",
          "text": [
            "Batch 40 | Loss: 0.0235 | Learning rate:  0.000010\n"
          ]
        },
        {
          "output_type": "stream",
          "name": "stderr",
          "text": [
            "Start training the model for one epoch...:  41%|████      | 60/148 [00:26<00:37,  2.37it/s]"
          ]
        },
        {
          "output_type": "stream",
          "name": "stdout",
          "text": [
            "Batch 60 | Loss: 0.0492 | Learning rate:  0.000010\n"
          ]
        },
        {
          "output_type": "stream",
          "name": "stderr",
          "text": [
            "Start training the model for one epoch...:  54%|█████▍    | 80/148 [00:35<00:28,  2.37it/s]"
          ]
        },
        {
          "output_type": "stream",
          "name": "stdout",
          "text": [
            "Batch 80 | Loss: 0.0624 | Learning rate:  0.000010\n"
          ]
        },
        {
          "output_type": "stream",
          "name": "stderr",
          "text": [
            "Start training the model for one epoch...:  68%|██████▊   | 100/148 [00:43<00:20,  2.33it/s]"
          ]
        },
        {
          "output_type": "stream",
          "name": "stdout",
          "text": [
            "Batch 100 | Loss: 0.0561 | Learning rate:  0.000010\n"
          ]
        },
        {
          "output_type": "stream",
          "name": "stderr",
          "text": [
            "Start training the model for one epoch...:  81%|████████  | 120/148 [00:52<00:11,  2.37it/s]"
          ]
        },
        {
          "output_type": "stream",
          "name": "stdout",
          "text": [
            "Batch 120 | Loss: 0.0250 | Learning rate:  0.000010\n"
          ]
        },
        {
          "output_type": "stream",
          "name": "stderr",
          "text": [
            "Start training the model for one epoch...:  95%|█████████▍| 140/148 [01:00<00:03,  2.39it/s]"
          ]
        },
        {
          "output_type": "stream",
          "name": "stdout",
          "text": [
            "Batch 140 | Loss: 0.0719 | Learning rate:  0.000010\n"
          ]
        },
        {
          "output_type": "stream",
          "name": "stderr",
          "text": [
            "Start training the model for one epoch...: 100%|██████████| 148/148 [01:04<00:00,  2.31it/s]\n",
            "954it [02:07,  7.49it/s]\n"
          ]
        },
        {
          "output_type": "stream",
          "name": "stdout",
          "text": [
            "Epoch: 104, train loss: 0.04295460725631062, val_loss: 0.5000431445979785, val_dice: 0.08849745529286276, val_IoU: 0.07933390698554438\n"
          ]
        },
        {
          "output_type": "stream",
          "name": "stderr",
          "text": [
            "Start training the model for one epoch...:  14%|█▎        | 20/148 [00:09<00:53,  2.37it/s]"
          ]
        },
        {
          "output_type": "stream",
          "name": "stdout",
          "text": [
            "Batch 20 | Loss: 0.0876 | Learning rate:  0.000010\n"
          ]
        },
        {
          "output_type": "stream",
          "name": "stderr",
          "text": [
            "Start training the model for one epoch...:  27%|██▋       | 40/148 [00:18<00:45,  2.37it/s]"
          ]
        },
        {
          "output_type": "stream",
          "name": "stdout",
          "text": [
            "Batch 40 | Loss: 0.0286 | Learning rate:  0.000010\n"
          ]
        },
        {
          "output_type": "stream",
          "name": "stderr",
          "text": [
            "Start training the model for one epoch...:  41%|████      | 60/148 [00:26<00:36,  2.38it/s]"
          ]
        },
        {
          "output_type": "stream",
          "name": "stdout",
          "text": [
            "Batch 60 | Loss: 0.0690 | Learning rate:  0.000010\n"
          ]
        },
        {
          "output_type": "stream",
          "name": "stderr",
          "text": [
            "Start training the model for one epoch...:  54%|█████▍    | 80/148 [00:34<00:28,  2.37it/s]"
          ]
        },
        {
          "output_type": "stream",
          "name": "stdout",
          "text": [
            "Batch 80 | Loss: 0.0266 | Learning rate:  0.000010\n"
          ]
        },
        {
          "output_type": "stream",
          "name": "stderr",
          "text": [
            "Start training the model for one epoch...:  68%|██████▊   | 100/148 [00:43<00:20,  2.37it/s]"
          ]
        },
        {
          "output_type": "stream",
          "name": "stdout",
          "text": [
            "Batch 100 | Loss: 0.2309 | Learning rate:  0.000010\n"
          ]
        },
        {
          "output_type": "stream",
          "name": "stderr",
          "text": [
            "Start training the model for one epoch...:  81%|████████  | 120/148 [00:51<00:11,  2.37it/s]"
          ]
        },
        {
          "output_type": "stream",
          "name": "stdout",
          "text": [
            "Batch 120 | Loss: 0.2457 | Learning rate:  0.000010\n"
          ]
        },
        {
          "output_type": "stream",
          "name": "stderr",
          "text": [
            "Start training the model for one epoch...:  95%|█████████▍| 140/148 [01:00<00:03,  2.39it/s]"
          ]
        },
        {
          "output_type": "stream",
          "name": "stdout",
          "text": [
            "Batch 140 | Loss: 0.2393 | Learning rate:  0.000010\n"
          ]
        },
        {
          "output_type": "stream",
          "name": "stderr",
          "text": [
            "Start training the model for one epoch...: 100%|██████████| 148/148 [01:03<00:00,  2.33it/s]\n",
            "954it [02:07,  7.50it/s]\n"
          ]
        },
        {
          "output_type": "stream",
          "name": "stdout",
          "text": [
            "Epoch: 105, train loss: 0.06052034450191501, val_loss: 0.40464246948005583, val_dice: 0.1423447722669281, val_IoU: 0.1258565072238303\n"
          ]
        },
        {
          "output_type": "stream",
          "name": "stderr",
          "text": [
            "Start training the model for one epoch...:  14%|█▎        | 20/148 [00:09<00:53,  2.37it/s]"
          ]
        },
        {
          "output_type": "stream",
          "name": "stdout",
          "text": [
            "Batch 20 | Loss: 0.0569 | Learning rate:  0.000010\n"
          ]
        },
        {
          "output_type": "stream",
          "name": "stderr",
          "text": [
            "Start training the model for one epoch...:  27%|██▋       | 40/148 [00:18<00:45,  2.37it/s]"
          ]
        },
        {
          "output_type": "stream",
          "name": "stdout",
          "text": [
            "Batch 40 | Loss: 0.0438 | Learning rate:  0.000010\n"
          ]
        },
        {
          "output_type": "stream",
          "name": "stderr",
          "text": [
            "Start training the model for one epoch...:  41%|████      | 60/148 [00:26<00:37,  2.37it/s]"
          ]
        },
        {
          "output_type": "stream",
          "name": "stdout",
          "text": [
            "Batch 60 | Loss: 0.0536 | Learning rate:  0.000010\n"
          ]
        },
        {
          "output_type": "stream",
          "name": "stderr",
          "text": [
            "Start training the model for one epoch...:  54%|█████▍    | 80/148 [00:34<00:28,  2.37it/s]"
          ]
        },
        {
          "output_type": "stream",
          "name": "stdout",
          "text": [
            "Batch 80 | Loss: 0.0345 | Learning rate:  0.000010\n"
          ]
        },
        {
          "output_type": "stream",
          "name": "stderr",
          "text": [
            "Start training the model for one epoch...:  68%|██████▊   | 100/148 [00:43<00:20,  2.37it/s]"
          ]
        },
        {
          "output_type": "stream",
          "name": "stdout",
          "text": [
            "Batch 100 | Loss: 0.0475 | Learning rate:  0.000010\n"
          ]
        },
        {
          "output_type": "stream",
          "name": "stderr",
          "text": [
            "Start training the model for one epoch...:  81%|████████  | 120/148 [00:51<00:11,  2.37it/s]"
          ]
        },
        {
          "output_type": "stream",
          "name": "stdout",
          "text": [
            "Batch 120 | Loss: 0.0654 | Learning rate:  0.000010\n"
          ]
        },
        {
          "output_type": "stream",
          "name": "stderr",
          "text": [
            "Start training the model for one epoch...:  95%|█████████▍| 140/148 [01:00<00:03,  2.39it/s]"
          ]
        },
        {
          "output_type": "stream",
          "name": "stdout",
          "text": [
            "Batch 140 | Loss: 0.0251 | Learning rate:  0.000010\n"
          ]
        },
        {
          "output_type": "stream",
          "name": "stderr",
          "text": [
            "Start training the model for one epoch...: 100%|██████████| 148/148 [01:03<00:00,  2.33it/s]\n",
            "954it [02:07,  7.49it/s]\n"
          ]
        },
        {
          "output_type": "stream",
          "name": "stdout",
          "text": [
            "Epoch: 106, train loss: 0.04296083093268444, val_loss: 0.4395039321803947, val_dice: 0.14256367760239677, val_IoU: 0.1263691303127248\n"
          ]
        },
        {
          "output_type": "stream",
          "name": "stderr",
          "text": [
            "Start training the model for one epoch...:  14%|█▎        | 20/148 [00:10<01:01,  2.09it/s]"
          ]
        },
        {
          "output_type": "stream",
          "name": "stdout",
          "text": [
            "Batch 20 | Loss: 0.0471 | Learning rate:  0.000010\n"
          ]
        },
        {
          "output_type": "stream",
          "name": "stderr",
          "text": [
            "Start training the model for one epoch...:  27%|██▋       | 40/148 [00:18<00:45,  2.38it/s]"
          ]
        },
        {
          "output_type": "stream",
          "name": "stdout",
          "text": [
            "Batch 40 | Loss: 0.0353 | Learning rate:  0.000010\n"
          ]
        },
        {
          "output_type": "stream",
          "name": "stderr",
          "text": [
            "Start training the model for one epoch...:  41%|████      | 60/148 [00:27<00:37,  2.37it/s]"
          ]
        },
        {
          "output_type": "stream",
          "name": "stdout",
          "text": [
            "Batch 60 | Loss: 0.0544 | Learning rate:  0.000010\n"
          ]
        },
        {
          "output_type": "stream",
          "name": "stderr",
          "text": [
            "Start training the model for one epoch...:  54%|█████▍    | 80/148 [00:35<00:28,  2.37it/s]"
          ]
        },
        {
          "output_type": "stream",
          "name": "stdout",
          "text": [
            "Batch 80 | Loss: 0.0282 | Learning rate:  0.000010\n"
          ]
        },
        {
          "output_type": "stream",
          "name": "stderr",
          "text": [
            "Start training the model for one epoch...:  68%|██████▊   | 100/148 [00:44<00:20,  2.37it/s]"
          ]
        },
        {
          "output_type": "stream",
          "name": "stdout",
          "text": [
            "Batch 100 | Loss: 0.0298 | Learning rate:  0.000010\n"
          ]
        },
        {
          "output_type": "stream",
          "name": "stderr",
          "text": [
            "Start training the model for one epoch...:  81%|████████  | 120/148 [00:52<00:11,  2.37it/s]"
          ]
        },
        {
          "output_type": "stream",
          "name": "stdout",
          "text": [
            "Batch 120 | Loss: 0.0551 | Learning rate:  0.000010\n"
          ]
        },
        {
          "output_type": "stream",
          "name": "stderr",
          "text": [
            "Start training the model for one epoch...:  95%|█████████▍| 140/148 [01:00<00:03,  2.38it/s]"
          ]
        },
        {
          "output_type": "stream",
          "name": "stdout",
          "text": [
            "Batch 140 | Loss: 0.0597 | Learning rate:  0.000010\n"
          ]
        },
        {
          "output_type": "stream",
          "name": "stderr",
          "text": [
            "Start training the model for one epoch...: 100%|██████████| 148/148 [01:04<00:00,  2.30it/s]\n",
            "954it [02:07,  7.50it/s]\n"
          ]
        },
        {
          "output_type": "stream",
          "name": "stdout",
          "text": [
            "Epoch: 107, train loss: 0.043764619238523615, val_loss: 0.42871579916003616, val_dice: 0.11171767118500586, val_IoU: 0.09922798565625292\n"
          ]
        },
        {
          "output_type": "stream",
          "name": "stderr",
          "text": [
            "Start training the model for one epoch...:  14%|█▎        | 20/148 [00:09<00:54,  2.37it/s]"
          ]
        },
        {
          "output_type": "stream",
          "name": "stdout",
          "text": [
            "Batch 20 | Loss: 0.0441 | Learning rate:  0.000010\n"
          ]
        },
        {
          "output_type": "stream",
          "name": "stderr",
          "text": [
            "Start training the model for one epoch...:  27%|██▋       | 40/148 [00:18<00:45,  2.37it/s]"
          ]
        },
        {
          "output_type": "stream",
          "name": "stdout",
          "text": [
            "Batch 40 | Loss: 0.0322 | Learning rate:  0.000010\n"
          ]
        },
        {
          "output_type": "stream",
          "name": "stderr",
          "text": [
            "Start training the model for one epoch...:  41%|████      | 60/148 [00:26<00:37,  2.37it/s]"
          ]
        },
        {
          "output_type": "stream",
          "name": "stdout",
          "text": [
            "Batch 60 | Loss: 0.0970 | Learning rate:  0.000010\n"
          ]
        },
        {
          "output_type": "stream",
          "name": "stderr",
          "text": [
            "Start training the model for one epoch...:  54%|█████▍    | 80/148 [00:34<00:28,  2.37it/s]"
          ]
        },
        {
          "output_type": "stream",
          "name": "stdout",
          "text": [
            "Batch 80 | Loss: 0.0425 | Learning rate:  0.000010\n"
          ]
        },
        {
          "output_type": "stream",
          "name": "stderr",
          "text": [
            "Start training the model for one epoch...:  68%|██████▊   | 100/148 [00:43<00:20,  2.37it/s]"
          ]
        },
        {
          "output_type": "stream",
          "name": "stdout",
          "text": [
            "Batch 100 | Loss: 0.0689 | Learning rate:  0.000010\n"
          ]
        },
        {
          "output_type": "stream",
          "name": "stderr",
          "text": [
            "Start training the model for one epoch...:  81%|████████  | 120/148 [00:51<00:11,  2.37it/s]"
          ]
        },
        {
          "output_type": "stream",
          "name": "stdout",
          "text": [
            "Batch 120 | Loss: 0.0358 | Learning rate:  0.000010\n"
          ]
        },
        {
          "output_type": "stream",
          "name": "stderr",
          "text": [
            "Start training the model for one epoch...:  95%|█████████▍| 140/148 [01:00<00:03,  2.38it/s]"
          ]
        },
        {
          "output_type": "stream",
          "name": "stdout",
          "text": [
            "Batch 140 | Loss: 0.0440 | Learning rate:  0.000010\n"
          ]
        },
        {
          "output_type": "stream",
          "name": "stderr",
          "text": [
            "Start training the model for one epoch...: 100%|██████████| 148/148 [01:03<00:00,  2.33it/s]\n",
            "954it [02:07,  7.49it/s]\n"
          ]
        },
        {
          "output_type": "stream",
          "name": "stdout",
          "text": [
            "Epoch: 108, train loss: 0.043857042149112034, val_loss: 0.5086729165959315, val_dice: 0.1378215402427137, val_IoU: 0.12229170142548376\n"
          ]
        },
        {
          "output_type": "stream",
          "name": "stderr",
          "text": [
            "Start training the model for one epoch...:  14%|█▎        | 20/148 [00:09<00:53,  2.38it/s]"
          ]
        },
        {
          "output_type": "stream",
          "name": "stdout",
          "text": [
            "Batch 20 | Loss: 0.0340 | Learning rate:  0.000009\n"
          ]
        },
        {
          "output_type": "stream",
          "name": "stderr",
          "text": [
            "Start training the model for one epoch...:  27%|██▋       | 40/148 [00:18<00:45,  2.37it/s]"
          ]
        },
        {
          "output_type": "stream",
          "name": "stdout",
          "text": [
            "Batch 40 | Loss: 0.0437 | Learning rate:  0.000009\n"
          ]
        },
        {
          "output_type": "stream",
          "name": "stderr",
          "text": [
            "Start training the model for one epoch...:  41%|████      | 60/148 [00:26<00:37,  2.37it/s]"
          ]
        },
        {
          "output_type": "stream",
          "name": "stdout",
          "text": [
            "Batch 60 | Loss: 0.0340 | Learning rate:  0.000009\n"
          ]
        },
        {
          "output_type": "stream",
          "name": "stderr",
          "text": [
            "Start training the model for one epoch...:  54%|█████▍    | 80/148 [00:35<00:28,  2.37it/s]"
          ]
        },
        {
          "output_type": "stream",
          "name": "stdout",
          "text": [
            "Batch 80 | Loss: 0.0583 | Learning rate:  0.000009\n"
          ]
        },
        {
          "output_type": "stream",
          "name": "stderr",
          "text": [
            "Start training the model for one epoch...:  68%|██████▊   | 100/148 [00:43<00:20,  2.37it/s]"
          ]
        },
        {
          "output_type": "stream",
          "name": "stdout",
          "text": [
            "Batch 100 | Loss: 0.0392 | Learning rate:  0.000009\n"
          ]
        },
        {
          "output_type": "stream",
          "name": "stderr",
          "text": [
            "Start training the model for one epoch...:  81%|████████  | 120/148 [00:51<00:11,  2.37it/s]"
          ]
        },
        {
          "output_type": "stream",
          "name": "stdout",
          "text": [
            "Batch 120 | Loss: 0.0351 | Learning rate:  0.000009\n"
          ]
        },
        {
          "output_type": "stream",
          "name": "stderr",
          "text": [
            "Start training the model for one epoch...:  95%|█████████▍| 140/148 [01:00<00:03,  2.38it/s]"
          ]
        },
        {
          "output_type": "stream",
          "name": "stdout",
          "text": [
            "Batch 140 | Loss: 0.0416 | Learning rate:  0.000009\n"
          ]
        },
        {
          "output_type": "stream",
          "name": "stderr",
          "text": [
            "Start training the model for one epoch...: 100%|██████████| 148/148 [01:04<00:00,  2.31it/s]\n",
            "954it [02:07,  7.48it/s]\n"
          ]
        },
        {
          "output_type": "stream",
          "name": "stdout",
          "text": [
            "Epoch: 109, train loss: 0.04445527979751696, val_loss: 0.4472511432346433, val_dice: 0.10713509621546911, val_IoU: 0.09539158165780687\n"
          ]
        },
        {
          "output_type": "stream",
          "name": "stderr",
          "text": [
            "Start training the model for one epoch...:  14%|█▎        | 20/148 [00:09<00:54,  2.35it/s]"
          ]
        },
        {
          "output_type": "stream",
          "name": "stdout",
          "text": [
            "Batch 20 | Loss: 0.0857 | Learning rate:  0.000009\n"
          ]
        },
        {
          "output_type": "stream",
          "name": "stderr",
          "text": [
            "Start training the model for one epoch...:  27%|██▋       | 40/148 [00:18<00:45,  2.37it/s]"
          ]
        },
        {
          "output_type": "stream",
          "name": "stdout",
          "text": [
            "Batch 40 | Loss: 0.0330 | Learning rate:  0.000009\n"
          ]
        },
        {
          "output_type": "stream",
          "name": "stderr",
          "text": [
            "Start training the model for one epoch...:  41%|████      | 60/148 [00:26<00:37,  2.37it/s]"
          ]
        },
        {
          "output_type": "stream",
          "name": "stdout",
          "text": [
            "Batch 60 | Loss: 0.0664 | Learning rate:  0.000009\n"
          ]
        },
        {
          "output_type": "stream",
          "name": "stderr",
          "text": [
            "Start training the model for one epoch...:  54%|█████▍    | 80/148 [00:35<00:28,  2.37it/s]"
          ]
        },
        {
          "output_type": "stream",
          "name": "stdout",
          "text": [
            "Batch 80 | Loss: 0.0138 | Learning rate:  0.000009\n"
          ]
        },
        {
          "output_type": "stream",
          "name": "stderr",
          "text": [
            "Start training the model for one epoch...:  68%|██████▊   | 100/148 [00:43<00:20,  2.36it/s]"
          ]
        },
        {
          "output_type": "stream",
          "name": "stdout",
          "text": [
            "Batch 100 | Loss: 0.0313 | Learning rate:  0.000009\n"
          ]
        },
        {
          "output_type": "stream",
          "name": "stderr",
          "text": [
            "Start training the model for one epoch...:  81%|████████  | 120/148 [00:51<00:11,  2.37it/s]"
          ]
        },
        {
          "output_type": "stream",
          "name": "stdout",
          "text": [
            "Batch 120 | Loss: 0.0371 | Learning rate:  0.000009\n"
          ]
        },
        {
          "output_type": "stream",
          "name": "stderr",
          "text": [
            "Start training the model for one epoch...:  95%|█████████▍| 140/148 [01:00<00:03,  2.39it/s]"
          ]
        },
        {
          "output_type": "stream",
          "name": "stdout",
          "text": [
            "Batch 140 | Loss: 0.0353 | Learning rate:  0.000009\n"
          ]
        },
        {
          "output_type": "stream",
          "name": "stderr",
          "text": [
            "Start training the model for one epoch...: 100%|██████████| 148/148 [01:03<00:00,  2.33it/s]\n",
            "954it [02:07,  7.48it/s]\n"
          ]
        },
        {
          "output_type": "stream",
          "name": "stdout",
          "text": [
            "Epoch: 110, train loss: 0.04386442569336174, val_loss: 0.46664876681000805, val_dice: 0.13146090918660228, val_IoU: 0.11631923733777418\n"
          ]
        },
        {
          "output_type": "stream",
          "name": "stderr",
          "text": [
            "Start training the model for one epoch...:  14%|█▎        | 20/148 [00:09<00:53,  2.37it/s]"
          ]
        },
        {
          "output_type": "stream",
          "name": "stdout",
          "text": [
            "Batch 20 | Loss: 0.0163 | Learning rate:  0.000009\n"
          ]
        },
        {
          "output_type": "stream",
          "name": "stderr",
          "text": [
            "Start training the model for one epoch...:  27%|██▋       | 40/148 [00:18<00:45,  2.37it/s]"
          ]
        },
        {
          "output_type": "stream",
          "name": "stdout",
          "text": [
            "Batch 40 | Loss: 0.0443 | Learning rate:  0.000009\n"
          ]
        },
        {
          "output_type": "stream",
          "name": "stderr",
          "text": [
            "Start training the model for one epoch...:  41%|████      | 60/148 [00:26<00:37,  2.37it/s]"
          ]
        },
        {
          "output_type": "stream",
          "name": "stdout",
          "text": [
            "Batch 60 | Loss: 0.0378 | Learning rate:  0.000009\n"
          ]
        },
        {
          "output_type": "stream",
          "name": "stderr",
          "text": [
            "Start training the model for one epoch...:  54%|█████▍    | 80/148 [00:34<00:28,  2.38it/s]"
          ]
        },
        {
          "output_type": "stream",
          "name": "stdout",
          "text": [
            "Batch 80 | Loss: 0.0404 | Learning rate:  0.000009\n"
          ]
        },
        {
          "output_type": "stream",
          "name": "stderr",
          "text": [
            "Start training the model for one epoch...:  68%|██████▊   | 100/148 [00:43<00:20,  2.37it/s]"
          ]
        },
        {
          "output_type": "stream",
          "name": "stdout",
          "text": [
            "Batch 100 | Loss: 0.0252 | Learning rate:  0.000009\n"
          ]
        },
        {
          "output_type": "stream",
          "name": "stderr",
          "text": [
            "Start training the model for one epoch...:  81%|████████  | 120/148 [00:51<00:11,  2.36it/s]"
          ]
        },
        {
          "output_type": "stream",
          "name": "stdout",
          "text": [
            "Batch 120 | Loss: 0.0512 | Learning rate:  0.000009\n"
          ]
        },
        {
          "output_type": "stream",
          "name": "stderr",
          "text": [
            "Start training the model for one epoch...:  95%|█████████▍| 140/148 [01:00<00:03,  2.39it/s]"
          ]
        },
        {
          "output_type": "stream",
          "name": "stdout",
          "text": [
            "Batch 140 | Loss: 0.1129 | Learning rate:  0.000009\n"
          ]
        },
        {
          "output_type": "stream",
          "name": "stderr",
          "text": [
            "Start training the model for one epoch...: 100%|██████████| 148/148 [01:04<00:00,  2.31it/s]\n",
            "954it [02:07,  7.48it/s]\n"
          ]
        },
        {
          "output_type": "stream",
          "name": "stdout",
          "text": [
            "Epoch: 111, train loss: 0.04366765769727125, val_loss: 0.4671456170633467, val_dice: 0.10682475032346028, val_IoU: 0.0950464206951921\n"
          ]
        },
        {
          "output_type": "stream",
          "name": "stderr",
          "text": [
            "Start training the model for one epoch...:  14%|█▎        | 20/148 [00:09<00:54,  2.37it/s]"
          ]
        },
        {
          "output_type": "stream",
          "name": "stdout",
          "text": [
            "Batch 20 | Loss: 0.0148 | Learning rate:  0.000009\n"
          ]
        },
        {
          "output_type": "stream",
          "name": "stderr",
          "text": [
            "Start training the model for one epoch...:  27%|██▋       | 40/148 [00:18<00:45,  2.37it/s]"
          ]
        },
        {
          "output_type": "stream",
          "name": "stdout",
          "text": [
            "Batch 40 | Loss: 0.0176 | Learning rate:  0.000009\n"
          ]
        },
        {
          "output_type": "stream",
          "name": "stderr",
          "text": [
            "Start training the model for one epoch...:  41%|████      | 60/148 [00:26<00:37,  2.37it/s]"
          ]
        },
        {
          "output_type": "stream",
          "name": "stdout",
          "text": [
            "Batch 60 | Loss: 0.0119 | Learning rate:  0.000009\n"
          ]
        },
        {
          "output_type": "stream",
          "name": "stderr",
          "text": [
            "Start training the model for one epoch...:  54%|█████▍    | 80/148 [00:35<00:28,  2.38it/s]"
          ]
        },
        {
          "output_type": "stream",
          "name": "stdout",
          "text": [
            "Batch 80 | Loss: 0.0499 | Learning rate:  0.000009\n"
          ]
        },
        {
          "output_type": "stream",
          "name": "stderr",
          "text": [
            "Start training the model for one epoch...:  68%|██████▊   | 100/148 [00:43<00:20,  2.37it/s]"
          ]
        },
        {
          "output_type": "stream",
          "name": "stdout",
          "text": [
            "Batch 100 | Loss: 0.0368 | Learning rate:  0.000009\n"
          ]
        },
        {
          "output_type": "stream",
          "name": "stderr",
          "text": [
            "Start training the model for one epoch...:  81%|████████  | 120/148 [00:51<00:11,  2.37it/s]"
          ]
        },
        {
          "output_type": "stream",
          "name": "stdout",
          "text": [
            "Batch 120 | Loss: 0.0353 | Learning rate:  0.000009\n"
          ]
        },
        {
          "output_type": "stream",
          "name": "stderr",
          "text": [
            "Start training the model for one epoch...:  95%|█████████▍| 140/148 [01:00<00:03,  2.39it/s]"
          ]
        },
        {
          "output_type": "stream",
          "name": "stdout",
          "text": [
            "Batch 140 | Loss: 0.0304 | Learning rate:  0.000009\n"
          ]
        },
        {
          "output_type": "stream",
          "name": "stderr",
          "text": [
            "Start training the model for one epoch...: 100%|██████████| 148/148 [01:03<00:00,  2.33it/s]\n",
            "954it [02:07,  7.48it/s]\n"
          ]
        },
        {
          "output_type": "stream",
          "name": "stdout",
          "text": [
            "Epoch: 112, train loss: 0.04130615224130452, val_loss: 0.4739894714378273, val_dice: 0.1615426706567143, val_IoU: 0.14297081249237614\n"
          ]
        },
        {
          "output_type": "stream",
          "name": "stderr",
          "text": [
            "Start training the model for one epoch...:  14%|█▎        | 20/148 [00:09<00:53,  2.37it/s]"
          ]
        },
        {
          "output_type": "stream",
          "name": "stdout",
          "text": [
            "Batch 20 | Loss: 0.0346 | Learning rate:  0.000009\n"
          ]
        },
        {
          "output_type": "stream",
          "name": "stderr",
          "text": [
            "Start training the model for one epoch...:  27%|██▋       | 40/148 [00:18<00:45,  2.36it/s]"
          ]
        },
        {
          "output_type": "stream",
          "name": "stdout",
          "text": [
            "Batch 40 | Loss: 0.0378 | Learning rate:  0.000009\n"
          ]
        },
        {
          "output_type": "stream",
          "name": "stderr",
          "text": [
            "Start training the model for one epoch...:  41%|████      | 60/148 [00:26<00:37,  2.37it/s]"
          ]
        },
        {
          "output_type": "stream",
          "name": "stdout",
          "text": [
            "Batch 60 | Loss: 0.0214 | Learning rate:  0.000009\n"
          ]
        },
        {
          "output_type": "stream",
          "name": "stderr",
          "text": [
            "Start training the model for one epoch...:  54%|█████▍    | 80/148 [00:35<00:28,  2.37it/s]"
          ]
        },
        {
          "output_type": "stream",
          "name": "stdout",
          "text": [
            "Batch 80 | Loss: 0.0235 | Learning rate:  0.000009\n"
          ]
        },
        {
          "output_type": "stream",
          "name": "stderr",
          "text": [
            "Start training the model for one epoch...:  68%|██████▊   | 100/148 [00:43<00:20,  2.37it/s]"
          ]
        },
        {
          "output_type": "stream",
          "name": "stdout",
          "text": [
            "Batch 100 | Loss: 0.0138 | Learning rate:  0.000009\n"
          ]
        },
        {
          "output_type": "stream",
          "name": "stderr",
          "text": [
            "Start training the model for one epoch...:  81%|████████  | 120/148 [00:51<00:11,  2.36it/s]"
          ]
        },
        {
          "output_type": "stream",
          "name": "stdout",
          "text": [
            "Batch 120 | Loss: 0.0533 | Learning rate:  0.000009\n"
          ]
        },
        {
          "output_type": "stream",
          "name": "stderr",
          "text": [
            "Start training the model for one epoch...:  95%|█████████▍| 140/148 [01:00<00:03,  2.39it/s]"
          ]
        },
        {
          "output_type": "stream",
          "name": "stdout",
          "text": [
            "Batch 140 | Loss: 0.0424 | Learning rate:  0.000009\n"
          ]
        },
        {
          "output_type": "stream",
          "name": "stderr",
          "text": [
            "Start training the model for one epoch...: 100%|██████████| 148/148 [01:03<00:00,  2.33it/s]\n",
            "954it [02:07,  7.49it/s]\n"
          ]
        },
        {
          "output_type": "stream",
          "name": "stdout",
          "text": [
            "Epoch: 113, train loss: 0.042871422518195736, val_loss: 0.4384511389634894, val_dice: 0.16929544199572932, val_IoU: 0.1491040011495197\n"
          ]
        },
        {
          "output_type": "stream",
          "name": "stderr",
          "text": [
            "Start training the model for one epoch...:  14%|█▎        | 20/148 [00:09<00:53,  2.37it/s]"
          ]
        },
        {
          "output_type": "stream",
          "name": "stdout",
          "text": [
            "Batch 20 | Loss: 0.2027 | Learning rate:  0.000009\n"
          ]
        },
        {
          "output_type": "stream",
          "name": "stderr",
          "text": [
            "Start training the model for one epoch...:  27%|██▋       | 40/148 [00:18<00:45,  2.36it/s]"
          ]
        },
        {
          "output_type": "stream",
          "name": "stdout",
          "text": [
            "Batch 40 | Loss: 0.0489 | Learning rate:  0.000009\n"
          ]
        },
        {
          "output_type": "stream",
          "name": "stderr",
          "text": [
            "Start training the model for one epoch...:  41%|████      | 60/148 [00:26<00:43,  2.03it/s]"
          ]
        },
        {
          "output_type": "stream",
          "name": "stdout",
          "text": [
            "Batch 60 | Loss: 0.0512 | Learning rate:  0.000009\n"
          ]
        },
        {
          "output_type": "stream",
          "name": "stderr",
          "text": [
            "Start training the model for one epoch...:  54%|█████▍    | 80/148 [00:35<00:28,  2.37it/s]"
          ]
        },
        {
          "output_type": "stream",
          "name": "stdout",
          "text": [
            "Batch 80 | Loss: 0.0212 | Learning rate:  0.000009\n"
          ]
        },
        {
          "output_type": "stream",
          "name": "stderr",
          "text": [
            "Start training the model for one epoch...:  68%|██████▊   | 100/148 [00:43<00:20,  2.37it/s]"
          ]
        },
        {
          "output_type": "stream",
          "name": "stdout",
          "text": [
            "Batch 100 | Loss: 0.0257 | Learning rate:  0.000009\n"
          ]
        },
        {
          "output_type": "stream",
          "name": "stderr",
          "text": [
            "Start training the model for one epoch...:  81%|████████  | 120/148 [00:52<00:11,  2.37it/s]"
          ]
        },
        {
          "output_type": "stream",
          "name": "stdout",
          "text": [
            "Batch 120 | Loss: 0.0480 | Learning rate:  0.000009\n"
          ]
        },
        {
          "output_type": "stream",
          "name": "stderr",
          "text": [
            "Start training the model for one epoch...:  95%|█████████▍| 140/148 [01:00<00:03,  2.39it/s]"
          ]
        },
        {
          "output_type": "stream",
          "name": "stdout",
          "text": [
            "Batch 140 | Loss: 0.0196 | Learning rate:  0.000009\n"
          ]
        },
        {
          "output_type": "stream",
          "name": "stderr",
          "text": [
            "Start training the model for one epoch...: 100%|██████████| 148/148 [01:03<00:00,  2.31it/s]\n",
            "954it [02:07,  7.48it/s]\n"
          ]
        },
        {
          "output_type": "stream",
          "name": "stdout",
          "text": [
            "Epoch: 114, train loss: 0.05466989098066414, val_loss: 0.5022450903473535, val_dice: 0.14467932685213986, val_IoU: 0.12742937234130058\n"
          ]
        },
        {
          "output_type": "stream",
          "name": "stderr",
          "text": [
            "Start training the model for one epoch...:  14%|█▎        | 20/148 [00:09<00:53,  2.38it/s]"
          ]
        },
        {
          "output_type": "stream",
          "name": "stdout",
          "text": [
            "Batch 20 | Loss: 0.0234 | Learning rate:  0.000009\n"
          ]
        },
        {
          "output_type": "stream",
          "name": "stderr",
          "text": [
            "Start training the model for one epoch...:  27%|██▋       | 40/148 [00:18<00:45,  2.36it/s]"
          ]
        },
        {
          "output_type": "stream",
          "name": "stdout",
          "text": [
            "Batch 40 | Loss: 0.0270 | Learning rate:  0.000009\n"
          ]
        },
        {
          "output_type": "stream",
          "name": "stderr",
          "text": [
            "Start training the model for one epoch...:  41%|████      | 60/148 [00:26<00:37,  2.37it/s]"
          ]
        },
        {
          "output_type": "stream",
          "name": "stdout",
          "text": [
            "Batch 60 | Loss: 0.0481 | Learning rate:  0.000009\n"
          ]
        },
        {
          "output_type": "stream",
          "name": "stderr",
          "text": [
            "Start training the model for one epoch...:  54%|█████▍    | 80/148 [00:35<00:28,  2.38it/s]"
          ]
        },
        {
          "output_type": "stream",
          "name": "stdout",
          "text": [
            "Batch 80 | Loss: 0.0352 | Learning rate:  0.000009\n"
          ]
        },
        {
          "output_type": "stream",
          "name": "stderr",
          "text": [
            "Start training the model for one epoch...:  68%|██████▊   | 100/148 [00:43<00:20,  2.37it/s]"
          ]
        },
        {
          "output_type": "stream",
          "name": "stdout",
          "text": [
            "Batch 100 | Loss: 0.0340 | Learning rate:  0.000008\n"
          ]
        },
        {
          "output_type": "stream",
          "name": "stderr",
          "text": [
            "Start training the model for one epoch...:  81%|████████  | 120/148 [00:51<00:11,  2.37it/s]"
          ]
        },
        {
          "output_type": "stream",
          "name": "stdout",
          "text": [
            "Batch 120 | Loss: 0.0180 | Learning rate:  0.000008\n"
          ]
        },
        {
          "output_type": "stream",
          "name": "stderr",
          "text": [
            "Start training the model for one epoch...:  95%|█████████▍| 140/148 [01:00<00:03,  2.38it/s]"
          ]
        },
        {
          "output_type": "stream",
          "name": "stdout",
          "text": [
            "Batch 140 | Loss: 0.0196 | Learning rate:  0.000008\n"
          ]
        },
        {
          "output_type": "stream",
          "name": "stderr",
          "text": [
            "Start training the model for one epoch...: 100%|██████████| 148/148 [01:03<00:00,  2.33it/s]\n",
            "954it [02:07,  7.48it/s]\n"
          ]
        },
        {
          "output_type": "stream",
          "name": "stdout",
          "text": [
            "Epoch: 115, train loss: 0.042838027757416304, val_loss: 0.42898241035343465, val_dice: 0.14258666364058462, val_IoU: 0.12571624204806017\n"
          ]
        },
        {
          "output_type": "stream",
          "name": "stderr",
          "text": [
            "Start training the model for one epoch...:  14%|█▎        | 20/148 [00:09<00:54,  2.37it/s]"
          ]
        },
        {
          "output_type": "stream",
          "name": "stdout",
          "text": [
            "Batch 20 | Loss: 0.0432 | Learning rate:  0.000008\n"
          ]
        },
        {
          "output_type": "stream",
          "name": "stderr",
          "text": [
            "Start training the model for one epoch...:  27%|██▋       | 40/148 [00:18<00:45,  2.36it/s]"
          ]
        },
        {
          "output_type": "stream",
          "name": "stdout",
          "text": [
            "Batch 40 | Loss: 0.0464 | Learning rate:  0.000008\n"
          ]
        },
        {
          "output_type": "stream",
          "name": "stderr",
          "text": [
            "Start training the model for one epoch...:  41%|████      | 60/148 [00:26<00:37,  2.37it/s]"
          ]
        },
        {
          "output_type": "stream",
          "name": "stdout",
          "text": [
            "Batch 60 | Loss: 0.0421 | Learning rate:  0.000008\n"
          ]
        },
        {
          "output_type": "stream",
          "name": "stderr",
          "text": [
            "Start training the model for one epoch...:  54%|█████▍    | 80/148 [00:35<00:28,  2.37it/s]"
          ]
        },
        {
          "output_type": "stream",
          "name": "stdout",
          "text": [
            "Batch 80 | Loss: 0.0418 | Learning rate:  0.000008\n"
          ]
        },
        {
          "output_type": "stream",
          "name": "stderr",
          "text": [
            "Start training the model for one epoch...:  68%|██████▊   | 100/148 [00:43<00:20,  2.37it/s]"
          ]
        },
        {
          "output_type": "stream",
          "name": "stdout",
          "text": [
            "Batch 100 | Loss: 0.0461 | Learning rate:  0.000008\n"
          ]
        },
        {
          "output_type": "stream",
          "name": "stderr",
          "text": [
            "Start training the model for one epoch...:  81%|████████  | 120/148 [00:51<00:11,  2.38it/s]"
          ]
        },
        {
          "output_type": "stream",
          "name": "stdout",
          "text": [
            "Batch 120 | Loss: 0.0464 | Learning rate:  0.000008\n"
          ]
        },
        {
          "output_type": "stream",
          "name": "stderr",
          "text": [
            "Start training the model for one epoch...:  95%|█████████▍| 140/148 [01:00<00:03,  2.38it/s]"
          ]
        },
        {
          "output_type": "stream",
          "name": "stdout",
          "text": [
            "Batch 140 | Loss: 0.0564 | Learning rate:  0.000008\n"
          ]
        },
        {
          "output_type": "stream",
          "name": "stderr",
          "text": [
            "Start training the model for one epoch...: 100%|██████████| 148/148 [01:03<00:00,  2.33it/s]\n",
            "954it [02:08,  7.45it/s]\n"
          ]
        },
        {
          "output_type": "stream",
          "name": "stdout",
          "text": [
            "Epoch: 116, train loss: 0.04046142908643831, val_loss: 0.5011553042050865, val_dice: 0.1281007461735227, val_IoU: 0.1133001225619479\n"
          ]
        },
        {
          "output_type": "stream",
          "name": "stderr",
          "text": [
            "Start training the model for one epoch...:  14%|█▎        | 20/148 [00:09<00:53,  2.37it/s]"
          ]
        },
        {
          "output_type": "stream",
          "name": "stdout",
          "text": [
            "Batch 20 | Loss: 0.0329 | Learning rate:  0.000008\n"
          ]
        },
        {
          "output_type": "stream",
          "name": "stderr",
          "text": [
            "Start training the model for one epoch...:  27%|██▋       | 40/148 [00:18<00:45,  2.38it/s]"
          ]
        },
        {
          "output_type": "stream",
          "name": "stdout",
          "text": [
            "Batch 40 | Loss: 0.0210 | Learning rate:  0.000008\n"
          ]
        },
        {
          "output_type": "stream",
          "name": "stderr",
          "text": [
            "Start training the model for one epoch...:  41%|████      | 60/148 [00:26<00:37,  2.37it/s]"
          ]
        },
        {
          "output_type": "stream",
          "name": "stdout",
          "text": [
            "Batch 60 | Loss: 0.0303 | Learning rate:  0.000008\n"
          ]
        },
        {
          "output_type": "stream",
          "name": "stderr",
          "text": [
            "Start training the model for one epoch...:  54%|█████▍    | 80/148 [00:34<00:28,  2.37it/s]"
          ]
        },
        {
          "output_type": "stream",
          "name": "stdout",
          "text": [
            "Batch 80 | Loss: 0.0300 | Learning rate:  0.000008\n"
          ]
        },
        {
          "output_type": "stream",
          "name": "stderr",
          "text": [
            "Start training the model for one epoch...:  68%|██████▊   | 100/148 [00:43<00:20,  2.37it/s]"
          ]
        },
        {
          "output_type": "stream",
          "name": "stdout",
          "text": [
            "Batch 100 | Loss: 0.0262 | Learning rate:  0.000008\n"
          ]
        },
        {
          "output_type": "stream",
          "name": "stderr",
          "text": [
            "Start training the model for one epoch...:  81%|████████  | 120/148 [00:51<00:12,  2.33it/s]"
          ]
        },
        {
          "output_type": "stream",
          "name": "stdout",
          "text": [
            "Batch 120 | Loss: 0.0285 | Learning rate:  0.000008\n"
          ]
        },
        {
          "output_type": "stream",
          "name": "stderr",
          "text": [
            "Start training the model for one epoch...:  95%|█████████▍| 140/148 [01:00<00:03,  2.38it/s]"
          ]
        },
        {
          "output_type": "stream",
          "name": "stdout",
          "text": [
            "Batch 140 | Loss: 0.0370 | Learning rate:  0.000008\n"
          ]
        },
        {
          "output_type": "stream",
          "name": "stderr",
          "text": [
            "Start training the model for one epoch...: 100%|██████████| 148/148 [01:03<00:00,  2.33it/s]\n",
            "954it [02:07,  7.48it/s]\n"
          ]
        },
        {
          "output_type": "stream",
          "name": "stdout",
          "text": [
            "Epoch: 117, train loss: 0.03678058647248592, val_loss: 0.432630282321035, val_dice: 0.13227369582392462, val_IoU: 0.11607777368702377\n"
          ]
        },
        {
          "output_type": "stream",
          "name": "stderr",
          "text": [
            "Start training the model for one epoch...:  14%|█▎        | 20/148 [00:09<00:54,  2.36it/s]"
          ]
        },
        {
          "output_type": "stream",
          "name": "stdout",
          "text": [
            "Batch 20 | Loss: 0.0307 | Learning rate:  0.000008\n"
          ]
        },
        {
          "output_type": "stream",
          "name": "stderr",
          "text": [
            "Start training the model for one epoch...:  27%|██▋       | 40/148 [00:18<00:45,  2.37it/s]"
          ]
        },
        {
          "output_type": "stream",
          "name": "stdout",
          "text": [
            "Batch 40 | Loss: 0.0334 | Learning rate:  0.000008\n"
          ]
        },
        {
          "output_type": "stream",
          "name": "stderr",
          "text": [
            "Start training the model for one epoch...:  41%|████      | 60/148 [00:26<00:37,  2.37it/s]"
          ]
        },
        {
          "output_type": "stream",
          "name": "stdout",
          "text": [
            "Batch 60 | Loss: 0.0313 | Learning rate:  0.000008\n"
          ]
        },
        {
          "output_type": "stream",
          "name": "stderr",
          "text": [
            "Start training the model for one epoch...:  54%|█████▍    | 80/148 [00:35<00:28,  2.37it/s]"
          ]
        },
        {
          "output_type": "stream",
          "name": "stdout",
          "text": [
            "Batch 80 | Loss: 0.0245 | Learning rate:  0.000008\n"
          ]
        },
        {
          "output_type": "stream",
          "name": "stderr",
          "text": [
            "Start training the model for one epoch...:  68%|██████▊   | 100/148 [00:43<00:20,  2.36it/s]"
          ]
        },
        {
          "output_type": "stream",
          "name": "stdout",
          "text": [
            "Batch 100 | Loss: 0.0721 | Learning rate:  0.000008\n"
          ]
        },
        {
          "output_type": "stream",
          "name": "stderr",
          "text": [
            "Start training the model for one epoch...:  81%|████████  | 120/148 [00:51<00:11,  2.36it/s]"
          ]
        },
        {
          "output_type": "stream",
          "name": "stdout",
          "text": [
            "Batch 120 | Loss: 0.0422 | Learning rate:  0.000008\n"
          ]
        },
        {
          "output_type": "stream",
          "name": "stderr",
          "text": [
            "Start training the model for one epoch...:  95%|█████████▍| 140/148 [01:00<00:03,  2.39it/s]"
          ]
        },
        {
          "output_type": "stream",
          "name": "stdout",
          "text": [
            "Batch 140 | Loss: 0.0215 | Learning rate:  0.000008\n"
          ]
        },
        {
          "output_type": "stream",
          "name": "stderr",
          "text": [
            "Start training the model for one epoch...: 100%|██████████| 148/148 [01:03<00:00,  2.33it/s]\n",
            "954it [02:07,  7.49it/s]\n"
          ]
        },
        {
          "output_type": "stream",
          "name": "stdout",
          "text": [
            "Epoch: 118, train loss: 0.036115038976375316, val_loss: 0.4049194635202487, val_dice: 0.14453534853774627, val_IoU: 0.12709222586879065\n"
          ]
        },
        {
          "output_type": "stream",
          "name": "stderr",
          "text": [
            "Start training the model for one epoch...:  14%|█▎        | 20/148 [00:09<00:53,  2.37it/s]"
          ]
        },
        {
          "output_type": "stream",
          "name": "stdout",
          "text": [
            "Batch 20 | Loss: 0.0304 | Learning rate:  0.000008\n"
          ]
        },
        {
          "output_type": "stream",
          "name": "stderr",
          "text": [
            "Start training the model for one epoch...:  27%|██▋       | 40/148 [00:18<00:45,  2.36it/s]"
          ]
        },
        {
          "output_type": "stream",
          "name": "stdout",
          "text": [
            "Batch 40 | Loss: 0.0314 | Learning rate:  0.000008\n"
          ]
        },
        {
          "output_type": "stream",
          "name": "stderr",
          "text": [
            "Start training the model for one epoch...:  41%|████      | 60/148 [00:26<00:37,  2.37it/s]"
          ]
        },
        {
          "output_type": "stream",
          "name": "stdout",
          "text": [
            "Batch 60 | Loss: 0.0498 | Learning rate:  0.000008\n"
          ]
        },
        {
          "output_type": "stream",
          "name": "stderr",
          "text": [
            "Start training the model for one epoch...:  54%|█████▍    | 80/148 [00:35<00:28,  2.37it/s]"
          ]
        },
        {
          "output_type": "stream",
          "name": "stdout",
          "text": [
            "Batch 80 | Loss: 0.0407 | Learning rate:  0.000008\n"
          ]
        },
        {
          "output_type": "stream",
          "name": "stderr",
          "text": [
            "Start training the model for one epoch...:  68%|██████▊   | 100/148 [00:43<00:20,  2.37it/s]"
          ]
        },
        {
          "output_type": "stream",
          "name": "stdout",
          "text": [
            "Batch 100 | Loss: 0.0262 | Learning rate:  0.000008\n"
          ]
        },
        {
          "output_type": "stream",
          "name": "stderr",
          "text": [
            "Start training the model for one epoch...:  81%|████████  | 120/148 [00:51<00:11,  2.37it/s]"
          ]
        },
        {
          "output_type": "stream",
          "name": "stdout",
          "text": [
            "Batch 120 | Loss: 0.0406 | Learning rate:  0.000008\n"
          ]
        },
        {
          "output_type": "stream",
          "name": "stderr",
          "text": [
            "Start training the model for one epoch...:  95%|█████████▍| 140/148 [01:00<00:03,  2.39it/s]"
          ]
        },
        {
          "output_type": "stream",
          "name": "stdout",
          "text": [
            "Batch 140 | Loss: 0.0645 | Learning rate:  0.000008\n"
          ]
        },
        {
          "output_type": "stream",
          "name": "stderr",
          "text": [
            "Start training the model for one epoch...: 100%|██████████| 148/148 [01:03<00:00,  2.32it/s]\n",
            "954it [02:07,  7.47it/s]\n"
          ]
        },
        {
          "output_type": "stream",
          "name": "stdout",
          "text": [
            "Epoch: 119, train loss: 0.044421058645270566, val_loss: 0.4439289093454929, val_dice: 0.1402222495650274, val_IoU: 0.12371639904227487\n"
          ]
        },
        {
          "output_type": "stream",
          "name": "stderr",
          "text": [
            "Start training the model for one epoch...:  14%|█▎        | 20/148 [00:10<00:54,  2.36it/s]"
          ]
        },
        {
          "output_type": "stream",
          "name": "stdout",
          "text": [
            "Batch 20 | Loss: 0.0402 | Learning rate:  0.000008\n"
          ]
        },
        {
          "output_type": "stream",
          "name": "stderr",
          "text": [
            "Start training the model for one epoch...:  27%|██▋       | 40/148 [00:18<00:45,  2.37it/s]"
          ]
        },
        {
          "output_type": "stream",
          "name": "stdout",
          "text": [
            "Batch 40 | Loss: 0.0224 | Learning rate:  0.000008\n"
          ]
        },
        {
          "output_type": "stream",
          "name": "stderr",
          "text": [
            "Start training the model for one epoch...:  41%|████      | 60/148 [00:27<00:37,  2.37it/s]"
          ]
        },
        {
          "output_type": "stream",
          "name": "stdout",
          "text": [
            "Batch 60 | Loss: 0.0271 | Learning rate:  0.000008\n"
          ]
        },
        {
          "output_type": "stream",
          "name": "stderr",
          "text": [
            "Start training the model for one epoch...:  54%|█████▍    | 80/148 [00:35<00:28,  2.37it/s]"
          ]
        },
        {
          "output_type": "stream",
          "name": "stdout",
          "text": [
            "Batch 80 | Loss: 0.0339 | Learning rate:  0.000008\n"
          ]
        },
        {
          "output_type": "stream",
          "name": "stderr",
          "text": [
            "Start training the model for one epoch...:  68%|██████▊   | 100/148 [00:43<00:20,  2.37it/s]"
          ]
        },
        {
          "output_type": "stream",
          "name": "stdout",
          "text": [
            "Batch 100 | Loss: 0.2700 | Learning rate:  0.000008\n"
          ]
        },
        {
          "output_type": "stream",
          "name": "stderr",
          "text": [
            "Start training the model for one epoch...:  81%|████████  | 120/148 [00:52<00:11,  2.37it/s]"
          ]
        },
        {
          "output_type": "stream",
          "name": "stdout",
          "text": [
            "Batch 120 | Loss: 0.0502 | Learning rate:  0.000008\n"
          ]
        },
        {
          "output_type": "stream",
          "name": "stderr",
          "text": [
            "Start training the model for one epoch...:  95%|█████████▍| 140/148 [01:00<00:03,  2.39it/s]"
          ]
        },
        {
          "output_type": "stream",
          "name": "stdout",
          "text": [
            "Batch 140 | Loss: 0.0275 | Learning rate:  0.000008\n"
          ]
        },
        {
          "output_type": "stream",
          "name": "stderr",
          "text": [
            "Start training the model for one epoch...: 100%|██████████| 148/148 [01:04<00:00,  2.31it/s]\n",
            "954it [02:07,  7.47it/s]\n"
          ]
        },
        {
          "output_type": "stream",
          "name": "stdout",
          "text": [
            "Epoch: 120, train loss: 0.03996392956783844, val_loss: 0.4640545462428024, val_dice: 0.12150121067873544, val_IoU: 0.10760580337453331\n"
          ]
        },
        {
          "output_type": "stream",
          "name": "stderr",
          "text": [
            "Start training the model for one epoch...:  14%|█▎        | 20/148 [00:09<00:54,  2.37it/s]"
          ]
        },
        {
          "output_type": "stream",
          "name": "stdout",
          "text": [
            "Batch 20 | Loss: 0.0253 | Learning rate:  0.000008\n"
          ]
        },
        {
          "output_type": "stream",
          "name": "stderr",
          "text": [
            "Start training the model for one epoch...:  27%|██▋       | 40/148 [00:18<00:45,  2.37it/s]"
          ]
        },
        {
          "output_type": "stream",
          "name": "stdout",
          "text": [
            "Batch 40 | Loss: 0.0453 | Learning rate:  0.000008\n"
          ]
        },
        {
          "output_type": "stream",
          "name": "stderr",
          "text": [
            "Start training the model for one epoch...:  41%|████      | 60/148 [00:26<00:37,  2.37it/s]"
          ]
        },
        {
          "output_type": "stream",
          "name": "stdout",
          "text": [
            "Batch 60 | Loss: 0.0508 | Learning rate:  0.000008\n"
          ]
        },
        {
          "output_type": "stream",
          "name": "stderr",
          "text": [
            "Start training the model for one epoch...:  54%|█████▍    | 80/148 [00:35<00:28,  2.37it/s]"
          ]
        },
        {
          "output_type": "stream",
          "name": "stdout",
          "text": [
            "Batch 80 | Loss: 0.0308 | Learning rate:  0.000008\n"
          ]
        },
        {
          "output_type": "stream",
          "name": "stderr",
          "text": [
            "Start training the model for one epoch...:  68%|██████▊   | 100/148 [00:43<00:20,  2.37it/s]"
          ]
        },
        {
          "output_type": "stream",
          "name": "stdout",
          "text": [
            "Batch 100 | Loss: 0.0681 | Learning rate:  0.000008\n"
          ]
        },
        {
          "output_type": "stream",
          "name": "stderr",
          "text": [
            "Start training the model for one epoch...:  81%|████████  | 120/148 [00:51<00:11,  2.37it/s]"
          ]
        },
        {
          "output_type": "stream",
          "name": "stdout",
          "text": [
            "Batch 120 | Loss: 0.0508 | Learning rate:  0.000008\n"
          ]
        },
        {
          "output_type": "stream",
          "name": "stderr",
          "text": [
            "Start training the model for one epoch...:  95%|█████████▍| 140/148 [01:00<00:03,  2.38it/s]"
          ]
        },
        {
          "output_type": "stream",
          "name": "stdout",
          "text": [
            "Batch 140 | Loss: 0.0397 | Learning rate:  0.000008\n"
          ]
        },
        {
          "output_type": "stream",
          "name": "stderr",
          "text": [
            "Start training the model for one epoch...: 100%|██████████| 148/148 [01:03<00:00,  2.33it/s]\n",
            "954it [02:07,  7.49it/s]\n"
          ]
        },
        {
          "output_type": "stream",
          "name": "stdout",
          "text": [
            "Epoch: 121, train loss: 0.0415677121601294, val_loss: 0.4650564108129817, val_dice: 0.16236616963243136, val_IoU: 0.1430996215060121\n"
          ]
        },
        {
          "output_type": "stream",
          "name": "stderr",
          "text": [
            "Start training the model for one epoch...:  14%|█▎        | 20/148 [00:09<00:53,  2.37it/s]"
          ]
        },
        {
          "output_type": "stream",
          "name": "stdout",
          "text": [
            "Batch 20 | Loss: 0.0150 | Learning rate:  0.000008\n"
          ]
        },
        {
          "output_type": "stream",
          "name": "stderr",
          "text": [
            "Start training the model for one epoch...:  27%|██▋       | 40/148 [00:18<00:45,  2.37it/s]"
          ]
        },
        {
          "output_type": "stream",
          "name": "stdout",
          "text": [
            "Batch 40 | Loss: 0.0151 | Learning rate:  0.000008\n"
          ]
        },
        {
          "output_type": "stream",
          "name": "stderr",
          "text": [
            "Start training the model for one epoch...:  41%|████      | 60/148 [00:26<00:37,  2.37it/s]"
          ]
        },
        {
          "output_type": "stream",
          "name": "stdout",
          "text": [
            "Batch 60 | Loss: 0.0278 | Learning rate:  0.000008\n"
          ]
        },
        {
          "output_type": "stream",
          "name": "stderr",
          "text": [
            "Start training the model for one epoch...:  54%|█████▍    | 80/148 [00:35<00:28,  2.38it/s]"
          ]
        },
        {
          "output_type": "stream",
          "name": "stdout",
          "text": [
            "Batch 80 | Loss: 0.0346 | Learning rate:  0.000007\n"
          ]
        },
        {
          "output_type": "stream",
          "name": "stderr",
          "text": [
            "Start training the model for one epoch...:  68%|██████▊   | 100/148 [00:43<00:20,  2.37it/s]"
          ]
        },
        {
          "output_type": "stream",
          "name": "stdout",
          "text": [
            "Batch 100 | Loss: 0.0422 | Learning rate:  0.000007\n"
          ]
        },
        {
          "output_type": "stream",
          "name": "stderr",
          "text": [
            "Start training the model for one epoch...:  81%|████████  | 120/148 [00:52<00:11,  2.36it/s]"
          ]
        },
        {
          "output_type": "stream",
          "name": "stdout",
          "text": [
            "Batch 120 | Loss: 0.0518 | Learning rate:  0.000007\n"
          ]
        },
        {
          "output_type": "stream",
          "name": "stderr",
          "text": [
            "Start training the model for one epoch...:  95%|█████████▍| 140/148 [01:00<00:03,  2.39it/s]"
          ]
        },
        {
          "output_type": "stream",
          "name": "stdout",
          "text": [
            "Batch 140 | Loss: 0.0283 | Learning rate:  0.000007\n"
          ]
        },
        {
          "output_type": "stream",
          "name": "stderr",
          "text": [
            "Start training the model for one epoch...: 100%|██████████| 148/148 [01:04<00:00,  2.31it/s]\n",
            "954it [02:07,  7.48it/s]\n"
          ]
        },
        {
          "output_type": "stream",
          "name": "stdout",
          "text": [
            "Epoch: 122, train loss: 0.04222788741635914, val_loss: 0.48842303003858095, val_dice: 0.14544205528740967, val_IoU: 0.12813357077660606\n"
          ]
        },
        {
          "output_type": "stream",
          "name": "stderr",
          "text": [
            "Start training the model for one epoch...:  14%|█▎        | 20/148 [00:09<00:54,  2.37it/s]"
          ]
        },
        {
          "output_type": "stream",
          "name": "stdout",
          "text": [
            "Batch 20 | Loss: 0.0615 | Learning rate:  0.000007\n"
          ]
        },
        {
          "output_type": "stream",
          "name": "stderr",
          "text": [
            "Start training the model for one epoch...:  27%|██▋       | 40/148 [00:18<00:45,  2.36it/s]"
          ]
        },
        {
          "output_type": "stream",
          "name": "stdout",
          "text": [
            "Batch 40 | Loss: 0.0464 | Learning rate:  0.000007\n"
          ]
        },
        {
          "output_type": "stream",
          "name": "stderr",
          "text": [
            "Start training the model for one epoch...:  41%|████      | 60/148 [00:26<00:37,  2.37it/s]"
          ]
        },
        {
          "output_type": "stream",
          "name": "stdout",
          "text": [
            "Batch 60 | Loss: 0.0276 | Learning rate:  0.000007\n"
          ]
        },
        {
          "output_type": "stream",
          "name": "stderr",
          "text": [
            "Start training the model for one epoch...:  54%|█████▍    | 80/148 [00:35<00:28,  2.37it/s]"
          ]
        },
        {
          "output_type": "stream",
          "name": "stdout",
          "text": [
            "Batch 80 | Loss: 0.0298 | Learning rate:  0.000007\n"
          ]
        },
        {
          "output_type": "stream",
          "name": "stderr",
          "text": [
            "Start training the model for one epoch...:  68%|██████▊   | 100/148 [00:43<00:20,  2.37it/s]"
          ]
        },
        {
          "output_type": "stream",
          "name": "stdout",
          "text": [
            "Batch 100 | Loss: 0.1161 | Learning rate:  0.000007\n"
          ]
        },
        {
          "output_type": "stream",
          "name": "stderr",
          "text": [
            "Start training the model for one epoch...:  81%|████████  | 120/148 [00:51<00:11,  2.37it/s]"
          ]
        },
        {
          "output_type": "stream",
          "name": "stdout",
          "text": [
            "Batch 120 | Loss: 0.0639 | Learning rate:  0.000007\n"
          ]
        },
        {
          "output_type": "stream",
          "name": "stderr",
          "text": [
            "Start training the model for one epoch...:  95%|█████████▍| 140/148 [01:00<00:03,  2.39it/s]"
          ]
        },
        {
          "output_type": "stream",
          "name": "stdout",
          "text": [
            "Batch 140 | Loss: 0.0342 | Learning rate:  0.000007\n"
          ]
        },
        {
          "output_type": "stream",
          "name": "stderr",
          "text": [
            "Start training the model for one epoch...: 100%|██████████| 148/148 [01:03<00:00,  2.33it/s]\n",
            "954it [02:07,  7.48it/s]\n"
          ]
        },
        {
          "output_type": "stream",
          "name": "stdout",
          "text": [
            "Epoch: 123, train loss: 0.04037512938265462, val_loss: 0.4879734663046756, val_dice: 0.13805170634605266, val_IoU: 0.12252163819087626\n"
          ]
        },
        {
          "output_type": "stream",
          "name": "stderr",
          "text": [
            "Start training the model for one epoch...:  14%|█▎        | 20/148 [00:09<00:54,  2.37it/s]"
          ]
        },
        {
          "output_type": "stream",
          "name": "stdout",
          "text": [
            "Batch 20 | Loss: 0.0206 | Learning rate:  0.000007\n"
          ]
        },
        {
          "output_type": "stream",
          "name": "stderr",
          "text": [
            "Start training the model for one epoch...:  27%|██▋       | 40/148 [00:18<00:45,  2.36it/s]"
          ]
        },
        {
          "output_type": "stream",
          "name": "stdout",
          "text": [
            "Batch 40 | Loss: 0.0458 | Learning rate:  0.000007\n"
          ]
        },
        {
          "output_type": "stream",
          "name": "stderr",
          "text": [
            "Start training the model for one epoch...:  41%|████      | 60/148 [00:26<00:37,  2.37it/s]"
          ]
        },
        {
          "output_type": "stream",
          "name": "stdout",
          "text": [
            "Batch 60 | Loss: 0.0315 | Learning rate:  0.000007\n"
          ]
        },
        {
          "output_type": "stream",
          "name": "stderr",
          "text": [
            "Start training the model for one epoch...:  54%|█████▍    | 80/148 [00:35<00:28,  2.37it/s]"
          ]
        },
        {
          "output_type": "stream",
          "name": "stdout",
          "text": [
            "Batch 80 | Loss: 0.0129 | Learning rate:  0.000007\n"
          ]
        },
        {
          "output_type": "stream",
          "name": "stderr",
          "text": [
            "Start training the model for one epoch...:  68%|██████▊   | 100/148 [00:43<00:20,  2.37it/s]"
          ]
        },
        {
          "output_type": "stream",
          "name": "stdout",
          "text": [
            "Batch 100 | Loss: 0.0148 | Learning rate:  0.000007\n"
          ]
        },
        {
          "output_type": "stream",
          "name": "stderr",
          "text": [
            "Start training the model for one epoch...:  81%|████████  | 120/148 [00:51<00:11,  2.37it/s]"
          ]
        },
        {
          "output_type": "stream",
          "name": "stdout",
          "text": [
            "Batch 120 | Loss: 0.0287 | Learning rate:  0.000007\n"
          ]
        },
        {
          "output_type": "stream",
          "name": "stderr",
          "text": [
            "Start training the model for one epoch...:  95%|█████████▍| 140/148 [01:00<00:03,  2.39it/s]"
          ]
        },
        {
          "output_type": "stream",
          "name": "stdout",
          "text": [
            "Batch 140 | Loss: 0.0357 | Learning rate:  0.000007\n"
          ]
        },
        {
          "output_type": "stream",
          "name": "stderr",
          "text": [
            "Start training the model for one epoch...: 100%|██████████| 148/148 [01:03<00:00,  2.33it/s]\n",
            "954it [02:07,  7.48it/s]\n"
          ]
        },
        {
          "output_type": "stream",
          "name": "stdout",
          "text": [
            "Epoch: 124, train loss: 0.03881067393121083, val_loss: 0.46968811336490845, val_dice: 0.11959527039061212, val_IoU: 0.1067840343791735\n"
          ]
        },
        {
          "output_type": "stream",
          "name": "stderr",
          "text": [
            "Start training the model for one epoch...:  14%|█▎        | 20/148 [00:10<00:59,  2.17it/s]"
          ]
        },
        {
          "output_type": "stream",
          "name": "stdout",
          "text": [
            "Batch 20 | Loss: 0.0360 | Learning rate:  0.000007\n"
          ]
        },
        {
          "output_type": "stream",
          "name": "stderr",
          "text": [
            "Start training the model for one epoch...:  27%|██▋       | 40/148 [00:18<00:45,  2.37it/s]"
          ]
        },
        {
          "output_type": "stream",
          "name": "stdout",
          "text": [
            "Batch 40 | Loss: 0.0189 | Learning rate:  0.000007\n"
          ]
        },
        {
          "output_type": "stream",
          "name": "stderr",
          "text": [
            "Start training the model for one epoch...:  41%|████      | 60/148 [00:27<00:37,  2.37it/s]"
          ]
        },
        {
          "output_type": "stream",
          "name": "stdout",
          "text": [
            "Batch 60 | Loss: 0.0275 | Learning rate:  0.000007\n"
          ]
        },
        {
          "output_type": "stream",
          "name": "stderr",
          "text": [
            "Start training the model for one epoch...:  54%|█████▍    | 80/148 [00:35<00:28,  2.37it/s]"
          ]
        },
        {
          "output_type": "stream",
          "name": "stdout",
          "text": [
            "Batch 80 | Loss: 0.0409 | Learning rate:  0.000007\n"
          ]
        },
        {
          "output_type": "stream",
          "name": "stderr",
          "text": [
            "Start training the model for one epoch...:  68%|██████▊   | 100/148 [00:44<00:20,  2.37it/s]"
          ]
        },
        {
          "output_type": "stream",
          "name": "stdout",
          "text": [
            "Batch 100 | Loss: 0.0213 | Learning rate:  0.000007\n"
          ]
        },
        {
          "output_type": "stream",
          "name": "stderr",
          "text": [
            "Start training the model for one epoch...:  81%|████████  | 120/148 [00:52<00:11,  2.37it/s]"
          ]
        },
        {
          "output_type": "stream",
          "name": "stdout",
          "text": [
            "Batch 120 | Loss: 0.0337 | Learning rate:  0.000007\n"
          ]
        },
        {
          "output_type": "stream",
          "name": "stderr",
          "text": [
            "Start training the model for one epoch...:  95%|█████████▍| 140/148 [01:00<00:03,  2.38it/s]"
          ]
        },
        {
          "output_type": "stream",
          "name": "stdout",
          "text": [
            "Batch 140 | Loss: 0.0500 | Learning rate:  0.000007\n"
          ]
        },
        {
          "output_type": "stream",
          "name": "stderr",
          "text": [
            "Start training the model for one epoch...: 100%|██████████| 148/148 [01:04<00:00,  2.31it/s]\n",
            "954it [02:07,  7.49it/s]\n"
          ]
        },
        {
          "output_type": "stream",
          "name": "stdout",
          "text": [
            "Epoch: 125, train loss: 0.03858826628483429, val_loss: 0.4763779128770846, val_dice: 0.12576299437197183, val_IoU: 0.11217067893626785\n"
          ]
        },
        {
          "output_type": "stream",
          "name": "stderr",
          "text": [
            "Start training the model for one epoch...:  14%|█▎        | 20/148 [00:09<00:53,  2.37it/s]"
          ]
        },
        {
          "output_type": "stream",
          "name": "stdout",
          "text": [
            "Batch 20 | Loss: 0.0258 | Learning rate:  0.000007\n"
          ]
        },
        {
          "output_type": "stream",
          "name": "stderr",
          "text": [
            "Start training the model for one epoch...:  27%|██▋       | 40/148 [00:18<00:45,  2.37it/s]"
          ]
        },
        {
          "output_type": "stream",
          "name": "stdout",
          "text": [
            "Batch 40 | Loss: 0.0191 | Learning rate:  0.000007\n"
          ]
        },
        {
          "output_type": "stream",
          "name": "stderr",
          "text": [
            "Start training the model for one epoch...:  41%|████      | 60/148 [00:26<00:37,  2.37it/s]"
          ]
        },
        {
          "output_type": "stream",
          "name": "stdout",
          "text": [
            "Batch 60 | Loss: 0.0574 | Learning rate:  0.000007\n"
          ]
        },
        {
          "output_type": "stream",
          "name": "stderr",
          "text": [
            "Start training the model for one epoch...:  54%|█████▍    | 80/148 [00:35<00:28,  2.37it/s]"
          ]
        },
        {
          "output_type": "stream",
          "name": "stdout",
          "text": [
            "Batch 80 | Loss: 0.0424 | Learning rate:  0.000007\n"
          ]
        },
        {
          "output_type": "stream",
          "name": "stderr",
          "text": [
            "Start training the model for one epoch...:  68%|██████▊   | 100/148 [00:43<00:20,  2.38it/s]"
          ]
        },
        {
          "output_type": "stream",
          "name": "stdout",
          "text": [
            "Batch 100 | Loss: 0.0250 | Learning rate:  0.000007\n"
          ]
        },
        {
          "output_type": "stream",
          "name": "stderr",
          "text": [
            "Start training the model for one epoch...:  81%|████████  | 120/148 [00:51<00:11,  2.36it/s]"
          ]
        },
        {
          "output_type": "stream",
          "name": "stdout",
          "text": [
            "Batch 120 | Loss: 0.0419 | Learning rate:  0.000007\n"
          ]
        },
        {
          "output_type": "stream",
          "name": "stderr",
          "text": [
            "Start training the model for one epoch...:  95%|█████████▍| 140/148 [01:00<00:03,  2.39it/s]"
          ]
        },
        {
          "output_type": "stream",
          "name": "stdout",
          "text": [
            "Batch 140 | Loss: 0.0513 | Learning rate:  0.000007\n"
          ]
        },
        {
          "output_type": "stream",
          "name": "stderr",
          "text": [
            "Start training the model for one epoch...: 100%|██████████| 148/148 [01:03<00:00,  2.32it/s]\n",
            "954it [02:07,  7.48it/s]\n"
          ]
        },
        {
          "output_type": "stream",
          "name": "stdout",
          "text": [
            "Epoch: 126, train loss: 0.03630372014123242, val_loss: 0.45447240109541753, val_dice: 0.12043948356357088, val_IoU: 0.10744553633783742\n"
          ]
        },
        {
          "output_type": "stream",
          "name": "stderr",
          "text": [
            "Start training the model for one epoch...:  14%|█▎        | 20/148 [00:09<00:53,  2.37it/s]"
          ]
        },
        {
          "output_type": "stream",
          "name": "stdout",
          "text": [
            "Batch 20 | Loss: 0.0163 | Learning rate:  0.000007\n"
          ]
        },
        {
          "output_type": "stream",
          "name": "stderr",
          "text": [
            "Start training the model for one epoch...:  27%|██▋       | 40/148 [00:18<00:45,  2.36it/s]"
          ]
        },
        {
          "output_type": "stream",
          "name": "stdout",
          "text": [
            "Batch 40 | Loss: 0.0482 | Learning rate:  0.000007\n"
          ]
        },
        {
          "output_type": "stream",
          "name": "stderr",
          "text": [
            "Start training the model for one epoch...:  41%|████      | 60/148 [00:26<00:37,  2.37it/s]"
          ]
        },
        {
          "output_type": "stream",
          "name": "stdout",
          "text": [
            "Batch 60 | Loss: 0.0268 | Learning rate:  0.000007\n"
          ]
        },
        {
          "output_type": "stream",
          "name": "stderr",
          "text": [
            "Start training the model for one epoch...:  54%|█████▍    | 80/148 [00:34<00:28,  2.37it/s]"
          ]
        },
        {
          "output_type": "stream",
          "name": "stdout",
          "text": [
            "Batch 80 | Loss: 0.0279 | Learning rate:  0.000007\n"
          ]
        },
        {
          "output_type": "stream",
          "name": "stderr",
          "text": [
            "Start training the model for one epoch...:  68%|██████▊   | 100/148 [00:43<00:20,  2.36it/s]"
          ]
        },
        {
          "output_type": "stream",
          "name": "stdout",
          "text": [
            "Batch 100 | Loss: 0.0191 | Learning rate:  0.000007\n"
          ]
        },
        {
          "output_type": "stream",
          "name": "stderr",
          "text": [
            "Start training the model for one epoch...:  81%|████████  | 120/148 [00:51<00:11,  2.37it/s]"
          ]
        },
        {
          "output_type": "stream",
          "name": "stdout",
          "text": [
            "Batch 120 | Loss: 0.0327 | Learning rate:  0.000007\n"
          ]
        },
        {
          "output_type": "stream",
          "name": "stderr",
          "text": [
            "Start training the model for one epoch...:  95%|█████████▍| 140/148 [01:00<00:03,  2.39it/s]"
          ]
        },
        {
          "output_type": "stream",
          "name": "stdout",
          "text": [
            "Batch 140 | Loss: 0.2424 | Learning rate:  0.000007\n"
          ]
        },
        {
          "output_type": "stream",
          "name": "stderr",
          "text": [
            "Start training the model for one epoch...: 100%|██████████| 148/148 [01:03<00:00,  2.33it/s]\n",
            "954it [02:08,  7.45it/s]\n"
          ]
        },
        {
          "output_type": "stream",
          "name": "stdout",
          "text": [
            "Epoch: 127, train loss: 0.03963574904923302, val_loss: 0.4917697266048793, val_dice: 0.1491089428095593, val_IoU: 0.132770303313002\n"
          ]
        },
        {
          "output_type": "stream",
          "name": "stderr",
          "text": [
            "Start training the model for one epoch...:  14%|█▎        | 20/148 [00:09<00:54,  2.37it/s]"
          ]
        },
        {
          "output_type": "stream",
          "name": "stdout",
          "text": [
            "Batch 20 | Loss: 0.0475 | Learning rate:  0.000007\n"
          ]
        },
        {
          "output_type": "stream",
          "name": "stderr",
          "text": [
            "Start training the model for one epoch...:  27%|██▋       | 40/148 [00:18<00:45,  2.37it/s]"
          ]
        },
        {
          "output_type": "stream",
          "name": "stdout",
          "text": [
            "Batch 40 | Loss: 0.0369 | Learning rate:  0.000007\n"
          ]
        },
        {
          "output_type": "stream",
          "name": "stderr",
          "text": [
            "Start training the model for one epoch...:  41%|████      | 60/148 [00:26<00:37,  2.37it/s]"
          ]
        },
        {
          "output_type": "stream",
          "name": "stdout",
          "text": [
            "Batch 60 | Loss: 0.0353 | Learning rate:  0.000007\n"
          ]
        },
        {
          "output_type": "stream",
          "name": "stderr",
          "text": [
            "Start training the model for one epoch...:  54%|█████▍    | 80/148 [00:35<00:28,  2.37it/s]"
          ]
        },
        {
          "output_type": "stream",
          "name": "stdout",
          "text": [
            "Batch 80 | Loss: 0.0357 | Learning rate:  0.000007\n"
          ]
        },
        {
          "output_type": "stream",
          "name": "stderr",
          "text": [
            "Start training the model for one epoch...:  68%|██████▊   | 100/148 [00:43<00:20,  2.37it/s]"
          ]
        },
        {
          "output_type": "stream",
          "name": "stdout",
          "text": [
            "Batch 100 | Loss: 0.0423 | Learning rate:  0.000007\n"
          ]
        },
        {
          "output_type": "stream",
          "name": "stderr",
          "text": [
            "Start training the model for one epoch...:  81%|████████  | 120/148 [00:51<00:11,  2.37it/s]"
          ]
        },
        {
          "output_type": "stream",
          "name": "stdout",
          "text": [
            "Batch 120 | Loss: 0.0180 | Learning rate:  0.000007\n"
          ]
        },
        {
          "output_type": "stream",
          "name": "stderr",
          "text": [
            "Start training the model for one epoch...:  95%|█████████▍| 140/148 [01:00<00:03,  2.39it/s]"
          ]
        },
        {
          "output_type": "stream",
          "name": "stdout",
          "text": [
            "Batch 140 | Loss: 0.0354 | Learning rate:  0.000007\n"
          ]
        },
        {
          "output_type": "stream",
          "name": "stderr",
          "text": [
            "Start training the model for one epoch...: 100%|██████████| 148/148 [01:03<00:00,  2.32it/s]\n",
            "954it [02:07,  7.49it/s]\n"
          ]
        },
        {
          "output_type": "stream",
          "name": "stdout",
          "text": [
            "Epoch: 128, train loss: 0.035538674137127156, val_loss: 0.4530060789049984, val_dice: 0.18479008295933994, val_IoU: 0.16189879466087453\n"
          ]
        },
        {
          "output_type": "stream",
          "name": "stderr",
          "text": [
            "Start training the model for one epoch...:  14%|█▎        | 20/148 [00:09<00:54,  2.36it/s]"
          ]
        },
        {
          "output_type": "stream",
          "name": "stdout",
          "text": [
            "Batch 20 | Loss: 0.0198 | Learning rate:  0.000007\n"
          ]
        },
        {
          "output_type": "stream",
          "name": "stderr",
          "text": [
            "Start training the model for one epoch...:  27%|██▋       | 40/148 [00:18<00:45,  2.36it/s]"
          ]
        },
        {
          "output_type": "stream",
          "name": "stdout",
          "text": [
            "Batch 40 | Loss: 0.0286 | Learning rate:  0.000007\n"
          ]
        },
        {
          "output_type": "stream",
          "name": "stderr",
          "text": [
            "Start training the model for one epoch...:  41%|████      | 60/148 [00:26<00:37,  2.36it/s]"
          ]
        },
        {
          "output_type": "stream",
          "name": "stdout",
          "text": [
            "Batch 60 | Loss: 0.0555 | Learning rate:  0.000007\n"
          ]
        },
        {
          "output_type": "stream",
          "name": "stderr",
          "text": [
            "Start training the model for one epoch...:  54%|█████▍    | 80/148 [00:35<00:28,  2.37it/s]"
          ]
        },
        {
          "output_type": "stream",
          "name": "stdout",
          "text": [
            "Batch 80 | Loss: 0.0282 | Learning rate:  0.000006\n"
          ]
        },
        {
          "output_type": "stream",
          "name": "stderr",
          "text": [
            "Start training the model for one epoch...:  68%|██████▊   | 100/148 [00:43<00:20,  2.37it/s]"
          ]
        },
        {
          "output_type": "stream",
          "name": "stdout",
          "text": [
            "Batch 100 | Loss: 0.0451 | Learning rate:  0.000006\n"
          ]
        },
        {
          "output_type": "stream",
          "name": "stderr",
          "text": [
            "Start training the model for one epoch...:  81%|████████  | 120/148 [00:52<00:11,  2.37it/s]"
          ]
        },
        {
          "output_type": "stream",
          "name": "stdout",
          "text": [
            "Batch 120 | Loss: 0.0358 | Learning rate:  0.000006\n"
          ]
        },
        {
          "output_type": "stream",
          "name": "stderr",
          "text": [
            "Start training the model for one epoch...:  95%|█████████▍| 140/148 [01:00<00:03,  2.38it/s]"
          ]
        },
        {
          "output_type": "stream",
          "name": "stdout",
          "text": [
            "Batch 140 | Loss: 0.0534 | Learning rate:  0.000006\n"
          ]
        },
        {
          "output_type": "stream",
          "name": "stderr",
          "text": [
            "Start training the model for one epoch...: 100%|██████████| 148/148 [01:03<00:00,  2.32it/s]\n",
            "954it [02:07,  7.47it/s]\n"
          ]
        },
        {
          "output_type": "stream",
          "name": "stdout",
          "text": [
            "Epoch: 129, train loss: 0.03968698184660359, val_loss: 0.41758828198603615, val_dice: 0.14563631150497275, val_IoU: 0.12913573053687658\n"
          ]
        },
        {
          "output_type": "stream",
          "name": "stderr",
          "text": [
            "Start training the model for one epoch...:  14%|█▎        | 20/148 [00:09<00:53,  2.37it/s]"
          ]
        },
        {
          "output_type": "stream",
          "name": "stdout",
          "text": [
            "Batch 20 | Loss: 0.0322 | Learning rate:  0.000006\n"
          ]
        },
        {
          "output_type": "stream",
          "name": "stderr",
          "text": [
            "Start training the model for one epoch...:  27%|██▋       | 40/148 [00:18<00:45,  2.37it/s]"
          ]
        },
        {
          "output_type": "stream",
          "name": "stdout",
          "text": [
            "Batch 40 | Loss: 0.0410 | Learning rate:  0.000006\n"
          ]
        },
        {
          "output_type": "stream",
          "name": "stderr",
          "text": [
            "Start training the model for one epoch...:  41%|████      | 60/148 [00:26<00:37,  2.37it/s]"
          ]
        },
        {
          "output_type": "stream",
          "name": "stdout",
          "text": [
            "Batch 60 | Loss: 0.0203 | Learning rate:  0.000006\n"
          ]
        },
        {
          "output_type": "stream",
          "name": "stderr",
          "text": [
            "Start training the model for one epoch...:  54%|█████▍    | 80/148 [00:35<00:28,  2.35it/s]"
          ]
        },
        {
          "output_type": "stream",
          "name": "stdout",
          "text": [
            "Batch 80 | Loss: 0.0363 | Learning rate:  0.000006\n"
          ]
        },
        {
          "output_type": "stream",
          "name": "stderr",
          "text": [
            "Start training the model for one epoch...:  68%|██████▊   | 100/148 [00:43<00:20,  2.37it/s]"
          ]
        },
        {
          "output_type": "stream",
          "name": "stdout",
          "text": [
            "Batch 100 | Loss: 0.0223 | Learning rate:  0.000006\n"
          ]
        },
        {
          "output_type": "stream",
          "name": "stderr",
          "text": [
            "Start training the model for one epoch...:  81%|████████  | 120/148 [00:52<00:11,  2.36it/s]"
          ]
        },
        {
          "output_type": "stream",
          "name": "stdout",
          "text": [
            "Batch 120 | Loss: 0.0538 | Learning rate:  0.000006\n"
          ]
        },
        {
          "output_type": "stream",
          "name": "stderr",
          "text": [
            "Start training the model for one epoch...:  95%|█████████▍| 140/148 [01:00<00:03,  2.38it/s]"
          ]
        },
        {
          "output_type": "stream",
          "name": "stdout",
          "text": [
            "Batch 140 | Loss: 0.0218 | Learning rate:  0.000006\n"
          ]
        },
        {
          "output_type": "stream",
          "name": "stderr",
          "text": [
            "Start training the model for one epoch...: 100%|██████████| 148/148 [01:04<00:00,  2.31it/s]\n",
            "954it [02:07,  7.47it/s]\n"
          ]
        },
        {
          "output_type": "stream",
          "name": "stdout",
          "text": [
            "Epoch: 130, train loss: 0.034470197027297436, val_loss: 0.4958663078755203, val_dice: 0.12860101195682805, val_IoU: 0.11420342312541967\n"
          ]
        },
        {
          "output_type": "stream",
          "name": "stderr",
          "text": [
            "Start training the model for one epoch...:  14%|█▎        | 20/148 [00:09<00:53,  2.37it/s]"
          ]
        },
        {
          "output_type": "stream",
          "name": "stdout",
          "text": [
            "Batch 20 | Loss: 0.0276 | Learning rate:  0.000006\n"
          ]
        },
        {
          "output_type": "stream",
          "name": "stderr",
          "text": [
            "Start training the model for one epoch...:  27%|██▋       | 40/148 [00:18<00:45,  2.37it/s]"
          ]
        },
        {
          "output_type": "stream",
          "name": "stdout",
          "text": [
            "Batch 40 | Loss: 0.0702 | Learning rate:  0.000006\n"
          ]
        },
        {
          "output_type": "stream",
          "name": "stderr",
          "text": [
            "Start training the model for one epoch...:  41%|████      | 60/148 [00:26<00:37,  2.36it/s]"
          ]
        },
        {
          "output_type": "stream",
          "name": "stdout",
          "text": [
            "Batch 60 | Loss: 0.0252 | Learning rate:  0.000006\n"
          ]
        },
        {
          "output_type": "stream",
          "name": "stderr",
          "text": [
            "Start training the model for one epoch...:  54%|█████▍    | 80/148 [00:35<00:28,  2.37it/s]"
          ]
        },
        {
          "output_type": "stream",
          "name": "stdout",
          "text": [
            "Batch 80 | Loss: 0.0219 | Learning rate:  0.000006\n"
          ]
        },
        {
          "output_type": "stream",
          "name": "stderr",
          "text": [
            "Start training the model for one epoch...:  68%|██████▊   | 100/148 [00:43<00:20,  2.37it/s]"
          ]
        },
        {
          "output_type": "stream",
          "name": "stdout",
          "text": [
            "Batch 100 | Loss: 0.0374 | Learning rate:  0.000006\n"
          ]
        },
        {
          "output_type": "stream",
          "name": "stderr",
          "text": [
            "Start training the model for one epoch...:  81%|████████  | 120/148 [00:51<00:11,  2.36it/s]"
          ]
        },
        {
          "output_type": "stream",
          "name": "stdout",
          "text": [
            "Batch 120 | Loss: 0.0404 | Learning rate:  0.000006\n"
          ]
        },
        {
          "output_type": "stream",
          "name": "stderr",
          "text": [
            "Start training the model for one epoch...:  95%|█████████▍| 140/148 [01:00<00:03,  2.38it/s]"
          ]
        },
        {
          "output_type": "stream",
          "name": "stdout",
          "text": [
            "Batch 140 | Loss: 0.0480 | Learning rate:  0.000006\n"
          ]
        },
        {
          "output_type": "stream",
          "name": "stderr",
          "text": [
            "Start training the model for one epoch...: 100%|██████████| 148/148 [01:03<00:00,  2.33it/s]\n",
            "954it [02:07,  7.48it/s]\n"
          ]
        },
        {
          "output_type": "stream",
          "name": "stdout",
          "text": [
            "Epoch: 131, train loss: 0.03639085920577919, val_loss: 0.4328742860513788, val_dice: 0.11495937147474856, val_IoU: 0.10169549331512487\n"
          ]
        },
        {
          "output_type": "stream",
          "name": "stderr",
          "text": [
            "Start training the model for one epoch...:  14%|█▎        | 20/148 [00:09<00:53,  2.37it/s]"
          ]
        },
        {
          "output_type": "stream",
          "name": "stdout",
          "text": [
            "Batch 20 | Loss: 0.0143 | Learning rate:  0.000006\n"
          ]
        },
        {
          "output_type": "stream",
          "name": "stderr",
          "text": [
            "Start training the model for one epoch...:  27%|██▋       | 40/148 [00:18<00:45,  2.37it/s]"
          ]
        },
        {
          "output_type": "stream",
          "name": "stdout",
          "text": [
            "Batch 40 | Loss: 0.0335 | Learning rate:  0.000006\n"
          ]
        },
        {
          "output_type": "stream",
          "name": "stderr",
          "text": [
            "Start training the model for one epoch...:  41%|████      | 60/148 [00:26<00:37,  2.38it/s]"
          ]
        },
        {
          "output_type": "stream",
          "name": "stdout",
          "text": [
            "Batch 60 | Loss: 0.0218 | Learning rate:  0.000006\n"
          ]
        },
        {
          "output_type": "stream",
          "name": "stderr",
          "text": [
            "Start training the model for one epoch...:  54%|█████▍    | 80/148 [00:35<00:28,  2.37it/s]"
          ]
        },
        {
          "output_type": "stream",
          "name": "stdout",
          "text": [
            "Batch 80 | Loss: 0.0209 | Learning rate:  0.000006\n"
          ]
        },
        {
          "output_type": "stream",
          "name": "stderr",
          "text": [
            "Start training the model for one epoch...:  68%|██████▊   | 100/148 [00:43<00:20,  2.37it/s]"
          ]
        },
        {
          "output_type": "stream",
          "name": "stdout",
          "text": [
            "Batch 100 | Loss: 0.0522 | Learning rate:  0.000006\n"
          ]
        },
        {
          "output_type": "stream",
          "name": "stderr",
          "text": [
            "Start training the model for one epoch...:  81%|████████  | 120/148 [00:51<00:11,  2.37it/s]"
          ]
        },
        {
          "output_type": "stream",
          "name": "stdout",
          "text": [
            "Batch 120 | Loss: 0.0332 | Learning rate:  0.000006\n"
          ]
        },
        {
          "output_type": "stream",
          "name": "stderr",
          "text": [
            "Start training the model for one epoch...:  95%|█████████▍| 140/148 [01:00<00:03,  2.39it/s]"
          ]
        },
        {
          "output_type": "stream",
          "name": "stdout",
          "text": [
            "Batch 140 | Loss: 0.0253 | Learning rate:  0.000006\n"
          ]
        },
        {
          "output_type": "stream",
          "name": "stderr",
          "text": [
            "Start training the model for one epoch...: 100%|██████████| 148/148 [01:03<00:00,  2.33it/s]\n",
            "954it [02:08,  7.45it/s]\n"
          ]
        },
        {
          "output_type": "stream",
          "name": "stdout",
          "text": [
            "Epoch: 132, train loss: 0.03484887708406392, val_loss: 0.5193927552340165, val_dice: 0.1307825791079022, val_IoU: 0.11614117072731385\n"
          ]
        },
        {
          "output_type": "stream",
          "name": "stderr",
          "text": [
            "Start training the model for one epoch...:  14%|█▎        | 20/148 [00:09<00:54,  2.37it/s]"
          ]
        },
        {
          "output_type": "stream",
          "name": "stdout",
          "text": [
            "Batch 20 | Loss: 0.0337 | Learning rate:  0.000006\n"
          ]
        },
        {
          "output_type": "stream",
          "name": "stderr",
          "text": [
            "Start training the model for one epoch...:  27%|██▋       | 40/148 [00:18<00:45,  2.38it/s]"
          ]
        },
        {
          "output_type": "stream",
          "name": "stdout",
          "text": [
            "Batch 40 | Loss: 0.0724 | Learning rate:  0.000006\n"
          ]
        },
        {
          "output_type": "stream",
          "name": "stderr",
          "text": [
            "Start training the model for one epoch...:  41%|████      | 60/148 [00:26<00:37,  2.36it/s]"
          ]
        },
        {
          "output_type": "stream",
          "name": "stdout",
          "text": [
            "Batch 60 | Loss: 0.0316 | Learning rate:  0.000006\n"
          ]
        },
        {
          "output_type": "stream",
          "name": "stderr",
          "text": [
            "Start training the model for one epoch...:  54%|█████▍    | 80/148 [00:35<00:28,  2.37it/s]"
          ]
        },
        {
          "output_type": "stream",
          "name": "stdout",
          "text": [
            "Batch 80 | Loss: 0.0294 | Learning rate:  0.000006\n"
          ]
        },
        {
          "output_type": "stream",
          "name": "stderr",
          "text": [
            "Start training the model for one epoch...:  68%|██████▊   | 100/148 [00:43<00:20,  2.37it/s]"
          ]
        },
        {
          "output_type": "stream",
          "name": "stdout",
          "text": [
            "Batch 100 | Loss: 0.0192 | Learning rate:  0.000006\n"
          ]
        },
        {
          "output_type": "stream",
          "name": "stderr",
          "text": [
            "Start training the model for one epoch...:  81%|████████  | 120/148 [00:51<00:11,  2.37it/s]"
          ]
        },
        {
          "output_type": "stream",
          "name": "stdout",
          "text": [
            "Batch 120 | Loss: 0.0261 | Learning rate:  0.000006\n"
          ]
        },
        {
          "output_type": "stream",
          "name": "stderr",
          "text": [
            "Start training the model for one epoch...:  95%|█████████▍| 140/148 [01:00<00:03,  2.39it/s]"
          ]
        },
        {
          "output_type": "stream",
          "name": "stdout",
          "text": [
            "Batch 140 | Loss: 0.0267 | Learning rate:  0.000006\n"
          ]
        },
        {
          "output_type": "stream",
          "name": "stderr",
          "text": [
            "Start training the model for one epoch...: 100%|██████████| 148/148 [01:03<00:00,  2.32it/s]\n",
            "954it [02:07,  7.47it/s]\n"
          ]
        },
        {
          "output_type": "stream",
          "name": "stdout",
          "text": [
            "Epoch: 133, train loss: 0.03350982312868173, val_loss: 0.45185386131769456, val_dice: 0.12968642159630736, val_IoU: 0.11523112199503033\n"
          ]
        },
        {
          "output_type": "stream",
          "name": "stderr",
          "text": [
            "Start training the model for one epoch...:  14%|█▎        | 20/148 [00:09<00:54,  2.36it/s]"
          ]
        },
        {
          "output_type": "stream",
          "name": "stdout",
          "text": [
            "Batch 20 | Loss: 0.0226 | Learning rate:  0.000006\n"
          ]
        },
        {
          "output_type": "stream",
          "name": "stderr",
          "text": [
            "Start training the model for one epoch...:  27%|██▋       | 40/148 [00:18<00:45,  2.38it/s]"
          ]
        },
        {
          "output_type": "stream",
          "name": "stdout",
          "text": [
            "Batch 40 | Loss: 0.0427 | Learning rate:  0.000006\n"
          ]
        },
        {
          "output_type": "stream",
          "name": "stderr",
          "text": [
            "Start training the model for one epoch...:  41%|████      | 60/148 [00:26<00:37,  2.37it/s]"
          ]
        },
        {
          "output_type": "stream",
          "name": "stdout",
          "text": [
            "Batch 60 | Loss: 0.0380 | Learning rate:  0.000006\n"
          ]
        },
        {
          "output_type": "stream",
          "name": "stderr",
          "text": [
            "Start training the model for one epoch...:  54%|█████▍    | 80/148 [00:35<00:28,  2.37it/s]"
          ]
        },
        {
          "output_type": "stream",
          "name": "stdout",
          "text": [
            "Batch 80 | Loss: 0.0209 | Learning rate:  0.000006\n"
          ]
        },
        {
          "output_type": "stream",
          "name": "stderr",
          "text": [
            "Start training the model for one epoch...:  68%|██████▊   | 100/148 [00:43<00:20,  2.37it/s]"
          ]
        },
        {
          "output_type": "stream",
          "name": "stdout",
          "text": [
            "Batch 100 | Loss: 0.0683 | Learning rate:  0.000006\n"
          ]
        },
        {
          "output_type": "stream",
          "name": "stderr",
          "text": [
            "Start training the model for one epoch...:  81%|████████  | 120/148 [00:51<00:11,  2.36it/s]"
          ]
        },
        {
          "output_type": "stream",
          "name": "stdout",
          "text": [
            "Batch 120 | Loss: 0.0412 | Learning rate:  0.000006\n"
          ]
        },
        {
          "output_type": "stream",
          "name": "stderr",
          "text": [
            "Start training the model for one epoch...:  95%|█████████▍| 140/148 [01:00<00:03,  2.38it/s]"
          ]
        },
        {
          "output_type": "stream",
          "name": "stdout",
          "text": [
            "Batch 140 | Loss: 0.0539 | Learning rate:  0.000006\n"
          ]
        },
        {
          "output_type": "stream",
          "name": "stderr",
          "text": [
            "Start training the model for one epoch...: 100%|██████████| 148/148 [01:03<00:00,  2.33it/s]\n",
            "954it [02:07,  7.48it/s]\n"
          ]
        },
        {
          "output_type": "stream",
          "name": "stdout",
          "text": [
            "Epoch: 134, train loss: 0.03504498571635702, val_loss: 0.4474755667259358, val_dice: 0.11668009842809436, val_IoU: 0.10378465886998059\n"
          ]
        },
        {
          "output_type": "stream",
          "name": "stderr",
          "text": [
            "Start training the model for one epoch...:  14%|█▎        | 20/148 [00:09<00:53,  2.37it/s]"
          ]
        },
        {
          "output_type": "stream",
          "name": "stdout",
          "text": [
            "Batch 20 | Loss: 0.0132 | Learning rate:  0.000006\n"
          ]
        },
        {
          "output_type": "stream",
          "name": "stderr",
          "text": [
            "Start training the model for one epoch...:  27%|██▋       | 40/148 [00:18<00:45,  2.37it/s]"
          ]
        },
        {
          "output_type": "stream",
          "name": "stdout",
          "text": [
            "Batch 40 | Loss: 0.0315 | Learning rate:  0.000006\n"
          ]
        },
        {
          "output_type": "stream",
          "name": "stderr",
          "text": [
            "Start training the model for one epoch...:  41%|████      | 60/148 [00:27<00:50,  1.75it/s]"
          ]
        },
        {
          "output_type": "stream",
          "name": "stdout",
          "text": [
            "Batch 60 | Loss: 0.0312 | Learning rate:  0.000006\n"
          ]
        },
        {
          "output_type": "stream",
          "name": "stderr",
          "text": [
            "Start training the model for one epoch...:  54%|█████▍    | 80/148 [00:35<00:28,  2.37it/s]"
          ]
        },
        {
          "output_type": "stream",
          "name": "stdout",
          "text": [
            "Batch 80 | Loss: 0.0444 | Learning rate:  0.000006\n"
          ]
        },
        {
          "output_type": "stream",
          "name": "stderr",
          "text": [
            "Start training the model for one epoch...:  68%|██████▊   | 100/148 [00:43<00:20,  2.37it/s]"
          ]
        },
        {
          "output_type": "stream",
          "name": "stdout",
          "text": [
            "Batch 100 | Loss: 0.0353 | Learning rate:  0.000006\n"
          ]
        },
        {
          "output_type": "stream",
          "name": "stderr",
          "text": [
            "Start training the model for one epoch...:  81%|████████  | 120/148 [00:52<00:11,  2.37it/s]"
          ]
        },
        {
          "output_type": "stream",
          "name": "stdout",
          "text": [
            "Batch 120 | Loss: 0.0199 | Learning rate:  0.000006\n"
          ]
        },
        {
          "output_type": "stream",
          "name": "stderr",
          "text": [
            "Start training the model for one epoch...:  95%|█████████▍| 140/148 [01:00<00:03,  2.38it/s]"
          ]
        },
        {
          "output_type": "stream",
          "name": "stdout",
          "text": [
            "Batch 140 | Loss: 0.0300 | Learning rate:  0.000006\n"
          ]
        },
        {
          "output_type": "stream",
          "name": "stderr",
          "text": [
            "Start training the model for one epoch...: 100%|██████████| 148/148 [01:04<00:00,  2.31it/s]\n",
            "954it [02:07,  7.48it/s]\n"
          ]
        },
        {
          "output_type": "stream",
          "name": "stdout",
          "text": [
            "Epoch: 135, train loss: 0.03819211371670905, val_loss: 0.5182982495706724, val_dice: 0.12103188009874657, val_IoU: 0.10713135046769592\n"
          ]
        },
        {
          "output_type": "stream",
          "name": "stderr",
          "text": [
            "Start training the model for one epoch...:  14%|█▎        | 20/148 [00:09<00:54,  2.37it/s]"
          ]
        },
        {
          "output_type": "stream",
          "name": "stdout",
          "text": [
            "Batch 20 | Loss: 0.0521 | Learning rate:  0.000006\n"
          ]
        },
        {
          "output_type": "stream",
          "name": "stderr",
          "text": [
            "Start training the model for one epoch...:  27%|██▋       | 40/148 [00:18<00:45,  2.37it/s]"
          ]
        },
        {
          "output_type": "stream",
          "name": "stdout",
          "text": [
            "Batch 40 | Loss: 0.0261 | Learning rate:  0.000006\n"
          ]
        },
        {
          "output_type": "stream",
          "name": "stderr",
          "text": [
            "Start training the model for one epoch...:  41%|████      | 60/148 [00:26<00:37,  2.37it/s]"
          ]
        },
        {
          "output_type": "stream",
          "name": "stdout",
          "text": [
            "Batch 60 | Loss: 0.0296 | Learning rate:  0.000006\n"
          ]
        },
        {
          "output_type": "stream",
          "name": "stderr",
          "text": [
            "Start training the model for one epoch...:  54%|█████▍    | 80/148 [00:34<00:28,  2.37it/s]"
          ]
        },
        {
          "output_type": "stream",
          "name": "stdout",
          "text": [
            "Batch 80 | Loss: 0.0388 | Learning rate:  0.000006\n"
          ]
        },
        {
          "output_type": "stream",
          "name": "stderr",
          "text": [
            "Start training the model for one epoch...:  68%|██████▊   | 100/148 [00:43<00:20,  2.37it/s]"
          ]
        },
        {
          "output_type": "stream",
          "name": "stdout",
          "text": [
            "Batch 100 | Loss: 0.0247 | Learning rate:  0.000006\n"
          ]
        },
        {
          "output_type": "stream",
          "name": "stderr",
          "text": [
            "Start training the model for one epoch...:  81%|████████  | 120/148 [00:51<00:11,  2.36it/s]"
          ]
        },
        {
          "output_type": "stream",
          "name": "stdout",
          "text": [
            "Batch 120 | Loss: 0.0207 | Learning rate:  0.000006\n"
          ]
        },
        {
          "output_type": "stream",
          "name": "stderr",
          "text": [
            "Start training the model for one epoch...:  95%|█████████▍| 140/148 [01:00<00:03,  2.39it/s]"
          ]
        },
        {
          "output_type": "stream",
          "name": "stdout",
          "text": [
            "Batch 140 | Loss: 0.0318 | Learning rate:  0.000005\n"
          ]
        },
        {
          "output_type": "stream",
          "name": "stderr",
          "text": [
            "Start training the model for one epoch...: 100%|██████████| 148/148 [01:03<00:00,  2.33it/s]\n",
            "954it [02:07,  7.49it/s]\n"
          ]
        },
        {
          "output_type": "stream",
          "name": "stdout",
          "text": [
            "Epoch: 136, train loss: 0.03574255801032524, val_loss: 0.4636226297674439, val_dice: 0.1318655749260175, val_IoU: 0.11647041995670006\n"
          ]
        },
        {
          "output_type": "stream",
          "name": "stderr",
          "text": [
            "Start training the model for one epoch...:  14%|█▎        | 20/148 [00:09<00:53,  2.37it/s]"
          ]
        },
        {
          "output_type": "stream",
          "name": "stdout",
          "text": [
            "Batch 20 | Loss: 0.0263 | Learning rate:  0.000005\n"
          ]
        },
        {
          "output_type": "stream",
          "name": "stderr",
          "text": [
            "Start training the model for one epoch...:  27%|██▋       | 40/148 [00:18<00:45,  2.37it/s]"
          ]
        },
        {
          "output_type": "stream",
          "name": "stdout",
          "text": [
            "Batch 40 | Loss: 0.0238 | Learning rate:  0.000005\n"
          ]
        },
        {
          "output_type": "stream",
          "name": "stderr",
          "text": [
            "Start training the model for one epoch...:  41%|████      | 60/148 [00:26<00:37,  2.37it/s]"
          ]
        },
        {
          "output_type": "stream",
          "name": "stdout",
          "text": [
            "Batch 60 | Loss: 0.0492 | Learning rate:  0.000005\n"
          ]
        },
        {
          "output_type": "stream",
          "name": "stderr",
          "text": [
            "Start training the model for one epoch...:  54%|█████▍    | 80/148 [00:35<00:28,  2.37it/s]"
          ]
        },
        {
          "output_type": "stream",
          "name": "stdout",
          "text": [
            "Batch 80 | Loss: 0.0376 | Learning rate:  0.000005\n"
          ]
        },
        {
          "output_type": "stream",
          "name": "stderr",
          "text": [
            "Start training the model for one epoch...:  68%|██████▊   | 100/148 [00:43<00:20,  2.37it/s]"
          ]
        },
        {
          "output_type": "stream",
          "name": "stdout",
          "text": [
            "Batch 100 | Loss: 0.0342 | Learning rate:  0.000005\n"
          ]
        },
        {
          "output_type": "stream",
          "name": "stderr",
          "text": [
            "Start training the model for one epoch...:  81%|████████  | 120/148 [00:52<00:11,  2.37it/s]"
          ]
        },
        {
          "output_type": "stream",
          "name": "stdout",
          "text": [
            "Batch 120 | Loss: 0.0382 | Learning rate:  0.000005\n"
          ]
        },
        {
          "output_type": "stream",
          "name": "stderr",
          "text": [
            "Start training the model for one epoch...:  95%|█████████▍| 140/148 [01:00<00:03,  2.37it/s]"
          ]
        },
        {
          "output_type": "stream",
          "name": "stdout",
          "text": [
            "Batch 140 | Loss: 0.0173 | Learning rate:  0.000005\n"
          ]
        },
        {
          "output_type": "stream",
          "name": "stderr",
          "text": [
            "Start training the model for one epoch...: 100%|██████████| 148/148 [01:03<00:00,  2.32it/s]\n",
            "954it [02:08,  7.44it/s]\n"
          ]
        },
        {
          "output_type": "stream",
          "name": "stdout",
          "text": [
            "Epoch: 137, train loss: 0.034249789981372854, val_loss: 0.4745013828875509, val_dice: 0.12163232620037576, val_IoU: 0.10789468127702491\n"
          ]
        },
        {
          "output_type": "stream",
          "name": "stderr",
          "text": [
            "Start training the model for one epoch...:  14%|█▎        | 20/148 [00:09<00:54,  2.36it/s]"
          ]
        },
        {
          "output_type": "stream",
          "name": "stdout",
          "text": [
            "Batch 20 | Loss: 0.0124 | Learning rate:  0.000005\n"
          ]
        },
        {
          "output_type": "stream",
          "name": "stderr",
          "text": [
            "Start training the model for one epoch...:  27%|██▋       | 40/148 [00:18<00:45,  2.37it/s]"
          ]
        },
        {
          "output_type": "stream",
          "name": "stdout",
          "text": [
            "Batch 40 | Loss: 0.0220 | Learning rate:  0.000005\n"
          ]
        },
        {
          "output_type": "stream",
          "name": "stderr",
          "text": [
            "Start training the model for one epoch...:  41%|████      | 60/148 [00:26<00:37,  2.33it/s]"
          ]
        },
        {
          "output_type": "stream",
          "name": "stdout",
          "text": [
            "Batch 60 | Loss: 0.0296 | Learning rate:  0.000005\n"
          ]
        },
        {
          "output_type": "stream",
          "name": "stderr",
          "text": [
            "Start training the model for one epoch...:  54%|█████▍    | 80/148 [00:35<00:28,  2.37it/s]"
          ]
        },
        {
          "output_type": "stream",
          "name": "stdout",
          "text": [
            "Batch 80 | Loss: 0.0511 | Learning rate:  0.000005\n"
          ]
        },
        {
          "output_type": "stream",
          "name": "stderr",
          "text": [
            "Start training the model for one epoch...:  68%|██████▊   | 100/148 [00:43<00:20,  2.37it/s]"
          ]
        },
        {
          "output_type": "stream",
          "name": "stdout",
          "text": [
            "Batch 100 | Loss: 0.0382 | Learning rate:  0.000005\n"
          ]
        },
        {
          "output_type": "stream",
          "name": "stderr",
          "text": [
            "Start training the model for one epoch...:  81%|████████  | 120/148 [00:52<00:11,  2.36it/s]"
          ]
        },
        {
          "output_type": "stream",
          "name": "stdout",
          "text": [
            "Batch 120 | Loss: 0.0273 | Learning rate:  0.000005\n"
          ]
        },
        {
          "output_type": "stream",
          "name": "stderr",
          "text": [
            "Start training the model for one epoch...:  95%|█████████▍| 140/148 [01:00<00:03,  2.38it/s]"
          ]
        },
        {
          "output_type": "stream",
          "name": "stdout",
          "text": [
            "Batch 140 | Loss: 0.0442 | Learning rate:  0.000005\n"
          ]
        },
        {
          "output_type": "stream",
          "name": "stderr",
          "text": [
            "Start training the model for one epoch...: 100%|██████████| 148/148 [01:03<00:00,  2.32it/s]\n",
            "954it [02:07,  7.48it/s]\n"
          ]
        },
        {
          "output_type": "stream",
          "name": "stdout",
          "text": [
            "Epoch: 138, train loss: 0.033117037360883644, val_loss: 0.44263541172854054, val_dice: 0.1109055440997119, val_IoU: 0.09876107475713683\n"
          ]
        },
        {
          "output_type": "stream",
          "name": "stderr",
          "text": [
            "Start training the model for one epoch...:  14%|█▎        | 20/148 [00:09<00:53,  2.38it/s]"
          ]
        },
        {
          "output_type": "stream",
          "name": "stdout",
          "text": [
            "Batch 20 | Loss: 0.0414 | Learning rate:  0.000005\n"
          ]
        },
        {
          "output_type": "stream",
          "name": "stderr",
          "text": [
            "Start training the model for one epoch...:  27%|██▋       | 40/148 [00:18<00:45,  2.37it/s]"
          ]
        },
        {
          "output_type": "stream",
          "name": "stdout",
          "text": [
            "Batch 40 | Loss: 0.0313 | Learning rate:  0.000005\n"
          ]
        },
        {
          "output_type": "stream",
          "name": "stderr",
          "text": [
            "Start training the model for one epoch...:  41%|████      | 60/148 [00:26<00:37,  2.37it/s]"
          ]
        },
        {
          "output_type": "stream",
          "name": "stdout",
          "text": [
            "Batch 60 | Loss: 0.0174 | Learning rate:  0.000005\n"
          ]
        },
        {
          "output_type": "stream",
          "name": "stderr",
          "text": [
            "Start training the model for one epoch...:  54%|█████▍    | 80/148 [00:35<00:28,  2.37it/s]"
          ]
        },
        {
          "output_type": "stream",
          "name": "stdout",
          "text": [
            "Batch 80 | Loss: 0.0466 | Learning rate:  0.000005\n"
          ]
        },
        {
          "output_type": "stream",
          "name": "stderr",
          "text": [
            "Start training the model for one epoch...:  68%|██████▊   | 100/148 [00:43<00:20,  2.36it/s]"
          ]
        },
        {
          "output_type": "stream",
          "name": "stdout",
          "text": [
            "Batch 100 | Loss: 0.0324 | Learning rate:  0.000005\n"
          ]
        },
        {
          "output_type": "stream",
          "name": "stderr",
          "text": [
            "Start training the model for one epoch...:  81%|████████  | 120/148 [00:51<00:11,  2.37it/s]"
          ]
        },
        {
          "output_type": "stream",
          "name": "stdout",
          "text": [
            "Batch 120 | Loss: 0.0202 | Learning rate:  0.000005\n"
          ]
        },
        {
          "output_type": "stream",
          "name": "stderr",
          "text": [
            "Start training the model for one epoch...:  95%|█████████▍| 140/148 [01:00<00:03,  2.38it/s]"
          ]
        },
        {
          "output_type": "stream",
          "name": "stdout",
          "text": [
            "Batch 140 | Loss: 0.0342 | Learning rate:  0.000005\n"
          ]
        },
        {
          "output_type": "stream",
          "name": "stderr",
          "text": [
            "Start training the model for one epoch...: 100%|██████████| 148/148 [01:03<00:00,  2.32it/s]\n",
            "954it [02:07,  7.47it/s]\n"
          ]
        },
        {
          "output_type": "stream",
          "name": "stdout",
          "text": [
            "Epoch: 139, train loss: 0.03508902295819811, val_loss: 0.4629289990084039, val_dice: 0.1141349966460663, val_IoU: 0.10148648187777896\n"
          ]
        },
        {
          "output_type": "stream",
          "name": "stderr",
          "text": [
            "Start training the model for one epoch...:  14%|█▎        | 20/148 [00:09<00:54,  2.37it/s]"
          ]
        },
        {
          "output_type": "stream",
          "name": "stdout",
          "text": [
            "Batch 20 | Loss: 0.0468 | Learning rate:  0.000005\n"
          ]
        },
        {
          "output_type": "stream",
          "name": "stderr",
          "text": [
            "Start training the model for one epoch...:  27%|██▋       | 40/148 [00:18<00:45,  2.37it/s]"
          ]
        },
        {
          "output_type": "stream",
          "name": "stdout",
          "text": [
            "Batch 40 | Loss: 0.0284 | Learning rate:  0.000005\n"
          ]
        },
        {
          "output_type": "stream",
          "name": "stderr",
          "text": [
            "Start training the model for one epoch...:  41%|████      | 60/148 [00:26<00:37,  2.37it/s]"
          ]
        },
        {
          "output_type": "stream",
          "name": "stdout",
          "text": [
            "Batch 60 | Loss: 0.1884 | Learning rate:  0.000005\n"
          ]
        },
        {
          "output_type": "stream",
          "name": "stderr",
          "text": [
            "Start training the model for one epoch...:  54%|█████▍    | 80/148 [00:35<00:28,  2.37it/s]"
          ]
        },
        {
          "output_type": "stream",
          "name": "stdout",
          "text": [
            "Batch 80 | Loss: 0.0335 | Learning rate:  0.000005\n"
          ]
        },
        {
          "output_type": "stream",
          "name": "stderr",
          "text": [
            "Start training the model for one epoch...:  68%|██████▊   | 100/148 [00:43<00:20,  2.37it/s]"
          ]
        },
        {
          "output_type": "stream",
          "name": "stdout",
          "text": [
            "Batch 100 | Loss: 0.0417 | Learning rate:  0.000005\n"
          ]
        },
        {
          "output_type": "stream",
          "name": "stderr",
          "text": [
            "Start training the model for one epoch...:  81%|████████  | 120/148 [00:51<00:11,  2.37it/s]"
          ]
        },
        {
          "output_type": "stream",
          "name": "stdout",
          "text": [
            "Batch 120 | Loss: 0.0290 | Learning rate:  0.000005\n"
          ]
        },
        {
          "output_type": "stream",
          "name": "stderr",
          "text": [
            "Start training the model for one epoch...:  95%|█████████▍| 140/148 [01:00<00:03,  2.39it/s]"
          ]
        },
        {
          "output_type": "stream",
          "name": "stdout",
          "text": [
            "Batch 140 | Loss: 0.0402 | Learning rate:  0.000005\n"
          ]
        },
        {
          "output_type": "stream",
          "name": "stderr",
          "text": [
            "Start training the model for one epoch...: 100%|██████████| 148/148 [01:03<00:00,  2.32it/s]\n",
            "954it [02:07,  7.46it/s]\n"
          ]
        },
        {
          "output_type": "stream",
          "name": "stdout",
          "text": [
            "Epoch: 140, train loss: 0.03535265844579585, val_loss: 0.4237734760222195, val_dice: 0.12162389852494804, val_IoU: 0.10789072432460155\n"
          ]
        },
        {
          "output_type": "stream",
          "name": "stderr",
          "text": [
            "Start training the model for one epoch...:  14%|█▎        | 20/148 [00:09<00:53,  2.38it/s]"
          ]
        },
        {
          "output_type": "stream",
          "name": "stdout",
          "text": [
            "Batch 20 | Loss: 0.0468 | Learning rate:  0.000005\n"
          ]
        },
        {
          "output_type": "stream",
          "name": "stderr",
          "text": [
            "Start training the model for one epoch...:  27%|██▋       | 40/148 [00:18<00:45,  2.36it/s]"
          ]
        },
        {
          "output_type": "stream",
          "name": "stdout",
          "text": [
            "Batch 40 | Loss: 0.0503 | Learning rate:  0.000005\n"
          ]
        },
        {
          "output_type": "stream",
          "name": "stderr",
          "text": [
            "Start training the model for one epoch...:  41%|████      | 60/148 [00:27<00:37,  2.37it/s]"
          ]
        },
        {
          "output_type": "stream",
          "name": "stdout",
          "text": [
            "Batch 60 | Loss: 0.0340 | Learning rate:  0.000005\n"
          ]
        },
        {
          "output_type": "stream",
          "name": "stderr",
          "text": [
            "Start training the model for one epoch...:  54%|█████▍    | 80/148 [00:35<00:28,  2.36it/s]"
          ]
        },
        {
          "output_type": "stream",
          "name": "stdout",
          "text": [
            "Batch 80 | Loss: 0.0336 | Learning rate:  0.000005\n"
          ]
        },
        {
          "output_type": "stream",
          "name": "stderr",
          "text": [
            "Start training the model for one epoch...:  68%|██████▊   | 100/148 [00:44<00:20,  2.37it/s]"
          ]
        },
        {
          "output_type": "stream",
          "name": "stdout",
          "text": [
            "Batch 100 | Loss: 0.0372 | Learning rate:  0.000005\n"
          ]
        },
        {
          "output_type": "stream",
          "name": "stderr",
          "text": [
            "Start training the model for one epoch...:  81%|████████  | 120/148 [00:52<00:11,  2.36it/s]"
          ]
        },
        {
          "output_type": "stream",
          "name": "stdout",
          "text": [
            "Batch 120 | Loss: 0.0254 | Learning rate:  0.000005\n"
          ]
        },
        {
          "output_type": "stream",
          "name": "stderr",
          "text": [
            "Start training the model for one epoch...:  95%|█████████▍| 140/148 [01:00<00:03,  2.39it/s]"
          ]
        },
        {
          "output_type": "stream",
          "name": "stdout",
          "text": [
            "Batch 140 | Loss: 0.0153 | Learning rate:  0.000005\n"
          ]
        },
        {
          "output_type": "stream",
          "name": "stderr",
          "text": [
            "Start training the model for one epoch...: 100%|██████████| 148/148 [01:04<00:00,  2.30it/s]\n",
            "954it [02:07,  7.46it/s]\n"
          ]
        },
        {
          "output_type": "stream",
          "name": "stdout",
          "text": [
            "Epoch: 141, train loss: 0.03205611209095632, val_loss: 0.4489563765234667, val_dice: 0.1270917338453443, val_IoU: 0.11289485696886184\n"
          ]
        },
        {
          "output_type": "stream",
          "name": "stderr",
          "text": [
            "Start training the model for one epoch...:  14%|█▎        | 20/148 [00:09<00:53,  2.37it/s]"
          ]
        },
        {
          "output_type": "stream",
          "name": "stdout",
          "text": [
            "Batch 20 | Loss: 0.0412 | Learning rate:  0.000005\n"
          ]
        },
        {
          "output_type": "stream",
          "name": "stderr",
          "text": [
            "Start training the model for one epoch...:  27%|██▋       | 40/148 [00:18<00:45,  2.37it/s]"
          ]
        },
        {
          "output_type": "stream",
          "name": "stdout",
          "text": [
            "Batch 40 | Loss: 0.0524 | Learning rate:  0.000005\n"
          ]
        },
        {
          "output_type": "stream",
          "name": "stderr",
          "text": [
            "Start training the model for one epoch...:  41%|████      | 60/148 [00:26<00:37,  2.37it/s]"
          ]
        },
        {
          "output_type": "stream",
          "name": "stdout",
          "text": [
            "Batch 60 | Loss: 0.0909 | Learning rate:  0.000005\n"
          ]
        },
        {
          "output_type": "stream",
          "name": "stderr",
          "text": [
            "Start training the model for one epoch...:  54%|█████▍    | 80/148 [00:35<00:28,  2.36it/s]"
          ]
        },
        {
          "output_type": "stream",
          "name": "stdout",
          "text": [
            "Batch 80 | Loss: 0.0305 | Learning rate:  0.000005\n"
          ]
        },
        {
          "output_type": "stream",
          "name": "stderr",
          "text": [
            "Start training the model for one epoch...:  68%|██████▊   | 100/148 [00:43<00:20,  2.37it/s]"
          ]
        },
        {
          "output_type": "stream",
          "name": "stdout",
          "text": [
            "Batch 100 | Loss: 0.0280 | Learning rate:  0.000005\n"
          ]
        },
        {
          "output_type": "stream",
          "name": "stderr",
          "text": [
            "Start training the model for one epoch...:  81%|████████  | 120/148 [00:51<00:11,  2.37it/s]"
          ]
        },
        {
          "output_type": "stream",
          "name": "stdout",
          "text": [
            "Batch 120 | Loss: 0.0359 | Learning rate:  0.000005\n"
          ]
        },
        {
          "output_type": "stream",
          "name": "stderr",
          "text": [
            "Start training the model for one epoch...:  95%|█████████▍| 140/148 [01:00<00:03,  2.38it/s]"
          ]
        },
        {
          "output_type": "stream",
          "name": "stdout",
          "text": [
            "Batch 140 | Loss: 0.0373 | Learning rate:  0.000005\n"
          ]
        },
        {
          "output_type": "stream",
          "name": "stderr",
          "text": [
            "Start training the model for one epoch...: 100%|██████████| 148/148 [01:03<00:00,  2.33it/s]\n",
            "954it [02:07,  7.47it/s]\n"
          ]
        },
        {
          "output_type": "stream",
          "name": "stdout",
          "text": [
            "Epoch: 142, train loss: 0.03355641266003855, val_loss: 0.4318611156800664, val_dice: 0.13446011532373078, val_IoU: 0.11908417571537856\n"
          ]
        },
        {
          "output_type": "stream",
          "name": "stderr",
          "text": [
            "Start training the model for one epoch...:  14%|█▎        | 20/148 [00:09<00:54,  2.37it/s]"
          ]
        },
        {
          "output_type": "stream",
          "name": "stdout",
          "text": [
            "Batch 20 | Loss: 0.0367 | Learning rate:  0.000005\n"
          ]
        },
        {
          "output_type": "stream",
          "name": "stderr",
          "text": [
            "Start training the model for one epoch...:  27%|██▋       | 40/148 [00:18<00:45,  2.38it/s]"
          ]
        },
        {
          "output_type": "stream",
          "name": "stdout",
          "text": [
            "Batch 40 | Loss: 0.0240 | Learning rate:  0.000005\n"
          ]
        },
        {
          "output_type": "stream",
          "name": "stderr",
          "text": [
            "Start training the model for one epoch...:  41%|████      | 60/148 [00:26<00:37,  2.37it/s]"
          ]
        },
        {
          "output_type": "stream",
          "name": "stdout",
          "text": [
            "Batch 60 | Loss: 0.0416 | Learning rate:  0.000005\n"
          ]
        },
        {
          "output_type": "stream",
          "name": "stderr",
          "text": [
            "Start training the model for one epoch...:  54%|█████▍    | 80/148 [00:34<00:28,  2.38it/s]"
          ]
        },
        {
          "output_type": "stream",
          "name": "stdout",
          "text": [
            "Batch 80 | Loss: 0.0423 | Learning rate:  0.000005\n"
          ]
        },
        {
          "output_type": "stream",
          "name": "stderr",
          "text": [
            "Start training the model for one epoch...:  68%|██████▊   | 100/148 [00:43<00:20,  2.37it/s]"
          ]
        },
        {
          "output_type": "stream",
          "name": "stdout",
          "text": [
            "Batch 100 | Loss: 0.1054 | Learning rate:  0.000005\n"
          ]
        },
        {
          "output_type": "stream",
          "name": "stderr",
          "text": [
            "Start training the model for one epoch...:  81%|████████  | 120/148 [00:52<00:11,  2.35it/s]"
          ]
        },
        {
          "output_type": "stream",
          "name": "stdout",
          "text": [
            "Batch 120 | Loss: 0.0115 | Learning rate:  0.000005\n"
          ]
        },
        {
          "output_type": "stream",
          "name": "stderr",
          "text": [
            "Start training the model for one epoch...:  95%|█████████▍| 140/148 [01:00<00:03,  2.38it/s]"
          ]
        },
        {
          "output_type": "stream",
          "name": "stdout",
          "text": [
            "Batch 140 | Loss: 0.0183 | Learning rate:  0.000005\n"
          ]
        },
        {
          "output_type": "stream",
          "name": "stderr",
          "text": [
            "Start training the model for one epoch...: 100%|██████████| 148/148 [01:04<00:00,  2.31it/s]\n",
            "954it [02:07,  7.47it/s]\n"
          ]
        },
        {
          "output_type": "stream",
          "name": "stdout",
          "text": [
            "Epoch: 143, train loss: 0.03279228528609147, val_loss: 0.436859421443733, val_dice: 0.09319247353423045, val_IoU: 0.08302972764524967\n"
          ]
        },
        {
          "output_type": "stream",
          "name": "stderr",
          "text": [
            "Start training the model for one epoch...:  14%|█▎        | 20/148 [00:09<00:54,  2.37it/s]"
          ]
        },
        {
          "output_type": "stream",
          "name": "stdout",
          "text": [
            "Batch 20 | Loss: 0.0223 | Learning rate:  0.000005\n"
          ]
        },
        {
          "output_type": "stream",
          "name": "stderr",
          "text": [
            "Start training the model for one epoch...:  27%|██▋       | 40/148 [00:18<00:45,  2.36it/s]"
          ]
        },
        {
          "output_type": "stream",
          "name": "stdout",
          "text": [
            "Batch 40 | Loss: 0.0219 | Learning rate:  0.000005\n"
          ]
        },
        {
          "output_type": "stream",
          "name": "stderr",
          "text": [
            "Start training the model for one epoch...:  41%|████      | 60/148 [00:26<00:37,  2.37it/s]"
          ]
        },
        {
          "output_type": "stream",
          "name": "stdout",
          "text": [
            "Batch 60 | Loss: 0.0489 | Learning rate:  0.000005\n"
          ]
        },
        {
          "output_type": "stream",
          "name": "stderr",
          "text": [
            "Start training the model for one epoch...:  54%|█████▍    | 80/148 [00:35<00:28,  2.37it/s]"
          ]
        },
        {
          "output_type": "stream",
          "name": "stdout",
          "text": [
            "Batch 80 | Loss: 0.0414 | Learning rate:  0.000005\n"
          ]
        },
        {
          "output_type": "stream",
          "name": "stderr",
          "text": [
            "Start training the model for one epoch...:  68%|██████▊   | 100/148 [00:43<00:20,  2.36it/s]"
          ]
        },
        {
          "output_type": "stream",
          "name": "stdout",
          "text": [
            "Batch 100 | Loss: 0.0282 | Learning rate:  0.000005\n"
          ]
        },
        {
          "output_type": "stream",
          "name": "stderr",
          "text": [
            "Start training the model for one epoch...:  81%|████████  | 120/148 [00:51<00:11,  2.37it/s]"
          ]
        },
        {
          "output_type": "stream",
          "name": "stdout",
          "text": [
            "Batch 120 | Loss: 0.0358 | Learning rate:  0.000005\n"
          ]
        },
        {
          "output_type": "stream",
          "name": "stderr",
          "text": [
            "Start training the model for one epoch...:  95%|█████████▍| 140/148 [01:00<00:03,  2.39it/s]"
          ]
        },
        {
          "output_type": "stream",
          "name": "stdout",
          "text": [
            "Batch 140 | Loss: 0.0356 | Learning rate:  0.000004\n"
          ]
        },
        {
          "output_type": "stream",
          "name": "stderr",
          "text": [
            "Start training the model for one epoch...: 100%|██████████| 148/148 [01:03<00:00,  2.32it/s]\n",
            "954it [02:07,  7.47it/s]\n"
          ]
        },
        {
          "output_type": "stream",
          "name": "stdout",
          "text": [
            "Epoch: 144, train loss: 0.031635343880593976, val_loss: 0.48090995620912724, val_dice: 0.10519368881244524, val_IoU: 0.09329578463623582\n"
          ]
        },
        {
          "output_type": "stream",
          "name": "stderr",
          "text": [
            "Start training the model for one epoch...:  14%|█▎        | 20/148 [00:09<00:54,  2.36it/s]"
          ]
        },
        {
          "output_type": "stream",
          "name": "stdout",
          "text": [
            "Batch 20 | Loss: 0.0150 | Learning rate:  0.000004\n"
          ]
        },
        {
          "output_type": "stream",
          "name": "stderr",
          "text": [
            "Start training the model for one epoch...:  27%|██▋       | 40/148 [00:18<00:45,  2.36it/s]"
          ]
        },
        {
          "output_type": "stream",
          "name": "stdout",
          "text": [
            "Batch 40 | Loss: 0.0360 | Learning rate:  0.000004\n"
          ]
        },
        {
          "output_type": "stream",
          "name": "stderr",
          "text": [
            "Start training the model for one epoch...:  41%|████      | 60/148 [00:26<00:37,  2.37it/s]"
          ]
        },
        {
          "output_type": "stream",
          "name": "stdout",
          "text": [
            "Batch 60 | Loss: 0.0235 | Learning rate:  0.000004\n"
          ]
        },
        {
          "output_type": "stream",
          "name": "stderr",
          "text": [
            "Start training the model for one epoch...:  54%|█████▍    | 80/148 [00:35<00:28,  2.37it/s]"
          ]
        },
        {
          "output_type": "stream",
          "name": "stdout",
          "text": [
            "Batch 80 | Loss: 0.0264 | Learning rate:  0.000004\n"
          ]
        },
        {
          "output_type": "stream",
          "name": "stderr",
          "text": [
            "Start training the model for one epoch...:  68%|██████▊   | 100/148 [00:43<00:20,  2.37it/s]"
          ]
        },
        {
          "output_type": "stream",
          "name": "stdout",
          "text": [
            "Batch 100 | Loss: 0.0323 | Learning rate:  0.000004\n"
          ]
        },
        {
          "output_type": "stream",
          "name": "stderr",
          "text": [
            "Start training the model for one epoch...:  81%|████████  | 120/148 [00:51<00:11,  2.36it/s]"
          ]
        },
        {
          "output_type": "stream",
          "name": "stdout",
          "text": [
            "Batch 120 | Loss: 0.0438 | Learning rate:  0.000004\n"
          ]
        },
        {
          "output_type": "stream",
          "name": "stderr",
          "text": [
            "Start training the model for one epoch...:  95%|█████████▍| 140/148 [01:00<00:03,  2.38it/s]"
          ]
        },
        {
          "output_type": "stream",
          "name": "stdout",
          "text": [
            "Batch 140 | Loss: 0.0301 | Learning rate:  0.000004\n"
          ]
        },
        {
          "output_type": "stream",
          "name": "stderr",
          "text": [
            "Start training the model for one epoch...: 100%|██████████| 148/148 [01:03<00:00,  2.32it/s]\n",
            "954it [02:07,  7.47it/s]\n"
          ]
        },
        {
          "output_type": "stream",
          "name": "stdout",
          "text": [
            "Epoch: 145, train loss: 0.030858853857058124, val_loss: 0.46729923781218397, val_dice: 0.11201357796265957, val_IoU: 0.09946646772905768\n"
          ]
        },
        {
          "output_type": "stream",
          "name": "stderr",
          "text": [
            "Start training the model for one epoch...:  14%|█▎        | 20/148 [00:10<00:55,  2.29it/s]"
          ]
        },
        {
          "output_type": "stream",
          "name": "stdout",
          "text": [
            "Batch 20 | Loss: 0.0441 | Learning rate:  0.000004\n"
          ]
        },
        {
          "output_type": "stream",
          "name": "stderr",
          "text": [
            "Start training the model for one epoch...:  27%|██▋       | 40/148 [00:18<00:45,  2.37it/s]"
          ]
        },
        {
          "output_type": "stream",
          "name": "stdout",
          "text": [
            "Batch 40 | Loss: 0.0269 | Learning rate:  0.000004\n"
          ]
        },
        {
          "output_type": "stream",
          "name": "stderr",
          "text": [
            "Start training the model for one epoch...:  41%|████      | 60/148 [00:27<00:37,  2.37it/s]"
          ]
        },
        {
          "output_type": "stream",
          "name": "stdout",
          "text": [
            "Batch 60 | Loss: 0.0308 | Learning rate:  0.000004\n"
          ]
        },
        {
          "output_type": "stream",
          "name": "stderr",
          "text": [
            "Start training the model for one epoch...:  54%|█████▍    | 80/148 [00:35<00:28,  2.36it/s]"
          ]
        },
        {
          "output_type": "stream",
          "name": "stdout",
          "text": [
            "Batch 80 | Loss: 0.0071 | Learning rate:  0.000004\n"
          ]
        },
        {
          "output_type": "stream",
          "name": "stderr",
          "text": [
            "Start training the model for one epoch...:  68%|██████▊   | 100/148 [00:44<00:20,  2.37it/s]"
          ]
        },
        {
          "output_type": "stream",
          "name": "stdout",
          "text": [
            "Batch 100 | Loss: 0.0488 | Learning rate:  0.000004\n"
          ]
        },
        {
          "output_type": "stream",
          "name": "stderr",
          "text": [
            "Start training the model for one epoch...:  81%|████████  | 120/148 [00:52<00:11,  2.36it/s]"
          ]
        },
        {
          "output_type": "stream",
          "name": "stdout",
          "text": [
            "Batch 120 | Loss: 0.0231 | Learning rate:  0.000004\n"
          ]
        },
        {
          "output_type": "stream",
          "name": "stderr",
          "text": [
            "Start training the model for one epoch...:  95%|█████████▍| 140/148 [01:00<00:03,  2.37it/s]"
          ]
        },
        {
          "output_type": "stream",
          "name": "stdout",
          "text": [
            "Batch 140 | Loss: 0.0454 | Learning rate:  0.000004\n"
          ]
        },
        {
          "output_type": "stream",
          "name": "stderr",
          "text": [
            "Start training the model for one epoch...: 100%|██████████| 148/148 [01:04<00:00,  2.30it/s]\n",
            "954it [02:07,  7.47it/s]\n"
          ]
        },
        {
          "output_type": "stream",
          "name": "stdout",
          "text": [
            "Epoch: 146, train loss: 0.03236395520837726, val_loss: 0.43990320681479117, val_dice: 0.1162965264656566, val_IoU: 0.10313273780763901\n"
          ]
        },
        {
          "output_type": "stream",
          "name": "stderr",
          "text": [
            "Start training the model for one epoch...:  14%|█▎        | 20/148 [00:09<00:54,  2.37it/s]"
          ]
        },
        {
          "output_type": "stream",
          "name": "stdout",
          "text": [
            "Batch 20 | Loss: 0.0498 | Learning rate:  0.000004\n"
          ]
        },
        {
          "output_type": "stream",
          "name": "stderr",
          "text": [
            "Start training the model for one epoch...:  27%|██▋       | 40/148 [00:18<00:45,  2.37it/s]"
          ]
        },
        {
          "output_type": "stream",
          "name": "stdout",
          "text": [
            "Batch 40 | Loss: 0.0256 | Learning rate:  0.000004\n"
          ]
        },
        {
          "output_type": "stream",
          "name": "stderr",
          "text": [
            "Start training the model for one epoch...:  41%|████      | 60/148 [00:26<00:37,  2.37it/s]"
          ]
        },
        {
          "output_type": "stream",
          "name": "stdout",
          "text": [
            "Batch 60 | Loss: 0.0123 | Learning rate:  0.000004\n"
          ]
        },
        {
          "output_type": "stream",
          "name": "stderr",
          "text": [
            "Start training the model for one epoch...:  54%|█████▍    | 80/148 [00:35<00:28,  2.36it/s]"
          ]
        },
        {
          "output_type": "stream",
          "name": "stdout",
          "text": [
            "Batch 80 | Loss: 0.0135 | Learning rate:  0.000004\n"
          ]
        },
        {
          "output_type": "stream",
          "name": "stderr",
          "text": [
            "Start training the model for one epoch...:  68%|██████▊   | 100/148 [00:43<00:20,  2.37it/s]"
          ]
        },
        {
          "output_type": "stream",
          "name": "stdout",
          "text": [
            "Batch 100 | Loss: 0.0382 | Learning rate:  0.000004\n"
          ]
        },
        {
          "output_type": "stream",
          "name": "stderr",
          "text": [
            "Start training the model for one epoch...:  81%|████████  | 120/148 [00:52<00:11,  2.37it/s]"
          ]
        },
        {
          "output_type": "stream",
          "name": "stdout",
          "text": [
            "Batch 120 | Loss: 0.0359 | Learning rate:  0.000004\n"
          ]
        },
        {
          "output_type": "stream",
          "name": "stderr",
          "text": [
            "Start training the model for one epoch...:  95%|█████████▍| 140/148 [01:00<00:03,  2.38it/s]"
          ]
        },
        {
          "output_type": "stream",
          "name": "stdout",
          "text": [
            "Batch 140 | Loss: 0.0353 | Learning rate:  0.000004\n"
          ]
        },
        {
          "output_type": "stream",
          "name": "stderr",
          "text": [
            "Start training the model for one epoch...: 100%|██████████| 148/148 [01:03<00:00,  2.32it/s]\n",
            "954it [02:07,  7.47it/s]\n"
          ]
        },
        {
          "output_type": "stream",
          "name": "stdout",
          "text": [
            "Epoch: 147, train loss: 0.03416344923017597, val_loss: 0.44290456604563966, val_dice: 0.11845425633629984, val_IoU: 0.10498848642447359\n"
          ]
        },
        {
          "output_type": "stream",
          "name": "stderr",
          "text": [
            "Start training the model for one epoch...:  14%|█▎        | 20/148 [00:09<00:53,  2.37it/s]"
          ]
        },
        {
          "output_type": "stream",
          "name": "stdout",
          "text": [
            "Batch 20 | Loss: 0.0185 | Learning rate:  0.000004\n"
          ]
        },
        {
          "output_type": "stream",
          "name": "stderr",
          "text": [
            "Start training the model for one epoch...:  27%|██▋       | 40/148 [00:18<00:45,  2.36it/s]"
          ]
        },
        {
          "output_type": "stream",
          "name": "stdout",
          "text": [
            "Batch 40 | Loss: 0.0539 | Learning rate:  0.000004\n"
          ]
        },
        {
          "output_type": "stream",
          "name": "stderr",
          "text": [
            "Start training the model for one epoch...:  41%|████      | 60/148 [00:26<00:37,  2.37it/s]"
          ]
        },
        {
          "output_type": "stream",
          "name": "stdout",
          "text": [
            "Batch 60 | Loss: 0.0294 | Learning rate:  0.000004\n"
          ]
        },
        {
          "output_type": "stream",
          "name": "stderr",
          "text": [
            "Start training the model for one epoch...:  54%|█████▍    | 80/148 [00:35<00:28,  2.37it/s]"
          ]
        },
        {
          "output_type": "stream",
          "name": "stdout",
          "text": [
            "Batch 80 | Loss: 0.0256 | Learning rate:  0.000004\n"
          ]
        },
        {
          "output_type": "stream",
          "name": "stderr",
          "text": [
            "Start training the model for one epoch...:  68%|██████▊   | 100/148 [00:43<00:20,  2.37it/s]"
          ]
        },
        {
          "output_type": "stream",
          "name": "stdout",
          "text": [
            "Batch 100 | Loss: 0.0494 | Learning rate:  0.000004\n"
          ]
        },
        {
          "output_type": "stream",
          "name": "stderr",
          "text": [
            "Start training the model for one epoch...:  81%|████████  | 120/148 [00:52<00:11,  2.37it/s]"
          ]
        },
        {
          "output_type": "stream",
          "name": "stdout",
          "text": [
            "Batch 120 | Loss: 0.0283 | Learning rate:  0.000004\n"
          ]
        },
        {
          "output_type": "stream",
          "name": "stderr",
          "text": [
            "Start training the model for one epoch...:  95%|█████████▍| 140/148 [01:00<00:03,  2.38it/s]"
          ]
        },
        {
          "output_type": "stream",
          "name": "stdout",
          "text": [
            "Batch 140 | Loss: 0.0209 | Learning rate:  0.000004\n"
          ]
        },
        {
          "output_type": "stream",
          "name": "stderr",
          "text": [
            "Start training the model for one epoch...: 100%|██████████| 148/148 [01:04<00:00,  2.30it/s]\n",
            "954it [02:07,  7.48it/s]\n"
          ]
        },
        {
          "output_type": "stream",
          "name": "stdout",
          "text": [
            "Epoch: 148, train loss: 0.03277161764610257, val_loss: 0.42857489525194065, val_dice: 0.1597682415022242, val_IoU: 0.1398244023158606\n"
          ]
        },
        {
          "output_type": "stream",
          "name": "stderr",
          "text": [
            "Start training the model for one epoch...:  14%|█▎        | 20/148 [00:09<00:53,  2.38it/s]"
          ]
        },
        {
          "output_type": "stream",
          "name": "stdout",
          "text": [
            "Batch 20 | Loss: 0.0160 | Learning rate:  0.000004\n"
          ]
        },
        {
          "output_type": "stream",
          "name": "stderr",
          "text": [
            "Start training the model for one epoch...:  27%|██▋       | 40/148 [00:18<00:45,  2.37it/s]"
          ]
        },
        {
          "output_type": "stream",
          "name": "stdout",
          "text": [
            "Batch 40 | Loss: 0.0268 | Learning rate:  0.000004\n"
          ]
        },
        {
          "output_type": "stream",
          "name": "stderr",
          "text": [
            "Start training the model for one epoch...:  41%|████      | 60/148 [00:26<00:37,  2.37it/s]"
          ]
        },
        {
          "output_type": "stream",
          "name": "stdout",
          "text": [
            "Batch 60 | Loss: 0.0313 | Learning rate:  0.000004\n"
          ]
        },
        {
          "output_type": "stream",
          "name": "stderr",
          "text": [
            "Start training the model for one epoch...:  54%|█████▍    | 80/148 [00:35<00:28,  2.38it/s]"
          ]
        },
        {
          "output_type": "stream",
          "name": "stdout",
          "text": [
            "Batch 80 | Loss: 0.0241 | Learning rate:  0.000004\n"
          ]
        },
        {
          "output_type": "stream",
          "name": "stderr",
          "text": [
            "Start training the model for one epoch...:  68%|██████▊   | 100/148 [00:43<00:20,  2.37it/s]"
          ]
        },
        {
          "output_type": "stream",
          "name": "stdout",
          "text": [
            "Batch 100 | Loss: 0.0486 | Learning rate:  0.000004\n"
          ]
        },
        {
          "output_type": "stream",
          "name": "stderr",
          "text": [
            "Start training the model for one epoch...:  81%|████████  | 120/148 [00:51<00:11,  2.37it/s]"
          ]
        },
        {
          "output_type": "stream",
          "name": "stdout",
          "text": [
            "Batch 120 | Loss: 0.0516 | Learning rate:  0.000004\n"
          ]
        },
        {
          "output_type": "stream",
          "name": "stderr",
          "text": [
            "Start training the model for one epoch...:  95%|█████████▍| 140/148 [01:00<00:03,  2.38it/s]"
          ]
        },
        {
          "output_type": "stream",
          "name": "stdout",
          "text": [
            "Batch 140 | Loss: 0.0221 | Learning rate:  0.000004\n"
          ]
        },
        {
          "output_type": "stream",
          "name": "stderr",
          "text": [
            "Start training the model for one epoch...: 100%|██████████| 148/148 [01:03<00:00,  2.32it/s]\n",
            "954it [02:07,  7.46it/s]\n"
          ]
        },
        {
          "output_type": "stream",
          "name": "stdout",
          "text": [
            "Epoch: 149, train loss: 0.032932096079142915, val_loss: 0.42599555076855533, val_dice: 0.1552706779189971, val_IoU: 0.13609956835022474\n"
          ]
        },
        {
          "output_type": "stream",
          "name": "stderr",
          "text": [
            "Start training the model for one epoch...:  14%|█▎        | 20/148 [00:09<00:53,  2.37it/s]"
          ]
        },
        {
          "output_type": "stream",
          "name": "stdout",
          "text": [
            "Batch 20 | Loss: 0.0339 | Learning rate:  0.000004\n"
          ]
        },
        {
          "output_type": "stream",
          "name": "stderr",
          "text": [
            "Start training the model for one epoch...:  27%|██▋       | 40/148 [00:18<00:45,  2.37it/s]"
          ]
        },
        {
          "output_type": "stream",
          "name": "stdout",
          "text": [
            "Batch 40 | Loss: 0.0393 | Learning rate:  0.000004\n"
          ]
        },
        {
          "output_type": "stream",
          "name": "stderr",
          "text": [
            "Start training the model for one epoch...:  41%|████      | 60/148 [00:26<00:37,  2.37it/s]"
          ]
        },
        {
          "output_type": "stream",
          "name": "stdout",
          "text": [
            "Batch 60 | Loss: 0.0304 | Learning rate:  0.000004\n"
          ]
        },
        {
          "output_type": "stream",
          "name": "stderr",
          "text": [
            "Start training the model for one epoch...:  54%|█████▍    | 80/148 [00:34<00:28,  2.37it/s]"
          ]
        },
        {
          "output_type": "stream",
          "name": "stdout",
          "text": [
            "Batch 80 | Loss: 0.0292 | Learning rate:  0.000004\n"
          ]
        },
        {
          "output_type": "stream",
          "name": "stderr",
          "text": [
            "Start training the model for one epoch...:  68%|██████▊   | 100/148 [00:43<00:20,  2.37it/s]"
          ]
        },
        {
          "output_type": "stream",
          "name": "stdout",
          "text": [
            "Batch 100 | Loss: 0.0251 | Learning rate:  0.000004\n"
          ]
        },
        {
          "output_type": "stream",
          "name": "stderr",
          "text": [
            "Start training the model for one epoch...:  81%|████████  | 120/148 [00:51<00:11,  2.36it/s]"
          ]
        },
        {
          "output_type": "stream",
          "name": "stdout",
          "text": [
            "Batch 120 | Loss: 0.0295 | Learning rate:  0.000004\n"
          ]
        },
        {
          "output_type": "stream",
          "name": "stderr",
          "text": [
            "Start training the model for one epoch...:  95%|█████████▍| 140/148 [01:00<00:03,  2.38it/s]"
          ]
        },
        {
          "output_type": "stream",
          "name": "stdout",
          "text": [
            "Batch 140 | Loss: 0.0184 | Learning rate:  0.000004\n"
          ]
        },
        {
          "output_type": "stream",
          "name": "stderr",
          "text": [
            "Start training the model for one epoch...: 100%|██████████| 148/148 [01:03<00:00,  2.33it/s]\n",
            "954it [02:07,  7.46it/s]\n"
          ]
        },
        {
          "output_type": "stream",
          "name": "stdout",
          "text": [
            "Epoch: 150, train loss: 0.0336803913657629, val_loss: 0.3949555558009967, val_dice: 0.13909891105092365, val_IoU: 0.12251380476993143\n"
          ]
        },
        {
          "output_type": "stream",
          "name": "stderr",
          "text": [
            "Start training the model for one epoch...:  14%|█▎        | 20/148 [00:09<00:54,  2.36it/s]"
          ]
        },
        {
          "output_type": "stream",
          "name": "stdout",
          "text": [
            "Batch 20 | Loss: 0.0098 | Learning rate:  0.000004\n"
          ]
        },
        {
          "output_type": "stream",
          "name": "stderr",
          "text": [
            "Start training the model for one epoch...:  27%|██▋       | 40/148 [00:18<00:45,  2.37it/s]"
          ]
        },
        {
          "output_type": "stream",
          "name": "stdout",
          "text": [
            "Batch 40 | Loss: 0.0326 | Learning rate:  0.000004\n"
          ]
        },
        {
          "output_type": "stream",
          "name": "stderr",
          "text": [
            "Start training the model for one epoch...:  41%|████      | 60/148 [00:26<00:37,  2.37it/s]"
          ]
        },
        {
          "output_type": "stream",
          "name": "stdout",
          "text": [
            "Batch 60 | Loss: 0.0139 | Learning rate:  0.000004\n"
          ]
        },
        {
          "output_type": "stream",
          "name": "stderr",
          "text": [
            "Start training the model for one epoch...:  54%|█████▍    | 80/148 [00:35<00:28,  2.36it/s]"
          ]
        },
        {
          "output_type": "stream",
          "name": "stdout",
          "text": [
            "Batch 80 | Loss: 0.0300 | Learning rate:  0.000004\n"
          ]
        },
        {
          "output_type": "stream",
          "name": "stderr",
          "text": [
            "Start training the model for one epoch...:  68%|██████▊   | 100/148 [00:43<00:20,  2.37it/s]"
          ]
        },
        {
          "output_type": "stream",
          "name": "stdout",
          "text": [
            "Batch 100 | Loss: 0.0288 | Learning rate:  0.000004\n"
          ]
        },
        {
          "output_type": "stream",
          "name": "stderr",
          "text": [
            "Start training the model for one epoch...:  81%|████████  | 120/148 [00:52<00:12,  2.23it/s]"
          ]
        },
        {
          "output_type": "stream",
          "name": "stdout",
          "text": [
            "Batch 120 | Loss: 0.0225 | Learning rate:  0.000004\n"
          ]
        },
        {
          "output_type": "stream",
          "name": "stderr",
          "text": [
            "Start training the model for one epoch...:  95%|█████████▍| 140/148 [01:00<00:03,  2.38it/s]"
          ]
        },
        {
          "output_type": "stream",
          "name": "stdout",
          "text": [
            "Batch 140 | Loss: 0.0256 | Learning rate:  0.000004\n"
          ]
        },
        {
          "output_type": "stream",
          "name": "stderr",
          "text": [
            "Start training the model for one epoch...: 100%|██████████| 148/148 [01:04<00:00,  2.31it/s]\n",
            "954it [02:07,  7.47it/s]\n"
          ]
        },
        {
          "output_type": "stream",
          "name": "stdout",
          "text": [
            "Epoch: 151, train loss: 0.03087740487771461, val_loss: 0.43665293640451236, val_dice: 0.10081649807772959, val_IoU: 0.08980672767922337\n"
          ]
        },
        {
          "output_type": "stream",
          "name": "stderr",
          "text": [
            "Start training the model for one epoch...:  14%|█▎        | 20/148 [00:09<00:53,  2.38it/s]"
          ]
        },
        {
          "output_type": "stream",
          "name": "stdout",
          "text": [
            "Batch 20 | Loss: 0.0319 | Learning rate:  0.000004\n"
          ]
        },
        {
          "output_type": "stream",
          "name": "stderr",
          "text": [
            "Start training the model for one epoch...:  27%|██▋       | 40/148 [00:18<00:45,  2.36it/s]"
          ]
        },
        {
          "output_type": "stream",
          "name": "stdout",
          "text": [
            "Batch 40 | Loss: 0.0201 | Learning rate:  0.000004\n"
          ]
        },
        {
          "output_type": "stream",
          "name": "stderr",
          "text": [
            "Start training the model for one epoch...:  41%|████      | 60/148 [00:26<00:37,  2.37it/s]"
          ]
        },
        {
          "output_type": "stream",
          "name": "stdout",
          "text": [
            "Batch 60 | Loss: 0.0305 | Learning rate:  0.000004\n"
          ]
        },
        {
          "output_type": "stream",
          "name": "stderr",
          "text": [
            "Start training the model for one epoch...:  54%|█████▍    | 80/148 [00:35<00:28,  2.37it/s]"
          ]
        },
        {
          "output_type": "stream",
          "name": "stdout",
          "text": [
            "Batch 80 | Loss: 0.0210 | Learning rate:  0.000004\n"
          ]
        },
        {
          "output_type": "stream",
          "name": "stderr",
          "text": [
            "Start training the model for one epoch...:  68%|██████▊   | 100/148 [00:43<00:20,  2.37it/s]"
          ]
        },
        {
          "output_type": "stream",
          "name": "stdout",
          "text": [
            "Batch 100 | Loss: 0.0399 | Learning rate:  0.000004\n"
          ]
        },
        {
          "output_type": "stream",
          "name": "stderr",
          "text": [
            "Start training the model for one epoch...:  81%|████████  | 120/148 [00:51<00:11,  2.37it/s]"
          ]
        },
        {
          "output_type": "stream",
          "name": "stdout",
          "text": [
            "Batch 120 | Loss: 0.0515 | Learning rate:  0.000004\n"
          ]
        },
        {
          "output_type": "stream",
          "name": "stderr",
          "text": [
            "Start training the model for one epoch...:  95%|█████████▍| 140/148 [01:00<00:03,  2.38it/s]"
          ]
        },
        {
          "output_type": "stream",
          "name": "stdout",
          "text": [
            "Batch 140 | Loss: 0.0149 | Learning rate:  0.000004\n"
          ]
        },
        {
          "output_type": "stream",
          "name": "stderr",
          "text": [
            "Start training the model for one epoch...: 100%|██████████| 148/148 [01:03<00:00,  2.33it/s]\n",
            "954it [02:07,  7.47it/s]\n"
          ]
        },
        {
          "output_type": "stream",
          "name": "stdout",
          "text": [
            "Epoch: 152, train loss: 0.03170007757993566, val_loss: 0.39810314026721744, val_dice: 0.11024229829547236, val_IoU: 0.0979812453957389\n"
          ]
        },
        {
          "output_type": "stream",
          "name": "stderr",
          "text": [
            "Start training the model for one epoch...:  14%|█▎        | 20/148 [00:09<00:54,  2.37it/s]"
          ]
        },
        {
          "output_type": "stream",
          "name": "stdout",
          "text": [
            "Batch 20 | Loss: 0.0340 | Learning rate:  0.000004\n"
          ]
        },
        {
          "output_type": "stream",
          "name": "stderr",
          "text": [
            "Start training the model for one epoch...:  27%|██▋       | 40/148 [00:18<00:45,  2.37it/s]"
          ]
        },
        {
          "output_type": "stream",
          "name": "stdout",
          "text": [
            "Batch 40 | Loss: 0.0233 | Learning rate:  0.000004\n"
          ]
        },
        {
          "output_type": "stream",
          "name": "stderr",
          "text": [
            "Start training the model for one epoch...:  41%|████      | 60/148 [00:26<00:37,  2.37it/s]"
          ]
        },
        {
          "output_type": "stream",
          "name": "stdout",
          "text": [
            "Batch 60 | Loss: 0.0214 | Learning rate:  0.000004\n"
          ]
        },
        {
          "output_type": "stream",
          "name": "stderr",
          "text": [
            "Start training the model for one epoch...:  54%|█████▍    | 80/148 [00:35<00:28,  2.37it/s]"
          ]
        },
        {
          "output_type": "stream",
          "name": "stdout",
          "text": [
            "Batch 80 | Loss: 0.0242 | Learning rate:  0.000004\n"
          ]
        },
        {
          "output_type": "stream",
          "name": "stderr",
          "text": [
            "Start training the model for one epoch...:  68%|██████▊   | 100/148 [00:43<00:20,  2.37it/s]"
          ]
        },
        {
          "output_type": "stream",
          "name": "stdout",
          "text": [
            "Batch 100 | Loss: 0.0351 | Learning rate:  0.000004\n"
          ]
        },
        {
          "output_type": "stream",
          "name": "stderr",
          "text": [
            "Start training the model for one epoch...:  81%|████████  | 120/148 [00:51<00:11,  2.36it/s]"
          ]
        },
        {
          "output_type": "stream",
          "name": "stdout",
          "text": [
            "Batch 120 | Loss: 0.0251 | Learning rate:  0.000004\n"
          ]
        },
        {
          "output_type": "stream",
          "name": "stderr",
          "text": [
            "Start training the model for one epoch...:  95%|█████████▍| 140/148 [01:00<00:03,  2.39it/s]"
          ]
        },
        {
          "output_type": "stream",
          "name": "stdout",
          "text": [
            "Batch 140 | Loss: 0.0454 | Learning rate:  0.000003\n"
          ]
        },
        {
          "output_type": "stream",
          "name": "stderr",
          "text": [
            "Start training the model for one epoch...: 100%|██████████| 148/148 [01:03<00:00,  2.32it/s]\n",
            "954it [02:07,  7.46it/s]\n"
          ]
        },
        {
          "output_type": "stream",
          "name": "stdout",
          "text": [
            "Epoch: 153, train loss: 0.03235526964370463, val_loss: 0.3814139716459958, val_dice: 0.1596080148959549, val_IoU: 0.14179788008137073\n"
          ]
        },
        {
          "output_type": "stream",
          "name": "stderr",
          "text": [
            "Start training the model for one epoch...:  14%|█▎        | 20/148 [00:09<00:54,  2.36it/s]"
          ]
        },
        {
          "output_type": "stream",
          "name": "stdout",
          "text": [
            "Batch 20 | Loss: 0.0432 | Learning rate:  0.000003\n"
          ]
        },
        {
          "output_type": "stream",
          "name": "stderr",
          "text": [
            "Start training the model for one epoch...:  27%|██▋       | 40/148 [00:18<00:45,  2.37it/s]"
          ]
        },
        {
          "output_type": "stream",
          "name": "stdout",
          "text": [
            "Batch 40 | Loss: 0.0356 | Learning rate:  0.000003\n"
          ]
        },
        {
          "output_type": "stream",
          "name": "stderr",
          "text": [
            "Start training the model for one epoch...:  41%|████      | 60/148 [00:26<00:37,  2.37it/s]"
          ]
        },
        {
          "output_type": "stream",
          "name": "stdout",
          "text": [
            "Batch 60 | Loss: 0.0235 | Learning rate:  0.000003\n"
          ]
        },
        {
          "output_type": "stream",
          "name": "stderr",
          "text": [
            "Start training the model for one epoch...:  54%|█████▍    | 80/148 [00:35<00:28,  2.36it/s]"
          ]
        },
        {
          "output_type": "stream",
          "name": "stdout",
          "text": [
            "Batch 80 | Loss: 0.0189 | Learning rate:  0.000003\n"
          ]
        },
        {
          "output_type": "stream",
          "name": "stderr",
          "text": [
            "Start training the model for one epoch...:  68%|██████▊   | 100/148 [00:44<00:20,  2.37it/s]"
          ]
        },
        {
          "output_type": "stream",
          "name": "stdout",
          "text": [
            "Batch 100 | Loss: 0.0244 | Learning rate:  0.000003\n"
          ]
        },
        {
          "output_type": "stream",
          "name": "stderr",
          "text": [
            "Start training the model for one epoch...:  81%|████████  | 120/148 [00:52<00:11,  2.37it/s]"
          ]
        },
        {
          "output_type": "stream",
          "name": "stdout",
          "text": [
            "Batch 120 | Loss: 0.0413 | Learning rate:  0.000003\n"
          ]
        },
        {
          "output_type": "stream",
          "name": "stderr",
          "text": [
            "Start training the model for one epoch...:  95%|█████████▍| 140/148 [01:00<00:03,  2.38it/s]"
          ]
        },
        {
          "output_type": "stream",
          "name": "stdout",
          "text": [
            "Batch 140 | Loss: 0.0189 | Learning rate:  0.000003\n"
          ]
        },
        {
          "output_type": "stream",
          "name": "stderr",
          "text": [
            "Start training the model for one epoch...: 100%|██████████| 148/148 [01:04<00:00,  2.31it/s]\n",
            "954it [02:07,  7.46it/s]\n"
          ]
        },
        {
          "output_type": "stream",
          "name": "stdout",
          "text": [
            "Epoch: 154, train loss: 0.030180400866713072, val_loss: 0.3990673671829938, val_dice: 0.15187423938566708, val_IoU: 0.13512184633364988\n"
          ]
        },
        {
          "output_type": "stream",
          "name": "stderr",
          "text": [
            "Start training the model for one epoch...:  14%|█▎        | 20/148 [00:09<00:54,  2.37it/s]"
          ]
        },
        {
          "output_type": "stream",
          "name": "stdout",
          "text": [
            "Batch 20 | Loss: 0.0099 | Learning rate:  0.000003\n"
          ]
        },
        {
          "output_type": "stream",
          "name": "stderr",
          "text": [
            "Start training the model for one epoch...:  27%|██▋       | 40/148 [00:18<00:45,  2.37it/s]"
          ]
        },
        {
          "output_type": "stream",
          "name": "stdout",
          "text": [
            "Batch 40 | Loss: 0.0390 | Learning rate:  0.000003\n"
          ]
        },
        {
          "output_type": "stream",
          "name": "stderr",
          "text": [
            "Start training the model for one epoch...:  41%|████      | 60/148 [00:26<00:37,  2.37it/s]"
          ]
        },
        {
          "output_type": "stream",
          "name": "stdout",
          "text": [
            "Batch 60 | Loss: 0.0153 | Learning rate:  0.000003\n"
          ]
        },
        {
          "output_type": "stream",
          "name": "stderr",
          "text": [
            "Start training the model for one epoch...:  54%|█████▍    | 80/148 [00:35<00:28,  2.36it/s]"
          ]
        },
        {
          "output_type": "stream",
          "name": "stdout",
          "text": [
            "Batch 80 | Loss: 0.0611 | Learning rate:  0.000003\n"
          ]
        },
        {
          "output_type": "stream",
          "name": "stderr",
          "text": [
            "Start training the model for one epoch...:  68%|██████▊   | 100/148 [00:43<00:20,  2.36it/s]"
          ]
        },
        {
          "output_type": "stream",
          "name": "stdout",
          "text": [
            "Batch 100 | Loss: 0.0268 | Learning rate:  0.000003\n"
          ]
        },
        {
          "output_type": "stream",
          "name": "stderr",
          "text": [
            "Start training the model for one epoch...:  81%|████████  | 120/148 [00:51<00:11,  2.37it/s]"
          ]
        },
        {
          "output_type": "stream",
          "name": "stdout",
          "text": [
            "Batch 120 | Loss: 0.0277 | Learning rate:  0.000003\n"
          ]
        },
        {
          "output_type": "stream",
          "name": "stderr",
          "text": [
            "Start training the model for one epoch...:  95%|█████████▍| 140/148 [01:00<00:03,  2.38it/s]"
          ]
        },
        {
          "output_type": "stream",
          "name": "stdout",
          "text": [
            "Batch 140 | Loss: 0.0378 | Learning rate:  0.000003\n"
          ]
        },
        {
          "output_type": "stream",
          "name": "stderr",
          "text": [
            "Start training the model for one epoch...: 100%|██████████| 148/148 [01:03<00:00,  2.32it/s]\n",
            "954it [02:07,  7.46it/s]\n"
          ]
        },
        {
          "output_type": "stream",
          "name": "stdout",
          "text": [
            "Epoch: 155, train loss: 0.030211506680447003, val_loss: 0.4221471370250549, val_dice: 0.1305460027865945, val_IoU: 0.11624831740420809\n"
          ]
        },
        {
          "output_type": "stream",
          "name": "stderr",
          "text": [
            "Start training the model for one epoch...:  14%|█▎        | 20/148 [00:09<00:53,  2.37it/s]"
          ]
        },
        {
          "output_type": "stream",
          "name": "stdout",
          "text": [
            "Batch 20 | Loss: 0.0245 | Learning rate:  0.000003\n"
          ]
        },
        {
          "output_type": "stream",
          "name": "stderr",
          "text": [
            "Start training the model for one epoch...:  27%|██▋       | 40/148 [00:18<00:45,  2.37it/s]"
          ]
        },
        {
          "output_type": "stream",
          "name": "stdout",
          "text": [
            "Batch 40 | Loss: 0.0199 | Learning rate:  0.000003\n"
          ]
        },
        {
          "output_type": "stream",
          "name": "stderr",
          "text": [
            "Start training the model for one epoch...:  41%|████      | 60/148 [00:26<00:37,  2.37it/s]"
          ]
        },
        {
          "output_type": "stream",
          "name": "stdout",
          "text": [
            "Batch 60 | Loss: 0.0182 | Learning rate:  0.000003\n"
          ]
        },
        {
          "output_type": "stream",
          "name": "stderr",
          "text": [
            "Start training the model for one epoch...:  54%|█████▍    | 80/148 [00:35<00:28,  2.37it/s]"
          ]
        },
        {
          "output_type": "stream",
          "name": "stdout",
          "text": [
            "Batch 80 | Loss: 0.0339 | Learning rate:  0.000003\n"
          ]
        },
        {
          "output_type": "stream",
          "name": "stderr",
          "text": [
            "Start training the model for one epoch...:  68%|██████▊   | 100/148 [00:43<00:20,  2.37it/s]"
          ]
        },
        {
          "output_type": "stream",
          "name": "stdout",
          "text": [
            "Batch 100 | Loss: 0.0178 | Learning rate:  0.000003\n"
          ]
        },
        {
          "output_type": "stream",
          "name": "stderr",
          "text": [
            "Start training the model for one epoch...:  81%|████████  | 120/148 [00:51<00:11,  2.37it/s]"
          ]
        },
        {
          "output_type": "stream",
          "name": "stdout",
          "text": [
            "Batch 120 | Loss: 0.0381 | Learning rate:  0.000003\n"
          ]
        },
        {
          "output_type": "stream",
          "name": "stderr",
          "text": [
            "Start training the model for one epoch...:  95%|█████████▍| 140/148 [01:00<00:03,  2.38it/s]"
          ]
        },
        {
          "output_type": "stream",
          "name": "stdout",
          "text": [
            "Batch 140 | Loss: 0.0381 | Learning rate:  0.000003\n"
          ]
        },
        {
          "output_type": "stream",
          "name": "stderr",
          "text": [
            "Start training the model for one epoch...: 100%|██████████| 148/148 [01:03<00:00,  2.33it/s]\n",
            "954it [02:07,  7.46it/s]\n"
          ]
        },
        {
          "output_type": "stream",
          "name": "stdout",
          "text": [
            "Epoch: 156, train loss: 0.031749631580267404, val_loss: 0.45227751369730607, val_dice: 0.12407470715612189, val_IoU: 0.11047875220840764\n"
          ]
        },
        {
          "output_type": "stream",
          "name": "stderr",
          "text": [
            "Start training the model for one epoch...:  14%|█▎        | 20/148 [00:10<00:58,  2.18it/s]"
          ]
        },
        {
          "output_type": "stream",
          "name": "stdout",
          "text": [
            "Batch 20 | Loss: 0.0159 | Learning rate:  0.000003\n"
          ]
        },
        {
          "output_type": "stream",
          "name": "stderr",
          "text": [
            "Start training the model for one epoch...:  27%|██▋       | 40/148 [00:18<00:45,  2.37it/s]"
          ]
        },
        {
          "output_type": "stream",
          "name": "stdout",
          "text": [
            "Batch 40 | Loss: 0.0327 | Learning rate:  0.000003\n"
          ]
        },
        {
          "output_type": "stream",
          "name": "stderr",
          "text": [
            "Start training the model for one epoch...:  41%|████      | 60/148 [00:27<00:37,  2.36it/s]"
          ]
        },
        {
          "output_type": "stream",
          "name": "stdout",
          "text": [
            "Batch 60 | Loss: 0.0234 | Learning rate:  0.000003\n"
          ]
        },
        {
          "output_type": "stream",
          "name": "stderr",
          "text": [
            "Start training the model for one epoch...:  54%|█████▍    | 80/148 [00:35<00:28,  2.37it/s]"
          ]
        },
        {
          "output_type": "stream",
          "name": "stdout",
          "text": [
            "Batch 80 | Loss: 0.0304 | Learning rate:  0.000003\n"
          ]
        },
        {
          "output_type": "stream",
          "name": "stderr",
          "text": [
            "Start training the model for one epoch...:  68%|██████▊   | 100/148 [00:44<00:20,  2.37it/s]"
          ]
        },
        {
          "output_type": "stream",
          "name": "stdout",
          "text": [
            "Batch 100 | Loss: 0.0323 | Learning rate:  0.000003\n"
          ]
        },
        {
          "output_type": "stream",
          "name": "stderr",
          "text": [
            "Start training the model for one epoch...:  81%|████████  | 120/148 [00:52<00:11,  2.36it/s]"
          ]
        },
        {
          "output_type": "stream",
          "name": "stdout",
          "text": [
            "Batch 120 | Loss: 0.0093 | Learning rate:  0.000003\n"
          ]
        },
        {
          "output_type": "stream",
          "name": "stderr",
          "text": [
            "Start training the model for one epoch...:  95%|█████████▍| 140/148 [01:00<00:03,  2.38it/s]"
          ]
        },
        {
          "output_type": "stream",
          "name": "stdout",
          "text": [
            "Batch 140 | Loss: 0.0104 | Learning rate:  0.000003\n"
          ]
        },
        {
          "output_type": "stream",
          "name": "stderr",
          "text": [
            "Start training the model for one epoch...: 100%|██████████| 148/148 [01:04<00:00,  2.30it/s]\n",
            "954it [02:07,  7.46it/s]\n"
          ]
        },
        {
          "output_type": "stream",
          "name": "stdout",
          "text": [
            "Epoch: 157, train loss: 0.031043837834904726, val_loss: 0.37572371435255997, val_dice: 0.148752644485485, val_IoU: 0.1327068086365838\n"
          ]
        },
        {
          "output_type": "stream",
          "name": "stderr",
          "text": [
            "Start training the model for one epoch...:  14%|█▎        | 20/148 [00:09<00:54,  2.37it/s]"
          ]
        },
        {
          "output_type": "stream",
          "name": "stdout",
          "text": [
            "Batch 20 | Loss: 0.0486 | Learning rate:  0.000003\n"
          ]
        },
        {
          "output_type": "stream",
          "name": "stderr",
          "text": [
            "Start training the model for one epoch...:  27%|██▋       | 40/148 [00:18<00:45,  2.37it/s]"
          ]
        },
        {
          "output_type": "stream",
          "name": "stdout",
          "text": [
            "Batch 40 | Loss: 0.0330 | Learning rate:  0.000003\n"
          ]
        },
        {
          "output_type": "stream",
          "name": "stderr",
          "text": [
            "Start training the model for one epoch...:  41%|████      | 60/148 [00:26<00:37,  2.37it/s]"
          ]
        },
        {
          "output_type": "stream",
          "name": "stdout",
          "text": [
            "Batch 60 | Loss: 0.0157 | Learning rate:  0.000003\n"
          ]
        },
        {
          "output_type": "stream",
          "name": "stderr",
          "text": [
            "Start training the model for one epoch...:  54%|█████▍    | 80/148 [00:35<00:28,  2.35it/s]"
          ]
        },
        {
          "output_type": "stream",
          "name": "stdout",
          "text": [
            "Batch 80 | Loss: 0.0203 | Learning rate:  0.000003\n"
          ]
        },
        {
          "output_type": "stream",
          "name": "stderr",
          "text": [
            "Start training the model for one epoch...:  68%|██████▊   | 100/148 [00:43<00:20,  2.37it/s]"
          ]
        },
        {
          "output_type": "stream",
          "name": "stdout",
          "text": [
            "Batch 100 | Loss: 0.0438 | Learning rate:  0.000003\n"
          ]
        },
        {
          "output_type": "stream",
          "name": "stderr",
          "text": [
            "Start training the model for one epoch...:  81%|████████  | 120/148 [00:51<00:11,  2.36it/s]"
          ]
        },
        {
          "output_type": "stream",
          "name": "stdout",
          "text": [
            "Batch 120 | Loss: 0.0244 | Learning rate:  0.000003\n"
          ]
        },
        {
          "output_type": "stream",
          "name": "stderr",
          "text": [
            "Start training the model for one epoch...:  95%|█████████▍| 140/148 [01:00<00:03,  2.37it/s]"
          ]
        },
        {
          "output_type": "stream",
          "name": "stdout",
          "text": [
            "Batch 140 | Loss: 0.0490 | Learning rate:  0.000003\n"
          ]
        },
        {
          "output_type": "stream",
          "name": "stderr",
          "text": [
            "Start training the model for one epoch...: 100%|██████████| 148/148 [01:03<00:00,  2.32it/s]\n",
            "954it [02:07,  7.46it/s]\n"
          ]
        },
        {
          "output_type": "stream",
          "name": "stdout",
          "text": [
            "Epoch: 158, train loss: 0.031120198470464832, val_loss: 0.41447606697811334, val_dice: 0.1462763617744625, val_IoU: 0.13021028826234432\n"
          ]
        },
        {
          "output_type": "stream",
          "name": "stderr",
          "text": [
            "Start training the model for one epoch...:  14%|█▎        | 20/148 [00:09<00:54,  2.37it/s]"
          ]
        },
        {
          "output_type": "stream",
          "name": "stdout",
          "text": [
            "Batch 20 | Loss: 0.0372 | Learning rate:  0.000003\n"
          ]
        },
        {
          "output_type": "stream",
          "name": "stderr",
          "text": [
            "Start training the model for one epoch...:  27%|██▋       | 40/148 [00:17<00:45,  2.36it/s]"
          ]
        },
        {
          "output_type": "stream",
          "name": "stdout",
          "text": [
            "Batch 40 | Loss: 0.0335 | Learning rate:  0.000003\n"
          ]
        },
        {
          "output_type": "stream",
          "name": "stderr",
          "text": [
            "Start training the model for one epoch...:  41%|████      | 60/148 [00:26<00:37,  2.37it/s]"
          ]
        },
        {
          "output_type": "stream",
          "name": "stdout",
          "text": [
            "Batch 60 | Loss: 0.0128 | Learning rate:  0.000003\n"
          ]
        },
        {
          "output_type": "stream",
          "name": "stderr",
          "text": [
            "Start training the model for one epoch...:  54%|█████▍    | 80/148 [00:34<00:28,  2.37it/s]"
          ]
        },
        {
          "output_type": "stream",
          "name": "stdout",
          "text": [
            "Batch 80 | Loss: 0.0265 | Learning rate:  0.000003\n"
          ]
        },
        {
          "output_type": "stream",
          "name": "stderr",
          "text": [
            "Start training the model for one epoch...:  68%|██████▊   | 100/148 [00:43<00:20,  2.37it/s]"
          ]
        },
        {
          "output_type": "stream",
          "name": "stdout",
          "text": [
            "Batch 100 | Loss: 0.0241 | Learning rate:  0.000003\n"
          ]
        },
        {
          "output_type": "stream",
          "name": "stderr",
          "text": [
            "Start training the model for one epoch...:  81%|████████  | 120/148 [00:51<00:11,  2.37it/s]"
          ]
        },
        {
          "output_type": "stream",
          "name": "stdout",
          "text": [
            "Batch 120 | Loss: 0.0381 | Learning rate:  0.000003\n"
          ]
        },
        {
          "output_type": "stream",
          "name": "stderr",
          "text": [
            "Start training the model for one epoch...:  95%|█████████▍| 140/148 [01:00<00:03,  2.38it/s]"
          ]
        },
        {
          "output_type": "stream",
          "name": "stdout",
          "text": [
            "Batch 140 | Loss: 0.0307 | Learning rate:  0.000003\n"
          ]
        },
        {
          "output_type": "stream",
          "name": "stderr",
          "text": [
            "Start training the model for one epoch...: 100%|██████████| 148/148 [01:03<00:00,  2.33it/s]\n",
            "954it [02:08,  7.42it/s]\n"
          ]
        },
        {
          "output_type": "stream",
          "name": "stdout",
          "text": [
            "Epoch: 159, train loss: 0.029518374440109206, val_loss: 0.3925293481418672, val_dice: 0.1465440330435377, val_IoU: 0.13045007001772396\n"
          ]
        },
        {
          "output_type": "stream",
          "name": "stderr",
          "text": [
            "Start training the model for one epoch...:  14%|█▎        | 20/148 [00:09<00:54,  2.37it/s]"
          ]
        },
        {
          "output_type": "stream",
          "name": "stdout",
          "text": [
            "Batch 20 | Loss: 0.0184 | Learning rate:  0.000003\n"
          ]
        },
        {
          "output_type": "stream",
          "name": "stderr",
          "text": [
            "Start training the model for one epoch...:  27%|██▋       | 40/148 [00:18<00:45,  2.37it/s]"
          ]
        },
        {
          "output_type": "stream",
          "name": "stdout",
          "text": [
            "Batch 40 | Loss: 0.0308 | Learning rate:  0.000003\n"
          ]
        },
        {
          "output_type": "stream",
          "name": "stderr",
          "text": [
            "Start training the model for one epoch...:  41%|████      | 60/148 [00:26<00:37,  2.37it/s]"
          ]
        },
        {
          "output_type": "stream",
          "name": "stdout",
          "text": [
            "Batch 60 | Loss: 0.0401 | Learning rate:  0.000003\n"
          ]
        },
        {
          "output_type": "stream",
          "name": "stderr",
          "text": [
            "Start training the model for one epoch...:  54%|█████▍    | 80/148 [00:35<00:28,  2.37it/s]"
          ]
        },
        {
          "output_type": "stream",
          "name": "stdout",
          "text": [
            "Batch 80 | Loss: 0.0424 | Learning rate:  0.000003\n"
          ]
        },
        {
          "output_type": "stream",
          "name": "stderr",
          "text": [
            "Start training the model for one epoch...:  68%|██████▊   | 100/148 [00:43<00:20,  2.37it/s]"
          ]
        },
        {
          "output_type": "stream",
          "name": "stdout",
          "text": [
            "Batch 100 | Loss: 0.0242 | Learning rate:  0.000003\n"
          ]
        },
        {
          "output_type": "stream",
          "name": "stderr",
          "text": [
            "Start training the model for one epoch...:  81%|████████  | 120/148 [00:52<00:11,  2.36it/s]"
          ]
        },
        {
          "output_type": "stream",
          "name": "stdout",
          "text": [
            "Batch 120 | Loss: 0.0243 | Learning rate:  0.000003\n"
          ]
        },
        {
          "output_type": "stream",
          "name": "stderr",
          "text": [
            "Start training the model for one epoch...:  95%|█████████▍| 140/148 [01:00<00:03,  2.39it/s]"
          ]
        },
        {
          "output_type": "stream",
          "name": "stdout",
          "text": [
            "Batch 140 | Loss: 0.0345 | Learning rate:  0.000003\n"
          ]
        },
        {
          "output_type": "stream",
          "name": "stderr",
          "text": [
            "Start training the model for one epoch...: 100%|██████████| 148/148 [01:03<00:00,  2.32it/s]\n",
            "954it [02:08,  7.44it/s]\n"
          ]
        },
        {
          "output_type": "stream",
          "name": "stdout",
          "text": [
            "Epoch: 160, train loss: 0.029455560259521008, val_loss: 0.3715257560248551, val_dice: 0.15057003663857413, val_IoU: 0.1339304579638882\n"
          ]
        },
        {
          "output_type": "stream",
          "name": "stderr",
          "text": [
            "Start training the model for one epoch...:  14%|█▎        | 20/148 [00:09<00:54,  2.37it/s]"
          ]
        },
        {
          "output_type": "stream",
          "name": "stdout",
          "text": [
            "Batch 20 | Loss: 0.0165 | Learning rate:  0.000003\n"
          ]
        },
        {
          "output_type": "stream",
          "name": "stderr",
          "text": [
            "Start training the model for one epoch...:  27%|██▋       | 40/148 [00:18<00:45,  2.36it/s]"
          ]
        },
        {
          "output_type": "stream",
          "name": "stdout",
          "text": [
            "Batch 40 | Loss: 0.0171 | Learning rate:  0.000003\n"
          ]
        },
        {
          "output_type": "stream",
          "name": "stderr",
          "text": [
            "Start training the model for one epoch...:  41%|████      | 60/148 [00:26<00:37,  2.36it/s]"
          ]
        },
        {
          "output_type": "stream",
          "name": "stdout",
          "text": [
            "Batch 60 | Loss: 0.0257 | Learning rate:  0.000003\n"
          ]
        },
        {
          "output_type": "stream",
          "name": "stderr",
          "text": [
            "Start training the model for one epoch...:  54%|█████▍    | 80/148 [00:35<00:28,  2.36it/s]"
          ]
        },
        {
          "output_type": "stream",
          "name": "stdout",
          "text": [
            "Batch 80 | Loss: 0.0170 | Learning rate:  0.000003\n"
          ]
        },
        {
          "output_type": "stream",
          "name": "stderr",
          "text": [
            "Start training the model for one epoch...:  68%|██████▊   | 100/148 [00:43<00:20,  2.36it/s]"
          ]
        },
        {
          "output_type": "stream",
          "name": "stdout",
          "text": [
            "Batch 100 | Loss: 0.0471 | Learning rate:  0.000003\n"
          ]
        },
        {
          "output_type": "stream",
          "name": "stderr",
          "text": [
            "Start training the model for one epoch...:  81%|████████  | 120/148 [00:52<00:11,  2.36it/s]"
          ]
        },
        {
          "output_type": "stream",
          "name": "stdout",
          "text": [
            "Batch 120 | Loss: 0.0160 | Learning rate:  0.000003\n"
          ]
        },
        {
          "output_type": "stream",
          "name": "stderr",
          "text": [
            "Start training the model for one epoch...:  95%|█████████▍| 140/148 [01:00<00:03,  2.39it/s]"
          ]
        },
        {
          "output_type": "stream",
          "name": "stdout",
          "text": [
            "Batch 140 | Loss: 0.0124 | Learning rate:  0.000003\n"
          ]
        },
        {
          "output_type": "stream",
          "name": "stderr",
          "text": [
            "Start training the model for one epoch...: 100%|██████████| 148/148 [01:03<00:00,  2.32it/s]\n",
            "954it [02:08,  7.45it/s]\n"
          ]
        },
        {
          "output_type": "stream",
          "name": "stdout",
          "text": [
            "Epoch: 161, train loss: 0.03160102020420537, val_loss: 0.4087996123245365, val_dice: 0.11884400369013624, val_IoU: 0.10583249990170848\n"
          ]
        },
        {
          "output_type": "stream",
          "name": "stderr",
          "text": [
            "Start training the model for one epoch...:  14%|█▎        | 20/148 [00:09<00:54,  2.37it/s]"
          ]
        },
        {
          "output_type": "stream",
          "name": "stdout",
          "text": [
            "Batch 20 | Loss: 0.0159 | Learning rate:  0.000003\n"
          ]
        },
        {
          "output_type": "stream",
          "name": "stderr",
          "text": [
            "Start training the model for one epoch...:  27%|██▋       | 40/148 [00:18<00:45,  2.37it/s]"
          ]
        },
        {
          "output_type": "stream",
          "name": "stdout",
          "text": [
            "Batch 40 | Loss: 0.0385 | Learning rate:  0.000003\n"
          ]
        },
        {
          "output_type": "stream",
          "name": "stderr",
          "text": [
            "Start training the model for one epoch...:  41%|████      | 60/148 [00:26<00:37,  2.36it/s]"
          ]
        },
        {
          "output_type": "stream",
          "name": "stdout",
          "text": [
            "Batch 60 | Loss: 0.0264 | Learning rate:  0.000003\n"
          ]
        },
        {
          "output_type": "stream",
          "name": "stderr",
          "text": [
            "Start training the model for one epoch...:  54%|█████▍    | 80/148 [00:35<00:28,  2.36it/s]"
          ]
        },
        {
          "output_type": "stream",
          "name": "stdout",
          "text": [
            "Batch 80 | Loss: 0.0238 | Learning rate:  0.000003\n"
          ]
        },
        {
          "output_type": "stream",
          "name": "stderr",
          "text": [
            "Start training the model for one epoch...:  68%|██████▊   | 100/148 [00:43<00:20,  2.36it/s]"
          ]
        },
        {
          "output_type": "stream",
          "name": "stdout",
          "text": [
            "Batch 100 | Loss: 0.0323 | Learning rate:  0.000003\n"
          ]
        },
        {
          "output_type": "stream",
          "name": "stderr",
          "text": [
            "Start training the model for one epoch...:  81%|████████  | 120/148 [00:52<00:11,  2.36it/s]"
          ]
        },
        {
          "output_type": "stream",
          "name": "stdout",
          "text": [
            "Batch 120 | Loss: 0.0304 | Learning rate:  0.000003\n"
          ]
        },
        {
          "output_type": "stream",
          "name": "stderr",
          "text": [
            "Start training the model for one epoch...:  95%|█████████▍| 140/148 [01:00<00:03,  2.37it/s]"
          ]
        },
        {
          "output_type": "stream",
          "name": "stdout",
          "text": [
            "Batch 140 | Loss: 0.0206 | Learning rate:  0.000003\n"
          ]
        },
        {
          "output_type": "stream",
          "name": "stderr",
          "text": [
            "Start training the model for one epoch...: 100%|██████████| 148/148 [01:03<00:00,  2.32it/s]\n",
            "954it [02:08,  7.44it/s]\n"
          ]
        },
        {
          "output_type": "stream",
          "name": "stdout",
          "text": [
            "Epoch: 162, train loss: 0.030224234614571608, val_loss: 0.4159333867721838, val_dice: 0.12222777477872687, val_IoU: 0.10909940333493677\n"
          ]
        },
        {
          "output_type": "stream",
          "name": "stderr",
          "text": [
            "Start training the model for one epoch...:  14%|█▎        | 20/148 [00:09<00:53,  2.37it/s]"
          ]
        },
        {
          "output_type": "stream",
          "name": "stdout",
          "text": [
            "Batch 20 | Loss: 0.0267 | Learning rate:  0.000003\n"
          ]
        },
        {
          "output_type": "stream",
          "name": "stderr",
          "text": [
            "Start training the model for one epoch...:  27%|██▋       | 40/148 [00:18<00:45,  2.36it/s]"
          ]
        },
        {
          "output_type": "stream",
          "name": "stdout",
          "text": [
            "Batch 40 | Loss: 0.0297 | Learning rate:  0.000003\n"
          ]
        },
        {
          "output_type": "stream",
          "name": "stderr",
          "text": [
            "Start training the model for one epoch...:  41%|████      | 60/148 [00:26<00:37,  2.37it/s]"
          ]
        },
        {
          "output_type": "stream",
          "name": "stdout",
          "text": [
            "Batch 60 | Loss: 0.0277 | Learning rate:  0.000003\n"
          ]
        },
        {
          "output_type": "stream",
          "name": "stderr",
          "text": [
            "Start training the model for one epoch...:  54%|█████▍    | 80/148 [00:35<00:28,  2.36it/s]"
          ]
        },
        {
          "output_type": "stream",
          "name": "stdout",
          "text": [
            "Batch 80 | Loss: 0.0191 | Learning rate:  0.000003\n"
          ]
        },
        {
          "output_type": "stream",
          "name": "stderr",
          "text": [
            "Start training the model for one epoch...:  68%|██████▊   | 100/148 [00:43<00:20,  2.35it/s]"
          ]
        },
        {
          "output_type": "stream",
          "name": "stdout",
          "text": [
            "Batch 100 | Loss: 0.0225 | Learning rate:  0.000003\n"
          ]
        },
        {
          "output_type": "stream",
          "name": "stderr",
          "text": [
            "Start training the model for one epoch...:  81%|████████  | 120/148 [00:52<00:11,  2.36it/s]"
          ]
        },
        {
          "output_type": "stream",
          "name": "stdout",
          "text": [
            "Batch 120 | Loss: 0.0419 | Learning rate:  0.000003\n"
          ]
        },
        {
          "output_type": "stream",
          "name": "stderr",
          "text": [
            "Start training the model for one epoch...:  95%|█████████▍| 140/148 [01:00<00:03,  2.38it/s]"
          ]
        },
        {
          "output_type": "stream",
          "name": "stdout",
          "text": [
            "Batch 140 | Loss: 0.0211 | Learning rate:  0.000003\n"
          ]
        },
        {
          "output_type": "stream",
          "name": "stderr",
          "text": [
            "Start training the model for one epoch...: 100%|██████████| 148/148 [01:03<00:00,  2.32it/s]\n",
            "954it [02:07,  7.46it/s]\n"
          ]
        },
        {
          "output_type": "stream",
          "name": "stdout",
          "text": [
            "Epoch: 163, train loss: 0.033609235577436315, val_loss: 0.4022611113737652, val_dice: 0.1697821709359878, val_IoU: 0.14918159373561873\n"
          ]
        },
        {
          "output_type": "stream",
          "name": "stderr",
          "text": [
            "Start training the model for one epoch...:  14%|█▎        | 20/148 [00:10<01:14,  1.72it/s]"
          ]
        },
        {
          "output_type": "stream",
          "name": "stdout",
          "text": [
            "Batch 20 | Loss: 0.0206 | Learning rate:  0.000003\n"
          ]
        },
        {
          "output_type": "stream",
          "name": "stderr",
          "text": [
            "Start training the model for one epoch...:  27%|██▋       | 40/148 [00:18<00:45,  2.37it/s]"
          ]
        },
        {
          "output_type": "stream",
          "name": "stdout",
          "text": [
            "Batch 40 | Loss: 0.0290 | Learning rate:  0.000003\n"
          ]
        },
        {
          "output_type": "stream",
          "name": "stderr",
          "text": [
            "Start training the model for one epoch...:  41%|████      | 60/148 [00:27<00:37,  2.36it/s]"
          ]
        },
        {
          "output_type": "stream",
          "name": "stdout",
          "text": [
            "Batch 60 | Loss: 0.0203 | Learning rate:  0.000003\n"
          ]
        },
        {
          "output_type": "stream",
          "name": "stderr",
          "text": [
            "Start training the model for one epoch...:  54%|█████▍    | 80/148 [00:35<00:28,  2.36it/s]"
          ]
        },
        {
          "output_type": "stream",
          "name": "stdout",
          "text": [
            "Batch 80 | Loss: 0.0250 | Learning rate:  0.000003\n"
          ]
        },
        {
          "output_type": "stream",
          "name": "stderr",
          "text": [
            "Start training the model for one epoch...:  68%|██████▊   | 100/148 [00:44<00:20,  2.37it/s]"
          ]
        },
        {
          "output_type": "stream",
          "name": "stdout",
          "text": [
            "Batch 100 | Loss: 0.0125 | Learning rate:  0.000002\n"
          ]
        },
        {
          "output_type": "stream",
          "name": "stderr",
          "text": [
            "Start training the model for one epoch...:  81%|████████  | 120/148 [00:52<00:11,  2.36it/s]"
          ]
        },
        {
          "output_type": "stream",
          "name": "stdout",
          "text": [
            "Batch 120 | Loss: 0.0140 | Learning rate:  0.000002\n"
          ]
        },
        {
          "output_type": "stream",
          "name": "stderr",
          "text": [
            "Start training the model for one epoch...:  95%|█████████▍| 140/148 [01:01<00:03,  2.38it/s]"
          ]
        },
        {
          "output_type": "stream",
          "name": "stdout",
          "text": [
            "Batch 140 | Loss: 0.0223 | Learning rate:  0.000002\n"
          ]
        },
        {
          "output_type": "stream",
          "name": "stderr",
          "text": [
            "Start training the model for one epoch...: 100%|██████████| 148/148 [01:04<00:00,  2.30it/s]\n",
            "954it [02:08,  7.45it/s]\n"
          ]
        },
        {
          "output_type": "stream",
          "name": "stdout",
          "text": [
            "Epoch: 164, train loss: 0.030874356891758537, val_loss: 0.3888837739442567, val_dice: 0.1494194443403235, val_IoU: 0.13289621342664765\n"
          ]
        },
        {
          "output_type": "stream",
          "name": "stderr",
          "text": [
            "Start training the model for one epoch...:  14%|█▎        | 20/148 [00:09<00:54,  2.37it/s]"
          ]
        },
        {
          "output_type": "stream",
          "name": "stdout",
          "text": [
            "Batch 20 | Loss: 0.0156 | Learning rate:  0.000002\n"
          ]
        },
        {
          "output_type": "stream",
          "name": "stderr",
          "text": [
            "Start training the model for one epoch...:  27%|██▋       | 40/148 [00:18<00:45,  2.37it/s]"
          ]
        },
        {
          "output_type": "stream",
          "name": "stdout",
          "text": [
            "Batch 40 | Loss: 0.0209 | Learning rate:  0.000002\n"
          ]
        },
        {
          "output_type": "stream",
          "name": "stderr",
          "text": [
            "Start training the model for one epoch...:  41%|████      | 60/148 [00:26<00:37,  2.36it/s]"
          ]
        },
        {
          "output_type": "stream",
          "name": "stdout",
          "text": [
            "Batch 60 | Loss: 0.0282 | Learning rate:  0.000002\n"
          ]
        },
        {
          "output_type": "stream",
          "name": "stderr",
          "text": [
            "Start training the model for one epoch...:  54%|█████▍    | 80/148 [00:35<00:28,  2.36it/s]"
          ]
        },
        {
          "output_type": "stream",
          "name": "stdout",
          "text": [
            "Batch 80 | Loss: 0.0520 | Learning rate:  0.000002\n"
          ]
        },
        {
          "output_type": "stream",
          "name": "stderr",
          "text": [
            "Start training the model for one epoch...:  68%|██████▊   | 100/148 [00:43<00:20,  2.36it/s]"
          ]
        },
        {
          "output_type": "stream",
          "name": "stdout",
          "text": [
            "Batch 100 | Loss: 0.0244 | Learning rate:  0.000002\n"
          ]
        },
        {
          "output_type": "stream",
          "name": "stderr",
          "text": [
            "Start training the model for one epoch...:  81%|████████  | 120/148 [00:52<00:11,  2.37it/s]"
          ]
        },
        {
          "output_type": "stream",
          "name": "stdout",
          "text": [
            "Batch 120 | Loss: 0.0180 | Learning rate:  0.000002\n"
          ]
        },
        {
          "output_type": "stream",
          "name": "stderr",
          "text": [
            "Start training the model for one epoch...:  95%|█████████▍| 140/148 [01:00<00:03,  2.38it/s]"
          ]
        },
        {
          "output_type": "stream",
          "name": "stdout",
          "text": [
            "Batch 140 | Loss: 0.0349 | Learning rate:  0.000002\n"
          ]
        },
        {
          "output_type": "stream",
          "name": "stderr",
          "text": [
            "Start training the model for one epoch...: 100%|██████████| 148/148 [01:03<00:00,  2.32it/s]\n",
            "954it [02:08,  7.45it/s]\n"
          ]
        },
        {
          "output_type": "stream",
          "name": "stdout",
          "text": [
            "Epoch: 165, train loss: 0.029509119286730483, val_loss: 0.42206796478144276, val_dice: 0.15132449874206752, val_IoU: 0.13468361074724775\n"
          ]
        },
        {
          "output_type": "stream",
          "name": "stderr",
          "text": [
            "Start training the model for one epoch...:  14%|█▎        | 20/148 [00:09<00:54,  2.37it/s]"
          ]
        },
        {
          "output_type": "stream",
          "name": "stdout",
          "text": [
            "Batch 20 | Loss: 0.0295 | Learning rate:  0.000002\n"
          ]
        },
        {
          "output_type": "stream",
          "name": "stderr",
          "text": [
            "Start training the model for one epoch...:  27%|██▋       | 40/148 [00:18<00:45,  2.36it/s]"
          ]
        },
        {
          "output_type": "stream",
          "name": "stdout",
          "text": [
            "Batch 40 | Loss: 0.0288 | Learning rate:  0.000002\n"
          ]
        },
        {
          "output_type": "stream",
          "name": "stderr",
          "text": [
            "Start training the model for one epoch...:  41%|████      | 60/148 [00:26<00:37,  2.37it/s]"
          ]
        },
        {
          "output_type": "stream",
          "name": "stdout",
          "text": [
            "Batch 60 | Loss: 0.0454 | Learning rate:  0.000002\n"
          ]
        },
        {
          "output_type": "stream",
          "name": "stderr",
          "text": [
            "Start training the model for one epoch...:  54%|█████▍    | 80/148 [00:35<00:28,  2.36it/s]"
          ]
        },
        {
          "output_type": "stream",
          "name": "stdout",
          "text": [
            "Batch 80 | Loss: 0.0161 | Learning rate:  0.000002\n"
          ]
        },
        {
          "output_type": "stream",
          "name": "stderr",
          "text": [
            "Start training the model for one epoch...:  68%|██████▊   | 100/148 [00:44<00:20,  2.37it/s]"
          ]
        },
        {
          "output_type": "stream",
          "name": "stdout",
          "text": [
            "Batch 100 | Loss: 0.0247 | Learning rate:  0.000002\n"
          ]
        },
        {
          "output_type": "stream",
          "name": "stderr",
          "text": [
            "Start training the model for one epoch...:  81%|████████  | 120/148 [00:52<00:11,  2.36it/s]"
          ]
        },
        {
          "output_type": "stream",
          "name": "stdout",
          "text": [
            "Batch 120 | Loss: 0.0300 | Learning rate:  0.000002\n"
          ]
        },
        {
          "output_type": "stream",
          "name": "stderr",
          "text": [
            "Start training the model for one epoch...:  95%|█████████▍| 140/148 [01:01<00:03,  2.38it/s]"
          ]
        },
        {
          "output_type": "stream",
          "name": "stdout",
          "text": [
            "Batch 140 | Loss: 0.0267 | Learning rate:  0.000002\n"
          ]
        },
        {
          "output_type": "stream",
          "name": "stderr",
          "text": [
            "Start training the model for one epoch...: 100%|██████████| 148/148 [01:04<00:00,  2.30it/s]\n",
            "954it [02:08,  7.45it/s]\n"
          ]
        },
        {
          "output_type": "stream",
          "name": "stdout",
          "text": [
            "Epoch: 166, train loss: 0.029558803816955234, val_loss: 0.403388544198602, val_dice: 0.14878331707705417, val_IoU: 0.1324160357546807\n"
          ]
        },
        {
          "output_type": "stream",
          "name": "stderr",
          "text": [
            "Start training the model for one epoch...:  14%|█▎        | 20/148 [00:09<00:54,  2.37it/s]"
          ]
        },
        {
          "output_type": "stream",
          "name": "stdout",
          "text": [
            "Batch 20 | Loss: 0.0197 | Learning rate:  0.000002\n"
          ]
        },
        {
          "output_type": "stream",
          "name": "stderr",
          "text": [
            "Start training the model for one epoch...:  27%|██▋       | 40/148 [00:18<00:45,  2.37it/s]"
          ]
        },
        {
          "output_type": "stream",
          "name": "stdout",
          "text": [
            "Batch 40 | Loss: 0.0240 | Learning rate:  0.000002\n"
          ]
        },
        {
          "output_type": "stream",
          "name": "stderr",
          "text": [
            "Start training the model for one epoch...:  41%|████      | 60/148 [00:26<00:37,  2.37it/s]"
          ]
        },
        {
          "output_type": "stream",
          "name": "stdout",
          "text": [
            "Batch 60 | Loss: 0.0395 | Learning rate:  0.000002\n"
          ]
        },
        {
          "output_type": "stream",
          "name": "stderr",
          "text": [
            "Start training the model for one epoch...:  54%|█████▍    | 80/148 [00:35<00:28,  2.36it/s]"
          ]
        },
        {
          "output_type": "stream",
          "name": "stdout",
          "text": [
            "Batch 80 | Loss: 0.0290 | Learning rate:  0.000002\n"
          ]
        },
        {
          "output_type": "stream",
          "name": "stderr",
          "text": [
            "Start training the model for one epoch...:  68%|██████▊   | 100/148 [00:43<00:20,  2.36it/s]"
          ]
        },
        {
          "output_type": "stream",
          "name": "stdout",
          "text": [
            "Batch 100 | Loss: 0.0391 | Learning rate:  0.000002\n"
          ]
        },
        {
          "output_type": "stream",
          "name": "stderr",
          "text": [
            "Start training the model for one epoch...:  81%|████████  | 120/148 [00:52<00:11,  2.36it/s]"
          ]
        },
        {
          "output_type": "stream",
          "name": "stdout",
          "text": [
            "Batch 120 | Loss: 0.0330 | Learning rate:  0.000002\n"
          ]
        },
        {
          "output_type": "stream",
          "name": "stderr",
          "text": [
            "Start training the model for one epoch...:  95%|█████████▍| 140/148 [01:00<00:03,  2.39it/s]"
          ]
        },
        {
          "output_type": "stream",
          "name": "stdout",
          "text": [
            "Batch 140 | Loss: 0.0163 | Learning rate:  0.000002\n"
          ]
        },
        {
          "output_type": "stream",
          "name": "stderr",
          "text": [
            "Start training the model for one epoch...: 100%|██████████| 148/148 [01:03<00:00,  2.32it/s]\n",
            "954it [02:08,  7.45it/s]\n"
          ]
        },
        {
          "output_type": "stream",
          "name": "stdout",
          "text": [
            "Epoch: 167, train loss: 0.029750899858521047, val_loss: 0.38014124942634964, val_dice: 0.15644212191273207, val_IoU: 0.13886130819328546\n"
          ]
        },
        {
          "output_type": "stream",
          "name": "stderr",
          "text": [
            "Start training the model for one epoch...:  14%|█▎        | 20/148 [00:09<00:53,  2.37it/s]"
          ]
        },
        {
          "output_type": "stream",
          "name": "stdout",
          "text": [
            "Batch 20 | Loss: 0.0285 | Learning rate:  0.000002\n"
          ]
        },
        {
          "output_type": "stream",
          "name": "stderr",
          "text": [
            "Start training the model for one epoch...:  27%|██▋       | 40/148 [00:18<00:45,  2.37it/s]"
          ]
        },
        {
          "output_type": "stream",
          "name": "stdout",
          "text": [
            "Batch 40 | Loss: 0.0533 | Learning rate:  0.000002\n"
          ]
        },
        {
          "output_type": "stream",
          "name": "stderr",
          "text": [
            "Start training the model for one epoch...:  41%|████      | 60/148 [00:26<00:37,  2.37it/s]"
          ]
        },
        {
          "output_type": "stream",
          "name": "stdout",
          "text": [
            "Batch 60 | Loss: 0.0520 | Learning rate:  0.000002\n"
          ]
        },
        {
          "output_type": "stream",
          "name": "stderr",
          "text": [
            "Start training the model for one epoch...:  54%|█████▍    | 80/148 [00:35<00:28,  2.37it/s]"
          ]
        },
        {
          "output_type": "stream",
          "name": "stdout",
          "text": [
            "Batch 80 | Loss: 0.0269 | Learning rate:  0.000002\n"
          ]
        },
        {
          "output_type": "stream",
          "name": "stderr",
          "text": [
            "Start training the model for one epoch...:  68%|██████▊   | 100/148 [00:44<00:22,  2.15it/s]"
          ]
        },
        {
          "output_type": "stream",
          "name": "stdout",
          "text": [
            "Batch 100 | Loss: 0.0264 | Learning rate:  0.000002\n"
          ]
        },
        {
          "output_type": "stream",
          "name": "stderr",
          "text": [
            "Start training the model for one epoch...:  81%|████████  | 120/148 [00:52<00:11,  2.36it/s]"
          ]
        },
        {
          "output_type": "stream",
          "name": "stdout",
          "text": [
            "Batch 120 | Loss: 0.0141 | Learning rate:  0.000002\n"
          ]
        },
        {
          "output_type": "stream",
          "name": "stderr",
          "text": [
            "Start training the model for one epoch...:  95%|█████████▍| 140/148 [01:01<00:03,  2.38it/s]"
          ]
        },
        {
          "output_type": "stream",
          "name": "stdout",
          "text": [
            "Batch 140 | Loss: 0.0301 | Learning rate:  0.000002\n"
          ]
        },
        {
          "output_type": "stream",
          "name": "stderr",
          "text": [
            "Start training the model for one epoch...: 100%|██████████| 148/148 [01:04<00:00,  2.30it/s]\n",
            "954it [02:08,  7.45it/s]\n"
          ]
        },
        {
          "output_type": "stream",
          "name": "stdout",
          "text": [
            "Epoch: 168, train loss: 0.031216856671144832, val_loss: 0.3902504137664471, val_dice: 0.15343747540090935, val_IoU: 0.13636502624576072\n"
          ]
        },
        {
          "output_type": "stream",
          "name": "stderr",
          "text": [
            "Start training the model for one epoch...:  14%|█▎        | 20/148 [00:09<00:54,  2.36it/s]"
          ]
        },
        {
          "output_type": "stream",
          "name": "stdout",
          "text": [
            "Batch 20 | Loss: 0.0341 | Learning rate:  0.000002\n"
          ]
        },
        {
          "output_type": "stream",
          "name": "stderr",
          "text": [
            "Start training the model for one epoch...:  27%|██▋       | 40/148 [00:18<00:45,  2.36it/s]"
          ]
        },
        {
          "output_type": "stream",
          "name": "stdout",
          "text": [
            "Batch 40 | Loss: 0.0386 | Learning rate:  0.000002\n"
          ]
        },
        {
          "output_type": "stream",
          "name": "stderr",
          "text": [
            "Start training the model for one epoch...:  41%|████      | 60/148 [00:26<00:37,  2.37it/s]"
          ]
        },
        {
          "output_type": "stream",
          "name": "stdout",
          "text": [
            "Batch 60 | Loss: 0.0330 | Learning rate:  0.000002\n"
          ]
        },
        {
          "output_type": "stream",
          "name": "stderr",
          "text": [
            "Start training the model for one epoch...:  54%|█████▍    | 80/148 [00:35<00:28,  2.36it/s]"
          ]
        },
        {
          "output_type": "stream",
          "name": "stdout",
          "text": [
            "Batch 80 | Loss: 0.0464 | Learning rate:  0.000002\n"
          ]
        },
        {
          "output_type": "stream",
          "name": "stderr",
          "text": [
            "Start training the model for one epoch...:  68%|██████▊   | 100/148 [00:43<00:20,  2.36it/s]"
          ]
        },
        {
          "output_type": "stream",
          "name": "stdout",
          "text": [
            "Batch 100 | Loss: 0.0453 | Learning rate:  0.000002\n"
          ]
        },
        {
          "output_type": "stream",
          "name": "stderr",
          "text": [
            "Start training the model for one epoch...:  81%|████████  | 120/148 [00:52<00:11,  2.36it/s]"
          ]
        },
        {
          "output_type": "stream",
          "name": "stdout",
          "text": [
            "Batch 120 | Loss: 0.0225 | Learning rate:  0.000002\n"
          ]
        },
        {
          "output_type": "stream",
          "name": "stderr",
          "text": [
            "Start training the model for one epoch...:  95%|█████████▍| 140/148 [01:00<00:03,  2.38it/s]"
          ]
        },
        {
          "output_type": "stream",
          "name": "stdout",
          "text": [
            "Batch 140 | Loss: 0.0417 | Learning rate:  0.000002\n"
          ]
        },
        {
          "output_type": "stream",
          "name": "stderr",
          "text": [
            "Start training the model for one epoch...: 100%|██████████| 148/148 [01:03<00:00,  2.32it/s]\n",
            "954it [02:07,  7.46it/s]\n"
          ]
        },
        {
          "output_type": "stream",
          "name": "stdout",
          "text": [
            "Epoch: 169, train loss: 0.028831286223705958, val_loss: 0.3815308842355038, val_dice: 0.15217703281212316, val_IoU: 0.13532567371058282\n"
          ]
        },
        {
          "output_type": "stream",
          "name": "stderr",
          "text": [
            "Start training the model for one epoch...:  14%|█▎        | 20/148 [00:09<00:54,  2.37it/s]"
          ]
        },
        {
          "output_type": "stream",
          "name": "stdout",
          "text": [
            "Batch 20 | Loss: 0.0294 | Learning rate:  0.000002\n"
          ]
        },
        {
          "output_type": "stream",
          "name": "stderr",
          "text": [
            "Start training the model for one epoch...:  27%|██▋       | 40/148 [00:18<00:45,  2.36it/s]"
          ]
        },
        {
          "output_type": "stream",
          "name": "stdout",
          "text": [
            "Batch 40 | Loss: 0.0571 | Learning rate:  0.000002\n"
          ]
        },
        {
          "output_type": "stream",
          "name": "stderr",
          "text": [
            "Start training the model for one epoch...:  41%|████      | 60/148 [00:26<00:37,  2.37it/s]"
          ]
        },
        {
          "output_type": "stream",
          "name": "stdout",
          "text": [
            "Batch 60 | Loss: 0.0074 | Learning rate:  0.000002\n"
          ]
        },
        {
          "output_type": "stream",
          "name": "stderr",
          "text": [
            "Start training the model for one epoch...:  54%|█████▍    | 80/148 [00:35<00:28,  2.37it/s]"
          ]
        },
        {
          "output_type": "stream",
          "name": "stdout",
          "text": [
            "Batch 80 | Loss: 0.0134 | Learning rate:  0.000002\n"
          ]
        },
        {
          "output_type": "stream",
          "name": "stderr",
          "text": [
            "Start training the model for one epoch...:  68%|██████▊   | 100/148 [00:43<00:20,  2.36it/s]"
          ]
        },
        {
          "output_type": "stream",
          "name": "stdout",
          "text": [
            "Batch 100 | Loss: 0.0279 | Learning rate:  0.000002\n"
          ]
        },
        {
          "output_type": "stream",
          "name": "stderr",
          "text": [
            "Start training the model for one epoch...:  81%|████████  | 120/148 [00:52<00:11,  2.36it/s]"
          ]
        },
        {
          "output_type": "stream",
          "name": "stdout",
          "text": [
            "Batch 120 | Loss: 0.0223 | Learning rate:  0.000002\n"
          ]
        },
        {
          "output_type": "stream",
          "name": "stderr",
          "text": [
            "Start training the model for one epoch...:  95%|█████████▍| 140/148 [01:00<00:03,  2.38it/s]"
          ]
        },
        {
          "output_type": "stream",
          "name": "stdout",
          "text": [
            "Batch 140 | Loss: 0.0600 | Learning rate:  0.000002\n"
          ]
        },
        {
          "output_type": "stream",
          "name": "stderr",
          "text": [
            "Start training the model for one epoch...: 100%|██████████| 148/148 [01:03<00:00,  2.32it/s]\n",
            "954it [02:08,  7.45it/s]\n"
          ]
        },
        {
          "output_type": "stream",
          "name": "stdout",
          "text": [
            "Epoch: 170, train loss: 0.029886163777445216, val_loss: 0.40997218852179357, val_dice: 0.1664519947947831, val_IoU: 0.14761545132489207\n"
          ]
        },
        {
          "output_type": "stream",
          "name": "stderr",
          "text": [
            "Start training the model for one epoch...:  14%|█▎        | 20/148 [00:09<00:54,  2.37it/s]"
          ]
        },
        {
          "output_type": "stream",
          "name": "stdout",
          "text": [
            "Batch 20 | Loss: 0.0310 | Learning rate:  0.000002\n"
          ]
        },
        {
          "output_type": "stream",
          "name": "stderr",
          "text": [
            "Start training the model for one epoch...:  27%|██▋       | 40/148 [00:18<00:45,  2.37it/s]"
          ]
        },
        {
          "output_type": "stream",
          "name": "stdout",
          "text": [
            "Batch 40 | Loss: 0.0105 | Learning rate:  0.000002\n"
          ]
        },
        {
          "output_type": "stream",
          "name": "stderr",
          "text": [
            "Start training the model for one epoch...:  41%|████      | 60/148 [00:26<00:37,  2.37it/s]"
          ]
        },
        {
          "output_type": "stream",
          "name": "stdout",
          "text": [
            "Batch 60 | Loss: 0.0217 | Learning rate:  0.000002\n"
          ]
        },
        {
          "output_type": "stream",
          "name": "stderr",
          "text": [
            "Start training the model for one epoch...:  54%|█████▍    | 80/148 [00:35<00:28,  2.37it/s]"
          ]
        },
        {
          "output_type": "stream",
          "name": "stdout",
          "text": [
            "Batch 80 | Loss: 0.0374 | Learning rate:  0.000002\n"
          ]
        },
        {
          "output_type": "stream",
          "name": "stderr",
          "text": [
            "Start training the model for one epoch...:  68%|██████▊   | 100/148 [00:44<00:20,  2.36it/s]"
          ]
        },
        {
          "output_type": "stream",
          "name": "stdout",
          "text": [
            "Batch 100 | Loss: 0.0323 | Learning rate:  0.000002\n"
          ]
        },
        {
          "output_type": "stream",
          "name": "stderr",
          "text": [
            "Start training the model for one epoch...:  81%|████████  | 120/148 [00:52<00:11,  2.36it/s]"
          ]
        },
        {
          "output_type": "stream",
          "name": "stdout",
          "text": [
            "Batch 120 | Loss: 0.0134 | Learning rate:  0.000002\n"
          ]
        },
        {
          "output_type": "stream",
          "name": "stderr",
          "text": [
            "Start training the model for one epoch...:  95%|█████████▍| 140/148 [01:01<00:03,  2.38it/s]"
          ]
        },
        {
          "output_type": "stream",
          "name": "stdout",
          "text": [
            "Batch 140 | Loss: 0.0241 | Learning rate:  0.000002\n"
          ]
        },
        {
          "output_type": "stream",
          "name": "stderr",
          "text": [
            "Start training the model for one epoch...: 100%|██████████| 148/148 [01:04<00:00,  2.30it/s]\n",
            "954it [02:08,  7.43it/s]\n"
          ]
        },
        {
          "output_type": "stream",
          "name": "stdout",
          "text": [
            "Epoch: 171, train loss: 0.029885066641696, val_loss: 0.4093789902459088, val_dice: 0.16359429872489054, val_IoU: 0.14502671309788653\n"
          ]
        },
        {
          "output_type": "stream",
          "name": "stderr",
          "text": [
            "Start training the model for one epoch...:  14%|█▎        | 20/148 [00:09<00:55,  2.30it/s]"
          ]
        },
        {
          "output_type": "stream",
          "name": "stdout",
          "text": [
            "Batch 20 | Loss: 0.0297 | Learning rate:  0.000002\n"
          ]
        },
        {
          "output_type": "stream",
          "name": "stderr",
          "text": [
            "Start training the model for one epoch...:  27%|██▋       | 40/148 [00:18<00:45,  2.36it/s]"
          ]
        },
        {
          "output_type": "stream",
          "name": "stdout",
          "text": [
            "Batch 40 | Loss: 0.0236 | Learning rate:  0.000002\n"
          ]
        },
        {
          "output_type": "stream",
          "name": "stderr",
          "text": [
            "Start training the model for one epoch...:  41%|████      | 60/148 [00:26<00:37,  2.37it/s]"
          ]
        },
        {
          "output_type": "stream",
          "name": "stdout",
          "text": [
            "Batch 60 | Loss: 0.0095 | Learning rate:  0.000002\n"
          ]
        },
        {
          "output_type": "stream",
          "name": "stderr",
          "text": [
            "Start training the model for one epoch...:  54%|█████▍    | 80/148 [00:35<00:28,  2.36it/s]"
          ]
        },
        {
          "output_type": "stream",
          "name": "stdout",
          "text": [
            "Batch 80 | Loss: 0.0450 | Learning rate:  0.000002\n"
          ]
        },
        {
          "output_type": "stream",
          "name": "stderr",
          "text": [
            "Start training the model for one epoch...:  68%|██████▊   | 100/148 [00:43<00:20,  2.36it/s]"
          ]
        },
        {
          "output_type": "stream",
          "name": "stdout",
          "text": [
            "Batch 100 | Loss: 0.0224 | Learning rate:  0.000002\n"
          ]
        },
        {
          "output_type": "stream",
          "name": "stderr",
          "text": [
            "Start training the model for one epoch...:  81%|████████  | 120/148 [00:52<00:11,  2.35it/s]"
          ]
        },
        {
          "output_type": "stream",
          "name": "stdout",
          "text": [
            "Batch 120 | Loss: 0.0418 | Learning rate:  0.000002\n"
          ]
        },
        {
          "output_type": "stream",
          "name": "stderr",
          "text": [
            "Start training the model for one epoch...:  95%|█████████▍| 140/148 [01:00<00:03,  2.38it/s]"
          ]
        },
        {
          "output_type": "stream",
          "name": "stdout",
          "text": [
            "Batch 140 | Loss: 0.0448 | Learning rate:  0.000002\n"
          ]
        },
        {
          "output_type": "stream",
          "name": "stderr",
          "text": [
            "Start training the model for one epoch...: 100%|██████████| 148/148 [01:03<00:00,  2.31it/s]\n",
            "954it [02:08,  7.43it/s]\n"
          ]
        },
        {
          "output_type": "stream",
          "name": "stdout",
          "text": [
            "Epoch: 172, train loss: 0.028241701392658258, val_loss: 0.4240817277686401, val_dice: 0.15770462935154145, val_IoU: 0.1401042065599406\n"
          ]
        },
        {
          "output_type": "stream",
          "name": "stderr",
          "text": [
            "Start training the model for one epoch...:  14%|█▎        | 20/148 [00:09<00:54,  2.36it/s]"
          ]
        },
        {
          "output_type": "stream",
          "name": "stdout",
          "text": [
            "Batch 20 | Loss: 0.0154 | Learning rate:  0.000002\n"
          ]
        },
        {
          "output_type": "stream",
          "name": "stderr",
          "text": [
            "Start training the model for one epoch...:  27%|██▋       | 40/148 [00:18<00:45,  2.36it/s]"
          ]
        },
        {
          "output_type": "stream",
          "name": "stdout",
          "text": [
            "Batch 40 | Loss: 0.0338 | Learning rate:  0.000002\n"
          ]
        },
        {
          "output_type": "stream",
          "name": "stderr",
          "text": [
            "Start training the model for one epoch...:  41%|████      | 60/148 [00:26<00:37,  2.36it/s]"
          ]
        },
        {
          "output_type": "stream",
          "name": "stdout",
          "text": [
            "Batch 60 | Loss: 0.0050 | Learning rate:  0.000002\n"
          ]
        },
        {
          "output_type": "stream",
          "name": "stderr",
          "text": [
            "Start training the model for one epoch...:  54%|█████▍    | 80/148 [00:35<00:28,  2.35it/s]"
          ]
        },
        {
          "output_type": "stream",
          "name": "stdout",
          "text": [
            "Batch 80 | Loss: 0.0410 | Learning rate:  0.000002\n"
          ]
        },
        {
          "output_type": "stream",
          "name": "stderr",
          "text": [
            "Start training the model for one epoch...:  68%|██████▊   | 100/148 [00:43<00:20,  2.36it/s]"
          ]
        },
        {
          "output_type": "stream",
          "name": "stdout",
          "text": [
            "Batch 100 | Loss: 0.0369 | Learning rate:  0.000002\n"
          ]
        },
        {
          "output_type": "stream",
          "name": "stderr",
          "text": [
            "Start training the model for one epoch...:  81%|████████  | 120/148 [00:52<00:11,  2.35it/s]"
          ]
        },
        {
          "output_type": "stream",
          "name": "stdout",
          "text": [
            "Batch 120 | Loss: 0.0125 | Learning rate:  0.000002\n"
          ]
        },
        {
          "output_type": "stream",
          "name": "stderr",
          "text": [
            "Start training the model for one epoch...:  95%|█████████▍| 140/148 [01:00<00:03,  2.37it/s]"
          ]
        },
        {
          "output_type": "stream",
          "name": "stdout",
          "text": [
            "Batch 140 | Loss: 0.0181 | Learning rate:  0.000002\n"
          ]
        },
        {
          "output_type": "stream",
          "name": "stderr",
          "text": [
            "Start training the model for one epoch...: 100%|██████████| 148/148 [01:03<00:00,  2.31it/s]\n",
            "954it [02:08,  7.45it/s]\n"
          ]
        },
        {
          "output_type": "stream",
          "name": "stdout",
          "text": [
            "Epoch: 173, train loss: 0.029928081750718726, val_loss: 0.38490153774150515, val_dice: 0.15186176202475457, val_IoU: 0.1355151092379691\n"
          ]
        },
        {
          "output_type": "stream",
          "name": "stderr",
          "text": [
            "Start training the model for one epoch...:  14%|█▎        | 20/148 [00:09<00:54,  2.37it/s]"
          ]
        },
        {
          "output_type": "stream",
          "name": "stdout",
          "text": [
            "Batch 20 | Loss: 0.0391 | Learning rate:  0.000002\n"
          ]
        },
        {
          "output_type": "stream",
          "name": "stderr",
          "text": [
            "Start training the model for one epoch...:  27%|██▋       | 40/148 [00:18<00:45,  2.37it/s]"
          ]
        },
        {
          "output_type": "stream",
          "name": "stdout",
          "text": [
            "Batch 40 | Loss: 0.0246 | Learning rate:  0.000002\n"
          ]
        },
        {
          "output_type": "stream",
          "name": "stderr",
          "text": [
            "Start training the model for one epoch...:  41%|████      | 60/148 [00:26<00:37,  2.37it/s]"
          ]
        },
        {
          "output_type": "stream",
          "name": "stdout",
          "text": [
            "Batch 60 | Loss: 0.0367 | Learning rate:  0.000002\n"
          ]
        },
        {
          "output_type": "stream",
          "name": "stderr",
          "text": [
            "Start training the model for one epoch...:  54%|█████▍    | 80/148 [00:35<00:28,  2.36it/s]"
          ]
        },
        {
          "output_type": "stream",
          "name": "stdout",
          "text": [
            "Batch 80 | Loss: 0.0242 | Learning rate:  0.000002\n"
          ]
        },
        {
          "output_type": "stream",
          "name": "stderr",
          "text": [
            "Start training the model for one epoch...:  68%|██████▊   | 100/148 [00:43<00:20,  2.36it/s]"
          ]
        },
        {
          "output_type": "stream",
          "name": "stdout",
          "text": [
            "Batch 100 | Loss: 0.0283 | Learning rate:  0.000002\n"
          ]
        },
        {
          "output_type": "stream",
          "name": "stderr",
          "text": [
            "Start training the model for one epoch...:  81%|████████  | 120/148 [00:52<00:11,  2.35it/s]"
          ]
        },
        {
          "output_type": "stream",
          "name": "stdout",
          "text": [
            "Batch 120 | Loss: 0.0331 | Learning rate:  0.000002\n"
          ]
        },
        {
          "output_type": "stream",
          "name": "stderr",
          "text": [
            "Start training the model for one epoch...:  95%|█████████▍| 140/148 [01:00<00:03,  2.38it/s]"
          ]
        },
        {
          "output_type": "stream",
          "name": "stdout",
          "text": [
            "Batch 140 | Loss: 0.0150 | Learning rate:  0.000002\n"
          ]
        },
        {
          "output_type": "stream",
          "name": "stderr",
          "text": [
            "Start training the model for one epoch...: 100%|██████████| 148/148 [01:03<00:00,  2.32it/s]\n",
            "954it [02:08,  7.44it/s]\n"
          ]
        },
        {
          "output_type": "stream",
          "name": "stdout",
          "text": [
            "Epoch: 174, train loss: 0.030018945425950194, val_loss: 0.41043036797355303, val_dice: 0.14643932130613407, val_IoU: 0.1305345259056044\n"
          ]
        },
        {
          "output_type": "stream",
          "name": "stderr",
          "text": [
            "Start training the model for one epoch...:  14%|█▎        | 20/148 [00:09<00:54,  2.36it/s]"
          ]
        },
        {
          "output_type": "stream",
          "name": "stdout",
          "text": [
            "Batch 20 | Loss: 0.0402 | Learning rate:  0.000002\n"
          ]
        },
        {
          "output_type": "stream",
          "name": "stderr",
          "text": [
            "Start training the model for one epoch...:  27%|██▋       | 40/148 [00:18<00:45,  2.36it/s]"
          ]
        },
        {
          "output_type": "stream",
          "name": "stdout",
          "text": [
            "Batch 40 | Loss: 0.0310 | Learning rate:  0.000002\n"
          ]
        },
        {
          "output_type": "stream",
          "name": "stderr",
          "text": [
            "Start training the model for one epoch...:  41%|████      | 60/148 [00:26<00:37,  2.37it/s]"
          ]
        },
        {
          "output_type": "stream",
          "name": "stdout",
          "text": [
            "Batch 60 | Loss: 0.0629 | Learning rate:  0.000002\n"
          ]
        },
        {
          "output_type": "stream",
          "name": "stderr",
          "text": [
            "Start training the model for one epoch...:  54%|█████▍    | 80/148 [00:35<00:28,  2.36it/s]"
          ]
        },
        {
          "output_type": "stream",
          "name": "stdout",
          "text": [
            "Batch 80 | Loss: 0.0124 | Learning rate:  0.000002\n"
          ]
        },
        {
          "output_type": "stream",
          "name": "stderr",
          "text": [
            "Start training the model for one epoch...:  68%|██████▊   | 100/148 [00:43<00:20,  2.36it/s]"
          ]
        },
        {
          "output_type": "stream",
          "name": "stdout",
          "text": [
            "Batch 100 | Loss: 0.0386 | Learning rate:  0.000002\n"
          ]
        },
        {
          "output_type": "stream",
          "name": "stderr",
          "text": [
            "Start training the model for one epoch...:  81%|████████  | 120/148 [00:52<00:11,  2.36it/s]"
          ]
        },
        {
          "output_type": "stream",
          "name": "stdout",
          "text": [
            "Batch 120 | Loss: 0.0218 | Learning rate:  0.000002\n"
          ]
        },
        {
          "output_type": "stream",
          "name": "stderr",
          "text": [
            "Start training the model for one epoch...:  95%|█████████▍| 140/148 [01:00<00:03,  2.38it/s]"
          ]
        },
        {
          "output_type": "stream",
          "name": "stdout",
          "text": [
            "Batch 140 | Loss: 0.0188 | Learning rate:  0.000002\n"
          ]
        },
        {
          "output_type": "stream",
          "name": "stderr",
          "text": [
            "Start training the model for one epoch...: 100%|██████████| 148/148 [01:03<00:00,  2.31it/s]\n",
            "954it [02:08,  7.43it/s]\n"
          ]
        },
        {
          "output_type": "stream",
          "name": "stdout",
          "text": [
            "Epoch: 175, train loss: 0.030491840572574654, val_loss: 0.37568520719236237, val_dice: 0.15523642475226745, val_IoU: 0.13825651572049513\n"
          ]
        },
        {
          "output_type": "stream",
          "name": "stderr",
          "text": [
            "Start training the model for one epoch...:  14%|█▎        | 20/148 [00:09<00:54,  2.35it/s]"
          ]
        },
        {
          "output_type": "stream",
          "name": "stdout",
          "text": [
            "Batch 20 | Loss: 0.0106 | Learning rate:  0.000002\n"
          ]
        },
        {
          "output_type": "stream",
          "name": "stderr",
          "text": [
            "Start training the model for one epoch...:  27%|██▋       | 40/148 [00:18<00:45,  2.36it/s]"
          ]
        },
        {
          "output_type": "stream",
          "name": "stdout",
          "text": [
            "Batch 40 | Loss: 0.0187 | Learning rate:  0.000002\n"
          ]
        },
        {
          "output_type": "stream",
          "name": "stderr",
          "text": [
            "Start training the model for one epoch...:  41%|████      | 60/148 [00:26<00:37,  2.36it/s]"
          ]
        },
        {
          "output_type": "stream",
          "name": "stdout",
          "text": [
            "Batch 60 | Loss: 0.0295 | Learning rate:  0.000002\n"
          ]
        },
        {
          "output_type": "stream",
          "name": "stderr",
          "text": [
            "Start training the model for one epoch...:  54%|█████▍    | 80/148 [00:35<00:28,  2.36it/s]"
          ]
        },
        {
          "output_type": "stream",
          "name": "stdout",
          "text": [
            "Batch 80 | Loss: 0.0108 | Learning rate:  0.000002\n"
          ]
        },
        {
          "output_type": "stream",
          "name": "stderr",
          "text": [
            "Start training the model for one epoch...:  68%|██████▊   | 100/148 [00:43<00:20,  2.35it/s]"
          ]
        },
        {
          "output_type": "stream",
          "name": "stdout",
          "text": [
            "Batch 100 | Loss: 0.0347 | Learning rate:  0.000002\n"
          ]
        },
        {
          "output_type": "stream",
          "name": "stderr",
          "text": [
            "Start training the model for one epoch...:  81%|████████  | 120/148 [00:52<00:11,  2.36it/s]"
          ]
        },
        {
          "output_type": "stream",
          "name": "stdout",
          "text": [
            "Batch 120 | Loss: 0.0386 | Learning rate:  0.000002\n"
          ]
        },
        {
          "output_type": "stream",
          "name": "stderr",
          "text": [
            "Start training the model for one epoch...:  95%|█████████▍| 140/148 [01:00<00:03,  2.38it/s]"
          ]
        },
        {
          "output_type": "stream",
          "name": "stdout",
          "text": [
            "Batch 140 | Loss: 0.0507 | Learning rate:  0.000002\n"
          ]
        },
        {
          "output_type": "stream",
          "name": "stderr",
          "text": [
            "Start training the model for one epoch...: 100%|██████████| 148/148 [01:03<00:00,  2.32it/s]\n",
            "954it [02:08,  7.44it/s]\n"
          ]
        },
        {
          "output_type": "stream",
          "name": "stdout",
          "text": [
            "Epoch: 176, train loss: 0.02936423638508328, val_loss: 0.44216097819089767, val_dice: 0.1476643248847272, val_IoU: 0.13112807036675012\n"
          ]
        },
        {
          "output_type": "stream",
          "name": "stderr",
          "text": [
            "Start training the model for one epoch...:  14%|█▎        | 20/148 [00:09<00:56,  2.27it/s]"
          ]
        },
        {
          "output_type": "stream",
          "name": "stdout",
          "text": [
            "Batch 20 | Loss: 0.0179 | Learning rate:  0.000002\n"
          ]
        },
        {
          "output_type": "stream",
          "name": "stderr",
          "text": [
            "Start training the model for one epoch...:  27%|██▋       | 40/148 [00:18<00:45,  2.36it/s]"
          ]
        },
        {
          "output_type": "stream",
          "name": "stdout",
          "text": [
            "Batch 40 | Loss: 0.0195 | Learning rate:  0.000002\n"
          ]
        },
        {
          "output_type": "stream",
          "name": "stderr",
          "text": [
            "Start training the model for one epoch...:  41%|████      | 60/148 [00:27<00:37,  2.36it/s]"
          ]
        },
        {
          "output_type": "stream",
          "name": "stdout",
          "text": [
            "Batch 60 | Loss: 0.0136 | Learning rate:  0.000002\n"
          ]
        },
        {
          "output_type": "stream",
          "name": "stderr",
          "text": [
            "Start training the model for one epoch...:  54%|█████▍    | 80/148 [00:35<00:28,  2.37it/s]"
          ]
        },
        {
          "output_type": "stream",
          "name": "stdout",
          "text": [
            "Batch 80 | Loss: 0.0386 | Learning rate:  0.000002\n"
          ]
        },
        {
          "output_type": "stream",
          "name": "stderr",
          "text": [
            "Start training the model for one epoch...:  68%|██████▊   | 100/148 [00:44<00:20,  2.36it/s]"
          ]
        },
        {
          "output_type": "stream",
          "name": "stdout",
          "text": [
            "Batch 100 | Loss: 0.0484 | Learning rate:  0.000002\n"
          ]
        },
        {
          "output_type": "stream",
          "name": "stderr",
          "text": [
            "Start training the model for one epoch...:  81%|████████  | 120/148 [00:52<00:11,  2.36it/s]"
          ]
        },
        {
          "output_type": "stream",
          "name": "stdout",
          "text": [
            "Batch 120 | Loss: 0.0386 | Learning rate:  0.000002\n"
          ]
        },
        {
          "output_type": "stream",
          "name": "stderr",
          "text": [
            "Start training the model for one epoch...:  95%|█████████▍| 140/148 [01:01<00:03,  2.37it/s]"
          ]
        },
        {
          "output_type": "stream",
          "name": "stdout",
          "text": [
            "Batch 140 | Loss: 0.0167 | Learning rate:  0.000002\n"
          ]
        },
        {
          "output_type": "stream",
          "name": "stderr",
          "text": [
            "Start training the model for one epoch...: 100%|██████████| 148/148 [01:04<00:00,  2.29it/s]\n",
            "954it [02:08,  7.44it/s]\n"
          ]
        },
        {
          "output_type": "stream",
          "name": "stdout",
          "text": [
            "Epoch: 177, train loss: 0.02977199445642229, val_loss: 0.40031975893541955, val_dice: 0.16017294776583535, val_IoU: 0.14181838311386774\n"
          ]
        },
        {
          "output_type": "stream",
          "name": "stderr",
          "text": [
            "Start training the model for one epoch...:  14%|█▎        | 20/148 [00:09<00:54,  2.36it/s]"
          ]
        },
        {
          "output_type": "stream",
          "name": "stdout",
          "text": [
            "Batch 20 | Loss: 0.0220 | Learning rate:  0.000002\n"
          ]
        },
        {
          "output_type": "stream",
          "name": "stderr",
          "text": [
            "Start training the model for one epoch...:  27%|██▋       | 40/148 [00:18<00:45,  2.35it/s]"
          ]
        },
        {
          "output_type": "stream",
          "name": "stdout",
          "text": [
            "Batch 40 | Loss: 0.0248 | Learning rate:  0.000002\n"
          ]
        },
        {
          "output_type": "stream",
          "name": "stderr",
          "text": [
            "Start training the model for one epoch...:  41%|████      | 60/148 [00:26<00:37,  2.36it/s]"
          ]
        },
        {
          "output_type": "stream",
          "name": "stdout",
          "text": [
            "Batch 60 | Loss: 0.0159 | Learning rate:  0.000002\n"
          ]
        },
        {
          "output_type": "stream",
          "name": "stderr",
          "text": [
            "Start training the model for one epoch...:  54%|█████▍    | 80/148 [00:35<00:28,  2.35it/s]"
          ]
        },
        {
          "output_type": "stream",
          "name": "stdout",
          "text": [
            "Batch 80 | Loss: 0.0199 | Learning rate:  0.000002\n"
          ]
        },
        {
          "output_type": "stream",
          "name": "stderr",
          "text": [
            "Start training the model for one epoch...:  68%|██████▊   | 100/148 [00:43<00:20,  2.36it/s]"
          ]
        },
        {
          "output_type": "stream",
          "name": "stdout",
          "text": [
            "Batch 100 | Loss: 0.0301 | Learning rate:  0.000002\n"
          ]
        },
        {
          "output_type": "stream",
          "name": "stderr",
          "text": [
            "Start training the model for one epoch...:  81%|████████  | 120/148 [00:52<00:11,  2.36it/s]"
          ]
        },
        {
          "output_type": "stream",
          "name": "stdout",
          "text": [
            "Batch 120 | Loss: 0.0263 | Learning rate:  0.000002\n"
          ]
        },
        {
          "output_type": "stream",
          "name": "stderr",
          "text": [
            "Start training the model for one epoch...:  95%|█████████▍| 140/148 [01:00<00:03,  2.37it/s]"
          ]
        },
        {
          "output_type": "stream",
          "name": "stdout",
          "text": [
            "Batch 140 | Loss: 0.0373 | Learning rate:  0.000002\n"
          ]
        },
        {
          "output_type": "stream",
          "name": "stderr",
          "text": [
            "Start training the model for one epoch...: 100%|██████████| 148/148 [01:04<00:00,  2.31it/s]\n",
            "954it [02:08,  7.45it/s]\n"
          ]
        },
        {
          "output_type": "stream",
          "name": "stdout",
          "text": [
            "Epoch: 178, train loss: 0.028321779751520906, val_loss: 0.3933628992542656, val_dice: 0.15318791470507304, val_IoU: 0.13593798585810063\n"
          ]
        },
        {
          "output_type": "stream",
          "name": "stderr",
          "text": [
            "Start training the model for one epoch...:  14%|█▎        | 20/148 [00:09<00:55,  2.31it/s]"
          ]
        },
        {
          "output_type": "stream",
          "name": "stdout",
          "text": [
            "Batch 20 | Loss: 0.0388 | Learning rate:  0.000002\n"
          ]
        },
        {
          "output_type": "stream",
          "name": "stderr",
          "text": [
            "Start training the model for one epoch...:  27%|██▋       | 40/148 [00:18<00:45,  2.36it/s]"
          ]
        },
        {
          "output_type": "stream",
          "name": "stdout",
          "text": [
            "Batch 40 | Loss: 0.0230 | Learning rate:  0.000002\n"
          ]
        },
        {
          "output_type": "stream",
          "name": "stderr",
          "text": [
            "Start training the model for one epoch...:  41%|████      | 60/148 [00:26<00:37,  2.36it/s]"
          ]
        },
        {
          "output_type": "stream",
          "name": "stdout",
          "text": [
            "Batch 60 | Loss: 0.0202 | Learning rate:  0.000002\n"
          ]
        },
        {
          "output_type": "stream",
          "name": "stderr",
          "text": [
            "Start training the model for one epoch...:  54%|█████▍    | 80/148 [00:35<00:28,  2.36it/s]"
          ]
        },
        {
          "output_type": "stream",
          "name": "stdout",
          "text": [
            "Batch 80 | Loss: 0.0247 | Learning rate:  0.000002\n"
          ]
        },
        {
          "output_type": "stream",
          "name": "stderr",
          "text": [
            "Start training the model for one epoch...:  68%|██████▊   | 100/148 [00:43<00:20,  2.37it/s]"
          ]
        },
        {
          "output_type": "stream",
          "name": "stdout",
          "text": [
            "Batch 100 | Loss: 0.0300 | Learning rate:  0.000002\n"
          ]
        },
        {
          "output_type": "stream",
          "name": "stderr",
          "text": [
            "Start training the model for one epoch...:  81%|████████  | 120/148 [00:52<00:11,  2.35it/s]"
          ]
        },
        {
          "output_type": "stream",
          "name": "stdout",
          "text": [
            "Batch 120 | Loss: 0.0222 | Learning rate:  0.000001\n"
          ]
        },
        {
          "output_type": "stream",
          "name": "stderr",
          "text": [
            "Start training the model for one epoch...:  95%|█████████▍| 140/148 [01:00<00:03,  2.38it/s]"
          ]
        },
        {
          "output_type": "stream",
          "name": "stdout",
          "text": [
            "Batch 140 | Loss: 0.0304 | Learning rate:  0.000001\n"
          ]
        },
        {
          "output_type": "stream",
          "name": "stderr",
          "text": [
            "Start training the model for one epoch...: 100%|██████████| 148/148 [01:04<00:00,  2.31it/s]\n",
            "954it [02:08,  7.44it/s]\n"
          ]
        },
        {
          "output_type": "stream",
          "name": "stdout",
          "text": [
            "Epoch: 179, train loss: 0.02995281181033902, val_loss: 0.3819796279564781, val_dice: 0.15211349399437732, val_IoU: 0.1352684523361327\n"
          ]
        },
        {
          "output_type": "stream",
          "name": "stderr",
          "text": [
            "Start training the model for one epoch...:  14%|█▎        | 20/148 [00:09<00:54,  2.35it/s]"
          ]
        },
        {
          "output_type": "stream",
          "name": "stdout",
          "text": [
            "Batch 20 | Loss: 0.0223 | Learning rate:  0.000001\n"
          ]
        },
        {
          "output_type": "stream",
          "name": "stderr",
          "text": [
            "Start training the model for one epoch...:  27%|██▋       | 40/148 [00:18<00:45,  2.36it/s]"
          ]
        },
        {
          "output_type": "stream",
          "name": "stdout",
          "text": [
            "Batch 40 | Loss: 0.0506 | Learning rate:  0.000001\n"
          ]
        },
        {
          "output_type": "stream",
          "name": "stderr",
          "text": [
            "Start training the model for one epoch...:  41%|████      | 60/148 [00:26<00:37,  2.36it/s]"
          ]
        },
        {
          "output_type": "stream",
          "name": "stdout",
          "text": [
            "Batch 60 | Loss: 0.0308 | Learning rate:  0.000001\n"
          ]
        },
        {
          "output_type": "stream",
          "name": "stderr",
          "text": [
            "Start training the model for one epoch...:  54%|█████▍    | 80/148 [00:35<00:28,  2.37it/s]"
          ]
        },
        {
          "output_type": "stream",
          "name": "stdout",
          "text": [
            "Batch 80 | Loss: 0.0368 | Learning rate:  0.000001\n"
          ]
        },
        {
          "output_type": "stream",
          "name": "stderr",
          "text": [
            "Start training the model for one epoch...:  68%|██████▊   | 100/148 [00:44<00:20,  2.36it/s]"
          ]
        },
        {
          "output_type": "stream",
          "name": "stdout",
          "text": [
            "Batch 100 | Loss: 0.0270 | Learning rate:  0.000001\n"
          ]
        },
        {
          "output_type": "stream",
          "name": "stderr",
          "text": [
            "Start training the model for one epoch...:  81%|████████  | 120/148 [00:52<00:11,  2.36it/s]"
          ]
        },
        {
          "output_type": "stream",
          "name": "stdout",
          "text": [
            "Batch 120 | Loss: 0.0343 | Learning rate:  0.000001\n"
          ]
        },
        {
          "output_type": "stream",
          "name": "stderr",
          "text": [
            "Start training the model for one epoch...:  95%|█████████▍| 140/148 [01:01<00:03,  2.38it/s]"
          ]
        },
        {
          "output_type": "stream",
          "name": "stdout",
          "text": [
            "Batch 140 | Loss: 0.0197 | Learning rate:  0.000001\n"
          ]
        },
        {
          "output_type": "stream",
          "name": "stderr",
          "text": [
            "Start training the model for one epoch...: 100%|██████████| 148/148 [01:04<00:00,  2.30it/s]\n",
            "954it [02:08,  7.43it/s]\n"
          ]
        },
        {
          "output_type": "stream",
          "name": "stdout",
          "text": [
            "Epoch: 180, train loss: 0.029682181737813597, val_loss: 0.39121636214707073, val_dice: 0.15403743177213003, val_IoU: 0.13678269904234983\n"
          ]
        },
        {
          "output_type": "stream",
          "name": "stderr",
          "text": [
            "Start training the model for one epoch...:  14%|█▎        | 20/148 [00:09<00:54,  2.37it/s]"
          ]
        },
        {
          "output_type": "stream",
          "name": "stdout",
          "text": [
            "Batch 20 | Loss: 0.0183 | Learning rate:  0.000001\n"
          ]
        },
        {
          "output_type": "stream",
          "name": "stderr",
          "text": [
            "Start training the model for one epoch...:  27%|██▋       | 40/148 [00:18<00:45,  2.36it/s]"
          ]
        },
        {
          "output_type": "stream",
          "name": "stdout",
          "text": [
            "Batch 40 | Loss: 0.0253 | Learning rate:  0.000001\n"
          ]
        },
        {
          "output_type": "stream",
          "name": "stderr",
          "text": [
            "Start training the model for one epoch...:  41%|████      | 60/148 [00:26<00:37,  2.36it/s]"
          ]
        },
        {
          "output_type": "stream",
          "name": "stdout",
          "text": [
            "Batch 60 | Loss: 0.0253 | Learning rate:  0.000001\n"
          ]
        },
        {
          "output_type": "stream",
          "name": "stderr",
          "text": [
            "Start training the model for one epoch...:  54%|█████▍    | 80/148 [00:35<00:28,  2.37it/s]"
          ]
        },
        {
          "output_type": "stream",
          "name": "stdout",
          "text": [
            "Batch 80 | Loss: 0.0296 | Learning rate:  0.000001\n"
          ]
        },
        {
          "output_type": "stream",
          "name": "stderr",
          "text": [
            "Start training the model for one epoch...:  68%|██████▊   | 100/148 [00:43<00:20,  2.36it/s]"
          ]
        },
        {
          "output_type": "stream",
          "name": "stdout",
          "text": [
            "Batch 100 | Loss: 0.0406 | Learning rate:  0.000001\n"
          ]
        },
        {
          "output_type": "stream",
          "name": "stderr",
          "text": [
            "Start training the model for one epoch...:  81%|████████  | 120/148 [00:52<00:11,  2.36it/s]"
          ]
        },
        {
          "output_type": "stream",
          "name": "stdout",
          "text": [
            "Batch 120 | Loss: 0.0151 | Learning rate:  0.000001\n"
          ]
        },
        {
          "output_type": "stream",
          "name": "stderr",
          "text": [
            "Start training the model for one epoch...:  95%|█████████▍| 140/148 [01:00<00:03,  2.38it/s]"
          ]
        },
        {
          "output_type": "stream",
          "name": "stdout",
          "text": [
            "Batch 140 | Loss: 0.0097 | Learning rate:  0.000001\n"
          ]
        },
        {
          "output_type": "stream",
          "name": "stderr",
          "text": [
            "Start training the model for one epoch...: 100%|██████████| 148/148 [01:04<00:00,  2.31it/s]\n",
            "954it [02:08,  7.42it/s]\n"
          ]
        },
        {
          "output_type": "stream",
          "name": "stdout",
          "text": [
            "Epoch: 181, train loss: 0.02857838448678219, val_loss: 0.40243264273457247, val_dice: 0.14941532051342193, val_IoU: 0.13291071736188123\n"
          ]
        },
        {
          "output_type": "stream",
          "name": "stderr",
          "text": [
            "Start training the model for one epoch...:  14%|█▎        | 20/148 [00:09<00:54,  2.37it/s]"
          ]
        },
        {
          "output_type": "stream",
          "name": "stdout",
          "text": [
            "Batch 20 | Loss: 0.0044 | Learning rate:  0.000001\n"
          ]
        },
        {
          "output_type": "stream",
          "name": "stderr",
          "text": [
            "Start training the model for one epoch...:  27%|██▋       | 40/148 [00:18<00:45,  2.37it/s]"
          ]
        },
        {
          "output_type": "stream",
          "name": "stdout",
          "text": [
            "Batch 40 | Loss: 0.0252 | Learning rate:  0.000001\n"
          ]
        },
        {
          "output_type": "stream",
          "name": "stderr",
          "text": [
            "Start training the model for one epoch...:  41%|████      | 60/148 [00:26<00:37,  2.37it/s]"
          ]
        },
        {
          "output_type": "stream",
          "name": "stdout",
          "text": [
            "Batch 60 | Loss: 0.0284 | Learning rate:  0.000001\n"
          ]
        },
        {
          "output_type": "stream",
          "name": "stderr",
          "text": [
            "Start training the model for one epoch...:  54%|█████▍    | 80/148 [00:35<00:28,  2.37it/s]"
          ]
        },
        {
          "output_type": "stream",
          "name": "stdout",
          "text": [
            "Batch 80 | Loss: 0.0152 | Learning rate:  0.000001\n"
          ]
        },
        {
          "output_type": "stream",
          "name": "stderr",
          "text": [
            "Start training the model for one epoch...:  68%|██████▊   | 100/148 [00:43<00:20,  2.37it/s]"
          ]
        },
        {
          "output_type": "stream",
          "name": "stdout",
          "text": [
            "Batch 100 | Loss: 0.0411 | Learning rate:  0.000001\n"
          ]
        },
        {
          "output_type": "stream",
          "name": "stderr",
          "text": [
            "Start training the model for one epoch...:  81%|████████  | 120/148 [00:52<00:11,  2.36it/s]"
          ]
        },
        {
          "output_type": "stream",
          "name": "stdout",
          "text": [
            "Batch 120 | Loss: 0.0299 | Learning rate:  0.000001\n"
          ]
        },
        {
          "output_type": "stream",
          "name": "stderr",
          "text": [
            "Start training the model for one epoch...:  95%|█████████▍| 140/148 [01:00<00:03,  2.38it/s]"
          ]
        },
        {
          "output_type": "stream",
          "name": "stdout",
          "text": [
            "Batch 140 | Loss: 0.0498 | Learning rate:  0.000001\n"
          ]
        },
        {
          "output_type": "stream",
          "name": "stderr",
          "text": [
            "Start training the model for one epoch...: 100%|██████████| 148/148 [01:03<00:00,  2.32it/s]\n",
            "954it [02:08,  7.43it/s]\n"
          ]
        },
        {
          "output_type": "stream",
          "name": "stdout",
          "text": [
            "Epoch: 182, train loss: 0.02862243478916384, val_loss: 0.4040402431290917, val_dice: 0.15068408646312592, val_IoU: 0.13409167256489893\n"
          ]
        },
        {
          "output_type": "stream",
          "name": "stderr",
          "text": [
            "Start training the model for one epoch...:  14%|█▎        | 20/148 [00:09<00:54,  2.36it/s]"
          ]
        },
        {
          "output_type": "stream",
          "name": "stdout",
          "text": [
            "Batch 20 | Loss: 0.0133 | Learning rate:  0.000001\n"
          ]
        },
        {
          "output_type": "stream",
          "name": "stderr",
          "text": [
            "Start training the model for one epoch...:  27%|██▋       | 40/148 [00:18<00:45,  2.36it/s]"
          ]
        },
        {
          "output_type": "stream",
          "name": "stdout",
          "text": [
            "Batch 40 | Loss: 0.0279 | Learning rate:  0.000001\n"
          ]
        },
        {
          "output_type": "stream",
          "name": "stderr",
          "text": [
            "Start training the model for one epoch...:  41%|████      | 60/148 [00:26<00:37,  2.36it/s]"
          ]
        },
        {
          "output_type": "stream",
          "name": "stdout",
          "text": [
            "Batch 60 | Loss: 0.0113 | Learning rate:  0.000001\n"
          ]
        },
        {
          "output_type": "stream",
          "name": "stderr",
          "text": [
            "Start training the model for one epoch...:  54%|█████▍    | 80/148 [00:35<00:28,  2.35it/s]"
          ]
        },
        {
          "output_type": "stream",
          "name": "stdout",
          "text": [
            "Batch 80 | Loss: 0.0356 | Learning rate:  0.000001\n"
          ]
        },
        {
          "output_type": "stream",
          "name": "stderr",
          "text": [
            "Start training the model for one epoch...:  68%|██████▊   | 100/148 [00:43<00:20,  2.37it/s]"
          ]
        },
        {
          "output_type": "stream",
          "name": "stdout",
          "text": [
            "Batch 100 | Loss: 0.0345 | Learning rate:  0.000001\n"
          ]
        },
        {
          "output_type": "stream",
          "name": "stderr",
          "text": [
            "Start training the model for one epoch...:  81%|████████  | 120/148 [00:52<00:11,  2.37it/s]"
          ]
        },
        {
          "output_type": "stream",
          "name": "stdout",
          "text": [
            "Batch 120 | Loss: 0.0498 | Learning rate:  0.000001\n"
          ]
        },
        {
          "output_type": "stream",
          "name": "stderr",
          "text": [
            "Start training the model for one epoch...:  95%|█████████▍| 140/148 [01:00<00:03,  2.38it/s]"
          ]
        },
        {
          "output_type": "stream",
          "name": "stdout",
          "text": [
            "Batch 140 | Loss: 0.0356 | Learning rate:  0.000001\n"
          ]
        },
        {
          "output_type": "stream",
          "name": "stderr",
          "text": [
            "Start training the model for one epoch...: 100%|██████████| 148/148 [01:03<00:00,  2.32it/s]\n",
            "954it [02:08,  7.44it/s]\n"
          ]
        },
        {
          "output_type": "stream",
          "name": "stdout",
          "text": [
            "Epoch: 183, train loss: 0.029441097121987794, val_loss: 0.41870562155073043, val_dice: 0.14405680814139513, val_IoU: 0.12816584015619523\n"
          ]
        },
        {
          "output_type": "stream",
          "name": "stderr",
          "text": [
            "Start training the model for one epoch...:  14%|█▎        | 20/148 [00:09<00:54,  2.36it/s]"
          ]
        },
        {
          "output_type": "stream",
          "name": "stdout",
          "text": [
            "Batch 20 | Loss: 0.0235 | Learning rate:  0.000001\n"
          ]
        },
        {
          "output_type": "stream",
          "name": "stderr",
          "text": [
            "Start training the model for one epoch...:  27%|██▋       | 40/148 [00:18<00:45,  2.37it/s]"
          ]
        },
        {
          "output_type": "stream",
          "name": "stdout",
          "text": [
            "Batch 40 | Loss: 0.0316 | Learning rate:  0.000001\n"
          ]
        },
        {
          "output_type": "stream",
          "name": "stderr",
          "text": [
            "Start training the model for one epoch...:  41%|████      | 60/148 [00:26<00:37,  2.37it/s]"
          ]
        },
        {
          "output_type": "stream",
          "name": "stdout",
          "text": [
            "Batch 60 | Loss: 0.0250 | Learning rate:  0.000001\n"
          ]
        },
        {
          "output_type": "stream",
          "name": "stderr",
          "text": [
            "Start training the model for one epoch...:  54%|█████▍    | 80/148 [00:35<00:28,  2.36it/s]"
          ]
        },
        {
          "output_type": "stream",
          "name": "stdout",
          "text": [
            "Batch 80 | Loss: 0.0424 | Learning rate:  0.000001\n"
          ]
        },
        {
          "output_type": "stream",
          "name": "stderr",
          "text": [
            "Start training the model for one epoch...:  68%|██████▊   | 100/148 [00:43<00:20,  2.36it/s]"
          ]
        },
        {
          "output_type": "stream",
          "name": "stdout",
          "text": [
            "Batch 100 | Loss: 0.0204 | Learning rate:  0.000001\n"
          ]
        },
        {
          "output_type": "stream",
          "name": "stderr",
          "text": [
            "Start training the model for one epoch...:  81%|████████  | 120/148 [00:52<00:11,  2.36it/s]"
          ]
        },
        {
          "output_type": "stream",
          "name": "stdout",
          "text": [
            "Batch 120 | Loss: 0.0677 | Learning rate:  0.000001\n"
          ]
        },
        {
          "output_type": "stream",
          "name": "stderr",
          "text": [
            "Start training the model for one epoch...:  95%|█████████▍| 140/148 [01:00<00:03,  2.38it/s]"
          ]
        },
        {
          "output_type": "stream",
          "name": "stdout",
          "text": [
            "Batch 140 | Loss: 0.0424 | Learning rate:  0.000001\n"
          ]
        },
        {
          "output_type": "stream",
          "name": "stderr",
          "text": [
            "Start training the model for one epoch...: 100%|██████████| 148/148 [01:03<00:00,  2.32it/s]\n",
            "954it [02:08,  7.44it/s]\n"
          ]
        },
        {
          "output_type": "stream",
          "name": "stdout",
          "text": [
            "Epoch: 184, train loss: 0.029312147743169318, val_loss: 0.37691544261477905, val_dice: 0.14335241774412252, val_IoU: 0.12765214580077142\n"
          ]
        },
        {
          "output_type": "stream",
          "name": "stderr",
          "text": [
            "Start training the model for one epoch...:  14%|█▎        | 20/148 [00:09<00:54,  2.36it/s]"
          ]
        },
        {
          "output_type": "stream",
          "name": "stdout",
          "text": [
            "Batch 20 | Loss: 0.0367 | Learning rate:  0.000001\n"
          ]
        },
        {
          "output_type": "stream",
          "name": "stderr",
          "text": [
            "Start training the model for one epoch...:  27%|██▋       | 40/148 [00:18<00:45,  2.37it/s]"
          ]
        },
        {
          "output_type": "stream",
          "name": "stdout",
          "text": [
            "Batch 40 | Loss: 0.0211 | Learning rate:  0.000001\n"
          ]
        },
        {
          "output_type": "stream",
          "name": "stderr",
          "text": [
            "Start training the model for one epoch...:  41%|████      | 60/148 [00:27<00:37,  2.36it/s]"
          ]
        },
        {
          "output_type": "stream",
          "name": "stdout",
          "text": [
            "Batch 60 | Loss: 0.0218 | Learning rate:  0.000001\n"
          ]
        },
        {
          "output_type": "stream",
          "name": "stderr",
          "text": [
            "Start training the model for one epoch...:  54%|█████▍    | 80/148 [00:35<00:28,  2.37it/s]"
          ]
        },
        {
          "output_type": "stream",
          "name": "stdout",
          "text": [
            "Batch 80 | Loss: 0.0224 | Learning rate:  0.000001\n"
          ]
        },
        {
          "output_type": "stream",
          "name": "stderr",
          "text": [
            "Start training the model for one epoch...:  68%|██████▊   | 100/148 [00:44<00:20,  2.37it/s]"
          ]
        },
        {
          "output_type": "stream",
          "name": "stdout",
          "text": [
            "Batch 100 | Loss: 0.0428 | Learning rate:  0.000001\n"
          ]
        },
        {
          "output_type": "stream",
          "name": "stderr",
          "text": [
            "Start training the model for one epoch...:  81%|████████  | 120/148 [00:52<00:11,  2.37it/s]"
          ]
        },
        {
          "output_type": "stream",
          "name": "stdout",
          "text": [
            "Batch 120 | Loss: 0.0500 | Learning rate:  0.000001\n"
          ]
        },
        {
          "output_type": "stream",
          "name": "stderr",
          "text": [
            "Start training the model for one epoch...:  95%|█████████▍| 140/148 [01:01<00:03,  2.38it/s]"
          ]
        },
        {
          "output_type": "stream",
          "name": "stdout",
          "text": [
            "Batch 140 | Loss: 0.0528 | Learning rate:  0.000001\n"
          ]
        },
        {
          "output_type": "stream",
          "name": "stderr",
          "text": [
            "Start training the model for one epoch...: 100%|██████████| 148/148 [01:04<00:00,  2.30it/s]\n",
            "954it [02:08,  7.44it/s]\n"
          ]
        },
        {
          "output_type": "stream",
          "name": "stdout",
          "text": [
            "Epoch: 185, train loss: 0.029952952968636277, val_loss: 0.39603830802506246, val_dice: 0.14717626900706152, val_IoU: 0.13086174652736227\n"
          ]
        },
        {
          "output_type": "stream",
          "name": "stderr",
          "text": [
            "Start training the model for one epoch...:  14%|█▎        | 20/148 [00:09<00:54,  2.36it/s]"
          ]
        },
        {
          "output_type": "stream",
          "name": "stdout",
          "text": [
            "Batch 20 | Loss: 0.0179 | Learning rate:  0.000001\n"
          ]
        },
        {
          "output_type": "stream",
          "name": "stderr",
          "text": [
            "Start training the model for one epoch...:  27%|██▋       | 40/148 [00:18<00:45,  2.35it/s]"
          ]
        },
        {
          "output_type": "stream",
          "name": "stdout",
          "text": [
            "Batch 40 | Loss: 0.0334 | Learning rate:  0.000001\n"
          ]
        },
        {
          "output_type": "stream",
          "name": "stderr",
          "text": [
            "Start training the model for one epoch...:  41%|████      | 60/148 [00:26<00:37,  2.36it/s]"
          ]
        },
        {
          "output_type": "stream",
          "name": "stdout",
          "text": [
            "Batch 60 | Loss: 0.0110 | Learning rate:  0.000001\n"
          ]
        },
        {
          "output_type": "stream",
          "name": "stderr",
          "text": [
            "Start training the model for one epoch...:  54%|█████▍    | 80/148 [00:35<00:28,  2.36it/s]"
          ]
        },
        {
          "output_type": "stream",
          "name": "stdout",
          "text": [
            "Batch 80 | Loss: 0.0184 | Learning rate:  0.000001\n"
          ]
        },
        {
          "output_type": "stream",
          "name": "stderr",
          "text": [
            "Start training the model for one epoch...:  68%|██████▊   | 100/148 [00:43<00:20,  2.37it/s]"
          ]
        },
        {
          "output_type": "stream",
          "name": "stdout",
          "text": [
            "Batch 100 | Loss: 0.0200 | Learning rate:  0.000001\n"
          ]
        },
        {
          "output_type": "stream",
          "name": "stderr",
          "text": [
            "Start training the model for one epoch...:  81%|████████  | 120/148 [00:52<00:11,  2.36it/s]"
          ]
        },
        {
          "output_type": "stream",
          "name": "stdout",
          "text": [
            "Batch 120 | Loss: 0.0107 | Learning rate:  0.000001\n"
          ]
        },
        {
          "output_type": "stream",
          "name": "stderr",
          "text": [
            "Start training the model for one epoch...:  95%|█████████▍| 140/148 [01:00<00:03,  2.38it/s]"
          ]
        },
        {
          "output_type": "stream",
          "name": "stdout",
          "text": [
            "Batch 140 | Loss: 0.0429 | Learning rate:  0.000001\n"
          ]
        },
        {
          "output_type": "stream",
          "name": "stderr",
          "text": [
            "Start training the model for one epoch...: 100%|██████████| 148/148 [01:03<00:00,  2.32it/s]\n",
            "954it [02:08,  7.43it/s]\n"
          ]
        },
        {
          "output_type": "stream",
          "name": "stdout",
          "text": [
            "Epoch: 186, train loss: 0.029793423871081824, val_loss: 0.4297596774058147, val_dice: 0.14555313088467492, val_IoU: 0.1294052262843827\n"
          ]
        },
        {
          "output_type": "stream",
          "name": "stderr",
          "text": [
            "Start training the model for one epoch...:  14%|█▎        | 20/148 [00:09<00:54,  2.34it/s]"
          ]
        },
        {
          "output_type": "stream",
          "name": "stdout",
          "text": [
            "Batch 20 | Loss: 0.0135 | Learning rate:  0.000001\n"
          ]
        },
        {
          "output_type": "stream",
          "name": "stderr",
          "text": [
            "Start training the model for one epoch...:  27%|██▋       | 40/148 [00:18<00:45,  2.36it/s]"
          ]
        },
        {
          "output_type": "stream",
          "name": "stdout",
          "text": [
            "Batch 40 | Loss: 0.0164 | Learning rate:  0.000001\n"
          ]
        },
        {
          "output_type": "stream",
          "name": "stderr",
          "text": [
            "Start training the model for one epoch...:  41%|████      | 60/148 [00:26<00:37,  2.36it/s]"
          ]
        },
        {
          "output_type": "stream",
          "name": "stdout",
          "text": [
            "Batch 60 | Loss: 0.0317 | Learning rate:  0.000001\n"
          ]
        },
        {
          "output_type": "stream",
          "name": "stderr",
          "text": [
            "Start training the model for one epoch...:  54%|█████▍    | 80/148 [00:35<00:28,  2.36it/s]"
          ]
        },
        {
          "output_type": "stream",
          "name": "stdout",
          "text": [
            "Batch 80 | Loss: 0.0195 | Learning rate:  0.000001\n"
          ]
        },
        {
          "output_type": "stream",
          "name": "stderr",
          "text": [
            "Start training the model for one epoch...:  68%|██████▊   | 100/148 [00:43<00:20,  2.36it/s]"
          ]
        },
        {
          "output_type": "stream",
          "name": "stdout",
          "text": [
            "Batch 100 | Loss: 0.0196 | Learning rate:  0.000001\n"
          ]
        },
        {
          "output_type": "stream",
          "name": "stderr",
          "text": [
            "Start training the model for one epoch...:  81%|████████  | 120/148 [00:52<00:11,  2.36it/s]"
          ]
        },
        {
          "output_type": "stream",
          "name": "stdout",
          "text": [
            "Batch 120 | Loss: 0.0171 | Learning rate:  0.000001\n"
          ]
        },
        {
          "output_type": "stream",
          "name": "stderr",
          "text": [
            "Start training the model for one epoch...:  95%|█████████▍| 140/148 [01:00<00:03,  2.37it/s]"
          ]
        },
        {
          "output_type": "stream",
          "name": "stdout",
          "text": [
            "Batch 140 | Loss: 0.0378 | Learning rate:  0.000001\n"
          ]
        },
        {
          "output_type": "stream",
          "name": "stderr",
          "text": [
            "Start training the model for one epoch...: 100%|██████████| 148/148 [01:03<00:00,  2.32it/s]\n",
            "954it [02:08,  7.44it/s]\n"
          ]
        },
        {
          "output_type": "stream",
          "name": "stdout",
          "text": [
            "Epoch: 187, train loss: 0.028419371203494234, val_loss: 0.40710305887229536, val_dice: 0.14538676544501533, val_IoU: 0.1292874346662673\n"
          ]
        },
        {
          "output_type": "stream",
          "name": "stderr",
          "text": [
            "Start training the model for one epoch...:  14%|█▎        | 20/148 [00:09<00:54,  2.37it/s]"
          ]
        },
        {
          "output_type": "stream",
          "name": "stdout",
          "text": [
            "Batch 20 | Loss: 0.0360 | Learning rate:  0.000001\n"
          ]
        },
        {
          "output_type": "stream",
          "name": "stderr",
          "text": [
            "Start training the model for one epoch...:  27%|██▋       | 40/148 [00:18<00:45,  2.36it/s]"
          ]
        },
        {
          "output_type": "stream",
          "name": "stdout",
          "text": [
            "Batch 40 | Loss: 0.0194 | Learning rate:  0.000001\n"
          ]
        },
        {
          "output_type": "stream",
          "name": "stderr",
          "text": [
            "Start training the model for one epoch...:  41%|████      | 60/148 [00:27<00:37,  2.37it/s]"
          ]
        },
        {
          "output_type": "stream",
          "name": "stdout",
          "text": [
            "Batch 60 | Loss: 0.0353 | Learning rate:  0.000001\n"
          ]
        },
        {
          "output_type": "stream",
          "name": "stderr",
          "text": [
            "Start training the model for one epoch...:  54%|█████▍    | 80/148 [00:35<00:28,  2.36it/s]"
          ]
        },
        {
          "output_type": "stream",
          "name": "stdout",
          "text": [
            "Batch 80 | Loss: 0.0414 | Learning rate:  0.000001\n"
          ]
        },
        {
          "output_type": "stream",
          "name": "stderr",
          "text": [
            "Start training the model for one epoch...:  68%|██████▊   | 100/148 [00:44<00:20,  2.34it/s]"
          ]
        },
        {
          "output_type": "stream",
          "name": "stdout",
          "text": [
            "Batch 100 | Loss: 0.0169 | Learning rate:  0.000001\n"
          ]
        },
        {
          "output_type": "stream",
          "name": "stderr",
          "text": [
            "Start training the model for one epoch...:  81%|████████  | 120/148 [00:52<00:11,  2.36it/s]"
          ]
        },
        {
          "output_type": "stream",
          "name": "stdout",
          "text": [
            "Batch 120 | Loss: 0.0198 | Learning rate:  0.000001\n"
          ]
        },
        {
          "output_type": "stream",
          "name": "stderr",
          "text": [
            "Start training the model for one epoch...:  95%|█████████▍| 140/148 [01:01<00:03,  2.38it/s]"
          ]
        },
        {
          "output_type": "stream",
          "name": "stdout",
          "text": [
            "Batch 140 | Loss: 0.0512 | Learning rate:  0.000001\n"
          ]
        },
        {
          "output_type": "stream",
          "name": "stderr",
          "text": [
            "Start training the model for one epoch...: 100%|██████████| 148/148 [01:04<00:00,  2.30it/s]\n",
            "954it [02:08,  7.45it/s]\n"
          ]
        },
        {
          "output_type": "stream",
          "name": "stdout",
          "text": [
            "Epoch: 188, train loss: 0.02872920300610162, val_loss: 0.39584500823693203, val_dice: 0.14715313528411117, val_IoU: 0.130830742208671\n"
          ]
        },
        {
          "output_type": "stream",
          "name": "stderr",
          "text": [
            "Start training the model for one epoch...:  14%|█▎        | 20/148 [00:09<00:55,  2.29it/s]"
          ]
        },
        {
          "output_type": "stream",
          "name": "stdout",
          "text": [
            "Batch 20 | Loss: 0.0298 | Learning rate:  0.000001\n"
          ]
        },
        {
          "output_type": "stream",
          "name": "stderr",
          "text": [
            "Start training the model for one epoch...:  27%|██▋       | 40/148 [00:18<00:45,  2.37it/s]"
          ]
        },
        {
          "output_type": "stream",
          "name": "stdout",
          "text": [
            "Batch 40 | Loss: 0.0276 | Learning rate:  0.000001\n"
          ]
        },
        {
          "output_type": "stream",
          "name": "stderr",
          "text": [
            "Start training the model for one epoch...:  41%|████      | 60/148 [00:26<00:37,  2.36it/s]"
          ]
        },
        {
          "output_type": "stream",
          "name": "stdout",
          "text": [
            "Batch 60 | Loss: 0.0372 | Learning rate:  0.000001\n"
          ]
        },
        {
          "output_type": "stream",
          "name": "stderr",
          "text": [
            "Start training the model for one epoch...:  54%|█████▍    | 80/148 [00:35<00:28,  2.36it/s]"
          ]
        },
        {
          "output_type": "stream",
          "name": "stdout",
          "text": [
            "Batch 80 | Loss: 0.0389 | Learning rate:  0.000001\n"
          ]
        },
        {
          "output_type": "stream",
          "name": "stderr",
          "text": [
            "Start training the model for one epoch...:  68%|██████▊   | 100/148 [00:43<00:20,  2.36it/s]"
          ]
        },
        {
          "output_type": "stream",
          "name": "stdout",
          "text": [
            "Batch 100 | Loss: 0.0290 | Learning rate:  0.000001\n"
          ]
        },
        {
          "output_type": "stream",
          "name": "stderr",
          "text": [
            "Start training the model for one epoch...:  81%|████████  | 120/148 [00:52<00:11,  2.36it/s]"
          ]
        },
        {
          "output_type": "stream",
          "name": "stdout",
          "text": [
            "Batch 120 | Loss: 0.0352 | Learning rate:  0.000001\n"
          ]
        },
        {
          "output_type": "stream",
          "name": "stderr",
          "text": [
            "Start training the model for one epoch...:  95%|█████████▍| 140/148 [01:00<00:03,  2.38it/s]"
          ]
        },
        {
          "output_type": "stream",
          "name": "stdout",
          "text": [
            "Batch 140 | Loss: 0.0385 | Learning rate:  0.000001\n"
          ]
        },
        {
          "output_type": "stream",
          "name": "stderr",
          "text": [
            "Start training the model for one epoch...: 100%|██████████| 148/148 [01:04<00:00,  2.31it/s]\n",
            "954it [02:08,  7.45it/s]\n"
          ]
        },
        {
          "output_type": "stream",
          "name": "stdout",
          "text": [
            "Epoch: 189, train loss: 0.029374985143894684, val_loss: 0.3991541569462862, val_dice: 0.14587208009380814, val_IoU: 0.12980031448752793\n"
          ]
        },
        {
          "output_type": "stream",
          "name": "stderr",
          "text": [
            "Start training the model for one epoch...:  14%|█▎        | 20/148 [00:09<00:54,  2.36it/s]"
          ]
        },
        {
          "output_type": "stream",
          "name": "stdout",
          "text": [
            "Batch 20 | Loss: 0.0243 | Learning rate:  0.000001\n"
          ]
        },
        {
          "output_type": "stream",
          "name": "stderr",
          "text": [
            "Start training the model for one epoch...:  27%|██▋       | 40/148 [00:18<00:45,  2.36it/s]"
          ]
        },
        {
          "output_type": "stream",
          "name": "stdout",
          "text": [
            "Batch 40 | Loss: 0.0367 | Learning rate:  0.000001\n"
          ]
        },
        {
          "output_type": "stream",
          "name": "stderr",
          "text": [
            "Start training the model for one epoch...:  41%|████      | 60/148 [00:26<00:37,  2.35it/s]"
          ]
        },
        {
          "output_type": "stream",
          "name": "stdout",
          "text": [
            "Batch 60 | Loss: 0.0441 | Learning rate:  0.000001\n"
          ]
        },
        {
          "output_type": "stream",
          "name": "stderr",
          "text": [
            "Start training the model for one epoch...:  54%|█████▍    | 80/148 [00:35<00:28,  2.36it/s]"
          ]
        },
        {
          "output_type": "stream",
          "name": "stdout",
          "text": [
            "Batch 80 | Loss: 0.0438 | Learning rate:  0.000001\n"
          ]
        },
        {
          "output_type": "stream",
          "name": "stderr",
          "text": [
            "Start training the model for one epoch...:  68%|██████▊   | 100/148 [00:43<00:20,  2.36it/s]"
          ]
        },
        {
          "output_type": "stream",
          "name": "stdout",
          "text": [
            "Batch 100 | Loss: 0.0495 | Learning rate:  0.000001\n"
          ]
        },
        {
          "output_type": "stream",
          "name": "stderr",
          "text": [
            "Start training the model for one epoch...:  81%|████████  | 120/148 [00:52<00:11,  2.36it/s]"
          ]
        },
        {
          "output_type": "stream",
          "name": "stdout",
          "text": [
            "Batch 120 | Loss: 0.0197 | Learning rate:  0.000001\n"
          ]
        },
        {
          "output_type": "stream",
          "name": "stderr",
          "text": [
            "Start training the model for one epoch...:  95%|█████████▍| 140/148 [01:00<00:03,  2.38it/s]"
          ]
        },
        {
          "output_type": "stream",
          "name": "stdout",
          "text": [
            "Batch 140 | Loss: 0.0273 | Learning rate:  0.000001\n"
          ]
        },
        {
          "output_type": "stream",
          "name": "stderr",
          "text": [
            "Start training the model for one epoch...: 100%|██████████| 148/148 [01:03<00:00,  2.32it/s]\n",
            "954it [02:08,  7.41it/s]\n"
          ]
        },
        {
          "output_type": "stream",
          "name": "stdout",
          "text": [
            "Epoch: 190, train loss: 0.028855513107988076, val_loss: 0.38495918716922933, val_dice: 0.14636858905388492, val_IoU: 0.13016698773136273\n"
          ]
        },
        {
          "output_type": "stream",
          "name": "stderr",
          "text": [
            "Start training the model for one epoch...:  14%|█▎        | 20/148 [00:09<00:54,  2.36it/s]"
          ]
        },
        {
          "output_type": "stream",
          "name": "stdout",
          "text": [
            "Batch 20 | Loss: 0.0178 | Learning rate:  0.000001\n"
          ]
        },
        {
          "output_type": "stream",
          "name": "stderr",
          "text": [
            "Start training the model for one epoch...:  27%|██▋       | 40/148 [00:18<00:45,  2.37it/s]"
          ]
        },
        {
          "output_type": "stream",
          "name": "stdout",
          "text": [
            "Batch 40 | Loss: 0.0471 | Learning rate:  0.000001\n"
          ]
        },
        {
          "output_type": "stream",
          "name": "stderr",
          "text": [
            "Start training the model for one epoch...:  41%|████      | 60/148 [00:26<00:37,  2.37it/s]"
          ]
        },
        {
          "output_type": "stream",
          "name": "stdout",
          "text": [
            "Batch 60 | Loss: 0.0467 | Learning rate:  0.000001\n"
          ]
        },
        {
          "output_type": "stream",
          "name": "stderr",
          "text": [
            "Start training the model for one epoch...:  54%|█████▍    | 80/148 [00:35<00:28,  2.36it/s]"
          ]
        },
        {
          "output_type": "stream",
          "name": "stdout",
          "text": [
            "Batch 80 | Loss: 0.0194 | Learning rate:  0.000001\n"
          ]
        },
        {
          "output_type": "stream",
          "name": "stderr",
          "text": [
            "Start training the model for one epoch...:  68%|██████▊   | 100/148 [00:43<00:20,  2.36it/s]"
          ]
        },
        {
          "output_type": "stream",
          "name": "stdout",
          "text": [
            "Batch 100 | Loss: 0.0364 | Learning rate:  0.000001\n"
          ]
        },
        {
          "output_type": "stream",
          "name": "stderr",
          "text": [
            "Start training the model for one epoch...:  81%|████████  | 120/148 [00:52<00:11,  2.37it/s]"
          ]
        },
        {
          "output_type": "stream",
          "name": "stdout",
          "text": [
            "Batch 120 | Loss: 0.0154 | Learning rate:  0.000001\n"
          ]
        },
        {
          "output_type": "stream",
          "name": "stderr",
          "text": [
            "Start training the model for one epoch...:  95%|█████████▍| 140/148 [01:00<00:03,  2.38it/s]"
          ]
        },
        {
          "output_type": "stream",
          "name": "stdout",
          "text": [
            "Batch 140 | Loss: 0.0436 | Learning rate:  0.000001\n"
          ]
        },
        {
          "output_type": "stream",
          "name": "stderr",
          "text": [
            "Start training the model for one epoch...: 100%|██████████| 148/148 [01:03<00:00,  2.32it/s]\n",
            "954it [02:08,  7.43it/s]\n"
          ]
        },
        {
          "output_type": "stream",
          "name": "stdout",
          "text": [
            "Epoch: 191, train loss: 0.03726412250024795, val_loss: 0.43322200391371296, val_dice: 0.14221044898241098, val_IoU: 0.12636264265895833\n"
          ]
        },
        {
          "output_type": "stream",
          "name": "stderr",
          "text": [
            "Start training the model for one epoch...:  14%|█▎        | 20/148 [00:09<00:54,  2.37it/s]"
          ]
        },
        {
          "output_type": "stream",
          "name": "stdout",
          "text": [
            "Batch 20 | Loss: 0.0289 | Learning rate:  0.000001\n"
          ]
        },
        {
          "output_type": "stream",
          "name": "stderr",
          "text": [
            "Start training the model for one epoch...:  27%|██▋       | 40/148 [00:18<00:45,  2.37it/s]"
          ]
        },
        {
          "output_type": "stream",
          "name": "stdout",
          "text": [
            "Batch 40 | Loss: 0.0161 | Learning rate:  0.000001\n"
          ]
        },
        {
          "output_type": "stream",
          "name": "stderr",
          "text": [
            "Start training the model for one epoch...:  41%|████      | 60/148 [00:26<00:37,  2.36it/s]"
          ]
        },
        {
          "output_type": "stream",
          "name": "stdout",
          "text": [
            "Batch 60 | Loss: 0.0381 | Learning rate:  0.000001\n"
          ]
        },
        {
          "output_type": "stream",
          "name": "stderr",
          "text": [
            "Start training the model for one epoch...:  54%|█████▍    | 80/148 [00:35<00:28,  2.37it/s]"
          ]
        },
        {
          "output_type": "stream",
          "name": "stdout",
          "text": [
            "Batch 80 | Loss: 0.0405 | Learning rate:  0.000001\n"
          ]
        },
        {
          "output_type": "stream",
          "name": "stderr",
          "text": [
            "Start training the model for one epoch...:  68%|██████▊   | 100/148 [00:43<00:20,  2.36it/s]"
          ]
        },
        {
          "output_type": "stream",
          "name": "stdout",
          "text": [
            "Batch 100 | Loss: 0.0223 | Learning rate:  0.000001\n"
          ]
        },
        {
          "output_type": "stream",
          "name": "stderr",
          "text": [
            "Start training the model for one epoch...:  81%|████████  | 120/148 [00:52<00:11,  2.36it/s]"
          ]
        },
        {
          "output_type": "stream",
          "name": "stdout",
          "text": [
            "Batch 120 | Loss: 0.0255 | Learning rate:  0.000001\n"
          ]
        },
        {
          "output_type": "stream",
          "name": "stderr",
          "text": [
            "Start training the model for one epoch...:  95%|█████████▍| 140/148 [01:00<00:03,  2.38it/s]"
          ]
        },
        {
          "output_type": "stream",
          "name": "stdout",
          "text": [
            "Batch 140 | Loss: 0.0628 | Learning rate:  0.000001\n"
          ]
        },
        {
          "output_type": "stream",
          "name": "stderr",
          "text": [
            "Start training the model for one epoch...: 100%|██████████| 148/148 [01:03<00:00,  2.32it/s]\n",
            "954it [02:08,  7.44it/s]\n"
          ]
        },
        {
          "output_type": "stream",
          "name": "stdout",
          "text": [
            "Epoch: 192, train loss: 0.030363662615166726, val_loss: 0.41102745036440325, val_dice: 0.1449316875523483, val_IoU: 0.12885669108205866\n"
          ]
        },
        {
          "output_type": "stream",
          "name": "stderr",
          "text": [
            "Start training the model for one epoch...:  14%|█▎        | 20/148 [00:09<00:54,  2.36it/s]"
          ]
        },
        {
          "output_type": "stream",
          "name": "stdout",
          "text": [
            "Batch 20 | Loss: 0.0041 | Learning rate:  0.000001\n"
          ]
        },
        {
          "output_type": "stream",
          "name": "stderr",
          "text": [
            "Start training the model for one epoch...:  27%|██▋       | 40/148 [00:18<00:45,  2.37it/s]"
          ]
        },
        {
          "output_type": "stream",
          "name": "stdout",
          "text": [
            "Batch 40 | Loss: 0.0161 | Learning rate:  0.000001\n"
          ]
        },
        {
          "output_type": "stream",
          "name": "stderr",
          "text": [
            "Start training the model for one epoch...:  41%|████      | 60/148 [00:26<00:37,  2.37it/s]"
          ]
        },
        {
          "output_type": "stream",
          "name": "stdout",
          "text": [
            "Batch 60 | Loss: 0.0155 | Learning rate:  0.000001\n"
          ]
        },
        {
          "output_type": "stream",
          "name": "stderr",
          "text": [
            "Start training the model for one epoch...:  54%|█████▍    | 80/148 [00:35<00:28,  2.35it/s]"
          ]
        },
        {
          "output_type": "stream",
          "name": "stdout",
          "text": [
            "Batch 80 | Loss: 0.0255 | Learning rate:  0.000001\n"
          ]
        },
        {
          "output_type": "stream",
          "name": "stderr",
          "text": [
            "Start training the model for one epoch...:  68%|██████▊   | 100/148 [00:44<00:22,  2.17it/s]"
          ]
        },
        {
          "output_type": "stream",
          "name": "stdout",
          "text": [
            "Batch 100 | Loss: 0.0081 | Learning rate:  0.000001\n"
          ]
        },
        {
          "output_type": "stream",
          "name": "stderr",
          "text": [
            "Start training the model for one epoch...:  81%|████████  | 120/148 [00:52<00:11,  2.35it/s]"
          ]
        },
        {
          "output_type": "stream",
          "name": "stdout",
          "text": [
            "Batch 120 | Loss: 0.0392 | Learning rate:  0.000001\n"
          ]
        },
        {
          "output_type": "stream",
          "name": "stderr",
          "text": [
            "Start training the model for one epoch...:  95%|█████████▍| 140/148 [01:01<00:03,  2.38it/s]"
          ]
        },
        {
          "output_type": "stream",
          "name": "stdout",
          "text": [
            "Batch 140 | Loss: 0.0323 | Learning rate:  0.000001\n"
          ]
        },
        {
          "output_type": "stream",
          "name": "stderr",
          "text": [
            "Start training the model for one epoch...: 100%|██████████| 148/148 [01:04<00:00,  2.30it/s]\n",
            "954it [02:08,  7.44it/s]\n"
          ]
        },
        {
          "output_type": "stream",
          "name": "stdout",
          "text": [
            "Epoch: 193, train loss: 0.02918355563353445, val_loss: 0.38909622862060367, val_dice: 0.14302154687847182, val_IoU: 0.12726088016974546\n"
          ]
        },
        {
          "output_type": "stream",
          "name": "stderr",
          "text": [
            "Start training the model for one epoch...:  14%|█▎        | 20/148 [00:09<00:54,  2.37it/s]"
          ]
        },
        {
          "output_type": "stream",
          "name": "stdout",
          "text": [
            "Batch 20 | Loss: 0.0247 | Learning rate:  0.000001\n"
          ]
        },
        {
          "output_type": "stream",
          "name": "stderr",
          "text": [
            "Start training the model for one epoch...:  27%|██▋       | 40/148 [00:18<00:45,  2.37it/s]"
          ]
        },
        {
          "output_type": "stream",
          "name": "stdout",
          "text": [
            "Batch 40 | Loss: 0.0390 | Learning rate:  0.000001\n"
          ]
        },
        {
          "output_type": "stream",
          "name": "stderr",
          "text": [
            "Start training the model for one epoch...:  41%|████      | 60/148 [00:26<00:37,  2.36it/s]"
          ]
        },
        {
          "output_type": "stream",
          "name": "stdout",
          "text": [
            "Batch 60 | Loss: 0.0394 | Learning rate:  0.000001\n"
          ]
        },
        {
          "output_type": "stream",
          "name": "stderr",
          "text": [
            "Start training the model for one epoch...:  54%|█████▍    | 80/148 [00:35<00:28,  2.35it/s]"
          ]
        },
        {
          "output_type": "stream",
          "name": "stdout",
          "text": [
            "Batch 80 | Loss: 0.0258 | Learning rate:  0.000001\n"
          ]
        },
        {
          "output_type": "stream",
          "name": "stderr",
          "text": [
            "Start training the model for one epoch...:  68%|██████▊   | 100/148 [00:43<00:20,  2.36it/s]"
          ]
        },
        {
          "output_type": "stream",
          "name": "stdout",
          "text": [
            "Batch 100 | Loss: 0.0353 | Learning rate:  0.000001\n"
          ]
        },
        {
          "output_type": "stream",
          "name": "stderr",
          "text": [
            "Start training the model for one epoch...:  81%|████████  | 120/148 [00:52<00:11,  2.36it/s]"
          ]
        },
        {
          "output_type": "stream",
          "name": "stdout",
          "text": [
            "Batch 120 | Loss: 0.0198 | Learning rate:  0.000001\n"
          ]
        },
        {
          "output_type": "stream",
          "name": "stderr",
          "text": [
            "Start training the model for one epoch...:  95%|█████████▍| 140/148 [01:00<00:03,  2.37it/s]"
          ]
        },
        {
          "output_type": "stream",
          "name": "stdout",
          "text": [
            "Batch 140 | Loss: 0.0199 | Learning rate:  0.000001\n"
          ]
        },
        {
          "output_type": "stream",
          "name": "stderr",
          "text": [
            "Start training the model for one epoch...: 100%|██████████| 148/148 [01:03<00:00,  2.32it/s]\n",
            "954it [02:08,  7.44it/s]\n"
          ]
        },
        {
          "output_type": "stream",
          "name": "stdout",
          "text": [
            "Epoch: 194, train loss: 0.02942136499552509, val_loss: 0.3632176358006754, val_dice: 0.1444560017761294, val_IoU: 0.12857706131120797\n"
          ]
        },
        {
          "output_type": "stream",
          "name": "stderr",
          "text": [
            "Start training the model for one epoch...:  14%|█▎        | 20/148 [00:09<00:54,  2.36it/s]"
          ]
        },
        {
          "output_type": "stream",
          "name": "stdout",
          "text": [
            "Batch 20 | Loss: 0.0219 | Learning rate:  0.000001\n"
          ]
        },
        {
          "output_type": "stream",
          "name": "stderr",
          "text": [
            "Start training the model for one epoch...:  27%|██▋       | 40/148 [00:18<00:45,  2.36it/s]"
          ]
        },
        {
          "output_type": "stream",
          "name": "stdout",
          "text": [
            "Batch 40 | Loss: 0.0237 | Learning rate:  0.000001\n"
          ]
        },
        {
          "output_type": "stream",
          "name": "stderr",
          "text": [
            "Start training the model for one epoch...:  41%|████      | 60/148 [00:26<00:37,  2.37it/s]"
          ]
        },
        {
          "output_type": "stream",
          "name": "stdout",
          "text": [
            "Batch 60 | Loss: 0.0297 | Learning rate:  0.000001\n"
          ]
        },
        {
          "output_type": "stream",
          "name": "stderr",
          "text": [
            "Start training the model for one epoch...:  54%|█████▍    | 80/148 [00:35<00:28,  2.36it/s]"
          ]
        },
        {
          "output_type": "stream",
          "name": "stdout",
          "text": [
            "Batch 80 | Loss: 0.0291 | Learning rate:  0.000001\n"
          ]
        },
        {
          "output_type": "stream",
          "name": "stderr",
          "text": [
            "Start training the model for one epoch...:  68%|██████▊   | 100/148 [00:43<00:20,  2.36it/s]"
          ]
        },
        {
          "output_type": "stream",
          "name": "stdout",
          "text": [
            "Batch 100 | Loss: 0.0248 | Learning rate:  0.000001\n"
          ]
        },
        {
          "output_type": "stream",
          "name": "stderr",
          "text": [
            "Start training the model for one epoch...:  81%|████████  | 120/148 [00:52<00:11,  2.35it/s]"
          ]
        },
        {
          "output_type": "stream",
          "name": "stdout",
          "text": [
            "Batch 120 | Loss: 0.0402 | Learning rate:  0.000001\n"
          ]
        },
        {
          "output_type": "stream",
          "name": "stderr",
          "text": [
            "Start training the model for one epoch...:  95%|█████████▍| 140/148 [01:00<00:03,  2.36it/s]"
          ]
        },
        {
          "output_type": "stream",
          "name": "stdout",
          "text": [
            "Batch 140 | Loss: 0.0291 | Learning rate:  0.000001\n"
          ]
        },
        {
          "output_type": "stream",
          "name": "stderr",
          "text": [
            "Start training the model for one epoch...: 100%|██████████| 148/148 [01:04<00:00,  2.29it/s]\n",
            "954it [02:08,  7.44it/s]\n"
          ]
        },
        {
          "output_type": "stream",
          "name": "stdout",
          "text": [
            "Epoch: 195, train loss: 0.02913851409873648, val_loss: 0.42036684984399836, val_dice: 0.14331942133091008, val_IoU: 0.12747612355142104\n"
          ]
        },
        {
          "output_type": "stream",
          "name": "stderr",
          "text": [
            "Start training the model for one epoch...:  14%|█▎        | 20/148 [00:09<00:54,  2.37it/s]"
          ]
        },
        {
          "output_type": "stream",
          "name": "stdout",
          "text": [
            "Batch 20 | Loss: 0.0102 | Learning rate:  0.000001\n"
          ]
        },
        {
          "output_type": "stream",
          "name": "stderr",
          "text": [
            "Start training the model for one epoch...:  27%|██▋       | 40/148 [00:18<00:45,  2.36it/s]"
          ]
        },
        {
          "output_type": "stream",
          "name": "stdout",
          "text": [
            "Batch 40 | Loss: 0.0472 | Learning rate:  0.000001\n"
          ]
        },
        {
          "output_type": "stream",
          "name": "stderr",
          "text": [
            "Start training the model for one epoch...:  41%|████      | 60/148 [00:26<00:37,  2.36it/s]"
          ]
        },
        {
          "output_type": "stream",
          "name": "stdout",
          "text": [
            "Batch 60 | Loss: 0.0411 | Learning rate:  0.000001\n"
          ]
        },
        {
          "output_type": "stream",
          "name": "stderr",
          "text": [
            "Start training the model for one epoch...:  54%|█████▍    | 80/148 [00:35<00:28,  2.36it/s]"
          ]
        },
        {
          "output_type": "stream",
          "name": "stdout",
          "text": [
            "Batch 80 | Loss: 0.0193 | Learning rate:  0.000001\n"
          ]
        },
        {
          "output_type": "stream",
          "name": "stderr",
          "text": [
            "Start training the model for one epoch...:  68%|██████▊   | 100/148 [00:43<00:20,  2.36it/s]"
          ]
        },
        {
          "output_type": "stream",
          "name": "stdout",
          "text": [
            "Batch 100 | Loss: 0.0120 | Learning rate:  0.000001\n"
          ]
        },
        {
          "output_type": "stream",
          "name": "stderr",
          "text": [
            "Start training the model for one epoch...:  81%|████████  | 120/148 [00:52<00:11,  2.37it/s]"
          ]
        },
        {
          "output_type": "stream",
          "name": "stdout",
          "text": [
            "Batch 120 | Loss: 0.0249 | Learning rate:  0.000001\n"
          ]
        },
        {
          "output_type": "stream",
          "name": "stderr",
          "text": [
            "Start training the model for one epoch...:  95%|█████████▍| 140/148 [01:00<00:03,  2.37it/s]"
          ]
        },
        {
          "output_type": "stream",
          "name": "stdout",
          "text": [
            "Batch 140 | Loss: 0.0156 | Learning rate:  0.000001\n"
          ]
        },
        {
          "output_type": "stream",
          "name": "stderr",
          "text": [
            "Start training the model for one epoch...: 100%|██████████| 148/148 [01:03<00:00,  2.32it/s]\n",
            "954it [02:08,  7.45it/s]\n"
          ]
        },
        {
          "output_type": "stream",
          "name": "stdout",
          "text": [
            "Epoch: 196, train loss: 0.02911021372907468, val_loss: 0.38917335977219436, val_dice: 0.147711804322188, val_IoU: 0.13138698208427296\n"
          ]
        },
        {
          "output_type": "stream",
          "name": "stderr",
          "text": [
            "Start training the model for one epoch...:  14%|█▎        | 20/148 [00:09<00:54,  2.36it/s]"
          ]
        },
        {
          "output_type": "stream",
          "name": "stdout",
          "text": [
            "Batch 20 | Loss: 0.0321 | Learning rate:  0.000001\n"
          ]
        },
        {
          "output_type": "stream",
          "name": "stderr",
          "text": [
            "Start training the model for one epoch...:  27%|██▋       | 40/148 [00:18<00:45,  2.36it/s]"
          ]
        },
        {
          "output_type": "stream",
          "name": "stdout",
          "text": [
            "Batch 40 | Loss: 0.0295 | Learning rate:  0.000001\n"
          ]
        },
        {
          "output_type": "stream",
          "name": "stderr",
          "text": [
            "Start training the model for one epoch...:  41%|████      | 60/148 [00:26<00:37,  2.36it/s]"
          ]
        },
        {
          "output_type": "stream",
          "name": "stdout",
          "text": [
            "Batch 60 | Loss: 0.0372 | Learning rate:  0.000001\n"
          ]
        },
        {
          "output_type": "stream",
          "name": "stderr",
          "text": [
            "Start training the model for one epoch...:  54%|█████▍    | 80/148 [00:35<00:28,  2.36it/s]"
          ]
        },
        {
          "output_type": "stream",
          "name": "stdout",
          "text": [
            "Batch 80 | Loss: 0.0250 | Learning rate:  0.000001\n"
          ]
        },
        {
          "output_type": "stream",
          "name": "stderr",
          "text": [
            "Start training the model for one epoch...:  68%|██████▊   | 100/148 [00:43<00:20,  2.36it/s]"
          ]
        },
        {
          "output_type": "stream",
          "name": "stdout",
          "text": [
            "Batch 100 | Loss: 0.0334 | Learning rate:  0.000001\n"
          ]
        },
        {
          "output_type": "stream",
          "name": "stderr",
          "text": [
            "Start training the model for one epoch...:  81%|████████  | 120/148 [00:52<00:11,  2.35it/s]"
          ]
        },
        {
          "output_type": "stream",
          "name": "stdout",
          "text": [
            "Batch 120 | Loss: 0.0279 | Learning rate:  0.000001\n"
          ]
        },
        {
          "output_type": "stream",
          "name": "stderr",
          "text": [
            "Start training the model for one epoch...:  95%|█████████▍| 140/148 [01:00<00:03,  2.37it/s]"
          ]
        },
        {
          "output_type": "stream",
          "name": "stdout",
          "text": [
            "Batch 140 | Loss: 0.0458 | Learning rate:  0.000001\n"
          ]
        },
        {
          "output_type": "stream",
          "name": "stderr",
          "text": [
            "Start training the model for one epoch...: 100%|██████████| 148/148 [01:03<00:00,  2.32it/s]\n",
            "954it [02:08,  7.44it/s]\n"
          ]
        },
        {
          "output_type": "stream",
          "name": "stdout",
          "text": [
            "Epoch: 197, train loss: 0.028713600341910245, val_loss: 0.3839149263529283, val_dice: 0.14742712481843973, val_IoU: 0.13108111952833276\n"
          ]
        },
        {
          "output_type": "stream",
          "name": "stderr",
          "text": [
            "Start training the model for one epoch...:  14%|█▎        | 20/148 [00:10<00:56,  2.27it/s]"
          ]
        },
        {
          "output_type": "stream",
          "name": "stdout",
          "text": [
            "Batch 20 | Loss: 0.0496 | Learning rate:  0.000001\n"
          ]
        },
        {
          "output_type": "stream",
          "name": "stderr",
          "text": [
            "Start training the model for one epoch...:  27%|██▋       | 40/148 [00:18<00:45,  2.36it/s]"
          ]
        },
        {
          "output_type": "stream",
          "name": "stdout",
          "text": [
            "Batch 40 | Loss: 0.0331 | Learning rate:  0.000001\n"
          ]
        },
        {
          "output_type": "stream",
          "name": "stderr",
          "text": [
            "Start training the model for one epoch...:  41%|████      | 60/148 [00:27<00:37,  2.37it/s]"
          ]
        },
        {
          "output_type": "stream",
          "name": "stdout",
          "text": [
            "Batch 60 | Loss: 0.0379 | Learning rate:  0.000001\n"
          ]
        },
        {
          "output_type": "stream",
          "name": "stderr",
          "text": [
            "Start training the model for one epoch...:  54%|█████▍    | 80/148 [00:35<00:28,  2.36it/s]"
          ]
        },
        {
          "output_type": "stream",
          "name": "stdout",
          "text": [
            "Batch 80 | Loss: 0.0386 | Learning rate:  0.000001\n"
          ]
        },
        {
          "output_type": "stream",
          "name": "stderr",
          "text": [
            "Start training the model for one epoch...:  68%|██████▊   | 100/148 [00:44<00:20,  2.36it/s]"
          ]
        },
        {
          "output_type": "stream",
          "name": "stdout",
          "text": [
            "Batch 100 | Loss: 0.0161 | Learning rate:  0.000001\n"
          ]
        },
        {
          "output_type": "stream",
          "name": "stderr",
          "text": [
            "Start training the model for one epoch...:  81%|████████  | 120/148 [00:52<00:11,  2.35it/s]"
          ]
        },
        {
          "output_type": "stream",
          "name": "stdout",
          "text": [
            "Batch 120 | Loss: 0.0238 | Learning rate:  0.000001\n"
          ]
        },
        {
          "output_type": "stream",
          "name": "stderr",
          "text": [
            "Start training the model for one epoch...:  95%|█████████▍| 140/148 [01:01<00:03,  2.37it/s]"
          ]
        },
        {
          "output_type": "stream",
          "name": "stdout",
          "text": [
            "Batch 140 | Loss: 0.0318 | Learning rate:  0.000001\n"
          ]
        },
        {
          "output_type": "stream",
          "name": "stderr",
          "text": [
            "Start training the model for one epoch...: 100%|██████████| 148/148 [01:04<00:00,  2.29it/s]\n",
            "954it [02:08,  7.44it/s]\n"
          ]
        },
        {
          "output_type": "stream",
          "name": "stdout",
          "text": [
            "Epoch: 198, train loss: 0.029183007776737213, val_loss: 0.38724524719910053, val_dice: 0.14259784155866168, val_IoU: 0.12682971356267608\n"
          ]
        },
        {
          "output_type": "stream",
          "name": "stderr",
          "text": [
            "Start training the model for one epoch...:  14%|█▎        | 20/148 [00:09<00:54,  2.36it/s]"
          ]
        },
        {
          "output_type": "stream",
          "name": "stdout",
          "text": [
            "Batch 20 | Loss: 0.0586 | Learning rate:  0.000001\n"
          ]
        },
        {
          "output_type": "stream",
          "name": "stderr",
          "text": [
            "Start training the model for one epoch...:  27%|██▋       | 40/148 [00:18<00:45,  2.36it/s]"
          ]
        },
        {
          "output_type": "stream",
          "name": "stdout",
          "text": [
            "Batch 40 | Loss: 0.0260 | Learning rate:  0.000001\n"
          ]
        },
        {
          "output_type": "stream",
          "name": "stderr",
          "text": [
            "Start training the model for one epoch...:  41%|████      | 60/148 [00:26<00:37,  2.36it/s]"
          ]
        },
        {
          "output_type": "stream",
          "name": "stdout",
          "text": [
            "Batch 60 | Loss: 0.0488 | Learning rate:  0.000001\n"
          ]
        },
        {
          "output_type": "stream",
          "name": "stderr",
          "text": [
            "Start training the model for one epoch...:  54%|█████▍    | 80/148 [00:35<00:28,  2.36it/s]"
          ]
        },
        {
          "output_type": "stream",
          "name": "stdout",
          "text": [
            "Batch 80 | Loss: 0.0217 | Learning rate:  0.000001\n"
          ]
        },
        {
          "output_type": "stream",
          "name": "stderr",
          "text": [
            "Start training the model for one epoch...:  68%|██████▊   | 100/148 [00:43<00:20,  2.36it/s]"
          ]
        },
        {
          "output_type": "stream",
          "name": "stdout",
          "text": [
            "Batch 100 | Loss: 0.0404 | Learning rate:  0.000001\n"
          ]
        },
        {
          "output_type": "stream",
          "name": "stderr",
          "text": [
            "Start training the model for one epoch...:  81%|████████  | 120/148 [00:52<00:11,  2.36it/s]"
          ]
        },
        {
          "output_type": "stream",
          "name": "stdout",
          "text": [
            "Batch 120 | Loss: 0.0182 | Learning rate:  0.000001\n"
          ]
        },
        {
          "output_type": "stream",
          "name": "stderr",
          "text": [
            "Start training the model for one epoch...:  95%|█████████▍| 140/148 [01:00<00:03,  2.37it/s]"
          ]
        },
        {
          "output_type": "stream",
          "name": "stdout",
          "text": [
            "Batch 140 | Loss: 0.0432 | Learning rate:  0.000001\n"
          ]
        },
        {
          "output_type": "stream",
          "name": "stderr",
          "text": [
            "Start training the model for one epoch...: 100%|██████████| 148/148 [01:03<00:00,  2.31it/s]\n",
            "954it [02:08,  7.44it/s]\n"
          ]
        },
        {
          "output_type": "stream",
          "name": "stdout",
          "text": [
            "Epoch: 199, train loss: 0.029965614522429736, val_loss: 0.3765310122000846, val_dice: 0.14200405034331492, val_IoU: 0.1262339407141692\n"
          ]
        },
        {
          "output_type": "stream",
          "name": "stderr",
          "text": [
            "25it [00:10,  2.47it/s]"
          ]
        },
        {
          "output_type": "stream",
          "name": "stdout",
          "text": [
            "Epoch: 200, test_loss: 0.13355679288506508, test_dice: 0.7233974809224515, test_IoU: 0.645023427125914\n"
          ]
        },
        {
          "output_type": "stream",
          "name": "stderr",
          "text": [
            "\n"
          ]
        }
      ],
      "source": [
        "training.train_model(train_csv, val_csv, test_csv, writer, args)"
      ]
    },
    {
      "cell_type": "markdown",
      "source": [
        "Run variance"
      ],
      "metadata": {
        "id": "UT2kioMVvU3U"
      }
    },
    {
      "cell_type": "code",
      "source": [
        "\n",
        "import os\n",
        "import sys\n",
        "import wandb\n",
        "import numpy as np\n",
        "import pandas as pd\n",
        "from datetime import datetime\n",
        "\n",
        "sys.path.append(SRCDIR)\n",
        "import torch\n",
        "import params as args # type: ignore\n",
        "import losses, metrics, data, models, training # type: ignore\n",
        "\n",
        "from tqdm import tqdm\n",
        "from torch.utils.data import DataLoader\n",
        "\n",
        "\n",
        "def segmentation_metrics(masks, pred):\n",
        "    \"\"\"\n",
        "    Calculate common segmentation metrics: Dice coefficient, IoU, Pixel Accuracy, Precision, and Recall.\n",
        "\n",
        "    Parameters:\n",
        "    masks (numpy.ndarray): Ground truth masks, shape (N, W, H).\n",
        "    pred (numpy.ndarray): Predicted masks, shape (N, W, H).\n",
        "\n",
        "    Returns:\n",
        "    dict: A dictionary with Dice, IoU, Pixel Accuracy, Precision, and Recall for each mask.\n",
        "    \"\"\"\n",
        "\n",
        "    def dice_coefficient(mask, pred):\n",
        "        \"\"\"Calculate the Dice coefficient.\"\"\"\n",
        "        intersection = np.sum(mask * pred)\n",
        "        union = np.sum(mask) + np.sum(pred)\n",
        "        dice = (2 * intersection) / (union + 1e-6)  # Add small epsilon to avoid division by zero\n",
        "        return dice\n",
        "\n",
        "    def iou(mask, pred):\n",
        "        \"\"\"Calculate the Intersection over Union (IoU).\"\"\"\n",
        "        intersection = np.sum(mask * pred)\n",
        "        union = np.sum(mask) + np.sum(pred) - intersection\n",
        "        iou_score = intersection / (union + 1e-6)  # Add small epsilon to avoid division by zero\n",
        "        return iou_score\n",
        "\n",
        "    def pixel_accuracy(mask, pred):\n",
        "        \"\"\"Calculate the pixel accuracy.\"\"\"\n",
        "        correct = np.sum(mask == pred)\n",
        "        total = mask.size\n",
        "        accuracy = correct / total\n",
        "        return accuracy\n",
        "\n",
        "    def precision(mask, pred):\n",
        "        \"\"\"Calculate the precision.\"\"\"\n",
        "        TP = np.sum((mask == 1) & (pred == 1))\n",
        "        FP = np.sum((mask == 0) & (pred == 1))\n",
        "        precision_score = TP / (TP + FP + 1e-6)  # Add small epsilon to avoid division by zero\n",
        "        return precision_score\n",
        "\n",
        "    def recall(mask, pred):\n",
        "        \"\"\"Calculate the recall.\"\"\"\n",
        "        TP = np.sum((mask == 1) & (pred == 1))\n",
        "        FN = np.sum((mask == 1) & (pred == 0))\n",
        "        recall_score = TP / (TP + FN + 1e-6)  # Add small epsilon to avoid division by zero\n",
        "        return recall_score\n",
        "\n",
        "    metrics = {'dice': [], 'iou': [], 'pixel_accuracy': [], 'precision': [], 'recall': []}\n",
        "\n",
        "    for i in range(masks.shape[0]):\n",
        "        mask = masks[i]\n",
        "        pred_mask = pred[i]\n",
        "        metrics['dice'].append(dice_coefficient(mask, pred_mask))\n",
        "        metrics['iou'].append(iou(mask, pred_mask))\n",
        "        metrics['pixel_accuracy'].append(pixel_accuracy(mask, pred_mask))\n",
        "        metrics['precision'].append(precision(mask, pred_mask))\n",
        "        metrics['recall'].append(recall(mask, pred_mask))\n",
        "\n",
        "    # Compute the mean of each metric\n",
        "    metrics = {k: v for k, v in metrics.items()}\n",
        "    return metrics\n",
        "\n",
        "\n",
        "def eval_bootstrap(model, val_dl, image_size, args):\n",
        "    model.eval()\n",
        "    val_stats = {}\n",
        "    preds_gather, labels_gather = [], []\n",
        "\n",
        "    with torch.no_grad():\n",
        "        for batch_idx, val_batch in tqdm(enumerate(val_dl)):\n",
        "            if \"sam\" in args.model_name:\n",
        "              outputs = model(\n",
        "                  pixel_values=val_batch[\"pixel_values\"].to(args.device),\n",
        "                  input_boxes=val_batch[\"input_boxes\"].to(args.device),\n",
        "                  multimask_output=False,\n",
        "              )\n",
        "              predicted_masks = outputs.pred_masks.squeeze()\n",
        "            elif \"segformer\" in args.model_name:\n",
        "              outputs = model(val_batch[\"pixel_values\"].to(args.device))\n",
        "              predicted_masks = outputs.logits.squeeze()\n",
        "            else:\n",
        "              outputs = model(val_batch[\"pixel_values\"].to(args.device))\n",
        "              predicted_masks = outputs.squeeze()\n",
        "            ground_truth_masks = val_batch[\"ground_truth_mask\"].float().to(args.device)\n",
        "            if len(predicted_masks.shape) == 2:\n",
        "              predicted_masks = predicted_masks.unsqueeze(0)\n",
        "            preds_gather.append(predicted_masks.detach().cpu())\n",
        "            labels_gather.append(ground_truth_masks.detach().cpu())\n",
        "\n",
        "\n",
        "    preds_gather = (torch.cat(preds_gather, dim=0) > 0.0).cpu().numpy()\n",
        "    labels_gather = torch.cat(labels_gather, dim=0).bool().cpu().numpy()\n",
        "\n",
        "    n_bootstrap = 1000\n",
        "    seg_metrics = segmentation_metrics(preds_gather, labels_gather)\n",
        "    for _ in tqdm(range(n_bootstrap), desc=\"Start bootstrapping...\"):\n",
        "      sample_indices = np.random.choice(np.arange(len(preds_gather)), size=len(preds_gather), replace=True)\n",
        "\n",
        "      for met in seg_metrics:\n",
        "          if met not in val_stats:\n",
        "            val_stats[met] = []\n",
        "          vs = np.asarray(seg_metrics[met])[sample_indices]\n",
        "          val_stats[met].append(np.mean(vs))\n",
        "    return val_stats\n",
        "\n",
        "def get_variance(test_path, args, model_path=\"\"):\n",
        "\n",
        "    model, processor, image_size, mask_size = models.load_model(args.model_name, args.device)\n",
        "    test_data = data.SegmentationDataset(test_path, image_size=image_size, mask_size=mask_size, transform=processor, model_name=args.model_name)\n",
        "    test_dl = DataLoader(test_data, batch_size=args.batch_size, num_workers=args.workers, shuffle=False)\n",
        "\n",
        "    best_val_loss, best_val_model = None, None\n",
        "    model.load_state_dict(torch.load(model_path))\n",
        "    print(f\"Resume from previous checkpoint: {model_path}...\")\n",
        "\n",
        "    test_stats = eval_bootstrap(model, test_dl, image_size, args)\n",
        "    for k, vs in test_stats.items():\n",
        "      print(f\"{k}, mean: {np.mean(vs)}, variance: {np.std(vs)}\")\n",
        "\n",
        "\n",
        "args.model_name = \"unet\"# segformer-b5\", \"sam\"\"segformer-b5\"\"unet\"\n",
        "args.dataset_csv = \"/content/drive/MyDrive/solar_PV_prediction/Japan/zoom19_cv/segmentation\"\n",
        "test_csv = os.path.join(args.dataset_csv, \"test.csv\")\n",
        "model_path = \"/content/drive/MyDrive/solar_PV_prediction/outputs_segAug/unet_25-06-25_lr_5e-05_opt_adamw_bsz_16_ratio_1_loss_Dice+BCE_country_France/model_39.pth\" # PUT YOUR MODEL PATH HERE\n",
        "get_variance(test_csv, args, model_path)"
      ],
      "metadata": {
        "colab": {
          "base_uri": "https://localhost:8080/"
        },
        "id": "cuaVlIEZvWWz",
        "outputId": "ad9fb3ce-847c-4b8e-fe84-80d71f9aff7a"
      },
      "execution_count": null,
      "outputs": [
        {
          "output_type": "stream",
          "name": "stdout",
          "text": [
            "Resume from previous checkpoint: /content/drive/MyDrive/solar_PV_prediction/outputs_segAug/unet_25-06-25_lr_5e-05_opt_adamw_bsz_16_ratio_1_loss_Dice+BCE_country_France/model_39.pth...\n"
          ]
        },
        {
          "output_type": "stream",
          "name": "stderr",
          "text": [
            "50it [00:01, 25.10it/s]\n",
            "Start bootstrapping...: 100%|██████████| 1000/1000 [00:00<00:00, 13034.05it/s]"
          ]
        },
        {
          "output_type": "stream",
          "name": "stdout",
          "text": [
            "dice, mean: 0.697186278615669, variance: 0.027923907061107707\n",
            "iou, mean: 0.5956116761152563, variance: 0.028224953762359475\n",
            "pixel_accuracy, mean: 0.9835951514053345, variance: 0.0025510199614483336\n",
            "precision, mean: 0.822040537060724, variance: 0.02675773324714518\n",
            "recall, mean: 0.644416176274117, variance: 0.029893139828934906\n"
          ]
        },
        {
          "output_type": "stream",
          "name": "stderr",
          "text": [
            "\n"
          ]
        }
      ]
    },
    {
      "cell_type": "markdown",
      "metadata": {
        "id": "pcKF__ADBR-d"
      },
      "source": [
        "Run test"
      ]
    },
    {
      "cell_type": "code",
      "execution_count": null,
      "metadata": {
        "colab": {
          "background_save": true
        },
        "id": "Uot4RHjHWlWq"
      },
      "outputs": [],
      "source": [
        "# import os\n",
        "# import sys\n",
        "# import wandb\n",
        "# import pandas as pd\n",
        "# from datetime import datetime\n",
        "\n",
        "# sys.path.append(SRCDIR)\n",
        "\n",
        "# import numpy as np\n",
        "# import params as args # type: ignore\n",
        "# import losses, metrics, data, models, training # type: ignore\n",
        "\n",
        "# args.exp_date = datetime.now().strftime(\"%y-%m-%d\")\n",
        "# args.exp_code = f'{args.model_name}_{args.exp_date}'\n",
        "# args.resume_ckpt = \"/content/drive/MyDrive/solar_PV_prediction/outputs/segformer-b1_24-10-13/model_19.pth\"\n",
        "# print(args)\n",
        "# train_csv = os.path.join(args.dataset_csv, \"train.csv\")\n",
        "# val_csv = os.path.join(args.dataset_csv, \"val.csv\")\n",
        "# test_csv = os.path.join(args.dataset_csv, \"test.csv\")\n",
        "\n",
        "# if args.report_to == \"wandb\":\n",
        "#   writer = wandb.init(project=\"Solar-PV-segmentation-finetuning-\" + args.exp_code)\n",
        "# else:\n",
        "#   writer = None\n",
        "\n",
        "# training.train_model(train_csv, val_csv, test_csv, writer, args)"
      ]
    },
    {
      "cell_type": "markdown",
      "metadata": {
        "id": "9YfFcP65FZCL"
      },
      "source": []
    },
    {
      "cell_type": "markdown",
      "metadata": {
        "id": "RtvALGZMFYqN"
      },
      "source": []
    }
  ],
  "metadata": {
    "accelerator": "GPU",
    "colab": {
      "gpuType": "A100",
      "machine_shape": "hm",
      "provenance": []
    },
    "kernelspec": {
      "display_name": "Python 3",
      "name": "python3"
    },
    "language_info": {
      "name": "python"
    },
    "widgets": {
      "application/vnd.jupyter.widget-state+json": {
        "c4b2ef4e05a64b14a3cf1bb042afc292": {
          "model_module": "@jupyter-widgets/controls",
          "model_name": "HBoxModel",
          "model_module_version": "1.5.0",
          "state": {
            "_dom_classes": [],
            "_model_module": "@jupyter-widgets/controls",
            "_model_module_version": "1.5.0",
            "_model_name": "HBoxModel",
            "_view_count": null,
            "_view_module": "@jupyter-widgets/controls",
            "_view_module_version": "1.5.0",
            "_view_name": "HBoxView",
            "box_style": "",
            "children": [
              "IPY_MODEL_9996cb3284c7451ab6e1eab7bf89b62b",
              "IPY_MODEL_651fa62d5b8d4e27a0ab1a6b6dbbe7c6",
              "IPY_MODEL_78e5aeaa5f554375bbe47461ef18bf3d"
            ],
            "layout": "IPY_MODEL_959370af2e49451c9845cc8673cf6da0"
          }
        },
        "9996cb3284c7451ab6e1eab7bf89b62b": {
          "model_module": "@jupyter-widgets/controls",
          "model_name": "HTMLModel",
          "model_module_version": "1.5.0",
          "state": {
            "_dom_classes": [],
            "_model_module": "@jupyter-widgets/controls",
            "_model_module_version": "1.5.0",
            "_model_name": "HTMLModel",
            "_view_count": null,
            "_view_module": "@jupyter-widgets/controls",
            "_view_module_version": "1.5.0",
            "_view_name": "HTMLView",
            "description": "",
            "description_tooltip": null,
            "layout": "IPY_MODEL_ea593ac35a264eb3a61d17e6f83495f8",
            "placeholder": "​",
            "style": "IPY_MODEL_8065c9b67a554a5cbf686b7b4773c028",
            "value": "config.json: "
          }
        },
        "651fa62d5b8d4e27a0ab1a6b6dbbe7c6": {
          "model_module": "@jupyter-widgets/controls",
          "model_name": "FloatProgressModel",
          "model_module_version": "1.5.0",
          "state": {
            "_dom_classes": [],
            "_model_module": "@jupyter-widgets/controls",
            "_model_module_version": "1.5.0",
            "_model_name": "FloatProgressModel",
            "_view_count": null,
            "_view_module": "@jupyter-widgets/controls",
            "_view_module_version": "1.5.0",
            "_view_name": "ProgressView",
            "bar_style": "success",
            "description": "",
            "description_tooltip": null,
            "layout": "IPY_MODEL_41afed5d48264bb29bed93fdc140e3f0",
            "max": 1,
            "min": 0,
            "orientation": "horizontal",
            "style": "IPY_MODEL_cac214dd2298420993aee52287ed0c4c",
            "value": 1
          }
        },
        "78e5aeaa5f554375bbe47461ef18bf3d": {
          "model_module": "@jupyter-widgets/controls",
          "model_name": "HTMLModel",
          "model_module_version": "1.5.0",
          "state": {
            "_dom_classes": [],
            "_model_module": "@jupyter-widgets/controls",
            "_model_module_version": "1.5.0",
            "_model_name": "HTMLModel",
            "_view_count": null,
            "_view_module": "@jupyter-widgets/controls",
            "_view_module_version": "1.5.0",
            "_view_name": "HTMLView",
            "description": "",
            "description_tooltip": null,
            "layout": "IPY_MODEL_c237fcdcaa26402c98b43201c1df451b",
            "placeholder": "​",
            "style": "IPY_MODEL_4b1dbf52f7c444478adb77ecdbafff25",
            "value": " 70.0k/? [00:00&lt;00:00, 5.28MB/s]"
          }
        },
        "959370af2e49451c9845cc8673cf6da0": {
          "model_module": "@jupyter-widgets/base",
          "model_name": "LayoutModel",
          "model_module_version": "1.2.0",
          "state": {
            "_model_module": "@jupyter-widgets/base",
            "_model_module_version": "1.2.0",
            "_model_name": "LayoutModel",
            "_view_count": null,
            "_view_module": "@jupyter-widgets/base",
            "_view_module_version": "1.2.0",
            "_view_name": "LayoutView",
            "align_content": null,
            "align_items": null,
            "align_self": null,
            "border": null,
            "bottom": null,
            "display": null,
            "flex": null,
            "flex_flow": null,
            "grid_area": null,
            "grid_auto_columns": null,
            "grid_auto_flow": null,
            "grid_auto_rows": null,
            "grid_column": null,
            "grid_gap": null,
            "grid_row": null,
            "grid_template_areas": null,
            "grid_template_columns": null,
            "grid_template_rows": null,
            "height": null,
            "justify_content": null,
            "justify_items": null,
            "left": null,
            "margin": null,
            "max_height": null,
            "max_width": null,
            "min_height": null,
            "min_width": null,
            "object_fit": null,
            "object_position": null,
            "order": null,
            "overflow": null,
            "overflow_x": null,
            "overflow_y": null,
            "padding": null,
            "right": null,
            "top": null,
            "visibility": null,
            "width": null
          }
        },
        "ea593ac35a264eb3a61d17e6f83495f8": {
          "model_module": "@jupyter-widgets/base",
          "model_name": "LayoutModel",
          "model_module_version": "1.2.0",
          "state": {
            "_model_module": "@jupyter-widgets/base",
            "_model_module_version": "1.2.0",
            "_model_name": "LayoutModel",
            "_view_count": null,
            "_view_module": "@jupyter-widgets/base",
            "_view_module_version": "1.2.0",
            "_view_name": "LayoutView",
            "align_content": null,
            "align_items": null,
            "align_self": null,
            "border": null,
            "bottom": null,
            "display": null,
            "flex": null,
            "flex_flow": null,
            "grid_area": null,
            "grid_auto_columns": null,
            "grid_auto_flow": null,
            "grid_auto_rows": null,
            "grid_column": null,
            "grid_gap": null,
            "grid_row": null,
            "grid_template_areas": null,
            "grid_template_columns": null,
            "grid_template_rows": null,
            "height": null,
            "justify_content": null,
            "justify_items": null,
            "left": null,
            "margin": null,
            "max_height": null,
            "max_width": null,
            "min_height": null,
            "min_width": null,
            "object_fit": null,
            "object_position": null,
            "order": null,
            "overflow": null,
            "overflow_x": null,
            "overflow_y": null,
            "padding": null,
            "right": null,
            "top": null,
            "visibility": null,
            "width": null
          }
        },
        "8065c9b67a554a5cbf686b7b4773c028": {
          "model_module": "@jupyter-widgets/controls",
          "model_name": "DescriptionStyleModel",
          "model_module_version": "1.5.0",
          "state": {
            "_model_module": "@jupyter-widgets/controls",
            "_model_module_version": "1.5.0",
            "_model_name": "DescriptionStyleModel",
            "_view_count": null,
            "_view_module": "@jupyter-widgets/base",
            "_view_module_version": "1.2.0",
            "_view_name": "StyleView",
            "description_width": ""
          }
        },
        "41afed5d48264bb29bed93fdc140e3f0": {
          "model_module": "@jupyter-widgets/base",
          "model_name": "LayoutModel",
          "model_module_version": "1.2.0",
          "state": {
            "_model_module": "@jupyter-widgets/base",
            "_model_module_version": "1.2.0",
            "_model_name": "LayoutModel",
            "_view_count": null,
            "_view_module": "@jupyter-widgets/base",
            "_view_module_version": "1.2.0",
            "_view_name": "LayoutView",
            "align_content": null,
            "align_items": null,
            "align_self": null,
            "border": null,
            "bottom": null,
            "display": null,
            "flex": null,
            "flex_flow": null,
            "grid_area": null,
            "grid_auto_columns": null,
            "grid_auto_flow": null,
            "grid_auto_rows": null,
            "grid_column": null,
            "grid_gap": null,
            "grid_row": null,
            "grid_template_areas": null,
            "grid_template_columns": null,
            "grid_template_rows": null,
            "height": null,
            "justify_content": null,
            "justify_items": null,
            "left": null,
            "margin": null,
            "max_height": null,
            "max_width": null,
            "min_height": null,
            "min_width": null,
            "object_fit": null,
            "object_position": null,
            "order": null,
            "overflow": null,
            "overflow_x": null,
            "overflow_y": null,
            "padding": null,
            "right": null,
            "top": null,
            "visibility": null,
            "width": "20px"
          }
        },
        "cac214dd2298420993aee52287ed0c4c": {
          "model_module": "@jupyter-widgets/controls",
          "model_name": "ProgressStyleModel",
          "model_module_version": "1.5.0",
          "state": {
            "_model_module": "@jupyter-widgets/controls",
            "_model_module_version": "1.5.0",
            "_model_name": "ProgressStyleModel",
            "_view_count": null,
            "_view_module": "@jupyter-widgets/base",
            "_view_module_version": "1.2.0",
            "_view_name": "StyleView",
            "bar_color": null,
            "description_width": ""
          }
        },
        "c237fcdcaa26402c98b43201c1df451b": {
          "model_module": "@jupyter-widgets/base",
          "model_name": "LayoutModel",
          "model_module_version": "1.2.0",
          "state": {
            "_model_module": "@jupyter-widgets/base",
            "_model_module_version": "1.2.0",
            "_model_name": "LayoutModel",
            "_view_count": null,
            "_view_module": "@jupyter-widgets/base",
            "_view_module_version": "1.2.0",
            "_view_name": "LayoutView",
            "align_content": null,
            "align_items": null,
            "align_self": null,
            "border": null,
            "bottom": null,
            "display": null,
            "flex": null,
            "flex_flow": null,
            "grid_area": null,
            "grid_auto_columns": null,
            "grid_auto_flow": null,
            "grid_auto_rows": null,
            "grid_column": null,
            "grid_gap": null,
            "grid_row": null,
            "grid_template_areas": null,
            "grid_template_columns": null,
            "grid_template_rows": null,
            "height": null,
            "justify_content": null,
            "justify_items": null,
            "left": null,
            "margin": null,
            "max_height": null,
            "max_width": null,
            "min_height": null,
            "min_width": null,
            "object_fit": null,
            "object_position": null,
            "order": null,
            "overflow": null,
            "overflow_x": null,
            "overflow_y": null,
            "padding": null,
            "right": null,
            "top": null,
            "visibility": null,
            "width": null
          }
        },
        "4b1dbf52f7c444478adb77ecdbafff25": {
          "model_module": "@jupyter-widgets/controls",
          "model_name": "DescriptionStyleModel",
          "model_module_version": "1.5.0",
          "state": {
            "_model_module": "@jupyter-widgets/controls",
            "_model_module_version": "1.5.0",
            "_model_name": "DescriptionStyleModel",
            "_view_count": null,
            "_view_module": "@jupyter-widgets/base",
            "_view_module_version": "1.2.0",
            "_view_name": "StyleView",
            "description_width": ""
          }
        },
        "b6c7a602da804d708c0cbbf344348c25": {
          "model_module": "@jupyter-widgets/controls",
          "model_name": "HBoxModel",
          "model_module_version": "1.5.0",
          "state": {
            "_dom_classes": [],
            "_model_module": "@jupyter-widgets/controls",
            "_model_module_version": "1.5.0",
            "_model_name": "HBoxModel",
            "_view_count": null,
            "_view_module": "@jupyter-widgets/controls",
            "_view_module_version": "1.5.0",
            "_view_name": "HBoxView",
            "box_style": "",
            "children": [
              "IPY_MODEL_e6ada03031fd4c35871f74f048cf1803",
              "IPY_MODEL_d70fbba86cc840d583c066daebc87c9b",
              "IPY_MODEL_2a0ca9d0088f497b831678d0590ad1af"
            ],
            "layout": "IPY_MODEL_9bd64b7b9fc843828d76af306f06303f"
          }
        },
        "e6ada03031fd4c35871f74f048cf1803": {
          "model_module": "@jupyter-widgets/controls",
          "model_name": "HTMLModel",
          "model_module_version": "1.5.0",
          "state": {
            "_dom_classes": [],
            "_model_module": "@jupyter-widgets/controls",
            "_model_module_version": "1.5.0",
            "_model_name": "HTMLModel",
            "_view_count": null,
            "_view_module": "@jupyter-widgets/controls",
            "_view_module_version": "1.5.0",
            "_view_name": "HTMLView",
            "description": "",
            "description_tooltip": null,
            "layout": "IPY_MODEL_8d5b95c6e38041e1afe29644bfad1643",
            "placeholder": "​",
            "style": "IPY_MODEL_cefa0269bb0e401cb679948fcb70ddbe",
            "value": "pytorch_model.bin: 100%"
          }
        },
        "d70fbba86cc840d583c066daebc87c9b": {
          "model_module": "@jupyter-widgets/controls",
          "model_name": "FloatProgressModel",
          "model_module_version": "1.5.0",
          "state": {
            "_dom_classes": [],
            "_model_module": "@jupyter-widgets/controls",
            "_model_module_version": "1.5.0",
            "_model_name": "FloatProgressModel",
            "_view_count": null,
            "_view_module": "@jupyter-widgets/controls",
            "_view_module_version": "1.5.0",
            "_view_name": "ProgressView",
            "bar_style": "success",
            "description": "",
            "description_tooltip": null,
            "layout": "IPY_MODEL_ffa965d06c53437fb9a4be88a421b699",
            "max": 328277459,
            "min": 0,
            "orientation": "horizontal",
            "style": "IPY_MODEL_b2beb7867d104be7a339a8513ca5ed1b",
            "value": 328277459
          }
        },
        "2a0ca9d0088f497b831678d0590ad1af": {
          "model_module": "@jupyter-widgets/controls",
          "model_name": "HTMLModel",
          "model_module_version": "1.5.0",
          "state": {
            "_dom_classes": [],
            "_model_module": "@jupyter-widgets/controls",
            "_model_module_version": "1.5.0",
            "_model_name": "HTMLModel",
            "_view_count": null,
            "_view_module": "@jupyter-widgets/controls",
            "_view_module_version": "1.5.0",
            "_view_name": "HTMLView",
            "description": "",
            "description_tooltip": null,
            "layout": "IPY_MODEL_a5a3255691f2478e939c8ecc33b14f53",
            "placeholder": "​",
            "style": "IPY_MODEL_895b135d5208440abc2dad608f298c74",
            "value": " 328M/328M [00:01&lt;00:00, 231MB/s]"
          }
        },
        "9bd64b7b9fc843828d76af306f06303f": {
          "model_module": "@jupyter-widgets/base",
          "model_name": "LayoutModel",
          "model_module_version": "1.2.0",
          "state": {
            "_model_module": "@jupyter-widgets/base",
            "_model_module_version": "1.2.0",
            "_model_name": "LayoutModel",
            "_view_count": null,
            "_view_module": "@jupyter-widgets/base",
            "_view_module_version": "1.2.0",
            "_view_name": "LayoutView",
            "align_content": null,
            "align_items": null,
            "align_self": null,
            "border": null,
            "bottom": null,
            "display": null,
            "flex": null,
            "flex_flow": null,
            "grid_area": null,
            "grid_auto_columns": null,
            "grid_auto_flow": null,
            "grid_auto_rows": null,
            "grid_column": null,
            "grid_gap": null,
            "grid_row": null,
            "grid_template_areas": null,
            "grid_template_columns": null,
            "grid_template_rows": null,
            "height": null,
            "justify_content": null,
            "justify_items": null,
            "left": null,
            "margin": null,
            "max_height": null,
            "max_width": null,
            "min_height": null,
            "min_width": null,
            "object_fit": null,
            "object_position": null,
            "order": null,
            "overflow": null,
            "overflow_x": null,
            "overflow_y": null,
            "padding": null,
            "right": null,
            "top": null,
            "visibility": null,
            "width": null
          }
        },
        "8d5b95c6e38041e1afe29644bfad1643": {
          "model_module": "@jupyter-widgets/base",
          "model_name": "LayoutModel",
          "model_module_version": "1.2.0",
          "state": {
            "_model_module": "@jupyter-widgets/base",
            "_model_module_version": "1.2.0",
            "_model_name": "LayoutModel",
            "_view_count": null,
            "_view_module": "@jupyter-widgets/base",
            "_view_module_version": "1.2.0",
            "_view_name": "LayoutView",
            "align_content": null,
            "align_items": null,
            "align_self": null,
            "border": null,
            "bottom": null,
            "display": null,
            "flex": null,
            "flex_flow": null,
            "grid_area": null,
            "grid_auto_columns": null,
            "grid_auto_flow": null,
            "grid_auto_rows": null,
            "grid_column": null,
            "grid_gap": null,
            "grid_row": null,
            "grid_template_areas": null,
            "grid_template_columns": null,
            "grid_template_rows": null,
            "height": null,
            "justify_content": null,
            "justify_items": null,
            "left": null,
            "margin": null,
            "max_height": null,
            "max_width": null,
            "min_height": null,
            "min_width": null,
            "object_fit": null,
            "object_position": null,
            "order": null,
            "overflow": null,
            "overflow_x": null,
            "overflow_y": null,
            "padding": null,
            "right": null,
            "top": null,
            "visibility": null,
            "width": null
          }
        },
        "cefa0269bb0e401cb679948fcb70ddbe": {
          "model_module": "@jupyter-widgets/controls",
          "model_name": "DescriptionStyleModel",
          "model_module_version": "1.5.0",
          "state": {
            "_model_module": "@jupyter-widgets/controls",
            "_model_module_version": "1.5.0",
            "_model_name": "DescriptionStyleModel",
            "_view_count": null,
            "_view_module": "@jupyter-widgets/base",
            "_view_module_version": "1.2.0",
            "_view_name": "StyleView",
            "description_width": ""
          }
        },
        "ffa965d06c53437fb9a4be88a421b699": {
          "model_module": "@jupyter-widgets/base",
          "model_name": "LayoutModel",
          "model_module_version": "1.2.0",
          "state": {
            "_model_module": "@jupyter-widgets/base",
            "_model_module_version": "1.2.0",
            "_model_name": "LayoutModel",
            "_view_count": null,
            "_view_module": "@jupyter-widgets/base",
            "_view_module_version": "1.2.0",
            "_view_name": "LayoutView",
            "align_content": null,
            "align_items": null,
            "align_self": null,
            "border": null,
            "bottom": null,
            "display": null,
            "flex": null,
            "flex_flow": null,
            "grid_area": null,
            "grid_auto_columns": null,
            "grid_auto_flow": null,
            "grid_auto_rows": null,
            "grid_column": null,
            "grid_gap": null,
            "grid_row": null,
            "grid_template_areas": null,
            "grid_template_columns": null,
            "grid_template_rows": null,
            "height": null,
            "justify_content": null,
            "justify_items": null,
            "left": null,
            "margin": null,
            "max_height": null,
            "max_width": null,
            "min_height": null,
            "min_width": null,
            "object_fit": null,
            "object_position": null,
            "order": null,
            "overflow": null,
            "overflow_x": null,
            "overflow_y": null,
            "padding": null,
            "right": null,
            "top": null,
            "visibility": null,
            "width": null
          }
        },
        "b2beb7867d104be7a339a8513ca5ed1b": {
          "model_module": "@jupyter-widgets/controls",
          "model_name": "ProgressStyleModel",
          "model_module_version": "1.5.0",
          "state": {
            "_model_module": "@jupyter-widgets/controls",
            "_model_module_version": "1.5.0",
            "_model_name": "ProgressStyleModel",
            "_view_count": null,
            "_view_module": "@jupyter-widgets/base",
            "_view_module_version": "1.2.0",
            "_view_name": "StyleView",
            "bar_color": null,
            "description_width": ""
          }
        },
        "a5a3255691f2478e939c8ecc33b14f53": {
          "model_module": "@jupyter-widgets/base",
          "model_name": "LayoutModel",
          "model_module_version": "1.2.0",
          "state": {
            "_model_module": "@jupyter-widgets/base",
            "_model_module_version": "1.2.0",
            "_model_name": "LayoutModel",
            "_view_count": null,
            "_view_module": "@jupyter-widgets/base",
            "_view_module_version": "1.2.0",
            "_view_name": "LayoutView",
            "align_content": null,
            "align_items": null,
            "align_self": null,
            "border": null,
            "bottom": null,
            "display": null,
            "flex": null,
            "flex_flow": null,
            "grid_area": null,
            "grid_auto_columns": null,
            "grid_auto_flow": null,
            "grid_auto_rows": null,
            "grid_column": null,
            "grid_gap": null,
            "grid_row": null,
            "grid_template_areas": null,
            "grid_template_columns": null,
            "grid_template_rows": null,
            "height": null,
            "justify_content": null,
            "justify_items": null,
            "left": null,
            "margin": null,
            "max_height": null,
            "max_width": null,
            "min_height": null,
            "min_width": null,
            "object_fit": null,
            "object_position": null,
            "order": null,
            "overflow": null,
            "overflow_x": null,
            "overflow_y": null,
            "padding": null,
            "right": null,
            "top": null,
            "visibility": null,
            "width": null
          }
        },
        "895b135d5208440abc2dad608f298c74": {
          "model_module": "@jupyter-widgets/controls",
          "model_name": "DescriptionStyleModel",
          "model_module_version": "1.5.0",
          "state": {
            "_model_module": "@jupyter-widgets/controls",
            "_model_module_version": "1.5.0",
            "_model_name": "DescriptionStyleModel",
            "_view_count": null,
            "_view_module": "@jupyter-widgets/base",
            "_view_module_version": "1.2.0",
            "_view_name": "StyleView",
            "description_width": ""
          }
        },
        "d14a6484813d487289994cddec47a172": {
          "model_module": "@jupyter-widgets/controls",
          "model_name": "HBoxModel",
          "model_module_version": "1.5.0",
          "state": {
            "_dom_classes": [],
            "_model_module": "@jupyter-widgets/controls",
            "_model_module_version": "1.5.0",
            "_model_name": "HBoxModel",
            "_view_count": null,
            "_view_module": "@jupyter-widgets/controls",
            "_view_module_version": "1.5.0",
            "_view_name": "HBoxView",
            "box_style": "",
            "children": [
              "IPY_MODEL_be8a14a64a4c42c7b29eab84dc8066cc",
              "IPY_MODEL_fb152fe47c3c4823a27f41a607467c90",
              "IPY_MODEL_34adbc534a7349a1ab1efe992e496fc2"
            ],
            "layout": "IPY_MODEL_daa662ed61e34140aeed5c8c94ed32c1"
          }
        },
        "be8a14a64a4c42c7b29eab84dc8066cc": {
          "model_module": "@jupyter-widgets/controls",
          "model_name": "HTMLModel",
          "model_module_version": "1.5.0",
          "state": {
            "_dom_classes": [],
            "_model_module": "@jupyter-widgets/controls",
            "_model_module_version": "1.5.0",
            "_model_name": "HTMLModel",
            "_view_count": null,
            "_view_module": "@jupyter-widgets/controls",
            "_view_module_version": "1.5.0",
            "_view_name": "HTMLView",
            "description": "",
            "description_tooltip": null,
            "layout": "IPY_MODEL_300487c8d990449985b9b6b0b317a9ca",
            "placeholder": "​",
            "style": "IPY_MODEL_a6debd102e4047a7baa5fa0260d311a9",
            "value": "model.safetensors: 100%"
          }
        },
        "fb152fe47c3c4823a27f41a607467c90": {
          "model_module": "@jupyter-widgets/controls",
          "model_name": "FloatProgressModel",
          "model_module_version": "1.5.0",
          "state": {
            "_dom_classes": [],
            "_model_module": "@jupyter-widgets/controls",
            "_model_module_version": "1.5.0",
            "_model_name": "FloatProgressModel",
            "_view_count": null,
            "_view_module": "@jupyter-widgets/controls",
            "_view_module_version": "1.5.0",
            "_view_name": "ProgressView",
            "bar_style": "success",
            "description": "",
            "description_tooltip": null,
            "layout": "IPY_MODEL_bd356f4d8b624a3c80cd91551d12c22c",
            "max": 327965092,
            "min": 0,
            "orientation": "horizontal",
            "style": "IPY_MODEL_0ef0f8426d194d128465683a9e7f9220",
            "value": 327965092
          }
        },
        "34adbc534a7349a1ab1efe992e496fc2": {
          "model_module": "@jupyter-widgets/controls",
          "model_name": "HTMLModel",
          "model_module_version": "1.5.0",
          "state": {
            "_dom_classes": [],
            "_model_module": "@jupyter-widgets/controls",
            "_model_module_version": "1.5.0",
            "_model_name": "HTMLModel",
            "_view_count": null,
            "_view_module": "@jupyter-widgets/controls",
            "_view_module_version": "1.5.0",
            "_view_name": "HTMLView",
            "description": "",
            "description_tooltip": null,
            "layout": "IPY_MODEL_5d9f6cb7c8ce4432bf34255e99f2f023",
            "placeholder": "​",
            "style": "IPY_MODEL_820f94f00aaf4f689afbb298b01caa76",
            "value": " 328M/328M [00:02&lt;00:00, 209MB/s]"
          }
        },
        "daa662ed61e34140aeed5c8c94ed32c1": {
          "model_module": "@jupyter-widgets/base",
          "model_name": "LayoutModel",
          "model_module_version": "1.2.0",
          "state": {
            "_model_module": "@jupyter-widgets/base",
            "_model_module_version": "1.2.0",
            "_model_name": "LayoutModel",
            "_view_count": null,
            "_view_module": "@jupyter-widgets/base",
            "_view_module_version": "1.2.0",
            "_view_name": "LayoutView",
            "align_content": null,
            "align_items": null,
            "align_self": null,
            "border": null,
            "bottom": null,
            "display": null,
            "flex": null,
            "flex_flow": null,
            "grid_area": null,
            "grid_auto_columns": null,
            "grid_auto_flow": null,
            "grid_auto_rows": null,
            "grid_column": null,
            "grid_gap": null,
            "grid_row": null,
            "grid_template_areas": null,
            "grid_template_columns": null,
            "grid_template_rows": null,
            "height": null,
            "justify_content": null,
            "justify_items": null,
            "left": null,
            "margin": null,
            "max_height": null,
            "max_width": null,
            "min_height": null,
            "min_width": null,
            "object_fit": null,
            "object_position": null,
            "order": null,
            "overflow": null,
            "overflow_x": null,
            "overflow_y": null,
            "padding": null,
            "right": null,
            "top": null,
            "visibility": null,
            "width": null
          }
        },
        "300487c8d990449985b9b6b0b317a9ca": {
          "model_module": "@jupyter-widgets/base",
          "model_name": "LayoutModel",
          "model_module_version": "1.2.0",
          "state": {
            "_model_module": "@jupyter-widgets/base",
            "_model_module_version": "1.2.0",
            "_model_name": "LayoutModel",
            "_view_count": null,
            "_view_module": "@jupyter-widgets/base",
            "_view_module_version": "1.2.0",
            "_view_name": "LayoutView",
            "align_content": null,
            "align_items": null,
            "align_self": null,
            "border": null,
            "bottom": null,
            "display": null,
            "flex": null,
            "flex_flow": null,
            "grid_area": null,
            "grid_auto_columns": null,
            "grid_auto_flow": null,
            "grid_auto_rows": null,
            "grid_column": null,
            "grid_gap": null,
            "grid_row": null,
            "grid_template_areas": null,
            "grid_template_columns": null,
            "grid_template_rows": null,
            "height": null,
            "justify_content": null,
            "justify_items": null,
            "left": null,
            "margin": null,
            "max_height": null,
            "max_width": null,
            "min_height": null,
            "min_width": null,
            "object_fit": null,
            "object_position": null,
            "order": null,
            "overflow": null,
            "overflow_x": null,
            "overflow_y": null,
            "padding": null,
            "right": null,
            "top": null,
            "visibility": null,
            "width": null
          }
        },
        "a6debd102e4047a7baa5fa0260d311a9": {
          "model_module": "@jupyter-widgets/controls",
          "model_name": "DescriptionStyleModel",
          "model_module_version": "1.5.0",
          "state": {
            "_model_module": "@jupyter-widgets/controls",
            "_model_module_version": "1.5.0",
            "_model_name": "DescriptionStyleModel",
            "_view_count": null,
            "_view_module": "@jupyter-widgets/base",
            "_view_module_version": "1.2.0",
            "_view_name": "StyleView",
            "description_width": ""
          }
        },
        "bd356f4d8b624a3c80cd91551d12c22c": {
          "model_module": "@jupyter-widgets/base",
          "model_name": "LayoutModel",
          "model_module_version": "1.2.0",
          "state": {
            "_model_module": "@jupyter-widgets/base",
            "_model_module_version": "1.2.0",
            "_model_name": "LayoutModel",
            "_view_count": null,
            "_view_module": "@jupyter-widgets/base",
            "_view_module_version": "1.2.0",
            "_view_name": "LayoutView",
            "align_content": null,
            "align_items": null,
            "align_self": null,
            "border": null,
            "bottom": null,
            "display": null,
            "flex": null,
            "flex_flow": null,
            "grid_area": null,
            "grid_auto_columns": null,
            "grid_auto_flow": null,
            "grid_auto_rows": null,
            "grid_column": null,
            "grid_gap": null,
            "grid_row": null,
            "grid_template_areas": null,
            "grid_template_columns": null,
            "grid_template_rows": null,
            "height": null,
            "justify_content": null,
            "justify_items": null,
            "left": null,
            "margin": null,
            "max_height": null,
            "max_width": null,
            "min_height": null,
            "min_width": null,
            "object_fit": null,
            "object_position": null,
            "order": null,
            "overflow": null,
            "overflow_x": null,
            "overflow_y": null,
            "padding": null,
            "right": null,
            "top": null,
            "visibility": null,
            "width": null
          }
        },
        "0ef0f8426d194d128465683a9e7f9220": {
          "model_module": "@jupyter-widgets/controls",
          "model_name": "ProgressStyleModel",
          "model_module_version": "1.5.0",
          "state": {
            "_model_module": "@jupyter-widgets/controls",
            "_model_module_version": "1.5.0",
            "_model_name": "ProgressStyleModel",
            "_view_count": null,
            "_view_module": "@jupyter-widgets/base",
            "_view_module_version": "1.2.0",
            "_view_name": "StyleView",
            "bar_color": null,
            "description_width": ""
          }
        },
        "5d9f6cb7c8ce4432bf34255e99f2f023": {
          "model_module": "@jupyter-widgets/base",
          "model_name": "LayoutModel",
          "model_module_version": "1.2.0",
          "state": {
            "_model_module": "@jupyter-widgets/base",
            "_model_module_version": "1.2.0",
            "_model_name": "LayoutModel",
            "_view_count": null,
            "_view_module": "@jupyter-widgets/base",
            "_view_module_version": "1.2.0",
            "_view_name": "LayoutView",
            "align_content": null,
            "align_items": null,
            "align_self": null,
            "border": null,
            "bottom": null,
            "display": null,
            "flex": null,
            "flex_flow": null,
            "grid_area": null,
            "grid_auto_columns": null,
            "grid_auto_flow": null,
            "grid_auto_rows": null,
            "grid_column": null,
            "grid_gap": null,
            "grid_row": null,
            "grid_template_areas": null,
            "grid_template_columns": null,
            "grid_template_rows": null,
            "height": null,
            "justify_content": null,
            "justify_items": null,
            "left": null,
            "margin": null,
            "max_height": null,
            "max_width": null,
            "min_height": null,
            "min_width": null,
            "object_fit": null,
            "object_position": null,
            "order": null,
            "overflow": null,
            "overflow_x": null,
            "overflow_y": null,
            "padding": null,
            "right": null,
            "top": null,
            "visibility": null,
            "width": null
          }
        },
        "820f94f00aaf4f689afbb298b01caa76": {
          "model_module": "@jupyter-widgets/controls",
          "model_name": "DescriptionStyleModel",
          "model_module_version": "1.5.0",
          "state": {
            "_model_module": "@jupyter-widgets/controls",
            "_model_module_version": "1.5.0",
            "_model_name": "DescriptionStyleModel",
            "_view_count": null,
            "_view_module": "@jupyter-widgets/base",
            "_view_module_version": "1.2.0",
            "_view_name": "StyleView",
            "description_width": ""
          }
        }
      }
    }
  },
  "nbformat": 4,
  "nbformat_minor": 0
}