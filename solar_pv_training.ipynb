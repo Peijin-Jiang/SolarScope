{
  "cells": [
    {
      "cell_type": "code",
      "execution_count": null,
      "metadata": {
        "id": "5RtQ8QAAyr96"
      },
      "outputs": [],
      "source": [
        "DATADIR=\"/content/drive/MyDrive/solar_PV/data/\" # replace with your data directory\n",
        "SRCDIR=\"src/\""
      ]
    },
    {
      "cell_type": "code",
      "execution_count": null,
      "metadata": {
        "colab": {
          "base_uri": "https://localhost:8080/"
        },
        "id": "LRQ9pzAr1fjN",
        "outputId": "78b3a0ba-ff43-4ea2-dbfb-8dd40f728332"
      },
      "outputs": [
        {
          "name": "stdout",
          "output_type": "stream",
          "text": [
            "Requirement already satisfied: monai in /usr/local/lib/python3.10/dist-packages (1.4.0)\n",
            "Requirement already satisfied: numpy<2.0,>=1.24 in /usr/local/lib/python3.10/dist-packages (from monai) (1.26.4)\n",
            "Requirement already satisfied: torch>=1.9 in /usr/local/lib/python3.10/dist-packages (from monai) (2.5.1+cu121)\n",
            "Requirement already satisfied: filelock in /usr/local/lib/python3.10/dist-packages (from torch>=1.9->monai) (3.16.1)\n",
            "Requirement already satisfied: typing-extensions>=4.8.0 in /usr/local/lib/python3.10/dist-packages (from torch>=1.9->monai) (4.12.2)\n",
            "Requirement already satisfied: networkx in /usr/local/lib/python3.10/dist-packages (from torch>=1.9->monai) (3.4.2)\n",
            "Requirement already satisfied: jinja2 in /usr/local/lib/python3.10/dist-packages (from torch>=1.9->monai) (3.1.4)\n",
            "Requirement already satisfied: fsspec in /usr/local/lib/python3.10/dist-packages (from torch>=1.9->monai) (2024.10.0)\n",
            "Requirement already satisfied: sympy==1.13.1 in /usr/local/lib/python3.10/dist-packages (from torch>=1.9->monai) (1.13.1)\n",
            "Requirement already satisfied: mpmath<1.4,>=1.1.0 in /usr/local/lib/python3.10/dist-packages (from sympy==1.13.1->torch>=1.9->monai) (1.3.0)\n",
            "Requirement already satisfied: MarkupSafe>=2.0 in /usr/local/lib/python3.10/dist-packages (from jinja2->torch>=1.9->monai) (3.0.2)\n",
            "Requirement already satisfied: wandb in /usr/local/lib/python3.10/dist-packages (0.18.7)\n",
            "Requirement already satisfied: click!=8.0.0,>=7.1 in /usr/local/lib/python3.10/dist-packages (from wandb) (8.1.7)\n",
            "Requirement already satisfied: docker-pycreds>=0.4.0 in /usr/local/lib/python3.10/dist-packages (from wandb) (0.4.0)\n",
            "Requirement already satisfied: gitpython!=3.1.29,>=1.0.0 in /usr/local/lib/python3.10/dist-packages (from wandb) (3.1.43)\n",
            "Requirement already satisfied: platformdirs in /usr/local/lib/python3.10/dist-packages (from wandb) (4.3.6)\n",
            "Requirement already satisfied: protobuf!=4.21.0,!=5.28.0,<6,>=3.19.0 in /usr/local/lib/python3.10/dist-packages (from wandb) (4.25.5)\n",
            "Requirement already satisfied: psutil>=5.0.0 in /usr/local/lib/python3.10/dist-packages (from wandb) (5.9.5)\n",
            "Requirement already satisfied: pyyaml in /usr/local/lib/python3.10/dist-packages (from wandb) (6.0.2)\n",
            "Requirement already satisfied: requests<3,>=2.0.0 in /usr/local/lib/python3.10/dist-packages (from wandb) (2.32.3)\n",
            "Requirement already satisfied: sentry-sdk>=2.0.0 in /usr/local/lib/python3.10/dist-packages (from wandb) (2.19.2)\n",
            "Requirement already satisfied: setproctitle in /usr/local/lib/python3.10/dist-packages (from wandb) (1.3.4)\n",
            "Requirement already satisfied: setuptools in /usr/local/lib/python3.10/dist-packages (from wandb) (75.1.0)\n",
            "Requirement already satisfied: typing-extensions<5,>=4.4 in /usr/local/lib/python3.10/dist-packages (from wandb) (4.12.2)\n",
            "Requirement already satisfied: six>=1.4.0 in /usr/local/lib/python3.10/dist-packages (from docker-pycreds>=0.4.0->wandb) (1.17.0)\n",
            "Requirement already satisfied: gitdb<5,>=4.0.1 in /usr/local/lib/python3.10/dist-packages (from gitpython!=3.1.29,>=1.0.0->wandb) (4.0.11)\n",
            "Requirement already satisfied: charset-normalizer<4,>=2 in /usr/local/lib/python3.10/dist-packages (from requests<3,>=2.0.0->wandb) (3.4.0)\n",
            "Requirement already satisfied: idna<4,>=2.5 in /usr/local/lib/python3.10/dist-packages (from requests<3,>=2.0.0->wandb) (3.10)\n",
            "Requirement already satisfied: urllib3<3,>=1.21.1 in /usr/local/lib/python3.10/dist-packages (from requests<3,>=2.0.0->wandb) (2.2.3)\n",
            "Requirement already satisfied: certifi>=2017.4.17 in /usr/local/lib/python3.10/dist-packages (from requests<3,>=2.0.0->wandb) (2024.8.30)\n",
            "Requirement already satisfied: smmap<6,>=3.0.1 in /usr/local/lib/python3.10/dist-packages (from gitdb<5,>=4.0.1->gitpython!=3.1.29,>=1.0.0->wandb) (5.0.1)\n",
            "Requirement already satisfied: segmentation-models-pytorch in /usr/local/lib/python3.10/dist-packages (0.3.4)\n",
            "Requirement already satisfied: efficientnet-pytorch==0.7.1 in /usr/local/lib/python3.10/dist-packages (from segmentation-models-pytorch) (0.7.1)\n",
            "Requirement already satisfied: huggingface-hub>=0.24.6 in /usr/local/lib/python3.10/dist-packages (from segmentation-models-pytorch) (0.26.5)\n",
            "Requirement already satisfied: pillow in /usr/local/lib/python3.10/dist-packages (from segmentation-models-pytorch) (11.0.0)\n",
            "Requirement already satisfied: pretrainedmodels==0.7.4 in /usr/local/lib/python3.10/dist-packages (from segmentation-models-pytorch) (0.7.4)\n",
            "Requirement already satisfied: six in /usr/local/lib/python3.10/dist-packages (from segmentation-models-pytorch) (1.17.0)\n",
            "Requirement already satisfied: timm==0.9.7 in /usr/local/lib/python3.10/dist-packages (from segmentation-models-pytorch) (0.9.7)\n",
            "Requirement already satisfied: torchvision>=0.5.0 in /usr/local/lib/python3.10/dist-packages (from segmentation-models-pytorch) (0.20.1+cu121)\n",
            "Requirement already satisfied: tqdm in /usr/local/lib/python3.10/dist-packages (from segmentation-models-pytorch) (4.66.6)\n",
            "Requirement already satisfied: torch in /usr/local/lib/python3.10/dist-packages (from efficientnet-pytorch==0.7.1->segmentation-models-pytorch) (2.5.1+cu121)\n",
            "Requirement already satisfied: munch in /usr/local/lib/python3.10/dist-packages (from pretrainedmodels==0.7.4->segmentation-models-pytorch) (4.0.0)\n",
            "Requirement already satisfied: pyyaml in /usr/local/lib/python3.10/dist-packages (from timm==0.9.7->segmentation-models-pytorch) (6.0.2)\n",
            "Requirement already satisfied: safetensors in /usr/local/lib/python3.10/dist-packages (from timm==0.9.7->segmentation-models-pytorch) (0.4.5)\n",
            "Requirement already satisfied: filelock in /usr/local/lib/python3.10/dist-packages (from huggingface-hub>=0.24.6->segmentation-models-pytorch) (3.16.1)\n",
            "Requirement already satisfied: fsspec>=2023.5.0 in /usr/local/lib/python3.10/dist-packages (from huggingface-hub>=0.24.6->segmentation-models-pytorch) (2024.10.0)\n",
            "Requirement already satisfied: packaging>=20.9 in /usr/local/lib/python3.10/dist-packages (from huggingface-hub>=0.24.6->segmentation-models-pytorch) (24.2)\n",
            "Requirement already satisfied: requests in /usr/local/lib/python3.10/dist-packages (from huggingface-hub>=0.24.6->segmentation-models-pytorch) (2.32.3)\n",
            "Requirement already satisfied: typing-extensions>=3.7.4.3 in /usr/local/lib/python3.10/dist-packages (from huggingface-hub>=0.24.6->segmentation-models-pytorch) (4.12.2)\n",
            "Requirement already satisfied: numpy in /usr/local/lib/python3.10/dist-packages (from torchvision>=0.5.0->segmentation-models-pytorch) (1.26.4)\n",
            "Requirement already satisfied: networkx in /usr/local/lib/python3.10/dist-packages (from torch->efficientnet-pytorch==0.7.1->segmentation-models-pytorch) (3.4.2)\n",
            "Requirement already satisfied: jinja2 in /usr/local/lib/python3.10/dist-packages (from torch->efficientnet-pytorch==0.7.1->segmentation-models-pytorch) (3.1.4)\n",
            "Requirement already satisfied: sympy==1.13.1 in /usr/local/lib/python3.10/dist-packages (from torch->efficientnet-pytorch==0.7.1->segmentation-models-pytorch) (1.13.1)\n",
            "Requirement already satisfied: mpmath<1.4,>=1.1.0 in /usr/local/lib/python3.10/dist-packages (from sympy==1.13.1->torch->efficientnet-pytorch==0.7.1->segmentation-models-pytorch) (1.3.0)\n",
            "Requirement already satisfied: charset-normalizer<4,>=2 in /usr/local/lib/python3.10/dist-packages (from requests->huggingface-hub>=0.24.6->segmentation-models-pytorch) (3.4.0)\n",
            "Requirement already satisfied: idna<4,>=2.5 in /usr/local/lib/python3.10/dist-packages (from requests->huggingface-hub>=0.24.6->segmentation-models-pytorch) (3.10)\n",
            "Requirement already satisfied: urllib3<3,>=1.21.1 in /usr/local/lib/python3.10/dist-packages (from requests->huggingface-hub>=0.24.6->segmentation-models-pytorch) (2.2.3)\n",
            "Requirement already satisfied: certifi>=2017.4.17 in /usr/local/lib/python3.10/dist-packages (from requests->huggingface-hub>=0.24.6->segmentation-models-pytorch) (2024.8.30)\n",
            "Requirement already satisfied: MarkupSafe>=2.0 in /usr/local/lib/python3.10/dist-packages (from jinja2->torch->efficientnet-pytorch==0.7.1->segmentation-models-pytorch) (3.0.2)\n"
          ]
        }
      ],
      "source": [
        "# Installing the environment\n",
        "!pip install monai\n",
        "!pip install wandb\n",
        "!pip install segmentation-models-pytorch"
      ]
    },
    {
      "cell_type": "code",
      "execution_count": null,
      "metadata": {
        "colab": {
          "base_uri": "https://localhost:8080/",
          "height": 178
        },
        "id": "jJg-kR9ly8TO",
        "outputId": "be734935-85d9-4526-b376-9712325d840a"
      },
      "outputs": [
        {
          "name": "stdout",
          "output_type": "stream",
          "text": [
            "<module 'params' from '/content/drive/MyDrive/solar_PV_prediction/src/params.py'>\n"
          ]
        },
        {
          "name": "stderr",
          "output_type": "stream",
          "text": [
            "\u001b[34m\u001b[1mwandb\u001b[0m: Using wandb-core as the SDK backend.  Please refer to https://wandb.me/wandb-core for more information.\n",
            "\u001b[34m\u001b[1mwandb\u001b[0m: Currently logged in as: \u001b[33mpeijinjiang1201\u001b[0m (\u001b[33mhansen_msr\u001b[0m). Use \u001b[1m`wandb login --relogin`\u001b[0m to force relogin\n"
          ]
        },
        {
          "data": {
            "text/html": [
              "Tracking run with wandb version 0.18.7"
            ],
            "text/plain": [
              "<IPython.core.display.HTML object>"
            ]
          },
          "metadata": {},
          "output_type": "display_data"
        },
        {
          "data": {
            "text/html": [
              "Run data is saved locally in <code>/content/wandb/run-20241216_191556-3rm7vtaq</code>"
            ],
            "text/plain": [
              "<IPython.core.display.HTML object>"
            ]
          },
          "metadata": {},
          "output_type": "display_data"
        },
        {
          "data": {
            "text/html": [
              "Syncing run <strong><a href='https://wandb.ai/hansen_msr/Solar-PV-segmentation-finetuning-deeplabv3-resnet101_24-12-16/runs/3rm7vtaq' target=\"_blank\">rose-puddle-9</a></strong> to <a href='https://wandb.ai/hansen_msr/Solar-PV-segmentation-finetuning-deeplabv3-resnet101_24-12-16' target=\"_blank\">Weights & Biases</a> (<a href='https://wandb.me/developer-guide' target=\"_blank\">docs</a>)<br/>"
            ],
            "text/plain": [
              "<IPython.core.display.HTML object>"
            ]
          },
          "metadata": {},
          "output_type": "display_data"
        },
        {
          "data": {
            "text/html": [
              " View project at <a href='https://wandb.ai/hansen_msr/Solar-PV-segmentation-finetuning-deeplabv3-resnet101_24-12-16' target=\"_blank\">https://wandb.ai/hansen_msr/Solar-PV-segmentation-finetuning-deeplabv3-resnet101_24-12-16</a>"
            ],
            "text/plain": [
              "<IPython.core.display.HTML object>"
            ]
          },
          "metadata": {},
          "output_type": "display_data"
        },
        {
          "data": {
            "text/html": [
              " View run at <a href='https://wandb.ai/hansen_msr/Solar-PV-segmentation-finetuning-deeplabv3-resnet101_24-12-16/runs/3rm7vtaq' target=\"_blank\">https://wandb.ai/hansen_msr/Solar-PV-segmentation-finetuning-deeplabv3-resnet101_24-12-16/runs/3rm7vtaq</a>"
            ],
            "text/plain": [
              "<IPython.core.display.HTML object>"
            ]
          },
          "metadata": {},
          "output_type": "display_data"
        }
      ],
      "source": [
        "import os\n",
        "import sys\n",
        "import wandb\n",
        "import pandas as pd\n",
        "from datetime import datetime\n",
        "\n",
        "sys.path.append(SRCDIR)\n",
        "\n",
        "import numpy as np\n",
        "import params as args # type: ignore\n",
        "import losses, metrics, data, models, training # type: ignore\n",
        "args.batch_size = 32\n",
        "args.dataset_csv = \"src/dataset_csv\"\n",
        "args.exp_date = datetime.now().strftime(\"%y-%m-%d\")\n",
        "args.exp_code = f'{args.model_name}_{args.exp_date}'\n",
        "print(args)\n",
        "train_csv = os.path.join(args.dataset_csv, \"train.csv\")\n",
        "val_csv = os.path.join(args.dataset_csv, \"val.csv\")\n",
        "test_csv = os.path.join(args.dataset_csv, \"test.csv\")\n",
        "\n",
        "if args.report_to == \"wandb\":\n",
        "  writer = wandb.init(project=\"Solar-PV-segmentation-finetuning-\" + args.exp_code)\n",
        "else:\n",
        "  writer = None"
      ]
    },
    {
      "cell_type": "code",
      "execution_count": null,
      "metadata": {
        "colab": {
          "base_uri": "https://localhost:8080/"
        },
        "id": "BY3eZKuZL6Gm",
        "outputId": "062a2353-5603-49d0-9921-ae1ad12c3096"
      },
      "outputs": [
        {
          "data": {
            "text/plain": [
              "{'__name__': 'params',\n",
              " '__doc__': None,\n",
              " '__package__': '',\n",
              " '__loader__': <_frozen_importlib_external.SourceFileLoader at 0x7bea8172f8b0>,\n",
              " '__spec__': ModuleSpec(name='params', loader=<_frozen_importlib_external.SourceFileLoader object at 0x7bea8172f8b0>, origin='/content/drive/MyDrive/solar_PV_prediction/src/params.py'),\n",
              " '__file__': '/content/drive/MyDrive/solar_PV_prediction/src/params.py',\n",
              " '__cached__': '/content/drive/MyDrive/solar_PV_prediction/src/__pycache__/params.cpython-310.pyc',\n",
              " '__builtins__': {'__name__': 'builtins',\n",
              "  '__doc__': \"Built-in functions, exceptions, and other objects.\\n\\nNoteworthy: None is the `nil' object; Ellipsis represents `...' in slices.\",\n",
              "  '__package__': '',\n",
              "  '__loader__': _frozen_importlib.BuiltinImporter,\n",
              "  '__spec__': ModuleSpec(name='builtins', loader=<class '_frozen_importlib.BuiltinImporter'>, origin='built-in'),\n",
              "  '__build_class__': <function __build_class__>,\n",
              "  '__import__': <function __import__>,\n",
              "  'abs': <function abs(x, /)>,\n",
              "  'all': <function all(iterable, /)>,\n",
              "  'any': <function any(iterable, /)>,\n",
              "  'ascii': <function ascii(obj, /)>,\n",
              "  'bin': <function bin(number, /)>,\n",
              "  'breakpoint': <function breakpoint>,\n",
              "  'callable': <function callable(obj, /)>,\n",
              "  'chr': <function chr(i, /)>,\n",
              "  'compile': <function compile(source, filename, mode, flags=0, dont_inherit=False, optimize=-1, *, _feature_version=-1)>,\n",
              "  'delattr': <function delattr(obj, name, /)>,\n",
              "  'dir': <function dir>,\n",
              "  'divmod': <function divmod(x, y, /)>,\n",
              "  'eval': <function eval(source, globals=None, locals=None, /)>,\n",
              "  'exec': <function exec(source, globals=None, locals=None, /)>,\n",
              "  'format': <function format(value, format_spec='', /)>,\n",
              "  'getattr': <function getattr>,\n",
              "  'globals': <function globals()>,\n",
              "  'hasattr': <function hasattr(obj, name, /)>,\n",
              "  'hash': <function hash(obj, /)>,\n",
              "  'hex': <function hex(number, /)>,\n",
              "  'id': <function id(obj, /)>,\n",
              "  'input': <bound method Kernel.raw_input of <google.colab._kernel.Kernel object at 0x7beab8b36110>>,\n",
              "  'isinstance': <function isinstance(obj, class_or_tuple, /)>,\n",
              "  'issubclass': <function issubclass(cls, class_or_tuple, /)>,\n",
              "  'iter': <function iter>,\n",
              "  'aiter': <function aiter(async_iterable, /)>,\n",
              "  'len': <function len(obj, /)>,\n",
              "  'locals': <function locals()>,\n",
              "  'max': <function max>,\n",
              "  'min': <function min>,\n",
              "  'next': <function next>,\n",
              "  'anext': <function anext>,\n",
              "  'oct': <function oct(number, /)>,\n",
              "  'ord': <function ord(c, /)>,\n",
              "  'pow': <function pow(base, exp, mod=None)>,\n",
              "  'print': <function print>,\n",
              "  'repr': <function repr(obj, /)>,\n",
              "  'round': <function round(number, ndigits=None)>,\n",
              "  'setattr': <function setattr(obj, name, value, /)>,\n",
              "  'sorted': <function sorted(iterable, /, *, key=None, reverse=False)>,\n",
              "  'sum': <function sum(iterable, /, start=0)>,\n",
              "  'vars': <function vars>,\n",
              "  'None': None,\n",
              "  'Ellipsis': Ellipsis,\n",
              "  'NotImplemented': NotImplemented,\n",
              "  'False': False,\n",
              "  'True': True,\n",
              "  'bool': bool,\n",
              "  'memoryview': memoryview,\n",
              "  'bytearray': bytearray,\n",
              "  'bytes': bytes,\n",
              "  'classmethod': classmethod,\n",
              "  'complex': complex,\n",
              "  'dict': dict,\n",
              "  'enumerate': enumerate,\n",
              "  'filter': filter,\n",
              "  'float': float,\n",
              "  'frozenset': frozenset,\n",
              "  'property': property,\n",
              "  'int': int,\n",
              "  'list': list,\n",
              "  'map': map,\n",
              "  'object': object,\n",
              "  'range': range,\n",
              "  'reversed': reversed,\n",
              "  'set': set,\n",
              "  'slice': slice,\n",
              "  'staticmethod': staticmethod,\n",
              "  'str': str,\n",
              "  'super': super,\n",
              "  'tuple': tuple,\n",
              "  'type': type,\n",
              "  'zip': zip,\n",
              "  '__debug__': True,\n",
              "  'BaseException': BaseException,\n",
              "  'Exception': Exception,\n",
              "  'TypeError': TypeError,\n",
              "  'StopAsyncIteration': StopAsyncIteration,\n",
              "  'StopIteration': StopIteration,\n",
              "  'GeneratorExit': GeneratorExit,\n",
              "  'SystemExit': SystemExit,\n",
              "  'KeyboardInterrupt': KeyboardInterrupt,\n",
              "  'ImportError': ImportError,\n",
              "  'ModuleNotFoundError': ModuleNotFoundError,\n",
              "  'OSError': OSError,\n",
              "  'EnvironmentError': OSError,\n",
              "  'IOError': OSError,\n",
              "  'EOFError': EOFError,\n",
              "  'RuntimeError': RuntimeError,\n",
              "  'RecursionError': RecursionError,\n",
              "  'NotImplementedError': NotImplementedError,\n",
              "  'NameError': NameError,\n",
              "  'UnboundLocalError': UnboundLocalError,\n",
              "  'AttributeError': AttributeError,\n",
              "  'SyntaxError': SyntaxError,\n",
              "  'IndentationError': IndentationError,\n",
              "  'TabError': TabError,\n",
              "  'LookupError': LookupError,\n",
              "  'IndexError': IndexError,\n",
              "  'KeyError': KeyError,\n",
              "  'ValueError': ValueError,\n",
              "  'UnicodeError': UnicodeError,\n",
              "  'UnicodeEncodeError': UnicodeEncodeError,\n",
              "  'UnicodeDecodeError': UnicodeDecodeError,\n",
              "  'UnicodeTranslateError': UnicodeTranslateError,\n",
              "  'AssertionError': AssertionError,\n",
              "  'ArithmeticError': ArithmeticError,\n",
              "  'FloatingPointError': FloatingPointError,\n",
              "  'OverflowError': OverflowError,\n",
              "  'ZeroDivisionError': ZeroDivisionError,\n",
              "  'SystemError': SystemError,\n",
              "  'ReferenceError': ReferenceError,\n",
              "  'MemoryError': MemoryError,\n",
              "  'BufferError': BufferError,\n",
              "  'Warning': Warning,\n",
              "  'UserWarning': UserWarning,\n",
              "  'EncodingWarning': EncodingWarning,\n",
              "  'DeprecationWarning': DeprecationWarning,\n",
              "  'PendingDeprecationWarning': PendingDeprecationWarning,\n",
              "  'SyntaxWarning': SyntaxWarning,\n",
              "  'RuntimeWarning': RuntimeWarning,\n",
              "  'FutureWarning': FutureWarning,\n",
              "  'ImportWarning': ImportWarning,\n",
              "  'UnicodeWarning': UnicodeWarning,\n",
              "  'BytesWarning': BytesWarning,\n",
              "  'ResourceWarning': ResourceWarning,\n",
              "  'ConnectionError': ConnectionError,\n",
              "  'BlockingIOError': BlockingIOError,\n",
              "  'BrokenPipeError': BrokenPipeError,\n",
              "  'ChildProcessError': ChildProcessError,\n",
              "  'ConnectionAbortedError': ConnectionAbortedError,\n",
              "  'ConnectionRefusedError': ConnectionRefusedError,\n",
              "  'ConnectionResetError': ConnectionResetError,\n",
              "  'FileExistsError': FileExistsError,\n",
              "  'FileNotFoundError': FileNotFoundError,\n",
              "  'IsADirectoryError': IsADirectoryError,\n",
              "  'NotADirectoryError': NotADirectoryError,\n",
              "  'InterruptedError': InterruptedError,\n",
              "  'PermissionError': PermissionError,\n",
              "  'ProcessLookupError': ProcessLookupError,\n",
              "  'TimeoutError': TimeoutError,\n",
              "  'open': <function io.open(file, mode='r', buffering=-1, encoding=None, errors=None, newline=None, closefd=True, opener=None)>,\n",
              "  'copyright': Copyright (c) 2001-2023 Python Software Foundation.\n",
              "  All Rights Reserved.\n",
              "  \n",
              "  Copyright (c) 2000 BeOpen.com.\n",
              "  All Rights Reserved.\n",
              "  \n",
              "  Copyright (c) 1995-2001 Corporation for National Research Initiatives.\n",
              "  All Rights Reserved.\n",
              "  \n",
              "  Copyright (c) 1991-1995 Stichting Mathematisch Centrum, Amsterdam.\n",
              "  All Rights Reserved.,\n",
              "  'credits':     Thanks to CWI, CNRI, BeOpen.com, Zope Corporation and a cast of thousands\n",
              "      for supporting Python development.  See www.python.org for more information.,\n",
              "  'license': Type license() to see the full license text,\n",
              "  'help': Type help() for interactive help, or help(object) for help about object.,\n",
              "  '__IPYTHON__': True,\n",
              "  'display': <function IPython.core.display.display(*objs, include=None, exclude=None, metadata=None, transient=None, display_id=None, **kwargs)>,\n",
              "  'execfile': <function _pydev_bundle._pydev_execfile.execfile(file, glob=None, loc=None)>,\n",
              "  'runfile': <function _pydev_bundle.pydev_umd.runfile(filename, args=None, wdir=None, namespace=None)>,\n",
              "  '__pybind11_internals_v4_gcc_libstdcpp_cxxabi1011__': <capsule object NULL at 0x7bea71aa41e0>,\n",
              "  '__pybind11_internals_v4_gcc_libstdcpp_cxxabi1014__': <capsule object NULL at 0x7be9aa997c60>,\n",
              "  '__pybind11_internals_v4_gcc_libstdcpp_cxxabi1013__': <capsule object NULL at 0x7be99f1aa5b0>,\n",
              "  '__pybind11_internals_v4_clang_libstdcpp_cxxabi1002__': <capsule object NULL at 0x7be8fedca760>,\n",
              "  'get_ipython': <bound method InteractiveShell.get_ipython of <google.colab._shell.Shell object at 0x7beab8b361a0>>},\n",
              " 'dataset_csv': '/content/drive/MyDrive/solar_PV_prediction/src/dataset_csv',\n",
              " 'model_name': 'deeplabv3-resnet101',\n",
              " 'loss': 'Dice+BCE',\n",
              " 'seed': 0,\n",
              " 'device': 'cuda',\n",
              " 'epochs': 40,\n",
              " 'warmup_epochs': 5,\n",
              " 'batch_size': 32,\n",
              " 'max_len': 256,\n",
              " 'lr': 0.0002,\n",
              " 'min_lr': 1e-06,\n",
              " 'lr_scheduler': 'cosine',\n",
              " 'augmentation': True,\n",
              " 'gc': 1,\n",
              " 'folds': 0,\n",
              " 'prop': 1,\n",
              " 'optim': 'adamw',\n",
              " 'optim_wd': 0,\n",
              " 'save_dir': '/content/drive/MyDrive/solar_PV_prediction/outputs_segAug',\n",
              " 'report_to': 'wandb',\n",
              " 'resume_ckpt': '',\n",
              " 'workers': 12,\n",
              " 'exp_date': '24-12-16',\n",
              " 'exp_code': 'deeplabv3-resnet101_24-12-16'}"
            ]
          },
          "execution_count": 9,
          "metadata": {},
          "output_type": "execute_result"
        }
      ],
      "source": [
        "args.__dict__"
      ]
    },
    {
      "cell_type": "code",
      "execution_count": null,
      "metadata": {
        "colab": {
          "base_uri": "https://localhost:8080/"
        },
        "id": "F2Ra-x07ILnI",
        "outputId": "3768b937-95e4-4e65-acbe-33d0bb2c4024"
      },
      "outputs": [
        {
          "name": "stderr",
          "output_type": "stream",
          "text": [
            "Start training the model for one epoch...:   2%|▏         | 20/1073 [00:18<09:16,  1.89it/s]"
          ]
        },
        {
          "name": "stdout",
          "output_type": "stream",
          "text": [
            "Batch 20 | Loss: 0.8410 | Learning rate:  0.000001\n"
          ]
        },
        {
          "name": "stderr",
          "output_type": "stream",
          "text": [
            "Start training the model for one epoch...:   4%|▎         | 40/1073 [00:27<08:20,  2.06it/s]"
          ]
        },
        {
          "name": "stdout",
          "output_type": "stream",
          "text": [
            "Batch 40 | Loss: 0.8414 | Learning rate:  0.000001\n"
          ]
        },
        {
          "name": "stderr",
          "output_type": "stream",
          "text": [
            "Start training the model for one epoch...:   6%|▌         | 60/1073 [00:37<08:12,  2.06it/s]"
          ]
        },
        {
          "name": "stdout",
          "output_type": "stream",
          "text": [
            "Batch 60 | Loss: 0.8349 | Learning rate:  0.000002\n"
          ]
        },
        {
          "name": "stderr",
          "output_type": "stream",
          "text": [
            "Start training the model for one epoch...:   7%|▋         | 80/1073 [00:47<08:07,  2.04it/s]"
          ]
        },
        {
          "name": "stdout",
          "output_type": "stream",
          "text": [
            "Batch 80 | Loss: 0.8368 | Learning rate:  0.000003\n"
          ]
        },
        {
          "name": "stderr",
          "output_type": "stream",
          "text": [
            "Start training the model for one epoch...:   9%|▉         | 100/1073 [00:56<07:50,  2.07it/s]"
          ]
        },
        {
          "name": "stdout",
          "output_type": "stream",
          "text": [
            "Batch 100 | Loss: 0.8309 | Learning rate:  0.000004\n"
          ]
        },
        {
          "name": "stderr",
          "output_type": "stream",
          "text": [
            "Start training the model for one epoch...:  11%|█         | 120/1073 [01:06<07:48,  2.03it/s]"
          ]
        },
        {
          "name": "stdout",
          "output_type": "stream",
          "text": [
            "Batch 120 | Loss: 0.8157 | Learning rate:  0.000004\n"
          ]
        },
        {
          "name": "stderr",
          "output_type": "stream",
          "text": [
            "Start training the model for one epoch...:  13%|█▎        | 140/1073 [01:16<07:41,  2.02it/s]"
          ]
        },
        {
          "name": "stdout",
          "output_type": "stream",
          "text": [
            "Batch 140 | Loss: 0.7820 | Learning rate:  0.000005\n"
          ]
        },
        {
          "name": "stderr",
          "output_type": "stream",
          "text": [
            "Start training the model for one epoch...:  15%|█▍        | 160/1073 [01:25<07:25,  2.05it/s]"
          ]
        },
        {
          "name": "stdout",
          "output_type": "stream",
          "text": [
            "Batch 160 | Loss: 0.7706 | Learning rate:  0.000006\n"
          ]
        },
        {
          "name": "stderr",
          "output_type": "stream",
          "text": [
            "Start training the model for one epoch...:  17%|█▋        | 180/1073 [01:35<07:15,  2.05it/s]"
          ]
        },
        {
          "name": "stdout",
          "output_type": "stream",
          "text": [
            "Batch 180 | Loss: 0.7519 | Learning rate:  0.000007\n"
          ]
        },
        {
          "name": "stderr",
          "output_type": "stream",
          "text": [
            "Start training the model for one epoch...:  19%|█▊        | 200/1073 [01:45<07:24,  1.96it/s]"
          ]
        },
        {
          "name": "stdout",
          "output_type": "stream",
          "text": [
            "Batch 200 | Loss: 0.7312 | Learning rate:  0.000007\n"
          ]
        },
        {
          "name": "stderr",
          "output_type": "stream",
          "text": [
            "Start training the model for one epoch...:  21%|██        | 220/1073 [01:55<06:47,  2.10it/s]"
          ]
        },
        {
          "name": "stdout",
          "output_type": "stream",
          "text": [
            "Batch 220 | Loss: 0.7148 | Learning rate:  0.000008\n"
          ]
        },
        {
          "name": "stderr",
          "output_type": "stream",
          "text": [
            "Start training the model for one epoch...:  22%|██▏       | 240/1073 [02:04<06:39,  2.08it/s]"
          ]
        },
        {
          "name": "stdout",
          "output_type": "stream",
          "text": [
            "Batch 240 | Loss: 0.6767 | Learning rate:  0.000009\n"
          ]
        },
        {
          "name": "stderr",
          "output_type": "stream",
          "text": [
            "Start training the model for one epoch...:  24%|██▍       | 260/1073 [02:14<06:34,  2.06it/s]"
          ]
        },
        {
          "name": "stdout",
          "output_type": "stream",
          "text": [
            "Batch 260 | Loss: 0.6868 | Learning rate:  0.000010\n"
          ]
        },
        {
          "name": "stderr",
          "output_type": "stream",
          "text": [
            "Start training the model for one epoch...:  26%|██▌       | 280/1073 [02:24<06:22,  2.08it/s]"
          ]
        },
        {
          "name": "stdout",
          "output_type": "stream",
          "text": [
            "Batch 280 | Loss: 0.6771 | Learning rate:  0.000010\n"
          ]
        },
        {
          "name": "stderr",
          "output_type": "stream",
          "text": [
            "Start training the model for one epoch...:  28%|██▊       | 300/1073 [02:33<06:10,  2.09it/s]"
          ]
        },
        {
          "name": "stdout",
          "output_type": "stream",
          "text": [
            "Batch 300 | Loss: 0.6534 | Learning rate:  0.000011\n"
          ]
        },
        {
          "name": "stderr",
          "output_type": "stream",
          "text": [
            "Start training the model for one epoch...:  30%|██▉       | 320/1073 [02:43<06:02,  2.08it/s]"
          ]
        },
        {
          "name": "stdout",
          "output_type": "stream",
          "text": [
            "Batch 320 | Loss: 0.6242 | Learning rate:  0.000012\n"
          ]
        },
        {
          "name": "stderr",
          "output_type": "stream",
          "text": [
            "Start training the model for one epoch...:  32%|███▏      | 340/1073 [02:53<05:57,  2.05it/s]"
          ]
        },
        {
          "name": "stdout",
          "output_type": "stream",
          "text": [
            "Batch 340 | Loss: 0.6178 | Learning rate:  0.000013\n"
          ]
        },
        {
          "name": "stderr",
          "output_type": "stream",
          "text": [
            "Start training the model for one epoch...:  34%|███▎      | 360/1073 [03:02<05:52,  2.02it/s]"
          ]
        },
        {
          "name": "stdout",
          "output_type": "stream",
          "text": [
            "Batch 360 | Loss: 0.6123 | Learning rate:  0.000013\n"
          ]
        },
        {
          "name": "stderr",
          "output_type": "stream",
          "text": [
            "Start training the model for one epoch...:  35%|███▌      | 380/1073 [03:12<05:26,  2.12it/s]"
          ]
        },
        {
          "name": "stdout",
          "output_type": "stream",
          "text": [
            "Batch 380 | Loss: 0.6169 | Learning rate:  0.000014\n"
          ]
        },
        {
          "name": "stderr",
          "output_type": "stream",
          "text": [
            "Start training the model for one epoch...:  37%|███▋      | 400/1073 [03:22<05:28,  2.05it/s]"
          ]
        },
        {
          "name": "stdout",
          "output_type": "stream",
          "text": [
            "Batch 400 | Loss: 0.6006 | Learning rate:  0.000015\n"
          ]
        },
        {
          "name": "stderr",
          "output_type": "stream",
          "text": [
            "Start training the model for one epoch...:  39%|███▉      | 420/1073 [03:32<05:23,  2.02it/s]"
          ]
        },
        {
          "name": "stdout",
          "output_type": "stream",
          "text": [
            "Batch 420 | Loss: 0.5860 | Learning rate:  0.000016\n"
          ]
        },
        {
          "name": "stderr",
          "output_type": "stream",
          "text": [
            "Start training the model for one epoch...:  41%|████      | 440/1073 [03:49<05:27,  1.93it/s]"
          ]
        },
        {
          "name": "stdout",
          "output_type": "stream",
          "text": [
            "Batch 440 | Loss: 0.5830 | Learning rate:  0.000016\n"
          ]
        },
        {
          "name": "stderr",
          "output_type": "stream",
          "text": [
            "Start training the model for one epoch...:  43%|████▎     | 460/1073 [03:59<05:00,  2.04it/s]"
          ]
        },
        {
          "name": "stdout",
          "output_type": "stream",
          "text": [
            "Batch 460 | Loss: 0.5829 | Learning rate:  0.000017\n"
          ]
        },
        {
          "name": "stderr",
          "output_type": "stream",
          "text": [
            "Start training the model for one epoch...:  45%|████▍     | 480/1073 [04:08<04:49,  2.05it/s]"
          ]
        },
        {
          "name": "stdout",
          "output_type": "stream",
          "text": [
            "Batch 480 | Loss: 0.5766 | Learning rate:  0.000018\n"
          ]
        },
        {
          "name": "stderr",
          "output_type": "stream",
          "text": [
            "Start training the model for one epoch...:  47%|████▋     | 500/1073 [04:18<04:43,  2.02it/s]"
          ]
        },
        {
          "name": "stdout",
          "output_type": "stream",
          "text": [
            "Batch 500 | Loss: 0.5762 | Learning rate:  0.000019\n"
          ]
        },
        {
          "name": "stderr",
          "output_type": "stream",
          "text": [
            "Start training the model for one epoch...:  48%|████▊     | 520/1073 [04:28<04:29,  2.05it/s]"
          ]
        },
        {
          "name": "stdout",
          "output_type": "stream",
          "text": [
            "Batch 520 | Loss: 0.5689 | Learning rate:  0.000019\n"
          ]
        },
        {
          "name": "stderr",
          "output_type": "stream",
          "text": [
            "Start training the model for one epoch...:  50%|█████     | 540/1073 [04:38<04:26,  2.00it/s]"
          ]
        },
        {
          "name": "stdout",
          "output_type": "stream",
          "text": [
            "Batch 540 | Loss: 0.5718 | Learning rate:  0.000020\n"
          ]
        },
        {
          "name": "stderr",
          "output_type": "stream",
          "text": [
            "Start training the model for one epoch...:  52%|█████▏    | 560/1073 [04:47<04:09,  2.06it/s]"
          ]
        },
        {
          "name": "stdout",
          "output_type": "stream",
          "text": [
            "Batch 560 | Loss: 0.5659 | Learning rate:  0.000021\n"
          ]
        },
        {
          "name": "stderr",
          "output_type": "stream",
          "text": [
            "Start training the model for one epoch...:  54%|█████▍    | 580/1073 [04:57<04:01,  2.04it/s]"
          ]
        },
        {
          "name": "stdout",
          "output_type": "stream",
          "text": [
            "Batch 580 | Loss: 0.5635 | Learning rate:  0.000022\n"
          ]
        },
        {
          "name": "stderr",
          "output_type": "stream",
          "text": [
            "Start training the model for one epoch...:  56%|█████▌    | 600/1073 [05:07<03:53,  2.03it/s]"
          ]
        },
        {
          "name": "stdout",
          "output_type": "stream",
          "text": [
            "Batch 600 | Loss: 0.5615 | Learning rate:  0.000022\n"
          ]
        },
        {
          "name": "stderr",
          "output_type": "stream",
          "text": [
            "Start training the model for one epoch...:  58%|█████▊    | 620/1073 [05:16<03:39,  2.07it/s]"
          ]
        },
        {
          "name": "stdout",
          "output_type": "stream",
          "text": [
            "Batch 620 | Loss: 0.5524 | Learning rate:  0.000023\n"
          ]
        },
        {
          "name": "stderr",
          "output_type": "stream",
          "text": [
            "Start training the model for one epoch...:  60%|█████▉    | 640/1073 [05:26<03:30,  2.06it/s]"
          ]
        },
        {
          "name": "stdout",
          "output_type": "stream",
          "text": [
            "Batch 640 | Loss: 0.5472 | Learning rate:  0.000024\n"
          ]
        },
        {
          "name": "stderr",
          "output_type": "stream",
          "text": [
            "Start training the model for one epoch...:  62%|██████▏   | 660/1073 [05:36<03:23,  2.02it/s]"
          ]
        },
        {
          "name": "stdout",
          "output_type": "stream",
          "text": [
            "Batch 660 | Loss: 0.5412 | Learning rate:  0.000025\n"
          ]
        },
        {
          "name": "stderr",
          "output_type": "stream",
          "text": [
            "Start training the model for one epoch...:  63%|██████▎   | 680/1073 [05:46<03:09,  2.08it/s]"
          ]
        },
        {
          "name": "stdout",
          "output_type": "stream",
          "text": [
            "Batch 680 | Loss: 0.5463 | Learning rate:  0.000025\n"
          ]
        },
        {
          "name": "stderr",
          "output_type": "stream",
          "text": [
            "Start training the model for one epoch...:  65%|██████▌   | 700/1073 [05:55<03:02,  2.04it/s]"
          ]
        },
        {
          "name": "stdout",
          "output_type": "stream",
          "text": [
            "Batch 700 | Loss: 0.5433 | Learning rate:  0.000026\n"
          ]
        },
        {
          "name": "stderr",
          "output_type": "stream",
          "text": [
            "Start training the model for one epoch...:  67%|██████▋   | 720/1073 [06:05<02:50,  2.07it/s]"
          ]
        },
        {
          "name": "stdout",
          "output_type": "stream",
          "text": [
            "Batch 720 | Loss: 0.5434 | Learning rate:  0.000027\n"
          ]
        },
        {
          "name": "stderr",
          "output_type": "stream",
          "text": [
            "Start training the model for one epoch...:  69%|██████▉   | 740/1073 [06:15<02:43,  2.03it/s]"
          ]
        },
        {
          "name": "stdout",
          "output_type": "stream",
          "text": [
            "Batch 740 | Loss: 0.5168 | Learning rate:  0.000028\n"
          ]
        },
        {
          "name": "stderr",
          "output_type": "stream",
          "text": [
            "Start training the model for one epoch...:  71%|███████   | 760/1073 [06:24<02:31,  2.06it/s]"
          ]
        },
        {
          "name": "stdout",
          "output_type": "stream",
          "text": [
            "Batch 760 | Loss: 0.5393 | Learning rate:  0.000028\n"
          ]
        },
        {
          "name": "stderr",
          "output_type": "stream",
          "text": [
            "Start training the model for one epoch...:  73%|███████▎  | 780/1073 [06:34<02:25,  2.01it/s]"
          ]
        },
        {
          "name": "stdout",
          "output_type": "stream",
          "text": [
            "Batch 780 | Loss: 0.5124 | Learning rate:  0.000029\n"
          ]
        },
        {
          "name": "stderr",
          "output_type": "stream",
          "text": [
            "Start training the model for one epoch...:  75%|███████▍  | 800/1073 [06:44<02:12,  2.05it/s]"
          ]
        },
        {
          "name": "stdout",
          "output_type": "stream",
          "text": [
            "Batch 800 | Loss: 0.5326 | Learning rate:  0.000030\n"
          ]
        },
        {
          "name": "stderr",
          "output_type": "stream",
          "text": [
            "Start training the model for one epoch...:  76%|███████▋  | 820/1073 [06:54<02:03,  2.05it/s]"
          ]
        },
        {
          "name": "stdout",
          "output_type": "stream",
          "text": [
            "Batch 820 | Loss: 0.5177 | Learning rate:  0.000031\n"
          ]
        },
        {
          "name": "stderr",
          "output_type": "stream",
          "text": [
            "Start training the model for one epoch...:  78%|███████▊  | 840/1073 [07:03<01:52,  2.07it/s]"
          ]
        },
        {
          "name": "stdout",
          "output_type": "stream",
          "text": [
            "Batch 840 | Loss: 0.5039 | Learning rate:  0.000031\n"
          ]
        },
        {
          "name": "stderr",
          "output_type": "stream",
          "text": [
            "Start training the model for one epoch...:  80%|████████  | 860/1073 [07:14<01:45,  2.02it/s]"
          ]
        },
        {
          "name": "stdout",
          "output_type": "stream",
          "text": [
            "Batch 860 | Loss: 0.5195 | Learning rate:  0.000032\n"
          ]
        },
        {
          "name": "stderr",
          "output_type": "stream",
          "text": [
            "Start training the model for one epoch...:  82%|████████▏ | 880/1073 [07:51<02:35,  1.24it/s]"
          ]
        },
        {
          "name": "stdout",
          "output_type": "stream",
          "text": [
            "Batch 880 | Loss: 0.5109 | Learning rate:  0.000033\n"
          ]
        },
        {
          "name": "stderr",
          "output_type": "stream",
          "text": [
            "Start training the model for one epoch...:  84%|████████▍ | 900/1073 [08:00<01:23,  2.06it/s]"
          ]
        },
        {
          "name": "stdout",
          "output_type": "stream",
          "text": [
            "Batch 900 | Loss: 0.5108 | Learning rate:  0.000034\n"
          ]
        },
        {
          "name": "stderr",
          "output_type": "stream",
          "text": [
            "Start training the model for one epoch...:  86%|████████▌ | 920/1073 [08:10<01:15,  2.02it/s]"
          ]
        },
        {
          "name": "stdout",
          "output_type": "stream",
          "text": [
            "Batch 920 | Loss: 0.5016 | Learning rate:  0.000034\n"
          ]
        },
        {
          "name": "stderr",
          "output_type": "stream",
          "text": [
            "Start training the model for one epoch...:  88%|████████▊ | 940/1073 [08:20<01:05,  2.04it/s]"
          ]
        },
        {
          "name": "stdout",
          "output_type": "stream",
          "text": [
            "Batch 940 | Loss: 0.5160 | Learning rate:  0.000035\n"
          ]
        },
        {
          "name": "stderr",
          "output_type": "stream",
          "text": [
            "Start training the model for one epoch...:  89%|████████▉ | 960/1073 [08:30<00:54,  2.08it/s]"
          ]
        },
        {
          "name": "stdout",
          "output_type": "stream",
          "text": [
            "Batch 960 | Loss: 0.5116 | Learning rate:  0.000036\n"
          ]
        },
        {
          "name": "stderr",
          "output_type": "stream",
          "text": [
            "Start training the model for one epoch...:  91%|█████████▏| 980/1073 [08:39<00:44,  2.08it/s]"
          ]
        },
        {
          "name": "stdout",
          "output_type": "stream",
          "text": [
            "Batch 980 | Loss: 0.5104 | Learning rate:  0.000036\n"
          ]
        },
        {
          "name": "stderr",
          "output_type": "stream",
          "text": [
            "Start training the model for one epoch...:  93%|█████████▎| 1000/1073 [08:49<00:35,  2.06it/s]"
          ]
        },
        {
          "name": "stdout",
          "output_type": "stream",
          "text": [
            "Batch 1000 | Loss: 0.5091 | Learning rate:  0.000037\n"
          ]
        },
        {
          "name": "stderr",
          "output_type": "stream",
          "text": [
            "Start training the model for one epoch...:  95%|█████████▌| 1020/1073 [08:59<00:25,  2.07it/s]"
          ]
        },
        {
          "name": "stdout",
          "output_type": "stream",
          "text": [
            "Batch 1020 | Loss: 0.5021 | Learning rate:  0.000038\n"
          ]
        },
        {
          "name": "stderr",
          "output_type": "stream",
          "text": [
            "Start training the model for one epoch...:  97%|█████████▋| 1040/1073 [09:08<00:15,  2.07it/s]"
          ]
        },
        {
          "name": "stdout",
          "output_type": "stream",
          "text": [
            "Batch 1040 | Loss: 0.5116 | Learning rate:  0.000039\n"
          ]
        },
        {
          "name": "stderr",
          "output_type": "stream",
          "text": [
            "Start training the model for one epoch...:  99%|█████████▉| 1060/1073 [09:18<00:05,  2.17it/s]"
          ]
        },
        {
          "name": "stdout",
          "output_type": "stream",
          "text": [
            "Batch 1060 | Loss: 0.5032 | Learning rate:  0.000039\n"
          ]
        },
        {
          "name": "stderr",
          "output_type": "stream",
          "text": [
            "Start training the model for one epoch...: 100%|██████████| 1073/1073 [09:24<00:00,  1.90it/s]\n",
            "120it [02:48,  1.41s/it]\n"
          ]
        },
        {
          "name": "stdout",
          "output_type": "stream",
          "text": [
            "Epoch: 0, train loss: 0.6095176570791012, val_loss: 0.4901934099694093, val_dice: 0.7053686236009739, val_IoU: 0.5872434262057153\n"
          ]
        },
        {
          "name": "stderr",
          "output_type": "stream",
          "text": [
            "Start training the model for one epoch...:   2%|▏         | 20/1073 [00:14<08:44,  2.01it/s]"
          ]
        },
        {
          "name": "stdout",
          "output_type": "stream",
          "text": [
            "Batch 20 | Loss: 0.5069 | Learning rate:  0.000041\n"
          ]
        },
        {
          "name": "stderr",
          "output_type": "stream",
          "text": [
            "Start training the model for one epoch...:   4%|▎         | 40/1073 [00:24<08:22,  2.06it/s]"
          ]
        },
        {
          "name": "stdout",
          "output_type": "stream",
          "text": [
            "Batch 40 | Loss: 0.5040 | Learning rate:  0.000041\n"
          ]
        },
        {
          "name": "stderr",
          "output_type": "stream",
          "text": [
            "Start training the model for one epoch...:   6%|▌         | 60/1073 [00:34<08:10,  2.06it/s]"
          ]
        },
        {
          "name": "stdout",
          "output_type": "stream",
          "text": [
            "Batch 60 | Loss: 0.4827 | Learning rate:  0.000042\n"
          ]
        },
        {
          "name": "stderr",
          "output_type": "stream",
          "text": [
            "Start training the model for one epoch...:   7%|▋         | 80/1073 [00:44<07:59,  2.07it/s]"
          ]
        },
        {
          "name": "stdout",
          "output_type": "stream",
          "text": [
            "Batch 80 | Loss: 0.4994 | Learning rate:  0.000043\n"
          ]
        },
        {
          "name": "stderr",
          "output_type": "stream",
          "text": [
            "Start training the model for one epoch...:   9%|▉         | 100/1073 [00:53<08:00,  2.02it/s]"
          ]
        },
        {
          "name": "stdout",
          "output_type": "stream",
          "text": [
            "Batch 100 | Loss: 0.5000 | Learning rate:  0.000044\n"
          ]
        },
        {
          "name": "stderr",
          "output_type": "stream",
          "text": [
            "Start training the model for one epoch...:  11%|█         | 120/1073 [01:03<07:33,  2.10it/s]"
          ]
        },
        {
          "name": "stdout",
          "output_type": "stream",
          "text": [
            "Batch 120 | Loss: 0.4907 | Learning rate:  0.000044\n"
          ]
        },
        {
          "name": "stderr",
          "output_type": "stream",
          "text": [
            "Start training the model for one epoch...:  13%|█▎        | 140/1073 [01:13<07:31,  2.07it/s]"
          ]
        },
        {
          "name": "stdout",
          "output_type": "stream",
          "text": [
            "Batch 140 | Loss: 0.4808 | Learning rate:  0.000045\n"
          ]
        },
        {
          "name": "stderr",
          "output_type": "stream",
          "text": [
            "Start training the model for one epoch...:  15%|█▍        | 160/1073 [01:22<07:17,  2.09it/s]"
          ]
        },
        {
          "name": "stdout",
          "output_type": "stream",
          "text": [
            "Batch 160 | Loss: 0.4779 | Learning rate:  0.000046\n"
          ]
        },
        {
          "name": "stderr",
          "output_type": "stream",
          "text": [
            "Start training the model for one epoch...:  17%|█▋        | 180/1073 [01:32<07:21,  2.02it/s]"
          ]
        },
        {
          "name": "stdout",
          "output_type": "stream",
          "text": [
            "Batch 180 | Loss: 0.5034 | Learning rate:  0.000047\n"
          ]
        },
        {
          "name": "stderr",
          "output_type": "stream",
          "text": [
            "Start training the model for one epoch...:  19%|█▊        | 200/1073 [01:41<06:55,  2.10it/s]"
          ]
        },
        {
          "name": "stdout",
          "output_type": "stream",
          "text": [
            "Batch 200 | Loss: 0.4927 | Learning rate:  0.000047\n"
          ]
        },
        {
          "name": "stderr",
          "output_type": "stream",
          "text": [
            "Start training the model for one epoch...:  21%|██        | 220/1073 [01:51<06:57,  2.04it/s]"
          ]
        },
        {
          "name": "stdout",
          "output_type": "stream",
          "text": [
            "Batch 220 | Loss: 0.4821 | Learning rate:  0.000048\n"
          ]
        },
        {
          "name": "stderr",
          "output_type": "stream",
          "text": [
            "Start training the model for one epoch...:  22%|██▏       | 240/1073 [02:01<06:45,  2.05it/s]"
          ]
        },
        {
          "name": "stdout",
          "output_type": "stream",
          "text": [
            "Batch 240 | Loss: 0.4826 | Learning rate:  0.000049\n"
          ]
        },
        {
          "name": "stderr",
          "output_type": "stream",
          "text": [
            "Start training the model for one epoch...:  24%|██▍       | 260/1073 [02:11<06:41,  2.03it/s]"
          ]
        },
        {
          "name": "stdout",
          "output_type": "stream",
          "text": [
            "Batch 260 | Loss: 0.4736 | Learning rate:  0.000050\n"
          ]
        },
        {
          "name": "stderr",
          "output_type": "stream",
          "text": [
            "Start training the model for one epoch...:  26%|██▌       | 280/1073 [02:20<06:18,  2.09it/s]"
          ]
        },
        {
          "name": "stdout",
          "output_type": "stream",
          "text": [
            "Batch 280 | Loss: 0.4873 | Learning rate:  0.000050\n"
          ]
        },
        {
          "name": "stderr",
          "output_type": "stream",
          "text": [
            "Start training the model for one epoch...:  28%|██▊       | 300/1073 [02:30<06:21,  2.03it/s]"
          ]
        },
        {
          "name": "stdout",
          "output_type": "stream",
          "text": [
            "Batch 300 | Loss: 0.4871 | Learning rate:  0.000051\n"
          ]
        },
        {
          "name": "stderr",
          "output_type": "stream",
          "text": [
            "Start training the model for one epoch...:  30%|██▉       | 320/1073 [02:40<06:05,  2.06it/s]"
          ]
        },
        {
          "name": "stdout",
          "output_type": "stream",
          "text": [
            "Batch 320 | Loss: 0.4521 | Learning rate:  0.000052\n"
          ]
        },
        {
          "name": "stderr",
          "output_type": "stream",
          "text": [
            "Start training the model for one epoch...:  32%|███▏      | 340/1073 [02:49<06:02,  2.02it/s]"
          ]
        },
        {
          "name": "stdout",
          "output_type": "stream",
          "text": [
            "Batch 340 | Loss: 0.4754 | Learning rate:  0.000053\n"
          ]
        },
        {
          "name": "stderr",
          "output_type": "stream",
          "text": [
            "Start training the model for one epoch...:  34%|███▎      | 360/1073 [02:59<05:36,  2.12it/s]"
          ]
        },
        {
          "name": "stdout",
          "output_type": "stream",
          "text": [
            "Batch 360 | Loss: 0.4946 | Learning rate:  0.000053\n"
          ]
        },
        {
          "name": "stderr",
          "output_type": "stream",
          "text": [
            "Start training the model for one epoch...:  35%|███▌      | 380/1073 [03:09<05:36,  2.06it/s]"
          ]
        },
        {
          "name": "stdout",
          "output_type": "stream",
          "text": [
            "Batch 380 | Loss: 0.4620 | Learning rate:  0.000054\n"
          ]
        },
        {
          "name": "stderr",
          "output_type": "stream",
          "text": [
            "Start training the model for one epoch...:  37%|███▋      | 400/1073 [03:18<05:24,  2.07it/s]"
          ]
        },
        {
          "name": "stdout",
          "output_type": "stream",
          "text": [
            "Batch 400 | Loss: 0.4802 | Learning rate:  0.000055\n"
          ]
        },
        {
          "name": "stderr",
          "output_type": "stream",
          "text": [
            "Start training the model for one epoch...:  39%|███▉      | 420/1073 [03:28<05:19,  2.04it/s]"
          ]
        },
        {
          "name": "stdout",
          "output_type": "stream",
          "text": [
            "Batch 420 | Loss: 0.4765 | Learning rate:  0.000056\n"
          ]
        },
        {
          "name": "stderr",
          "output_type": "stream",
          "text": [
            "Start training the model for one epoch...:  41%|████      | 440/1073 [03:38<05:02,  2.09it/s]"
          ]
        },
        {
          "name": "stdout",
          "output_type": "stream",
          "text": [
            "Batch 440 | Loss: 0.4785 | Learning rate:  0.000056\n"
          ]
        },
        {
          "name": "stderr",
          "output_type": "stream",
          "text": [
            "Start training the model for one epoch...:  43%|████▎     | 460/1073 [03:48<05:02,  2.02it/s]"
          ]
        },
        {
          "name": "stdout",
          "output_type": "stream",
          "text": [
            "Batch 460 | Loss: 0.4705 | Learning rate:  0.000057\n"
          ]
        },
        {
          "name": "stderr",
          "output_type": "stream",
          "text": [
            "Start training the model for one epoch...:  45%|████▍     | 480/1073 [03:57<04:44,  2.08it/s]"
          ]
        },
        {
          "name": "stdout",
          "output_type": "stream",
          "text": [
            "Batch 480 | Loss: 0.4792 | Learning rate:  0.000058\n"
          ]
        },
        {
          "name": "stderr",
          "output_type": "stream",
          "text": [
            "Start training the model for one epoch...:  47%|████▋     | 500/1073 [04:07<04:39,  2.05it/s]"
          ]
        },
        {
          "name": "stdout",
          "output_type": "stream",
          "text": [
            "Batch 500 | Loss: 0.4762 | Learning rate:  0.000059\n"
          ]
        },
        {
          "name": "stderr",
          "output_type": "stream",
          "text": [
            "Start training the model for one epoch...:  48%|████▊     | 520/1073 [04:16<04:25,  2.08it/s]"
          ]
        },
        {
          "name": "stdout",
          "output_type": "stream",
          "text": [
            "Batch 520 | Loss: 0.4769 | Learning rate:  0.000059\n"
          ]
        },
        {
          "name": "stderr",
          "output_type": "stream",
          "text": [
            "Start training the model for one epoch...:  50%|█████     | 540/1073 [04:26<04:23,  2.02it/s]"
          ]
        },
        {
          "name": "stdout",
          "output_type": "stream",
          "text": [
            "Batch 540 | Loss: 0.4770 | Learning rate:  0.000060\n"
          ]
        },
        {
          "name": "stderr",
          "output_type": "stream",
          "text": [
            "Start training the model for one epoch...:  52%|█████▏    | 560/1073 [04:36<04:07,  2.07it/s]"
          ]
        },
        {
          "name": "stdout",
          "output_type": "stream",
          "text": [
            "Batch 560 | Loss: 0.4693 | Learning rate:  0.000061\n"
          ]
        },
        {
          "name": "stderr",
          "output_type": "stream",
          "text": [
            "Start training the model for one epoch...:  54%|█████▍    | 580/1073 [04:46<04:03,  2.02it/s]"
          ]
        },
        {
          "name": "stdout",
          "output_type": "stream",
          "text": [
            "Batch 580 | Loss: 0.4864 | Learning rate:  0.000062\n"
          ]
        },
        {
          "name": "stderr",
          "output_type": "stream",
          "text": [
            "Start training the model for one epoch...:  56%|█████▌    | 600/1073 [04:55<03:45,  2.10it/s]"
          ]
        },
        {
          "name": "stdout",
          "output_type": "stream",
          "text": [
            "Batch 600 | Loss: 0.4689 | Learning rate:  0.000062\n"
          ]
        },
        {
          "name": "stderr",
          "output_type": "stream",
          "text": [
            "Start training the model for one epoch...:  58%|█████▊    | 620/1073 [05:05<03:42,  2.04it/s]"
          ]
        },
        {
          "name": "stdout",
          "output_type": "stream",
          "text": [
            "Batch 620 | Loss: 0.4528 | Learning rate:  0.000063\n"
          ]
        },
        {
          "name": "stderr",
          "output_type": "stream",
          "text": [
            "Start training the model for one epoch...:  60%|█████▉    | 640/1073 [05:15<03:30,  2.06it/s]"
          ]
        },
        {
          "name": "stdout",
          "output_type": "stream",
          "text": [
            "Batch 640 | Loss: 0.4715 | Learning rate:  0.000064\n"
          ]
        },
        {
          "name": "stderr",
          "output_type": "stream",
          "text": [
            "Start training the model for one epoch...:  62%|██████▏   | 660/1073 [05:25<03:24,  2.02it/s]"
          ]
        },
        {
          "name": "stdout",
          "output_type": "stream",
          "text": [
            "Batch 660 | Loss: 0.4651 | Learning rate:  0.000065\n"
          ]
        },
        {
          "name": "stderr",
          "output_type": "stream",
          "text": [
            "Start training the model for one epoch...:  63%|██████▎   | 680/1073 [05:34<03:12,  2.04it/s]"
          ]
        },
        {
          "name": "stdout",
          "output_type": "stream",
          "text": [
            "Batch 680 | Loss: 0.4773 | Learning rate:  0.000065\n"
          ]
        },
        {
          "name": "stderr",
          "output_type": "stream",
          "text": [
            "Start training the model for one epoch...:  65%|██████▌   | 700/1073 [05:44<03:03,  2.04it/s]"
          ]
        },
        {
          "name": "stdout",
          "output_type": "stream",
          "text": [
            "Batch 700 | Loss: 0.4594 | Learning rate:  0.000066\n"
          ]
        },
        {
          "name": "stderr",
          "output_type": "stream",
          "text": [
            "Start training the model for one epoch...:  67%|██████▋   | 720/1073 [05:54<02:47,  2.10it/s]"
          ]
        },
        {
          "name": "stdout",
          "output_type": "stream",
          "text": [
            "Batch 720 | Loss: 0.4925 | Learning rate:  0.000067\n"
          ]
        },
        {
          "name": "stderr",
          "output_type": "stream",
          "text": [
            "Start training the model for one epoch...:  69%|██████▉   | 740/1073 [06:03<02:41,  2.06it/s]"
          ]
        },
        {
          "name": "stdout",
          "output_type": "stream",
          "text": [
            "Batch 740 | Loss: 0.4533 | Learning rate:  0.000068\n"
          ]
        },
        {
          "name": "stderr",
          "output_type": "stream",
          "text": [
            "Start training the model for one epoch...:  71%|███████   | 760/1073 [06:13<02:31,  2.06it/s]"
          ]
        },
        {
          "name": "stdout",
          "output_type": "stream",
          "text": [
            "Batch 760 | Loss: 0.4741 | Learning rate:  0.000068\n"
          ]
        },
        {
          "name": "stderr",
          "output_type": "stream",
          "text": [
            "Start training the model for one epoch...:  73%|███████▎  | 780/1073 [06:23<02:23,  2.04it/s]"
          ]
        },
        {
          "name": "stdout",
          "output_type": "stream",
          "text": [
            "Batch 780 | Loss: 0.4664 | Learning rate:  0.000069\n"
          ]
        },
        {
          "name": "stderr",
          "output_type": "stream",
          "text": [
            "Start training the model for one epoch...:  75%|███████▍  | 800/1073 [06:32<02:09,  2.12it/s]"
          ]
        },
        {
          "name": "stdout",
          "output_type": "stream",
          "text": [
            "Batch 800 | Loss: 0.4701 | Learning rate:  0.000070\n"
          ]
        },
        {
          "name": "stderr",
          "output_type": "stream",
          "text": [
            "Start training the model for one epoch...:  76%|███████▋  | 820/1073 [06:42<02:03,  2.04it/s]"
          ]
        },
        {
          "name": "stdout",
          "output_type": "stream",
          "text": [
            "Batch 820 | Loss: 0.4715 | Learning rate:  0.000071\n"
          ]
        },
        {
          "name": "stderr",
          "output_type": "stream",
          "text": [
            "Start training the model for one epoch...:  78%|███████▊  | 840/1073 [06:52<01:52,  2.07it/s]"
          ]
        },
        {
          "name": "stdout",
          "output_type": "stream",
          "text": [
            "Batch 840 | Loss: 0.4664 | Learning rate:  0.000071\n"
          ]
        },
        {
          "name": "stderr",
          "output_type": "stream",
          "text": [
            "Start training the model for one epoch...:  80%|████████  | 860/1073 [07:02<01:44,  2.04it/s]"
          ]
        },
        {
          "name": "stdout",
          "output_type": "stream",
          "text": [
            "Batch 860 | Loss: 0.4835 | Learning rate:  0.000072\n"
          ]
        },
        {
          "name": "stderr",
          "output_type": "stream",
          "text": [
            "Start training the model for one epoch...:  82%|████████▏ | 880/1073 [07:11<01:31,  2.11it/s]"
          ]
        },
        {
          "name": "stdout",
          "output_type": "stream",
          "text": [
            "Batch 880 | Loss: 0.4786 | Learning rate:  0.000073\n"
          ]
        },
        {
          "name": "stderr",
          "output_type": "stream",
          "text": [
            "Start training the model for one epoch...:  84%|████████▍ | 900/1073 [07:21<01:25,  2.02it/s]"
          ]
        },
        {
          "name": "stdout",
          "output_type": "stream",
          "text": [
            "Batch 900 | Loss: 0.4662 | Learning rate:  0.000074\n"
          ]
        },
        {
          "name": "stderr",
          "output_type": "stream",
          "text": [
            "Start training the model for one epoch...:  86%|████████▌ | 920/1073 [07:31<01:14,  2.06it/s]"
          ]
        },
        {
          "name": "stdout",
          "output_type": "stream",
          "text": [
            "Batch 920 | Loss: 0.4699 | Learning rate:  0.000074\n"
          ]
        },
        {
          "name": "stderr",
          "output_type": "stream",
          "text": [
            "Start training the model for one epoch...:  88%|████████▊ | 940/1073 [07:40<01:03,  2.08it/s]"
          ]
        },
        {
          "name": "stdout",
          "output_type": "stream",
          "text": [
            "Batch 940 | Loss: 0.4725 | Learning rate:  0.000075\n"
          ]
        },
        {
          "name": "stderr",
          "output_type": "stream",
          "text": [
            "Start training the model for one epoch...:  89%|████████▉ | 960/1073 [07:50<00:53,  2.12it/s]"
          ]
        },
        {
          "name": "stdout",
          "output_type": "stream",
          "text": [
            "Batch 960 | Loss: 0.4688 | Learning rate:  0.000076\n"
          ]
        },
        {
          "name": "stderr",
          "output_type": "stream",
          "text": [
            "Start training the model for one epoch...:  91%|█████████▏| 980/1073 [08:00<00:45,  2.06it/s]"
          ]
        },
        {
          "name": "stdout",
          "output_type": "stream",
          "text": [
            "Batch 980 | Loss: 0.4531 | Learning rate:  0.000076\n"
          ]
        },
        {
          "name": "stderr",
          "output_type": "stream",
          "text": [
            "Start training the model for one epoch...:  93%|█████████▎| 1000/1073 [08:09<00:35,  2.07it/s]"
          ]
        },
        {
          "name": "stdout",
          "output_type": "stream",
          "text": [
            "Batch 1000 | Loss: 0.4465 | Learning rate:  0.000077\n"
          ]
        },
        {
          "name": "stderr",
          "output_type": "stream",
          "text": [
            "Start training the model for one epoch...:  95%|█████████▌| 1020/1073 [08:19<00:26,  2.02it/s]"
          ]
        },
        {
          "name": "stdout",
          "output_type": "stream",
          "text": [
            "Batch 1020 | Loss: 0.4603 | Learning rate:  0.000078\n"
          ]
        },
        {
          "name": "stderr",
          "output_type": "stream",
          "text": [
            "Start training the model for one epoch...:  97%|█████████▋| 1040/1073 [08:29<00:15,  2.11it/s]"
          ]
        },
        {
          "name": "stdout",
          "output_type": "stream",
          "text": [
            "Batch 1040 | Loss: 0.4525 | Learning rate:  0.000079\n"
          ]
        },
        {
          "name": "stderr",
          "output_type": "stream",
          "text": [
            "Start training the model for one epoch...:  99%|█████████▉| 1060/1073 [08:38<00:05,  2.18it/s]"
          ]
        },
        {
          "name": "stdout",
          "output_type": "stream",
          "text": [
            "Batch 1060 | Loss: 0.4535 | Learning rate:  0.000079\n"
          ]
        },
        {
          "name": "stderr",
          "output_type": "stream",
          "text": [
            "Start training the model for one epoch...: 100%|██████████| 1073/1073 [08:44<00:00,  2.04it/s]\n",
            "120it [00:36,  3.29it/s]\n"
          ]
        },
        {
          "name": "stdout",
          "output_type": "stream",
          "text": [
            "Epoch: 1, train loss: 0.47748121119278786, val_loss: 0.44753660609324775, val_dice: 0.7710271603360699, val_IoU: 0.6715213398491219\n"
          ]
        },
        {
          "name": "stderr",
          "output_type": "stream",
          "text": [
            "Start training the model for one epoch...:   2%|▏         | 20/1073 [00:15<08:40,  2.02it/s]"
          ]
        },
        {
          "name": "stdout",
          "output_type": "stream",
          "text": [
            "Batch 20 | Loss: 0.4620 | Learning rate:  0.000081\n"
          ]
        },
        {
          "name": "stderr",
          "output_type": "stream",
          "text": [
            "Start training the model for one epoch...:   4%|▎         | 40/1073 [00:25<08:23,  2.05it/s]"
          ]
        },
        {
          "name": "stdout",
          "output_type": "stream",
          "text": [
            "Batch 40 | Loss: 0.4768 | Learning rate:  0.000081\n"
          ]
        },
        {
          "name": "stderr",
          "output_type": "stream",
          "text": [
            "Start training the model for one epoch...:   6%|▌         | 60/1073 [00:35<08:01,  2.10it/s]"
          ]
        },
        {
          "name": "stdout",
          "output_type": "stream",
          "text": [
            "Batch 60 | Loss: 0.4680 | Learning rate:  0.000082\n"
          ]
        },
        {
          "name": "stderr",
          "output_type": "stream",
          "text": [
            "Start training the model for one epoch...:   7%|▋         | 80/1073 [00:44<08:09,  2.03it/s]"
          ]
        },
        {
          "name": "stdout",
          "output_type": "stream",
          "text": [
            "Batch 80 | Loss: 0.4662 | Learning rate:  0.000083\n"
          ]
        },
        {
          "name": "stderr",
          "output_type": "stream",
          "text": [
            "Start training the model for one epoch...:   9%|▉         | 100/1073 [00:54<07:46,  2.08it/s]"
          ]
        },
        {
          "name": "stdout",
          "output_type": "stream",
          "text": [
            "Batch 100 | Loss: 0.4662 | Learning rate:  0.000084\n"
          ]
        },
        {
          "name": "stderr",
          "output_type": "stream",
          "text": [
            "Start training the model for one epoch...:  11%|█         | 120/1073 [01:04<07:52,  2.02it/s]"
          ]
        },
        {
          "name": "stdout",
          "output_type": "stream",
          "text": [
            "Batch 120 | Loss: 0.4536 | Learning rate:  0.000084\n"
          ]
        },
        {
          "name": "stderr",
          "output_type": "stream",
          "text": [
            "Start training the model for one epoch...:  13%|█▎        | 140/1073 [01:14<07:31,  2.07it/s]"
          ]
        },
        {
          "name": "stdout",
          "output_type": "stream",
          "text": [
            "Batch 140 | Loss: 0.4625 | Learning rate:  0.000085\n"
          ]
        },
        {
          "name": "stderr",
          "output_type": "stream",
          "text": [
            "Start training the model for one epoch...:  15%|█▍        | 160/1073 [01:23<07:24,  2.05it/s]"
          ]
        },
        {
          "name": "stdout",
          "output_type": "stream",
          "text": [
            "Batch 160 | Loss: 0.4661 | Learning rate:  0.000086\n"
          ]
        },
        {
          "name": "stderr",
          "output_type": "stream",
          "text": [
            "Start training the model for one epoch...:  17%|█▋        | 180/1073 [01:33<07:12,  2.06it/s]"
          ]
        },
        {
          "name": "stdout",
          "output_type": "stream",
          "text": [
            "Batch 180 | Loss: 0.4658 | Learning rate:  0.000087\n"
          ]
        },
        {
          "name": "stderr",
          "output_type": "stream",
          "text": [
            "Start training the model for one epoch...:  19%|█▊        | 200/1073 [01:43<07:12,  2.02it/s]"
          ]
        },
        {
          "name": "stdout",
          "output_type": "stream",
          "text": [
            "Batch 200 | Loss: 0.4687 | Learning rate:  0.000087\n"
          ]
        },
        {
          "name": "stderr",
          "output_type": "stream",
          "text": [
            "Start training the model for one epoch...:  21%|██        | 220/1073 [01:52<06:50,  2.08it/s]"
          ]
        },
        {
          "name": "stdout",
          "output_type": "stream",
          "text": [
            "Batch 220 | Loss: 0.4362 | Learning rate:  0.000088\n"
          ]
        },
        {
          "name": "stderr",
          "output_type": "stream",
          "text": [
            "Start training the model for one epoch...:  22%|██▏       | 240/1073 [02:02<06:47,  2.04it/s]"
          ]
        },
        {
          "name": "stdout",
          "output_type": "stream",
          "text": [
            "Batch 240 | Loss: 0.4533 | Learning rate:  0.000089\n"
          ]
        },
        {
          "name": "stderr",
          "output_type": "stream",
          "text": [
            "Start training the model for one epoch...:  24%|██▍       | 260/1073 [02:12<06:29,  2.09it/s]"
          ]
        },
        {
          "name": "stdout",
          "output_type": "stream",
          "text": [
            "Batch 260 | Loss: 0.4722 | Learning rate:  0.000090\n"
          ]
        },
        {
          "name": "stderr",
          "output_type": "stream",
          "text": [
            "Start training the model for one epoch...:  26%|██▌       | 280/1073 [02:21<06:29,  2.04it/s]"
          ]
        },
        {
          "name": "stdout",
          "output_type": "stream",
          "text": [
            "Batch 280 | Loss: 0.4555 | Learning rate:  0.000090\n"
          ]
        },
        {
          "name": "stderr",
          "output_type": "stream",
          "text": [
            "Start training the model for one epoch...:  28%|██▊       | 300/1073 [02:31<06:16,  2.05it/s]"
          ]
        },
        {
          "name": "stdout",
          "output_type": "stream",
          "text": [
            "Batch 300 | Loss: 0.4606 | Learning rate:  0.000091\n"
          ]
        },
        {
          "name": "stderr",
          "output_type": "stream",
          "text": [
            "Start training the model for one epoch...:  30%|██▉       | 320/1073 [02:41<06:09,  2.04it/s]"
          ]
        },
        {
          "name": "stdout",
          "output_type": "stream",
          "text": [
            "Batch 320 | Loss: 0.4523 | Learning rate:  0.000092\n"
          ]
        },
        {
          "name": "stderr",
          "output_type": "stream",
          "text": [
            "Start training the model for one epoch...:  32%|███▏      | 340/1073 [02:51<05:53,  2.07it/s]"
          ]
        },
        {
          "name": "stdout",
          "output_type": "stream",
          "text": [
            "Batch 340 | Loss: 0.4648 | Learning rate:  0.000093\n"
          ]
        },
        {
          "name": "stderr",
          "output_type": "stream",
          "text": [
            "Start training the model for one epoch...:  34%|███▎      | 360/1073 [03:00<05:49,  2.04it/s]"
          ]
        },
        {
          "name": "stdout",
          "output_type": "stream",
          "text": [
            "Batch 360 | Loss: 0.4357 | Learning rate:  0.000093\n"
          ]
        },
        {
          "name": "stderr",
          "output_type": "stream",
          "text": [
            "Start training the model for one epoch...:  35%|███▌      | 380/1073 [03:10<05:29,  2.10it/s]"
          ]
        },
        {
          "name": "stdout",
          "output_type": "stream",
          "text": [
            "Batch 380 | Loss: 0.4577 | Learning rate:  0.000094\n"
          ]
        },
        {
          "name": "stderr",
          "output_type": "stream",
          "text": [
            "Start training the model for one epoch...:  37%|███▋      | 400/1073 [03:20<05:31,  2.03it/s]"
          ]
        },
        {
          "name": "stdout",
          "output_type": "stream",
          "text": [
            "Batch 400 | Loss: 0.4566 | Learning rate:  0.000095\n"
          ]
        },
        {
          "name": "stderr",
          "output_type": "stream",
          "text": [
            "Start training the model for one epoch...:  39%|███▉      | 420/1073 [03:30<05:15,  2.07it/s]"
          ]
        },
        {
          "name": "stdout",
          "output_type": "stream",
          "text": [
            "Batch 420 | Loss: 0.4479 | Learning rate:  0.000096\n"
          ]
        },
        {
          "name": "stderr",
          "output_type": "stream",
          "text": [
            "Start training the model for one epoch...:  41%|████      | 440/1073 [03:39<05:08,  2.05it/s]"
          ]
        },
        {
          "name": "stdout",
          "output_type": "stream",
          "text": [
            "Batch 440 | Loss: 0.4538 | Learning rate:  0.000096\n"
          ]
        },
        {
          "name": "stderr",
          "output_type": "stream",
          "text": [
            "Start training the model for one epoch...:  43%|████▎     | 460/1073 [03:49<04:57,  2.06it/s]"
          ]
        },
        {
          "name": "stdout",
          "output_type": "stream",
          "text": [
            "Batch 460 | Loss: 0.4583 | Learning rate:  0.000097\n"
          ]
        },
        {
          "name": "stderr",
          "output_type": "stream",
          "text": [
            "Start training the model for one epoch...:  45%|████▍     | 480/1073 [03:59<04:53,  2.02it/s]"
          ]
        },
        {
          "name": "stdout",
          "output_type": "stream",
          "text": [
            "Batch 480 | Loss: 0.4571 | Learning rate:  0.000098\n"
          ]
        },
        {
          "name": "stderr",
          "output_type": "stream",
          "text": [
            "Start training the model for one epoch...:  47%|████▋     | 500/1073 [04:09<04:38,  2.06it/s]"
          ]
        },
        {
          "name": "stdout",
          "output_type": "stream",
          "text": [
            "Batch 500 | Loss: 0.4491 | Learning rate:  0.000099\n"
          ]
        },
        {
          "name": "stderr",
          "output_type": "stream",
          "text": [
            "Start training the model for one epoch...:  48%|████▊     | 520/1073 [04:18<04:31,  2.04it/s]"
          ]
        },
        {
          "name": "stdout",
          "output_type": "stream",
          "text": [
            "Batch 520 | Loss: 0.4502 | Learning rate:  0.000099\n"
          ]
        },
        {
          "name": "stderr",
          "output_type": "stream",
          "text": [
            "Start training the model for one epoch...:  50%|█████     | 540/1073 [04:28<04:16,  2.08it/s]"
          ]
        },
        {
          "name": "stdout",
          "output_type": "stream",
          "text": [
            "Batch 540 | Loss: 0.4428 | Learning rate:  0.000100\n"
          ]
        },
        {
          "name": "stderr",
          "output_type": "stream",
          "text": [
            "Start training the model for one epoch...:  52%|█████▏    | 560/1073 [04:38<04:13,  2.02it/s]"
          ]
        },
        {
          "name": "stdout",
          "output_type": "stream",
          "text": [
            "Batch 560 | Loss: 0.4551 | Learning rate:  0.000101\n"
          ]
        },
        {
          "name": "stderr",
          "output_type": "stream",
          "text": [
            "Start training the model for one epoch...:  54%|█████▍    | 580/1073 [04:48<03:59,  2.06it/s]"
          ]
        },
        {
          "name": "stdout",
          "output_type": "stream",
          "text": [
            "Batch 580 | Loss: 0.4725 | Learning rate:  0.000102\n"
          ]
        },
        {
          "name": "stderr",
          "output_type": "stream",
          "text": [
            "Start training the model for one epoch...:  56%|█████▌    | 600/1073 [04:57<03:51,  2.04it/s]"
          ]
        },
        {
          "name": "stdout",
          "output_type": "stream",
          "text": [
            "Batch 600 | Loss: 0.4593 | Learning rate:  0.000102\n"
          ]
        },
        {
          "name": "stderr",
          "output_type": "stream",
          "text": [
            "Start training the model for one epoch...:  58%|█████▊    | 620/1073 [05:07<03:39,  2.06it/s]"
          ]
        },
        {
          "name": "stdout",
          "output_type": "stream",
          "text": [
            "Batch 620 | Loss: 0.4644 | Learning rate:  0.000103\n"
          ]
        },
        {
          "name": "stderr",
          "output_type": "stream",
          "text": [
            "Start training the model for one epoch...:  60%|█████▉    | 640/1073 [05:17<03:34,  2.02it/s]"
          ]
        },
        {
          "name": "stdout",
          "output_type": "stream",
          "text": [
            "Batch 640 | Loss: 0.4567 | Learning rate:  0.000104\n"
          ]
        },
        {
          "name": "stderr",
          "output_type": "stream",
          "text": [
            "Start training the model for one epoch...:  62%|██████▏   | 660/1073 [05:27<03:16,  2.10it/s]"
          ]
        },
        {
          "name": "stdout",
          "output_type": "stream",
          "text": [
            "Batch 660 | Loss: 0.4548 | Learning rate:  0.000105\n"
          ]
        },
        {
          "name": "stderr",
          "output_type": "stream",
          "text": [
            "Start training the model for one epoch...:  63%|██████▎   | 680/1073 [05:37<03:14,  2.03it/s]"
          ]
        },
        {
          "name": "stdout",
          "output_type": "stream",
          "text": [
            "Batch 680 | Loss: 0.4614 | Learning rate:  0.000105\n"
          ]
        },
        {
          "name": "stderr",
          "output_type": "stream",
          "text": [
            "Start training the model for one epoch...:  65%|██████▌   | 700/1073 [05:47<03:18,  1.88it/s]"
          ]
        },
        {
          "name": "stdout",
          "output_type": "stream",
          "text": [
            "Batch 700 | Loss: 0.4655 | Learning rate:  0.000106\n"
          ]
        },
        {
          "name": "stderr",
          "output_type": "stream",
          "text": [
            "Start training the model for one epoch...:  67%|██████▋   | 720/1073 [05:56<02:54,  2.03it/s]"
          ]
        },
        {
          "name": "stdout",
          "output_type": "stream",
          "text": [
            "Batch 720 | Loss: 0.4559 | Learning rate:  0.000107\n"
          ]
        },
        {
          "name": "stderr",
          "output_type": "stream",
          "text": [
            "Start training the model for one epoch...:  69%|██████▉   | 740/1073 [06:06<02:39,  2.09it/s]"
          ]
        },
        {
          "name": "stdout",
          "output_type": "stream",
          "text": [
            "Batch 740 | Loss: 0.4563 | Learning rate:  0.000108\n"
          ]
        },
        {
          "name": "stderr",
          "output_type": "stream",
          "text": [
            "Start training the model for one epoch...:  71%|███████   | 760/1073 [06:16<02:33,  2.04it/s]"
          ]
        },
        {
          "name": "stdout",
          "output_type": "stream",
          "text": [
            "Batch 760 | Loss: 0.4432 | Learning rate:  0.000108\n"
          ]
        },
        {
          "name": "stderr",
          "output_type": "stream",
          "text": [
            "Start training the model for one epoch...:  73%|███████▎  | 780/1073 [06:26<02:21,  2.07it/s]"
          ]
        },
        {
          "name": "stdout",
          "output_type": "stream",
          "text": [
            "Batch 780 | Loss: 0.4649 | Learning rate:  0.000109\n"
          ]
        },
        {
          "name": "stderr",
          "output_type": "stream",
          "text": [
            "Start training the model for one epoch...:  75%|███████▍  | 800/1073 [06:35<02:15,  2.02it/s]"
          ]
        },
        {
          "name": "stdout",
          "output_type": "stream",
          "text": [
            "Batch 800 | Loss: 0.4438 | Learning rate:  0.000110\n"
          ]
        },
        {
          "name": "stderr",
          "output_type": "stream",
          "text": [
            "Start training the model for one epoch...:  76%|███████▋  | 820/1073 [06:45<02:04,  2.03it/s]"
          ]
        },
        {
          "name": "stdout",
          "output_type": "stream",
          "text": [
            "Batch 820 | Loss: 0.4603 | Learning rate:  0.000111\n"
          ]
        },
        {
          "name": "stderr",
          "output_type": "stream",
          "text": [
            "Start training the model for one epoch...:  78%|███████▊  | 840/1073 [06:55<01:54,  2.03it/s]"
          ]
        },
        {
          "name": "stdout",
          "output_type": "stream",
          "text": [
            "Batch 840 | Loss: 0.4405 | Learning rate:  0.000111\n"
          ]
        },
        {
          "name": "stderr",
          "output_type": "stream",
          "text": [
            "Start training the model for one epoch...:  80%|████████  | 860/1073 [07:05<01:43,  2.06it/s]"
          ]
        },
        {
          "name": "stdout",
          "output_type": "stream",
          "text": [
            "Batch 860 | Loss: 0.4692 | Learning rate:  0.000112\n"
          ]
        },
        {
          "name": "stderr",
          "output_type": "stream",
          "text": [
            "Start training the model for one epoch...:  82%|████████▏ | 880/1073 [07:15<01:35,  2.02it/s]"
          ]
        },
        {
          "name": "stdout",
          "output_type": "stream",
          "text": [
            "Batch 880 | Loss: 0.4637 | Learning rate:  0.000113\n"
          ]
        },
        {
          "name": "stderr",
          "output_type": "stream",
          "text": [
            "Start training the model for one epoch...:  84%|████████▍ | 900/1073 [07:24<01:23,  2.07it/s]"
          ]
        },
        {
          "name": "stdout",
          "output_type": "stream",
          "text": [
            "Batch 900 | Loss: 0.4636 | Learning rate:  0.000114\n"
          ]
        },
        {
          "name": "stderr",
          "output_type": "stream",
          "text": [
            "Start training the model for one epoch...:  86%|████████▌ | 920/1073 [07:34<01:15,  2.02it/s]"
          ]
        },
        {
          "name": "stdout",
          "output_type": "stream",
          "text": [
            "Batch 920 | Loss: 0.4539 | Learning rate:  0.000114\n"
          ]
        },
        {
          "name": "stderr",
          "output_type": "stream",
          "text": [
            "Start training the model for one epoch...:  88%|████████▊ | 940/1073 [07:44<01:03,  2.08it/s]"
          ]
        },
        {
          "name": "stdout",
          "output_type": "stream",
          "text": [
            "Batch 940 | Loss: 0.4376 | Learning rate:  0.000115\n"
          ]
        },
        {
          "name": "stderr",
          "output_type": "stream",
          "text": [
            "Start training the model for one epoch...:  89%|████████▉ | 960/1073 [07:54<00:56,  2.01it/s]"
          ]
        },
        {
          "name": "stdout",
          "output_type": "stream",
          "text": [
            "Batch 960 | Loss: 0.4526 | Learning rate:  0.000116\n"
          ]
        },
        {
          "name": "stderr",
          "output_type": "stream",
          "text": [
            "Start training the model for one epoch...:  91%|█████████▏| 980/1073 [08:03<00:45,  2.05it/s]"
          ]
        },
        {
          "name": "stdout",
          "output_type": "stream",
          "text": [
            "Batch 980 | Loss: 0.4582 | Learning rate:  0.000116\n"
          ]
        },
        {
          "name": "stderr",
          "output_type": "stream",
          "text": [
            "Start training the model for one epoch...:  93%|█████████▎| 1000/1073 [08:13<00:36,  2.01it/s]"
          ]
        },
        {
          "name": "stdout",
          "output_type": "stream",
          "text": [
            "Batch 1000 | Loss: 0.4582 | Learning rate:  0.000117\n"
          ]
        },
        {
          "name": "stderr",
          "output_type": "stream",
          "text": [
            "Start training the model for one epoch...:  95%|█████████▌| 1020/1073 [08:23<00:25,  2.07it/s]"
          ]
        },
        {
          "name": "stdout",
          "output_type": "stream",
          "text": [
            "Batch 1020 | Loss: 0.4499 | Learning rate:  0.000118\n"
          ]
        },
        {
          "name": "stderr",
          "output_type": "stream",
          "text": [
            "Start training the model for one epoch...:  97%|█████████▋| 1040/1073 [08:33<00:16,  2.01it/s]"
          ]
        },
        {
          "name": "stdout",
          "output_type": "stream",
          "text": [
            "Batch 1040 | Loss: 0.4662 | Learning rate:  0.000119\n"
          ]
        },
        {
          "name": "stderr",
          "output_type": "stream",
          "text": [
            "Start training the model for one epoch...:  99%|█████████▉| 1060/1073 [08:42<00:06,  2.17it/s]"
          ]
        },
        {
          "name": "stdout",
          "output_type": "stream",
          "text": [
            "Batch 1060 | Loss: 0.4682 | Learning rate:  0.000119\n"
          ]
        },
        {
          "name": "stderr",
          "output_type": "stream",
          "text": [
            "Start training the model for one epoch...: 100%|██████████| 1073/1073 [08:48<00:00,  2.03it/s]\n",
            "120it [00:36,  3.28it/s]\n"
          ]
        },
        {
          "name": "stdout",
          "output_type": "stream",
          "text": [
            "Epoch: 2, train loss: 0.4585787352844587, val_loss: 0.44014504154523215, val_dice: 0.7846417802639739, val_IoU: 0.6867292268634823\n"
          ]
        },
        {
          "name": "stderr",
          "output_type": "stream",
          "text": [
            "Start training the model for one epoch...:   2%|▏         | 20/1073 [00:15<08:47,  2.00it/s]"
          ]
        },
        {
          "name": "stdout",
          "output_type": "stream",
          "text": [
            "Batch 20 | Loss: 0.4591 | Learning rate:  0.000121\n"
          ]
        },
        {
          "name": "stderr",
          "output_type": "stream",
          "text": [
            "Start training the model for one epoch...:   4%|▎         | 40/1073 [00:25<08:16,  2.08it/s]"
          ]
        },
        {
          "name": "stdout",
          "output_type": "stream",
          "text": [
            "Batch 40 | Loss: 0.4513 | Learning rate:  0.000121\n"
          ]
        },
        {
          "name": "stderr",
          "output_type": "stream",
          "text": [
            "Start training the model for one epoch...:   6%|▌         | 60/1073 [00:35<08:09,  2.07it/s]"
          ]
        },
        {
          "name": "stdout",
          "output_type": "stream",
          "text": [
            "Batch 60 | Loss: 0.4672 | Learning rate:  0.000122\n"
          ]
        },
        {
          "name": "stderr",
          "output_type": "stream",
          "text": [
            "Start training the model for one epoch...:   7%|▋         | 80/1073 [00:44<08:00,  2.07it/s]"
          ]
        },
        {
          "name": "stdout",
          "output_type": "stream",
          "text": [
            "Batch 80 | Loss: 0.4581 | Learning rate:  0.000123\n"
          ]
        },
        {
          "name": "stderr",
          "output_type": "stream",
          "text": [
            "Start training the model for one epoch...:   9%|▉         | 100/1073 [00:54<07:48,  2.08it/s]"
          ]
        },
        {
          "name": "stdout",
          "output_type": "stream",
          "text": [
            "Batch 100 | Loss: 0.4617 | Learning rate:  0.000124\n"
          ]
        },
        {
          "name": "stderr",
          "output_type": "stream",
          "text": [
            "Start training the model for one epoch...:  11%|█         | 120/1073 [01:04<07:35,  2.09it/s]"
          ]
        },
        {
          "name": "stdout",
          "output_type": "stream",
          "text": [
            "Batch 120 | Loss: 0.4585 | Learning rate:  0.000124\n"
          ]
        },
        {
          "name": "stderr",
          "output_type": "stream",
          "text": [
            "Start training the model for one epoch...:  13%|█▎        | 140/1073 [01:14<07:35,  2.05it/s]"
          ]
        },
        {
          "name": "stdout",
          "output_type": "stream",
          "text": [
            "Batch 140 | Loss: 0.4628 | Learning rate:  0.000125\n"
          ]
        },
        {
          "name": "stderr",
          "output_type": "stream",
          "text": [
            "Start training the model for one epoch...:  15%|█▍        | 160/1073 [01:23<07:19,  2.08it/s]"
          ]
        },
        {
          "name": "stdout",
          "output_type": "stream",
          "text": [
            "Batch 160 | Loss: 0.4529 | Learning rate:  0.000126\n"
          ]
        },
        {
          "name": "stderr",
          "output_type": "stream",
          "text": [
            "Start training the model for one epoch...:  17%|█▋        | 180/1073 [01:33<07:20,  2.03it/s]"
          ]
        },
        {
          "name": "stdout",
          "output_type": "stream",
          "text": [
            "Batch 180 | Loss: 0.4556 | Learning rate:  0.000127\n"
          ]
        },
        {
          "name": "stderr",
          "output_type": "stream",
          "text": [
            "Start training the model for one epoch...:  19%|█▊        | 200/1073 [01:43<07:00,  2.08it/s]"
          ]
        },
        {
          "name": "stdout",
          "output_type": "stream",
          "text": [
            "Batch 200 | Loss: 0.4644 | Learning rate:  0.000127\n"
          ]
        },
        {
          "name": "stderr",
          "output_type": "stream",
          "text": [
            "Start training the model for one epoch...:  21%|██        | 220/1073 [01:52<06:57,  2.04it/s]"
          ]
        },
        {
          "name": "stdout",
          "output_type": "stream",
          "text": [
            "Batch 220 | Loss: 0.4582 | Learning rate:  0.000128\n"
          ]
        },
        {
          "name": "stderr",
          "output_type": "stream",
          "text": [
            "Start training the model for one epoch...:  22%|██▏       | 240/1073 [02:02<06:45,  2.05it/s]"
          ]
        },
        {
          "name": "stdout",
          "output_type": "stream",
          "text": [
            "Batch 240 | Loss: 0.4549 | Learning rate:  0.000129\n"
          ]
        },
        {
          "name": "stderr",
          "output_type": "stream",
          "text": [
            "Start training the model for one epoch...:  24%|██▍       | 260/1073 [02:12<06:37,  2.04it/s]"
          ]
        },
        {
          "name": "stdout",
          "output_type": "stream",
          "text": [
            "Batch 260 | Loss: 0.4436 | Learning rate:  0.000130\n"
          ]
        },
        {
          "name": "stderr",
          "output_type": "stream",
          "text": [
            "Start training the model for one epoch...:  26%|██▌       | 280/1073 [02:21<06:29,  2.04it/s]"
          ]
        },
        {
          "name": "stdout",
          "output_type": "stream",
          "text": [
            "Batch 280 | Loss: 0.4291 | Learning rate:  0.000130\n"
          ]
        },
        {
          "name": "stderr",
          "output_type": "stream",
          "text": [
            "Start training the model for one epoch...:  28%|██▊       | 300/1073 [02:31<06:21,  2.02it/s]"
          ]
        },
        {
          "name": "stdout",
          "output_type": "stream",
          "text": [
            "Batch 300 | Loss: 0.4554 | Learning rate:  0.000131\n"
          ]
        },
        {
          "name": "stderr",
          "output_type": "stream",
          "text": [
            "Start training the model for one epoch...:  30%|██▉       | 320/1073 [02:41<06:08,  2.05it/s]"
          ]
        },
        {
          "name": "stdout",
          "output_type": "stream",
          "text": [
            "Batch 320 | Loss: 0.4477 | Learning rate:  0.000132\n"
          ]
        },
        {
          "name": "stderr",
          "output_type": "stream",
          "text": [
            "Start training the model for one epoch...:  32%|███▏      | 340/1073 [02:51<06:01,  2.02it/s]"
          ]
        },
        {
          "name": "stdout",
          "output_type": "stream",
          "text": [
            "Batch 340 | Loss: 0.4611 | Learning rate:  0.000133\n"
          ]
        },
        {
          "name": "stderr",
          "output_type": "stream",
          "text": [
            "Start training the model for one epoch...:  34%|███▎      | 360/1073 [03:01<05:44,  2.07it/s]"
          ]
        },
        {
          "name": "stdout",
          "output_type": "stream",
          "text": [
            "Batch 360 | Loss: 0.4592 | Learning rate:  0.000133\n"
          ]
        },
        {
          "name": "stderr",
          "output_type": "stream",
          "text": [
            "Start training the model for one epoch...:  35%|███▌      | 380/1073 [03:11<05:48,  1.99it/s]"
          ]
        },
        {
          "name": "stdout",
          "output_type": "stream",
          "text": [
            "Batch 380 | Loss: 0.4630 | Learning rate:  0.000134\n"
          ]
        },
        {
          "name": "stderr",
          "output_type": "stream",
          "text": [
            "Start training the model for one epoch...:  37%|███▋      | 400/1073 [03:20<05:27,  2.05it/s]"
          ]
        },
        {
          "name": "stdout",
          "output_type": "stream",
          "text": [
            "Batch 400 | Loss: 0.4717 | Learning rate:  0.000135\n"
          ]
        },
        {
          "name": "stderr",
          "output_type": "stream",
          "text": [
            "Start training the model for one epoch...:  39%|███▉      | 420/1073 [03:30<05:23,  2.02it/s]"
          ]
        },
        {
          "name": "stdout",
          "output_type": "stream",
          "text": [
            "Batch 420 | Loss: 0.4451 | Learning rate:  0.000136\n"
          ]
        },
        {
          "name": "stderr",
          "output_type": "stream",
          "text": [
            "Start training the model for one epoch...:  41%|████      | 440/1073 [03:40<05:09,  2.04it/s]"
          ]
        },
        {
          "name": "stdout",
          "output_type": "stream",
          "text": [
            "Batch 440 | Loss: 0.4603 | Learning rate:  0.000136\n"
          ]
        },
        {
          "name": "stderr",
          "output_type": "stream",
          "text": [
            "Start training the model for one epoch...:  43%|████▎     | 460/1073 [03:50<05:00,  2.04it/s]"
          ]
        },
        {
          "name": "stdout",
          "output_type": "stream",
          "text": [
            "Batch 460 | Loss: 0.4557 | Learning rate:  0.000137\n"
          ]
        },
        {
          "name": "stderr",
          "output_type": "stream",
          "text": [
            "Start training the model for one epoch...:  45%|████▍     | 480/1073 [03:59<04:52,  2.03it/s]"
          ]
        },
        {
          "name": "stdout",
          "output_type": "stream",
          "text": [
            "Batch 480 | Loss: 0.4559 | Learning rate:  0.000138\n"
          ]
        },
        {
          "name": "stderr",
          "output_type": "stream",
          "text": [
            "Start training the model for one epoch...:  47%|████▋     | 500/1073 [04:09<04:35,  2.08it/s]"
          ]
        },
        {
          "name": "stdout",
          "output_type": "stream",
          "text": [
            "Batch 500 | Loss: 0.4482 | Learning rate:  0.000139\n"
          ]
        },
        {
          "name": "stderr",
          "output_type": "stream",
          "text": [
            "Start training the model for one epoch...:  48%|████▊     | 520/1073 [04:19<04:25,  2.08it/s]"
          ]
        },
        {
          "name": "stdout",
          "output_type": "stream",
          "text": [
            "Batch 520 | Loss: 0.4661 | Learning rate:  0.000139\n"
          ]
        },
        {
          "name": "stderr",
          "output_type": "stream",
          "text": [
            "Start training the model for one epoch...:  50%|█████     | 540/1073 [04:29<04:23,  2.02it/s]"
          ]
        },
        {
          "name": "stdout",
          "output_type": "stream",
          "text": [
            "Batch 540 | Loss: 0.4470 | Learning rate:  0.000140\n"
          ]
        },
        {
          "name": "stderr",
          "output_type": "stream",
          "text": [
            "Start training the model for one epoch...:  52%|█████▏    | 560/1073 [04:38<04:12,  2.03it/s]"
          ]
        },
        {
          "name": "stdout",
          "output_type": "stream",
          "text": [
            "Batch 560 | Loss: 0.4748 | Learning rate:  0.000141\n"
          ]
        },
        {
          "name": "stderr",
          "output_type": "stream",
          "text": [
            "Start training the model for one epoch...:  54%|█████▍    | 580/1073 [04:48<03:59,  2.06it/s]"
          ]
        },
        {
          "name": "stdout",
          "output_type": "stream",
          "text": [
            "Batch 580 | Loss: 0.4506 | Learning rate:  0.000142\n"
          ]
        },
        {
          "name": "stderr",
          "output_type": "stream",
          "text": [
            "Start training the model for one epoch...:  56%|█████▌    | 600/1073 [04:58<03:52,  2.03it/s]"
          ]
        },
        {
          "name": "stdout",
          "output_type": "stream",
          "text": [
            "Batch 600 | Loss: 0.4509 | Learning rate:  0.000142\n"
          ]
        },
        {
          "name": "stderr",
          "output_type": "stream",
          "text": [
            "Start training the model for one epoch...:  58%|█████▊    | 620/1073 [05:08<03:37,  2.08it/s]"
          ]
        },
        {
          "name": "stdout",
          "output_type": "stream",
          "text": [
            "Batch 620 | Loss: 0.4501 | Learning rate:  0.000143\n"
          ]
        },
        {
          "name": "stderr",
          "output_type": "stream",
          "text": [
            "Start training the model for one epoch...:  60%|█████▉    | 640/1073 [05:17<03:33,  2.03it/s]"
          ]
        },
        {
          "name": "stdout",
          "output_type": "stream",
          "text": [
            "Batch 640 | Loss: 0.4508 | Learning rate:  0.000144\n"
          ]
        },
        {
          "name": "stderr",
          "output_type": "stream",
          "text": [
            "Start training the model for one epoch...:  62%|██████▏   | 660/1073 [05:27<03:17,  2.09it/s]"
          ]
        },
        {
          "name": "stdout",
          "output_type": "stream",
          "text": [
            "Batch 660 | Loss: 0.4757 | Learning rate:  0.000145\n"
          ]
        },
        {
          "name": "stderr",
          "output_type": "stream",
          "text": [
            "Start training the model for one epoch...:  63%|██████▎   | 680/1073 [05:37<03:10,  2.06it/s]"
          ]
        },
        {
          "name": "stdout",
          "output_type": "stream",
          "text": [
            "Batch 680 | Loss: 0.4485 | Learning rate:  0.000145\n"
          ]
        },
        {
          "name": "stderr",
          "output_type": "stream",
          "text": [
            "Start training the model for one epoch...:  65%|██████▌   | 700/1073 [05:47<02:59,  2.08it/s]"
          ]
        },
        {
          "name": "stdout",
          "output_type": "stream",
          "text": [
            "Batch 700 | Loss: 0.4583 | Learning rate:  0.000146\n"
          ]
        },
        {
          "name": "stderr",
          "output_type": "stream",
          "text": [
            "Start training the model for one epoch...:  67%|██████▋   | 720/1073 [05:56<02:54,  2.03it/s]"
          ]
        },
        {
          "name": "stdout",
          "output_type": "stream",
          "text": [
            "Batch 720 | Loss: 0.4565 | Learning rate:  0.000147\n"
          ]
        },
        {
          "name": "stderr",
          "output_type": "stream",
          "text": [
            "Start training the model for one epoch...:  69%|██████▉   | 740/1073 [06:06<02:38,  2.09it/s]"
          ]
        },
        {
          "name": "stdout",
          "output_type": "stream",
          "text": [
            "Batch 740 | Loss: 0.4618 | Learning rate:  0.000148\n"
          ]
        },
        {
          "name": "stderr",
          "output_type": "stream",
          "text": [
            "Start training the model for one epoch...:  71%|███████   | 760/1073 [06:16<02:40,  1.95it/s]"
          ]
        },
        {
          "name": "stdout",
          "output_type": "stream",
          "text": [
            "Batch 760 | Loss: 0.4726 | Learning rate:  0.000148\n"
          ]
        },
        {
          "name": "stderr",
          "output_type": "stream",
          "text": [
            "Start training the model for one epoch...:  73%|███████▎  | 780/1073 [06:26<02:22,  2.06it/s]"
          ]
        },
        {
          "name": "stdout",
          "output_type": "stream",
          "text": [
            "Batch 780 | Loss: 0.4684 | Learning rate:  0.000149\n"
          ]
        },
        {
          "name": "stderr",
          "output_type": "stream",
          "text": [
            "Start training the model for one epoch...:  75%|███████▍  | 800/1073 [06:36<02:13,  2.04it/s]"
          ]
        },
        {
          "name": "stdout",
          "output_type": "stream",
          "text": [
            "Batch 800 | Loss: 0.4686 | Learning rate:  0.000150\n"
          ]
        },
        {
          "name": "stderr",
          "output_type": "stream",
          "text": [
            "Start training the model for one epoch...:  76%|███████▋  | 820/1073 [06:46<02:04,  2.04it/s]"
          ]
        },
        {
          "name": "stdout",
          "output_type": "stream",
          "text": [
            "Batch 820 | Loss: 0.4448 | Learning rate:  0.000151\n"
          ]
        },
        {
          "name": "stderr",
          "output_type": "stream",
          "text": [
            "Start training the model for one epoch...:  78%|███████▊  | 840/1073 [06:55<01:54,  2.03it/s]"
          ]
        },
        {
          "name": "stdout",
          "output_type": "stream",
          "text": [
            "Batch 840 | Loss: 0.4611 | Learning rate:  0.000151\n"
          ]
        },
        {
          "name": "stderr",
          "output_type": "stream",
          "text": [
            "Start training the model for one epoch...:  80%|████████  | 860/1073 [07:05<01:46,  2.01it/s]"
          ]
        },
        {
          "name": "stdout",
          "output_type": "stream",
          "text": [
            "Batch 860 | Loss: 0.4461 | Learning rate:  0.000152\n"
          ]
        },
        {
          "name": "stderr",
          "output_type": "stream",
          "text": [
            "Start training the model for one epoch...:  82%|████████▏ | 880/1073 [07:15<01:34,  2.04it/s]"
          ]
        },
        {
          "name": "stdout",
          "output_type": "stream",
          "text": [
            "Batch 880 | Loss: 0.4562 | Learning rate:  0.000153\n"
          ]
        },
        {
          "name": "stderr",
          "output_type": "stream",
          "text": [
            "Start training the model for one epoch...:  84%|████████▍ | 900/1073 [07:25<01:24,  2.05it/s]"
          ]
        },
        {
          "name": "stdout",
          "output_type": "stream",
          "text": [
            "Batch 900 | Loss: 0.4433 | Learning rate:  0.000154\n"
          ]
        },
        {
          "name": "stderr",
          "output_type": "stream",
          "text": [
            "Start training the model for one epoch...:  86%|████████▌ | 920/1073 [07:35<01:15,  2.02it/s]"
          ]
        },
        {
          "name": "stdout",
          "output_type": "stream",
          "text": [
            "Batch 920 | Loss: 0.4577 | Learning rate:  0.000154\n"
          ]
        },
        {
          "name": "stderr",
          "output_type": "stream",
          "text": [
            "Start training the model for one epoch...:  88%|████████▊ | 940/1073 [07:44<01:05,  2.03it/s]"
          ]
        },
        {
          "name": "stdout",
          "output_type": "stream",
          "text": [
            "Batch 940 | Loss: 0.4599 | Learning rate:  0.000155\n"
          ]
        },
        {
          "name": "stderr",
          "output_type": "stream",
          "text": [
            "Start training the model for one epoch...:  89%|████████▉ | 960/1073 [07:54<00:55,  2.03it/s]"
          ]
        },
        {
          "name": "stdout",
          "output_type": "stream",
          "text": [
            "Batch 960 | Loss: 0.4558 | Learning rate:  0.000156\n"
          ]
        },
        {
          "name": "stderr",
          "output_type": "stream",
          "text": [
            "Start training the model for one epoch...:  91%|█████████▏| 980/1073 [08:04<00:44,  2.08it/s]"
          ]
        },
        {
          "name": "stdout",
          "output_type": "stream",
          "text": [
            "Batch 980 | Loss: 0.4453 | Learning rate:  0.000156\n"
          ]
        },
        {
          "name": "stderr",
          "output_type": "stream",
          "text": [
            "Start training the model for one epoch...:  93%|█████████▎| 1000/1073 [08:14<00:36,  2.02it/s]"
          ]
        },
        {
          "name": "stdout",
          "output_type": "stream",
          "text": [
            "Batch 1000 | Loss: 0.4370 | Learning rate:  0.000157\n"
          ]
        },
        {
          "name": "stderr",
          "output_type": "stream",
          "text": [
            "Start training the model for one epoch...:  95%|█████████▌| 1020/1073 [08:23<00:25,  2.07it/s]"
          ]
        },
        {
          "name": "stdout",
          "output_type": "stream",
          "text": [
            "Batch 1020 | Loss: 0.4675 | Learning rate:  0.000158\n"
          ]
        },
        {
          "name": "stderr",
          "output_type": "stream",
          "text": [
            "Start training the model for one epoch...:  97%|█████████▋| 1040/1073 [08:33<00:16,  2.01it/s]"
          ]
        },
        {
          "name": "stdout",
          "output_type": "stream",
          "text": [
            "Batch 1040 | Loss: 0.4613 | Learning rate:  0.000159\n"
          ]
        },
        {
          "name": "stderr",
          "output_type": "stream",
          "text": [
            "Start training the model for one epoch...:  99%|█████████▉| 1060/1073 [08:43<00:06,  2.16it/s]"
          ]
        },
        {
          "name": "stdout",
          "output_type": "stream",
          "text": [
            "Batch 1060 | Loss: 0.4486 | Learning rate:  0.000159\n"
          ]
        },
        {
          "name": "stderr",
          "output_type": "stream",
          "text": [
            "Start training the model for one epoch...: 100%|██████████| 1073/1073 [08:49<00:00,  2.03it/s]\n",
            "120it [00:36,  3.28it/s]\n"
          ]
        },
        {
          "name": "stdout",
          "output_type": "stream",
          "text": [
            "Epoch: 3, train loss: 0.454571016348086, val_loss: 0.4405212437113126, val_dice: 0.782841358207063, val_IoU: 0.6865594296638665\n"
          ]
        },
        {
          "name": "stderr",
          "output_type": "stream",
          "text": [
            "Start training the model for one epoch...:   2%|▏         | 20/1073 [00:15<08:47,  2.00it/s]"
          ]
        },
        {
          "name": "stdout",
          "output_type": "stream",
          "text": [
            "Batch 20 | Loss: 0.4686 | Learning rate:  0.000161\n"
          ]
        },
        {
          "name": "stderr",
          "output_type": "stream",
          "text": [
            "Start training the model for one epoch...:   4%|▎         | 40/1073 [00:25<08:23,  2.05it/s]"
          ]
        },
        {
          "name": "stdout",
          "output_type": "stream",
          "text": [
            "Batch 40 | Loss: 0.4501 | Learning rate:  0.000161\n"
          ]
        },
        {
          "name": "stderr",
          "output_type": "stream",
          "text": [
            "Start training the model for one epoch...:   6%|▌         | 60/1073 [00:34<08:06,  2.08it/s]"
          ]
        },
        {
          "name": "stdout",
          "output_type": "stream",
          "text": [
            "Batch 60 | Loss: 0.4587 | Learning rate:  0.000162\n"
          ]
        },
        {
          "name": "stderr",
          "output_type": "stream",
          "text": [
            "Start training the model for one epoch...:   7%|▋         | 80/1073 [00:44<08:02,  2.06it/s]"
          ]
        },
        {
          "name": "stdout",
          "output_type": "stream",
          "text": [
            "Batch 80 | Loss: 0.4372 | Learning rate:  0.000163\n"
          ]
        },
        {
          "name": "stderr",
          "output_type": "stream",
          "text": [
            "Start training the model for one epoch...:   9%|▉         | 100/1073 [00:54<08:01,  2.02it/s]"
          ]
        },
        {
          "name": "stdout",
          "output_type": "stream",
          "text": [
            "Batch 100 | Loss: 0.4686 | Learning rate:  0.000164\n"
          ]
        },
        {
          "name": "stderr",
          "output_type": "stream",
          "text": [
            "Start training the model for one epoch...:  11%|█         | 120/1073 [01:04<07:44,  2.05it/s]"
          ]
        },
        {
          "name": "stdout",
          "output_type": "stream",
          "text": [
            "Batch 120 | Loss: 0.4446 | Learning rate:  0.000164\n"
          ]
        },
        {
          "name": "stderr",
          "output_type": "stream",
          "text": [
            "Start training the model for one epoch...:  13%|█▎        | 140/1073 [01:13<07:39,  2.03it/s]"
          ]
        },
        {
          "name": "stdout",
          "output_type": "stream",
          "text": [
            "Batch 140 | Loss: 0.4447 | Learning rate:  0.000165\n"
          ]
        },
        {
          "name": "stderr",
          "output_type": "stream",
          "text": [
            "Start training the model for one epoch...:  15%|█▍        | 160/1073 [01:23<07:19,  2.08it/s]"
          ]
        },
        {
          "name": "stdout",
          "output_type": "stream",
          "text": [
            "Batch 160 | Loss: 0.4291 | Learning rate:  0.000166\n"
          ]
        },
        {
          "name": "stderr",
          "output_type": "stream",
          "text": [
            "Start training the model for one epoch...:  17%|█▋        | 180/1073 [01:33<07:15,  2.05it/s]"
          ]
        },
        {
          "name": "stdout",
          "output_type": "stream",
          "text": [
            "Batch 180 | Loss: 0.4465 | Learning rate:  0.000167\n"
          ]
        },
        {
          "name": "stderr",
          "output_type": "stream",
          "text": [
            "Start training the model for one epoch...:  19%|█▊        | 200/1073 [01:42<06:55,  2.10it/s]"
          ]
        },
        {
          "name": "stdout",
          "output_type": "stream",
          "text": [
            "Batch 200 | Loss: 0.4478 | Learning rate:  0.000167\n"
          ]
        },
        {
          "name": "stderr",
          "output_type": "stream",
          "text": [
            "Start training the model for one epoch...:  21%|██        | 220/1073 [01:52<06:56,  2.05it/s]"
          ]
        },
        {
          "name": "stdout",
          "output_type": "stream",
          "text": [
            "Batch 220 | Loss: 0.4713 | Learning rate:  0.000168\n"
          ]
        },
        {
          "name": "stderr",
          "output_type": "stream",
          "text": [
            "Start training the model for one epoch...:  22%|██▏       | 240/1073 [02:02<06:49,  2.04it/s]"
          ]
        },
        {
          "name": "stdout",
          "output_type": "stream",
          "text": [
            "Batch 240 | Loss: 0.4523 | Learning rate:  0.000169\n"
          ]
        },
        {
          "name": "stderr",
          "output_type": "stream",
          "text": [
            "Start training the model for one epoch...:  24%|██▍       | 260/1073 [02:12<06:42,  2.02it/s]"
          ]
        },
        {
          "name": "stdout",
          "output_type": "stream",
          "text": [
            "Batch 260 | Loss: 0.4401 | Learning rate:  0.000170\n"
          ]
        },
        {
          "name": "stderr",
          "output_type": "stream",
          "text": [
            "Start training the model for one epoch...:  26%|██▌       | 280/1073 [02:21<06:27,  2.04it/s]"
          ]
        },
        {
          "name": "stdout",
          "output_type": "stream",
          "text": [
            "Batch 280 | Loss: 0.4475 | Learning rate:  0.000170\n"
          ]
        },
        {
          "name": "stderr",
          "output_type": "stream",
          "text": [
            "Start training the model for one epoch...:  28%|██▊       | 300/1073 [02:31<06:16,  2.05it/s]"
          ]
        },
        {
          "name": "stdout",
          "output_type": "stream",
          "text": [
            "Batch 300 | Loss: 0.4563 | Learning rate:  0.000171\n"
          ]
        },
        {
          "name": "stderr",
          "output_type": "stream",
          "text": [
            "Start training the model for one epoch...:  30%|██▉       | 320/1073 [02:41<05:58,  2.10it/s]"
          ]
        },
        {
          "name": "stdout",
          "output_type": "stream",
          "text": [
            "Batch 320 | Loss: 0.4499 | Learning rate:  0.000172\n"
          ]
        },
        {
          "name": "stderr",
          "output_type": "stream",
          "text": [
            "Start training the model for one epoch...:  32%|███▏      | 340/1073 [02:51<06:02,  2.02it/s]"
          ]
        },
        {
          "name": "stdout",
          "output_type": "stream",
          "text": [
            "Batch 340 | Loss: 0.4647 | Learning rate:  0.000173\n"
          ]
        },
        {
          "name": "stderr",
          "output_type": "stream",
          "text": [
            "Start training the model for one epoch...:  34%|███▎      | 360/1073 [03:00<05:46,  2.06it/s]"
          ]
        },
        {
          "name": "stdout",
          "output_type": "stream",
          "text": [
            "Batch 360 | Loss: 0.4578 | Learning rate:  0.000173\n"
          ]
        },
        {
          "name": "stderr",
          "output_type": "stream",
          "text": [
            "Start training the model for one epoch...:  35%|███▌      | 380/1073 [03:10<05:41,  2.03it/s]"
          ]
        },
        {
          "name": "stdout",
          "output_type": "stream",
          "text": [
            "Batch 380 | Loss: 0.4498 | Learning rate:  0.000174\n"
          ]
        },
        {
          "name": "stderr",
          "output_type": "stream",
          "text": [
            "Start training the model for one epoch...:  37%|███▋      | 400/1073 [03:20<05:24,  2.07it/s]"
          ]
        },
        {
          "name": "stdout",
          "output_type": "stream",
          "text": [
            "Batch 400 | Loss: 0.4583 | Learning rate:  0.000175\n"
          ]
        },
        {
          "name": "stderr",
          "output_type": "stream",
          "text": [
            "Start training the model for one epoch...:  39%|███▉      | 420/1073 [03:30<05:20,  2.04it/s]"
          ]
        },
        {
          "name": "stdout",
          "output_type": "stream",
          "text": [
            "Batch 420 | Loss: 0.4519 | Learning rate:  0.000176\n"
          ]
        },
        {
          "name": "stderr",
          "output_type": "stream",
          "text": [
            "Start training the model for one epoch...:  41%|████      | 440/1073 [03:39<05:07,  2.06it/s]"
          ]
        },
        {
          "name": "stdout",
          "output_type": "stream",
          "text": [
            "Batch 440 | Loss: 0.4524 | Learning rate:  0.000176\n"
          ]
        },
        {
          "name": "stderr",
          "output_type": "stream",
          "text": [
            "Start training the model for one epoch...:  43%|████▎     | 460/1073 [03:49<05:04,  2.01it/s]"
          ]
        },
        {
          "name": "stdout",
          "output_type": "stream",
          "text": [
            "Batch 460 | Loss: 0.4497 | Learning rate:  0.000177\n"
          ]
        },
        {
          "name": "stderr",
          "output_type": "stream",
          "text": [
            "Start training the model for one epoch...:  45%|████▍     | 480/1073 [03:59<04:42,  2.10it/s]"
          ]
        },
        {
          "name": "stdout",
          "output_type": "stream",
          "text": [
            "Batch 480 | Loss: 0.4499 | Learning rate:  0.000178\n"
          ]
        },
        {
          "name": "stderr",
          "output_type": "stream",
          "text": [
            "Start training the model for one epoch...:  47%|████▋     | 500/1073 [04:08<04:42,  2.03it/s]"
          ]
        },
        {
          "name": "stdout",
          "output_type": "stream",
          "text": [
            "Batch 500 | Loss: 0.4665 | Learning rate:  0.000179\n"
          ]
        },
        {
          "name": "stderr",
          "output_type": "stream",
          "text": [
            "Start training the model for one epoch...:  48%|████▊     | 520/1073 [04:18<04:26,  2.07it/s]"
          ]
        },
        {
          "name": "stdout",
          "output_type": "stream",
          "text": [
            "Batch 520 | Loss: 0.4583 | Learning rate:  0.000179\n"
          ]
        },
        {
          "name": "stderr",
          "output_type": "stream",
          "text": [
            "Start training the model for one epoch...:  50%|█████     | 540/1073 [04:28<04:21,  2.04it/s]"
          ]
        },
        {
          "name": "stdout",
          "output_type": "stream",
          "text": [
            "Batch 540 | Loss: 0.4264 | Learning rate:  0.000180\n"
          ]
        },
        {
          "name": "stderr",
          "output_type": "stream",
          "text": [
            "Start training the model for one epoch...:  52%|█████▏    | 560/1073 [04:38<04:05,  2.09it/s]"
          ]
        },
        {
          "name": "stdout",
          "output_type": "stream",
          "text": [
            "Batch 560 | Loss: 0.4615 | Learning rate:  0.000181\n"
          ]
        },
        {
          "name": "stderr",
          "output_type": "stream",
          "text": [
            "Start training the model for one epoch...:  54%|█████▍    | 580/1073 [04:47<04:03,  2.02it/s]"
          ]
        },
        {
          "name": "stdout",
          "output_type": "stream",
          "text": [
            "Batch 580 | Loss: 0.4491 | Learning rate:  0.000182\n"
          ]
        },
        {
          "name": "stderr",
          "output_type": "stream",
          "text": [
            "Start training the model for one epoch...:  56%|█████▌    | 600/1073 [04:57<03:52,  2.03it/s]"
          ]
        },
        {
          "name": "stdout",
          "output_type": "stream",
          "text": [
            "Batch 600 | Loss: 0.4698 | Learning rate:  0.000182\n"
          ]
        },
        {
          "name": "stderr",
          "output_type": "stream",
          "text": [
            "Start training the model for one epoch...:  58%|█████▊    | 620/1073 [05:07<03:40,  2.05it/s]"
          ]
        },
        {
          "name": "stdout",
          "output_type": "stream",
          "text": [
            "Batch 620 | Loss: 0.4546 | Learning rate:  0.000183\n"
          ]
        },
        {
          "name": "stderr",
          "output_type": "stream",
          "text": [
            "Start training the model for one epoch...:  60%|█████▉    | 640/1073 [05:17<03:26,  2.10it/s]"
          ]
        },
        {
          "name": "stdout",
          "output_type": "stream",
          "text": [
            "Batch 640 | Loss: 0.4690 | Learning rate:  0.000184\n"
          ]
        },
        {
          "name": "stderr",
          "output_type": "stream",
          "text": [
            "Start training the model for one epoch...:  62%|██████▏   | 660/1073 [05:26<03:24,  2.02it/s]"
          ]
        },
        {
          "name": "stdout",
          "output_type": "stream",
          "text": [
            "Batch 660 | Loss: 0.4462 | Learning rate:  0.000185\n"
          ]
        },
        {
          "name": "stderr",
          "output_type": "stream",
          "text": [
            "Start training the model for one epoch...:  63%|██████▎   | 680/1073 [05:36<03:09,  2.07it/s]"
          ]
        },
        {
          "name": "stdout",
          "output_type": "stream",
          "text": [
            "Batch 680 | Loss: 0.4649 | Learning rate:  0.000185\n"
          ]
        },
        {
          "name": "stderr",
          "output_type": "stream",
          "text": [
            "Start training the model for one epoch...:  65%|██████▌   | 700/1073 [05:46<03:05,  2.01it/s]"
          ]
        },
        {
          "name": "stdout",
          "output_type": "stream",
          "text": [
            "Batch 700 | Loss: 0.4518 | Learning rate:  0.000186\n"
          ]
        },
        {
          "name": "stderr",
          "output_type": "stream",
          "text": [
            "Start training the model for one epoch...:  67%|██████▋   | 720/1073 [05:56<02:53,  2.03it/s]"
          ]
        },
        {
          "name": "stdout",
          "output_type": "stream",
          "text": [
            "Batch 720 | Loss: 0.4600 | Learning rate:  0.000187\n"
          ]
        },
        {
          "name": "stderr",
          "output_type": "stream",
          "text": [
            "Start training the model for one epoch...:  69%|██████▉   | 740/1073 [06:05<02:42,  2.05it/s]"
          ]
        },
        {
          "name": "stdout",
          "output_type": "stream",
          "text": [
            "Batch 740 | Loss: 0.4324 | Learning rate:  0.000188\n"
          ]
        },
        {
          "name": "stderr",
          "output_type": "stream",
          "text": [
            "Start training the model for one epoch...:  71%|███████   | 760/1073 [06:15<02:32,  2.05it/s]"
          ]
        },
        {
          "name": "stdout",
          "output_type": "stream",
          "text": [
            "Batch 760 | Loss: 0.4490 | Learning rate:  0.000188\n"
          ]
        },
        {
          "name": "stderr",
          "output_type": "stream",
          "text": [
            "Start training the model for one epoch...:  73%|███████▎  | 780/1073 [06:25<02:24,  2.03it/s]"
          ]
        },
        {
          "name": "stdout",
          "output_type": "stream",
          "text": [
            "Batch 780 | Loss: 0.4491 | Learning rate:  0.000189\n"
          ]
        },
        {
          "name": "stderr",
          "output_type": "stream",
          "text": [
            "Start training the model for one epoch...:  75%|███████▍  | 800/1073 [06:35<02:10,  2.09it/s]"
          ]
        },
        {
          "name": "stdout",
          "output_type": "stream",
          "text": [
            "Batch 800 | Loss: 0.4597 | Learning rate:  0.000190\n"
          ]
        },
        {
          "name": "stderr",
          "output_type": "stream",
          "text": [
            "Start training the model for one epoch...:  76%|███████▋  | 820/1073 [06:45<02:07,  1.99it/s]"
          ]
        },
        {
          "name": "stdout",
          "output_type": "stream",
          "text": [
            "Batch 820 | Loss: 0.4609 | Learning rate:  0.000191\n"
          ]
        },
        {
          "name": "stderr",
          "output_type": "stream",
          "text": [
            "Start training the model for one epoch...:  78%|███████▊  | 840/1073 [06:54<01:53,  2.05it/s]"
          ]
        },
        {
          "name": "stdout",
          "output_type": "stream",
          "text": [
            "Batch 840 | Loss: 0.4603 | Learning rate:  0.000191\n"
          ]
        },
        {
          "name": "stderr",
          "output_type": "stream",
          "text": [
            "Start training the model for one epoch...:  80%|████████  | 860/1073 [07:04<01:46,  2.00it/s]"
          ]
        },
        {
          "name": "stdout",
          "output_type": "stream",
          "text": [
            "Batch 860 | Loss: 0.4599 | Learning rate:  0.000192\n"
          ]
        },
        {
          "name": "stderr",
          "output_type": "stream",
          "text": [
            "Start training the model for one epoch...:  82%|████████▏ | 880/1073 [07:14<01:34,  2.05it/s]"
          ]
        },
        {
          "name": "stdout",
          "output_type": "stream",
          "text": [
            "Batch 880 | Loss: 0.4587 | Learning rate:  0.000193\n"
          ]
        },
        {
          "name": "stderr",
          "output_type": "stream",
          "text": [
            "Start training the model for one epoch...:  84%|████████▍ | 900/1073 [07:24<01:26,  2.01it/s]"
          ]
        },
        {
          "name": "stdout",
          "output_type": "stream",
          "text": [
            "Batch 900 | Loss: 0.4485 | Learning rate:  0.000194\n"
          ]
        },
        {
          "name": "stderr",
          "output_type": "stream",
          "text": [
            "Start training the model for one epoch...:  86%|████████▌ | 920/1073 [07:34<01:15,  2.04it/s]"
          ]
        },
        {
          "name": "stdout",
          "output_type": "stream",
          "text": [
            "Batch 920 | Loss: 0.4503 | Learning rate:  0.000194\n"
          ]
        },
        {
          "name": "stderr",
          "output_type": "stream",
          "text": [
            "Start training the model for one epoch...:  88%|████████▊ | 940/1073 [07:44<01:05,  2.02it/s]"
          ]
        },
        {
          "name": "stdout",
          "output_type": "stream",
          "text": [
            "Batch 940 | Loss: 0.4538 | Learning rate:  0.000195\n"
          ]
        },
        {
          "name": "stderr",
          "output_type": "stream",
          "text": [
            "Start training the model for one epoch...:  89%|████████▉ | 960/1073 [07:53<00:55,  2.03it/s]"
          ]
        },
        {
          "name": "stdout",
          "output_type": "stream",
          "text": [
            "Batch 960 | Loss: 0.4629 | Learning rate:  0.000196\n"
          ]
        },
        {
          "name": "stderr",
          "output_type": "stream",
          "text": [
            "Start training the model for one epoch...:  91%|█████████▏| 980/1073 [08:03<00:44,  2.07it/s]"
          ]
        },
        {
          "name": "stdout",
          "output_type": "stream",
          "text": [
            "Batch 980 | Loss: 0.4562 | Learning rate:  0.000196\n"
          ]
        },
        {
          "name": "stderr",
          "output_type": "stream",
          "text": [
            "Start training the model for one epoch...:  93%|█████████▎| 1000/1073 [08:13<00:35,  2.04it/s]"
          ]
        },
        {
          "name": "stdout",
          "output_type": "stream",
          "text": [
            "Batch 1000 | Loss: 0.4404 | Learning rate:  0.000197\n"
          ]
        },
        {
          "name": "stderr",
          "output_type": "stream",
          "text": [
            "Start training the model for one epoch...:  95%|█████████▌| 1020/1073 [08:23<00:26,  2.04it/s]"
          ]
        },
        {
          "name": "stdout",
          "output_type": "stream",
          "text": [
            "Batch 1020 | Loss: 0.4648 | Learning rate:  0.000198\n"
          ]
        },
        {
          "name": "stderr",
          "output_type": "stream",
          "text": [
            "Start training the model for one epoch...:  97%|█████████▋| 1040/1073 [08:32<00:16,  2.06it/s]"
          ]
        },
        {
          "name": "stdout",
          "output_type": "stream",
          "text": [
            "Batch 1040 | Loss: 0.4407 | Learning rate:  0.000199\n"
          ]
        },
        {
          "name": "stderr",
          "output_type": "stream",
          "text": [
            "Start training the model for one epoch...:  99%|█████████▉| 1060/1073 [08:42<00:06,  2.16it/s]"
          ]
        },
        {
          "name": "stdout",
          "output_type": "stream",
          "text": [
            "Batch 1060 | Loss: 0.4346 | Learning rate:  0.000199\n"
          ]
        },
        {
          "name": "stderr",
          "output_type": "stream",
          "text": [
            "Start training the model for one epoch...: 100%|██████████| 1073/1073 [08:48<00:00,  2.03it/s]\n",
            "120it [00:36,  3.29it/s]\n"
          ]
        },
        {
          "name": "stdout",
          "output_type": "stream",
          "text": [
            "Epoch: 4, train loss: 0.4531461100709405, val_loss: 0.44281952927509943, val_dice: 0.7578261686915895, val_IoU: 0.6574047501460317\n"
          ]
        },
        {
          "name": "stderr",
          "output_type": "stream",
          "text": [
            "Start training the model for one epoch...:   2%|▏         | 20/1073 [00:16<08:51,  1.98it/s]"
          ]
        },
        {
          "name": "stdout",
          "output_type": "stream",
          "text": [
            "Batch 20 | Loss: 0.4511 | Learning rate:  0.000200\n"
          ]
        },
        {
          "name": "stderr",
          "output_type": "stream",
          "text": [
            "Start training the model for one epoch...:   4%|▎         | 40/1073 [00:26<08:33,  2.01it/s]"
          ]
        },
        {
          "name": "stdout",
          "output_type": "stream",
          "text": [
            "Batch 40 | Loss: 0.4553 | Learning rate:  0.000200\n"
          ]
        },
        {
          "name": "stderr",
          "output_type": "stream",
          "text": [
            "Start training the model for one epoch...:   6%|▌         | 60/1073 [00:35<08:05,  2.08it/s]"
          ]
        },
        {
          "name": "stdout",
          "output_type": "stream",
          "text": [
            "Batch 60 | Loss: 0.4493 | Learning rate:  0.000200\n"
          ]
        },
        {
          "name": "stderr",
          "output_type": "stream",
          "text": [
            "Start training the model for one epoch...:   7%|▋         | 80/1073 [00:45<08:11,  2.02it/s]"
          ]
        },
        {
          "name": "stdout",
          "output_type": "stream",
          "text": [
            "Batch 80 | Loss: 0.4697 | Learning rate:  0.000200\n"
          ]
        },
        {
          "name": "stderr",
          "output_type": "stream",
          "text": [
            "Start training the model for one epoch...:   9%|▉         | 100/1073 [00:55<07:40,  2.11it/s]"
          ]
        },
        {
          "name": "stdout",
          "output_type": "stream",
          "text": [
            "Batch 100 | Loss: 0.4426 | Learning rate:  0.000200\n"
          ]
        },
        {
          "name": "stderr",
          "output_type": "stream",
          "text": [
            "Start training the model for one epoch...:  11%|█         | 120/1073 [01:05<07:50,  2.02it/s]"
          ]
        },
        {
          "name": "stdout",
          "output_type": "stream",
          "text": [
            "Batch 120 | Loss: 0.4546 | Learning rate:  0.000200\n"
          ]
        },
        {
          "name": "stderr",
          "output_type": "stream",
          "text": [
            "Start training the model for one epoch...:  13%|█▎        | 140/1073 [01:15<07:38,  2.03it/s]"
          ]
        },
        {
          "name": "stdout",
          "output_type": "stream",
          "text": [
            "Batch 140 | Loss: 0.4655 | Learning rate:  0.000200\n"
          ]
        },
        {
          "name": "stderr",
          "output_type": "stream",
          "text": [
            "Start training the model for one epoch...:  15%|█▍        | 160/1073 [01:24<07:32,  2.02it/s]"
          ]
        },
        {
          "name": "stdout",
          "output_type": "stream",
          "text": [
            "Batch 160 | Loss: 0.4532 | Learning rate:  0.000200\n"
          ]
        },
        {
          "name": "stderr",
          "output_type": "stream",
          "text": [
            "Start training the model for one epoch...:  17%|█▋        | 180/1073 [01:34<07:11,  2.07it/s]"
          ]
        },
        {
          "name": "stdout",
          "output_type": "stream",
          "text": [
            "Batch 180 | Loss: 0.4442 | Learning rate:  0.000200\n"
          ]
        },
        {
          "name": "stderr",
          "output_type": "stream",
          "text": [
            "Start training the model for one epoch...:  19%|█▊        | 200/1073 [01:44<07:13,  2.01it/s]"
          ]
        },
        {
          "name": "stdout",
          "output_type": "stream",
          "text": [
            "Batch 200 | Loss: 0.4618 | Learning rate:  0.000200\n"
          ]
        },
        {
          "name": "stderr",
          "output_type": "stream",
          "text": [
            "Start training the model for one epoch...:  21%|██        | 220/1073 [01:53<06:48,  2.09it/s]"
          ]
        },
        {
          "name": "stdout",
          "output_type": "stream",
          "text": [
            "Batch 220 | Loss: 0.4461 | Learning rate:  0.000200\n"
          ]
        },
        {
          "name": "stderr",
          "output_type": "stream",
          "text": [
            "Start training the model for one epoch...:  22%|██▏       | 240/1073 [02:03<06:53,  2.01it/s]"
          ]
        },
        {
          "name": "stdout",
          "output_type": "stream",
          "text": [
            "Batch 240 | Loss: 0.4501 | Learning rate:  0.000200\n"
          ]
        },
        {
          "name": "stderr",
          "output_type": "stream",
          "text": [
            "Start training the model for one epoch...:  24%|██▍       | 260/1073 [02:13<06:35,  2.06it/s]"
          ]
        },
        {
          "name": "stdout",
          "output_type": "stream",
          "text": [
            "Batch 260 | Loss: 0.4679 | Learning rate:  0.000200\n"
          ]
        },
        {
          "name": "stderr",
          "output_type": "stream",
          "text": [
            "Start training the model for one epoch...:  26%|██▌       | 280/1073 [02:23<06:29,  2.04it/s]"
          ]
        },
        {
          "name": "stdout",
          "output_type": "stream",
          "text": [
            "Batch 280 | Loss: 0.4590 | Learning rate:  0.000200\n"
          ]
        },
        {
          "name": "stderr",
          "output_type": "stream",
          "text": [
            "Start training the model for one epoch...:  28%|██▊       | 300/1073 [02:32<06:10,  2.09it/s]"
          ]
        },
        {
          "name": "stdout",
          "output_type": "stream",
          "text": [
            "Batch 300 | Loss: 0.4564 | Learning rate:  0.000200\n"
          ]
        },
        {
          "name": "stderr",
          "output_type": "stream",
          "text": [
            "Start training the model for one epoch...:  30%|██▉       | 320/1073 [02:42<06:09,  2.04it/s]"
          ]
        },
        {
          "name": "stdout",
          "output_type": "stream",
          "text": [
            "Batch 320 | Loss: 0.4672 | Learning rate:  0.000200\n"
          ]
        },
        {
          "name": "stderr",
          "output_type": "stream",
          "text": [
            "Start training the model for one epoch...:  32%|███▏      | 340/1073 [02:52<06:01,  2.03it/s]"
          ]
        },
        {
          "name": "stdout",
          "output_type": "stream",
          "text": [
            "Batch 340 | Loss: 0.4601 | Learning rate:  0.000200\n"
          ]
        },
        {
          "name": "stderr",
          "output_type": "stream",
          "text": [
            "Start training the model for one epoch...:  34%|███▎      | 360/1073 [03:02<05:54,  2.01it/s]"
          ]
        },
        {
          "name": "stdout",
          "output_type": "stream",
          "text": [
            "Batch 360 | Loss: 0.4443 | Learning rate:  0.000200\n"
          ]
        },
        {
          "name": "stderr",
          "output_type": "stream",
          "text": [
            "Start training the model for one epoch...:  35%|███▌      | 380/1073 [03:12<05:47,  1.99it/s]"
          ]
        },
        {
          "name": "stdout",
          "output_type": "stream",
          "text": [
            "Batch 380 | Loss: 0.4764 | Learning rate:  0.000200\n"
          ]
        },
        {
          "name": "stderr",
          "output_type": "stream",
          "text": [
            "Start training the model for one epoch...:  37%|███▋      | 400/1073 [03:22<05:28,  2.05it/s]"
          ]
        },
        {
          "name": "stdout",
          "output_type": "stream",
          "text": [
            "Batch 400 | Loss: 0.4478 | Learning rate:  0.000200\n"
          ]
        },
        {
          "name": "stderr",
          "output_type": "stream",
          "text": [
            "Start training the model for one epoch...:  39%|███▉      | 420/1073 [03:31<05:16,  2.06it/s]"
          ]
        },
        {
          "name": "stdout",
          "output_type": "stream",
          "text": [
            "Batch 420 | Loss: 0.4613 | Learning rate:  0.000200\n"
          ]
        },
        {
          "name": "stderr",
          "output_type": "stream",
          "text": [
            "Start training the model for one epoch...:  41%|████      | 440/1073 [03:41<05:14,  2.01it/s]"
          ]
        },
        {
          "name": "stdout",
          "output_type": "stream",
          "text": [
            "Batch 440 | Loss: 0.4573 | Learning rate:  0.000200\n"
          ]
        },
        {
          "name": "stderr",
          "output_type": "stream",
          "text": [
            "Start training the model for one epoch...:  43%|████▎     | 460/1073 [03:51<05:00,  2.04it/s]"
          ]
        },
        {
          "name": "stdout",
          "output_type": "stream",
          "text": [
            "Batch 460 | Loss: 0.4593 | Learning rate:  0.000200\n"
          ]
        },
        {
          "name": "stderr",
          "output_type": "stream",
          "text": [
            "Start training the model for one epoch...:  45%|████▍     | 480/1073 [04:01<04:52,  2.03it/s]"
          ]
        },
        {
          "name": "stdout",
          "output_type": "stream",
          "text": [
            "Batch 480 | Loss: 0.4410 | Learning rate:  0.000200\n"
          ]
        },
        {
          "name": "stderr",
          "output_type": "stream",
          "text": [
            "Start training the model for one epoch...:  47%|████▋     | 500/1073 [04:10<04:41,  2.04it/s]"
          ]
        },
        {
          "name": "stdout",
          "output_type": "stream",
          "text": [
            "Batch 500 | Loss: 0.4553 | Learning rate:  0.000200\n"
          ]
        },
        {
          "name": "stderr",
          "output_type": "stream",
          "text": [
            "Start training the model for one epoch...:  48%|████▊     | 520/1073 [04:20<04:32,  2.03it/s]"
          ]
        },
        {
          "name": "stdout",
          "output_type": "stream",
          "text": [
            "Batch 520 | Loss: 0.4428 | Learning rate:  0.000200\n"
          ]
        },
        {
          "name": "stderr",
          "output_type": "stream",
          "text": [
            "Start training the model for one epoch...:  50%|█████     | 540/1073 [04:30<04:18,  2.06it/s]"
          ]
        },
        {
          "name": "stdout",
          "output_type": "stream",
          "text": [
            "Batch 540 | Loss: 0.4512 | Learning rate:  0.000200\n"
          ]
        },
        {
          "name": "stderr",
          "output_type": "stream",
          "text": [
            "Start training the model for one epoch...:  52%|█████▏    | 560/1073 [04:40<04:11,  2.04it/s]"
          ]
        },
        {
          "name": "stdout",
          "output_type": "stream",
          "text": [
            "Batch 560 | Loss: 0.4561 | Learning rate:  0.000200\n"
          ]
        },
        {
          "name": "stderr",
          "output_type": "stream",
          "text": [
            "Start training the model for one epoch...:  54%|█████▍    | 580/1073 [04:49<03:58,  2.06it/s]"
          ]
        },
        {
          "name": "stdout",
          "output_type": "stream",
          "text": [
            "Batch 580 | Loss: 0.4637 | Learning rate:  0.000200\n"
          ]
        },
        {
          "name": "stderr",
          "output_type": "stream",
          "text": [
            "Start training the model for one epoch...:  56%|█████▌    | 600/1073 [04:59<03:52,  2.04it/s]"
          ]
        },
        {
          "name": "stdout",
          "output_type": "stream",
          "text": [
            "Batch 600 | Loss: 0.4437 | Learning rate:  0.000200\n"
          ]
        },
        {
          "name": "stderr",
          "output_type": "stream",
          "text": [
            "Start training the model for one epoch...:  58%|█████▊    | 620/1073 [05:09<03:39,  2.06it/s]"
          ]
        },
        {
          "name": "stdout",
          "output_type": "stream",
          "text": [
            "Batch 620 | Loss: 0.4734 | Learning rate:  0.000200\n"
          ]
        },
        {
          "name": "stderr",
          "output_type": "stream",
          "text": [
            "Start training the model for one epoch...:  60%|█████▉    | 640/1073 [05:19<03:34,  2.02it/s]"
          ]
        },
        {
          "name": "stdout",
          "output_type": "stream",
          "text": [
            "Batch 640 | Loss: 0.4489 | Learning rate:  0.000200\n"
          ]
        },
        {
          "name": "stderr",
          "output_type": "stream",
          "text": [
            "Start training the model for one epoch...:  62%|██████▏   | 660/1073 [05:29<03:17,  2.09it/s]"
          ]
        },
        {
          "name": "stdout",
          "output_type": "stream",
          "text": [
            "Batch 660 | Loss: 0.4272 | Learning rate:  0.000200\n"
          ]
        },
        {
          "name": "stderr",
          "output_type": "stream",
          "text": [
            "Start training the model for one epoch...:  63%|██████▎   | 680/1073 [05:38<03:14,  2.02it/s]"
          ]
        },
        {
          "name": "stdout",
          "output_type": "stream",
          "text": [
            "Batch 680 | Loss: 0.4495 | Learning rate:  0.000200\n"
          ]
        },
        {
          "name": "stderr",
          "output_type": "stream",
          "text": [
            "Start training the model for one epoch...:  65%|██████▌   | 700/1073 [05:48<03:03,  2.04it/s]"
          ]
        },
        {
          "name": "stdout",
          "output_type": "stream",
          "text": [
            "Batch 700 | Loss: 0.4459 | Learning rate:  0.000200\n"
          ]
        },
        {
          "name": "stderr",
          "output_type": "stream",
          "text": [
            "Start training the model for one epoch...:  67%|██████▋   | 720/1073 [05:58<02:53,  2.04it/s]"
          ]
        },
        {
          "name": "stdout",
          "output_type": "stream",
          "text": [
            "Batch 720 | Loss: 0.4522 | Learning rate:  0.000200\n"
          ]
        },
        {
          "name": "stderr",
          "output_type": "stream",
          "text": [
            "Start training the model for one epoch...:  69%|██████▉   | 740/1073 [06:08<02:43,  2.04it/s]"
          ]
        },
        {
          "name": "stdout",
          "output_type": "stream",
          "text": [
            "Batch 740 | Loss: 0.4488 | Learning rate:  0.000200\n"
          ]
        },
        {
          "name": "stderr",
          "output_type": "stream",
          "text": [
            "Start training the model for one epoch...:  71%|███████   | 760/1073 [06:18<02:35,  2.01it/s]"
          ]
        },
        {
          "name": "stdout",
          "output_type": "stream",
          "text": [
            "Batch 760 | Loss: 0.4585 | Learning rate:  0.000200\n"
          ]
        },
        {
          "name": "stderr",
          "output_type": "stream",
          "text": [
            "Start training the model for one epoch...:  73%|███████▎  | 780/1073 [06:27<02:24,  2.02it/s]"
          ]
        },
        {
          "name": "stdout",
          "output_type": "stream",
          "text": [
            "Batch 780 | Loss: 0.4495 | Learning rate:  0.000200\n"
          ]
        },
        {
          "name": "stderr",
          "output_type": "stream",
          "text": [
            "Start training the model for one epoch...:  75%|███████▍  | 800/1073 [06:37<02:16,  2.01it/s]"
          ]
        },
        {
          "name": "stdout",
          "output_type": "stream",
          "text": [
            "Batch 800 | Loss: 0.4626 | Learning rate:  0.000200\n"
          ]
        },
        {
          "name": "stderr",
          "output_type": "stream",
          "text": [
            "Start training the model for one epoch...:  76%|███████▋  | 820/1073 [06:47<02:02,  2.06it/s]"
          ]
        },
        {
          "name": "stdout",
          "output_type": "stream",
          "text": [
            "Batch 820 | Loss: 0.4616 | Learning rate:  0.000200\n"
          ]
        },
        {
          "name": "stderr",
          "output_type": "stream",
          "text": [
            "Start training the model for one epoch...:  78%|███████▊  | 840/1073 [06:57<01:53,  2.05it/s]"
          ]
        },
        {
          "name": "stdout",
          "output_type": "stream",
          "text": [
            "Batch 840 | Loss: 0.4741 | Learning rate:  0.000200\n"
          ]
        },
        {
          "name": "stderr",
          "output_type": "stream",
          "text": [
            "Start training the model for one epoch...:  80%|████████  | 860/1073 [07:06<01:45,  2.02it/s]"
          ]
        },
        {
          "name": "stdout",
          "output_type": "stream",
          "text": [
            "Batch 860 | Loss: 0.4451 | Learning rate:  0.000200\n"
          ]
        },
        {
          "name": "stderr",
          "output_type": "stream",
          "text": [
            "Start training the model for one epoch...:  82%|████████▏ | 880/1073 [07:16<01:33,  2.06it/s]"
          ]
        },
        {
          "name": "stdout",
          "output_type": "stream",
          "text": [
            "Batch 880 | Loss: 0.4632 | Learning rate:  0.000200\n"
          ]
        },
        {
          "name": "stderr",
          "output_type": "stream",
          "text": [
            "Start training the model for one epoch...:  84%|████████▍ | 900/1073 [07:26<01:25,  2.03it/s]"
          ]
        },
        {
          "name": "stdout",
          "output_type": "stream",
          "text": [
            "Batch 900 | Loss: 0.4635 | Learning rate:  0.000200\n"
          ]
        },
        {
          "name": "stderr",
          "output_type": "stream",
          "text": [
            "Start training the model for one epoch...:  86%|████████▌ | 920/1073 [07:36<01:14,  2.04it/s]"
          ]
        },
        {
          "name": "stdout",
          "output_type": "stream",
          "text": [
            "Batch 920 | Loss: 0.4447 | Learning rate:  0.000200\n"
          ]
        },
        {
          "name": "stderr",
          "output_type": "stream",
          "text": [
            "Start training the model for one epoch...:  88%|████████▊ | 940/1073 [07:46<01:06,  2.01it/s]"
          ]
        },
        {
          "name": "stdout",
          "output_type": "stream",
          "text": [
            "Batch 940 | Loss: 0.4478 | Learning rate:  0.000200\n"
          ]
        },
        {
          "name": "stderr",
          "output_type": "stream",
          "text": [
            "Start training the model for one epoch...:  89%|████████▉ | 960/1073 [07:56<00:56,  2.00it/s]"
          ]
        },
        {
          "name": "stdout",
          "output_type": "stream",
          "text": [
            "Batch 960 | Loss: 0.4610 | Learning rate:  0.000200\n"
          ]
        },
        {
          "name": "stderr",
          "output_type": "stream",
          "text": [
            "Start training the model for one epoch...:  91%|█████████▏| 980/1073 [08:05<00:45,  2.02it/s]"
          ]
        },
        {
          "name": "stdout",
          "output_type": "stream",
          "text": [
            "Batch 980 | Loss: 0.4449 | Learning rate:  0.000200\n"
          ]
        },
        {
          "name": "stderr",
          "output_type": "stream",
          "text": [
            "Start training the model for one epoch...:  93%|█████████▎| 1000/1073 [08:15<00:35,  2.05it/s]"
          ]
        },
        {
          "name": "stdout",
          "output_type": "stream",
          "text": [
            "Batch 1000 | Loss: 0.4513 | Learning rate:  0.000200\n"
          ]
        },
        {
          "name": "stderr",
          "output_type": "stream",
          "text": [
            "Start training the model for one epoch...:  95%|█████████▌| 1020/1073 [08:25<00:26,  2.00it/s]"
          ]
        },
        {
          "name": "stdout",
          "output_type": "stream",
          "text": [
            "Batch 1020 | Loss: 0.4627 | Learning rate:  0.000200\n"
          ]
        },
        {
          "name": "stderr",
          "output_type": "stream",
          "text": [
            "Start training the model for one epoch...:  97%|█████████▋| 1040/1073 [08:35<00:16,  2.05it/s]"
          ]
        },
        {
          "name": "stdout",
          "output_type": "stream",
          "text": [
            "Batch 1040 | Loss: 0.4547 | Learning rate:  0.000200\n"
          ]
        },
        {
          "name": "stderr",
          "output_type": "stream",
          "text": [
            "Start training the model for one epoch...:  99%|█████████▉| 1060/1073 [08:44<00:06,  2.13it/s]"
          ]
        },
        {
          "name": "stdout",
          "output_type": "stream",
          "text": [
            "Batch 1060 | Loss: 0.4573 | Learning rate:  0.000200\n"
          ]
        },
        {
          "name": "stderr",
          "output_type": "stream",
          "text": [
            "Start training the model for one epoch...: 100%|██████████| 1073/1073 [08:50<00:00,  2.02it/s]\n",
            "120it [00:36,  3.27it/s]\n"
          ]
        },
        {
          "name": "stdout",
          "output_type": "stream",
          "text": [
            "Epoch: 5, train loss: 0.4526415720012626, val_loss: 0.43744417702158295, val_dice: 0.7946507894004816, val_IoU: 0.700131435350249\n"
          ]
        },
        {
          "name": "stderr",
          "output_type": "stream",
          "text": [
            "Start training the model for one epoch...:   2%|▏         | 20/1073 [00:15<08:56,  1.96it/s]"
          ]
        },
        {
          "name": "stdout",
          "output_type": "stream",
          "text": [
            "Batch 20 | Loss: 0.4513 | Learning rate:  0.000200\n"
          ]
        },
        {
          "name": "stderr",
          "output_type": "stream",
          "text": [
            "Start training the model for one epoch...:   4%|▎         | 40/1073 [00:25<08:13,  2.09it/s]"
          ]
        },
        {
          "name": "stdout",
          "output_type": "stream",
          "text": [
            "Batch 40 | Loss: 0.4377 | Learning rate:  0.000200\n"
          ]
        },
        {
          "name": "stderr",
          "output_type": "stream",
          "text": [
            "Start training the model for one epoch...:   6%|▌         | 60/1073 [00:34<08:12,  2.05it/s]"
          ]
        },
        {
          "name": "stdout",
          "output_type": "stream",
          "text": [
            "Batch 60 | Loss: 0.4570 | Learning rate:  0.000200\n"
          ]
        },
        {
          "name": "stderr",
          "output_type": "stream",
          "text": [
            "Start training the model for one epoch...:   7%|▋         | 80/1073 [00:44<08:12,  2.02it/s]"
          ]
        },
        {
          "name": "stdout",
          "output_type": "stream",
          "text": [
            "Batch 80 | Loss: 0.4587 | Learning rate:  0.000200\n"
          ]
        },
        {
          "name": "stderr",
          "output_type": "stream",
          "text": [
            "Start training the model for one epoch...:   9%|▉         | 100/1073 [00:54<07:48,  2.08it/s]"
          ]
        },
        {
          "name": "stdout",
          "output_type": "stream",
          "text": [
            "Batch 100 | Loss: 0.4699 | Learning rate:  0.000200\n"
          ]
        },
        {
          "name": "stderr",
          "output_type": "stream",
          "text": [
            "Start training the model for one epoch...:  11%|█         | 120/1073 [01:04<07:46,  2.04it/s]"
          ]
        },
        {
          "name": "stdout",
          "output_type": "stream",
          "text": [
            "Batch 120 | Loss: 0.4547 | Learning rate:  0.000200\n"
          ]
        },
        {
          "name": "stderr",
          "output_type": "stream",
          "text": [
            "Start training the model for one epoch...:  13%|█▎        | 140/1073 [01:14<07:31,  2.07it/s]"
          ]
        },
        {
          "name": "stdout",
          "output_type": "stream",
          "text": [
            "Batch 140 | Loss: 0.4447 | Learning rate:  0.000199\n"
          ]
        },
        {
          "name": "stderr",
          "output_type": "stream",
          "text": [
            "Start training the model for one epoch...:  15%|█▍        | 160/1073 [01:23<07:30,  2.03it/s]"
          ]
        },
        {
          "name": "stdout",
          "output_type": "stream",
          "text": [
            "Batch 160 | Loss: 0.4523 | Learning rate:  0.000199\n"
          ]
        },
        {
          "name": "stderr",
          "output_type": "stream",
          "text": [
            "Start training the model for one epoch...:  17%|█▋        | 180/1073 [01:33<07:18,  2.04it/s]"
          ]
        },
        {
          "name": "stdout",
          "output_type": "stream",
          "text": [
            "Batch 180 | Loss: 0.4582 | Learning rate:  0.000199\n"
          ]
        },
        {
          "name": "stderr",
          "output_type": "stream",
          "text": [
            "Start training the model for one epoch...:  19%|█▊        | 200/1073 [01:43<07:07,  2.04it/s]"
          ]
        },
        {
          "name": "stdout",
          "output_type": "stream",
          "text": [
            "Batch 200 | Loss: 0.4503 | Learning rate:  0.000199\n"
          ]
        },
        {
          "name": "stderr",
          "output_type": "stream",
          "text": [
            "Start training the model for one epoch...:  21%|██        | 220/1073 [01:53<06:54,  2.06it/s]"
          ]
        },
        {
          "name": "stdout",
          "output_type": "stream",
          "text": [
            "Batch 220 | Loss: 0.4542 | Learning rate:  0.000199\n"
          ]
        },
        {
          "name": "stderr",
          "output_type": "stream",
          "text": [
            "Start training the model for one epoch...:  22%|██▏       | 240/1073 [02:02<06:44,  2.06it/s]"
          ]
        },
        {
          "name": "stdout",
          "output_type": "stream",
          "text": [
            "Batch 240 | Loss: 0.4647 | Learning rate:  0.000199\n"
          ]
        },
        {
          "name": "stderr",
          "output_type": "stream",
          "text": [
            "Start training the model for one epoch...:  24%|██▍       | 260/1073 [02:12<06:37,  2.05it/s]"
          ]
        },
        {
          "name": "stdout",
          "output_type": "stream",
          "text": [
            "Batch 260 | Loss: 0.4539 | Learning rate:  0.000199\n"
          ]
        },
        {
          "name": "stderr",
          "output_type": "stream",
          "text": [
            "Start training the model for one epoch...:  26%|██▌       | 280/1073 [02:22<06:22,  2.07it/s]"
          ]
        },
        {
          "name": "stdout",
          "output_type": "stream",
          "text": [
            "Batch 280 | Loss: 0.4509 | Learning rate:  0.000199\n"
          ]
        },
        {
          "name": "stderr",
          "output_type": "stream",
          "text": [
            "Start training the model for one epoch...:  28%|██▊       | 300/1073 [02:31<06:21,  2.03it/s]"
          ]
        },
        {
          "name": "stdout",
          "output_type": "stream",
          "text": [
            "Batch 300 | Loss: 0.4473 | Learning rate:  0.000199\n"
          ]
        },
        {
          "name": "stderr",
          "output_type": "stream",
          "text": [
            "Start training the model for one epoch...:  30%|██▉       | 320/1073 [02:41<06:09,  2.04it/s]"
          ]
        },
        {
          "name": "stdout",
          "output_type": "stream",
          "text": [
            "Batch 320 | Loss: 0.4453 | Learning rate:  0.000199\n"
          ]
        },
        {
          "name": "stderr",
          "output_type": "stream",
          "text": [
            "Start training the model for one epoch...:  32%|███▏      | 340/1073 [02:51<05:52,  2.08it/s]"
          ]
        },
        {
          "name": "stdout",
          "output_type": "stream",
          "text": [
            "Batch 340 | Loss: 0.4481 | Learning rate:  0.000199\n"
          ]
        },
        {
          "name": "stderr",
          "output_type": "stream",
          "text": [
            "Start training the model for one epoch...:  34%|███▎      | 360/1073 [03:01<05:42,  2.08it/s]"
          ]
        },
        {
          "name": "stdout",
          "output_type": "stream",
          "text": [
            "Batch 360 | Loss: 0.4742 | Learning rate:  0.000199\n"
          ]
        },
        {
          "name": "stderr",
          "output_type": "stream",
          "text": [
            "Start training the model for one epoch...:  35%|███▌      | 380/1073 [03:10<05:39,  2.04it/s]"
          ]
        },
        {
          "name": "stdout",
          "output_type": "stream",
          "text": [
            "Batch 380 | Loss: 0.4479 | Learning rate:  0.000199\n"
          ]
        },
        {
          "name": "stderr",
          "output_type": "stream",
          "text": [
            "Start training the model for one epoch...:  37%|███▋      | 400/1073 [03:20<05:27,  2.05it/s]"
          ]
        },
        {
          "name": "stdout",
          "output_type": "stream",
          "text": [
            "Batch 400 | Loss: 0.4467 | Learning rate:  0.000199\n"
          ]
        },
        {
          "name": "stderr",
          "output_type": "stream",
          "text": [
            "Start training the model for one epoch...:  39%|███▉      | 420/1073 [03:30<05:18,  2.05it/s]"
          ]
        },
        {
          "name": "stdout",
          "output_type": "stream",
          "text": [
            "Batch 420 | Loss: 0.4464 | Learning rate:  0.000199\n"
          ]
        },
        {
          "name": "stderr",
          "output_type": "stream",
          "text": [
            "Start training the model for one epoch...:  41%|████      | 440/1073 [03:40<05:07,  2.06it/s]"
          ]
        },
        {
          "name": "stdout",
          "output_type": "stream",
          "text": [
            "Batch 440 | Loss: 0.4556 | Learning rate:  0.000199\n"
          ]
        },
        {
          "name": "stderr",
          "output_type": "stream",
          "text": [
            "Start training the model for one epoch...:  43%|████▎     | 460/1073 [03:50<05:03,  2.02it/s]"
          ]
        },
        {
          "name": "stdout",
          "output_type": "stream",
          "text": [
            "Batch 460 | Loss: 0.4471 | Learning rate:  0.000199\n"
          ]
        },
        {
          "name": "stderr",
          "output_type": "stream",
          "text": [
            "Start training the model for one epoch...:  45%|████▍     | 480/1073 [03:59<04:52,  2.03it/s]"
          ]
        },
        {
          "name": "stdout",
          "output_type": "stream",
          "text": [
            "Batch 480 | Loss: 0.4428 | Learning rate:  0.000199\n"
          ]
        },
        {
          "name": "stderr",
          "output_type": "stream",
          "text": [
            "Start training the model for one epoch...:  47%|████▋     | 500/1073 [04:09<04:41,  2.03it/s]"
          ]
        },
        {
          "name": "stdout",
          "output_type": "stream",
          "text": [
            "Batch 500 | Loss: 0.4511 | Learning rate:  0.000199\n"
          ]
        },
        {
          "name": "stderr",
          "output_type": "stream",
          "text": [
            "Start training the model for one epoch...:  48%|████▊     | 520/1073 [04:19<04:30,  2.04it/s]"
          ]
        },
        {
          "name": "stdout",
          "output_type": "stream",
          "text": [
            "Batch 520 | Loss: 0.4489 | Learning rate:  0.000199\n"
          ]
        },
        {
          "name": "stderr",
          "output_type": "stream",
          "text": [
            "Start training the model for one epoch...:  50%|█████     | 540/1073 [04:29<04:17,  2.07it/s]"
          ]
        },
        {
          "name": "stdout",
          "output_type": "stream",
          "text": [
            "Batch 540 | Loss: 0.4312 | Learning rate:  0.000199\n"
          ]
        },
        {
          "name": "stderr",
          "output_type": "stream",
          "text": [
            "Start training the model for one epoch...:  52%|█████▏    | 560/1073 [04:39<04:14,  2.02it/s]"
          ]
        },
        {
          "name": "stdout",
          "output_type": "stream",
          "text": [
            "Batch 560 | Loss: 0.4405 | Learning rate:  0.000199\n"
          ]
        },
        {
          "name": "stderr",
          "output_type": "stream",
          "text": [
            "Start training the model for one epoch...:  54%|█████▍    | 580/1073 [04:48<04:01,  2.04it/s]"
          ]
        },
        {
          "name": "stdout",
          "output_type": "stream",
          "text": [
            "Batch 580 | Loss: 0.4448 | Learning rate:  0.000199\n"
          ]
        },
        {
          "name": "stderr",
          "output_type": "stream",
          "text": [
            "Start training the model for one epoch...:  56%|█████▌    | 600/1073 [04:58<03:52,  2.04it/s]"
          ]
        },
        {
          "name": "stdout",
          "output_type": "stream",
          "text": [
            "Batch 600 | Loss: 0.4454 | Learning rate:  0.000199\n"
          ]
        },
        {
          "name": "stderr",
          "output_type": "stream",
          "text": [
            "Start training the model for one epoch...:  58%|█████▊    | 620/1073 [05:08<03:40,  2.05it/s]"
          ]
        },
        {
          "name": "stdout",
          "output_type": "stream",
          "text": [
            "Batch 620 | Loss: 0.4333 | Learning rate:  0.000199\n"
          ]
        },
        {
          "name": "stderr",
          "output_type": "stream",
          "text": [
            "Start training the model for one epoch...:  60%|█████▉    | 640/1073 [05:18<03:28,  2.07it/s]"
          ]
        },
        {
          "name": "stdout",
          "output_type": "stream",
          "text": [
            "Batch 640 | Loss: 0.4567 | Learning rate:  0.000199\n"
          ]
        },
        {
          "name": "stderr",
          "output_type": "stream",
          "text": [
            "Start training the model for one epoch...:  62%|██████▏   | 660/1073 [05:27<03:22,  2.04it/s]"
          ]
        },
        {
          "name": "stdout",
          "output_type": "stream",
          "text": [
            "Batch 660 | Loss: 0.4403 | Learning rate:  0.000199\n"
          ]
        },
        {
          "name": "stderr",
          "output_type": "stream",
          "text": [
            "Start training the model for one epoch...:  63%|██████▎   | 680/1073 [05:37<03:11,  2.05it/s]"
          ]
        },
        {
          "name": "stdout",
          "output_type": "stream",
          "text": [
            "Batch 680 | Loss: 0.4420 | Learning rate:  0.000199\n"
          ]
        },
        {
          "name": "stderr",
          "output_type": "stream",
          "text": [
            "Start training the model for one epoch...:  65%|██████▌   | 700/1073 [05:47<03:00,  2.07it/s]"
          ]
        },
        {
          "name": "stdout",
          "output_type": "stream",
          "text": [
            "Batch 700 | Loss: 0.4604 | Learning rate:  0.000199\n"
          ]
        },
        {
          "name": "stderr",
          "output_type": "stream",
          "text": [
            "Start training the model for one epoch...:  67%|██████▋   | 720/1073 [05:57<02:51,  2.06it/s]"
          ]
        },
        {
          "name": "stdout",
          "output_type": "stream",
          "text": [
            "Batch 720 | Loss: 0.4573 | Learning rate:  0.000199\n"
          ]
        },
        {
          "name": "stderr",
          "output_type": "stream",
          "text": [
            "Start training the model for one epoch...:  69%|██████▉   | 740/1073 [06:07<02:42,  2.05it/s]"
          ]
        },
        {
          "name": "stdout",
          "output_type": "stream",
          "text": [
            "Batch 740 | Loss: 0.4535 | Learning rate:  0.000199\n"
          ]
        },
        {
          "name": "stderr",
          "output_type": "stream",
          "text": [
            "Start training the model for one epoch...:  71%|███████   | 760/1073 [06:16<02:34,  2.03it/s]"
          ]
        },
        {
          "name": "stdout",
          "output_type": "stream",
          "text": [
            "Batch 760 | Loss: 0.4546 | Learning rate:  0.000199\n"
          ]
        },
        {
          "name": "stderr",
          "output_type": "stream",
          "text": [
            "Start training the model for one epoch...:  73%|███████▎  | 780/1073 [06:26<02:22,  2.06it/s]"
          ]
        },
        {
          "name": "stdout",
          "output_type": "stream",
          "text": [
            "Batch 780 | Loss: 0.4663 | Learning rate:  0.000199\n"
          ]
        },
        {
          "name": "stderr",
          "output_type": "stream",
          "text": [
            "Start training the model for one epoch...:  75%|███████▍  | 800/1073 [06:36<02:15,  2.02it/s]"
          ]
        },
        {
          "name": "stdout",
          "output_type": "stream",
          "text": [
            "Batch 800 | Loss: 0.4491 | Learning rate:  0.000199\n"
          ]
        },
        {
          "name": "stderr",
          "output_type": "stream",
          "text": [
            "Start training the model for one epoch...:  76%|███████▋  | 820/1073 [06:46<02:03,  2.05it/s]"
          ]
        },
        {
          "name": "stdout",
          "output_type": "stream",
          "text": [
            "Batch 820 | Loss: 0.4551 | Learning rate:  0.000199\n"
          ]
        },
        {
          "name": "stderr",
          "output_type": "stream",
          "text": [
            "Start training the model for one epoch...:  78%|███████▊  | 840/1073 [06:55<01:53,  2.06it/s]"
          ]
        },
        {
          "name": "stdout",
          "output_type": "stream",
          "text": [
            "Batch 840 | Loss: 0.4329 | Learning rate:  0.000199\n"
          ]
        },
        {
          "name": "stderr",
          "output_type": "stream",
          "text": [
            "Start training the model for one epoch...:  80%|████████  | 860/1073 [07:05<01:43,  2.06it/s]"
          ]
        },
        {
          "name": "stdout",
          "output_type": "stream",
          "text": [
            "Batch 860 | Loss: 0.4589 | Learning rate:  0.000199\n"
          ]
        },
        {
          "name": "stderr",
          "output_type": "stream",
          "text": [
            "Start training the model for one epoch...:  82%|████████▏ | 880/1073 [07:15<01:35,  2.03it/s]"
          ]
        },
        {
          "name": "stdout",
          "output_type": "stream",
          "text": [
            "Batch 880 | Loss: 0.4642 | Learning rate:  0.000199\n"
          ]
        },
        {
          "name": "stderr",
          "output_type": "stream",
          "text": [
            "Start training the model for one epoch...:  84%|████████▍ | 900/1073 [07:25<01:23,  2.08it/s]"
          ]
        },
        {
          "name": "stdout",
          "output_type": "stream",
          "text": [
            "Batch 900 | Loss: 0.4529 | Learning rate:  0.000199\n"
          ]
        },
        {
          "name": "stderr",
          "output_type": "stream",
          "text": [
            "Start training the model for one epoch...:  86%|████████▌ | 920/1073 [07:35<01:14,  2.05it/s]"
          ]
        },
        {
          "name": "stdout",
          "output_type": "stream",
          "text": [
            "Batch 920 | Loss: 0.4348 | Learning rate:  0.000199\n"
          ]
        },
        {
          "name": "stderr",
          "output_type": "stream",
          "text": [
            "Start training the model for one epoch...:  88%|████████▊ | 940/1073 [07:44<01:04,  2.07it/s]"
          ]
        },
        {
          "name": "stdout",
          "output_type": "stream",
          "text": [
            "Batch 940 | Loss: 0.4322 | Learning rate:  0.000199\n"
          ]
        },
        {
          "name": "stderr",
          "output_type": "stream",
          "text": [
            "Start training the model for one epoch...:  89%|████████▉ | 960/1073 [07:54<00:55,  2.05it/s]"
          ]
        },
        {
          "name": "stdout",
          "output_type": "stream",
          "text": [
            "Batch 960 | Loss: 0.4495 | Learning rate:  0.000199\n"
          ]
        },
        {
          "name": "stderr",
          "output_type": "stream",
          "text": [
            "Start training the model for one epoch...:  91%|█████████▏| 980/1073 [08:04<00:45,  2.04it/s]"
          ]
        },
        {
          "name": "stdout",
          "output_type": "stream",
          "text": [
            "Batch 980 | Loss: 0.4483 | Learning rate:  0.000199\n"
          ]
        },
        {
          "name": "stderr",
          "output_type": "stream",
          "text": [
            "Start training the model for one epoch...:  93%|█████████▎| 1000/1073 [08:14<00:35,  2.04it/s]"
          ]
        },
        {
          "name": "stdout",
          "output_type": "stream",
          "text": [
            "Batch 1000 | Loss: 0.4535 | Learning rate:  0.000199\n"
          ]
        },
        {
          "name": "stderr",
          "output_type": "stream",
          "text": [
            "Start training the model for one epoch...:  95%|█████████▌| 1020/1073 [08:24<00:26,  2.04it/s]"
          ]
        },
        {
          "name": "stdout",
          "output_type": "stream",
          "text": [
            "Batch 1020 | Loss: 0.4453 | Learning rate:  0.000198\n"
          ]
        },
        {
          "name": "stderr",
          "output_type": "stream",
          "text": [
            "Start training the model for one epoch...:  97%|█████████▋| 1040/1073 [08:33<00:16,  2.04it/s]"
          ]
        },
        {
          "name": "stdout",
          "output_type": "stream",
          "text": [
            "Batch 1040 | Loss: 0.4541 | Learning rate:  0.000198\n"
          ]
        },
        {
          "name": "stderr",
          "output_type": "stream",
          "text": [
            "Start training the model for one epoch...:  99%|█████████▉| 1060/1073 [08:43<00:05,  2.17it/s]"
          ]
        },
        {
          "name": "stdout",
          "output_type": "stream",
          "text": [
            "Batch 1060 | Loss: 0.4496 | Learning rate:  0.000198\n"
          ]
        },
        {
          "name": "stderr",
          "output_type": "stream",
          "text": [
            "Start training the model for one epoch...: 100%|██████████| 1073/1073 [08:49<00:00,  2.03it/s]\n",
            "120it [00:36,  3.26it/s]\n"
          ]
        },
        {
          "name": "stdout",
          "output_type": "stream",
          "text": [
            "Epoch: 6, train loss: 0.4514480693975788, val_loss: 0.4369483525554339, val_dice: 0.8052723584887638, val_IoU: 0.7140984295471832\n"
          ]
        },
        {
          "name": "stderr",
          "output_type": "stream",
          "text": [
            "Start training the model for one epoch...:   2%|▏         | 20/1073 [00:15<08:49,  1.99it/s]"
          ]
        },
        {
          "name": "stdout",
          "output_type": "stream",
          "text": [
            "Batch 20 | Loss: 0.4431 | Learning rate:  0.000198\n"
          ]
        },
        {
          "name": "stderr",
          "output_type": "stream",
          "text": [
            "Start training the model for one epoch...:   4%|▎         | 40/1073 [00:25<08:17,  2.08it/s]"
          ]
        },
        {
          "name": "stdout",
          "output_type": "stream",
          "text": [
            "Batch 40 | Loss: 0.4601 | Learning rate:  0.000198\n"
          ]
        },
        {
          "name": "stderr",
          "output_type": "stream",
          "text": [
            "Start training the model for one epoch...:   6%|▌         | 60/1073 [00:34<08:11,  2.06it/s]"
          ]
        },
        {
          "name": "stdout",
          "output_type": "stream",
          "text": [
            "Batch 60 | Loss: 0.4457 | Learning rate:  0.000198\n"
          ]
        },
        {
          "name": "stderr",
          "output_type": "stream",
          "text": [
            "Start training the model for one epoch...:   7%|▋         | 80/1073 [00:44<08:02,  2.06it/s]"
          ]
        },
        {
          "name": "stdout",
          "output_type": "stream",
          "text": [
            "Batch 80 | Loss: 0.4523 | Learning rate:  0.000198\n"
          ]
        },
        {
          "name": "stderr",
          "output_type": "stream",
          "text": [
            "Start training the model for one epoch...:   9%|▉         | 100/1073 [00:54<07:58,  2.03it/s]"
          ]
        },
        {
          "name": "stdout",
          "output_type": "stream",
          "text": [
            "Batch 100 | Loss: 0.4507 | Learning rate:  0.000198\n"
          ]
        },
        {
          "name": "stderr",
          "output_type": "stream",
          "text": [
            "Start training the model for one epoch...:  11%|█         | 120/1073 [01:04<07:47,  2.04it/s]"
          ]
        },
        {
          "name": "stdout",
          "output_type": "stream",
          "text": [
            "Batch 120 | Loss: 0.4381 | Learning rate:  0.000198\n"
          ]
        },
        {
          "name": "stderr",
          "output_type": "stream",
          "text": [
            "Start training the model for one epoch...:  13%|█▎        | 140/1073 [01:13<07:37,  2.04it/s]"
          ]
        },
        {
          "name": "stdout",
          "output_type": "stream",
          "text": [
            "Batch 140 | Loss: 0.4605 | Learning rate:  0.000198\n"
          ]
        },
        {
          "name": "stderr",
          "output_type": "stream",
          "text": [
            "Start training the model for one epoch...:  15%|█▍        | 160/1073 [01:23<07:16,  2.09it/s]"
          ]
        },
        {
          "name": "stdout",
          "output_type": "stream",
          "text": [
            "Batch 160 | Loss: 0.4601 | Learning rate:  0.000198\n"
          ]
        },
        {
          "name": "stderr",
          "output_type": "stream",
          "text": [
            "Start training the model for one epoch...:  17%|█▋        | 180/1073 [01:33<07:18,  2.03it/s]"
          ]
        },
        {
          "name": "stdout",
          "output_type": "stream",
          "text": [
            "Batch 180 | Loss: 0.4523 | Learning rate:  0.000198\n"
          ]
        },
        {
          "name": "stderr",
          "output_type": "stream",
          "text": [
            "Start training the model for one epoch...:  19%|█▊        | 200/1073 [01:43<07:02,  2.07it/s]"
          ]
        },
        {
          "name": "stdout",
          "output_type": "stream",
          "text": [
            "Batch 200 | Loss: 0.4615 | Learning rate:  0.000198\n"
          ]
        },
        {
          "name": "stderr",
          "output_type": "stream",
          "text": [
            "Start training the model for one epoch...:  21%|██        | 220/1073 [01:52<06:56,  2.05it/s]"
          ]
        },
        {
          "name": "stdout",
          "output_type": "stream",
          "text": [
            "Batch 220 | Loss: 0.4461 | Learning rate:  0.000198\n"
          ]
        },
        {
          "name": "stderr",
          "output_type": "stream",
          "text": [
            "Start training the model for one epoch...:  22%|██▏       | 240/1073 [02:02<06:49,  2.03it/s]"
          ]
        },
        {
          "name": "stdout",
          "output_type": "stream",
          "text": [
            "Batch 240 | Loss: 0.4523 | Learning rate:  0.000198\n"
          ]
        },
        {
          "name": "stderr",
          "output_type": "stream",
          "text": [
            "Start training the model for one epoch...:  24%|██▍       | 260/1073 [02:12<06:41,  2.02it/s]"
          ]
        },
        {
          "name": "stdout",
          "output_type": "stream",
          "text": [
            "Batch 260 | Loss: 0.4691 | Learning rate:  0.000198\n"
          ]
        },
        {
          "name": "stderr",
          "output_type": "stream",
          "text": [
            "Start training the model for one epoch...:  26%|██▌       | 280/1073 [02:22<06:21,  2.08it/s]"
          ]
        },
        {
          "name": "stdout",
          "output_type": "stream",
          "text": [
            "Batch 280 | Loss: 0.4578 | Learning rate:  0.000198\n"
          ]
        },
        {
          "name": "stderr",
          "output_type": "stream",
          "text": [
            "Start training the model for one epoch...:  28%|██▊       | 300/1073 [02:31<06:15,  2.06it/s]"
          ]
        },
        {
          "name": "stdout",
          "output_type": "stream",
          "text": [
            "Batch 300 | Loss: 0.4506 | Learning rate:  0.000198\n"
          ]
        },
        {
          "name": "stderr",
          "output_type": "stream",
          "text": [
            "Start training the model for one epoch...:  30%|██▉       | 320/1073 [02:41<06:05,  2.06it/s]"
          ]
        },
        {
          "name": "stdout",
          "output_type": "stream",
          "text": [
            "Batch 320 | Loss: 0.4552 | Learning rate:  0.000198\n"
          ]
        },
        {
          "name": "stderr",
          "output_type": "stream",
          "text": [
            "Start training the model for one epoch...:  32%|███▏      | 340/1073 [02:51<05:59,  2.04it/s]"
          ]
        },
        {
          "name": "stdout",
          "output_type": "stream",
          "text": [
            "Batch 340 | Loss: 0.4593 | Learning rate:  0.000198\n"
          ]
        },
        {
          "name": "stderr",
          "output_type": "stream",
          "text": [
            "Start training the model for one epoch...:  34%|███▎      | 360/1073 [03:00<05:39,  2.10it/s]"
          ]
        },
        {
          "name": "stdout",
          "output_type": "stream",
          "text": [
            "Batch 360 | Loss: 0.4591 | Learning rate:  0.000198\n"
          ]
        },
        {
          "name": "stderr",
          "output_type": "stream",
          "text": [
            "Start training the model for one epoch...:  35%|███▌      | 380/1073 [03:10<05:44,  2.01it/s]"
          ]
        },
        {
          "name": "stdout",
          "output_type": "stream",
          "text": [
            "Batch 380 | Loss: 0.4522 | Learning rate:  0.000198\n"
          ]
        },
        {
          "name": "stderr",
          "output_type": "stream",
          "text": [
            "Start training the model for one epoch...:  37%|███▋      | 400/1073 [03:20<05:25,  2.07it/s]"
          ]
        },
        {
          "name": "stdout",
          "output_type": "stream",
          "text": [
            "Batch 400 | Loss: 0.4418 | Learning rate:  0.000198\n"
          ]
        },
        {
          "name": "stderr",
          "output_type": "stream",
          "text": [
            "Start training the model for one epoch...:  39%|███▉      | 420/1073 [03:30<05:25,  2.01it/s]"
          ]
        },
        {
          "name": "stdout",
          "output_type": "stream",
          "text": [
            "Batch 420 | Loss: 0.4629 | Learning rate:  0.000198\n"
          ]
        },
        {
          "name": "stderr",
          "output_type": "stream",
          "text": [
            "Start training the model for one epoch...:  41%|████      | 440/1073 [03:39<05:11,  2.03it/s]"
          ]
        },
        {
          "name": "stdout",
          "output_type": "stream",
          "text": [
            "Batch 440 | Loss: 0.4427 | Learning rate:  0.000198\n"
          ]
        },
        {
          "name": "stderr",
          "output_type": "stream",
          "text": [
            "Start training the model for one epoch...:  43%|████▎     | 460/1073 [03:49<05:02,  2.03it/s]"
          ]
        },
        {
          "name": "stdout",
          "output_type": "stream",
          "text": [
            "Batch 460 | Loss: 0.4477 | Learning rate:  0.000198\n"
          ]
        },
        {
          "name": "stderr",
          "output_type": "stream",
          "text": [
            "Start training the model for one epoch...:  45%|████▍     | 480/1073 [03:59<04:46,  2.07it/s]"
          ]
        },
        {
          "name": "stdout",
          "output_type": "stream",
          "text": [
            "Batch 480 | Loss: 0.4525 | Learning rate:  0.000198\n"
          ]
        },
        {
          "name": "stderr",
          "output_type": "stream",
          "text": [
            "Start training the model for one epoch...:  47%|████▋     | 500/1073 [04:09<04:40,  2.04it/s]"
          ]
        },
        {
          "name": "stdout",
          "output_type": "stream",
          "text": [
            "Batch 500 | Loss: 0.4392 | Learning rate:  0.000198\n"
          ]
        },
        {
          "name": "stderr",
          "output_type": "stream",
          "text": [
            "Start training the model for one epoch...:  48%|████▊     | 520/1073 [04:19<05:34,  1.65it/s]"
          ]
        },
        {
          "name": "stdout",
          "output_type": "stream",
          "text": [
            "Batch 520 | Loss: 0.4156 | Learning rate:  0.000198\n"
          ]
        },
        {
          "name": "stderr",
          "output_type": "stream",
          "text": [
            "Start training the model for one epoch...:  50%|█████     | 540/1073 [04:29<04:23,  2.02it/s]"
          ]
        },
        {
          "name": "stdout",
          "output_type": "stream",
          "text": [
            "Batch 540 | Loss: 0.4501 | Learning rate:  0.000198\n"
          ]
        },
        {
          "name": "stderr",
          "output_type": "stream",
          "text": [
            "Start training the model for one epoch...:  52%|█████▏    | 560/1073 [04:38<04:09,  2.05it/s]"
          ]
        },
        {
          "name": "stdout",
          "output_type": "stream",
          "text": [
            "Batch 560 | Loss: 0.4557 | Learning rate:  0.000197\n"
          ]
        },
        {
          "name": "stderr",
          "output_type": "stream",
          "text": [
            "Start training the model for one epoch...:  54%|█████▍    | 580/1073 [04:48<04:05,  2.01it/s]"
          ]
        },
        {
          "name": "stdout",
          "output_type": "stream",
          "text": [
            "Batch 580 | Loss: 0.4423 | Learning rate:  0.000197\n"
          ]
        },
        {
          "name": "stderr",
          "output_type": "stream",
          "text": [
            "Start training the model for one epoch...:  56%|█████▌    | 600/1073 [04:58<03:47,  2.08it/s]"
          ]
        },
        {
          "name": "stdout",
          "output_type": "stream",
          "text": [
            "Batch 600 | Loss: 0.4608 | Learning rate:  0.000197\n"
          ]
        },
        {
          "name": "stderr",
          "output_type": "stream",
          "text": [
            "Start training the model for one epoch...:  58%|█████▊    | 620/1073 [05:08<03:44,  2.01it/s]"
          ]
        },
        {
          "name": "stdout",
          "output_type": "stream",
          "text": [
            "Batch 620 | Loss: 0.4435 | Learning rate:  0.000197\n"
          ]
        },
        {
          "name": "stderr",
          "output_type": "stream",
          "text": [
            "Start training the model for one epoch...:  60%|█████▉    | 640/1073 [05:18<03:29,  2.07it/s]"
          ]
        },
        {
          "name": "stdout",
          "output_type": "stream",
          "text": [
            "Batch 640 | Loss: 0.4507 | Learning rate:  0.000197\n"
          ]
        },
        {
          "name": "stderr",
          "output_type": "stream",
          "text": [
            "Start training the model for one epoch...:  62%|██████▏   | 660/1073 [05:27<03:26,  2.00it/s]"
          ]
        },
        {
          "name": "stdout",
          "output_type": "stream",
          "text": [
            "Batch 660 | Loss: 0.4318 | Learning rate:  0.000197\n"
          ]
        },
        {
          "name": "stderr",
          "output_type": "stream",
          "text": [
            "Start training the model for one epoch...:  63%|██████▎   | 680/1073 [05:37<03:09,  2.07it/s]"
          ]
        },
        {
          "name": "stdout",
          "output_type": "stream",
          "text": [
            "Batch 680 | Loss: 0.4582 | Learning rate:  0.000197\n"
          ]
        },
        {
          "name": "stderr",
          "output_type": "stream",
          "text": [
            "Start training the model for one epoch...:  65%|██████▌   | 700/1073 [05:47<03:05,  2.01it/s]"
          ]
        },
        {
          "name": "stdout",
          "output_type": "stream",
          "text": [
            "Batch 700 | Loss: 0.4464 | Learning rate:  0.000197\n"
          ]
        },
        {
          "name": "stderr",
          "output_type": "stream",
          "text": [
            "Start training the model for one epoch...:  67%|██████▋   | 720/1073 [05:57<02:49,  2.08it/s]"
          ]
        },
        {
          "name": "stdout",
          "output_type": "stream",
          "text": [
            "Batch 720 | Loss: 0.4739 | Learning rate:  0.000197\n"
          ]
        },
        {
          "name": "stderr",
          "output_type": "stream",
          "text": [
            "Start training the model for one epoch...:  69%|██████▉   | 740/1073 [06:07<02:42,  2.05it/s]"
          ]
        },
        {
          "name": "stdout",
          "output_type": "stream",
          "text": [
            "Batch 740 | Loss: 0.4655 | Learning rate:  0.000197\n"
          ]
        },
        {
          "name": "stderr",
          "output_type": "stream",
          "text": [
            "Start training the model for one epoch...:  71%|███████   | 760/1073 [06:16<02:32,  2.05it/s]"
          ]
        },
        {
          "name": "stdout",
          "output_type": "stream",
          "text": [
            "Batch 760 | Loss: 0.4651 | Learning rate:  0.000197\n"
          ]
        },
        {
          "name": "stderr",
          "output_type": "stream",
          "text": [
            "Start training the model for one epoch...:  73%|███████▎  | 780/1073 [06:26<02:26,  2.00it/s]"
          ]
        },
        {
          "name": "stdout",
          "output_type": "stream",
          "text": [
            "Batch 780 | Loss: 0.4408 | Learning rate:  0.000197\n"
          ]
        },
        {
          "name": "stderr",
          "output_type": "stream",
          "text": [
            "Start training the model for one epoch...:  75%|███████▍  | 800/1073 [06:36<02:10,  2.09it/s]"
          ]
        },
        {
          "name": "stdout",
          "output_type": "stream",
          "text": [
            "Batch 800 | Loss: 0.4460 | Learning rate:  0.000197\n"
          ]
        },
        {
          "name": "stderr",
          "output_type": "stream",
          "text": [
            "Start training the model for one epoch...:  76%|███████▋  | 820/1073 [06:46<02:04,  2.03it/s]"
          ]
        },
        {
          "name": "stdout",
          "output_type": "stream",
          "text": [
            "Batch 820 | Loss: 0.4631 | Learning rate:  0.000197\n"
          ]
        },
        {
          "name": "stderr",
          "output_type": "stream",
          "text": [
            "Start training the model for one epoch...:  78%|███████▊  | 840/1073 [06:56<01:54,  2.04it/s]"
          ]
        },
        {
          "name": "stdout",
          "output_type": "stream",
          "text": [
            "Batch 840 | Loss: 0.4459 | Learning rate:  0.000197\n"
          ]
        },
        {
          "name": "stderr",
          "output_type": "stream",
          "text": [
            "Start training the model for one epoch...:  80%|████████  | 860/1073 [07:05<01:44,  2.04it/s]"
          ]
        },
        {
          "name": "stdout",
          "output_type": "stream",
          "text": [
            "Batch 860 | Loss: 0.4390 | Learning rate:  0.000197\n"
          ]
        },
        {
          "name": "stderr",
          "output_type": "stream",
          "text": [
            "Start training the model for one epoch...:  82%|████████▏ | 880/1073 [07:15<01:33,  2.06it/s]"
          ]
        },
        {
          "name": "stdout",
          "output_type": "stream",
          "text": [
            "Batch 880 | Loss: 0.4435 | Learning rate:  0.000197\n"
          ]
        },
        {
          "name": "stderr",
          "output_type": "stream",
          "text": [
            "Start training the model for one epoch...:  84%|████████▍ | 900/1073 [07:25<01:24,  2.05it/s]"
          ]
        },
        {
          "name": "stdout",
          "output_type": "stream",
          "text": [
            "Batch 900 | Loss: 0.4610 | Learning rate:  0.000197\n"
          ]
        },
        {
          "name": "stderr",
          "output_type": "stream",
          "text": [
            "Start training the model for one epoch...:  86%|████████▌ | 920/1073 [07:35<01:14,  2.07it/s]"
          ]
        },
        {
          "name": "stdout",
          "output_type": "stream",
          "text": [
            "Batch 920 | Loss: 0.4485 | Learning rate:  0.000197\n"
          ]
        },
        {
          "name": "stderr",
          "output_type": "stream",
          "text": [
            "Start training the model for one epoch...:  88%|████████▊ | 940/1073 [07:44<01:03,  2.08it/s]"
          ]
        },
        {
          "name": "stdout",
          "output_type": "stream",
          "text": [
            "Batch 940 | Loss: 0.4721 | Learning rate:  0.000197\n"
          ]
        },
        {
          "name": "stderr",
          "output_type": "stream",
          "text": [
            "Start training the model for one epoch...:  89%|████████▉ | 960/1073 [07:54<00:55,  2.02it/s]"
          ]
        },
        {
          "name": "stdout",
          "output_type": "stream",
          "text": [
            "Batch 960 | Loss: 0.4590 | Learning rate:  0.000197\n"
          ]
        },
        {
          "name": "stderr",
          "output_type": "stream",
          "text": [
            "Start training the model for one epoch...:  91%|█████████▏| 980/1073 [08:04<00:45,  2.05it/s]"
          ]
        },
        {
          "name": "stdout",
          "output_type": "stream",
          "text": [
            "Batch 980 | Loss: 0.4279 | Learning rate:  0.000197\n"
          ]
        },
        {
          "name": "stderr",
          "output_type": "stream",
          "text": [
            "Start training the model for one epoch...:  93%|█████████▎| 1000/1073 [08:14<00:35,  2.06it/s]"
          ]
        },
        {
          "name": "stdout",
          "output_type": "stream",
          "text": [
            "Batch 1000 | Loss: 0.4549 | Learning rate:  0.000197\n"
          ]
        },
        {
          "name": "stderr",
          "output_type": "stream",
          "text": [
            "Start training the model for one epoch...:  95%|█████████▌| 1020/1073 [08:24<00:25,  2.08it/s]"
          ]
        },
        {
          "name": "stdout",
          "output_type": "stream",
          "text": [
            "Batch 1020 | Loss: 0.4189 | Learning rate:  0.000197\n"
          ]
        },
        {
          "name": "stderr",
          "output_type": "stream",
          "text": [
            "Start training the model for one epoch...:  97%|█████████▋| 1040/1073 [08:33<00:16,  2.05it/s]"
          ]
        },
        {
          "name": "stdout",
          "output_type": "stream",
          "text": [
            "Batch 1040 | Loss: 0.4501 | Learning rate:  0.000196\n"
          ]
        },
        {
          "name": "stderr",
          "output_type": "stream",
          "text": [
            "Start training the model for one epoch...:  99%|█████████▉| 1060/1073 [08:43<00:06,  2.15it/s]"
          ]
        },
        {
          "name": "stdout",
          "output_type": "stream",
          "text": [
            "Batch 1060 | Loss: 0.4626 | Learning rate:  0.000196\n"
          ]
        },
        {
          "name": "stderr",
          "output_type": "stream",
          "text": [
            "Start training the model for one epoch...: 100%|██████████| 1073/1073 [08:49<00:00,  2.03it/s]\n",
            "120it [00:36,  3.25it/s]\n"
          ]
        },
        {
          "name": "stdout",
          "output_type": "stream",
          "text": [
            "Epoch: 7, train loss: 0.4511067497596936, val_loss: 0.43563140630722047, val_dice: 0.8003332368245921, val_IoU: 0.7071605172550397\n"
          ]
        },
        {
          "name": "stderr",
          "output_type": "stream",
          "text": [
            "Start training the model for one epoch...:   2%|▏         | 20/1073 [00:15<08:46,  2.00it/s]"
          ]
        },
        {
          "name": "stdout",
          "output_type": "stream",
          "text": [
            "Batch 20 | Loss: 0.4819 | Learning rate:  0.000196\n"
          ]
        },
        {
          "name": "stderr",
          "output_type": "stream",
          "text": [
            "Start training the model for one epoch...:   4%|▎         | 40/1073 [00:25<08:23,  2.05it/s]"
          ]
        },
        {
          "name": "stdout",
          "output_type": "stream",
          "text": [
            "Batch 40 | Loss: 0.4534 | Learning rate:  0.000196\n"
          ]
        },
        {
          "name": "stderr",
          "output_type": "stream",
          "text": [
            "Start training the model for one epoch...:   6%|▌         | 60/1073 [00:34<08:16,  2.04it/s]"
          ]
        },
        {
          "name": "stdout",
          "output_type": "stream",
          "text": [
            "Batch 60 | Loss: 0.4661 | Learning rate:  0.000196\n"
          ]
        },
        {
          "name": "stderr",
          "output_type": "stream",
          "text": [
            "Start training the model for one epoch...:   7%|▋         | 80/1073 [00:44<08:05,  2.05it/s]"
          ]
        },
        {
          "name": "stdout",
          "output_type": "stream",
          "text": [
            "Batch 80 | Loss: 0.4570 | Learning rate:  0.000196\n"
          ]
        },
        {
          "name": "stderr",
          "output_type": "stream",
          "text": [
            "Start training the model for one epoch...:   9%|▉         | 100/1073 [00:54<07:59,  2.03it/s]"
          ]
        },
        {
          "name": "stdout",
          "output_type": "stream",
          "text": [
            "Batch 100 | Loss: 0.4296 | Learning rate:  0.000196\n"
          ]
        },
        {
          "name": "stderr",
          "output_type": "stream",
          "text": [
            "Start training the model for one epoch...:  11%|█         | 120/1073 [01:03<07:40,  2.07it/s]"
          ]
        },
        {
          "name": "stdout",
          "output_type": "stream",
          "text": [
            "Batch 120 | Loss: 0.4577 | Learning rate:  0.000196\n"
          ]
        },
        {
          "name": "stderr",
          "output_type": "stream",
          "text": [
            "Start training the model for one epoch...:  13%|█▎        | 140/1073 [01:13<07:35,  2.05it/s]"
          ]
        },
        {
          "name": "stdout",
          "output_type": "stream",
          "text": [
            "Batch 140 | Loss: 0.4424 | Learning rate:  0.000196\n"
          ]
        },
        {
          "name": "stderr",
          "output_type": "stream",
          "text": [
            "Start training the model for one epoch...:  15%|█▍        | 160/1073 [01:23<07:27,  2.04it/s]"
          ]
        },
        {
          "name": "stdout",
          "output_type": "stream",
          "text": [
            "Batch 160 | Loss: 0.4503 | Learning rate:  0.000196\n"
          ]
        },
        {
          "name": "stderr",
          "output_type": "stream",
          "text": [
            "Start training the model for one epoch...:  17%|█▋        | 180/1073 [01:33<07:15,  2.05it/s]"
          ]
        },
        {
          "name": "stdout",
          "output_type": "stream",
          "text": [
            "Batch 180 | Loss: 0.4471 | Learning rate:  0.000196\n"
          ]
        },
        {
          "name": "stderr",
          "output_type": "stream",
          "text": [
            "Start training the model for one epoch...:  19%|█▊        | 200/1073 [01:42<07:07,  2.04it/s]"
          ]
        },
        {
          "name": "stdout",
          "output_type": "stream",
          "text": [
            "Batch 200 | Loss: 0.4582 | Learning rate:  0.000196\n"
          ]
        },
        {
          "name": "stderr",
          "output_type": "stream",
          "text": [
            "Start training the model for one epoch...:  21%|██        | 220/1073 [01:52<07:02,  2.02it/s]"
          ]
        },
        {
          "name": "stdout",
          "output_type": "stream",
          "text": [
            "Batch 220 | Loss: 0.4356 | Learning rate:  0.000196\n"
          ]
        },
        {
          "name": "stderr",
          "output_type": "stream",
          "text": [
            "Start training the model for one epoch...:  22%|██▏       | 240/1073 [02:02<06:38,  2.09it/s]"
          ]
        },
        {
          "name": "stdout",
          "output_type": "stream",
          "text": [
            "Batch 240 | Loss: 0.4332 | Learning rate:  0.000196\n"
          ]
        },
        {
          "name": "stderr",
          "output_type": "stream",
          "text": [
            "Start training the model for one epoch...:  24%|██▍       | 260/1073 [02:12<06:35,  2.06it/s]"
          ]
        },
        {
          "name": "stdout",
          "output_type": "stream",
          "text": [
            "Batch 260 | Loss: 0.4707 | Learning rate:  0.000196\n"
          ]
        },
        {
          "name": "stderr",
          "output_type": "stream",
          "text": [
            "Start training the model for one epoch...:  26%|██▌       | 280/1073 [02:21<06:27,  2.05it/s]"
          ]
        },
        {
          "name": "stdout",
          "output_type": "stream",
          "text": [
            "Batch 280 | Loss: 0.4613 | Learning rate:  0.000196\n"
          ]
        },
        {
          "name": "stderr",
          "output_type": "stream",
          "text": [
            "Start training the model for one epoch...:  28%|██▊       | 300/1073 [02:31<06:19,  2.04it/s]"
          ]
        },
        {
          "name": "stdout",
          "output_type": "stream",
          "text": [
            "Batch 300 | Loss: 0.4734 | Learning rate:  0.000196\n"
          ]
        },
        {
          "name": "stderr",
          "output_type": "stream",
          "text": [
            "Start training the model for one epoch...:  30%|██▉       | 320/1073 [02:41<06:05,  2.06it/s]"
          ]
        },
        {
          "name": "stdout",
          "output_type": "stream",
          "text": [
            "Batch 320 | Loss: 0.4602 | Learning rate:  0.000196\n"
          ]
        },
        {
          "name": "stderr",
          "output_type": "stream",
          "text": [
            "Start training the model for one epoch...:  32%|███▏      | 340/1073 [02:51<06:05,  2.01it/s]"
          ]
        },
        {
          "name": "stdout",
          "output_type": "stream",
          "text": [
            "Batch 340 | Loss: 0.4264 | Learning rate:  0.000196\n"
          ]
        },
        {
          "name": "stderr",
          "output_type": "stream",
          "text": [
            "Start training the model for one epoch...:  34%|███▎      | 360/1073 [03:01<05:41,  2.09it/s]"
          ]
        },
        {
          "name": "stdout",
          "output_type": "stream",
          "text": [
            "Batch 360 | Loss: 0.4537 | Learning rate:  0.000196\n"
          ]
        },
        {
          "name": "stderr",
          "output_type": "stream",
          "text": [
            "Start training the model for one epoch...:  35%|███▌      | 380/1073 [03:10<05:46,  2.00it/s]"
          ]
        },
        {
          "name": "stdout",
          "output_type": "stream",
          "text": [
            "Batch 380 | Loss: 0.4727 | Learning rate:  0.000196\n"
          ]
        },
        {
          "name": "stderr",
          "output_type": "stream",
          "text": [
            "Start training the model for one epoch...:  37%|███▋      | 400/1073 [03:20<05:27,  2.05it/s]"
          ]
        },
        {
          "name": "stdout",
          "output_type": "stream",
          "text": [
            "Batch 400 | Loss: 0.4548 | Learning rate:  0.000195\n"
          ]
        },
        {
          "name": "stderr",
          "output_type": "stream",
          "text": [
            "Start training the model for one epoch...:  39%|███▉      | 420/1073 [03:30<05:22,  2.02it/s]"
          ]
        },
        {
          "name": "stdout",
          "output_type": "stream",
          "text": [
            "Batch 420 | Loss: 0.4495 | Learning rate:  0.000195\n"
          ]
        },
        {
          "name": "stderr",
          "output_type": "stream",
          "text": [
            "Start training the model for one epoch...:  41%|████      | 440/1073 [03:40<05:08,  2.05it/s]"
          ]
        },
        {
          "name": "stdout",
          "output_type": "stream",
          "text": [
            "Batch 440 | Loss: 0.4405 | Learning rate:  0.000195\n"
          ]
        },
        {
          "name": "stderr",
          "output_type": "stream",
          "text": [
            "Start training the model for one epoch...:  43%|████▎     | 460/1073 [03:50<05:03,  2.02it/s]"
          ]
        },
        {
          "name": "stdout",
          "output_type": "stream",
          "text": [
            "Batch 460 | Loss: 0.4364 | Learning rate:  0.000195\n"
          ]
        },
        {
          "name": "stderr",
          "output_type": "stream",
          "text": [
            "Start training the model for one epoch...:  45%|████▍     | 480/1073 [03:59<04:48,  2.06it/s]"
          ]
        },
        {
          "name": "stdout",
          "output_type": "stream",
          "text": [
            "Batch 480 | Loss: 0.4596 | Learning rate:  0.000195\n"
          ]
        },
        {
          "name": "stderr",
          "output_type": "stream",
          "text": [
            "Start training the model for one epoch...:  47%|████▋     | 500/1073 [04:09<04:44,  2.02it/s]"
          ]
        },
        {
          "name": "stdout",
          "output_type": "stream",
          "text": [
            "Batch 500 | Loss: 0.4452 | Learning rate:  0.000195\n"
          ]
        },
        {
          "name": "stderr",
          "output_type": "stream",
          "text": [
            "Start training the model for one epoch...:  48%|████▊     | 520/1073 [04:19<04:28,  2.06it/s]"
          ]
        },
        {
          "name": "stdout",
          "output_type": "stream",
          "text": [
            "Batch 520 | Loss: 0.4448 | Learning rate:  0.000195\n"
          ]
        },
        {
          "name": "stderr",
          "output_type": "stream",
          "text": [
            "Start training the model for one epoch...:  50%|█████     | 540/1073 [04:29<04:25,  2.01it/s]"
          ]
        },
        {
          "name": "stdout",
          "output_type": "stream",
          "text": [
            "Batch 540 | Loss: 0.4248 | Learning rate:  0.000195\n"
          ]
        },
        {
          "name": "stderr",
          "output_type": "stream",
          "text": [
            "Start training the model for one epoch...:  52%|█████▏    | 560/1073 [04:38<04:04,  2.09it/s]"
          ]
        },
        {
          "name": "stdout",
          "output_type": "stream",
          "text": [
            "Batch 560 | Loss: 0.2827 | Learning rate:  0.000195\n"
          ]
        },
        {
          "name": "stderr",
          "output_type": "stream",
          "text": [
            "Start training the model for one epoch...:  54%|█████▍    | 580/1073 [04:48<04:05,  2.01it/s]"
          ]
        },
        {
          "name": "stdout",
          "output_type": "stream",
          "text": [
            "Batch 580 | Loss: 0.2456 | Learning rate:  0.000195\n"
          ]
        },
        {
          "name": "stderr",
          "output_type": "stream",
          "text": [
            "Start training the model for one epoch...:  56%|█████▌    | 600/1073 [04:58<03:48,  2.07it/s]"
          ]
        },
        {
          "name": "stdout",
          "output_type": "stream",
          "text": [
            "Batch 600 | Loss: 0.1878 | Learning rate:  0.000195\n"
          ]
        },
        {
          "name": "stderr",
          "output_type": "stream",
          "text": [
            "Start training the model for one epoch...:  58%|█████▊    | 620/1073 [05:08<03:42,  2.03it/s]"
          ]
        },
        {
          "name": "stdout",
          "output_type": "stream",
          "text": [
            "Batch 620 | Loss: 0.2299 | Learning rate:  0.000195\n"
          ]
        },
        {
          "name": "stderr",
          "output_type": "stream",
          "text": [
            "Start training the model for one epoch...:  60%|█████▉    | 640/1073 [05:18<03:33,  2.03it/s]"
          ]
        },
        {
          "name": "stdout",
          "output_type": "stream",
          "text": [
            "Batch 640 | Loss: 0.1609 | Learning rate:  0.000195\n"
          ]
        },
        {
          "name": "stderr",
          "output_type": "stream",
          "text": [
            "Start training the model for one epoch...:  62%|██████▏   | 660/1073 [05:27<03:23,  2.03it/s]"
          ]
        },
        {
          "name": "stdout",
          "output_type": "stream",
          "text": [
            "Batch 660 | Loss: 0.1478 | Learning rate:  0.000195\n"
          ]
        },
        {
          "name": "stderr",
          "output_type": "stream",
          "text": [
            "Start training the model for one epoch...:  63%|██████▎   | 680/1073 [05:37<03:09,  2.07it/s]"
          ]
        },
        {
          "name": "stdout",
          "output_type": "stream",
          "text": [
            "Batch 680 | Loss: 0.1272 | Learning rate:  0.000195\n"
          ]
        },
        {
          "name": "stderr",
          "output_type": "stream",
          "text": [
            "Start training the model for one epoch...:  65%|██████▌   | 700/1073 [05:47<03:03,  2.03it/s]"
          ]
        },
        {
          "name": "stdout",
          "output_type": "stream",
          "text": [
            "Batch 700 | Loss: 0.0790 | Learning rate:  0.000195\n"
          ]
        },
        {
          "name": "stderr",
          "output_type": "stream",
          "text": [
            "Start training the model for one epoch...:  67%|██████▋   | 720/1073 [05:57<02:55,  2.01it/s]"
          ]
        },
        {
          "name": "stdout",
          "output_type": "stream",
          "text": [
            "Batch 720 | Loss: 0.0959 | Learning rate:  0.000195\n"
          ]
        },
        {
          "name": "stderr",
          "output_type": "stream",
          "text": [
            "Start training the model for one epoch...:  69%|██████▉   | 740/1073 [06:07<02:43,  2.03it/s]"
          ]
        },
        {
          "name": "stdout",
          "output_type": "stream",
          "text": [
            "Batch 740 | Loss: 0.1274 | Learning rate:  0.000195\n"
          ]
        },
        {
          "name": "stderr",
          "output_type": "stream",
          "text": [
            "Start training the model for one epoch...:  71%|███████   | 760/1073 [06:16<02:32,  2.05it/s]"
          ]
        },
        {
          "name": "stdout",
          "output_type": "stream",
          "text": [
            "Batch 760 | Loss: 0.0930 | Learning rate:  0.000195\n"
          ]
        },
        {
          "name": "stderr",
          "output_type": "stream",
          "text": [
            "Start training the model for one epoch...:  73%|███████▎  | 780/1073 [06:26<02:24,  2.03it/s]"
          ]
        },
        {
          "name": "stdout",
          "output_type": "stream",
          "text": [
            "Batch 780 | Loss: 0.0746 | Learning rate:  0.000194\n"
          ]
        },
        {
          "name": "stderr",
          "output_type": "stream",
          "text": [
            "Start training the model for one epoch...:  75%|███████▍  | 800/1073 [06:36<02:12,  2.06it/s]"
          ]
        },
        {
          "name": "stdout",
          "output_type": "stream",
          "text": [
            "Batch 800 | Loss: 0.0995 | Learning rate:  0.000194\n"
          ]
        },
        {
          "name": "stderr",
          "output_type": "stream",
          "text": [
            "Start training the model for one epoch...:  76%|███████▋  | 820/1073 [06:46<02:06,  2.00it/s]"
          ]
        },
        {
          "name": "stdout",
          "output_type": "stream",
          "text": [
            "Batch 820 | Loss: 0.0932 | Learning rate:  0.000194\n"
          ]
        },
        {
          "name": "stderr",
          "output_type": "stream",
          "text": [
            "Start training the model for one epoch...:  78%|███████▊  | 840/1073 [06:56<01:52,  2.06it/s]"
          ]
        },
        {
          "name": "stdout",
          "output_type": "stream",
          "text": [
            "Batch 840 | Loss: 0.0699 | Learning rate:  0.000194\n"
          ]
        },
        {
          "name": "stderr",
          "output_type": "stream",
          "text": [
            "Start training the model for one epoch...:  80%|████████  | 860/1073 [07:06<01:44,  2.03it/s]"
          ]
        },
        {
          "name": "stdout",
          "output_type": "stream",
          "text": [
            "Batch 860 | Loss: 0.0775 | Learning rate:  0.000194\n"
          ]
        },
        {
          "name": "stderr",
          "output_type": "stream",
          "text": [
            "Start training the model for one epoch...:  82%|████████▏ | 880/1073 [07:15<01:34,  2.05it/s]"
          ]
        },
        {
          "name": "stdout",
          "output_type": "stream",
          "text": [
            "Batch 880 | Loss: 0.0542 | Learning rate:  0.000194\n"
          ]
        },
        {
          "name": "stderr",
          "output_type": "stream",
          "text": [
            "Start training the model for one epoch...:  84%|████████▍ | 900/1073 [07:25<01:25,  2.03it/s]"
          ]
        },
        {
          "name": "stdout",
          "output_type": "stream",
          "text": [
            "Batch 900 | Loss: 0.0554 | Learning rate:  0.000194\n"
          ]
        },
        {
          "name": "stderr",
          "output_type": "stream",
          "text": [
            "Start training the model for one epoch...:  86%|████████▌ | 920/1073 [07:35<01:13,  2.07it/s]"
          ]
        },
        {
          "name": "stdout",
          "output_type": "stream",
          "text": [
            "Batch 920 | Loss: 0.0530 | Learning rate:  0.000194\n"
          ]
        },
        {
          "name": "stderr",
          "output_type": "stream",
          "text": [
            "Start training the model for one epoch...:  88%|████████▊ | 940/1073 [07:45<01:05,  2.04it/s]"
          ]
        },
        {
          "name": "stdout",
          "output_type": "stream",
          "text": [
            "Batch 940 | Loss: 0.0450 | Learning rate:  0.000194\n"
          ]
        },
        {
          "name": "stderr",
          "output_type": "stream",
          "text": [
            "Start training the model for one epoch...:  89%|████████▉ | 960/1073 [07:54<00:54,  2.07it/s]"
          ]
        },
        {
          "name": "stdout",
          "output_type": "stream",
          "text": [
            "Batch 960 | Loss: 0.0412 | Learning rate:  0.000194\n"
          ]
        },
        {
          "name": "stderr",
          "output_type": "stream",
          "text": [
            "Start training the model for one epoch...:  91%|█████████▏| 980/1073 [08:04<00:44,  2.07it/s]"
          ]
        },
        {
          "name": "stdout",
          "output_type": "stream",
          "text": [
            "Batch 980 | Loss: 0.0780 | Learning rate:  0.000194\n"
          ]
        },
        {
          "name": "stderr",
          "output_type": "stream",
          "text": [
            "Start training the model for one epoch...:  93%|█████████▎| 1000/1073 [08:14<00:35,  2.05it/s]"
          ]
        },
        {
          "name": "stdout",
          "output_type": "stream",
          "text": [
            "Batch 1000 | Loss: 0.0411 | Learning rate:  0.000194\n"
          ]
        },
        {
          "name": "stderr",
          "output_type": "stream",
          "text": [
            "Start training the model for one epoch...:  95%|█████████▌| 1020/1073 [08:24<00:26,  2.04it/s]"
          ]
        },
        {
          "name": "stdout",
          "output_type": "stream",
          "text": [
            "Batch 1020 | Loss: 0.0597 | Learning rate:  0.000194\n"
          ]
        },
        {
          "name": "stderr",
          "output_type": "stream",
          "text": [
            "Start training the model for one epoch...:  97%|█████████▋| 1040/1073 [08:34<00:16,  2.04it/s]"
          ]
        },
        {
          "name": "stdout",
          "output_type": "stream",
          "text": [
            "Batch 1040 | Loss: 0.0466 | Learning rate:  0.000194\n"
          ]
        },
        {
          "name": "stderr",
          "output_type": "stream",
          "text": [
            "Start training the model for one epoch...:  99%|█████████▉| 1060/1073 [08:43<00:06,  2.16it/s]"
          ]
        },
        {
          "name": "stdout",
          "output_type": "stream",
          "text": [
            "Batch 1060 | Loss: 0.0339 | Learning rate:  0.000194\n"
          ]
        },
        {
          "name": "stderr",
          "output_type": "stream",
          "text": [
            "Start training the model for one epoch...: 100%|██████████| 1073/1073 [08:49<00:00,  2.03it/s]\n",
            "120it [00:36,  3.28it/s]\n"
          ]
        },
        {
          "name": "stdout",
          "output_type": "stream",
          "text": [
            "Epoch: 8, train loss: 0.2804416301230599, val_loss: 0.07048333676842351, val_dice: 0.7392354261629744, val_IoU: 0.6558660875550185\n"
          ]
        },
        {
          "name": "stderr",
          "output_type": "stream",
          "text": [
            "Start training the model for one epoch...:   2%|▏         | 20/1073 [00:15<08:52,  1.98it/s]"
          ]
        },
        {
          "name": "stdout",
          "output_type": "stream",
          "text": [
            "Batch 20 | Loss: 0.0457 | Learning rate:  0.000194\n"
          ]
        },
        {
          "name": "stderr",
          "output_type": "stream",
          "text": [
            "Start training the model for one epoch...:   4%|▎         | 40/1073 [00:25<08:20,  2.06it/s]"
          ]
        },
        {
          "name": "stdout",
          "output_type": "stream",
          "text": [
            "Batch 40 | Loss: 0.0353 | Learning rate:  0.000194\n"
          ]
        },
        {
          "name": "stderr",
          "output_type": "stream",
          "text": [
            "Start training the model for one epoch...:   6%|▌         | 60/1073 [00:35<08:26,  2.00it/s]"
          ]
        },
        {
          "name": "stdout",
          "output_type": "stream",
          "text": [
            "Batch 60 | Loss: 0.0456 | Learning rate:  0.000193\n"
          ]
        },
        {
          "name": "stderr",
          "output_type": "stream",
          "text": [
            "Start training the model for one epoch...:   7%|▋         | 80/1073 [00:44<08:01,  2.06it/s]"
          ]
        },
        {
          "name": "stdout",
          "output_type": "stream",
          "text": [
            "Batch 80 | Loss: 0.0409 | Learning rate:  0.000193\n"
          ]
        },
        {
          "name": "stderr",
          "output_type": "stream",
          "text": [
            "Start training the model for one epoch...:   9%|▉         | 100/1073 [00:54<07:50,  2.07it/s]"
          ]
        },
        {
          "name": "stdout",
          "output_type": "stream",
          "text": [
            "Batch 100 | Loss: 0.0351 | Learning rate:  0.000193\n"
          ]
        },
        {
          "name": "stderr",
          "output_type": "stream",
          "text": [
            "Start training the model for one epoch...:  11%|█         | 120/1073 [01:04<07:42,  2.06it/s]"
          ]
        },
        {
          "name": "stdout",
          "output_type": "stream",
          "text": [
            "Batch 120 | Loss: 0.0313 | Learning rate:  0.000193\n"
          ]
        },
        {
          "name": "stderr",
          "output_type": "stream",
          "text": [
            "Start training the model for one epoch...:  13%|█▎        | 140/1073 [01:14<07:40,  2.03it/s]"
          ]
        },
        {
          "name": "stdout",
          "output_type": "stream",
          "text": [
            "Batch 140 | Loss: 0.0393 | Learning rate:  0.000193\n"
          ]
        },
        {
          "name": "stderr",
          "output_type": "stream",
          "text": [
            "Start training the model for one epoch...:  15%|█▍        | 160/1073 [01:23<07:19,  2.08it/s]"
          ]
        },
        {
          "name": "stdout",
          "output_type": "stream",
          "text": [
            "Batch 160 | Loss: 0.0532 | Learning rate:  0.000193\n"
          ]
        },
        {
          "name": "stderr",
          "output_type": "stream",
          "text": [
            "Start training the model for one epoch...:  17%|█▋        | 180/1073 [01:33<07:18,  2.04it/s]"
          ]
        },
        {
          "name": "stdout",
          "output_type": "stream",
          "text": [
            "Batch 180 | Loss: 0.0271 | Learning rate:  0.000193\n"
          ]
        },
        {
          "name": "stderr",
          "output_type": "stream",
          "text": [
            "Start training the model for one epoch...:  19%|█▊        | 200/1073 [01:43<06:59,  2.08it/s]"
          ]
        },
        {
          "name": "stdout",
          "output_type": "stream",
          "text": [
            "Batch 200 | Loss: 0.0278 | Learning rate:  0.000193\n"
          ]
        },
        {
          "name": "stderr",
          "output_type": "stream",
          "text": [
            "Start training the model for one epoch...:  21%|██        | 220/1073 [01:53<06:58,  2.04it/s]"
          ]
        },
        {
          "name": "stdout",
          "output_type": "stream",
          "text": [
            "Batch 220 | Loss: 0.0541 | Learning rate:  0.000193\n"
          ]
        },
        {
          "name": "stderr",
          "output_type": "stream",
          "text": [
            "Start training the model for one epoch...:  22%|██▏       | 240/1073 [02:02<06:40,  2.08it/s]"
          ]
        },
        {
          "name": "stdout",
          "output_type": "stream",
          "text": [
            "Batch 240 | Loss: 0.0323 | Learning rate:  0.000193\n"
          ]
        },
        {
          "name": "stderr",
          "output_type": "stream",
          "text": [
            "Start training the model for one epoch...:  24%|██▍       | 260/1073 [02:12<06:37,  2.05it/s]"
          ]
        },
        {
          "name": "stdout",
          "output_type": "stream",
          "text": [
            "Batch 260 | Loss: 0.0602 | Learning rate:  0.000193\n"
          ]
        },
        {
          "name": "stderr",
          "output_type": "stream",
          "text": [
            "Start training the model for one epoch...:  26%|██▌       | 280/1073 [02:22<06:19,  2.09it/s]"
          ]
        },
        {
          "name": "stdout",
          "output_type": "stream",
          "text": [
            "Batch 280 | Loss: 0.0409 | Learning rate:  0.000193\n"
          ]
        },
        {
          "name": "stderr",
          "output_type": "stream",
          "text": [
            "Start training the model for one epoch...:  28%|██▊       | 300/1073 [02:32<06:27,  1.99it/s]"
          ]
        },
        {
          "name": "stdout",
          "output_type": "stream",
          "text": [
            "Batch 300 | Loss: 0.1096 | Learning rate:  0.000193\n"
          ]
        },
        {
          "name": "stderr",
          "output_type": "stream",
          "text": [
            "Start training the model for one epoch...:  30%|██▉       | 320/1073 [02:41<06:00,  2.09it/s]"
          ]
        },
        {
          "name": "stdout",
          "output_type": "stream",
          "text": [
            "Batch 320 | Loss: 0.0800 | Learning rate:  0.000193\n"
          ]
        },
        {
          "name": "stderr",
          "output_type": "stream",
          "text": [
            "Start training the model for one epoch...:  32%|███▏      | 340/1073 [02:51<06:01,  2.03it/s]"
          ]
        },
        {
          "name": "stdout",
          "output_type": "stream",
          "text": [
            "Batch 340 | Loss: 0.0359 | Learning rate:  0.000193\n"
          ]
        },
        {
          "name": "stderr",
          "output_type": "stream",
          "text": [
            "Start training the model for one epoch...:  34%|███▎      | 360/1073 [03:01<05:46,  2.06it/s]"
          ]
        },
        {
          "name": "stdout",
          "output_type": "stream",
          "text": [
            "Batch 360 | Loss: 0.0467 | Learning rate:  0.000193\n"
          ]
        },
        {
          "name": "stderr",
          "output_type": "stream",
          "text": [
            "Start training the model for one epoch...:  35%|███▌      | 380/1073 [03:11<05:41,  2.03it/s]"
          ]
        },
        {
          "name": "stdout",
          "output_type": "stream",
          "text": [
            "Batch 380 | Loss: 0.0557 | Learning rate:  0.000193\n"
          ]
        },
        {
          "name": "stderr",
          "output_type": "stream",
          "text": [
            "Start training the model for one epoch...:  37%|███▋      | 400/1073 [03:20<05:29,  2.04it/s]"
          ]
        },
        {
          "name": "stdout",
          "output_type": "stream",
          "text": [
            "Batch 400 | Loss: 0.0325 | Learning rate:  0.000192\n"
          ]
        },
        {
          "name": "stderr",
          "output_type": "stream",
          "text": [
            "Start training the model for one epoch...:  39%|███▉      | 420/1073 [03:30<05:23,  2.02it/s]"
          ]
        },
        {
          "name": "stdout",
          "output_type": "stream",
          "text": [
            "Batch 420 | Loss: 0.0612 | Learning rate:  0.000192\n"
          ]
        },
        {
          "name": "stderr",
          "output_type": "stream",
          "text": [
            "Start training the model for one epoch...:  41%|████      | 440/1073 [03:40<05:07,  2.06it/s]"
          ]
        },
        {
          "name": "stdout",
          "output_type": "stream",
          "text": [
            "Batch 440 | Loss: 0.0491 | Learning rate:  0.000192\n"
          ]
        },
        {
          "name": "stderr",
          "output_type": "stream",
          "text": [
            "Start training the model for one epoch...:  43%|████▎     | 460/1073 [03:50<05:02,  2.02it/s]"
          ]
        },
        {
          "name": "stdout",
          "output_type": "stream",
          "text": [
            "Batch 460 | Loss: 0.0245 | Learning rate:  0.000192\n"
          ]
        },
        {
          "name": "stderr",
          "output_type": "stream",
          "text": [
            "Start training the model for one epoch...:  45%|████▍     | 480/1073 [03:59<04:47,  2.06it/s]"
          ]
        },
        {
          "name": "stdout",
          "output_type": "stream",
          "text": [
            "Batch 480 | Loss: 0.0631 | Learning rate:  0.000192\n"
          ]
        },
        {
          "name": "stderr",
          "output_type": "stream",
          "text": [
            "Start training the model for one epoch...:  47%|████▋     | 500/1073 [04:09<04:44,  2.01it/s]"
          ]
        },
        {
          "name": "stdout",
          "output_type": "stream",
          "text": [
            "Batch 500 | Loss: 0.0620 | Learning rate:  0.000192\n"
          ]
        },
        {
          "name": "stderr",
          "output_type": "stream",
          "text": [
            "Start training the model for one epoch...:  48%|████▊     | 520/1073 [04:19<04:29,  2.05it/s]"
          ]
        },
        {
          "name": "stdout",
          "output_type": "stream",
          "text": [
            "Batch 520 | Loss: 0.0286 | Learning rate:  0.000192\n"
          ]
        },
        {
          "name": "stderr",
          "output_type": "stream",
          "text": [
            "Start training the model for one epoch...:  50%|█████     | 540/1073 [04:29<04:22,  2.03it/s]"
          ]
        },
        {
          "name": "stdout",
          "output_type": "stream",
          "text": [
            "Batch 540 | Loss: 0.0327 | Learning rate:  0.000192\n"
          ]
        },
        {
          "name": "stderr",
          "output_type": "stream",
          "text": [
            "Start training the model for one epoch...:  52%|█████▏    | 560/1073 [04:39<04:10,  2.05it/s]"
          ]
        },
        {
          "name": "stdout",
          "output_type": "stream",
          "text": [
            "Batch 560 | Loss: 0.0334 | Learning rate:  0.000192\n"
          ]
        },
        {
          "name": "stderr",
          "output_type": "stream",
          "text": [
            "Start training the model for one epoch...:  54%|█████▍    | 580/1073 [04:49<04:05,  2.01it/s]"
          ]
        },
        {
          "name": "stdout",
          "output_type": "stream",
          "text": [
            "Batch 580 | Loss: 0.0236 | Learning rate:  0.000192\n"
          ]
        },
        {
          "name": "stderr",
          "output_type": "stream",
          "text": [
            "Start training the model for one epoch...:  56%|█████▌    | 600/1073 [04:58<03:50,  2.05it/s]"
          ]
        },
        {
          "name": "stdout",
          "output_type": "stream",
          "text": [
            "Batch 600 | Loss: 0.0600 | Learning rate:  0.000192\n"
          ]
        },
        {
          "name": "stderr",
          "output_type": "stream",
          "text": [
            "Start training the model for one epoch...:  58%|█████▊    | 620/1073 [05:08<03:44,  2.01it/s]"
          ]
        },
        {
          "name": "stdout",
          "output_type": "stream",
          "text": [
            "Batch 620 | Loss: 0.0387 | Learning rate:  0.000192\n"
          ]
        },
        {
          "name": "stderr",
          "output_type": "stream",
          "text": [
            "Start training the model for one epoch...:  60%|█████▉    | 640/1073 [05:18<03:32,  2.04it/s]"
          ]
        },
        {
          "name": "stdout",
          "output_type": "stream",
          "text": [
            "Batch 640 | Loss: 0.0417 | Learning rate:  0.000192\n"
          ]
        },
        {
          "name": "stderr",
          "output_type": "stream",
          "text": [
            "Start training the model for one epoch...:  62%|██████▏   | 660/1073 [05:28<03:26,  2.00it/s]"
          ]
        },
        {
          "name": "stdout",
          "output_type": "stream",
          "text": [
            "Batch 660 | Loss: 0.0263 | Learning rate:  0.000192\n"
          ]
        },
        {
          "name": "stderr",
          "output_type": "stream",
          "text": [
            "Start training the model for one epoch...:  63%|██████▎   | 680/1073 [05:38<03:12,  2.04it/s]"
          ]
        },
        {
          "name": "stdout",
          "output_type": "stream",
          "text": [
            "Batch 680 | Loss: 0.0394 | Learning rate:  0.000192\n"
          ]
        },
        {
          "name": "stderr",
          "output_type": "stream",
          "text": [
            "Start training the model for one epoch...:  65%|██████▌   | 700/1073 [05:47<03:04,  2.02it/s]"
          ]
        },
        {
          "name": "stdout",
          "output_type": "stream",
          "text": [
            "Batch 700 | Loss: 0.0297 | Learning rate:  0.000191\n"
          ]
        },
        {
          "name": "stderr",
          "output_type": "stream",
          "text": [
            "Start training the model for one epoch...:  67%|██████▋   | 720/1073 [05:57<02:51,  2.06it/s]"
          ]
        },
        {
          "name": "stdout",
          "output_type": "stream",
          "text": [
            "Batch 720 | Loss: 0.0353 | Learning rate:  0.000191\n"
          ]
        },
        {
          "name": "stderr",
          "output_type": "stream",
          "text": [
            "Start training the model for one epoch...:  69%|██████▉   | 740/1073 [06:07<02:46,  2.00it/s]"
          ]
        },
        {
          "name": "stdout",
          "output_type": "stream",
          "text": [
            "Batch 740 | Loss: 0.0286 | Learning rate:  0.000191\n"
          ]
        },
        {
          "name": "stderr",
          "output_type": "stream",
          "text": [
            "Start training the model for one epoch...:  71%|███████   | 760/1073 [06:17<02:31,  2.06it/s]"
          ]
        },
        {
          "name": "stdout",
          "output_type": "stream",
          "text": [
            "Batch 760 | Loss: 0.0633 | Learning rate:  0.000191\n"
          ]
        },
        {
          "name": "stderr",
          "output_type": "stream",
          "text": [
            "Start training the model for one epoch...:  73%|███████▎  | 780/1073 [06:27<02:23,  2.05it/s]"
          ]
        },
        {
          "name": "stdout",
          "output_type": "stream",
          "text": [
            "Batch 780 | Loss: 0.0392 | Learning rate:  0.000191\n"
          ]
        },
        {
          "name": "stderr",
          "output_type": "stream",
          "text": [
            "Start training the model for one epoch...:  75%|███████▍  | 800/1073 [06:36<02:12,  2.07it/s]"
          ]
        },
        {
          "name": "stdout",
          "output_type": "stream",
          "text": [
            "Batch 800 | Loss: 0.0466 | Learning rate:  0.000191\n"
          ]
        },
        {
          "name": "stderr",
          "output_type": "stream",
          "text": [
            "Start training the model for one epoch...:  76%|███████▋  | 820/1073 [06:46<02:04,  2.03it/s]"
          ]
        },
        {
          "name": "stdout",
          "output_type": "stream",
          "text": [
            "Batch 820 | Loss: 0.0274 | Learning rate:  0.000191\n"
          ]
        },
        {
          "name": "stderr",
          "output_type": "stream",
          "text": [
            "Start training the model for one epoch...:  78%|███████▊  | 840/1073 [06:56<01:54,  2.03it/s]"
          ]
        },
        {
          "name": "stdout",
          "output_type": "stream",
          "text": [
            "Batch 840 | Loss: 0.0519 | Learning rate:  0.000191\n"
          ]
        },
        {
          "name": "stderr",
          "output_type": "stream",
          "text": [
            "Start training the model for one epoch...:  80%|████████  | 860/1073 [07:06<01:44,  2.03it/s]"
          ]
        },
        {
          "name": "stdout",
          "output_type": "stream",
          "text": [
            "Batch 860 | Loss: 0.0496 | Learning rate:  0.000191\n"
          ]
        },
        {
          "name": "stderr",
          "output_type": "stream",
          "text": [
            "Start training the model for one epoch...:  82%|████████▏ | 880/1073 [07:16<01:34,  2.05it/s]"
          ]
        },
        {
          "name": "stdout",
          "output_type": "stream",
          "text": [
            "Batch 880 | Loss: 0.0452 | Learning rate:  0.000191\n"
          ]
        },
        {
          "name": "stderr",
          "output_type": "stream",
          "text": [
            "Start training the model for one epoch...:  84%|████████▍ | 900/1073 [07:25<01:24,  2.05it/s]"
          ]
        },
        {
          "name": "stdout",
          "output_type": "stream",
          "text": [
            "Batch 900 | Loss: 0.0374 | Learning rate:  0.000191\n"
          ]
        },
        {
          "name": "stderr",
          "output_type": "stream",
          "text": [
            "Start training the model for one epoch...:  86%|████████▌ | 920/1073 [07:35<01:15,  2.03it/s]"
          ]
        },
        {
          "name": "stdout",
          "output_type": "stream",
          "text": [
            "Batch 920 | Loss: 0.0397 | Learning rate:  0.000191\n"
          ]
        },
        {
          "name": "stderr",
          "output_type": "stream",
          "text": [
            "Start training the model for one epoch...:  88%|████████▊ | 940/1073 [07:45<01:05,  2.02it/s]"
          ]
        },
        {
          "name": "stdout",
          "output_type": "stream",
          "text": [
            "Batch 940 | Loss: 0.0336 | Learning rate:  0.000191\n"
          ]
        },
        {
          "name": "stderr",
          "output_type": "stream",
          "text": [
            "Start training the model for one epoch...:  89%|████████▉ | 960/1073 [07:55<00:55,  2.05it/s]"
          ]
        },
        {
          "name": "stdout",
          "output_type": "stream",
          "text": [
            "Batch 960 | Loss: 0.0322 | Learning rate:  0.000191\n"
          ]
        },
        {
          "name": "stderr",
          "output_type": "stream",
          "text": [
            "Start training the model for one epoch...:  91%|█████████▏| 980/1073 [08:05<00:45,  2.04it/s]"
          ]
        },
        {
          "name": "stdout",
          "output_type": "stream",
          "text": [
            "Batch 980 | Loss: 0.0379 | Learning rate:  0.000190\n"
          ]
        },
        {
          "name": "stderr",
          "output_type": "stream",
          "text": [
            "Start training the model for one epoch...:  93%|█████████▎| 1000/1073 [08:15<00:36,  2.02it/s]"
          ]
        },
        {
          "name": "stdout",
          "output_type": "stream",
          "text": [
            "Batch 1000 | Loss: 0.0257 | Learning rate:  0.000190\n"
          ]
        },
        {
          "name": "stderr",
          "output_type": "stream",
          "text": [
            "Start training the model for one epoch...:  95%|█████████▌| 1020/1073 [08:24<00:26,  2.03it/s]"
          ]
        },
        {
          "name": "stdout",
          "output_type": "stream",
          "text": [
            "Batch 1020 | Loss: 0.0257 | Learning rate:  0.000190\n"
          ]
        },
        {
          "name": "stderr",
          "output_type": "stream",
          "text": [
            "Start training the model for one epoch...:  97%|█████████▋| 1040/1073 [08:34<00:16,  2.04it/s]"
          ]
        },
        {
          "name": "stdout",
          "output_type": "stream",
          "text": [
            "Batch 1040 | Loss: 0.0496 | Learning rate:  0.000190\n"
          ]
        },
        {
          "name": "stderr",
          "output_type": "stream",
          "text": [
            "Start training the model for one epoch...:  99%|█████████▉| 1060/1073 [08:44<00:06,  2.16it/s]"
          ]
        },
        {
          "name": "stdout",
          "output_type": "stream",
          "text": [
            "Batch 1060 | Loss: 0.0425 | Learning rate:  0.000190\n"
          ]
        },
        {
          "name": "stderr",
          "output_type": "stream",
          "text": [
            "Start training the model for one epoch...: 100%|██████████| 1073/1073 [08:50<00:00,  2.02it/s]\n",
            "120it [00:37,  3.22it/s]\n"
          ]
        },
        {
          "name": "stdout",
          "output_type": "stream",
          "text": [
            "Epoch: 9, train loss: 0.04341903745256649, val_loss: 0.0620470787708958, val_dice: 0.7778163878048937, val_IoU: 0.6939861641049899\n"
          ]
        },
        {
          "name": "stderr",
          "output_type": "stream",
          "text": [
            "Start training the model for one epoch...:   2%|▏         | 20/1073 [00:15<08:48,  1.99it/s]"
          ]
        },
        {
          "name": "stdout",
          "output_type": "stream",
          "text": [
            "Batch 20 | Loss: 0.0320 | Learning rate:  0.000190\n"
          ]
        },
        {
          "name": "stderr",
          "output_type": "stream",
          "text": [
            "Start training the model for one epoch...:   4%|▎         | 40/1073 [00:25<08:25,  2.04it/s]"
          ]
        },
        {
          "name": "stdout",
          "output_type": "stream",
          "text": [
            "Batch 40 | Loss: 0.0370 | Learning rate:  0.000190\n"
          ]
        },
        {
          "name": "stderr",
          "output_type": "stream",
          "text": [
            "Start training the model for one epoch...:   6%|▌         | 60/1073 [00:34<08:20,  2.02it/s]"
          ]
        },
        {
          "name": "stdout",
          "output_type": "stream",
          "text": [
            "Batch 60 | Loss: 0.0270 | Learning rate:  0.000190\n"
          ]
        },
        {
          "name": "stderr",
          "output_type": "stream",
          "text": [
            "Start training the model for one epoch...:   7%|▋         | 80/1073 [00:44<07:53,  2.10it/s]"
          ]
        },
        {
          "name": "stdout",
          "output_type": "stream",
          "text": [
            "Batch 80 | Loss: 0.0293 | Learning rate:  0.000190\n"
          ]
        },
        {
          "name": "stderr",
          "output_type": "stream",
          "text": [
            "Start training the model for one epoch...:   9%|▉         | 100/1073 [00:54<08:01,  2.02it/s]"
          ]
        },
        {
          "name": "stdout",
          "output_type": "stream",
          "text": [
            "Batch 100 | Loss: 0.0316 | Learning rate:  0.000190\n"
          ]
        },
        {
          "name": "stderr",
          "output_type": "stream",
          "text": [
            "Start training the model for one epoch...:  11%|█         | 120/1073 [01:04<07:45,  2.05it/s]"
          ]
        },
        {
          "name": "stdout",
          "output_type": "stream",
          "text": [
            "Batch 120 | Loss: 0.0725 | Learning rate:  0.000190\n"
          ]
        },
        {
          "name": "stderr",
          "output_type": "stream",
          "text": [
            "Start training the model for one epoch...:  13%|█▎        | 140/1073 [01:13<07:35,  2.05it/s]"
          ]
        },
        {
          "name": "stdout",
          "output_type": "stream",
          "text": [
            "Batch 140 | Loss: 0.0381 | Learning rate:  0.000190\n"
          ]
        },
        {
          "name": "stderr",
          "output_type": "stream",
          "text": [
            "Start training the model for one epoch...:  15%|█▍        | 160/1073 [01:23<07:24,  2.05it/s]"
          ]
        },
        {
          "name": "stdout",
          "output_type": "stream",
          "text": [
            "Batch 160 | Loss: 0.0368 | Learning rate:  0.000190\n"
          ]
        },
        {
          "name": "stderr",
          "output_type": "stream",
          "text": [
            "Start training the model for one epoch...:  17%|█▋        | 180/1073 [01:33<07:25,  2.00it/s]"
          ]
        },
        {
          "name": "stdout",
          "output_type": "stream",
          "text": [
            "Batch 180 | Loss: 0.0469 | Learning rate:  0.000189\n"
          ]
        },
        {
          "name": "stderr",
          "output_type": "stream",
          "text": [
            "Start training the model for one epoch...:  19%|█▊        | 200/1073 [01:43<07:05,  2.05it/s]"
          ]
        },
        {
          "name": "stdout",
          "output_type": "stream",
          "text": [
            "Batch 200 | Loss: 0.0417 | Learning rate:  0.000189\n"
          ]
        },
        {
          "name": "stderr",
          "output_type": "stream",
          "text": [
            "Start training the model for one epoch...:  21%|██        | 220/1073 [01:53<06:59,  2.03it/s]"
          ]
        },
        {
          "name": "stdout",
          "output_type": "stream",
          "text": [
            "Batch 220 | Loss: 0.0384 | Learning rate:  0.000189\n"
          ]
        },
        {
          "name": "stderr",
          "output_type": "stream",
          "text": [
            "Start training the model for one epoch...:  22%|██▏       | 240/1073 [02:02<06:45,  2.05it/s]"
          ]
        },
        {
          "name": "stdout",
          "output_type": "stream",
          "text": [
            "Batch 240 | Loss: 0.0488 | Learning rate:  0.000189\n"
          ]
        },
        {
          "name": "stderr",
          "output_type": "stream",
          "text": [
            "Start training the model for one epoch...:  24%|██▍       | 260/1073 [02:12<06:38,  2.04it/s]"
          ]
        },
        {
          "name": "stdout",
          "output_type": "stream",
          "text": [
            "Batch 260 | Loss: 0.0371 | Learning rate:  0.000189\n"
          ]
        },
        {
          "name": "stderr",
          "output_type": "stream",
          "text": [
            "Start training the model for one epoch...:  26%|██▌       | 280/1073 [02:22<06:27,  2.05it/s]"
          ]
        },
        {
          "name": "stdout",
          "output_type": "stream",
          "text": [
            "Batch 280 | Loss: 0.0342 | Learning rate:  0.000189\n"
          ]
        },
        {
          "name": "stderr",
          "output_type": "stream",
          "text": [
            "Start training the model for one epoch...:  28%|██▊       | 300/1073 [02:32<06:17,  2.05it/s]"
          ]
        },
        {
          "name": "stdout",
          "output_type": "stream",
          "text": [
            "Batch 300 | Loss: 0.0237 | Learning rate:  0.000189\n"
          ]
        },
        {
          "name": "stderr",
          "output_type": "stream",
          "text": [
            "Start training the model for one epoch...:  30%|██▉       | 320/1073 [02:41<06:04,  2.07it/s]"
          ]
        },
        {
          "name": "stdout",
          "output_type": "stream",
          "text": [
            "Batch 320 | Loss: 0.0253 | Learning rate:  0.000189\n"
          ]
        },
        {
          "name": "stderr",
          "output_type": "stream",
          "text": [
            "Start training the model for one epoch...:  32%|███▏      | 340/1073 [02:51<05:59,  2.04it/s]"
          ]
        },
        {
          "name": "stdout",
          "output_type": "stream",
          "text": [
            "Batch 340 | Loss: 0.0343 | Learning rate:  0.000189\n"
          ]
        },
        {
          "name": "stderr",
          "output_type": "stream",
          "text": [
            "Start training the model for one epoch...:  34%|███▎      | 360/1073 [03:01<05:40,  2.09it/s]"
          ]
        },
        {
          "name": "stdout",
          "output_type": "stream",
          "text": [
            "Batch 360 | Loss: 0.0249 | Learning rate:  0.000189\n"
          ]
        },
        {
          "name": "stderr",
          "output_type": "stream",
          "text": [
            "Start training the model for one epoch...:  35%|███▌      | 380/1073 [03:11<05:42,  2.03it/s]"
          ]
        },
        {
          "name": "stdout",
          "output_type": "stream",
          "text": [
            "Batch 380 | Loss: 0.0389 | Learning rate:  0.000189\n"
          ]
        },
        {
          "name": "stderr",
          "output_type": "stream",
          "text": [
            "Start training the model for one epoch...:  37%|███▋      | 400/1073 [03:20<05:27,  2.05it/s]"
          ]
        },
        {
          "name": "stdout",
          "output_type": "stream",
          "text": [
            "Batch 400 | Loss: 0.0336 | Learning rate:  0.000189\n"
          ]
        },
        {
          "name": "stderr",
          "output_type": "stream",
          "text": [
            "Start training the model for one epoch...:  39%|███▉      | 420/1073 [03:30<05:23,  2.02it/s]"
          ]
        },
        {
          "name": "stdout",
          "output_type": "stream",
          "text": [
            "Batch 420 | Loss: 0.0319 | Learning rate:  0.000189\n"
          ]
        },
        {
          "name": "stderr",
          "output_type": "stream",
          "text": [
            "Start training the model for one epoch...:  41%|████      | 440/1073 [03:40<05:01,  2.10it/s]"
          ]
        },
        {
          "name": "stdout",
          "output_type": "stream",
          "text": [
            "Batch 440 | Loss: 0.0296 | Learning rate:  0.000189\n"
          ]
        },
        {
          "name": "stderr",
          "output_type": "stream",
          "text": [
            "Start training the model for one epoch...:  43%|████▎     | 460/1073 [03:50<05:03,  2.02it/s]"
          ]
        },
        {
          "name": "stdout",
          "output_type": "stream",
          "text": [
            "Batch 460 | Loss: 0.0255 | Learning rate:  0.000188\n"
          ]
        },
        {
          "name": "stderr",
          "output_type": "stream",
          "text": [
            "Start training the model for one epoch...:  45%|████▍     | 480/1073 [03:59<04:46,  2.07it/s]"
          ]
        },
        {
          "name": "stdout",
          "output_type": "stream",
          "text": [
            "Batch 480 | Loss: 0.0579 | Learning rate:  0.000188\n"
          ]
        },
        {
          "name": "stderr",
          "output_type": "stream",
          "text": [
            "Start training the model for one epoch...:  47%|████▋     | 500/1073 [04:09<04:43,  2.02it/s]"
          ]
        },
        {
          "name": "stdout",
          "output_type": "stream",
          "text": [
            "Batch 500 | Loss: 0.0235 | Learning rate:  0.000188\n"
          ]
        },
        {
          "name": "stderr",
          "output_type": "stream",
          "text": [
            "Start training the model for one epoch...:  48%|████▊     | 520/1073 [04:19<04:27,  2.06it/s]"
          ]
        },
        {
          "name": "stdout",
          "output_type": "stream",
          "text": [
            "Batch 520 | Loss: 0.0262 | Learning rate:  0.000188\n"
          ]
        },
        {
          "name": "stderr",
          "output_type": "stream",
          "text": [
            "Start training the model for one epoch...:  50%|█████     | 540/1073 [04:29<04:23,  2.02it/s]"
          ]
        },
        {
          "name": "stdout",
          "output_type": "stream",
          "text": [
            "Batch 540 | Loss: 0.0320 | Learning rate:  0.000188\n"
          ]
        },
        {
          "name": "stderr",
          "output_type": "stream",
          "text": [
            "Start training the model for one epoch...:  52%|█████▏    | 560/1073 [04:39<04:11,  2.04it/s]"
          ]
        },
        {
          "name": "stdout",
          "output_type": "stream",
          "text": [
            "Batch 560 | Loss: 0.0552 | Learning rate:  0.000188\n"
          ]
        },
        {
          "name": "stderr",
          "output_type": "stream",
          "text": [
            "Start training the model for one epoch...:  54%|█████▍    | 580/1073 [04:49<04:06,  2.00it/s]"
          ]
        },
        {
          "name": "stdout",
          "output_type": "stream",
          "text": [
            "Batch 580 | Loss: 0.0324 | Learning rate:  0.000188\n"
          ]
        },
        {
          "name": "stderr",
          "output_type": "stream",
          "text": [
            "Start training the model for one epoch...:  56%|█████▌    | 600/1073 [04:58<03:49,  2.06it/s]"
          ]
        },
        {
          "name": "stdout",
          "output_type": "stream",
          "text": [
            "Batch 600 | Loss: 0.0491 | Learning rate:  0.000188\n"
          ]
        },
        {
          "name": "stderr",
          "output_type": "stream",
          "text": [
            "Start training the model for one epoch...:  58%|█████▊    | 620/1073 [05:08<03:47,  2.00it/s]"
          ]
        },
        {
          "name": "stdout",
          "output_type": "stream",
          "text": [
            "Batch 620 | Loss: 0.0540 | Learning rate:  0.000188\n"
          ]
        },
        {
          "name": "stderr",
          "output_type": "stream",
          "text": [
            "Start training the model for one epoch...:  60%|█████▉    | 640/1073 [05:18<03:32,  2.04it/s]"
          ]
        },
        {
          "name": "stdout",
          "output_type": "stream",
          "text": [
            "Batch 640 | Loss: 0.0410 | Learning rate:  0.000188\n"
          ]
        },
        {
          "name": "stderr",
          "output_type": "stream",
          "text": [
            "Start training the model for one epoch...:  62%|██████▏   | 660/1073 [05:28<03:24,  2.02it/s]"
          ]
        },
        {
          "name": "stdout",
          "output_type": "stream",
          "text": [
            "Batch 660 | Loss: 0.0206 | Learning rate:  0.000188\n"
          ]
        },
        {
          "name": "stderr",
          "output_type": "stream",
          "text": [
            "Start training the model for one epoch...:  63%|██████▎   | 680/1073 [05:38<03:06,  2.11it/s]"
          ]
        },
        {
          "name": "stdout",
          "output_type": "stream",
          "text": [
            "Batch 680 | Loss: 0.0398 | Learning rate:  0.000188\n"
          ]
        },
        {
          "name": "stderr",
          "output_type": "stream",
          "text": [
            "Start training the model for one epoch...:  65%|██████▌   | 700/1073 [05:47<03:06,  2.00it/s]"
          ]
        },
        {
          "name": "stdout",
          "output_type": "stream",
          "text": [
            "Batch 700 | Loss: 0.0377 | Learning rate:  0.000187\n"
          ]
        },
        {
          "name": "stderr",
          "output_type": "stream",
          "text": [
            "Start training the model for one epoch...:  67%|██████▋   | 720/1073 [05:57<02:50,  2.07it/s]"
          ]
        },
        {
          "name": "stdout",
          "output_type": "stream",
          "text": [
            "Batch 720 | Loss: 0.0276 | Learning rate:  0.000187\n"
          ]
        },
        {
          "name": "stderr",
          "output_type": "stream",
          "text": [
            "Start training the model for one epoch...:  69%|██████▉   | 740/1073 [06:07<02:42,  2.05it/s]"
          ]
        },
        {
          "name": "stdout",
          "output_type": "stream",
          "text": [
            "Batch 740 | Loss: 0.0345 | Learning rate:  0.000187\n"
          ]
        },
        {
          "name": "stderr",
          "output_type": "stream",
          "text": [
            "Start training the model for one epoch...:  71%|███████   | 760/1073 [06:17<02:30,  2.08it/s]"
          ]
        },
        {
          "name": "stdout",
          "output_type": "stream",
          "text": [
            "Batch 760 | Loss: 0.0342 | Learning rate:  0.000187\n"
          ]
        },
        {
          "name": "stderr",
          "output_type": "stream",
          "text": [
            "Start training the model for one epoch...:  73%|███████▎  | 780/1073 [06:26<02:25,  2.02it/s]"
          ]
        },
        {
          "name": "stdout",
          "output_type": "stream",
          "text": [
            "Batch 780 | Loss: 0.0506 | Learning rate:  0.000187\n"
          ]
        },
        {
          "name": "stderr",
          "output_type": "stream",
          "text": [
            "Start training the model for one epoch...:  75%|███████▍  | 800/1073 [06:36<02:11,  2.08it/s]"
          ]
        },
        {
          "name": "stdout",
          "output_type": "stream",
          "text": [
            "Batch 800 | Loss: 0.0303 | Learning rate:  0.000187\n"
          ]
        },
        {
          "name": "stderr",
          "output_type": "stream",
          "text": [
            "Start training the model for one epoch...:  76%|███████▋  | 820/1073 [06:46<02:06,  1.99it/s]"
          ]
        },
        {
          "name": "stdout",
          "output_type": "stream",
          "text": [
            "Batch 820 | Loss: 0.0314 | Learning rate:  0.000187\n"
          ]
        },
        {
          "name": "stderr",
          "output_type": "stream",
          "text": [
            "Start training the model for one epoch...:  78%|███████▊  | 840/1073 [06:56<01:53,  2.05it/s]"
          ]
        },
        {
          "name": "stdout",
          "output_type": "stream",
          "text": [
            "Batch 840 | Loss: 0.0328 | Learning rate:  0.000187\n"
          ]
        },
        {
          "name": "stderr",
          "output_type": "stream",
          "text": [
            "Start training the model for one epoch...:  80%|████████  | 860/1073 [07:06<01:45,  2.01it/s]"
          ]
        },
        {
          "name": "stdout",
          "output_type": "stream",
          "text": [
            "Batch 860 | Loss: 0.0325 | Learning rate:  0.000187\n"
          ]
        },
        {
          "name": "stderr",
          "output_type": "stream",
          "text": [
            "Start training the model for one epoch...:  82%|████████▏ | 880/1073 [07:16<01:34,  2.04it/s]"
          ]
        },
        {
          "name": "stdout",
          "output_type": "stream",
          "text": [
            "Batch 880 | Loss: 0.0166 | Learning rate:  0.000187\n"
          ]
        },
        {
          "name": "stderr",
          "output_type": "stream",
          "text": [
            "Start training the model for one epoch...:  84%|████████▍ | 900/1073 [07:25<01:25,  2.02it/s]"
          ]
        },
        {
          "name": "stdout",
          "output_type": "stream",
          "text": [
            "Batch 900 | Loss: 0.0288 | Learning rate:  0.000187\n"
          ]
        },
        {
          "name": "stderr",
          "output_type": "stream",
          "text": [
            "Start training the model for one epoch...:  86%|████████▌ | 920/1073 [07:35<01:14,  2.06it/s]"
          ]
        },
        {
          "name": "stdout",
          "output_type": "stream",
          "text": [
            "Batch 920 | Loss: 0.0270 | Learning rate:  0.000187\n"
          ]
        },
        {
          "name": "stderr",
          "output_type": "stream",
          "text": [
            "Start training the model for one epoch...:  88%|████████▊ | 940/1073 [07:45<01:06,  1.99it/s]"
          ]
        },
        {
          "name": "stdout",
          "output_type": "stream",
          "text": [
            "Batch 940 | Loss: 0.0320 | Learning rate:  0.000186\n"
          ]
        },
        {
          "name": "stderr",
          "output_type": "stream",
          "text": [
            "Start training the model for one epoch...:  89%|████████▉ | 960/1073 [07:55<00:54,  2.07it/s]"
          ]
        },
        {
          "name": "stdout",
          "output_type": "stream",
          "text": [
            "Batch 960 | Loss: 0.0393 | Learning rate:  0.000186\n"
          ]
        },
        {
          "name": "stderr",
          "output_type": "stream",
          "text": [
            "Start training the model for one epoch...:  91%|█████████▏| 980/1073 [08:05<00:45,  2.03it/s]"
          ]
        },
        {
          "name": "stdout",
          "output_type": "stream",
          "text": [
            "Batch 980 | Loss: 0.0308 | Learning rate:  0.000186\n"
          ]
        },
        {
          "name": "stderr",
          "output_type": "stream",
          "text": [
            "Start training the model for one epoch...:  93%|█████████▎| 1000/1073 [08:14<00:35,  2.05it/s]"
          ]
        },
        {
          "name": "stdout",
          "output_type": "stream",
          "text": [
            "Batch 1000 | Loss: 0.0197 | Learning rate:  0.000186\n"
          ]
        },
        {
          "name": "stderr",
          "output_type": "stream",
          "text": [
            "Start training the model for one epoch...:  95%|█████████▌| 1020/1073 [08:24<00:26,  2.00it/s]"
          ]
        },
        {
          "name": "stdout",
          "output_type": "stream",
          "text": [
            "Batch 1020 | Loss: 0.0197 | Learning rate:  0.000186\n"
          ]
        },
        {
          "name": "stderr",
          "output_type": "stream",
          "text": [
            "Start training the model for one epoch...:  97%|█████████▋| 1040/1073 [08:34<00:16,  2.00it/s]"
          ]
        },
        {
          "name": "stdout",
          "output_type": "stream",
          "text": [
            "Batch 1040 | Loss: 0.0339 | Learning rate:  0.000186\n"
          ]
        },
        {
          "name": "stderr",
          "output_type": "stream",
          "text": [
            "Start training the model for one epoch...:  99%|█████████▉| 1060/1073 [08:44<00:06,  2.15it/s]"
          ]
        },
        {
          "name": "stdout",
          "output_type": "stream",
          "text": [
            "Batch 1060 | Loss: 0.0758 | Learning rate:  0.000186\n"
          ]
        },
        {
          "name": "stderr",
          "output_type": "stream",
          "text": [
            "Start training the model for one epoch...: 100%|██████████| 1073/1073 [08:50<00:00,  2.02it/s]\n",
            "120it [00:36,  3.28it/s]\n"
          ]
        },
        {
          "name": "stdout",
          "output_type": "stream",
          "text": [
            "Epoch: 10, train loss: 0.03519874987281852, val_loss: 0.06461465107277035, val_dice: 0.7757645475359383, val_IoU: 0.6921865257382976\n"
          ]
        },
        {
          "name": "stderr",
          "output_type": "stream",
          "text": [
            "Start training the model for one epoch...:   2%|▏         | 20/1073 [00:15<08:41,  2.02it/s]"
          ]
        },
        {
          "name": "stdout",
          "output_type": "stream",
          "text": [
            "Batch 20 | Loss: 0.0204 | Learning rate:  0.000186\n"
          ]
        },
        {
          "name": "stderr",
          "output_type": "stream",
          "text": [
            "Start training the model for one epoch...:   4%|▎         | 40/1073 [00:25<08:28,  2.03it/s]"
          ]
        },
        {
          "name": "stdout",
          "output_type": "stream",
          "text": [
            "Batch 40 | Loss: 0.0270 | Learning rate:  0.000186\n"
          ]
        },
        {
          "name": "stderr",
          "output_type": "stream",
          "text": [
            "Start training the model for one epoch...:   6%|▌         | 60/1073 [00:35<08:01,  2.11it/s]"
          ]
        },
        {
          "name": "stdout",
          "output_type": "stream",
          "text": [
            "Batch 60 | Loss: 0.0537 | Learning rate:  0.000186\n"
          ]
        },
        {
          "name": "stderr",
          "output_type": "stream",
          "text": [
            "Start training the model for one epoch...:   7%|▋         | 80/1073 [00:45<08:11,  2.02it/s]"
          ]
        },
        {
          "name": "stdout",
          "output_type": "stream",
          "text": [
            "Batch 80 | Loss: 0.0231 | Learning rate:  0.000186\n"
          ]
        },
        {
          "name": "stderr",
          "output_type": "stream",
          "text": [
            "Start training the model for one epoch...:   9%|▉         | 100/1073 [00:54<07:42,  2.10it/s]"
          ]
        },
        {
          "name": "stdout",
          "output_type": "stream",
          "text": [
            "Batch 100 | Loss: 0.0286 | Learning rate:  0.000185\n"
          ]
        },
        {
          "name": "stderr",
          "output_type": "stream",
          "text": [
            "Start training the model for one epoch...:  11%|█         | 120/1073 [01:04<07:51,  2.02it/s]"
          ]
        },
        {
          "name": "stdout",
          "output_type": "stream",
          "text": [
            "Batch 120 | Loss: 0.0206 | Learning rate:  0.000185\n"
          ]
        },
        {
          "name": "stderr",
          "output_type": "stream",
          "text": [
            "Start training the model for one epoch...:  13%|█▎        | 140/1073 [01:14<07:28,  2.08it/s]"
          ]
        },
        {
          "name": "stdout",
          "output_type": "stream",
          "text": [
            "Batch 140 | Loss: 0.0360 | Learning rate:  0.000185\n"
          ]
        },
        {
          "name": "stderr",
          "output_type": "stream",
          "text": [
            "Start training the model for one epoch...:  15%|█▍        | 160/1073 [01:24<07:35,  2.01it/s]"
          ]
        },
        {
          "name": "stdout",
          "output_type": "stream",
          "text": [
            "Batch 160 | Loss: 0.0223 | Learning rate:  0.000185\n"
          ]
        },
        {
          "name": "stderr",
          "output_type": "stream",
          "text": [
            "Start training the model for one epoch...:  17%|█▋        | 180/1073 [01:33<07:14,  2.06it/s]"
          ]
        },
        {
          "name": "stdout",
          "output_type": "stream",
          "text": [
            "Batch 180 | Loss: 0.0245 | Learning rate:  0.000185\n"
          ]
        },
        {
          "name": "stderr",
          "output_type": "stream",
          "text": [
            "Start training the model for one epoch...:  19%|█▊        | 200/1073 [01:43<07:09,  2.03it/s]"
          ]
        },
        {
          "name": "stdout",
          "output_type": "stream",
          "text": [
            "Batch 200 | Loss: 0.0230 | Learning rate:  0.000185\n"
          ]
        },
        {
          "name": "stderr",
          "output_type": "stream",
          "text": [
            "Start training the model for one epoch...:  21%|██        | 220/1073 [01:53<06:50,  2.08it/s]"
          ]
        },
        {
          "name": "stdout",
          "output_type": "stream",
          "text": [
            "Batch 220 | Loss: 0.0237 | Learning rate:  0.000185\n"
          ]
        },
        {
          "name": "stderr",
          "output_type": "stream",
          "text": [
            "Start training the model for one epoch...:  22%|██▏       | 240/1073 [02:02<06:49,  2.03it/s]"
          ]
        },
        {
          "name": "stdout",
          "output_type": "stream",
          "text": [
            "Batch 240 | Loss: 0.0500 | Learning rate:  0.000185\n"
          ]
        },
        {
          "name": "stderr",
          "output_type": "stream",
          "text": [
            "Start training the model for one epoch...:  24%|██▍       | 260/1073 [02:12<06:36,  2.05it/s]"
          ]
        },
        {
          "name": "stdout",
          "output_type": "stream",
          "text": [
            "Batch 260 | Loss: 0.0193 | Learning rate:  0.000185\n"
          ]
        },
        {
          "name": "stderr",
          "output_type": "stream",
          "text": [
            "Start training the model for one epoch...:  26%|██▌       | 280/1073 [02:22<06:28,  2.04it/s]"
          ]
        },
        {
          "name": "stdout",
          "output_type": "stream",
          "text": [
            "Batch 280 | Loss: 0.0351 | Learning rate:  0.000185\n"
          ]
        },
        {
          "name": "stderr",
          "output_type": "stream",
          "text": [
            "Start training the model for one epoch...:  28%|██▊       | 300/1073 [02:32<06:07,  2.10it/s]"
          ]
        },
        {
          "name": "stdout",
          "output_type": "stream",
          "text": [
            "Batch 300 | Loss: 0.0351 | Learning rate:  0.000185\n"
          ]
        },
        {
          "name": "stderr",
          "output_type": "stream",
          "text": [
            "Start training the model for one epoch...:  30%|██▉       | 320/1073 [02:42<06:14,  2.01it/s]"
          ]
        },
        {
          "name": "stdout",
          "output_type": "stream",
          "text": [
            "Batch 320 | Loss: 0.0256 | Learning rate:  0.000185\n"
          ]
        },
        {
          "name": "stderr",
          "output_type": "stream",
          "text": [
            "Start training the model for one epoch...:  32%|███▏      | 340/1073 [02:51<05:58,  2.04it/s]"
          ]
        },
        {
          "name": "stdout",
          "output_type": "stream",
          "text": [
            "Batch 340 | Loss: 0.0248 | Learning rate:  0.000184\n"
          ]
        },
        {
          "name": "stderr",
          "output_type": "stream",
          "text": [
            "Start training the model for one epoch...:  34%|███▎      | 360/1073 [03:01<05:55,  2.01it/s]"
          ]
        },
        {
          "name": "stdout",
          "output_type": "stream",
          "text": [
            "Batch 360 | Loss: 0.0299 | Learning rate:  0.000184\n"
          ]
        },
        {
          "name": "stderr",
          "output_type": "stream",
          "text": [
            "Start training the model for one epoch...:  35%|███▌      | 380/1073 [03:11<05:36,  2.06it/s]"
          ]
        },
        {
          "name": "stdout",
          "output_type": "stream",
          "text": [
            "Batch 380 | Loss: 0.0233 | Learning rate:  0.000184\n"
          ]
        },
        {
          "name": "stderr",
          "output_type": "stream",
          "text": [
            "Start training the model for one epoch...:  37%|███▋      | 400/1073 [03:21<05:36,  2.00it/s]"
          ]
        },
        {
          "name": "stdout",
          "output_type": "stream",
          "text": [
            "Batch 400 | Loss: 0.0351 | Learning rate:  0.000184\n"
          ]
        },
        {
          "name": "stderr",
          "output_type": "stream",
          "text": [
            "Start training the model for one epoch...:  39%|███▉      | 420/1073 [03:30<05:12,  2.09it/s]"
          ]
        },
        {
          "name": "stdout",
          "output_type": "stream",
          "text": [
            "Batch 420 | Loss: 0.0255 | Learning rate:  0.000184\n"
          ]
        },
        {
          "name": "stderr",
          "output_type": "stream",
          "text": [
            "Start training the model for one epoch...:  41%|████      | 440/1073 [03:40<05:09,  2.04it/s]"
          ]
        },
        {
          "name": "stdout",
          "output_type": "stream",
          "text": [
            "Batch 440 | Loss: 0.0284 | Learning rate:  0.000184\n"
          ]
        },
        {
          "name": "stderr",
          "output_type": "stream",
          "text": [
            "Start training the model for one epoch...:  43%|████▎     | 460/1073 [03:50<04:56,  2.07it/s]"
          ]
        },
        {
          "name": "stdout",
          "output_type": "stream",
          "text": [
            "Batch 460 | Loss: 0.0241 | Learning rate:  0.000184\n"
          ]
        },
        {
          "name": "stderr",
          "output_type": "stream",
          "text": [
            "Start training the model for one epoch...:  45%|████▍     | 480/1073 [04:00<04:55,  2.01it/s]"
          ]
        },
        {
          "name": "stdout",
          "output_type": "stream",
          "text": [
            "Batch 480 | Loss: 0.0333 | Learning rate:  0.000184\n"
          ]
        },
        {
          "name": "stderr",
          "output_type": "stream",
          "text": [
            "Start training the model for one epoch...:  47%|████▋     | 500/1073 [04:09<04:34,  2.09it/s]"
          ]
        },
        {
          "name": "stdout",
          "output_type": "stream",
          "text": [
            "Batch 500 | Loss: 0.0262 | Learning rate:  0.000184\n"
          ]
        },
        {
          "name": "stderr",
          "output_type": "stream",
          "text": [
            "Start training the model for one epoch...:  48%|████▊     | 520/1073 [04:19<04:31,  2.04it/s]"
          ]
        },
        {
          "name": "stdout",
          "output_type": "stream",
          "text": [
            "Batch 520 | Loss: 0.0489 | Learning rate:  0.000184\n"
          ]
        },
        {
          "name": "stderr",
          "output_type": "stream",
          "text": [
            "Start training the model for one epoch...:  50%|█████     | 540/1073 [04:29<04:17,  2.07it/s]"
          ]
        },
        {
          "name": "stdout",
          "output_type": "stream",
          "text": [
            "Batch 540 | Loss: 0.0441 | Learning rate:  0.000184\n"
          ]
        },
        {
          "name": "stderr",
          "output_type": "stream",
          "text": [
            "Start training the model for one epoch...:  52%|█████▏    | 560/1073 [04:39<04:14,  2.02it/s]"
          ]
        },
        {
          "name": "stdout",
          "output_type": "stream",
          "text": [
            "Batch 560 | Loss: 0.0370 | Learning rate:  0.000183\n"
          ]
        },
        {
          "name": "stderr",
          "output_type": "stream",
          "text": [
            "Start training the model for one epoch...:  54%|█████▍    | 580/1073 [04:49<03:57,  2.08it/s]"
          ]
        },
        {
          "name": "stdout",
          "output_type": "stream",
          "text": [
            "Batch 580 | Loss: 0.0335 | Learning rate:  0.000183\n"
          ]
        },
        {
          "name": "stderr",
          "output_type": "stream",
          "text": [
            "Start training the model for one epoch...:  56%|█████▌    | 600/1073 [04:58<03:52,  2.03it/s]"
          ]
        },
        {
          "name": "stdout",
          "output_type": "stream",
          "text": [
            "Batch 600 | Loss: 0.0218 | Learning rate:  0.000183\n"
          ]
        },
        {
          "name": "stderr",
          "output_type": "stream",
          "text": [
            "Start training the model for one epoch...:  58%|█████▊    | 620/1073 [05:08<03:41,  2.05it/s]"
          ]
        },
        {
          "name": "stdout",
          "output_type": "stream",
          "text": [
            "Batch 620 | Loss: 0.0289 | Learning rate:  0.000183\n"
          ]
        },
        {
          "name": "stderr",
          "output_type": "stream",
          "text": [
            "Start training the model for one epoch...:  60%|█████▉    | 640/1073 [05:18<03:34,  2.02it/s]"
          ]
        },
        {
          "name": "stdout",
          "output_type": "stream",
          "text": [
            "Batch 640 | Loss: 0.0291 | Learning rate:  0.000183\n"
          ]
        },
        {
          "name": "stderr",
          "output_type": "stream",
          "text": [
            "Start training the model for one epoch...:  62%|██████▏   | 660/1073 [05:28<03:18,  2.08it/s]"
          ]
        },
        {
          "name": "stdout",
          "output_type": "stream",
          "text": [
            "Batch 660 | Loss: 0.0279 | Learning rate:  0.000183\n"
          ]
        },
        {
          "name": "stderr",
          "output_type": "stream",
          "text": [
            "Start training the model for one epoch...:  63%|██████▎   | 680/1073 [05:38<03:16,  2.00it/s]"
          ]
        },
        {
          "name": "stdout",
          "output_type": "stream",
          "text": [
            "Batch 680 | Loss: 0.0432 | Learning rate:  0.000183\n"
          ]
        },
        {
          "name": "stderr",
          "output_type": "stream",
          "text": [
            "Start training the model for one epoch...:  65%|██████▌   | 700/1073 [05:48<03:03,  2.04it/s]"
          ]
        },
        {
          "name": "stdout",
          "output_type": "stream",
          "text": [
            "Batch 700 | Loss: 0.0199 | Learning rate:  0.000183\n"
          ]
        },
        {
          "name": "stderr",
          "output_type": "stream",
          "text": [
            "Start training the model for one epoch...:  67%|██████▋   | 720/1073 [05:57<02:51,  2.06it/s]"
          ]
        },
        {
          "name": "stdout",
          "output_type": "stream",
          "text": [
            "Batch 720 | Loss: 0.0309 | Learning rate:  0.000183\n"
          ]
        },
        {
          "name": "stderr",
          "output_type": "stream",
          "text": [
            "Start training the model for one epoch...:  69%|██████▉   | 740/1073 [06:07<02:41,  2.06it/s]"
          ]
        },
        {
          "name": "stdout",
          "output_type": "stream",
          "text": [
            "Batch 740 | Loss: 0.0385 | Learning rate:  0.000183\n"
          ]
        },
        {
          "name": "stderr",
          "output_type": "stream",
          "text": [
            "Start training the model for one epoch...:  71%|███████   | 760/1073 [06:17<02:36,  2.01it/s]"
          ]
        },
        {
          "name": "stdout",
          "output_type": "stream",
          "text": [
            "Batch 760 | Loss: 0.0293 | Learning rate:  0.000183\n"
          ]
        },
        {
          "name": "stderr",
          "output_type": "stream",
          "text": [
            "Start training the model for one epoch...:  73%|███████▎  | 780/1073 [06:27<02:22,  2.06it/s]"
          ]
        },
        {
          "name": "stdout",
          "output_type": "stream",
          "text": [
            "Batch 780 | Loss: 0.0341 | Learning rate:  0.000182\n"
          ]
        },
        {
          "name": "stderr",
          "output_type": "stream",
          "text": [
            "Start training the model for one epoch...:  75%|███████▍  | 800/1073 [06:37<02:11,  2.07it/s]"
          ]
        },
        {
          "name": "stdout",
          "output_type": "stream",
          "text": [
            "Batch 800 | Loss: 0.0284 | Learning rate:  0.000182\n"
          ]
        },
        {
          "name": "stderr",
          "output_type": "stream",
          "text": [
            "Start training the model for one epoch...:  76%|███████▋  | 820/1073 [06:46<02:05,  2.02it/s]"
          ]
        },
        {
          "name": "stdout",
          "output_type": "stream",
          "text": [
            "Batch 820 | Loss: 0.0288 | Learning rate:  0.000182\n"
          ]
        },
        {
          "name": "stderr",
          "output_type": "stream",
          "text": [
            "Start training the model for one epoch...:  78%|███████▊  | 840/1073 [06:56<01:55,  2.02it/s]"
          ]
        },
        {
          "name": "stdout",
          "output_type": "stream",
          "text": [
            "Batch 840 | Loss: 0.0332 | Learning rate:  0.000182\n"
          ]
        },
        {
          "name": "stderr",
          "output_type": "stream",
          "text": [
            "Start training the model for one epoch...:  80%|████████  | 860/1073 [07:06<01:45,  2.01it/s]"
          ]
        },
        {
          "name": "stdout",
          "output_type": "stream",
          "text": [
            "Batch 860 | Loss: 0.0324 | Learning rate:  0.000182\n"
          ]
        },
        {
          "name": "stderr",
          "output_type": "stream",
          "text": [
            "Start training the model for one epoch...:  82%|████████▏ | 880/1073 [07:16<01:32,  2.08it/s]"
          ]
        },
        {
          "name": "stdout",
          "output_type": "stream",
          "text": [
            "Batch 880 | Loss: 0.0241 | Learning rate:  0.000182\n"
          ]
        },
        {
          "name": "stderr",
          "output_type": "stream",
          "text": [
            "Start training the model for one epoch...:  84%|████████▍ | 900/1073 [07:26<01:26,  2.01it/s]"
          ]
        },
        {
          "name": "stdout",
          "output_type": "stream",
          "text": [
            "Batch 900 | Loss: 0.0520 | Learning rate:  0.000182\n"
          ]
        },
        {
          "name": "stderr",
          "output_type": "stream",
          "text": [
            "Start training the model for one epoch...:  86%|████████▌ | 920/1073 [07:36<01:15,  2.02it/s]"
          ]
        },
        {
          "name": "stdout",
          "output_type": "stream",
          "text": [
            "Batch 920 | Loss: 0.0434 | Learning rate:  0.000182\n"
          ]
        },
        {
          "name": "stderr",
          "output_type": "stream",
          "text": [
            "Start training the model for one epoch...:  88%|████████▊ | 940/1073 [07:46<01:05,  2.04it/s]"
          ]
        },
        {
          "name": "stdout",
          "output_type": "stream",
          "text": [
            "Batch 940 | Loss: 0.0266 | Learning rate:  0.000182\n"
          ]
        },
        {
          "name": "stderr",
          "output_type": "stream",
          "text": [
            "Start training the model for one epoch...:  89%|████████▉ | 960/1073 [07:55<00:54,  2.06it/s]"
          ]
        },
        {
          "name": "stdout",
          "output_type": "stream",
          "text": [
            "Batch 960 | Loss: 0.0293 | Learning rate:  0.000182\n"
          ]
        },
        {
          "name": "stderr",
          "output_type": "stream",
          "text": [
            "Start training the model for one epoch...:  91%|█████████▏| 980/1073 [08:05<00:45,  2.03it/s]"
          ]
        },
        {
          "name": "stdout",
          "output_type": "stream",
          "text": [
            "Batch 980 | Loss: 0.0429 | Learning rate:  0.000181\n"
          ]
        },
        {
          "name": "stderr",
          "output_type": "stream",
          "text": [
            "Start training the model for one epoch...:  93%|█████████▎| 1000/1073 [08:15<00:36,  2.02it/s]"
          ]
        },
        {
          "name": "stdout",
          "output_type": "stream",
          "text": [
            "Batch 1000 | Loss: 0.0282 | Learning rate:  0.000181\n"
          ]
        },
        {
          "name": "stderr",
          "output_type": "stream",
          "text": [
            "Start training the model for one epoch...:  95%|█████████▌| 1020/1073 [08:25<00:25,  2.04it/s]"
          ]
        },
        {
          "name": "stdout",
          "output_type": "stream",
          "text": [
            "Batch 1020 | Loss: 0.0317 | Learning rate:  0.000181\n"
          ]
        },
        {
          "name": "stderr",
          "output_type": "stream",
          "text": [
            "Start training the model for one epoch...:  97%|█████████▋| 1040/1073 [08:35<00:16,  2.02it/s]"
          ]
        },
        {
          "name": "stdout",
          "output_type": "stream",
          "text": [
            "Batch 1040 | Loss: 0.0242 | Learning rate:  0.000181\n"
          ]
        },
        {
          "name": "stderr",
          "output_type": "stream",
          "text": [
            "Start training the model for one epoch...:  99%|█████████▉| 1060/1073 [08:44<00:06,  2.16it/s]"
          ]
        },
        {
          "name": "stdout",
          "output_type": "stream",
          "text": [
            "Batch 1060 | Loss: 0.0313 | Learning rate:  0.000181\n"
          ]
        },
        {
          "name": "stderr",
          "output_type": "stream",
          "text": [
            "Start training the model for one epoch...: 100%|██████████| 1073/1073 [08:50<00:00,  2.02it/s]\n",
            "120it [00:37,  3.18it/s]\n"
          ]
        },
        {
          "name": "stdout",
          "output_type": "stream",
          "text": [
            "Epoch: 11, train loss: 0.03225895935254656, val_loss: 0.05184531395013134, val_dice: 0.8026166446216402, val_IoU: 0.7219776187075744\n"
          ]
        },
        {
          "name": "stderr",
          "output_type": "stream",
          "text": [
            "Start training the model for one epoch...:   2%|▏         | 20/1073 [00:15<08:49,  1.99it/s]"
          ]
        },
        {
          "name": "stdout",
          "output_type": "stream",
          "text": [
            "Batch 20 | Loss: 0.0281 | Learning rate:  0.000181\n"
          ]
        },
        {
          "name": "stderr",
          "output_type": "stream",
          "text": [
            "Start training the model for one epoch...:   4%|▎         | 40/1073 [00:25<08:23,  2.05it/s]"
          ]
        },
        {
          "name": "stdout",
          "output_type": "stream",
          "text": [
            "Batch 40 | Loss: 0.0260 | Learning rate:  0.000181\n"
          ]
        },
        {
          "name": "stderr",
          "output_type": "stream",
          "text": [
            "Start training the model for one epoch...:   6%|▌         | 60/1073 [00:35<08:08,  2.07it/s]"
          ]
        },
        {
          "name": "stdout",
          "output_type": "stream",
          "text": [
            "Batch 60 | Loss: 0.0243 | Learning rate:  0.000181\n"
          ]
        },
        {
          "name": "stderr",
          "output_type": "stream",
          "text": [
            "Start training the model for one epoch...:   7%|▋         | 80/1073 [00:45<08:05,  2.04it/s]"
          ]
        },
        {
          "name": "stdout",
          "output_type": "stream",
          "text": [
            "Batch 80 | Loss: 0.0448 | Learning rate:  0.000181\n"
          ]
        },
        {
          "name": "stderr",
          "output_type": "stream",
          "text": [
            "Start training the model for one epoch...:   9%|▉         | 100/1073 [00:54<07:53,  2.05it/s]"
          ]
        },
        {
          "name": "stdout",
          "output_type": "stream",
          "text": [
            "Batch 100 | Loss: 0.0498 | Learning rate:  0.000181\n"
          ]
        },
        {
          "name": "stderr",
          "output_type": "stream",
          "text": [
            "Start training the model for one epoch...:  11%|█         | 120/1073 [01:04<07:44,  2.05it/s]"
          ]
        },
        {
          "name": "stdout",
          "output_type": "stream",
          "text": [
            "Batch 120 | Loss: 0.0323 | Learning rate:  0.000180\n"
          ]
        },
        {
          "name": "stderr",
          "output_type": "stream",
          "text": [
            "Start training the model for one epoch...:  13%|█▎        | 140/1073 [01:14<07:41,  2.02it/s]"
          ]
        },
        {
          "name": "stdout",
          "output_type": "stream",
          "text": [
            "Batch 140 | Loss: 0.0292 | Learning rate:  0.000180\n"
          ]
        },
        {
          "name": "stderr",
          "output_type": "stream",
          "text": [
            "Start training the model for one epoch...:  15%|█▍        | 160/1073 [01:24<07:32,  2.02it/s]"
          ]
        },
        {
          "name": "stdout",
          "output_type": "stream",
          "text": [
            "Batch 160 | Loss: 0.0186 | Learning rate:  0.000180\n"
          ]
        },
        {
          "name": "stderr",
          "output_type": "stream",
          "text": [
            "Start training the model for one epoch...:  17%|█▋        | 180/1073 [01:34<07:25,  2.01it/s]"
          ]
        },
        {
          "name": "stdout",
          "output_type": "stream",
          "text": [
            "Batch 180 | Loss: 0.0346 | Learning rate:  0.000180\n"
          ]
        },
        {
          "name": "stderr",
          "output_type": "stream",
          "text": [
            "Start training the model for one epoch...:  19%|█▊        | 200/1073 [01:43<07:07,  2.04it/s]"
          ]
        },
        {
          "name": "stdout",
          "output_type": "stream",
          "text": [
            "Batch 200 | Loss: 0.0240 | Learning rate:  0.000180\n"
          ]
        },
        {
          "name": "stderr",
          "output_type": "stream",
          "text": [
            "Start training the model for one epoch...:  21%|██        | 220/1073 [01:53<06:57,  2.04it/s]"
          ]
        },
        {
          "name": "stdout",
          "output_type": "stream",
          "text": [
            "Batch 220 | Loss: 0.0300 | Learning rate:  0.000180\n"
          ]
        },
        {
          "name": "stderr",
          "output_type": "stream",
          "text": [
            "Start training the model for one epoch...:  22%|██▏       | 240/1073 [02:03<06:45,  2.06it/s]"
          ]
        },
        {
          "name": "stdout",
          "output_type": "stream",
          "text": [
            "Batch 240 | Loss: 0.0389 | Learning rate:  0.000180\n"
          ]
        },
        {
          "name": "stderr",
          "output_type": "stream",
          "text": [
            "Start training the model for one epoch...:  24%|██▍       | 260/1073 [02:13<06:34,  2.06it/s]"
          ]
        },
        {
          "name": "stdout",
          "output_type": "stream",
          "text": [
            "Batch 260 | Loss: 0.0567 | Learning rate:  0.000180\n"
          ]
        },
        {
          "name": "stderr",
          "output_type": "stream",
          "text": [
            "Start training the model for one epoch...:  26%|██▌       | 280/1073 [02:22<06:25,  2.06it/s]"
          ]
        },
        {
          "name": "stdout",
          "output_type": "stream",
          "text": [
            "Batch 280 | Loss: 0.0343 | Learning rate:  0.000180\n"
          ]
        },
        {
          "name": "stderr",
          "output_type": "stream",
          "text": [
            "Start training the model for one epoch...:  28%|██▊       | 300/1073 [02:32<06:22,  2.02it/s]"
          ]
        },
        {
          "name": "stdout",
          "output_type": "stream",
          "text": [
            "Batch 300 | Loss: 0.0241 | Learning rate:  0.000180\n"
          ]
        },
        {
          "name": "stderr",
          "output_type": "stream",
          "text": [
            "Start training the model for one epoch...:  30%|██▉       | 320/1073 [02:42<06:14,  2.01it/s]"
          ]
        },
        {
          "name": "stdout",
          "output_type": "stream",
          "text": [
            "Batch 320 | Loss: 0.0390 | Learning rate:  0.000179\n"
          ]
        },
        {
          "name": "stderr",
          "output_type": "stream",
          "text": [
            "Start training the model for one epoch...:  32%|███▏      | 340/1073 [02:52<05:52,  2.08it/s]"
          ]
        },
        {
          "name": "stdout",
          "output_type": "stream",
          "text": [
            "Batch 340 | Loss: 0.0547 | Learning rate:  0.000179\n"
          ]
        },
        {
          "name": "stderr",
          "output_type": "stream",
          "text": [
            "Start training the model for one epoch...:  34%|███▎      | 360/1073 [03:02<05:48,  2.05it/s]"
          ]
        },
        {
          "name": "stdout",
          "output_type": "stream",
          "text": [
            "Batch 360 | Loss: 0.0362 | Learning rate:  0.000179\n"
          ]
        },
        {
          "name": "stderr",
          "output_type": "stream",
          "text": [
            "Start training the model for one epoch...:  35%|███▌      | 380/1073 [03:11<05:32,  2.08it/s]"
          ]
        },
        {
          "name": "stdout",
          "output_type": "stream",
          "text": [
            "Batch 380 | Loss: 0.0167 | Learning rate:  0.000179\n"
          ]
        },
        {
          "name": "stderr",
          "output_type": "stream",
          "text": [
            "Start training the model for one epoch...:  37%|███▋      | 400/1073 [03:21<05:27,  2.05it/s]"
          ]
        },
        {
          "name": "stdout",
          "output_type": "stream",
          "text": [
            "Batch 400 | Loss: 0.0214 | Learning rate:  0.000179\n"
          ]
        },
        {
          "name": "stderr",
          "output_type": "stream",
          "text": [
            "Start training the model for one epoch...:  39%|███▉      | 420/1073 [03:31<05:19,  2.04it/s]"
          ]
        },
        {
          "name": "stdout",
          "output_type": "stream",
          "text": [
            "Batch 420 | Loss: 0.0653 | Learning rate:  0.000179\n"
          ]
        },
        {
          "name": "stderr",
          "output_type": "stream",
          "text": [
            "Start training the model for one epoch...:  41%|████      | 440/1073 [03:41<05:14,  2.01it/s]"
          ]
        },
        {
          "name": "stdout",
          "output_type": "stream",
          "text": [
            "Batch 440 | Loss: 0.0233 | Learning rate:  0.000179\n"
          ]
        },
        {
          "name": "stderr",
          "output_type": "stream",
          "text": [
            "Start training the model for one epoch...:  43%|████▎     | 460/1073 [03:51<04:58,  2.06it/s]"
          ]
        },
        {
          "name": "stdout",
          "output_type": "stream",
          "text": [
            "Batch 460 | Loss: 0.0207 | Learning rate:  0.000179\n"
          ]
        },
        {
          "name": "stderr",
          "output_type": "stream",
          "text": [
            "Start training the model for one epoch...:  45%|████▍     | 480/1073 [04:01<04:52,  2.03it/s]"
          ]
        },
        {
          "name": "stdout",
          "output_type": "stream",
          "text": [
            "Batch 480 | Loss: 0.0175 | Learning rate:  0.000179\n"
          ]
        },
        {
          "name": "stderr",
          "output_type": "stream",
          "text": [
            "Start training the model for one epoch...:  47%|████▋     | 500/1073 [04:10<04:33,  2.10it/s]"
          ]
        },
        {
          "name": "stdout",
          "output_type": "stream",
          "text": [
            "Batch 500 | Loss: 0.0360 | Learning rate:  0.000178\n"
          ]
        },
        {
          "name": "stderr",
          "output_type": "stream",
          "text": [
            "Start training the model for one epoch...:  48%|████▊     | 520/1073 [04:20<04:36,  2.00it/s]"
          ]
        },
        {
          "name": "stdout",
          "output_type": "stream",
          "text": [
            "Batch 520 | Loss: 0.0228 | Learning rate:  0.000178\n"
          ]
        },
        {
          "name": "stderr",
          "output_type": "stream",
          "text": [
            "Start training the model for one epoch...:  50%|█████     | 540/1073 [04:30<04:24,  2.02it/s]"
          ]
        },
        {
          "name": "stdout",
          "output_type": "stream",
          "text": [
            "Batch 540 | Loss: 0.0452 | Learning rate:  0.000178\n"
          ]
        },
        {
          "name": "stderr",
          "output_type": "stream",
          "text": [
            "Start training the model for one epoch...:  52%|█████▏    | 560/1073 [04:40<04:12,  2.03it/s]"
          ]
        },
        {
          "name": "stdout",
          "output_type": "stream",
          "text": [
            "Batch 560 | Loss: 0.0175 | Learning rate:  0.000178\n"
          ]
        },
        {
          "name": "stderr",
          "output_type": "stream",
          "text": [
            "Start training the model for one epoch...:  54%|█████▍    | 580/1073 [04:50<03:58,  2.07it/s]"
          ]
        },
        {
          "name": "stdout",
          "output_type": "stream",
          "text": [
            "Batch 580 | Loss: 0.0242 | Learning rate:  0.000178\n"
          ]
        },
        {
          "name": "stderr",
          "output_type": "stream",
          "text": [
            "Start training the model for one epoch...:  56%|█████▌    | 600/1073 [04:59<03:50,  2.05it/s]"
          ]
        },
        {
          "name": "stdout",
          "output_type": "stream",
          "text": [
            "Batch 600 | Loss: 0.0242 | Learning rate:  0.000178\n"
          ]
        },
        {
          "name": "stderr",
          "output_type": "stream",
          "text": [
            "Start training the model for one epoch...:  58%|█████▊    | 620/1073 [05:09<03:42,  2.03it/s]"
          ]
        },
        {
          "name": "stdout",
          "output_type": "stream",
          "text": [
            "Batch 620 | Loss: 0.0223 | Learning rate:  0.000178\n"
          ]
        },
        {
          "name": "stderr",
          "output_type": "stream",
          "text": [
            "Start training the model for one epoch...:  60%|█████▉    | 640/1073 [05:19<03:36,  2.00it/s]"
          ]
        },
        {
          "name": "stdout",
          "output_type": "stream",
          "text": [
            "Batch 640 | Loss: 0.0285 | Learning rate:  0.000178\n"
          ]
        },
        {
          "name": "stderr",
          "output_type": "stream",
          "text": [
            "Start training the model for one epoch...:  62%|██████▏   | 660/1073 [05:29<03:18,  2.08it/s]"
          ]
        },
        {
          "name": "stdout",
          "output_type": "stream",
          "text": [
            "Batch 660 | Loss: 0.0309 | Learning rate:  0.000178\n"
          ]
        },
        {
          "name": "stderr",
          "output_type": "stream",
          "text": [
            "Start training the model for one epoch...:  63%|██████▎   | 680/1073 [05:39<03:15,  2.01it/s]"
          ]
        },
        {
          "name": "stdout",
          "output_type": "stream",
          "text": [
            "Batch 680 | Loss: 0.0412 | Learning rate:  0.000178\n"
          ]
        },
        {
          "name": "stderr",
          "output_type": "stream",
          "text": [
            "Start training the model for one epoch...:  65%|██████▌   | 700/1073 [05:48<02:58,  2.08it/s]"
          ]
        },
        {
          "name": "stdout",
          "output_type": "stream",
          "text": [
            "Batch 700 | Loss: 0.0334 | Learning rate:  0.000177\n"
          ]
        },
        {
          "name": "stderr",
          "output_type": "stream",
          "text": [
            "Start training the model for one epoch...:  67%|██████▋   | 720/1073 [05:58<02:57,  1.99it/s]"
          ]
        },
        {
          "name": "stdout",
          "output_type": "stream",
          "text": [
            "Batch 720 | Loss: 0.0264 | Learning rate:  0.000177\n"
          ]
        },
        {
          "name": "stderr",
          "output_type": "stream",
          "text": [
            "Start training the model for one epoch...:  69%|██████▉   | 740/1073 [06:08<02:39,  2.09it/s]"
          ]
        },
        {
          "name": "stdout",
          "output_type": "stream",
          "text": [
            "Batch 740 | Loss: 0.0390 | Learning rate:  0.000177\n"
          ]
        },
        {
          "name": "stderr",
          "output_type": "stream",
          "text": [
            "Start training the model for one epoch...:  71%|███████   | 760/1073 [06:18<02:34,  2.03it/s]"
          ]
        },
        {
          "name": "stdout",
          "output_type": "stream",
          "text": [
            "Batch 760 | Loss: 0.0312 | Learning rate:  0.000177\n"
          ]
        },
        {
          "name": "stderr",
          "output_type": "stream",
          "text": [
            "Start training the model for one epoch...:  73%|███████▎  | 780/1073 [06:28<02:23,  2.04it/s]"
          ]
        },
        {
          "name": "stdout",
          "output_type": "stream",
          "text": [
            "Batch 780 | Loss: 0.0257 | Learning rate:  0.000177\n"
          ]
        },
        {
          "name": "stderr",
          "output_type": "stream",
          "text": [
            "Start training the model for one epoch...:  75%|███████▍  | 800/1073 [06:38<02:15,  2.02it/s]"
          ]
        },
        {
          "name": "stdout",
          "output_type": "stream",
          "text": [
            "Batch 800 | Loss: 0.0274 | Learning rate:  0.000177\n"
          ]
        },
        {
          "name": "stderr",
          "output_type": "stream",
          "text": [
            "Start training the model for one epoch...:  76%|███████▋  | 820/1073 [06:47<02:01,  2.07it/s]"
          ]
        },
        {
          "name": "stdout",
          "output_type": "stream",
          "text": [
            "Batch 820 | Loss: 0.0220 | Learning rate:  0.000177\n"
          ]
        },
        {
          "name": "stderr",
          "output_type": "stream",
          "text": [
            "Start training the model for one epoch...:  78%|███████▊  | 840/1073 [06:57<01:55,  2.01it/s]"
          ]
        },
        {
          "name": "stdout",
          "output_type": "stream",
          "text": [
            "Batch 840 | Loss: 0.0224 | Learning rate:  0.000177\n"
          ]
        },
        {
          "name": "stderr",
          "output_type": "stream",
          "text": [
            "Start training the model for one epoch...:  80%|████████  | 860/1073 [07:07<01:41,  2.09it/s]"
          ]
        },
        {
          "name": "stdout",
          "output_type": "stream",
          "text": [
            "Batch 860 | Loss: 0.0200 | Learning rate:  0.000177\n"
          ]
        },
        {
          "name": "stderr",
          "output_type": "stream",
          "text": [
            "Start training the model for one epoch...:  82%|████████▏ | 880/1073 [07:17<01:35,  2.03it/s]"
          ]
        },
        {
          "name": "stdout",
          "output_type": "stream",
          "text": [
            "Batch 880 | Loss: 0.0220 | Learning rate:  0.000176\n"
          ]
        },
        {
          "name": "stderr",
          "output_type": "stream",
          "text": [
            "Start training the model for one epoch...:  84%|████████▍ | 900/1073 [07:26<01:22,  2.10it/s]"
          ]
        },
        {
          "name": "stdout",
          "output_type": "stream",
          "text": [
            "Batch 900 | Loss: 0.0417 | Learning rate:  0.000176\n"
          ]
        },
        {
          "name": "stderr",
          "output_type": "stream",
          "text": [
            "Start training the model for one epoch...:  86%|████████▌ | 920/1073 [07:36<01:16,  2.00it/s]"
          ]
        },
        {
          "name": "stdout",
          "output_type": "stream",
          "text": [
            "Batch 920 | Loss: 0.0285 | Learning rate:  0.000176\n"
          ]
        },
        {
          "name": "stderr",
          "output_type": "stream",
          "text": [
            "Start training the model for one epoch...:  88%|████████▊ | 940/1073 [07:46<01:03,  2.09it/s]"
          ]
        },
        {
          "name": "stdout",
          "output_type": "stream",
          "text": [
            "Batch 940 | Loss: 0.0293 | Learning rate:  0.000176\n"
          ]
        },
        {
          "name": "stderr",
          "output_type": "stream",
          "text": [
            "Start training the model for one epoch...:  89%|████████▉ | 960/1073 [07:56<00:56,  2.00it/s]"
          ]
        },
        {
          "name": "stdout",
          "output_type": "stream",
          "text": [
            "Batch 960 | Loss: 0.0322 | Learning rate:  0.000176\n"
          ]
        },
        {
          "name": "stderr",
          "output_type": "stream",
          "text": [
            "Start training the model for one epoch...:  91%|█████████▏| 980/1073 [08:06<00:46,  2.01it/s]"
          ]
        },
        {
          "name": "stdout",
          "output_type": "stream",
          "text": [
            "Batch 980 | Loss: 0.0215 | Learning rate:  0.000176\n"
          ]
        },
        {
          "name": "stderr",
          "output_type": "stream",
          "text": [
            "Start training the model for one epoch...:  93%|█████████▎| 1000/1073 [08:16<00:35,  2.03it/s]"
          ]
        },
        {
          "name": "stdout",
          "output_type": "stream",
          "text": [
            "Batch 1000 | Loss: 0.0191 | Learning rate:  0.000176\n"
          ]
        },
        {
          "name": "stderr",
          "output_type": "stream",
          "text": [
            "Start training the model for one epoch...:  95%|█████████▌| 1020/1073 [08:25<00:26,  2.03it/s]"
          ]
        },
        {
          "name": "stdout",
          "output_type": "stream",
          "text": [
            "Batch 1020 | Loss: 0.0246 | Learning rate:  0.000176\n"
          ]
        },
        {
          "name": "stderr",
          "output_type": "stream",
          "text": [
            "Start training the model for one epoch...:  97%|█████████▋| 1040/1073 [08:35<00:16,  2.02it/s]"
          ]
        },
        {
          "name": "stdout",
          "output_type": "stream",
          "text": [
            "Batch 1040 | Loss: 0.0317 | Learning rate:  0.000176\n"
          ]
        },
        {
          "name": "stderr",
          "output_type": "stream",
          "text": [
            "Start training the model for one epoch...:  99%|█████████▉| 1060/1073 [08:45<00:06,  2.16it/s]"
          ]
        },
        {
          "name": "stdout",
          "output_type": "stream",
          "text": [
            "Batch 1060 | Loss: 0.0283 | Learning rate:  0.000176\n"
          ]
        },
        {
          "name": "stderr",
          "output_type": "stream",
          "text": [
            "Start training the model for one epoch...: 100%|██████████| 1073/1073 [08:51<00:00,  2.02it/s]\n",
            "120it [00:38,  3.14it/s]\n"
          ]
        },
        {
          "name": "stdout",
          "output_type": "stream",
          "text": [
            "Epoch: 12, train loss: 0.03138462265385775, val_loss: 0.05429109206112723, val_dice: 0.8011917443465968, val_IoU: 0.7187294133456165\n"
          ]
        },
        {
          "name": "stderr",
          "output_type": "stream",
          "text": [
            "Start training the model for one epoch...:   2%|▏         | 20/1073 [00:15<08:49,  1.99it/s]"
          ]
        },
        {
          "name": "stdout",
          "output_type": "stream",
          "text": [
            "Batch 20 | Loss: 0.0244 | Learning rate:  0.000175\n"
          ]
        },
        {
          "name": "stderr",
          "output_type": "stream",
          "text": [
            "Start training the model for one epoch...:   4%|▎         | 40/1073 [00:25<08:24,  2.05it/s]"
          ]
        },
        {
          "name": "stdout",
          "output_type": "stream",
          "text": [
            "Batch 40 | Loss: 0.0153 | Learning rate:  0.000175\n"
          ]
        },
        {
          "name": "stderr",
          "output_type": "stream",
          "text": [
            "Start training the model for one epoch...:   6%|▌         | 60/1073 [00:34<08:08,  2.07it/s]"
          ]
        },
        {
          "name": "stdout",
          "output_type": "stream",
          "text": [
            "Batch 60 | Loss: 0.0223 | Learning rate:  0.000175\n"
          ]
        },
        {
          "name": "stderr",
          "output_type": "stream",
          "text": [
            "Start training the model for one epoch...:   7%|▋         | 80/1073 [00:44<08:02,  2.06it/s]"
          ]
        },
        {
          "name": "stdout",
          "output_type": "stream",
          "text": [
            "Batch 80 | Loss: 0.0514 | Learning rate:  0.000175\n"
          ]
        },
        {
          "name": "stderr",
          "output_type": "stream",
          "text": [
            "Start training the model for one epoch...:   9%|▉         | 100/1073 [00:54<08:08,  1.99it/s]"
          ]
        },
        {
          "name": "stdout",
          "output_type": "stream",
          "text": [
            "Batch 100 | Loss: 0.0224 | Learning rate:  0.000175\n"
          ]
        },
        {
          "name": "stderr",
          "output_type": "stream",
          "text": [
            "Start training the model for one epoch...:  11%|█         | 120/1073 [01:04<07:41,  2.07it/s]"
          ]
        },
        {
          "name": "stdout",
          "output_type": "stream",
          "text": [
            "Batch 120 | Loss: 0.0281 | Learning rate:  0.000175\n"
          ]
        },
        {
          "name": "stderr",
          "output_type": "stream",
          "text": [
            "Start training the model for one epoch...:  13%|█▎        | 140/1073 [01:14<07:40,  2.02it/s]"
          ]
        },
        {
          "name": "stdout",
          "output_type": "stream",
          "text": [
            "Batch 140 | Loss: 0.0402 | Learning rate:  0.000175\n"
          ]
        },
        {
          "name": "stderr",
          "output_type": "stream",
          "text": [
            "Start training the model for one epoch...:  15%|█▍        | 160/1073 [01:23<07:04,  2.15it/s]"
          ]
        },
        {
          "name": "stdout",
          "output_type": "stream",
          "text": [
            "Batch 160 | Loss: 0.0365 | Learning rate:  0.000175\n"
          ]
        },
        {
          "name": "stderr",
          "output_type": "stream",
          "text": [
            "Start training the model for one epoch...:  17%|█▋        | 180/1073 [01:33<07:20,  2.03it/s]"
          ]
        },
        {
          "name": "stdout",
          "output_type": "stream",
          "text": [
            "Batch 180 | Loss: 0.0303 | Learning rate:  0.000174\n"
          ]
        },
        {
          "name": "stderr",
          "output_type": "stream",
          "text": [
            "Start training the model for one epoch...:  19%|█▊        | 200/1073 [01:43<07:08,  2.04it/s]"
          ]
        },
        {
          "name": "stdout",
          "output_type": "stream",
          "text": [
            "Batch 200 | Loss: 0.0266 | Learning rate:  0.000174\n"
          ]
        },
        {
          "name": "stderr",
          "output_type": "stream",
          "text": [
            "Start training the model for one epoch...:  21%|██        | 220/1073 [01:53<06:58,  2.04it/s]"
          ]
        },
        {
          "name": "stdout",
          "output_type": "stream",
          "text": [
            "Batch 220 | Loss: 0.0302 | Learning rate:  0.000174\n"
          ]
        },
        {
          "name": "stderr",
          "output_type": "stream",
          "text": [
            "Start training the model for one epoch...:  22%|██▏       | 240/1073 [02:03<06:50,  2.03it/s]"
          ]
        },
        {
          "name": "stdout",
          "output_type": "stream",
          "text": [
            "Batch 240 | Loss: 0.0608 | Learning rate:  0.000174\n"
          ]
        },
        {
          "name": "stderr",
          "output_type": "stream",
          "text": [
            "Start training the model for one epoch...:  24%|██▍       | 260/1073 [02:12<06:35,  2.05it/s]"
          ]
        },
        {
          "name": "stdout",
          "output_type": "stream",
          "text": [
            "Batch 260 | Loss: 0.0298 | Learning rate:  0.000174\n"
          ]
        },
        {
          "name": "stderr",
          "output_type": "stream",
          "text": [
            "Start training the model for one epoch...:  26%|██▌       | 280/1073 [02:22<06:22,  2.07it/s]"
          ]
        },
        {
          "name": "stdout",
          "output_type": "stream",
          "text": [
            "Batch 280 | Loss: 0.0231 | Learning rate:  0.000174\n"
          ]
        },
        {
          "name": "stderr",
          "output_type": "stream",
          "text": [
            "Start training the model for one epoch...:  28%|██▊       | 300/1073 [02:32<06:17,  2.05it/s]"
          ]
        },
        {
          "name": "stdout",
          "output_type": "stream",
          "text": [
            "Batch 300 | Loss: 0.0407 | Learning rate:  0.000174\n"
          ]
        },
        {
          "name": "stderr",
          "output_type": "stream",
          "text": [
            "Start training the model for one epoch...:  30%|██▉       | 320/1073 [02:42<06:09,  2.04it/s]"
          ]
        },
        {
          "name": "stdout",
          "output_type": "stream",
          "text": [
            "Batch 320 | Loss: 0.0321 | Learning rate:  0.000174\n"
          ]
        },
        {
          "name": "stderr",
          "output_type": "stream",
          "text": [
            "Start training the model for one epoch...:  32%|███▏      | 340/1073 [02:52<06:00,  2.03it/s]"
          ]
        },
        {
          "name": "stdout",
          "output_type": "stream",
          "text": [
            "Batch 340 | Loss: 0.0286 | Learning rate:  0.000174\n"
          ]
        },
        {
          "name": "stderr",
          "output_type": "stream",
          "text": [
            "Start training the model for one epoch...:  34%|███▎      | 360/1073 [03:02<05:48,  2.05it/s]"
          ]
        },
        {
          "name": "stdout",
          "output_type": "stream",
          "text": [
            "Batch 360 | Loss: 0.0180 | Learning rate:  0.000173\n"
          ]
        },
        {
          "name": "stderr",
          "output_type": "stream",
          "text": [
            "Start training the model for one epoch...:  35%|███▌      | 380/1073 [03:11<05:45,  2.01it/s]"
          ]
        },
        {
          "name": "stdout",
          "output_type": "stream",
          "text": [
            "Batch 380 | Loss: 0.0425 | Learning rate:  0.000173\n"
          ]
        },
        {
          "name": "stderr",
          "output_type": "stream",
          "text": [
            "Start training the model for one epoch...:  37%|███▋      | 400/1073 [03:21<05:28,  2.05it/s]"
          ]
        },
        {
          "name": "stdout",
          "output_type": "stream",
          "text": [
            "Batch 400 | Loss: 0.0165 | Learning rate:  0.000173\n"
          ]
        },
        {
          "name": "stderr",
          "output_type": "stream",
          "text": [
            "Start training the model for one epoch...:  39%|███▉      | 420/1073 [03:31<05:14,  2.07it/s]"
          ]
        },
        {
          "name": "stdout",
          "output_type": "stream",
          "text": [
            "Batch 420 | Loss: 0.0476 | Learning rate:  0.000173\n"
          ]
        },
        {
          "name": "stderr",
          "output_type": "stream",
          "text": [
            "Start training the model for one epoch...:  41%|████      | 440/1073 [03:41<05:09,  2.04it/s]"
          ]
        },
        {
          "name": "stdout",
          "output_type": "stream",
          "text": [
            "Batch 440 | Loss: 0.0335 | Learning rate:  0.000173\n"
          ]
        },
        {
          "name": "stderr",
          "output_type": "stream",
          "text": [
            "Start training the model for one epoch...:  43%|████▎     | 460/1073 [03:51<04:58,  2.06it/s]"
          ]
        },
        {
          "name": "stdout",
          "output_type": "stream",
          "text": [
            "Batch 460 | Loss: 0.0195 | Learning rate:  0.000173\n"
          ]
        },
        {
          "name": "stderr",
          "output_type": "stream",
          "text": [
            "Start training the model for one epoch...:  45%|████▍     | 480/1073 [04:00<04:52,  2.02it/s]"
          ]
        },
        {
          "name": "stdout",
          "output_type": "stream",
          "text": [
            "Batch 480 | Loss: 0.0362 | Learning rate:  0.000173\n"
          ]
        },
        {
          "name": "stderr",
          "output_type": "stream",
          "text": [
            "Start training the model for one epoch...:  47%|████▋     | 500/1073 [04:10<04:41,  2.04it/s]"
          ]
        },
        {
          "name": "stdout",
          "output_type": "stream",
          "text": [
            "Batch 500 | Loss: 0.0228 | Learning rate:  0.000173\n"
          ]
        },
        {
          "name": "stderr",
          "output_type": "stream",
          "text": [
            "Start training the model for one epoch...:  48%|████▊     | 520/1073 [04:20<04:33,  2.02it/s]"
          ]
        },
        {
          "name": "stdout",
          "output_type": "stream",
          "text": [
            "Batch 520 | Loss: 0.0218 | Learning rate:  0.000173\n"
          ]
        },
        {
          "name": "stderr",
          "output_type": "stream",
          "text": [
            "Start training the model for one epoch...:  50%|█████     | 540/1073 [04:30<04:20,  2.04it/s]"
          ]
        },
        {
          "name": "stdout",
          "output_type": "stream",
          "text": [
            "Batch 540 | Loss: 0.0391 | Learning rate:  0.000172\n"
          ]
        },
        {
          "name": "stderr",
          "output_type": "stream",
          "text": [
            "Start training the model for one epoch...:  52%|█████▏    | 560/1073 [04:40<04:10,  2.05it/s]"
          ]
        },
        {
          "name": "stdout",
          "output_type": "stream",
          "text": [
            "Batch 560 | Loss: 0.0183 | Learning rate:  0.000172\n"
          ]
        },
        {
          "name": "stderr",
          "output_type": "stream",
          "text": [
            "Start training the model for one epoch...:  54%|█████▍    | 580/1073 [04:50<04:03,  2.03it/s]"
          ]
        },
        {
          "name": "stdout",
          "output_type": "stream",
          "text": [
            "Batch 580 | Loss: 0.0266 | Learning rate:  0.000172\n"
          ]
        },
        {
          "name": "stderr",
          "output_type": "stream",
          "text": [
            "Start training the model for one epoch...:  56%|█████▌    | 600/1073 [05:00<03:56,  2.00it/s]"
          ]
        },
        {
          "name": "stdout",
          "output_type": "stream",
          "text": [
            "Batch 600 | Loss: 0.0306 | Learning rate:  0.000172\n"
          ]
        },
        {
          "name": "stderr",
          "output_type": "stream",
          "text": [
            "Start training the model for one epoch...:  58%|█████▊    | 620/1073 [05:09<03:41,  2.04it/s]"
          ]
        },
        {
          "name": "stdout",
          "output_type": "stream",
          "text": [
            "Batch 620 | Loss: 0.0223 | Learning rate:  0.000172\n"
          ]
        },
        {
          "name": "stderr",
          "output_type": "stream",
          "text": [
            "Start training the model for one epoch...:  60%|█████▉    | 640/1073 [05:19<03:30,  2.06it/s]"
          ]
        },
        {
          "name": "stdout",
          "output_type": "stream",
          "text": [
            "Batch 640 | Loss: 0.0146 | Learning rate:  0.000172\n"
          ]
        },
        {
          "name": "stderr",
          "output_type": "stream",
          "text": [
            "Start training the model for one epoch...:  62%|██████▏   | 660/1073 [05:29<03:20,  2.06it/s]"
          ]
        },
        {
          "name": "stdout",
          "output_type": "stream",
          "text": [
            "Batch 660 | Loss: 0.0243 | Learning rate:  0.000172\n"
          ]
        },
        {
          "name": "stderr",
          "output_type": "stream",
          "text": [
            "Start training the model for one epoch...:  63%|██████▎   | 680/1073 [05:39<03:13,  2.03it/s]"
          ]
        },
        {
          "name": "stdout",
          "output_type": "stream",
          "text": [
            "Batch 680 | Loss: 0.0227 | Learning rate:  0.000172\n"
          ]
        },
        {
          "name": "stderr",
          "output_type": "stream",
          "text": [
            "Start training the model for one epoch...:  65%|██████▌   | 700/1073 [05:49<03:03,  2.04it/s]"
          ]
        },
        {
          "name": "stdout",
          "output_type": "stream",
          "text": [
            "Batch 700 | Loss: 0.0167 | Learning rate:  0.000171\n"
          ]
        },
        {
          "name": "stderr",
          "output_type": "stream",
          "text": [
            "Start training the model for one epoch...:  67%|██████▋   | 720/1073 [05:58<02:51,  2.05it/s]"
          ]
        },
        {
          "name": "stdout",
          "output_type": "stream",
          "text": [
            "Batch 720 | Loss: 0.0299 | Learning rate:  0.000171\n"
          ]
        },
        {
          "name": "stderr",
          "output_type": "stream",
          "text": [
            "Start training the model for one epoch...:  69%|██████▉   | 740/1073 [06:08<02:43,  2.03it/s]"
          ]
        },
        {
          "name": "stdout",
          "output_type": "stream",
          "text": [
            "Batch 740 | Loss: 0.0311 | Learning rate:  0.000171\n"
          ]
        },
        {
          "name": "stderr",
          "output_type": "stream",
          "text": [
            "Start training the model for one epoch...:  71%|███████   | 760/1073 [06:18<02:35,  2.01it/s]"
          ]
        },
        {
          "name": "stdout",
          "output_type": "stream",
          "text": [
            "Batch 760 | Loss: 0.0251 | Learning rate:  0.000171\n"
          ]
        },
        {
          "name": "stderr",
          "output_type": "stream",
          "text": [
            "Start training the model for one epoch...:  73%|███████▎  | 780/1073 [06:28<02:22,  2.06it/s]"
          ]
        },
        {
          "name": "stdout",
          "output_type": "stream",
          "text": [
            "Batch 780 | Loss: 0.0236 | Learning rate:  0.000171\n"
          ]
        },
        {
          "name": "stderr",
          "output_type": "stream",
          "text": [
            "Start training the model for one epoch...:  75%|███████▍  | 800/1073 [06:38<02:14,  2.03it/s]"
          ]
        },
        {
          "name": "stdout",
          "output_type": "stream",
          "text": [
            "Batch 800 | Loss: 0.0199 | Learning rate:  0.000171\n"
          ]
        },
        {
          "name": "stderr",
          "output_type": "stream",
          "text": [
            "Start training the model for one epoch...:  76%|███████▋  | 820/1073 [06:48<02:04,  2.04it/s]"
          ]
        },
        {
          "name": "stdout",
          "output_type": "stream",
          "text": [
            "Batch 820 | Loss: 0.0231 | Learning rate:  0.000171\n"
          ]
        },
        {
          "name": "stderr",
          "output_type": "stream",
          "text": [
            "Start training the model for one epoch...:  78%|███████▊  | 840/1073 [06:58<01:55,  2.01it/s]"
          ]
        },
        {
          "name": "stdout",
          "output_type": "stream",
          "text": [
            "Batch 840 | Loss: 0.0282 | Learning rate:  0.000171\n"
          ]
        },
        {
          "name": "stderr",
          "output_type": "stream",
          "text": [
            "Start training the model for one epoch...:  80%|████████  | 860/1073 [07:07<01:44,  2.04it/s]"
          ]
        },
        {
          "name": "stdout",
          "output_type": "stream",
          "text": [
            "Batch 860 | Loss: 0.0248 | Learning rate:  0.000171\n"
          ]
        },
        {
          "name": "stderr",
          "output_type": "stream",
          "text": [
            "Start training the model for one epoch...:  82%|████████▏ | 880/1073 [07:17<01:34,  2.03it/s]"
          ]
        },
        {
          "name": "stdout",
          "output_type": "stream",
          "text": [
            "Batch 880 | Loss: 0.0319 | Learning rate:  0.000170\n"
          ]
        },
        {
          "name": "stderr",
          "output_type": "stream",
          "text": [
            "Start training the model for one epoch...:  84%|████████▍ | 900/1073 [07:27<01:23,  2.06it/s]"
          ]
        },
        {
          "name": "stdout",
          "output_type": "stream",
          "text": [
            "Batch 900 | Loss: 0.0217 | Learning rate:  0.000170\n"
          ]
        },
        {
          "name": "stderr",
          "output_type": "stream",
          "text": [
            "Start training the model for one epoch...:  86%|████████▌ | 920/1073 [07:37<01:15,  2.02it/s]"
          ]
        },
        {
          "name": "stdout",
          "output_type": "stream",
          "text": [
            "Batch 920 | Loss: 0.0471 | Learning rate:  0.000170\n"
          ]
        },
        {
          "name": "stderr",
          "output_type": "stream",
          "text": [
            "Start training the model for one epoch...:  88%|████████▊ | 940/1073 [07:47<01:04,  2.05it/s]"
          ]
        },
        {
          "name": "stdout",
          "output_type": "stream",
          "text": [
            "Batch 940 | Loss: 0.0398 | Learning rate:  0.000170\n"
          ]
        },
        {
          "name": "stderr",
          "output_type": "stream",
          "text": [
            "Start training the model for one epoch...:  89%|████████▉ | 960/1073 [07:57<00:56,  2.01it/s]"
          ]
        },
        {
          "name": "stdout",
          "output_type": "stream",
          "text": [
            "Batch 960 | Loss: 0.0240 | Learning rate:  0.000170\n"
          ]
        },
        {
          "name": "stderr",
          "output_type": "stream",
          "text": [
            "Start training the model for one epoch...:  91%|█████████▏| 980/1073 [08:06<00:45,  2.04it/s]"
          ]
        },
        {
          "name": "stdout",
          "output_type": "stream",
          "text": [
            "Batch 980 | Loss: 0.0250 | Learning rate:  0.000170\n"
          ]
        },
        {
          "name": "stderr",
          "output_type": "stream",
          "text": [
            "Start training the model for one epoch...:  93%|█████████▎| 1000/1073 [08:16<00:35,  2.06it/s]"
          ]
        },
        {
          "name": "stdout",
          "output_type": "stream",
          "text": [
            "Batch 1000 | Loss: 0.0255 | Learning rate:  0.000170\n"
          ]
        },
        {
          "name": "stderr",
          "output_type": "stream",
          "text": [
            "Start training the model for one epoch...:  95%|█████████▌| 1020/1073 [08:26<00:26,  2.01it/s]"
          ]
        },
        {
          "name": "stdout",
          "output_type": "stream",
          "text": [
            "Batch 1020 | Loss: 0.0274 | Learning rate:  0.000170\n"
          ]
        },
        {
          "name": "stderr",
          "output_type": "stream",
          "text": [
            "Start training the model for one epoch...:  97%|█████████▋| 1040/1073 [08:36<00:16,  1.99it/s]"
          ]
        },
        {
          "name": "stdout",
          "output_type": "stream",
          "text": [
            "Batch 1040 | Loss: 0.0305 | Learning rate:  0.000169\n"
          ]
        },
        {
          "name": "stderr",
          "output_type": "stream",
          "text": [
            "Start training the model for one epoch...:  99%|█████████▉| 1060/1073 [08:46<00:06,  2.16it/s]"
          ]
        },
        {
          "name": "stdout",
          "output_type": "stream",
          "text": [
            "Batch 1060 | Loss: 0.0503 | Learning rate:  0.000169\n"
          ]
        },
        {
          "name": "stderr",
          "output_type": "stream",
          "text": [
            "Start training the model for one epoch...: 100%|██████████| 1073/1073 [08:52<00:00,  2.02it/s]\n",
            "120it [00:36,  3.29it/s]\n"
          ]
        },
        {
          "name": "stdout",
          "output_type": "stream",
          "text": [
            "Epoch: 13, train loss: 0.02993818563960305, val_loss: 0.04999207031602661, val_dice: 0.8094999103702399, val_IoU: 0.7294094681823783\n"
          ]
        },
        {
          "name": "stderr",
          "output_type": "stream",
          "text": [
            "Start training the model for one epoch...:   2%|▏         | 20/1073 [00:15<08:51,  1.98it/s]"
          ]
        },
        {
          "name": "stdout",
          "output_type": "stream",
          "text": [
            "Batch 20 | Loss: 0.0338 | Learning rate:  0.000169\n"
          ]
        },
        {
          "name": "stderr",
          "output_type": "stream",
          "text": [
            "Start training the model for one epoch...:   4%|▎         | 40/1073 [00:25<08:23,  2.05it/s]"
          ]
        },
        {
          "name": "stdout",
          "output_type": "stream",
          "text": [
            "Batch 40 | Loss: 0.0267 | Learning rate:  0.000169\n"
          ]
        },
        {
          "name": "stderr",
          "output_type": "stream",
          "text": [
            "Start training the model for one epoch...:   6%|▌         | 60/1073 [00:35<08:21,  2.02it/s]"
          ]
        },
        {
          "name": "stdout",
          "output_type": "stream",
          "text": [
            "Batch 60 | Loss: 0.0236 | Learning rate:  0.000169\n"
          ]
        },
        {
          "name": "stderr",
          "output_type": "stream",
          "text": [
            "Start training the model for one epoch...:   7%|▋         | 80/1073 [00:44<08:06,  2.04it/s]"
          ]
        },
        {
          "name": "stdout",
          "output_type": "stream",
          "text": [
            "Batch 80 | Loss: 0.0298 | Learning rate:  0.000169\n"
          ]
        },
        {
          "name": "stderr",
          "output_type": "stream",
          "text": [
            "Start training the model for one epoch...:   9%|▉         | 100/1073 [00:54<08:06,  2.00it/s]"
          ]
        },
        {
          "name": "stdout",
          "output_type": "stream",
          "text": [
            "Batch 100 | Loss: 0.0305 | Learning rate:  0.000169\n"
          ]
        },
        {
          "name": "stderr",
          "output_type": "stream",
          "text": [
            "Start training the model for one epoch...:  11%|█         | 120/1073 [01:04<07:37,  2.08it/s]"
          ]
        },
        {
          "name": "stdout",
          "output_type": "stream",
          "text": [
            "Batch 120 | Loss: 0.0229 | Learning rate:  0.000169\n"
          ]
        },
        {
          "name": "stderr",
          "output_type": "stream",
          "text": [
            "Start training the model for one epoch...:  13%|█▎        | 140/1073 [01:14<07:40,  2.02it/s]"
          ]
        },
        {
          "name": "stdout",
          "output_type": "stream",
          "text": [
            "Batch 140 | Loss: 0.0175 | Learning rate:  0.000168\n"
          ]
        },
        {
          "name": "stderr",
          "output_type": "stream",
          "text": [
            "Start training the model for one epoch...:  15%|█▍        | 160/1073 [01:23<07:27,  2.04it/s]"
          ]
        },
        {
          "name": "stdout",
          "output_type": "stream",
          "text": [
            "Batch 160 | Loss: 0.0155 | Learning rate:  0.000168\n"
          ]
        },
        {
          "name": "stderr",
          "output_type": "stream",
          "text": [
            "Start training the model for one epoch...:  17%|█▋        | 180/1073 [01:33<07:21,  2.02it/s]"
          ]
        },
        {
          "name": "stdout",
          "output_type": "stream",
          "text": [
            "Batch 180 | Loss: 0.0413 | Learning rate:  0.000168\n"
          ]
        },
        {
          "name": "stderr",
          "output_type": "stream",
          "text": [
            "Start training the model for one epoch...:  19%|█▊        | 200/1073 [01:43<06:58,  2.09it/s]"
          ]
        },
        {
          "name": "stdout",
          "output_type": "stream",
          "text": [
            "Batch 200 | Loss: 0.0175 | Learning rate:  0.000168\n"
          ]
        },
        {
          "name": "stderr",
          "output_type": "stream",
          "text": [
            "Start training the model for one epoch...:  21%|██        | 220/1073 [01:53<07:03,  2.02it/s]"
          ]
        },
        {
          "name": "stdout",
          "output_type": "stream",
          "text": [
            "Batch 220 | Loss: 0.0429 | Learning rate:  0.000168\n"
          ]
        },
        {
          "name": "stderr",
          "output_type": "stream",
          "text": [
            "Start training the model for one epoch...:  22%|██▏       | 240/1073 [02:03<06:39,  2.08it/s]"
          ]
        },
        {
          "name": "stdout",
          "output_type": "stream",
          "text": [
            "Batch 240 | Loss: 0.0250 | Learning rate:  0.000168\n"
          ]
        },
        {
          "name": "stderr",
          "output_type": "stream",
          "text": [
            "Start training the model for one epoch...:  24%|██▍       | 260/1073 [02:12<06:42,  2.02it/s]"
          ]
        },
        {
          "name": "stdout",
          "output_type": "stream",
          "text": [
            "Batch 260 | Loss: 0.0364 | Learning rate:  0.000168\n"
          ]
        },
        {
          "name": "stderr",
          "output_type": "stream",
          "text": [
            "Start training the model for one epoch...:  26%|██▌       | 280/1073 [02:22<06:22,  2.07it/s]"
          ]
        },
        {
          "name": "stdout",
          "output_type": "stream",
          "text": [
            "Batch 280 | Loss: 0.0591 | Learning rate:  0.000168\n"
          ]
        },
        {
          "name": "stderr",
          "output_type": "stream",
          "text": [
            "Start training the model for one epoch...:  28%|██▊       | 300/1073 [02:32<06:17,  2.05it/s]"
          ]
        },
        {
          "name": "stdout",
          "output_type": "stream",
          "text": [
            "Batch 300 | Loss: 0.0265 | Learning rate:  0.000167\n"
          ]
        },
        {
          "name": "stderr",
          "output_type": "stream",
          "text": [
            "Start training the model for one epoch...:  30%|██▉       | 320/1073 [02:42<06:04,  2.07it/s]"
          ]
        },
        {
          "name": "stdout",
          "output_type": "stream",
          "text": [
            "Batch 320 | Loss: 0.0358 | Learning rate:  0.000167\n"
          ]
        },
        {
          "name": "stderr",
          "output_type": "stream",
          "text": [
            "Start training the model for one epoch...:  32%|███▏      | 340/1073 [02:52<05:59,  2.04it/s]"
          ]
        },
        {
          "name": "stdout",
          "output_type": "stream",
          "text": [
            "Batch 340 | Loss: 0.0195 | Learning rate:  0.000167\n"
          ]
        },
        {
          "name": "stderr",
          "output_type": "stream",
          "text": [
            "Start training the model for one epoch...:  34%|███▎      | 360/1073 [03:01<05:55,  2.01it/s]"
          ]
        },
        {
          "name": "stdout",
          "output_type": "stream",
          "text": [
            "Batch 360 | Loss: 0.0270 | Learning rate:  0.000167\n"
          ]
        },
        {
          "name": "stderr",
          "output_type": "stream",
          "text": [
            "Start training the model for one epoch...:  35%|███▌      | 380/1073 [03:11<05:38,  2.05it/s]"
          ]
        },
        {
          "name": "stdout",
          "output_type": "stream",
          "text": [
            "Batch 380 | Loss: 0.0462 | Learning rate:  0.000167\n"
          ]
        },
        {
          "name": "stderr",
          "output_type": "stream",
          "text": [
            "Start training the model for one epoch...:  37%|███▋      | 400/1073 [03:21<05:26,  2.06it/s]"
          ]
        },
        {
          "name": "stdout",
          "output_type": "stream",
          "text": [
            "Batch 400 | Loss: 0.0188 | Learning rate:  0.000167\n"
          ]
        },
        {
          "name": "stderr",
          "output_type": "stream",
          "text": [
            "Start training the model for one epoch...:  39%|███▉      | 420/1073 [03:31<05:18,  2.05it/s]"
          ]
        },
        {
          "name": "stdout",
          "output_type": "stream",
          "text": [
            "Batch 420 | Loss: 0.0198 | Learning rate:  0.000167\n"
          ]
        },
        {
          "name": "stderr",
          "output_type": "stream",
          "text": [
            "Start training the model for one epoch...:  41%|████      | 440/1073 [03:41<05:14,  2.01it/s]"
          ]
        },
        {
          "name": "stdout",
          "output_type": "stream",
          "text": [
            "Batch 440 | Loss: 0.0275 | Learning rate:  0.000167\n"
          ]
        },
        {
          "name": "stderr",
          "output_type": "stream",
          "text": [
            "Start training the model for one epoch...:  43%|████▎     | 460/1073 [03:51<05:03,  2.02it/s]"
          ]
        },
        {
          "name": "stdout",
          "output_type": "stream",
          "text": [
            "Batch 460 | Loss: 0.0350 | Learning rate:  0.000166\n"
          ]
        },
        {
          "name": "stderr",
          "output_type": "stream",
          "text": [
            "Start training the model for one epoch...:  45%|████▍     | 480/1073 [04:00<04:49,  2.04it/s]"
          ]
        },
        {
          "name": "stdout",
          "output_type": "stream",
          "text": [
            "Batch 480 | Loss: 0.0477 | Learning rate:  0.000166\n"
          ]
        },
        {
          "name": "stderr",
          "output_type": "stream",
          "text": [
            "Start training the model for one epoch...:  47%|████▋     | 500/1073 [04:10<04:41,  2.04it/s]"
          ]
        },
        {
          "name": "stdout",
          "output_type": "stream",
          "text": [
            "Batch 500 | Loss: 0.0299 | Learning rate:  0.000166\n"
          ]
        },
        {
          "name": "stderr",
          "output_type": "stream",
          "text": [
            "Start training the model for one epoch...:  48%|████▊     | 520/1073 [04:20<04:29,  2.05it/s]"
          ]
        },
        {
          "name": "stdout",
          "output_type": "stream",
          "text": [
            "Batch 520 | Loss: 0.0376 | Learning rate:  0.000166\n"
          ]
        },
        {
          "name": "stderr",
          "output_type": "stream",
          "text": [
            "Start training the model for one epoch...:  50%|█████     | 540/1073 [04:30<04:23,  2.02it/s]"
          ]
        },
        {
          "name": "stdout",
          "output_type": "stream",
          "text": [
            "Batch 540 | Loss: 0.0282 | Learning rate:  0.000166\n"
          ]
        },
        {
          "name": "stderr",
          "output_type": "stream",
          "text": [
            "Start training the model for one epoch...:  52%|█████▏    | 560/1073 [04:40<04:12,  2.04it/s]"
          ]
        },
        {
          "name": "stdout",
          "output_type": "stream",
          "text": [
            "Batch 560 | Loss: 0.0192 | Learning rate:  0.000166\n"
          ]
        },
        {
          "name": "stderr",
          "output_type": "stream",
          "text": [
            "Start training the model for one epoch...:  54%|█████▍    | 580/1073 [04:50<03:59,  2.05it/s]"
          ]
        },
        {
          "name": "stdout",
          "output_type": "stream",
          "text": [
            "Batch 580 | Loss: 0.0281 | Learning rate:  0.000166\n"
          ]
        },
        {
          "name": "stderr",
          "output_type": "stream",
          "text": [
            "Start training the model for one epoch...:  56%|█████▌    | 600/1073 [04:59<03:52,  2.04it/s]"
          ]
        },
        {
          "name": "stdout",
          "output_type": "stream",
          "text": [
            "Batch 600 | Loss: 0.0416 | Learning rate:  0.000166\n"
          ]
        },
        {
          "name": "stderr",
          "output_type": "stream",
          "text": [
            "Start training the model for one epoch...:  58%|█████▊    | 620/1073 [05:09<03:43,  2.03it/s]"
          ]
        },
        {
          "name": "stdout",
          "output_type": "stream",
          "text": [
            "Batch 620 | Loss: 0.0185 | Learning rate:  0.000165\n"
          ]
        },
        {
          "name": "stderr",
          "output_type": "stream",
          "text": [
            "Start training the model for one epoch...:  60%|█████▉    | 640/1073 [05:19<03:35,  2.01it/s]"
          ]
        },
        {
          "name": "stdout",
          "output_type": "stream",
          "text": [
            "Batch 640 | Loss: 0.0237 | Learning rate:  0.000165\n"
          ]
        },
        {
          "name": "stderr",
          "output_type": "stream",
          "text": [
            "Start training the model for one epoch...:  62%|██████▏   | 660/1073 [05:29<03:22,  2.04it/s]"
          ]
        },
        {
          "name": "stdout",
          "output_type": "stream",
          "text": [
            "Batch 660 | Loss: 0.0233 | Learning rate:  0.000165\n"
          ]
        },
        {
          "name": "stderr",
          "output_type": "stream",
          "text": [
            "Start training the model for one epoch...:  63%|██████▎   | 680/1073 [05:39<03:14,  2.02it/s]"
          ]
        },
        {
          "name": "stdout",
          "output_type": "stream",
          "text": [
            "Batch 680 | Loss: 0.0289 | Learning rate:  0.000165\n"
          ]
        },
        {
          "name": "stderr",
          "output_type": "stream",
          "text": [
            "Start training the model for one epoch...:  65%|██████▌   | 700/1073 [05:49<03:03,  2.03it/s]"
          ]
        },
        {
          "name": "stdout",
          "output_type": "stream",
          "text": [
            "Batch 700 | Loss: 0.0319 | Learning rate:  0.000165\n"
          ]
        },
        {
          "name": "stderr",
          "output_type": "stream",
          "text": [
            "Start training the model for one epoch...:  67%|██████▋   | 720/1073 [05:58<02:54,  2.02it/s]"
          ]
        },
        {
          "name": "stdout",
          "output_type": "stream",
          "text": [
            "Batch 720 | Loss: 0.0234 | Learning rate:  0.000165\n"
          ]
        },
        {
          "name": "stderr",
          "output_type": "stream",
          "text": [
            "Start training the model for one epoch...:  69%|██████▉   | 740/1073 [06:08<02:43,  2.04it/s]"
          ]
        },
        {
          "name": "stdout",
          "output_type": "stream",
          "text": [
            "Batch 740 | Loss: 0.0340 | Learning rate:  0.000165\n"
          ]
        },
        {
          "name": "stderr",
          "output_type": "stream",
          "text": [
            "Start training the model for one epoch...:  71%|███████   | 760/1073 [06:18<02:36,  2.00it/s]"
          ]
        },
        {
          "name": "stdout",
          "output_type": "stream",
          "text": [
            "Batch 760 | Loss: 0.0302 | Learning rate:  0.000165\n"
          ]
        },
        {
          "name": "stderr",
          "output_type": "stream",
          "text": [
            "Start training the model for one epoch...:  73%|███████▎  | 780/1073 [06:28<02:23,  2.04it/s]"
          ]
        },
        {
          "name": "stdout",
          "output_type": "stream",
          "text": [
            "Batch 780 | Loss: 0.0168 | Learning rate:  0.000164\n"
          ]
        },
        {
          "name": "stderr",
          "output_type": "stream",
          "text": [
            "Start training the model for one epoch...:  75%|███████▍  | 800/1073 [06:38<02:14,  2.03it/s]"
          ]
        },
        {
          "name": "stdout",
          "output_type": "stream",
          "text": [
            "Batch 800 | Loss: 0.0313 | Learning rate:  0.000164\n"
          ]
        },
        {
          "name": "stderr",
          "output_type": "stream",
          "text": [
            "Start training the model for one epoch...:  76%|███████▋  | 820/1073 [06:48<02:02,  2.07it/s]"
          ]
        },
        {
          "name": "stdout",
          "output_type": "stream",
          "text": [
            "Batch 820 | Loss: 0.0270 | Learning rate:  0.000164\n"
          ]
        },
        {
          "name": "stderr",
          "output_type": "stream",
          "text": [
            "Start training the model for one epoch...:  78%|███████▊  | 840/1073 [06:57<01:54,  2.03it/s]"
          ]
        },
        {
          "name": "stdout",
          "output_type": "stream",
          "text": [
            "Batch 840 | Loss: 0.0172 | Learning rate:  0.000164\n"
          ]
        },
        {
          "name": "stderr",
          "output_type": "stream",
          "text": [
            "Start training the model for one epoch...:  80%|████████  | 860/1073 [07:07<01:44,  2.03it/s]"
          ]
        },
        {
          "name": "stdout",
          "output_type": "stream",
          "text": [
            "Batch 860 | Loss: 0.0229 | Learning rate:  0.000164\n"
          ]
        },
        {
          "name": "stderr",
          "output_type": "stream",
          "text": [
            "Start training the model for one epoch...:  82%|████████▏ | 880/1073 [07:17<01:37,  1.98it/s]"
          ]
        },
        {
          "name": "stdout",
          "output_type": "stream",
          "text": [
            "Batch 880 | Loss: 0.0365 | Learning rate:  0.000164\n"
          ]
        },
        {
          "name": "stderr",
          "output_type": "stream",
          "text": [
            "Start training the model for one epoch...:  84%|████████▍ | 900/1073 [07:27<01:24,  2.05it/s]"
          ]
        },
        {
          "name": "stdout",
          "output_type": "stream",
          "text": [
            "Batch 900 | Loss: 0.0475 | Learning rate:  0.000164\n"
          ]
        },
        {
          "name": "stderr",
          "output_type": "stream",
          "text": [
            "Start training the model for one epoch...:  86%|████████▌ | 920/1073 [07:37<01:15,  2.03it/s]"
          ]
        },
        {
          "name": "stdout",
          "output_type": "stream",
          "text": [
            "Batch 920 | Loss: 0.0217 | Learning rate:  0.000164\n"
          ]
        },
        {
          "name": "stderr",
          "output_type": "stream",
          "text": [
            "Start training the model for one epoch...:  88%|████████▊ | 940/1073 [07:47<01:04,  2.05it/s]"
          ]
        },
        {
          "name": "stdout",
          "output_type": "stream",
          "text": [
            "Batch 940 | Loss: 0.0323 | Learning rate:  0.000163\n"
          ]
        },
        {
          "name": "stderr",
          "output_type": "stream",
          "text": [
            "Start training the model for one epoch...:  89%|████████▉ | 960/1073 [07:56<00:55,  2.03it/s]"
          ]
        },
        {
          "name": "stdout",
          "output_type": "stream",
          "text": [
            "Batch 960 | Loss: 0.0337 | Learning rate:  0.000163\n"
          ]
        },
        {
          "name": "stderr",
          "output_type": "stream",
          "text": [
            "Start training the model for one epoch...:  91%|█████████▏| 980/1073 [08:06<00:45,  2.05it/s]"
          ]
        },
        {
          "name": "stdout",
          "output_type": "stream",
          "text": [
            "Batch 980 | Loss: 0.0278 | Learning rate:  0.000163\n"
          ]
        },
        {
          "name": "stderr",
          "output_type": "stream",
          "text": [
            "Start training the model for one epoch...:  93%|█████████▎| 1000/1073 [08:17<00:36,  2.02it/s]"
          ]
        },
        {
          "name": "stdout",
          "output_type": "stream",
          "text": [
            "Batch 1000 | Loss: 0.0333 | Learning rate:  0.000163\n"
          ]
        },
        {
          "name": "stderr",
          "output_type": "stream",
          "text": [
            "Start training the model for one epoch...:  95%|█████████▌| 1020/1073 [08:26<00:25,  2.04it/s]"
          ]
        },
        {
          "name": "stdout",
          "output_type": "stream",
          "text": [
            "Batch 1020 | Loss: 0.0369 | Learning rate:  0.000163\n"
          ]
        },
        {
          "name": "stderr",
          "output_type": "stream",
          "text": [
            "Start training the model for one epoch...:  97%|█████████▋| 1040/1073 [08:36<00:16,  2.01it/s]"
          ]
        },
        {
          "name": "stdout",
          "output_type": "stream",
          "text": [
            "Batch 1040 | Loss: 0.0282 | Learning rate:  0.000163\n"
          ]
        },
        {
          "name": "stderr",
          "output_type": "stream",
          "text": [
            "Start training the model for one epoch...:  99%|█████████▉| 1060/1073 [08:46<00:06,  2.16it/s]"
          ]
        },
        {
          "name": "stdout",
          "output_type": "stream",
          "text": [
            "Batch 1060 | Loss: 0.0420 | Learning rate:  0.000163\n"
          ]
        },
        {
          "name": "stderr",
          "output_type": "stream",
          "text": [
            "Start training the model for one epoch...: 100%|██████████| 1073/1073 [08:52<00:00,  2.02it/s]\n",
            "120it [00:36,  3.30it/s]\n"
          ]
        },
        {
          "name": "stdout",
          "output_type": "stream",
          "text": [
            "Epoch: 14, train loss: 0.029884437098231197, val_loss: 0.05130089063507815, val_dice: 0.8071078447073856, val_IoU: 0.7256296309783816\n"
          ]
        },
        {
          "name": "stderr",
          "output_type": "stream",
          "text": [
            "Start training the model for one epoch...:   2%|▏         | 20/1073 [00:15<08:50,  1.99it/s]"
          ]
        },
        {
          "name": "stdout",
          "output_type": "stream",
          "text": [
            "Batch 20 | Loss: 0.0217 | Learning rate:  0.000162\n"
          ]
        },
        {
          "name": "stderr",
          "output_type": "stream",
          "text": [
            "Start training the model for one epoch...:   4%|▎         | 40/1073 [00:25<08:22,  2.05it/s]"
          ]
        },
        {
          "name": "stdout",
          "output_type": "stream",
          "text": [
            "Batch 40 | Loss: 0.0378 | Learning rate:  0.000162\n"
          ]
        },
        {
          "name": "stderr",
          "output_type": "stream",
          "text": [
            "Start training the model for one epoch...:   6%|▌         | 60/1073 [00:35<08:14,  2.05it/s]"
          ]
        },
        {
          "name": "stdout",
          "output_type": "stream",
          "text": [
            "Batch 60 | Loss: 0.0164 | Learning rate:  0.000162\n"
          ]
        },
        {
          "name": "stderr",
          "output_type": "stream",
          "text": [
            "Start training the model for one epoch...:   7%|▋         | 80/1073 [00:44<07:59,  2.07it/s]"
          ]
        },
        {
          "name": "stdout",
          "output_type": "stream",
          "text": [
            "Batch 80 | Loss: 0.0712 | Learning rate:  0.000162\n"
          ]
        },
        {
          "name": "stderr",
          "output_type": "stream",
          "text": [
            "Start training the model for one epoch...:   9%|▉         | 100/1073 [00:54<08:01,  2.02it/s]"
          ]
        },
        {
          "name": "stdout",
          "output_type": "stream",
          "text": [
            "Batch 100 | Loss: 0.0354 | Learning rate:  0.000162\n"
          ]
        },
        {
          "name": "stderr",
          "output_type": "stream",
          "text": [
            "Start training the model for one epoch...:  11%|█         | 120/1073 [01:04<07:38,  2.08it/s]"
          ]
        },
        {
          "name": "stdout",
          "output_type": "stream",
          "text": [
            "Batch 120 | Loss: 0.0311 | Learning rate:  0.000162\n"
          ]
        },
        {
          "name": "stderr",
          "output_type": "stream",
          "text": [
            "Start training the model for one epoch...:  13%|█▎        | 140/1073 [01:14<07:41,  2.02it/s]"
          ]
        },
        {
          "name": "stdout",
          "output_type": "stream",
          "text": [
            "Batch 140 | Loss: 0.0321 | Learning rate:  0.000162\n"
          ]
        },
        {
          "name": "stderr",
          "output_type": "stream",
          "text": [
            "Start training the model for one epoch...:  15%|█▍        | 160/1073 [01:23<07:13,  2.11it/s]"
          ]
        },
        {
          "name": "stdout",
          "output_type": "stream",
          "text": [
            "Batch 160 | Loss: 0.0271 | Learning rate:  0.000161\n"
          ]
        },
        {
          "name": "stderr",
          "output_type": "stream",
          "text": [
            "Start training the model for one epoch...:  17%|█▋        | 180/1073 [01:33<07:12,  2.06it/s]"
          ]
        },
        {
          "name": "stdout",
          "output_type": "stream",
          "text": [
            "Batch 180 | Loss: 0.0227 | Learning rate:  0.000161\n"
          ]
        },
        {
          "name": "stderr",
          "output_type": "stream",
          "text": [
            "Start training the model for one epoch...:  19%|█▊        | 200/1073 [01:43<06:54,  2.11it/s]"
          ]
        },
        {
          "name": "stdout",
          "output_type": "stream",
          "text": [
            "Batch 200 | Loss: 0.0201 | Learning rate:  0.000161\n"
          ]
        },
        {
          "name": "stderr",
          "output_type": "stream",
          "text": [
            "Start training the model for one epoch...:  21%|██        | 220/1073 [01:52<06:59,  2.03it/s]"
          ]
        },
        {
          "name": "stdout",
          "output_type": "stream",
          "text": [
            "Batch 220 | Loss: 0.0343 | Learning rate:  0.000161\n"
          ]
        },
        {
          "name": "stderr",
          "output_type": "stream",
          "text": [
            "Start training the model for one epoch...:  22%|██▏       | 240/1073 [02:02<06:44,  2.06it/s]"
          ]
        },
        {
          "name": "stdout",
          "output_type": "stream",
          "text": [
            "Batch 240 | Loss: 0.0274 | Learning rate:  0.000161\n"
          ]
        },
        {
          "name": "stderr",
          "output_type": "stream",
          "text": [
            "Start training the model for one epoch...:  24%|██▍       | 260/1073 [02:12<06:40,  2.03it/s]"
          ]
        },
        {
          "name": "stdout",
          "output_type": "stream",
          "text": [
            "Batch 260 | Loss: 0.0265 | Learning rate:  0.000161\n"
          ]
        },
        {
          "name": "stderr",
          "output_type": "stream",
          "text": [
            "Start training the model for one epoch...:  26%|██▌       | 280/1073 [02:22<06:25,  2.05it/s]"
          ]
        },
        {
          "name": "stdout",
          "output_type": "stream",
          "text": [
            "Batch 280 | Loss: 0.0260 | Learning rate:  0.000161\n"
          ]
        },
        {
          "name": "stderr",
          "output_type": "stream",
          "text": [
            "Start training the model for one epoch...:  28%|██▊       | 300/1073 [02:31<06:19,  2.03it/s]"
          ]
        },
        {
          "name": "stdout",
          "output_type": "stream",
          "text": [
            "Batch 300 | Loss: 0.0312 | Learning rate:  0.000161\n"
          ]
        },
        {
          "name": "stderr",
          "output_type": "stream",
          "text": [
            "Start training the model for one epoch...:  30%|██▉       | 320/1073 [02:41<06:06,  2.05it/s]"
          ]
        },
        {
          "name": "stdout",
          "output_type": "stream",
          "text": [
            "Batch 320 | Loss: 0.0292 | Learning rate:  0.000160\n"
          ]
        },
        {
          "name": "stderr",
          "output_type": "stream",
          "text": [
            "Start training the model for one epoch...:  32%|███▏      | 340/1073 [02:51<06:05,  2.00it/s]"
          ]
        },
        {
          "name": "stdout",
          "output_type": "stream",
          "text": [
            "Batch 340 | Loss: 0.0214 | Learning rate:  0.000160\n"
          ]
        },
        {
          "name": "stderr",
          "output_type": "stream",
          "text": [
            "Start training the model for one epoch...:  34%|███▎      | 360/1073 [03:01<05:51,  2.03it/s]"
          ]
        },
        {
          "name": "stdout",
          "output_type": "stream",
          "text": [
            "Batch 360 | Loss: 0.0227 | Learning rate:  0.000160\n"
          ]
        },
        {
          "name": "stderr",
          "output_type": "stream",
          "text": [
            "Start training the model for one epoch...:  35%|███▌      | 380/1073 [03:11<05:44,  2.01it/s]"
          ]
        },
        {
          "name": "stdout",
          "output_type": "stream",
          "text": [
            "Batch 380 | Loss: 0.0336 | Learning rate:  0.000160\n"
          ]
        },
        {
          "name": "stderr",
          "output_type": "stream",
          "text": [
            "Start training the model for one epoch...:  37%|███▋      | 400/1073 [03:20<05:26,  2.06it/s]"
          ]
        },
        {
          "name": "stdout",
          "output_type": "stream",
          "text": [
            "Batch 400 | Loss: 0.0597 | Learning rate:  0.000160\n"
          ]
        },
        {
          "name": "stderr",
          "output_type": "stream",
          "text": [
            "Start training the model for one epoch...:  39%|███▉      | 420/1073 [03:30<05:19,  2.04it/s]"
          ]
        },
        {
          "name": "stdout",
          "output_type": "stream",
          "text": [
            "Batch 420 | Loss: 0.0222 | Learning rate:  0.000160\n"
          ]
        },
        {
          "name": "stderr",
          "output_type": "stream",
          "text": [
            "Start training the model for one epoch...:  41%|████      | 440/1073 [03:40<05:06,  2.06it/s]"
          ]
        },
        {
          "name": "stdout",
          "output_type": "stream",
          "text": [
            "Batch 440 | Loss: 0.0225 | Learning rate:  0.000160\n"
          ]
        },
        {
          "name": "stderr",
          "output_type": "stream",
          "text": [
            "Start training the model for one epoch...:  43%|████▎     | 460/1073 [03:50<04:56,  2.07it/s]"
          ]
        },
        {
          "name": "stdout",
          "output_type": "stream",
          "text": [
            "Batch 460 | Loss: 0.0329 | Learning rate:  0.000160\n"
          ]
        },
        {
          "name": "stderr",
          "output_type": "stream",
          "text": [
            "Start training the model for one epoch...:  45%|████▍     | 480/1073 [04:00<04:51,  2.03it/s]"
          ]
        },
        {
          "name": "stdout",
          "output_type": "stream",
          "text": [
            "Batch 480 | Loss: 0.0274 | Learning rate:  0.000159\n"
          ]
        },
        {
          "name": "stderr",
          "output_type": "stream",
          "text": [
            "Start training the model for one epoch...:  47%|████▋     | 500/1073 [04:09<04:37,  2.06it/s]"
          ]
        },
        {
          "name": "stdout",
          "output_type": "stream",
          "text": [
            "Batch 500 | Loss: 0.0355 | Learning rate:  0.000159\n"
          ]
        },
        {
          "name": "stderr",
          "output_type": "stream",
          "text": [
            "Start training the model for one epoch...:  48%|████▊     | 520/1073 [04:19<04:33,  2.02it/s]"
          ]
        },
        {
          "name": "stdout",
          "output_type": "stream",
          "text": [
            "Batch 520 | Loss: 0.0227 | Learning rate:  0.000159\n"
          ]
        },
        {
          "name": "stderr",
          "output_type": "stream",
          "text": [
            "Start training the model for one epoch...:  50%|█████     | 540/1073 [04:29<04:23,  2.02it/s]"
          ]
        },
        {
          "name": "stdout",
          "output_type": "stream",
          "text": [
            "Batch 540 | Loss: 0.0166 | Learning rate:  0.000159\n"
          ]
        },
        {
          "name": "stderr",
          "output_type": "stream",
          "text": [
            "Start training the model for one epoch...:  52%|█████▏    | 560/1073 [04:39<04:10,  2.05it/s]"
          ]
        },
        {
          "name": "stdout",
          "output_type": "stream",
          "text": [
            "Batch 560 | Loss: 0.0287 | Learning rate:  0.000159\n"
          ]
        },
        {
          "name": "stderr",
          "output_type": "stream",
          "text": [
            "Start training the model for one epoch...:  54%|█████▍    | 580/1073 [04:49<04:02,  2.04it/s]"
          ]
        },
        {
          "name": "stdout",
          "output_type": "stream",
          "text": [
            "Batch 580 | Loss: 0.0298 | Learning rate:  0.000159\n"
          ]
        },
        {
          "name": "stderr",
          "output_type": "stream",
          "text": [
            "Start training the model for one epoch...:  56%|█████▌    | 600/1073 [04:58<03:54,  2.02it/s]"
          ]
        },
        {
          "name": "stdout",
          "output_type": "stream",
          "text": [
            "Batch 600 | Loss: 0.0176 | Learning rate:  0.000159\n"
          ]
        },
        {
          "name": "stderr",
          "output_type": "stream",
          "text": [
            "Start training the model for one epoch...:  58%|█████▊    | 620/1073 [05:08<03:39,  2.07it/s]"
          ]
        },
        {
          "name": "stdout",
          "output_type": "stream",
          "text": [
            "Batch 620 | Loss: 0.0325 | Learning rate:  0.000158\n"
          ]
        },
        {
          "name": "stderr",
          "output_type": "stream",
          "text": [
            "Start training the model for one epoch...:  60%|█████▉    | 640/1073 [05:18<03:28,  2.07it/s]"
          ]
        },
        {
          "name": "stdout",
          "output_type": "stream",
          "text": [
            "Batch 640 | Loss: 0.0256 | Learning rate:  0.000158\n"
          ]
        },
        {
          "name": "stderr",
          "output_type": "stream",
          "text": [
            "Start training the model for one epoch...:  62%|██████▏   | 660/1073 [05:28<03:19,  2.07it/s]"
          ]
        },
        {
          "name": "stdout",
          "output_type": "stream",
          "text": [
            "Batch 660 | Loss: 0.0315 | Learning rate:  0.000158\n"
          ]
        },
        {
          "name": "stderr",
          "output_type": "stream",
          "text": [
            "Start training the model for one epoch...:  63%|██████▎   | 680/1073 [05:38<03:12,  2.05it/s]"
          ]
        },
        {
          "name": "stdout",
          "output_type": "stream",
          "text": [
            "Batch 680 | Loss: 0.0317 | Learning rate:  0.000158\n"
          ]
        },
        {
          "name": "stderr",
          "output_type": "stream",
          "text": [
            "Start training the model for one epoch...:  65%|██████▌   | 700/1073 [05:47<03:02,  2.04it/s]"
          ]
        },
        {
          "name": "stdout",
          "output_type": "stream",
          "text": [
            "Batch 700 | Loss: 0.0283 | Learning rate:  0.000158\n"
          ]
        },
        {
          "name": "stderr",
          "output_type": "stream",
          "text": [
            "Start training the model for one epoch...:  67%|██████▋   | 720/1073 [05:57<02:52,  2.05it/s]"
          ]
        },
        {
          "name": "stdout",
          "output_type": "stream",
          "text": [
            "Batch 720 | Loss: 0.0255 | Learning rate:  0.000158\n"
          ]
        },
        {
          "name": "stderr",
          "output_type": "stream",
          "text": [
            "Start training the model for one epoch...:  69%|██████▉   | 740/1073 [06:07<02:43,  2.04it/s]"
          ]
        },
        {
          "name": "stdout",
          "output_type": "stream",
          "text": [
            "Batch 740 | Loss: 0.0248 | Learning rate:  0.000158\n"
          ]
        },
        {
          "name": "stderr",
          "output_type": "stream",
          "text": [
            "Start training the model for one epoch...:  71%|███████   | 760/1073 [06:17<02:30,  2.08it/s]"
          ]
        },
        {
          "name": "stdout",
          "output_type": "stream",
          "text": [
            "Batch 760 | Loss: 0.0214 | Learning rate:  0.000157\n"
          ]
        },
        {
          "name": "stderr",
          "output_type": "stream",
          "text": [
            "Start training the model for one epoch...:  73%|███████▎  | 780/1073 [06:27<02:23,  2.04it/s]"
          ]
        },
        {
          "name": "stdout",
          "output_type": "stream",
          "text": [
            "Batch 780 | Loss: 0.0195 | Learning rate:  0.000157\n"
          ]
        },
        {
          "name": "stderr",
          "output_type": "stream",
          "text": [
            "Start training the model for one epoch...:  75%|███████▍  | 800/1073 [06:36<02:14,  2.03it/s]"
          ]
        },
        {
          "name": "stdout",
          "output_type": "stream",
          "text": [
            "Batch 800 | Loss: 0.0272 | Learning rate:  0.000157\n"
          ]
        },
        {
          "name": "stderr",
          "output_type": "stream",
          "text": [
            "Start training the model for one epoch...:  76%|███████▋  | 820/1073 [06:46<02:02,  2.07it/s]"
          ]
        },
        {
          "name": "stdout",
          "output_type": "stream",
          "text": [
            "Batch 820 | Loss: 0.0230 | Learning rate:  0.000157\n"
          ]
        },
        {
          "name": "stderr",
          "output_type": "stream",
          "text": [
            "Start training the model for one epoch...:  78%|███████▊  | 840/1073 [06:56<01:55,  2.01it/s]"
          ]
        },
        {
          "name": "stdout",
          "output_type": "stream",
          "text": [
            "Batch 840 | Loss: 0.0233 | Learning rate:  0.000157\n"
          ]
        },
        {
          "name": "stderr",
          "output_type": "stream",
          "text": [
            "Start training the model for one epoch...:  80%|████████  | 860/1073 [07:06<01:42,  2.07it/s]"
          ]
        },
        {
          "name": "stdout",
          "output_type": "stream",
          "text": [
            "Batch 860 | Loss: 0.0367 | Learning rate:  0.000157\n"
          ]
        },
        {
          "name": "stderr",
          "output_type": "stream",
          "text": [
            "Start training the model for one epoch...:  82%|████████▏ | 880/1073 [07:16<01:34,  2.04it/s]"
          ]
        },
        {
          "name": "stdout",
          "output_type": "stream",
          "text": [
            "Batch 880 | Loss: 0.0244 | Learning rate:  0.000157\n"
          ]
        },
        {
          "name": "stderr",
          "output_type": "stream",
          "text": [
            "Start training the model for one epoch...:  84%|████████▍ | 900/1073 [07:25<01:22,  2.10it/s]"
          ]
        },
        {
          "name": "stdout",
          "output_type": "stream",
          "text": [
            "Batch 900 | Loss: 0.0233 | Learning rate:  0.000157\n"
          ]
        },
        {
          "name": "stderr",
          "output_type": "stream",
          "text": [
            "Start training the model for one epoch...:  86%|████████▌ | 920/1073 [07:35<01:16,  2.00it/s]"
          ]
        },
        {
          "name": "stdout",
          "output_type": "stream",
          "text": [
            "Batch 920 | Loss: 0.0424 | Learning rate:  0.000156\n"
          ]
        },
        {
          "name": "stderr",
          "output_type": "stream",
          "text": [
            "Start training the model for one epoch...:  88%|████████▊ | 940/1073 [07:45<01:04,  2.06it/s]"
          ]
        },
        {
          "name": "stdout",
          "output_type": "stream",
          "text": [
            "Batch 940 | Loss: 0.0379 | Learning rate:  0.000156\n"
          ]
        },
        {
          "name": "stderr",
          "output_type": "stream",
          "text": [
            "Start training the model for one epoch...:  89%|████████▉ | 960/1073 [07:55<00:55,  2.04it/s]"
          ]
        },
        {
          "name": "stdout",
          "output_type": "stream",
          "text": [
            "Batch 960 | Loss: 0.0204 | Learning rate:  0.000156\n"
          ]
        },
        {
          "name": "stderr",
          "output_type": "stream",
          "text": [
            "Start training the model for one epoch...:  91%|█████████▏| 980/1073 [08:05<00:45,  2.05it/s]"
          ]
        },
        {
          "name": "stdout",
          "output_type": "stream",
          "text": [
            "Batch 980 | Loss: 0.0583 | Learning rate:  0.000156\n"
          ]
        },
        {
          "name": "stderr",
          "output_type": "stream",
          "text": [
            "Start training the model for one epoch...:  93%|█████████▎| 1000/1073 [08:14<00:35,  2.03it/s]"
          ]
        },
        {
          "name": "stdout",
          "output_type": "stream",
          "text": [
            "Batch 1000 | Loss: 0.0236 | Learning rate:  0.000156\n"
          ]
        },
        {
          "name": "stderr",
          "output_type": "stream",
          "text": [
            "Start training the model for one epoch...:  95%|█████████▌| 1020/1073 [08:24<00:25,  2.05it/s]"
          ]
        },
        {
          "name": "stdout",
          "output_type": "stream",
          "text": [
            "Batch 1020 | Loss: 0.0226 | Learning rate:  0.000156\n"
          ]
        },
        {
          "name": "stderr",
          "output_type": "stream",
          "text": [
            "Start training the model for one epoch...:  97%|█████████▋| 1040/1073 [08:34<00:16,  2.03it/s]"
          ]
        },
        {
          "name": "stdout",
          "output_type": "stream",
          "text": [
            "Batch 1040 | Loss: 0.0219 | Learning rate:  0.000156\n"
          ]
        },
        {
          "name": "stderr",
          "output_type": "stream",
          "text": [
            "Start training the model for one epoch...:  99%|█████████▉| 1060/1073 [08:43<00:06,  2.15it/s]"
          ]
        },
        {
          "name": "stdout",
          "output_type": "stream",
          "text": [
            "Batch 1060 | Loss: 0.0209 | Learning rate:  0.000155\n"
          ]
        },
        {
          "name": "stderr",
          "output_type": "stream",
          "text": [
            "Start training the model for one epoch...: 100%|██████████| 1073/1073 [08:49<00:00,  2.02it/s]\n",
            "120it [00:37,  3.23it/s]\n"
          ]
        },
        {
          "name": "stdout",
          "output_type": "stream",
          "text": [
            "Epoch: 15, train loss: 0.02933086439418604, val_loss: 0.05016299330939849, val_dice: 0.8068525061649117, val_IoU: 0.730768051551461\n"
          ]
        },
        {
          "name": "stderr",
          "output_type": "stream",
          "text": [
            "Start training the model for one epoch...:   2%|▏         | 20/1073 [00:15<08:58,  1.96it/s]"
          ]
        },
        {
          "name": "stdout",
          "output_type": "stream",
          "text": [
            "Batch 20 | Loss: 0.0303 | Learning rate:  0.000155\n"
          ]
        },
        {
          "name": "stderr",
          "output_type": "stream",
          "text": [
            "Start training the model for one epoch...:   4%|▎         | 40/1073 [00:25<08:21,  2.06it/s]"
          ]
        },
        {
          "name": "stdout",
          "output_type": "stream",
          "text": [
            "Batch 40 | Loss: 0.0345 | Learning rate:  0.000155\n"
          ]
        },
        {
          "name": "stderr",
          "output_type": "stream",
          "text": [
            "Start training the model for one epoch...:   6%|▌         | 60/1073 [00:35<08:17,  2.03it/s]"
          ]
        },
        {
          "name": "stdout",
          "output_type": "stream",
          "text": [
            "Batch 60 | Loss: 0.0261 | Learning rate:  0.000155\n"
          ]
        },
        {
          "name": "stderr",
          "output_type": "stream",
          "text": [
            "Start training the model for one epoch...:   7%|▋         | 80/1073 [00:44<08:01,  2.06it/s]"
          ]
        },
        {
          "name": "stdout",
          "output_type": "stream",
          "text": [
            "Batch 80 | Loss: 0.0383 | Learning rate:  0.000155\n"
          ]
        },
        {
          "name": "stderr",
          "output_type": "stream",
          "text": [
            "Start training the model for one epoch...:   9%|▉         | 100/1073 [00:54<07:59,  2.03it/s]"
          ]
        },
        {
          "name": "stdout",
          "output_type": "stream",
          "text": [
            "Batch 100 | Loss: 0.0257 | Learning rate:  0.000155\n"
          ]
        },
        {
          "name": "stderr",
          "output_type": "stream",
          "text": [
            "Start training the model for one epoch...:  11%|█         | 120/1073 [01:04<07:48,  2.03it/s]"
          ]
        },
        {
          "name": "stdout",
          "output_type": "stream",
          "text": [
            "Batch 120 | Loss: 0.0208 | Learning rate:  0.000154\n"
          ]
        },
        {
          "name": "stderr",
          "output_type": "stream",
          "text": [
            "Start training the model for one epoch...:  13%|█▎        | 140/1073 [01:14<07:35,  2.05it/s]"
          ]
        },
        {
          "name": "stdout",
          "output_type": "stream",
          "text": [
            "Batch 140 | Loss: 0.0407 | Learning rate:  0.000154\n"
          ]
        },
        {
          "name": "stderr",
          "output_type": "stream",
          "text": [
            "Start training the model for one epoch...:  15%|█▍        | 160/1073 [01:23<07:29,  2.03it/s]"
          ]
        },
        {
          "name": "stdout",
          "output_type": "stream",
          "text": [
            "Batch 160 | Loss: 0.0198 | Learning rate:  0.000154\n"
          ]
        },
        {
          "name": "stderr",
          "output_type": "stream",
          "text": [
            "Start training the model for one epoch...:  17%|█▋        | 180/1073 [01:33<07:24,  2.01it/s]"
          ]
        },
        {
          "name": "stdout",
          "output_type": "stream",
          "text": [
            "Batch 180 | Loss: 0.0312 | Learning rate:  0.000154\n"
          ]
        },
        {
          "name": "stderr",
          "output_type": "stream",
          "text": [
            "Start training the model for one epoch...:  19%|█▊        | 200/1073 [01:43<07:02,  2.06it/s]"
          ]
        },
        {
          "name": "stdout",
          "output_type": "stream",
          "text": [
            "Batch 200 | Loss: 0.0329 | Learning rate:  0.000154\n"
          ]
        },
        {
          "name": "stderr",
          "output_type": "stream",
          "text": [
            "Start training the model for one epoch...:  21%|██        | 220/1073 [01:53<07:03,  2.01it/s]"
          ]
        },
        {
          "name": "stdout",
          "output_type": "stream",
          "text": [
            "Batch 220 | Loss: 0.0145 | Learning rate:  0.000154\n"
          ]
        },
        {
          "name": "stderr",
          "output_type": "stream",
          "text": [
            "Start training the model for one epoch...:  22%|██▏       | 240/1073 [02:03<06:52,  2.02it/s]"
          ]
        },
        {
          "name": "stdout",
          "output_type": "stream",
          "text": [
            "Batch 240 | Loss: 0.0198 | Learning rate:  0.000154\n"
          ]
        },
        {
          "name": "stderr",
          "output_type": "stream",
          "text": [
            "Start training the model for one epoch...:  24%|██▍       | 260/1073 [02:13<06:39,  2.03it/s]"
          ]
        },
        {
          "name": "stdout",
          "output_type": "stream",
          "text": [
            "Batch 260 | Loss: 0.0232 | Learning rate:  0.000154\n"
          ]
        },
        {
          "name": "stderr",
          "output_type": "stream",
          "text": [
            "Start training the model for one epoch...:  26%|██▌       | 280/1073 [02:22<06:29,  2.04it/s]"
          ]
        },
        {
          "name": "stdout",
          "output_type": "stream",
          "text": [
            "Batch 280 | Loss: 0.0294 | Learning rate:  0.000153\n"
          ]
        },
        {
          "name": "stderr",
          "output_type": "stream",
          "text": [
            "Start training the model for one epoch...:  28%|██▊       | 300/1073 [02:32<06:18,  2.04it/s]"
          ]
        },
        {
          "name": "stdout",
          "output_type": "stream",
          "text": [
            "Batch 300 | Loss: 0.0313 | Learning rate:  0.000153\n"
          ]
        },
        {
          "name": "stderr",
          "output_type": "stream",
          "text": [
            "Start training the model for one epoch...:  30%|██▉       | 320/1073 [02:42<06:11,  2.03it/s]"
          ]
        },
        {
          "name": "stdout",
          "output_type": "stream",
          "text": [
            "Batch 320 | Loss: 0.0205 | Learning rate:  0.000153\n"
          ]
        },
        {
          "name": "stderr",
          "output_type": "stream",
          "text": [
            "Start training the model for one epoch...:  32%|███▏      | 340/1073 [02:52<05:57,  2.05it/s]"
          ]
        },
        {
          "name": "stdout",
          "output_type": "stream",
          "text": [
            "Batch 340 | Loss: 0.0225 | Learning rate:  0.000153\n"
          ]
        },
        {
          "name": "stderr",
          "output_type": "stream",
          "text": [
            "Start training the model for one epoch...:  34%|███▎      | 360/1073 [03:02<05:49,  2.04it/s]"
          ]
        },
        {
          "name": "stdout",
          "output_type": "stream",
          "text": [
            "Batch 360 | Loss: 0.0171 | Learning rate:  0.000153\n"
          ]
        },
        {
          "name": "stderr",
          "output_type": "stream",
          "text": [
            "Start training the model for one epoch...:  35%|███▌      | 380/1073 [03:11<05:41,  2.03it/s]"
          ]
        },
        {
          "name": "stdout",
          "output_type": "stream",
          "text": [
            "Batch 380 | Loss: 0.0252 | Learning rate:  0.000153\n"
          ]
        },
        {
          "name": "stderr",
          "output_type": "stream",
          "text": [
            "Start training the model for one epoch...:  37%|███▋      | 400/1073 [03:21<05:24,  2.07it/s]"
          ]
        },
        {
          "name": "stdout",
          "output_type": "stream",
          "text": [
            "Batch 400 | Loss: 0.0277 | Learning rate:  0.000153\n"
          ]
        },
        {
          "name": "stderr",
          "output_type": "stream",
          "text": [
            "Start training the model for one epoch...:  39%|███▉      | 420/1073 [03:31<05:21,  2.03it/s]"
          ]
        },
        {
          "name": "stdout",
          "output_type": "stream",
          "text": [
            "Batch 420 | Loss: 0.0357 | Learning rate:  0.000152\n"
          ]
        },
        {
          "name": "stderr",
          "output_type": "stream",
          "text": [
            "Start training the model for one epoch...:  41%|████      | 440/1073 [03:41<05:05,  2.07it/s]"
          ]
        },
        {
          "name": "stdout",
          "output_type": "stream",
          "text": [
            "Batch 440 | Loss: 0.0256 | Learning rate:  0.000152\n"
          ]
        },
        {
          "name": "stderr",
          "output_type": "stream",
          "text": [
            "Start training the model for one epoch...:  43%|████▎     | 460/1073 [03:51<05:00,  2.04it/s]"
          ]
        },
        {
          "name": "stdout",
          "output_type": "stream",
          "text": [
            "Batch 460 | Loss: 0.0206 | Learning rate:  0.000152\n"
          ]
        },
        {
          "name": "stderr",
          "output_type": "stream",
          "text": [
            "Start training the model for one epoch...:  45%|████▍     | 480/1073 [04:00<04:48,  2.05it/s]"
          ]
        },
        {
          "name": "stdout",
          "output_type": "stream",
          "text": [
            "Batch 480 | Loss: 0.0495 | Learning rate:  0.000152\n"
          ]
        },
        {
          "name": "stderr",
          "output_type": "stream",
          "text": [
            "Start training the model for one epoch...:  47%|████▋     | 500/1073 [04:10<04:43,  2.02it/s]"
          ]
        },
        {
          "name": "stdout",
          "output_type": "stream",
          "text": [
            "Batch 500 | Loss: 0.0299 | Learning rate:  0.000152\n"
          ]
        },
        {
          "name": "stderr",
          "output_type": "stream",
          "text": [
            "Start training the model for one epoch...:  48%|████▊     | 520/1073 [04:20<04:38,  1.98it/s]"
          ]
        },
        {
          "name": "stdout",
          "output_type": "stream",
          "text": [
            "Batch 520 | Loss: 0.0297 | Learning rate:  0.000152\n"
          ]
        },
        {
          "name": "stderr",
          "output_type": "stream",
          "text": [
            "Start training the model for one epoch...:  50%|█████     | 540/1073 [04:30<04:25,  2.01it/s]"
          ]
        },
        {
          "name": "stdout",
          "output_type": "stream",
          "text": [
            "Batch 540 | Loss: 0.0310 | Learning rate:  0.000152\n"
          ]
        },
        {
          "name": "stderr",
          "output_type": "stream",
          "text": [
            "Start training the model for one epoch...:  52%|█████▏    | 560/1073 [04:39<04:06,  2.08it/s]"
          ]
        },
        {
          "name": "stdout",
          "output_type": "stream",
          "text": [
            "Batch 560 | Loss: 0.0191 | Learning rate:  0.000151\n"
          ]
        },
        {
          "name": "stderr",
          "output_type": "stream",
          "text": [
            "Start training the model for one epoch...:  54%|█████▍    | 580/1073 [04:49<03:57,  2.07it/s]"
          ]
        },
        {
          "name": "stdout",
          "output_type": "stream",
          "text": [
            "Batch 580 | Loss: 0.0561 | Learning rate:  0.000151\n"
          ]
        },
        {
          "name": "stderr",
          "output_type": "stream",
          "text": [
            "Start training the model for one epoch...:  56%|█████▌    | 600/1073 [04:59<03:54,  2.02it/s]"
          ]
        },
        {
          "name": "stdout",
          "output_type": "stream",
          "text": [
            "Batch 600 | Loss: 0.0202 | Learning rate:  0.000151\n"
          ]
        },
        {
          "name": "stderr",
          "output_type": "stream",
          "text": [
            "Start training the model for one epoch...:  58%|█████▊    | 620/1073 [05:09<03:40,  2.06it/s]"
          ]
        },
        {
          "name": "stdout",
          "output_type": "stream",
          "text": [
            "Batch 620 | Loss: 0.0330 | Learning rate:  0.000151\n"
          ]
        },
        {
          "name": "stderr",
          "output_type": "stream",
          "text": [
            "Start training the model for one epoch...:  60%|█████▉    | 640/1073 [05:19<03:36,  2.00it/s]"
          ]
        },
        {
          "name": "stdout",
          "output_type": "stream",
          "text": [
            "Batch 640 | Loss: 0.0121 | Learning rate:  0.000151\n"
          ]
        },
        {
          "name": "stderr",
          "output_type": "stream",
          "text": [
            "Start training the model for one epoch...:  62%|██████▏   | 660/1073 [05:29<03:20,  2.05it/s]"
          ]
        },
        {
          "name": "stdout",
          "output_type": "stream",
          "text": [
            "Batch 660 | Loss: 0.0474 | Learning rate:  0.000151\n"
          ]
        },
        {
          "name": "stderr",
          "output_type": "stream",
          "text": [
            "Start training the model for one epoch...:  63%|██████▎   | 680/1073 [05:39<03:12,  2.04it/s]"
          ]
        },
        {
          "name": "stdout",
          "output_type": "stream",
          "text": [
            "Batch 680 | Loss: 0.0204 | Learning rate:  0.000151\n"
          ]
        },
        {
          "name": "stderr",
          "output_type": "stream",
          "text": [
            "Start training the model for one epoch...:  65%|██████▌   | 700/1073 [05:48<03:04,  2.02it/s]"
          ]
        },
        {
          "name": "stdout",
          "output_type": "stream",
          "text": [
            "Batch 700 | Loss: 0.0195 | Learning rate:  0.000150\n"
          ]
        },
        {
          "name": "stderr",
          "output_type": "stream",
          "text": [
            "Start training the model for one epoch...:  67%|██████▋   | 720/1073 [05:58<02:55,  2.01it/s]"
          ]
        },
        {
          "name": "stdout",
          "output_type": "stream",
          "text": [
            "Batch 720 | Loss: 0.0173 | Learning rate:  0.000150\n"
          ]
        },
        {
          "name": "stderr",
          "output_type": "stream",
          "text": [
            "Start training the model for one epoch...:  69%|██████▉   | 740/1073 [06:08<02:44,  2.02it/s]"
          ]
        },
        {
          "name": "stdout",
          "output_type": "stream",
          "text": [
            "Batch 740 | Loss: 0.0455 | Learning rate:  0.000150\n"
          ]
        },
        {
          "name": "stderr",
          "output_type": "stream",
          "text": [
            "Start training the model for one epoch...:  71%|███████   | 760/1073 [06:18<02:34,  2.03it/s]"
          ]
        },
        {
          "name": "stdout",
          "output_type": "stream",
          "text": [
            "Batch 760 | Loss: 0.0226 | Learning rate:  0.000150\n"
          ]
        },
        {
          "name": "stderr",
          "output_type": "stream",
          "text": [
            "Start training the model for one epoch...:  73%|███████▎  | 780/1073 [06:28<02:25,  2.01it/s]"
          ]
        },
        {
          "name": "stdout",
          "output_type": "stream",
          "text": [
            "Batch 780 | Loss: 0.0617 | Learning rate:  0.000150\n"
          ]
        },
        {
          "name": "stderr",
          "output_type": "stream",
          "text": [
            "Start training the model for one epoch...:  75%|███████▍  | 800/1073 [06:38<02:16,  2.00it/s]"
          ]
        },
        {
          "name": "stdout",
          "output_type": "stream",
          "text": [
            "Batch 800 | Loss: 0.0220 | Learning rate:  0.000150\n"
          ]
        },
        {
          "name": "stderr",
          "output_type": "stream",
          "text": [
            "Start training the model for one epoch...:  76%|███████▋  | 820/1073 [06:48<02:03,  2.06it/s]"
          ]
        },
        {
          "name": "stdout",
          "output_type": "stream",
          "text": [
            "Batch 820 | Loss: 0.0283 | Learning rate:  0.000150\n"
          ]
        },
        {
          "name": "stderr",
          "output_type": "stream",
          "text": [
            "Start training the model for one epoch...:  78%|███████▊  | 840/1073 [06:57<01:54,  2.03it/s]"
          ]
        },
        {
          "name": "stdout",
          "output_type": "stream",
          "text": [
            "Batch 840 | Loss: 0.0177 | Learning rate:  0.000149\n"
          ]
        },
        {
          "name": "stderr",
          "output_type": "stream",
          "text": [
            "Start training the model for one epoch...:  80%|████████  | 860/1073 [07:07<01:43,  2.05it/s]"
          ]
        },
        {
          "name": "stdout",
          "output_type": "stream",
          "text": [
            "Batch 860 | Loss: 0.0535 | Learning rate:  0.000149\n"
          ]
        },
        {
          "name": "stderr",
          "output_type": "stream",
          "text": [
            "Start training the model for one epoch...:  82%|████████▏ | 880/1073 [07:17<01:36,  2.01it/s]"
          ]
        },
        {
          "name": "stdout",
          "output_type": "stream",
          "text": [
            "Batch 880 | Loss: 0.0228 | Learning rate:  0.000149\n"
          ]
        },
        {
          "name": "stderr",
          "output_type": "stream",
          "text": [
            "Start training the model for one epoch...:  84%|████████▍ | 900/1073 [07:27<01:24,  2.06it/s]"
          ]
        },
        {
          "name": "stdout",
          "output_type": "stream",
          "text": [
            "Batch 900 | Loss: 0.0215 | Learning rate:  0.000149\n"
          ]
        },
        {
          "name": "stderr",
          "output_type": "stream",
          "text": [
            "Start training the model for one epoch...:  86%|████████▌ | 920/1073 [07:37<01:15,  2.02it/s]"
          ]
        },
        {
          "name": "stdout",
          "output_type": "stream",
          "text": [
            "Batch 920 | Loss: 0.0244 | Learning rate:  0.000149\n"
          ]
        },
        {
          "name": "stderr",
          "output_type": "stream",
          "text": [
            "Start training the model for one epoch...:  88%|████████▊ | 940/1073 [07:47<01:04,  2.08it/s]"
          ]
        },
        {
          "name": "stdout",
          "output_type": "stream",
          "text": [
            "Batch 940 | Loss: 0.0204 | Learning rate:  0.000149\n"
          ]
        },
        {
          "name": "stderr",
          "output_type": "stream",
          "text": [
            "Start training the model for one epoch...:  89%|████████▉ | 960/1073 [07:56<00:56,  2.01it/s]"
          ]
        },
        {
          "name": "stdout",
          "output_type": "stream",
          "text": [
            "Batch 960 | Loss: 0.0264 | Learning rate:  0.000148\n"
          ]
        },
        {
          "name": "stderr",
          "output_type": "stream",
          "text": [
            "Start training the model for one epoch...:  91%|█████████▏| 980/1073 [08:06<00:44,  2.10it/s]"
          ]
        },
        {
          "name": "stdout",
          "output_type": "stream",
          "text": [
            "Batch 980 | Loss: 0.0206 | Learning rate:  0.000148\n"
          ]
        },
        {
          "name": "stderr",
          "output_type": "stream",
          "text": [
            "Start training the model for one epoch...:  93%|█████████▎| 1000/1073 [08:16<00:36,  2.02it/s]"
          ]
        },
        {
          "name": "stdout",
          "output_type": "stream",
          "text": [
            "Batch 1000 | Loss: 0.0362 | Learning rate:  0.000148\n"
          ]
        },
        {
          "name": "stderr",
          "output_type": "stream",
          "text": [
            "Start training the model for one epoch...:  95%|█████████▌| 1020/1073 [08:26<00:26,  2.03it/s]"
          ]
        },
        {
          "name": "stdout",
          "output_type": "stream",
          "text": [
            "Batch 1020 | Loss: 0.0193 | Learning rate:  0.000148\n"
          ]
        },
        {
          "name": "stderr",
          "output_type": "stream",
          "text": [
            "Start training the model for one epoch...:  97%|█████████▋| 1040/1073 [08:36<00:16,  2.02it/s]"
          ]
        },
        {
          "name": "stdout",
          "output_type": "stream",
          "text": [
            "Batch 1040 | Loss: 0.0235 | Learning rate:  0.000148\n"
          ]
        },
        {
          "name": "stderr",
          "output_type": "stream",
          "text": [
            "Start training the model for one epoch...:  99%|█████████▉| 1060/1073 [08:45<00:06,  2.16it/s]"
          ]
        },
        {
          "name": "stdout",
          "output_type": "stream",
          "text": [
            "Batch 1060 | Loss: 0.0187 | Learning rate:  0.000148\n"
          ]
        },
        {
          "name": "stderr",
          "output_type": "stream",
          "text": [
            "Start training the model for one epoch...: 100%|██████████| 1073/1073 [08:51<00:00,  2.02it/s]\n",
            "120it [00:36,  3.29it/s]\n"
          ]
        },
        {
          "name": "stdout",
          "output_type": "stream",
          "text": [
            "Epoch: 16, train loss: 0.02817230530166504, val_loss: 0.05362392170354724, val_dice: 0.8011567345834087, val_IoU: 0.7241086405348509\n"
          ]
        },
        {
          "name": "stderr",
          "output_type": "stream",
          "text": [
            "Start training the model for one epoch...:   2%|▏         | 20/1073 [00:15<08:50,  1.99it/s]"
          ]
        },
        {
          "name": "stdout",
          "output_type": "stream",
          "text": [
            "Batch 20 | Loss: 0.0194 | Learning rate:  0.000148\n"
          ]
        },
        {
          "name": "stderr",
          "output_type": "stream",
          "text": [
            "Start training the model for one epoch...:   4%|▎         | 40/1073 [00:25<08:26,  2.04it/s]"
          ]
        },
        {
          "name": "stdout",
          "output_type": "stream",
          "text": [
            "Batch 40 | Loss: 0.0277 | Learning rate:  0.000147\n"
          ]
        },
        {
          "name": "stderr",
          "output_type": "stream",
          "text": [
            "Start training the model for one epoch...:   6%|▌         | 60/1073 [00:35<08:11,  2.06it/s]"
          ]
        },
        {
          "name": "stdout",
          "output_type": "stream",
          "text": [
            "Batch 60 | Loss: 0.0295 | Learning rate:  0.000147\n"
          ]
        },
        {
          "name": "stderr",
          "output_type": "stream",
          "text": [
            "Start training the model for one epoch...:   7%|▋         | 80/1073 [00:45<08:08,  2.03it/s]"
          ]
        },
        {
          "name": "stdout",
          "output_type": "stream",
          "text": [
            "Batch 80 | Loss: 0.0210 | Learning rate:  0.000147\n"
          ]
        },
        {
          "name": "stderr",
          "output_type": "stream",
          "text": [
            "Start training the model for one epoch...:   9%|▉         | 100/1073 [00:54<08:04,  2.01it/s]"
          ]
        },
        {
          "name": "stdout",
          "output_type": "stream",
          "text": [
            "Batch 100 | Loss: 0.0159 | Learning rate:  0.000147\n"
          ]
        },
        {
          "name": "stderr",
          "output_type": "stream",
          "text": [
            "Start training the model for one epoch...:  11%|█         | 120/1073 [01:04<07:44,  2.05it/s]"
          ]
        },
        {
          "name": "stdout",
          "output_type": "stream",
          "text": [
            "Batch 120 | Loss: 0.0516 | Learning rate:  0.000147\n"
          ]
        },
        {
          "name": "stderr",
          "output_type": "stream",
          "text": [
            "Start training the model for one epoch...:  13%|█▎        | 140/1073 [01:14<07:41,  2.02it/s]"
          ]
        },
        {
          "name": "stdout",
          "output_type": "stream",
          "text": [
            "Batch 140 | Loss: 0.0267 | Learning rate:  0.000147\n"
          ]
        },
        {
          "name": "stderr",
          "output_type": "stream",
          "text": [
            "Start training the model for one epoch...:  15%|█▍        | 160/1073 [01:24<07:18,  2.08it/s]"
          ]
        },
        {
          "name": "stdout",
          "output_type": "stream",
          "text": [
            "Batch 160 | Loss: 0.0208 | Learning rate:  0.000146\n"
          ]
        },
        {
          "name": "stderr",
          "output_type": "stream",
          "text": [
            "Start training the model for one epoch...:  17%|█▋        | 180/1073 [01:33<07:21,  2.02it/s]"
          ]
        },
        {
          "name": "stdout",
          "output_type": "stream",
          "text": [
            "Batch 180 | Loss: 0.0185 | Learning rate:  0.000146\n"
          ]
        },
        {
          "name": "stderr",
          "output_type": "stream",
          "text": [
            "Start training the model for one epoch...:  19%|█▊        | 200/1073 [01:43<07:06,  2.05it/s]"
          ]
        },
        {
          "name": "stdout",
          "output_type": "stream",
          "text": [
            "Batch 200 | Loss: 0.0217 | Learning rate:  0.000146\n"
          ]
        },
        {
          "name": "stderr",
          "output_type": "stream",
          "text": [
            "Start training the model for one epoch...:  21%|██        | 220/1073 [01:53<07:02,  2.02it/s]"
          ]
        },
        {
          "name": "stdout",
          "output_type": "stream",
          "text": [
            "Batch 220 | Loss: 0.0260 | Learning rate:  0.000146\n"
          ]
        },
        {
          "name": "stderr",
          "output_type": "stream",
          "text": [
            "Start training the model for one epoch...:  22%|██▏       | 240/1073 [02:03<06:41,  2.07it/s]"
          ]
        },
        {
          "name": "stdout",
          "output_type": "stream",
          "text": [
            "Batch 240 | Loss: 0.0300 | Learning rate:  0.000146\n"
          ]
        },
        {
          "name": "stderr",
          "output_type": "stream",
          "text": [
            "Start training the model for one epoch...:  24%|██▍       | 260/1073 [02:13<06:46,  2.00it/s]"
          ]
        },
        {
          "name": "stdout",
          "output_type": "stream",
          "text": [
            "Batch 260 | Loss: 0.0190 | Learning rate:  0.000146\n"
          ]
        },
        {
          "name": "stderr",
          "output_type": "stream",
          "text": [
            "Start training the model for one epoch...:  26%|██▌       | 280/1073 [02:23<06:25,  2.06it/s]"
          ]
        },
        {
          "name": "stdout",
          "output_type": "stream",
          "text": [
            "Batch 280 | Loss: 0.0197 | Learning rate:  0.000146\n"
          ]
        },
        {
          "name": "stderr",
          "output_type": "stream",
          "text": [
            "Start training the model for one epoch...:  28%|██▊       | 300/1073 [02:32<06:23,  2.01it/s]"
          ]
        },
        {
          "name": "stdout",
          "output_type": "stream",
          "text": [
            "Batch 300 | Loss: 0.0185 | Learning rate:  0.000145\n"
          ]
        },
        {
          "name": "stderr",
          "output_type": "stream",
          "text": [
            "Start training the model for one epoch...:  30%|██▉       | 320/1073 [02:43<06:44,  1.86it/s]"
          ]
        },
        {
          "name": "stdout",
          "output_type": "stream",
          "text": [
            "Batch 320 | Loss: 0.0191 | Learning rate:  0.000145\n"
          ]
        },
        {
          "name": "stderr",
          "output_type": "stream",
          "text": [
            "Start training the model for one epoch...:  32%|███▏      | 340/1073 [02:52<05:57,  2.05it/s]"
          ]
        },
        {
          "name": "stdout",
          "output_type": "stream",
          "text": [
            "Batch 340 | Loss: 0.0442 | Learning rate:  0.000145\n"
          ]
        },
        {
          "name": "stderr",
          "output_type": "stream",
          "text": [
            "Start training the model for one epoch...:  34%|███▎      | 360/1073 [03:02<05:55,  2.00it/s]"
          ]
        },
        {
          "name": "stdout",
          "output_type": "stream",
          "text": [
            "Batch 360 | Loss: 0.0307 | Learning rate:  0.000145\n"
          ]
        },
        {
          "name": "stderr",
          "output_type": "stream",
          "text": [
            "Start training the model for one epoch...:  35%|███▌      | 380/1073 [03:12<05:36,  2.06it/s]"
          ]
        },
        {
          "name": "stdout",
          "output_type": "stream",
          "text": [
            "Batch 380 | Loss: 0.0247 | Learning rate:  0.000145\n"
          ]
        },
        {
          "name": "stderr",
          "output_type": "stream",
          "text": [
            "Start training the model for one epoch...:  37%|███▋      | 400/1073 [03:22<05:30,  2.04it/s]"
          ]
        },
        {
          "name": "stdout",
          "output_type": "stream",
          "text": [
            "Batch 400 | Loss: 0.0291 | Learning rate:  0.000145\n"
          ]
        },
        {
          "name": "stderr",
          "output_type": "stream",
          "text": [
            "Start training the model for one epoch...:  39%|███▉      | 420/1073 [03:32<05:20,  2.03it/s]"
          ]
        },
        {
          "name": "stdout",
          "output_type": "stream",
          "text": [
            "Batch 420 | Loss: 0.0232 | Learning rate:  0.000145\n"
          ]
        },
        {
          "name": "stderr",
          "output_type": "stream",
          "text": [
            "Start training the model for one epoch...:  41%|████      | 440/1073 [03:41<05:07,  2.06it/s]"
          ]
        },
        {
          "name": "stdout",
          "output_type": "stream",
          "text": [
            "Batch 440 | Loss: 0.0316 | Learning rate:  0.000144\n"
          ]
        },
        {
          "name": "stderr",
          "output_type": "stream",
          "text": [
            "Start training the model for one epoch...:  43%|████▎     | 460/1073 [03:51<04:55,  2.07it/s]"
          ]
        },
        {
          "name": "stdout",
          "output_type": "stream",
          "text": [
            "Batch 460 | Loss: 0.0162 | Learning rate:  0.000144\n"
          ]
        },
        {
          "name": "stderr",
          "output_type": "stream",
          "text": [
            "Start training the model for one epoch...:  45%|████▍     | 480/1073 [04:01<04:54,  2.01it/s]"
          ]
        },
        {
          "name": "stdout",
          "output_type": "stream",
          "text": [
            "Batch 480 | Loss: 0.0271 | Learning rate:  0.000144\n"
          ]
        },
        {
          "name": "stderr",
          "output_type": "stream",
          "text": [
            "Start training the model for one epoch...:  47%|████▋     | 500/1073 [04:11<04:41,  2.04it/s]"
          ]
        },
        {
          "name": "stdout",
          "output_type": "stream",
          "text": [
            "Batch 500 | Loss: 0.0307 | Learning rate:  0.000144\n"
          ]
        },
        {
          "name": "stderr",
          "output_type": "stream",
          "text": [
            "Start training the model for one epoch...:  48%|████▊     | 520/1073 [04:21<04:33,  2.03it/s]"
          ]
        },
        {
          "name": "stdout",
          "output_type": "stream",
          "text": [
            "Batch 520 | Loss: 0.0265 | Learning rate:  0.000144\n"
          ]
        },
        {
          "name": "stderr",
          "output_type": "stream",
          "text": [
            "Start training the model for one epoch...:  50%|█████     | 540/1073 [04:31<04:22,  2.03it/s]"
          ]
        },
        {
          "name": "stdout",
          "output_type": "stream",
          "text": [
            "Batch 540 | Loss: 0.0287 | Learning rate:  0.000144\n"
          ]
        },
        {
          "name": "stderr",
          "output_type": "stream",
          "text": [
            "Start training the model for one epoch...:  52%|█████▏    | 560/1073 [04:40<04:15,  2.01it/s]"
          ]
        },
        {
          "name": "stdout",
          "output_type": "stream",
          "text": [
            "Batch 560 | Loss: 0.0234 | Learning rate:  0.000144\n"
          ]
        },
        {
          "name": "stderr",
          "output_type": "stream",
          "text": [
            "Start training the model for one epoch...:  54%|█████▍    | 580/1073 [04:50<03:58,  2.07it/s]"
          ]
        },
        {
          "name": "stdout",
          "output_type": "stream",
          "text": [
            "Batch 580 | Loss: 0.0318 | Learning rate:  0.000143\n"
          ]
        },
        {
          "name": "stderr",
          "output_type": "stream",
          "text": [
            "Start training the model for one epoch...:  56%|█████▌    | 600/1073 [05:00<03:52,  2.03it/s]"
          ]
        },
        {
          "name": "stdout",
          "output_type": "stream",
          "text": [
            "Batch 600 | Loss: 0.0117 | Learning rate:  0.000143\n"
          ]
        },
        {
          "name": "stderr",
          "output_type": "stream",
          "text": [
            "Start training the model for one epoch...:  58%|█████▊    | 620/1073 [05:10<03:42,  2.04it/s]"
          ]
        },
        {
          "name": "stdout",
          "output_type": "stream",
          "text": [
            "Batch 620 | Loss: 0.0289 | Learning rate:  0.000143\n"
          ]
        },
        {
          "name": "stderr",
          "output_type": "stream",
          "text": [
            "Start training the model for one epoch...:  60%|█████▉    | 640/1073 [05:20<03:38,  1.98it/s]"
          ]
        },
        {
          "name": "stdout",
          "output_type": "stream",
          "text": [
            "Batch 640 | Loss: 0.0171 | Learning rate:  0.000143\n"
          ]
        },
        {
          "name": "stderr",
          "output_type": "stream",
          "text": [
            "Start training the model for one epoch...:  62%|██████▏   | 660/1073 [05:30<03:22,  2.04it/s]"
          ]
        },
        {
          "name": "stdout",
          "output_type": "stream",
          "text": [
            "Batch 660 | Loss: 0.0236 | Learning rate:  0.000143\n"
          ]
        },
        {
          "name": "stderr",
          "output_type": "stream",
          "text": [
            "Start training the model for one epoch...:  63%|██████▎   | 680/1073 [05:40<03:15,  2.01it/s]"
          ]
        },
        {
          "name": "stdout",
          "output_type": "stream",
          "text": [
            "Batch 680 | Loss: 0.0327 | Learning rate:  0.000143\n"
          ]
        },
        {
          "name": "stderr",
          "output_type": "stream",
          "text": [
            "Start training the model for one epoch...:  65%|██████▌   | 700/1073 [05:49<03:02,  2.05it/s]"
          ]
        },
        {
          "name": "stdout",
          "output_type": "stream",
          "text": [
            "Batch 700 | Loss: 0.0396 | Learning rate:  0.000142\n"
          ]
        },
        {
          "name": "stderr",
          "output_type": "stream",
          "text": [
            "Start training the model for one epoch...:  67%|██████▋   | 720/1073 [05:59<02:53,  2.03it/s]"
          ]
        },
        {
          "name": "stdout",
          "output_type": "stream",
          "text": [
            "Batch 720 | Loss: 0.0462 | Learning rate:  0.000142\n"
          ]
        },
        {
          "name": "stderr",
          "output_type": "stream",
          "text": [
            "Start training the model for one epoch...:  69%|██████▉   | 740/1073 [06:09<02:40,  2.07it/s]"
          ]
        },
        {
          "name": "stdout",
          "output_type": "stream",
          "text": [
            "Batch 740 | Loss: 0.0244 | Learning rate:  0.000142\n"
          ]
        },
        {
          "name": "stderr",
          "output_type": "stream",
          "text": [
            "Start training the model for one epoch...:  71%|███████   | 760/1073 [06:19<02:33,  2.04it/s]"
          ]
        },
        {
          "name": "stdout",
          "output_type": "stream",
          "text": [
            "Batch 760 | Loss: 0.0222 | Learning rate:  0.000142\n"
          ]
        },
        {
          "name": "stderr",
          "output_type": "stream",
          "text": [
            "Start training the model for one epoch...:  73%|███████▎  | 780/1073 [06:28<02:21,  2.07it/s]"
          ]
        },
        {
          "name": "stdout",
          "output_type": "stream",
          "text": [
            "Batch 780 | Loss: 0.0210 | Learning rate:  0.000142\n"
          ]
        },
        {
          "name": "stderr",
          "output_type": "stream",
          "text": [
            "Start training the model for one epoch...:  75%|███████▍  | 800/1073 [06:38<02:15,  2.02it/s]"
          ]
        },
        {
          "name": "stdout",
          "output_type": "stream",
          "text": [
            "Batch 800 | Loss: 0.0183 | Learning rate:  0.000142\n"
          ]
        },
        {
          "name": "stderr",
          "output_type": "stream",
          "text": [
            "Start training the model for one epoch...:  76%|███████▋  | 820/1073 [06:48<02:05,  2.02it/s]"
          ]
        },
        {
          "name": "stdout",
          "output_type": "stream",
          "text": [
            "Batch 820 | Loss: 0.0196 | Learning rate:  0.000142\n"
          ]
        },
        {
          "name": "stderr",
          "output_type": "stream",
          "text": [
            "Start training the model for one epoch...:  78%|███████▊  | 840/1073 [06:58<01:56,  2.01it/s]"
          ]
        },
        {
          "name": "stdout",
          "output_type": "stream",
          "text": [
            "Batch 840 | Loss: 0.0193 | Learning rate:  0.000141\n"
          ]
        },
        {
          "name": "stderr",
          "output_type": "stream",
          "text": [
            "Start training the model for one epoch...:  80%|████████  | 860/1073 [07:08<01:44,  2.04it/s]"
          ]
        },
        {
          "name": "stdout",
          "output_type": "stream",
          "text": [
            "Batch 860 | Loss: 0.0278 | Learning rate:  0.000141\n"
          ]
        },
        {
          "name": "stderr",
          "output_type": "stream",
          "text": [
            "Start training the model for one epoch...:  82%|████████▏ | 880/1073 [07:18<01:36,  2.00it/s]"
          ]
        },
        {
          "name": "stdout",
          "output_type": "stream",
          "text": [
            "Batch 880 | Loss: 0.0247 | Learning rate:  0.000141\n"
          ]
        },
        {
          "name": "stderr",
          "output_type": "stream",
          "text": [
            "Start training the model for one epoch...:  84%|████████▍ | 900/1073 [07:27<01:24,  2.04it/s]"
          ]
        },
        {
          "name": "stdout",
          "output_type": "stream",
          "text": [
            "Batch 900 | Loss: 0.0251 | Learning rate:  0.000141\n"
          ]
        },
        {
          "name": "stderr",
          "output_type": "stream",
          "text": [
            "Start training the model for one epoch...:  86%|████████▌ | 920/1073 [07:37<01:15,  2.02it/s]"
          ]
        },
        {
          "name": "stdout",
          "output_type": "stream",
          "text": [
            "Batch 920 | Loss: 0.0275 | Learning rate:  0.000141\n"
          ]
        },
        {
          "name": "stderr",
          "output_type": "stream",
          "text": [
            "Start training the model for one epoch...:  88%|████████▊ | 940/1073 [07:47<01:05,  2.02it/s]"
          ]
        },
        {
          "name": "stdout",
          "output_type": "stream",
          "text": [
            "Batch 940 | Loss: 0.0189 | Learning rate:  0.000141\n"
          ]
        },
        {
          "name": "stderr",
          "output_type": "stream",
          "text": [
            "Start training the model for one epoch...:  89%|████████▉ | 960/1073 [07:57<00:56,  2.00it/s]"
          ]
        },
        {
          "name": "stdout",
          "output_type": "stream",
          "text": [
            "Batch 960 | Loss: 0.0156 | Learning rate:  0.000140\n"
          ]
        },
        {
          "name": "stderr",
          "output_type": "stream",
          "text": [
            "Start training the model for one epoch...:  91%|█████████▏| 980/1073 [08:07<00:45,  2.03it/s]"
          ]
        },
        {
          "name": "stdout",
          "output_type": "stream",
          "text": [
            "Batch 980 | Loss: 0.0407 | Learning rate:  0.000140\n"
          ]
        },
        {
          "name": "stderr",
          "output_type": "stream",
          "text": [
            "Start training the model for one epoch...:  93%|█████████▎| 1000/1073 [08:17<00:36,  2.02it/s]"
          ]
        },
        {
          "name": "stdout",
          "output_type": "stream",
          "text": [
            "Batch 1000 | Loss: 0.0288 | Learning rate:  0.000140\n"
          ]
        },
        {
          "name": "stderr",
          "output_type": "stream",
          "text": [
            "Start training the model for one epoch...:  95%|█████████▌| 1020/1073 [08:26<00:26,  2.01it/s]"
          ]
        },
        {
          "name": "stdout",
          "output_type": "stream",
          "text": [
            "Batch 1020 | Loss: 0.0434 | Learning rate:  0.000140\n"
          ]
        },
        {
          "name": "stderr",
          "output_type": "stream",
          "text": [
            "Start training the model for one epoch...:  97%|█████████▋| 1040/1073 [08:36<00:16,  1.99it/s]"
          ]
        },
        {
          "name": "stdout",
          "output_type": "stream",
          "text": [
            "Batch 1040 | Loss: 0.0277 | Learning rate:  0.000140\n"
          ]
        },
        {
          "name": "stderr",
          "output_type": "stream",
          "text": [
            "Start training the model for one epoch...:  99%|█████████▉| 1060/1073 [08:46<00:06,  2.16it/s]"
          ]
        },
        {
          "name": "stdout",
          "output_type": "stream",
          "text": [
            "Batch 1060 | Loss: 0.0245 | Learning rate:  0.000140\n"
          ]
        },
        {
          "name": "stderr",
          "output_type": "stream",
          "text": [
            "Start training the model for one epoch...: 100%|██████████| 1073/1073 [08:52<00:00,  2.01it/s]\n",
            "120it [00:36,  3.29it/s]\n"
          ]
        },
        {
          "name": "stdout",
          "output_type": "stream",
          "text": [
            "Epoch: 17, train loss: 0.027610747095888337, val_loss: 0.04895068371358017, val_dice: 0.8066085175062194, val_IoU: 0.7293995573315534\n"
          ]
        },
        {
          "name": "stderr",
          "output_type": "stream",
          "text": [
            "Start training the model for one epoch...:   2%|▏         | 20/1073 [00:15<09:01,  1.95it/s]"
          ]
        },
        {
          "name": "stdout",
          "output_type": "stream",
          "text": [
            "Batch 20 | Loss: 0.0341 | Learning rate:  0.000139\n"
          ]
        },
        {
          "name": "stderr",
          "output_type": "stream",
          "text": [
            "Start training the model for one epoch...:   4%|▎         | 40/1073 [00:25<08:29,  2.03it/s]"
          ]
        },
        {
          "name": "stdout",
          "output_type": "stream",
          "text": [
            "Batch 40 | Loss: 0.0264 | Learning rate:  0.000139\n"
          ]
        },
        {
          "name": "stderr",
          "output_type": "stream",
          "text": [
            "Start training the model for one epoch...:   6%|▌         | 60/1073 [00:35<08:23,  2.01it/s]"
          ]
        },
        {
          "name": "stdout",
          "output_type": "stream",
          "text": [
            "Batch 60 | Loss: 0.0242 | Learning rate:  0.000139\n"
          ]
        },
        {
          "name": "stderr",
          "output_type": "stream",
          "text": [
            "Start training the model for one epoch...:   7%|▋         | 80/1073 [00:44<08:06,  2.04it/s]"
          ]
        },
        {
          "name": "stdout",
          "output_type": "stream",
          "text": [
            "Batch 80 | Loss: 0.0120 | Learning rate:  0.000139\n"
          ]
        },
        {
          "name": "stderr",
          "output_type": "stream",
          "text": [
            "Start training the model for one epoch...:   9%|▉         | 100/1073 [00:54<08:04,  2.01it/s]"
          ]
        },
        {
          "name": "stdout",
          "output_type": "stream",
          "text": [
            "Batch 100 | Loss: 0.0177 | Learning rate:  0.000139\n"
          ]
        },
        {
          "name": "stderr",
          "output_type": "stream",
          "text": [
            "Start training the model for one epoch...:  11%|█         | 120/1073 [01:04<07:44,  2.05it/s]"
          ]
        },
        {
          "name": "stdout",
          "output_type": "stream",
          "text": [
            "Batch 120 | Loss: 0.0308 | Learning rate:  0.000139\n"
          ]
        },
        {
          "name": "stderr",
          "output_type": "stream",
          "text": [
            "Start training the model for one epoch...:  13%|█▎        | 140/1073 [01:14<07:44,  2.01it/s]"
          ]
        },
        {
          "name": "stdout",
          "output_type": "stream",
          "text": [
            "Batch 140 | Loss: 0.0184 | Learning rate:  0.000139\n"
          ]
        },
        {
          "name": "stderr",
          "output_type": "stream",
          "text": [
            "Start training the model for one epoch...:  15%|█▍        | 160/1073 [01:23<07:16,  2.09it/s]"
          ]
        },
        {
          "name": "stdout",
          "output_type": "stream",
          "text": [
            "Batch 160 | Loss: 0.0290 | Learning rate:  0.000138\n"
          ]
        },
        {
          "name": "stderr",
          "output_type": "stream",
          "text": [
            "Start training the model for one epoch...:  17%|█▋        | 180/1073 [01:33<07:18,  2.04it/s]"
          ]
        },
        {
          "name": "stdout",
          "output_type": "stream",
          "text": [
            "Batch 180 | Loss: 0.0293 | Learning rate:  0.000138\n"
          ]
        },
        {
          "name": "stderr",
          "output_type": "stream",
          "text": [
            "Start training the model for one epoch...:  19%|█▊        | 200/1073 [01:43<07:07,  2.04it/s]"
          ]
        },
        {
          "name": "stdout",
          "output_type": "stream",
          "text": [
            "Batch 200 | Loss: 0.0533 | Learning rate:  0.000138\n"
          ]
        },
        {
          "name": "stderr",
          "output_type": "stream",
          "text": [
            "Start training the model for one epoch...:  21%|██        | 220/1073 [01:53<07:06,  2.00it/s]"
          ]
        },
        {
          "name": "stdout",
          "output_type": "stream",
          "text": [
            "Batch 220 | Loss: 0.0251 | Learning rate:  0.000138\n"
          ]
        },
        {
          "name": "stderr",
          "output_type": "stream",
          "text": [
            "Start training the model for one epoch...:  22%|██▏       | 240/1073 [02:03<06:39,  2.09it/s]"
          ]
        },
        {
          "name": "stdout",
          "output_type": "stream",
          "text": [
            "Batch 240 | Loss: 0.0247 | Learning rate:  0.000138\n"
          ]
        },
        {
          "name": "stderr",
          "output_type": "stream",
          "text": [
            "Start training the model for one epoch...:  24%|██▍       | 260/1073 [02:12<06:36,  2.05it/s]"
          ]
        },
        {
          "name": "stdout",
          "output_type": "stream",
          "text": [
            "Batch 260 | Loss: 0.0327 | Learning rate:  0.000138\n"
          ]
        },
        {
          "name": "stderr",
          "output_type": "stream",
          "text": [
            "Start training the model for one epoch...:  26%|██▌       | 280/1073 [02:22<06:21,  2.08it/s]"
          ]
        },
        {
          "name": "stdout",
          "output_type": "stream",
          "text": [
            "Batch 280 | Loss: 0.0985 | Learning rate:  0.000137\n"
          ]
        },
        {
          "name": "stderr",
          "output_type": "stream",
          "text": [
            "Start training the model for one epoch...:  28%|██▊       | 300/1073 [02:32<06:20,  2.03it/s]"
          ]
        },
        {
          "name": "stdout",
          "output_type": "stream",
          "text": [
            "Batch 300 | Loss: 0.0257 | Learning rate:  0.000137\n"
          ]
        },
        {
          "name": "stderr",
          "output_type": "stream",
          "text": [
            "Start training the model for one epoch...:  30%|██▉       | 320/1073 [02:42<06:02,  2.07it/s]"
          ]
        },
        {
          "name": "stdout",
          "output_type": "stream",
          "text": [
            "Batch 320 | Loss: 0.0182 | Learning rate:  0.000137\n"
          ]
        },
        {
          "name": "stderr",
          "output_type": "stream",
          "text": [
            "Start training the model for one epoch...:  32%|███▏      | 340/1073 [02:51<06:00,  2.03it/s]"
          ]
        },
        {
          "name": "stdout",
          "output_type": "stream",
          "text": [
            "Batch 340 | Loss: 0.0179 | Learning rate:  0.000137\n"
          ]
        },
        {
          "name": "stderr",
          "output_type": "stream",
          "text": [
            "Start training the model for one epoch...:  34%|███▎      | 360/1073 [03:01<05:50,  2.03it/s]"
          ]
        },
        {
          "name": "stdout",
          "output_type": "stream",
          "text": [
            "Batch 360 | Loss: 0.0266 | Learning rate:  0.000137\n"
          ]
        },
        {
          "name": "stderr",
          "output_type": "stream",
          "text": [
            "Start training the model for one epoch...:  35%|███▌      | 380/1073 [03:11<05:34,  2.07it/s]"
          ]
        },
        {
          "name": "stdout",
          "output_type": "stream",
          "text": [
            "Batch 380 | Loss: 0.0338 | Learning rate:  0.000137\n"
          ]
        },
        {
          "name": "stderr",
          "output_type": "stream",
          "text": [
            "Start training the model for one epoch...:  37%|███▋      | 400/1073 [03:21<05:28,  2.05it/s]"
          ]
        },
        {
          "name": "stdout",
          "output_type": "stream",
          "text": [
            "Batch 400 | Loss: 0.0286 | Learning rate:  0.000137\n"
          ]
        },
        {
          "name": "stderr",
          "output_type": "stream",
          "text": [
            "Start training the model for one epoch...:  39%|███▉      | 420/1073 [03:30<05:25,  2.01it/s]"
          ]
        },
        {
          "name": "stdout",
          "output_type": "stream",
          "text": [
            "Batch 420 | Loss: 0.0316 | Learning rate:  0.000136\n"
          ]
        },
        {
          "name": "stderr",
          "output_type": "stream",
          "text": [
            "Start training the model for one epoch...:  41%|████      | 440/1073 [03:40<05:08,  2.05it/s]"
          ]
        },
        {
          "name": "stdout",
          "output_type": "stream",
          "text": [
            "Batch 440 | Loss: 0.0267 | Learning rate:  0.000136\n"
          ]
        },
        {
          "name": "stderr",
          "output_type": "stream",
          "text": [
            "Start training the model for one epoch...:  43%|████▎     | 460/1073 [03:50<04:58,  2.05it/s]"
          ]
        },
        {
          "name": "stdout",
          "output_type": "stream",
          "text": [
            "Batch 460 | Loss: 0.0478 | Learning rate:  0.000136\n"
          ]
        },
        {
          "name": "stderr",
          "output_type": "stream",
          "text": [
            "Start training the model for one epoch...:  45%|████▍     | 480/1073 [04:00<04:47,  2.06it/s]"
          ]
        },
        {
          "name": "stdout",
          "output_type": "stream",
          "text": [
            "Batch 480 | Loss: 0.0308 | Learning rate:  0.000136\n"
          ]
        },
        {
          "name": "stderr",
          "output_type": "stream",
          "text": [
            "Start training the model for one epoch...:  47%|████▋     | 500/1073 [04:09<04:37,  2.06it/s]"
          ]
        },
        {
          "name": "stdout",
          "output_type": "stream",
          "text": [
            "Batch 500 | Loss: 0.0422 | Learning rate:  0.000136\n"
          ]
        },
        {
          "name": "stderr",
          "output_type": "stream",
          "text": [
            "Start training the model for one epoch...:  48%|████▊     | 520/1073 [04:19<04:29,  2.05it/s]"
          ]
        },
        {
          "name": "stdout",
          "output_type": "stream",
          "text": [
            "Batch 520 | Loss: 0.0308 | Learning rate:  0.000136\n"
          ]
        },
        {
          "name": "stderr",
          "output_type": "stream",
          "text": [
            "Start training the model for one epoch...:  50%|█████     | 540/1073 [04:29<04:19,  2.05it/s]"
          ]
        },
        {
          "name": "stdout",
          "output_type": "stream",
          "text": [
            "Batch 540 | Loss: 0.0224 | Learning rate:  0.000135\n"
          ]
        },
        {
          "name": "stderr",
          "output_type": "stream",
          "text": [
            "Start training the model for one epoch...:  52%|█████▏    | 560/1073 [04:39<04:07,  2.07it/s]"
          ]
        },
        {
          "name": "stdout",
          "output_type": "stream",
          "text": [
            "Batch 560 | Loss: 0.0285 | Learning rate:  0.000135\n"
          ]
        },
        {
          "name": "stderr",
          "output_type": "stream",
          "text": [
            "Start training the model for one epoch...:  54%|█████▍    | 580/1073 [04:49<04:04,  2.01it/s]"
          ]
        },
        {
          "name": "stdout",
          "output_type": "stream",
          "text": [
            "Batch 580 | Loss: 0.0282 | Learning rate:  0.000135\n"
          ]
        },
        {
          "name": "stderr",
          "output_type": "stream",
          "text": [
            "Start training the model for one epoch...:  56%|█████▌    | 600/1073 [04:59<03:54,  2.01it/s]"
          ]
        },
        {
          "name": "stdout",
          "output_type": "stream",
          "text": [
            "Batch 600 | Loss: 0.0179 | Learning rate:  0.000135\n"
          ]
        },
        {
          "name": "stderr",
          "output_type": "stream",
          "text": [
            "Start training the model for one epoch...:  58%|█████▊    | 620/1073 [05:08<03:37,  2.08it/s]"
          ]
        },
        {
          "name": "stdout",
          "output_type": "stream",
          "text": [
            "Batch 620 | Loss: 0.0162 | Learning rate:  0.000135\n"
          ]
        },
        {
          "name": "stderr",
          "output_type": "stream",
          "text": [
            "Start training the model for one epoch...:  60%|█████▉    | 640/1073 [05:18<03:35,  2.01it/s]"
          ]
        },
        {
          "name": "stdout",
          "output_type": "stream",
          "text": [
            "Batch 640 | Loss: 0.0243 | Learning rate:  0.000135\n"
          ]
        },
        {
          "name": "stderr",
          "output_type": "stream",
          "text": [
            "Start training the model for one epoch...:  62%|██████▏   | 660/1073 [05:28<03:21,  2.05it/s]"
          ]
        },
        {
          "name": "stdout",
          "output_type": "stream",
          "text": [
            "Batch 660 | Loss: 0.0439 | Learning rate:  0.000135\n"
          ]
        },
        {
          "name": "stderr",
          "output_type": "stream",
          "text": [
            "Start training the model for one epoch...:  63%|██████▎   | 680/1073 [05:38<03:14,  2.02it/s]"
          ]
        },
        {
          "name": "stdout",
          "output_type": "stream",
          "text": [
            "Batch 680 | Loss: 0.0246 | Learning rate:  0.000134\n"
          ]
        },
        {
          "name": "stderr",
          "output_type": "stream",
          "text": [
            "Start training the model for one epoch...:  65%|██████▌   | 700/1073 [05:48<03:02,  2.04it/s]"
          ]
        },
        {
          "name": "stdout",
          "output_type": "stream",
          "text": [
            "Batch 700 | Loss: 0.0186 | Learning rate:  0.000134\n"
          ]
        },
        {
          "name": "stderr",
          "output_type": "stream",
          "text": [
            "Start training the model for one epoch...:  67%|██████▋   | 720/1073 [05:57<02:55,  2.02it/s]"
          ]
        },
        {
          "name": "stdout",
          "output_type": "stream",
          "text": [
            "Batch 720 | Loss: 0.0319 | Learning rate:  0.000134\n"
          ]
        },
        {
          "name": "stderr",
          "output_type": "stream",
          "text": [
            "Start training the model for one epoch...:  69%|██████▉   | 740/1073 [06:07<02:45,  2.02it/s]"
          ]
        },
        {
          "name": "stdout",
          "output_type": "stream",
          "text": [
            "Batch 740 | Loss: 0.0217 | Learning rate:  0.000134\n"
          ]
        },
        {
          "name": "stderr",
          "output_type": "stream",
          "text": [
            "Start training the model for one epoch...:  71%|███████   | 760/1073 [06:17<02:34,  2.03it/s]"
          ]
        },
        {
          "name": "stdout",
          "output_type": "stream",
          "text": [
            "Batch 760 | Loss: 0.0192 | Learning rate:  0.000134\n"
          ]
        },
        {
          "name": "stderr",
          "output_type": "stream",
          "text": [
            "Start training the model for one epoch...:  73%|███████▎  | 780/1073 [06:27<02:22,  2.05it/s]"
          ]
        },
        {
          "name": "stdout",
          "output_type": "stream",
          "text": [
            "Batch 780 | Loss: 0.0588 | Learning rate:  0.000134\n"
          ]
        },
        {
          "name": "stderr",
          "output_type": "stream",
          "text": [
            "Start training the model for one epoch...:  75%|███████▍  | 800/1073 [06:37<02:16,  2.00it/s]"
          ]
        },
        {
          "name": "stdout",
          "output_type": "stream",
          "text": [
            "Batch 800 | Loss: 0.0154 | Learning rate:  0.000133\n"
          ]
        },
        {
          "name": "stderr",
          "output_type": "stream",
          "text": [
            "Start training the model for one epoch...:  76%|███████▋  | 820/1073 [06:47<02:01,  2.09it/s]"
          ]
        },
        {
          "name": "stdout",
          "output_type": "stream",
          "text": [
            "Batch 820 | Loss: 0.0419 | Learning rate:  0.000133\n"
          ]
        },
        {
          "name": "stderr",
          "output_type": "stream",
          "text": [
            "Start training the model for one epoch...:  78%|███████▊  | 840/1073 [06:56<01:55,  2.03it/s]"
          ]
        },
        {
          "name": "stdout",
          "output_type": "stream",
          "text": [
            "Batch 840 | Loss: 0.0319 | Learning rate:  0.000133\n"
          ]
        },
        {
          "name": "stderr",
          "output_type": "stream",
          "text": [
            "Start training the model for one epoch...:  80%|████████  | 860/1073 [07:06<01:44,  2.05it/s]"
          ]
        },
        {
          "name": "stdout",
          "output_type": "stream",
          "text": [
            "Batch 860 | Loss: 0.0142 | Learning rate:  0.000133\n"
          ]
        },
        {
          "name": "stderr",
          "output_type": "stream",
          "text": [
            "Start training the model for one epoch...:  82%|████████▏ | 880/1073 [07:16<01:36,  2.00it/s]"
          ]
        },
        {
          "name": "stdout",
          "output_type": "stream",
          "text": [
            "Batch 880 | Loss: 0.0449 | Learning rate:  0.000133\n"
          ]
        },
        {
          "name": "stderr",
          "output_type": "stream",
          "text": [
            "Start training the model for one epoch...:  84%|████████▍ | 900/1073 [07:26<01:24,  2.06it/s]"
          ]
        },
        {
          "name": "stdout",
          "output_type": "stream",
          "text": [
            "Batch 900 | Loss: 0.0214 | Learning rate:  0.000133\n"
          ]
        },
        {
          "name": "stderr",
          "output_type": "stream",
          "text": [
            "Start training the model for one epoch...:  86%|████████▌ | 920/1073 [07:36<01:16,  2.00it/s]"
          ]
        },
        {
          "name": "stdout",
          "output_type": "stream",
          "text": [
            "Batch 920 | Loss: 0.0382 | Learning rate:  0.000132\n"
          ]
        },
        {
          "name": "stderr",
          "output_type": "stream",
          "text": [
            "Start training the model for one epoch...:  88%|████████▊ | 940/1073 [07:45<01:05,  2.03it/s]"
          ]
        },
        {
          "name": "stdout",
          "output_type": "stream",
          "text": [
            "Batch 940 | Loss: 0.0345 | Learning rate:  0.000132\n"
          ]
        },
        {
          "name": "stderr",
          "output_type": "stream",
          "text": [
            "Start training the model for one epoch...:  89%|████████▉ | 960/1073 [07:55<00:55,  2.03it/s]"
          ]
        },
        {
          "name": "stdout",
          "output_type": "stream",
          "text": [
            "Batch 960 | Loss: 0.0151 | Learning rate:  0.000132\n"
          ]
        },
        {
          "name": "stderr",
          "output_type": "stream",
          "text": [
            "Start training the model for one epoch...:  91%|█████████▏| 980/1073 [08:05<00:45,  2.04it/s]"
          ]
        },
        {
          "name": "stdout",
          "output_type": "stream",
          "text": [
            "Batch 980 | Loss: 0.0240 | Learning rate:  0.000132\n"
          ]
        },
        {
          "name": "stderr",
          "output_type": "stream",
          "text": [
            "Start training the model for one epoch...:  93%|█████████▎| 1000/1073 [08:15<00:36,  2.02it/s]"
          ]
        },
        {
          "name": "stdout",
          "output_type": "stream",
          "text": [
            "Batch 1000 | Loss: 0.0376 | Learning rate:  0.000132\n"
          ]
        },
        {
          "name": "stderr",
          "output_type": "stream",
          "text": [
            "Start training the model for one epoch...:  95%|█████████▌| 1020/1073 [08:25<00:25,  2.06it/s]"
          ]
        },
        {
          "name": "stdout",
          "output_type": "stream",
          "text": [
            "Batch 1020 | Loss: 0.0209 | Learning rate:  0.000132\n"
          ]
        },
        {
          "name": "stderr",
          "output_type": "stream",
          "text": [
            "Start training the model for one epoch...:  97%|█████████▋| 1040/1073 [08:34<00:16,  2.04it/s]"
          ]
        },
        {
          "name": "stdout",
          "output_type": "stream",
          "text": [
            "Batch 1040 | Loss: 0.0236 | Learning rate:  0.000132\n"
          ]
        },
        {
          "name": "stderr",
          "output_type": "stream",
          "text": [
            "Start training the model for one epoch...:  99%|█████████▉| 1060/1073 [08:44<00:06,  2.16it/s]"
          ]
        },
        {
          "name": "stdout",
          "output_type": "stream",
          "text": [
            "Batch 1060 | Loss: 0.0159 | Learning rate:  0.000131\n"
          ]
        },
        {
          "name": "stderr",
          "output_type": "stream",
          "text": [
            "Start training the model for one epoch...: 100%|██████████| 1073/1073 [08:50<00:00,  2.02it/s]\n",
            "120it [00:37,  3.23it/s]\n"
          ]
        },
        {
          "name": "stdout",
          "output_type": "stream",
          "text": [
            "Epoch: 18, train loss: 0.02695587290171447, val_loss: 0.07579778594275316, val_dice: 0.7737195646250483, val_IoU: 0.6780767545446442\n"
          ]
        },
        {
          "name": "stderr",
          "output_type": "stream",
          "text": [
            "Start training the model for one epoch...:   2%|▏         | 20/1073 [00:15<08:51,  1.98it/s]"
          ]
        },
        {
          "name": "stdout",
          "output_type": "stream",
          "text": [
            "Batch 20 | Loss: 0.0162 | Learning rate:  0.000131\n"
          ]
        },
        {
          "name": "stderr",
          "output_type": "stream",
          "text": [
            "Start training the model for one epoch...:   4%|▎         | 40/1073 [00:25<08:19,  2.07it/s]"
          ]
        },
        {
          "name": "stdout",
          "output_type": "stream",
          "text": [
            "Batch 40 | Loss: 0.0238 | Learning rate:  0.000131\n"
          ]
        },
        {
          "name": "stderr",
          "output_type": "stream",
          "text": [
            "Start training the model for one epoch...:   6%|▌         | 60/1073 [00:35<08:06,  2.08it/s]"
          ]
        },
        {
          "name": "stdout",
          "output_type": "stream",
          "text": [
            "Batch 60 | Loss: 0.0269 | Learning rate:  0.000131\n"
          ]
        },
        {
          "name": "stderr",
          "output_type": "stream",
          "text": [
            "Start training the model for one epoch...:   7%|▋         | 80/1073 [00:44<08:04,  2.05it/s]"
          ]
        },
        {
          "name": "stdout",
          "output_type": "stream",
          "text": [
            "Batch 80 | Loss: 0.0351 | Learning rate:  0.000131\n"
          ]
        },
        {
          "name": "stderr",
          "output_type": "stream",
          "text": [
            "Start training the model for one epoch...:   9%|▉         | 100/1073 [00:54<07:52,  2.06it/s]"
          ]
        },
        {
          "name": "stdout",
          "output_type": "stream",
          "text": [
            "Batch 100 | Loss: 0.1403 | Learning rate:  0.000130\n"
          ]
        },
        {
          "name": "stderr",
          "output_type": "stream",
          "text": [
            "Start training the model for one epoch...:  11%|█         | 120/1073 [01:04<07:48,  2.03it/s]"
          ]
        },
        {
          "name": "stdout",
          "output_type": "stream",
          "text": [
            "Batch 120 | Loss: 0.0270 | Learning rate:  0.000130\n"
          ]
        },
        {
          "name": "stderr",
          "output_type": "stream",
          "text": [
            "Start training the model for one epoch...:  13%|█▎        | 140/1073 [01:14<07:43,  2.01it/s]"
          ]
        },
        {
          "name": "stdout",
          "output_type": "stream",
          "text": [
            "Batch 140 | Loss: 0.0241 | Learning rate:  0.000130\n"
          ]
        },
        {
          "name": "stderr",
          "output_type": "stream",
          "text": [
            "Start training the model for one epoch...:  15%|█▍        | 160/1073 [01:23<07:16,  2.09it/s]"
          ]
        },
        {
          "name": "stdout",
          "output_type": "stream",
          "text": [
            "Batch 160 | Loss: 0.0160 | Learning rate:  0.000130\n"
          ]
        },
        {
          "name": "stderr",
          "output_type": "stream",
          "text": [
            "Start training the model for one epoch...:  17%|█▋        | 180/1073 [01:33<07:17,  2.04it/s]"
          ]
        },
        {
          "name": "stdout",
          "output_type": "stream",
          "text": [
            "Batch 180 | Loss: 0.0187 | Learning rate:  0.000130\n"
          ]
        },
        {
          "name": "stderr",
          "output_type": "stream",
          "text": [
            "Start training the model for one epoch...:  19%|█▊        | 200/1073 [01:43<07:04,  2.06it/s]"
          ]
        },
        {
          "name": "stdout",
          "output_type": "stream",
          "text": [
            "Batch 200 | Loss: 0.0134 | Learning rate:  0.000130\n"
          ]
        },
        {
          "name": "stderr",
          "output_type": "stream",
          "text": [
            "Start training the model for one epoch...:  21%|██        | 220/1073 [01:53<06:57,  2.04it/s]"
          ]
        },
        {
          "name": "stdout",
          "output_type": "stream",
          "text": [
            "Batch 220 | Loss: 0.0278 | Learning rate:  0.000130\n"
          ]
        },
        {
          "name": "stderr",
          "output_type": "stream",
          "text": [
            "Start training the model for one epoch...:  22%|██▏       | 240/1073 [02:02<06:41,  2.08it/s]"
          ]
        },
        {
          "name": "stdout",
          "output_type": "stream",
          "text": [
            "Batch 240 | Loss: 0.0222 | Learning rate:  0.000129\n"
          ]
        },
        {
          "name": "stderr",
          "output_type": "stream",
          "text": [
            "Start training the model for one epoch...:  24%|██▍       | 260/1073 [02:12<06:34,  2.06it/s]"
          ]
        },
        {
          "name": "stdout",
          "output_type": "stream",
          "text": [
            "Batch 260 | Loss: 0.0264 | Learning rate:  0.000129\n"
          ]
        },
        {
          "name": "stderr",
          "output_type": "stream",
          "text": [
            "Start training the model for one epoch...:  26%|██▌       | 280/1073 [02:22<06:31,  2.03it/s]"
          ]
        },
        {
          "name": "stdout",
          "output_type": "stream",
          "text": [
            "Batch 280 | Loss: 0.0299 | Learning rate:  0.000129\n"
          ]
        },
        {
          "name": "stderr",
          "output_type": "stream",
          "text": [
            "Start training the model for one epoch...:  28%|██▊       | 300/1073 [02:32<06:17,  2.05it/s]"
          ]
        },
        {
          "name": "stdout",
          "output_type": "stream",
          "text": [
            "Batch 300 | Loss: 0.0264 | Learning rate:  0.000129\n"
          ]
        },
        {
          "name": "stderr",
          "output_type": "stream",
          "text": [
            "Start training the model for one epoch...:  30%|██▉       | 320/1073 [02:42<06:05,  2.06it/s]"
          ]
        },
        {
          "name": "stdout",
          "output_type": "stream",
          "text": [
            "Batch 320 | Loss: 0.0405 | Learning rate:  0.000129\n"
          ]
        },
        {
          "name": "stderr",
          "output_type": "stream",
          "text": [
            "Start training the model for one epoch...:  32%|███▏      | 340/1073 [02:51<06:00,  2.03it/s]"
          ]
        },
        {
          "name": "stdout",
          "output_type": "stream",
          "text": [
            "Batch 340 | Loss: 0.0329 | Learning rate:  0.000129\n"
          ]
        },
        {
          "name": "stderr",
          "output_type": "stream",
          "text": [
            "Start training the model for one epoch...:  34%|███▎      | 360/1073 [03:01<05:44,  2.07it/s]"
          ]
        },
        {
          "name": "stdout",
          "output_type": "stream",
          "text": [
            "Batch 360 | Loss: 0.0267 | Learning rate:  0.000128\n"
          ]
        },
        {
          "name": "stderr",
          "output_type": "stream",
          "text": [
            "Start training the model for one epoch...:  35%|███▌      | 380/1073 [03:11<05:41,  2.03it/s]"
          ]
        },
        {
          "name": "stdout",
          "output_type": "stream",
          "text": [
            "Batch 380 | Loss: 0.0254 | Learning rate:  0.000128\n"
          ]
        },
        {
          "name": "stderr",
          "output_type": "stream",
          "text": [
            "Start training the model for one epoch...:  37%|███▋      | 400/1073 [03:21<05:25,  2.07it/s]"
          ]
        },
        {
          "name": "stdout",
          "output_type": "stream",
          "text": [
            "Batch 400 | Loss: 0.0224 | Learning rate:  0.000128\n"
          ]
        },
        {
          "name": "stderr",
          "output_type": "stream",
          "text": [
            "Start training the model for one epoch...:  39%|███▉      | 420/1073 [03:30<05:18,  2.05it/s]"
          ]
        },
        {
          "name": "stdout",
          "output_type": "stream",
          "text": [
            "Batch 420 | Loss: 0.0252 | Learning rate:  0.000128\n"
          ]
        },
        {
          "name": "stderr",
          "output_type": "stream",
          "text": [
            "Start training the model for one epoch...:  41%|████      | 440/1073 [03:40<05:15,  2.01it/s]"
          ]
        },
        {
          "name": "stdout",
          "output_type": "stream",
          "text": [
            "Batch 440 | Loss: 0.0291 | Learning rate:  0.000128\n"
          ]
        },
        {
          "name": "stderr",
          "output_type": "stream",
          "text": [
            "Start training the model for one epoch...:  43%|████▎     | 460/1073 [03:50<04:58,  2.05it/s]"
          ]
        },
        {
          "name": "stdout",
          "output_type": "stream",
          "text": [
            "Batch 460 | Loss: 0.0164 | Learning rate:  0.000128\n"
          ]
        },
        {
          "name": "stderr",
          "output_type": "stream",
          "text": [
            "Start training the model for one epoch...:  45%|████▍     | 480/1073 [04:00<04:52,  2.03it/s]"
          ]
        },
        {
          "name": "stdout",
          "output_type": "stream",
          "text": [
            "Batch 480 | Loss: 0.0211 | Learning rate:  0.000127\n"
          ]
        },
        {
          "name": "stderr",
          "output_type": "stream",
          "text": [
            "Start training the model for one epoch...:  47%|████▋     | 500/1073 [04:10<04:46,  2.00it/s]"
          ]
        },
        {
          "name": "stdout",
          "output_type": "stream",
          "text": [
            "Batch 500 | Loss: 0.0192 | Learning rate:  0.000127\n"
          ]
        },
        {
          "name": "stderr",
          "output_type": "stream",
          "text": [
            "Start training the model for one epoch...:  48%|████▊     | 520/1073 [04:19<04:29,  2.05it/s]"
          ]
        },
        {
          "name": "stdout",
          "output_type": "stream",
          "text": [
            "Batch 520 | Loss: 0.0315 | Learning rate:  0.000127\n"
          ]
        },
        {
          "name": "stderr",
          "output_type": "stream",
          "text": [
            "Start training the model for one epoch...:  50%|█████     | 540/1073 [04:29<04:23,  2.02it/s]"
          ]
        },
        {
          "name": "stdout",
          "output_type": "stream",
          "text": [
            "Batch 540 | Loss: 0.0371 | Learning rate:  0.000127\n"
          ]
        },
        {
          "name": "stderr",
          "output_type": "stream",
          "text": [
            "Start training the model for one epoch...:  52%|█████▏    | 560/1073 [04:39<04:10,  2.05it/s]"
          ]
        },
        {
          "name": "stdout",
          "output_type": "stream",
          "text": [
            "Batch 560 | Loss: 0.0289 | Learning rate:  0.000127\n"
          ]
        },
        {
          "name": "stderr",
          "output_type": "stream",
          "text": [
            "Start training the model for one epoch...:  54%|█████▍    | 580/1073 [04:49<03:59,  2.06it/s]"
          ]
        },
        {
          "name": "stdout",
          "output_type": "stream",
          "text": [
            "Batch 580 | Loss: 0.0243 | Learning rate:  0.000127\n"
          ]
        },
        {
          "name": "stderr",
          "output_type": "stream",
          "text": [
            "Start training the model for one epoch...:  56%|█████▌    | 600/1073 [04:59<03:54,  2.02it/s]"
          ]
        },
        {
          "name": "stdout",
          "output_type": "stream",
          "text": [
            "Batch 600 | Loss: 0.0173 | Learning rate:  0.000126\n"
          ]
        },
        {
          "name": "stderr",
          "output_type": "stream",
          "text": [
            "Start training the model for one epoch...:  58%|█████▊    | 620/1073 [05:08<03:38,  2.07it/s]"
          ]
        },
        {
          "name": "stdout",
          "output_type": "stream",
          "text": [
            "Batch 620 | Loss: 0.0449 | Learning rate:  0.000126\n"
          ]
        },
        {
          "name": "stderr",
          "output_type": "stream",
          "text": [
            "Start training the model for one epoch...:  60%|█████▉    | 640/1073 [05:18<03:33,  2.03it/s]"
          ]
        },
        {
          "name": "stdout",
          "output_type": "stream",
          "text": [
            "Batch 640 | Loss: 0.0190 | Learning rate:  0.000126\n"
          ]
        },
        {
          "name": "stderr",
          "output_type": "stream",
          "text": [
            "Start training the model for one epoch...:  62%|██████▏   | 660/1073 [05:28<03:20,  2.06it/s]"
          ]
        },
        {
          "name": "stdout",
          "output_type": "stream",
          "text": [
            "Batch 660 | Loss: 0.0235 | Learning rate:  0.000126\n"
          ]
        },
        {
          "name": "stderr",
          "output_type": "stream",
          "text": [
            "Start training the model for one epoch...:  63%|██████▎   | 680/1073 [05:38<03:12,  2.04it/s]"
          ]
        },
        {
          "name": "stdout",
          "output_type": "stream",
          "text": [
            "Batch 680 | Loss: 0.0301 | Learning rate:  0.000126\n"
          ]
        },
        {
          "name": "stderr",
          "output_type": "stream",
          "text": [
            "Start training the model for one epoch...:  65%|██████▌   | 700/1073 [05:48<03:06,  2.00it/s]"
          ]
        },
        {
          "name": "stdout",
          "output_type": "stream",
          "text": [
            "Batch 700 | Loss: 0.0361 | Learning rate:  0.000126\n"
          ]
        },
        {
          "name": "stderr",
          "output_type": "stream",
          "text": [
            "Start training the model for one epoch...:  67%|██████▋   | 720/1073 [05:57<02:52,  2.04it/s]"
          ]
        },
        {
          "name": "stdout",
          "output_type": "stream",
          "text": [
            "Batch 720 | Loss: 0.0283 | Learning rate:  0.000126\n"
          ]
        },
        {
          "name": "stderr",
          "output_type": "stream",
          "text": [
            "Start training the model for one epoch...:  69%|██████▉   | 740/1073 [06:07<02:42,  2.05it/s]"
          ]
        },
        {
          "name": "stdout",
          "output_type": "stream",
          "text": [
            "Batch 740 | Loss: 0.0194 | Learning rate:  0.000125\n"
          ]
        },
        {
          "name": "stderr",
          "output_type": "stream",
          "text": [
            "Start training the model for one epoch...:  71%|███████   | 760/1073 [06:17<02:34,  2.03it/s]"
          ]
        },
        {
          "name": "stdout",
          "output_type": "stream",
          "text": [
            "Batch 760 | Loss: 0.0373 | Learning rate:  0.000125\n"
          ]
        },
        {
          "name": "stderr",
          "output_type": "stream",
          "text": [
            "Start training the model for one epoch...:  73%|███████▎  | 780/1073 [06:27<02:23,  2.04it/s]"
          ]
        },
        {
          "name": "stdout",
          "output_type": "stream",
          "text": [
            "Batch 780 | Loss: 0.0326 | Learning rate:  0.000125\n"
          ]
        },
        {
          "name": "stderr",
          "output_type": "stream",
          "text": [
            "Start training the model for one epoch...:  75%|███████▍  | 800/1073 [06:37<02:15,  2.02it/s]"
          ]
        },
        {
          "name": "stdout",
          "output_type": "stream",
          "text": [
            "Batch 800 | Loss: 0.0233 | Learning rate:  0.000125\n"
          ]
        },
        {
          "name": "stderr",
          "output_type": "stream",
          "text": [
            "Start training the model for one epoch...:  76%|███████▋  | 820/1073 [06:46<02:03,  2.05it/s]"
          ]
        },
        {
          "name": "stdout",
          "output_type": "stream",
          "text": [
            "Batch 820 | Loss: 0.0142 | Learning rate:  0.000125\n"
          ]
        },
        {
          "name": "stderr",
          "output_type": "stream",
          "text": [
            "Start training the model for one epoch...:  78%|███████▊  | 840/1073 [06:57<02:29,  1.56it/s]"
          ]
        },
        {
          "name": "stdout",
          "output_type": "stream",
          "text": [
            "Batch 840 | Loss: 0.0141 | Learning rate:  0.000125\n"
          ]
        },
        {
          "name": "stderr",
          "output_type": "stream",
          "text": [
            "Start training the model for one epoch...:  80%|████████  | 860/1073 [07:07<01:45,  2.03it/s]"
          ]
        },
        {
          "name": "stdout",
          "output_type": "stream",
          "text": [
            "Batch 860 | Loss: 0.0241 | Learning rate:  0.000124\n"
          ]
        },
        {
          "name": "stderr",
          "output_type": "stream",
          "text": [
            "Start training the model for one epoch...:  82%|████████▏ | 880/1073 [07:16<01:36,  2.01it/s]"
          ]
        },
        {
          "name": "stdout",
          "output_type": "stream",
          "text": [
            "Batch 880 | Loss: 0.0183 | Learning rate:  0.000124\n"
          ]
        },
        {
          "name": "stderr",
          "output_type": "stream",
          "text": [
            "Start training the model for one epoch...:  84%|████████▍ | 900/1073 [07:26<01:24,  2.06it/s]"
          ]
        },
        {
          "name": "stdout",
          "output_type": "stream",
          "text": [
            "Batch 900 | Loss: 0.0343 | Learning rate:  0.000124\n"
          ]
        },
        {
          "name": "stderr",
          "output_type": "stream",
          "text": [
            "Start training the model for one epoch...:  86%|████████▌ | 920/1073 [07:36<01:15,  2.01it/s]"
          ]
        },
        {
          "name": "stdout",
          "output_type": "stream",
          "text": [
            "Batch 920 | Loss: 0.0220 | Learning rate:  0.000124\n"
          ]
        },
        {
          "name": "stderr",
          "output_type": "stream",
          "text": [
            "Start training the model for one epoch...:  88%|████████▊ | 940/1073 [07:46<01:04,  2.07it/s]"
          ]
        },
        {
          "name": "stdout",
          "output_type": "stream",
          "text": [
            "Batch 940 | Loss: 0.0282 | Learning rate:  0.000124\n"
          ]
        },
        {
          "name": "stderr",
          "output_type": "stream",
          "text": [
            "Start training the model for one epoch...:  89%|████████▉ | 960/1073 [07:56<00:55,  2.04it/s]"
          ]
        },
        {
          "name": "stdout",
          "output_type": "stream",
          "text": [
            "Batch 960 | Loss: 0.0202 | Learning rate:  0.000124\n"
          ]
        },
        {
          "name": "stderr",
          "output_type": "stream",
          "text": [
            "Start training the model for one epoch...:  91%|█████████▏| 980/1073 [08:05<00:45,  2.07it/s]"
          ]
        },
        {
          "name": "stdout",
          "output_type": "stream",
          "text": [
            "Batch 980 | Loss: 0.0328 | Learning rate:  0.000123\n"
          ]
        },
        {
          "name": "stderr",
          "output_type": "stream",
          "text": [
            "Start training the model for one epoch...:  93%|█████████▎| 1000/1073 [08:15<00:36,  2.00it/s]"
          ]
        },
        {
          "name": "stdout",
          "output_type": "stream",
          "text": [
            "Batch 1000 | Loss: 0.0333 | Learning rate:  0.000123\n"
          ]
        },
        {
          "name": "stderr",
          "output_type": "stream",
          "text": [
            "Start training the model for one epoch...:  95%|█████████▌| 1020/1073 [08:25<00:25,  2.06it/s]"
          ]
        },
        {
          "name": "stdout",
          "output_type": "stream",
          "text": [
            "Batch 1020 | Loss: 0.0204 | Learning rate:  0.000123\n"
          ]
        },
        {
          "name": "stderr",
          "output_type": "stream",
          "text": [
            "Start training the model for one epoch...:  97%|█████████▋| 1040/1073 [08:35<00:16,  2.00it/s]"
          ]
        },
        {
          "name": "stdout",
          "output_type": "stream",
          "text": [
            "Batch 1040 | Loss: 0.0180 | Learning rate:  0.000123\n"
          ]
        },
        {
          "name": "stderr",
          "output_type": "stream",
          "text": [
            "Start training the model for one epoch...:  99%|█████████▉| 1060/1073 [08:44<00:06,  2.16it/s]"
          ]
        },
        {
          "name": "stdout",
          "output_type": "stream",
          "text": [
            "Batch 1060 | Loss: 0.0380 | Learning rate:  0.000123\n"
          ]
        },
        {
          "name": "stderr",
          "output_type": "stream",
          "text": [
            "Start training the model for one epoch...: 100%|██████████| 1073/1073 [08:50<00:00,  2.02it/s]\n",
            "120it [00:36,  3.29it/s]\n"
          ]
        },
        {
          "name": "stdout",
          "output_type": "stream",
          "text": [
            "Epoch: 19, train loss: 0.027040766733494575, val_loss: 0.05058239277762671, val_dice: 0.8172710130954306, val_IoU: 0.7370086865362361\n"
          ]
        },
        {
          "name": "stderr",
          "output_type": "stream",
          "text": [
            "Start training the model for one epoch...:   2%|▏         | 20/1073 [00:15<08:51,  1.98it/s]"
          ]
        },
        {
          "name": "stdout",
          "output_type": "stream",
          "text": [
            "Batch 20 | Loss: 0.0206 | Learning rate:  0.000122\n"
          ]
        },
        {
          "name": "stderr",
          "output_type": "stream",
          "text": [
            "Start training the model for one epoch...:   4%|▎         | 40/1073 [00:25<08:18,  2.07it/s]"
          ]
        },
        {
          "name": "stdout",
          "output_type": "stream",
          "text": [
            "Batch 40 | Loss: 0.0295 | Learning rate:  0.000122\n"
          ]
        },
        {
          "name": "stderr",
          "output_type": "stream",
          "text": [
            "Start training the model for one epoch...:   6%|▌         | 60/1073 [00:35<08:16,  2.04it/s]"
          ]
        },
        {
          "name": "stdout",
          "output_type": "stream",
          "text": [
            "Batch 60 | Loss: 0.0177 | Learning rate:  0.000122\n"
          ]
        },
        {
          "name": "stderr",
          "output_type": "stream",
          "text": [
            "Start training the model for one epoch...:   7%|▋         | 80/1073 [00:44<07:56,  2.08it/s]"
          ]
        },
        {
          "name": "stdout",
          "output_type": "stream",
          "text": [
            "Batch 80 | Loss: 0.0260 | Learning rate:  0.000122\n"
          ]
        },
        {
          "name": "stderr",
          "output_type": "stream",
          "text": [
            "Start training the model for one epoch...:   9%|▉         | 100/1073 [00:54<07:54,  2.05it/s]"
          ]
        },
        {
          "name": "stdout",
          "output_type": "stream",
          "text": [
            "Batch 100 | Loss: 0.0221 | Learning rate:  0.000122\n"
          ]
        },
        {
          "name": "stderr",
          "output_type": "stream",
          "text": [
            "Start training the model for one epoch...:  11%|█         | 120/1073 [01:04<07:41,  2.07it/s]"
          ]
        },
        {
          "name": "stdout",
          "output_type": "stream",
          "text": [
            "Batch 120 | Loss: 0.0334 | Learning rate:  0.000122\n"
          ]
        },
        {
          "name": "stderr",
          "output_type": "stream",
          "text": [
            "Start training the model for one epoch...:  13%|█▎        | 140/1073 [01:14<07:45,  2.00it/s]"
          ]
        },
        {
          "name": "stdout",
          "output_type": "stream",
          "text": [
            "Batch 140 | Loss: 0.0111 | Learning rate:  0.000122\n"
          ]
        },
        {
          "name": "stderr",
          "output_type": "stream",
          "text": [
            "Start training the model for one epoch...:  15%|█▍        | 160/1073 [01:23<07:15,  2.10it/s]"
          ]
        },
        {
          "name": "stdout",
          "output_type": "stream",
          "text": [
            "Batch 160 | Loss: 0.0209 | Learning rate:  0.000121\n"
          ]
        },
        {
          "name": "stderr",
          "output_type": "stream",
          "text": [
            "Start training the model for one epoch...:  17%|█▋        | 180/1073 [01:33<07:23,  2.01it/s]"
          ]
        },
        {
          "name": "stdout",
          "output_type": "stream",
          "text": [
            "Batch 180 | Loss: 0.0409 | Learning rate:  0.000121\n"
          ]
        },
        {
          "name": "stderr",
          "output_type": "stream",
          "text": [
            "Start training the model for one epoch...:  19%|█▊        | 200/1073 [01:43<07:02,  2.07it/s]"
          ]
        },
        {
          "name": "stdout",
          "output_type": "stream",
          "text": [
            "Batch 200 | Loss: 0.0276 | Learning rate:  0.000121\n"
          ]
        },
        {
          "name": "stderr",
          "output_type": "stream",
          "text": [
            "Start training the model for one epoch...:  21%|██        | 220/1073 [01:53<07:02,  2.02it/s]"
          ]
        },
        {
          "name": "stdout",
          "output_type": "stream",
          "text": [
            "Batch 220 | Loss: 0.0189 | Learning rate:  0.000121\n"
          ]
        },
        {
          "name": "stderr",
          "output_type": "stream",
          "text": [
            "Start training the model for one epoch...:  22%|██▏       | 240/1073 [02:02<06:42,  2.07it/s]"
          ]
        },
        {
          "name": "stdout",
          "output_type": "stream",
          "text": [
            "Batch 240 | Loss: 0.0318 | Learning rate:  0.000121\n"
          ]
        },
        {
          "name": "stderr",
          "output_type": "stream",
          "text": [
            "Start training the model for one epoch...:  24%|██▍       | 260/1073 [02:12<06:42,  2.02it/s]"
          ]
        },
        {
          "name": "stdout",
          "output_type": "stream",
          "text": [
            "Batch 260 | Loss: 0.0332 | Learning rate:  0.000121\n"
          ]
        },
        {
          "name": "stderr",
          "output_type": "stream",
          "text": [
            "Start training the model for one epoch...:  26%|██▌       | 280/1073 [02:22<06:23,  2.07it/s]"
          ]
        },
        {
          "name": "stdout",
          "output_type": "stream",
          "text": [
            "Batch 280 | Loss: 0.0374 | Learning rate:  0.000120\n"
          ]
        },
        {
          "name": "stderr",
          "output_type": "stream",
          "text": [
            "Start training the model for one epoch...:  28%|██▊       | 300/1073 [02:32<06:16,  2.05it/s]"
          ]
        },
        {
          "name": "stdout",
          "output_type": "stream",
          "text": [
            "Batch 300 | Loss: 0.0332 | Learning rate:  0.000120\n"
          ]
        },
        {
          "name": "stderr",
          "output_type": "stream",
          "text": [
            "Start training the model for one epoch...:  30%|██▉       | 320/1073 [02:41<06:04,  2.07it/s]"
          ]
        },
        {
          "name": "stdout",
          "output_type": "stream",
          "text": [
            "Batch 320 | Loss: 0.0331 | Learning rate:  0.000120\n"
          ]
        },
        {
          "name": "stderr",
          "output_type": "stream",
          "text": [
            "Start training the model for one epoch...:  32%|███▏      | 340/1073 [02:51<05:58,  2.04it/s]"
          ]
        },
        {
          "name": "stdout",
          "output_type": "stream",
          "text": [
            "Batch 340 | Loss: 0.0295 | Learning rate:  0.000120\n"
          ]
        },
        {
          "name": "stderr",
          "output_type": "stream",
          "text": [
            "Start training the model for one epoch...:  34%|███▎      | 360/1073 [03:01<05:45,  2.07it/s]"
          ]
        },
        {
          "name": "stdout",
          "output_type": "stream",
          "text": [
            "Batch 360 | Loss: 0.0219 | Learning rate:  0.000120\n"
          ]
        },
        {
          "name": "stderr",
          "output_type": "stream",
          "text": [
            "Start training the model for one epoch...:  35%|███▌      | 380/1073 [03:11<05:43,  2.02it/s]"
          ]
        },
        {
          "name": "stdout",
          "output_type": "stream",
          "text": [
            "Batch 380 | Loss: 0.0188 | Learning rate:  0.000120\n"
          ]
        },
        {
          "name": "stderr",
          "output_type": "stream",
          "text": [
            "Start training the model for one epoch...:  37%|███▋      | 400/1073 [03:21<05:30,  2.04it/s]"
          ]
        },
        {
          "name": "stdout",
          "output_type": "stream",
          "text": [
            "Batch 400 | Loss: 0.0191 | Learning rate:  0.000119\n"
          ]
        },
        {
          "name": "stderr",
          "output_type": "stream",
          "text": [
            "Start training the model for one epoch...:  39%|███▉      | 420/1073 [03:30<05:19,  2.04it/s]"
          ]
        },
        {
          "name": "stdout",
          "output_type": "stream",
          "text": [
            "Batch 420 | Loss: 0.0369 | Learning rate:  0.000119\n"
          ]
        },
        {
          "name": "stderr",
          "output_type": "stream",
          "text": [
            "Start training the model for one epoch...:  41%|████      | 440/1073 [03:40<05:04,  2.08it/s]"
          ]
        },
        {
          "name": "stdout",
          "output_type": "stream",
          "text": [
            "Batch 440 | Loss: 0.0225 | Learning rate:  0.000119\n"
          ]
        },
        {
          "name": "stderr",
          "output_type": "stream",
          "text": [
            "Start training the model for one epoch...:  43%|████▎     | 460/1073 [03:50<05:03,  2.02it/s]"
          ]
        },
        {
          "name": "stdout",
          "output_type": "stream",
          "text": [
            "Batch 460 | Loss: 0.0188 | Learning rate:  0.000119\n"
          ]
        },
        {
          "name": "stderr",
          "output_type": "stream",
          "text": [
            "Start training the model for one epoch...:  45%|████▍     | 480/1073 [04:00<04:49,  2.05it/s]"
          ]
        },
        {
          "name": "stdout",
          "output_type": "stream",
          "text": [
            "Batch 480 | Loss: 0.0380 | Learning rate:  0.000119\n"
          ]
        },
        {
          "name": "stderr",
          "output_type": "stream",
          "text": [
            "Start training the model for one epoch...:  47%|████▋     | 500/1073 [04:09<04:41,  2.04it/s]"
          ]
        },
        {
          "name": "stdout",
          "output_type": "stream",
          "text": [
            "Batch 500 | Loss: 0.0248 | Learning rate:  0.000119\n"
          ]
        },
        {
          "name": "stderr",
          "output_type": "stream",
          "text": [
            "Start training the model for one epoch...:  48%|████▊     | 520/1073 [04:19<04:31,  2.04it/s]"
          ]
        },
        {
          "name": "stdout",
          "output_type": "stream",
          "text": [
            "Batch 520 | Loss: 0.0190 | Learning rate:  0.000118\n"
          ]
        },
        {
          "name": "stderr",
          "output_type": "stream",
          "text": [
            "Start training the model for one epoch...:  50%|█████     | 540/1073 [04:29<04:19,  2.05it/s]"
          ]
        },
        {
          "name": "stdout",
          "output_type": "stream",
          "text": [
            "Batch 540 | Loss: 0.0274 | Learning rate:  0.000118\n"
          ]
        },
        {
          "name": "stderr",
          "output_type": "stream",
          "text": [
            "Start training the model for one epoch...:  52%|█████▏    | 560/1073 [04:39<04:12,  2.03it/s]"
          ]
        },
        {
          "name": "stdout",
          "output_type": "stream",
          "text": [
            "Batch 560 | Loss: 0.0173 | Learning rate:  0.000118\n"
          ]
        },
        {
          "name": "stderr",
          "output_type": "stream",
          "text": [
            "Start training the model for one epoch...:  54%|█████▍    | 580/1073 [04:48<04:03,  2.03it/s]"
          ]
        },
        {
          "name": "stdout",
          "output_type": "stream",
          "text": [
            "Batch 580 | Loss: 0.0269 | Learning rate:  0.000118\n"
          ]
        },
        {
          "name": "stderr",
          "output_type": "stream",
          "text": [
            "Start training the model for one epoch...:  56%|█████▌    | 600/1073 [04:58<03:48,  2.07it/s]"
          ]
        },
        {
          "name": "stdout",
          "output_type": "stream",
          "text": [
            "Batch 600 | Loss: 0.0221 | Learning rate:  0.000118\n"
          ]
        },
        {
          "name": "stderr",
          "output_type": "stream",
          "text": [
            "Start training the model for one epoch...:  58%|█████▊    | 620/1073 [05:08<03:38,  2.07it/s]"
          ]
        },
        {
          "name": "stdout",
          "output_type": "stream",
          "text": [
            "Batch 620 | Loss: 0.0378 | Learning rate:  0.000118\n"
          ]
        },
        {
          "name": "stderr",
          "output_type": "stream",
          "text": [
            "Start training the model for one epoch...:  60%|█████▉    | 640/1073 [05:18<03:34,  2.02it/s]"
          ]
        },
        {
          "name": "stdout",
          "output_type": "stream",
          "text": [
            "Batch 640 | Loss: 0.0187 | Learning rate:  0.000117\n"
          ]
        },
        {
          "name": "stderr",
          "output_type": "stream",
          "text": [
            "Start training the model for one epoch...:  62%|██████▏   | 660/1073 [05:28<03:20,  2.06it/s]"
          ]
        },
        {
          "name": "stdout",
          "output_type": "stream",
          "text": [
            "Batch 660 | Loss: 0.0215 | Learning rate:  0.000117\n"
          ]
        },
        {
          "name": "stderr",
          "output_type": "stream",
          "text": [
            "Start training the model for one epoch...:  63%|██████▎   | 680/1073 [05:37<03:14,  2.02it/s]"
          ]
        },
        {
          "name": "stdout",
          "output_type": "stream",
          "text": [
            "Batch 680 | Loss: 0.0166 | Learning rate:  0.000117\n"
          ]
        },
        {
          "name": "stderr",
          "output_type": "stream",
          "text": [
            "Start training the model for one epoch...:  65%|██████▌   | 700/1073 [05:47<02:59,  2.08it/s]"
          ]
        },
        {
          "name": "stdout",
          "output_type": "stream",
          "text": [
            "Batch 700 | Loss: 0.0292 | Learning rate:  0.000117\n"
          ]
        },
        {
          "name": "stderr",
          "output_type": "stream",
          "text": [
            "Start training the model for one epoch...:  67%|██████▋   | 720/1073 [05:57<02:52,  2.05it/s]"
          ]
        },
        {
          "name": "stdout",
          "output_type": "stream",
          "text": [
            "Batch 720 | Loss: 0.0249 | Learning rate:  0.000117\n"
          ]
        },
        {
          "name": "stderr",
          "output_type": "stream",
          "text": [
            "Start training the model for one epoch...:  69%|██████▉   | 740/1073 [06:07<02:42,  2.04it/s]"
          ]
        },
        {
          "name": "stdout",
          "output_type": "stream",
          "text": [
            "Batch 740 | Loss: 0.0371 | Learning rate:  0.000117\n"
          ]
        },
        {
          "name": "stderr",
          "output_type": "stream",
          "text": [
            "Start training the model for one epoch...:  71%|███████   | 760/1073 [06:17<02:35,  2.02it/s]"
          ]
        },
        {
          "name": "stdout",
          "output_type": "stream",
          "text": [
            "Batch 760 | Loss: 0.0197 | Learning rate:  0.000116\n"
          ]
        },
        {
          "name": "stderr",
          "output_type": "stream",
          "text": [
            "Start training the model for one epoch...:  73%|███████▎  | 780/1073 [06:26<02:20,  2.08it/s]"
          ]
        },
        {
          "name": "stdout",
          "output_type": "stream",
          "text": [
            "Batch 780 | Loss: 0.0219 | Learning rate:  0.000116\n"
          ]
        },
        {
          "name": "stderr",
          "output_type": "stream",
          "text": [
            "Start training the model for one epoch...:  75%|███████▍  | 800/1073 [06:36<02:14,  2.03it/s]"
          ]
        },
        {
          "name": "stdout",
          "output_type": "stream",
          "text": [
            "Batch 800 | Loss: 0.0179 | Learning rate:  0.000116\n"
          ]
        },
        {
          "name": "stderr",
          "output_type": "stream",
          "text": [
            "Start training the model for one epoch...:  76%|███████▋  | 820/1073 [06:46<02:01,  2.08it/s]"
          ]
        },
        {
          "name": "stdout",
          "output_type": "stream",
          "text": [
            "Batch 820 | Loss: 0.0251 | Learning rate:  0.000116\n"
          ]
        },
        {
          "name": "stderr",
          "output_type": "stream",
          "text": [
            "Start training the model for one epoch...:  78%|███████▊  | 840/1073 [06:56<01:55,  2.01it/s]"
          ]
        },
        {
          "name": "stdout",
          "output_type": "stream",
          "text": [
            "Batch 840 | Loss: 0.0277 | Learning rate:  0.000116\n"
          ]
        },
        {
          "name": "stderr",
          "output_type": "stream",
          "text": [
            "Start training the model for one epoch...:  80%|████████  | 860/1073 [07:06<01:43,  2.06it/s]"
          ]
        },
        {
          "name": "stdout",
          "output_type": "stream",
          "text": [
            "Batch 860 | Loss: 0.0162 | Learning rate:  0.000116\n"
          ]
        },
        {
          "name": "stderr",
          "output_type": "stream",
          "text": [
            "Start training the model for one epoch...:  82%|████████▏ | 880/1073 [07:15<01:35,  2.01it/s]"
          ]
        },
        {
          "name": "stdout",
          "output_type": "stream",
          "text": [
            "Batch 880 | Loss: 0.0249 | Learning rate:  0.000115\n"
          ]
        },
        {
          "name": "stderr",
          "output_type": "stream",
          "text": [
            "Start training the model for one epoch...:  84%|████████▍ | 900/1073 [07:25<01:23,  2.08it/s]"
          ]
        },
        {
          "name": "stdout",
          "output_type": "stream",
          "text": [
            "Batch 900 | Loss: 0.0160 | Learning rate:  0.000115\n"
          ]
        },
        {
          "name": "stderr",
          "output_type": "stream",
          "text": [
            "Start training the model for one epoch...:  86%|████████▌ | 920/1073 [07:35<01:15,  2.03it/s]"
          ]
        },
        {
          "name": "stdout",
          "output_type": "stream",
          "text": [
            "Batch 920 | Loss: 0.0266 | Learning rate:  0.000115\n"
          ]
        },
        {
          "name": "stderr",
          "output_type": "stream",
          "text": [
            "Start training the model for one epoch...:  88%|████████▊ | 940/1073 [07:45<01:04,  2.07it/s]"
          ]
        },
        {
          "name": "stdout",
          "output_type": "stream",
          "text": [
            "Batch 940 | Loss: 0.0296 | Learning rate:  0.000115\n"
          ]
        },
        {
          "name": "stderr",
          "output_type": "stream",
          "text": [
            "Start training the model for one epoch...:  89%|████████▉ | 960/1073 [07:54<00:56,  2.01it/s]"
          ]
        },
        {
          "name": "stdout",
          "output_type": "stream",
          "text": [
            "Batch 960 | Loss: 0.0169 | Learning rate:  0.000115\n"
          ]
        },
        {
          "name": "stderr",
          "output_type": "stream",
          "text": [
            "Start training the model for one epoch...:  91%|█████████▏| 980/1073 [08:04<00:45,  2.06it/s]"
          ]
        },
        {
          "name": "stdout",
          "output_type": "stream",
          "text": [
            "Batch 980 | Loss: 0.0151 | Learning rate:  0.000115\n"
          ]
        },
        {
          "name": "stderr",
          "output_type": "stream",
          "text": [
            "Start training the model for one epoch...:  93%|█████████▎| 1000/1073 [08:14<00:36,  2.01it/s]"
          ]
        },
        {
          "name": "stdout",
          "output_type": "stream",
          "text": [
            "Batch 1000 | Loss: 0.0192 | Learning rate:  0.000114\n"
          ]
        },
        {
          "name": "stderr",
          "output_type": "stream",
          "text": [
            "Start training the model for one epoch...:  95%|█████████▌| 1020/1073 [08:24<00:26,  1.99it/s]"
          ]
        },
        {
          "name": "stdout",
          "output_type": "stream",
          "text": [
            "Batch 1020 | Loss: 0.0307 | Learning rate:  0.000114\n"
          ]
        },
        {
          "name": "stderr",
          "output_type": "stream",
          "text": [
            "Start training the model for one epoch...:  97%|█████████▋| 1040/1073 [08:34<00:16,  2.02it/s]"
          ]
        },
        {
          "name": "stdout",
          "output_type": "stream",
          "text": [
            "Batch 1040 | Loss: 0.0250 | Learning rate:  0.000114\n"
          ]
        },
        {
          "name": "stderr",
          "output_type": "stream",
          "text": [
            "Start training the model for one epoch...:  99%|█████████▉| 1060/1073 [08:43<00:06,  2.15it/s]"
          ]
        },
        {
          "name": "stdout",
          "output_type": "stream",
          "text": [
            "Batch 1060 | Loss: 0.0235 | Learning rate:  0.000114\n"
          ]
        },
        {
          "name": "stderr",
          "output_type": "stream",
          "text": [
            "Start training the model for one epoch...: 100%|██████████| 1073/1073 [08:49<00:00,  2.03it/s]\n",
            "120it [00:36,  3.25it/s]\n"
          ]
        },
        {
          "name": "stdout",
          "output_type": "stream",
          "text": [
            "Epoch: 20, train loss: 0.025957521538962743, val_loss: 0.04401972931809724, val_dice: 0.8300837193356826, val_IoU: 0.7516579084943056\n"
          ]
        },
        {
          "name": "stderr",
          "output_type": "stream",
          "text": [
            "Start training the model for one epoch...:   2%|▏         | 20/1073 [00:15<08:55,  1.97it/s]"
          ]
        },
        {
          "name": "stdout",
          "output_type": "stream",
          "text": [
            "Batch 20 | Loss: 0.0173 | Learning rate:  0.000114\n"
          ]
        },
        {
          "name": "stderr",
          "output_type": "stream",
          "text": [
            "Start training the model for one epoch...:   4%|▎         | 40/1073 [00:25<08:17,  2.08it/s]"
          ]
        },
        {
          "name": "stdout",
          "output_type": "stream",
          "text": [
            "Batch 40 | Loss: 0.0188 | Learning rate:  0.000114\n"
          ]
        },
        {
          "name": "stderr",
          "output_type": "stream",
          "text": [
            "Start training the model for one epoch...:   6%|▌         | 60/1073 [00:35<08:22,  2.01it/s]"
          ]
        },
        {
          "name": "stdout",
          "output_type": "stream",
          "text": [
            "Batch 60 | Loss: 0.0290 | Learning rate:  0.000113\n"
          ]
        },
        {
          "name": "stderr",
          "output_type": "stream",
          "text": [
            "Start training the model for one epoch...:   7%|▋         | 80/1073 [00:44<08:06,  2.04it/s]"
          ]
        },
        {
          "name": "stdout",
          "output_type": "stream",
          "text": [
            "Batch 80 | Loss: 0.0209 | Learning rate:  0.000113\n"
          ]
        },
        {
          "name": "stderr",
          "output_type": "stream",
          "text": [
            "Start training the model for one epoch...:   9%|▉         | 100/1073 [00:54<08:01,  2.02it/s]"
          ]
        },
        {
          "name": "stdout",
          "output_type": "stream",
          "text": [
            "Batch 100 | Loss: 0.0158 | Learning rate:  0.000113\n"
          ]
        },
        {
          "name": "stderr",
          "output_type": "stream",
          "text": [
            "Start training the model for one epoch...:  11%|█         | 120/1073 [01:04<07:45,  2.05it/s]"
          ]
        },
        {
          "name": "stdout",
          "output_type": "stream",
          "text": [
            "Batch 120 | Loss: 0.0332 | Learning rate:  0.000113\n"
          ]
        },
        {
          "name": "stderr",
          "output_type": "stream",
          "text": [
            "Start training the model for one epoch...:  13%|█▎        | 140/1073 [01:14<07:42,  2.02it/s]"
          ]
        },
        {
          "name": "stdout",
          "output_type": "stream",
          "text": [
            "Batch 140 | Loss: 0.0290 | Learning rate:  0.000113\n"
          ]
        },
        {
          "name": "stderr",
          "output_type": "stream",
          "text": [
            "Start training the model for one epoch...:  15%|█▍        | 160/1073 [01:24<07:30,  2.03it/s]"
          ]
        },
        {
          "name": "stdout",
          "output_type": "stream",
          "text": [
            "Batch 160 | Loss: 0.0218 | Learning rate:  0.000113\n"
          ]
        },
        {
          "name": "stderr",
          "output_type": "stream",
          "text": [
            "Start training the model for one epoch...:  17%|█▋        | 180/1073 [01:33<07:13,  2.06it/s]"
          ]
        },
        {
          "name": "stdout",
          "output_type": "stream",
          "text": [
            "Batch 180 | Loss: 0.0311 | Learning rate:  0.000112\n"
          ]
        },
        {
          "name": "stderr",
          "output_type": "stream",
          "text": [
            "Start training the model for one epoch...:  19%|█▊        | 200/1073 [01:43<07:02,  2.06it/s]"
          ]
        },
        {
          "name": "stdout",
          "output_type": "stream",
          "text": [
            "Batch 200 | Loss: 0.0241 | Learning rate:  0.000112\n"
          ]
        },
        {
          "name": "stderr",
          "output_type": "stream",
          "text": [
            "Start training the model for one epoch...:  21%|██        | 220/1073 [01:53<06:59,  2.03it/s]"
          ]
        },
        {
          "name": "stdout",
          "output_type": "stream",
          "text": [
            "Batch 220 | Loss: 0.0296 | Learning rate:  0.000112\n"
          ]
        },
        {
          "name": "stderr",
          "output_type": "stream",
          "text": [
            "Start training the model for one epoch...:  22%|██▏       | 240/1073 [02:03<06:46,  2.05it/s]"
          ]
        },
        {
          "name": "stdout",
          "output_type": "stream",
          "text": [
            "Batch 240 | Loss: 0.0267 | Learning rate:  0.000112\n"
          ]
        },
        {
          "name": "stderr",
          "output_type": "stream",
          "text": [
            "Start training the model for one epoch...:  24%|██▍       | 260/1073 [02:12<06:43,  2.02it/s]"
          ]
        },
        {
          "name": "stdout",
          "output_type": "stream",
          "text": [
            "Batch 260 | Loss: 0.0215 | Learning rate:  0.000112\n"
          ]
        },
        {
          "name": "stderr",
          "output_type": "stream",
          "text": [
            "Start training the model for one epoch...:  26%|██▌       | 280/1073 [02:22<06:26,  2.05it/s]"
          ]
        },
        {
          "name": "stdout",
          "output_type": "stream",
          "text": [
            "Batch 280 | Loss: 0.0222 | Learning rate:  0.000112\n"
          ]
        },
        {
          "name": "stderr",
          "output_type": "stream",
          "text": [
            "Start training the model for one epoch...:  28%|██▊       | 300/1073 [02:32<06:22,  2.02it/s]"
          ]
        },
        {
          "name": "stdout",
          "output_type": "stream",
          "text": [
            "Batch 300 | Loss: 0.0210 | Learning rate:  0.000111\n"
          ]
        },
        {
          "name": "stderr",
          "output_type": "stream",
          "text": [
            "Start training the model for one epoch...:  30%|██▉       | 320/1073 [02:42<06:09,  2.04it/s]"
          ]
        },
        {
          "name": "stdout",
          "output_type": "stream",
          "text": [
            "Batch 320 | Loss: 0.0271 | Learning rate:  0.000111\n"
          ]
        },
        {
          "name": "stderr",
          "output_type": "stream",
          "text": [
            "Start training the model for one epoch...:  32%|███▏      | 340/1073 [02:52<06:05,  2.00it/s]"
          ]
        },
        {
          "name": "stdout",
          "output_type": "stream",
          "text": [
            "Batch 340 | Loss: 0.0198 | Learning rate:  0.000111\n"
          ]
        },
        {
          "name": "stderr",
          "output_type": "stream",
          "text": [
            "Start training the model for one epoch...:  34%|███▎      | 360/1073 [03:01<05:47,  2.05it/s]"
          ]
        },
        {
          "name": "stdout",
          "output_type": "stream",
          "text": [
            "Batch 360 | Loss: 0.0151 | Learning rate:  0.000111\n"
          ]
        },
        {
          "name": "stderr",
          "output_type": "stream",
          "text": [
            "Start training the model for one epoch...:  35%|███▌      | 380/1073 [03:11<05:40,  2.03it/s]"
          ]
        },
        {
          "name": "stdout",
          "output_type": "stream",
          "text": [
            "Batch 380 | Loss: 0.0348 | Learning rate:  0.000111\n"
          ]
        },
        {
          "name": "stderr",
          "output_type": "stream",
          "text": [
            "Start training the model for one epoch...:  37%|███▋      | 400/1073 [03:21<05:28,  2.05it/s]"
          ]
        },
        {
          "name": "stdout",
          "output_type": "stream",
          "text": [
            "Batch 400 | Loss: 0.0234 | Learning rate:  0.000111\n"
          ]
        },
        {
          "name": "stderr",
          "output_type": "stream",
          "text": [
            "Start training the model for one epoch...:  39%|███▉      | 420/1073 [03:31<05:22,  2.02it/s]"
          ]
        },
        {
          "name": "stdout",
          "output_type": "stream",
          "text": [
            "Batch 420 | Loss: 0.0205 | Learning rate:  0.000110\n"
          ]
        },
        {
          "name": "stderr",
          "output_type": "stream",
          "text": [
            "Start training the model for one epoch...:  41%|████      | 440/1073 [03:41<05:13,  2.02it/s]"
          ]
        },
        {
          "name": "stdout",
          "output_type": "stream",
          "text": [
            "Batch 440 | Loss: 0.0142 | Learning rate:  0.000110\n"
          ]
        },
        {
          "name": "stderr",
          "output_type": "stream",
          "text": [
            "Start training the model for one epoch...:  43%|████▎     | 460/1073 [03:50<05:01,  2.04it/s]"
          ]
        },
        {
          "name": "stdout",
          "output_type": "stream",
          "text": [
            "Batch 460 | Loss: 0.0281 | Learning rate:  0.000110\n"
          ]
        },
        {
          "name": "stderr",
          "output_type": "stream",
          "text": [
            "Start training the model for one epoch...:  45%|████▍     | 480/1073 [04:00<04:52,  2.03it/s]"
          ]
        },
        {
          "name": "stdout",
          "output_type": "stream",
          "text": [
            "Batch 480 | Loss: 0.0269 | Learning rate:  0.000110\n"
          ]
        },
        {
          "name": "stderr",
          "output_type": "stream",
          "text": [
            "Start training the model for one epoch...:  47%|████▋     | 500/1073 [04:10<04:40,  2.04it/s]"
          ]
        },
        {
          "name": "stdout",
          "output_type": "stream",
          "text": [
            "Batch 500 | Loss: 0.0291 | Learning rate:  0.000110\n"
          ]
        },
        {
          "name": "stderr",
          "output_type": "stream",
          "text": [
            "Start training the model for one epoch...:  48%|████▊     | 520/1073 [04:20<04:32,  2.03it/s]"
          ]
        },
        {
          "name": "stdout",
          "output_type": "stream",
          "text": [
            "Batch 520 | Loss: 0.0244 | Learning rate:  0.000110\n"
          ]
        },
        {
          "name": "stderr",
          "output_type": "stream",
          "text": [
            "Start training the model for one epoch...:  50%|█████     | 540/1073 [04:30<04:23,  2.02it/s]"
          ]
        },
        {
          "name": "stdout",
          "output_type": "stream",
          "text": [
            "Batch 540 | Loss: 0.0271 | Learning rate:  0.000109\n"
          ]
        },
        {
          "name": "stderr",
          "output_type": "stream",
          "text": [
            "Start training the model for one epoch...:  52%|█████▏    | 560/1073 [04:39<04:17,  2.00it/s]"
          ]
        },
        {
          "name": "stdout",
          "output_type": "stream",
          "text": [
            "Batch 560 | Loss: 0.0237 | Learning rate:  0.000109\n"
          ]
        },
        {
          "name": "stderr",
          "output_type": "stream",
          "text": [
            "Start training the model for one epoch...:  54%|█████▍    | 580/1073 [04:49<03:59,  2.06it/s]"
          ]
        },
        {
          "name": "stdout",
          "output_type": "stream",
          "text": [
            "Batch 580 | Loss: 0.0186 | Learning rate:  0.000109\n"
          ]
        },
        {
          "name": "stderr",
          "output_type": "stream",
          "text": [
            "Start training the model for one epoch...:  56%|█████▌    | 600/1073 [04:59<03:52,  2.04it/s]"
          ]
        },
        {
          "name": "stdout",
          "output_type": "stream",
          "text": [
            "Batch 600 | Loss: 0.0486 | Learning rate:  0.000109\n"
          ]
        },
        {
          "name": "stderr",
          "output_type": "stream",
          "text": [
            "Start training the model for one epoch...:  58%|█████▊    | 620/1073 [05:09<03:43,  2.02it/s]"
          ]
        },
        {
          "name": "stdout",
          "output_type": "stream",
          "text": [
            "Batch 620 | Loss: 0.0315 | Learning rate:  0.000109\n"
          ]
        },
        {
          "name": "stderr",
          "output_type": "stream",
          "text": [
            "Start training the model for one epoch...:  60%|█████▉    | 640/1073 [05:19<03:34,  2.02it/s]"
          ]
        },
        {
          "name": "stdout",
          "output_type": "stream",
          "text": [
            "Batch 640 | Loss: 0.0422 | Learning rate:  0.000109\n"
          ]
        },
        {
          "name": "stderr",
          "output_type": "stream",
          "text": [
            "Start training the model for one epoch...:  62%|██████▏   | 660/1073 [05:29<03:24,  2.02it/s]"
          ]
        },
        {
          "name": "stdout",
          "output_type": "stream",
          "text": [
            "Batch 660 | Loss: 0.0222 | Learning rate:  0.000108\n"
          ]
        },
        {
          "name": "stderr",
          "output_type": "stream",
          "text": [
            "Start training the model for one epoch...:  63%|██████▎   | 680/1073 [05:39<03:16,  2.00it/s]"
          ]
        },
        {
          "name": "stdout",
          "output_type": "stream",
          "text": [
            "Batch 680 | Loss: 0.0290 | Learning rate:  0.000108\n"
          ]
        },
        {
          "name": "stderr",
          "output_type": "stream",
          "text": [
            "Start training the model for one epoch...:  65%|██████▌   | 700/1073 [05:48<03:00,  2.07it/s]"
          ]
        },
        {
          "name": "stdout",
          "output_type": "stream",
          "text": [
            "Batch 700 | Loss: 0.0249 | Learning rate:  0.000108\n"
          ]
        },
        {
          "name": "stderr",
          "output_type": "stream",
          "text": [
            "Start training the model for one epoch...:  67%|██████▋   | 720/1073 [05:58<02:53,  2.04it/s]"
          ]
        },
        {
          "name": "stdout",
          "output_type": "stream",
          "text": [
            "Batch 720 | Loss: 0.0266 | Learning rate:  0.000108\n"
          ]
        },
        {
          "name": "stderr",
          "output_type": "stream",
          "text": [
            "Start training the model for one epoch...:  69%|██████▉   | 740/1073 [06:08<02:42,  2.05it/s]"
          ]
        },
        {
          "name": "stdout",
          "output_type": "stream",
          "text": [
            "Batch 740 | Loss: 0.0264 | Learning rate:  0.000108\n"
          ]
        },
        {
          "name": "stderr",
          "output_type": "stream",
          "text": [
            "Start training the model for one epoch...:  71%|███████   | 760/1073 [06:18<02:35,  2.01it/s]"
          ]
        },
        {
          "name": "stdout",
          "output_type": "stream",
          "text": [
            "Batch 760 | Loss: 0.0229 | Learning rate:  0.000108\n"
          ]
        },
        {
          "name": "stderr",
          "output_type": "stream",
          "text": [
            "Start training the model for one epoch...:  73%|███████▎  | 780/1073 [06:28<02:23,  2.04it/s]"
          ]
        },
        {
          "name": "stdout",
          "output_type": "stream",
          "text": [
            "Batch 780 | Loss: 0.0142 | Learning rate:  0.000107\n"
          ]
        },
        {
          "name": "stderr",
          "output_type": "stream",
          "text": [
            "Start training the model for one epoch...:  75%|███████▍  | 800/1073 [06:38<02:16,  2.00it/s]"
          ]
        },
        {
          "name": "stdout",
          "output_type": "stream",
          "text": [
            "Batch 800 | Loss: 0.0225 | Learning rate:  0.000107\n"
          ]
        },
        {
          "name": "stderr",
          "output_type": "stream",
          "text": [
            "Start training the model for one epoch...:  76%|███████▋  | 820/1073 [06:47<02:02,  2.06it/s]"
          ]
        },
        {
          "name": "stdout",
          "output_type": "stream",
          "text": [
            "Batch 820 | Loss: 0.0185 | Learning rate:  0.000107\n"
          ]
        },
        {
          "name": "stderr",
          "output_type": "stream",
          "text": [
            "Start training the model for one epoch...:  78%|███████▊  | 840/1073 [06:57<01:56,  2.00it/s]"
          ]
        },
        {
          "name": "stdout",
          "output_type": "stream",
          "text": [
            "Batch 840 | Loss: 0.0282 | Learning rate:  0.000107\n"
          ]
        },
        {
          "name": "stderr",
          "output_type": "stream",
          "text": [
            "Start training the model for one epoch...:  80%|████████  | 860/1073 [07:07<01:42,  2.07it/s]"
          ]
        },
        {
          "name": "stdout",
          "output_type": "stream",
          "text": [
            "Batch 860 | Loss: 0.0307 | Learning rate:  0.000107\n"
          ]
        },
        {
          "name": "stderr",
          "output_type": "stream",
          "text": [
            "Start training the model for one epoch...:  82%|████████▏ | 880/1073 [07:17<01:35,  2.02it/s]"
          ]
        },
        {
          "name": "stdout",
          "output_type": "stream",
          "text": [
            "Batch 880 | Loss: 0.0360 | Learning rate:  0.000107\n"
          ]
        },
        {
          "name": "stderr",
          "output_type": "stream",
          "text": [
            "Start training the model for one epoch...:  84%|████████▍ | 900/1073 [07:27<01:24,  2.06it/s]"
          ]
        },
        {
          "name": "stdout",
          "output_type": "stream",
          "text": [
            "Batch 900 | Loss: 0.0134 | Learning rate:  0.000106\n"
          ]
        },
        {
          "name": "stderr",
          "output_type": "stream",
          "text": [
            "Start training the model for one epoch...:  86%|████████▌ | 920/1073 [07:37<01:16,  2.01it/s]"
          ]
        },
        {
          "name": "stdout",
          "output_type": "stream",
          "text": [
            "Batch 920 | Loss: 0.0242 | Learning rate:  0.000106\n"
          ]
        },
        {
          "name": "stderr",
          "output_type": "stream",
          "text": [
            "Start training the model for one epoch...:  88%|████████▊ | 940/1073 [07:47<01:05,  2.03it/s]"
          ]
        },
        {
          "name": "stdout",
          "output_type": "stream",
          "text": [
            "Batch 940 | Loss: 0.0256 | Learning rate:  0.000106\n"
          ]
        },
        {
          "name": "stderr",
          "output_type": "stream",
          "text": [
            "Start training the model for one epoch...:  89%|████████▉ | 960/1073 [07:57<00:55,  2.04it/s]"
          ]
        },
        {
          "name": "stdout",
          "output_type": "stream",
          "text": [
            "Batch 960 | Loss: 0.0351 | Learning rate:  0.000106\n"
          ]
        },
        {
          "name": "stderr",
          "output_type": "stream",
          "text": [
            "Start training the model for one epoch...:  91%|█████████▏| 980/1073 [08:06<00:45,  2.06it/s]"
          ]
        },
        {
          "name": "stdout",
          "output_type": "stream",
          "text": [
            "Batch 980 | Loss: 0.0283 | Learning rate:  0.000106\n"
          ]
        },
        {
          "name": "stderr",
          "output_type": "stream",
          "text": [
            "Start training the model for one epoch...:  93%|█████████▎| 1000/1073 [08:16<00:36,  2.00it/s]"
          ]
        },
        {
          "name": "stdout",
          "output_type": "stream",
          "text": [
            "Batch 1000 | Loss: 0.0262 | Learning rate:  0.000106\n"
          ]
        },
        {
          "name": "stderr",
          "output_type": "stream",
          "text": [
            "Start training the model for one epoch...:  95%|█████████▌| 1020/1073 [08:26<00:25,  2.06it/s]"
          ]
        },
        {
          "name": "stdout",
          "output_type": "stream",
          "text": [
            "Batch 1020 | Loss: 0.0241 | Learning rate:  0.000105\n"
          ]
        },
        {
          "name": "stderr",
          "output_type": "stream",
          "text": [
            "Start training the model for one epoch...:  97%|█████████▋| 1040/1073 [08:36<00:16,  2.01it/s]"
          ]
        },
        {
          "name": "stdout",
          "output_type": "stream",
          "text": [
            "Batch 1040 | Loss: 0.0306 | Learning rate:  0.000105\n"
          ]
        },
        {
          "name": "stderr",
          "output_type": "stream",
          "text": [
            "Start training the model for one epoch...:  99%|█████████▉| 1060/1073 [08:45<00:06,  2.16it/s]"
          ]
        },
        {
          "name": "stdout",
          "output_type": "stream",
          "text": [
            "Batch 1060 | Loss: 0.0350 | Learning rate:  0.000105\n"
          ]
        },
        {
          "name": "stderr",
          "output_type": "stream",
          "text": [
            "Start training the model for one epoch...: 100%|██████████| 1073/1073 [08:51<00:00,  2.02it/s]\n",
            "120it [00:36,  3.28it/s]\n"
          ]
        },
        {
          "name": "stdout",
          "output_type": "stream",
          "text": [
            "Epoch: 21, train loss: 0.025358679897055543, val_loss: 0.04411475517166157, val_dice: 0.8314356241928834, val_IoU: 0.7523906839748062\n"
          ]
        },
        {
          "name": "stderr",
          "output_type": "stream",
          "text": [
            "Start training the model for one epoch...:   2%|▏         | 20/1073 [00:15<08:52,  1.98it/s]"
          ]
        },
        {
          "name": "stdout",
          "output_type": "stream",
          "text": [
            "Batch 20 | Loss: 0.0347 | Learning rate:  0.000105\n"
          ]
        },
        {
          "name": "stderr",
          "output_type": "stream",
          "text": [
            "Start training the model for one epoch...:   4%|▎         | 40/1073 [00:25<08:16,  2.08it/s]"
          ]
        },
        {
          "name": "stdout",
          "output_type": "stream",
          "text": [
            "Batch 40 | Loss: 0.0227 | Learning rate:  0.000105\n"
          ]
        },
        {
          "name": "stderr",
          "output_type": "stream",
          "text": [
            "Start training the model for one epoch...:   6%|▌         | 60/1073 [00:34<08:17,  2.04it/s]"
          ]
        },
        {
          "name": "stdout",
          "output_type": "stream",
          "text": [
            "Batch 60 | Loss: 0.0190 | Learning rate:  0.000104\n"
          ]
        },
        {
          "name": "stderr",
          "output_type": "stream",
          "text": [
            "Start training the model for one epoch...:   7%|▋         | 80/1073 [00:44<07:58,  2.07it/s]"
          ]
        },
        {
          "name": "stdout",
          "output_type": "stream",
          "text": [
            "Batch 80 | Loss: 0.0198 | Learning rate:  0.000104\n"
          ]
        },
        {
          "name": "stderr",
          "output_type": "stream",
          "text": [
            "Start training the model for one epoch...:   9%|▉         | 100/1073 [00:54<08:04,  2.01it/s]"
          ]
        },
        {
          "name": "stdout",
          "output_type": "stream",
          "text": [
            "Batch 100 | Loss: 0.0232 | Learning rate:  0.000104\n"
          ]
        },
        {
          "name": "stderr",
          "output_type": "stream",
          "text": [
            "Start training the model for one epoch...:  11%|█         | 120/1073 [01:04<07:51,  2.02it/s]"
          ]
        },
        {
          "name": "stdout",
          "output_type": "stream",
          "text": [
            "Batch 120 | Loss: 0.0204 | Learning rate:  0.000104\n"
          ]
        },
        {
          "name": "stderr",
          "output_type": "stream",
          "text": [
            "Start training the model for one epoch...:  13%|█▎        | 140/1073 [01:14<07:47,  2.00it/s]"
          ]
        },
        {
          "name": "stdout",
          "output_type": "stream",
          "text": [
            "Batch 140 | Loss: 0.0233 | Learning rate:  0.000104\n"
          ]
        },
        {
          "name": "stderr",
          "output_type": "stream",
          "text": [
            "Start training the model for one epoch...:  15%|█▍        | 160/1073 [01:23<07:26,  2.04it/s]"
          ]
        },
        {
          "name": "stdout",
          "output_type": "stream",
          "text": [
            "Batch 160 | Loss: 0.0186 | Learning rate:  0.000104\n"
          ]
        },
        {
          "name": "stderr",
          "output_type": "stream",
          "text": [
            "Start training the model for one epoch...:  17%|█▋        | 180/1073 [01:33<07:19,  2.03it/s]"
          ]
        },
        {
          "name": "stdout",
          "output_type": "stream",
          "text": [
            "Batch 180 | Loss: 0.0199 | Learning rate:  0.000103\n"
          ]
        },
        {
          "name": "stderr",
          "output_type": "stream",
          "text": [
            "Start training the model for one epoch...:  19%|█▊        | 200/1073 [01:43<07:06,  2.05it/s]"
          ]
        },
        {
          "name": "stdout",
          "output_type": "stream",
          "text": [
            "Batch 200 | Loss: 0.0167 | Learning rate:  0.000103\n"
          ]
        },
        {
          "name": "stderr",
          "output_type": "stream",
          "text": [
            "Start training the model for one epoch...:  21%|██        | 220/1073 [01:53<07:03,  2.02it/s]"
          ]
        },
        {
          "name": "stdout",
          "output_type": "stream",
          "text": [
            "Batch 220 | Loss: 0.0244 | Learning rate:  0.000103\n"
          ]
        },
        {
          "name": "stderr",
          "output_type": "stream",
          "text": [
            "Start training the model for one epoch...:  22%|██▏       | 240/1073 [02:03<06:44,  2.06it/s]"
          ]
        },
        {
          "name": "stdout",
          "output_type": "stream",
          "text": [
            "Batch 240 | Loss: 0.0404 | Learning rate:  0.000103\n"
          ]
        },
        {
          "name": "stderr",
          "output_type": "stream",
          "text": [
            "Start training the model for one epoch...:  24%|██▍       | 260/1073 [02:13<06:41,  2.02it/s]"
          ]
        },
        {
          "name": "stdout",
          "output_type": "stream",
          "text": [
            "Batch 260 | Loss: 0.0187 | Learning rate:  0.000103\n"
          ]
        },
        {
          "name": "stderr",
          "output_type": "stream",
          "text": [
            "Start training the model for one epoch...:  26%|██▌       | 280/1073 [02:23<06:22,  2.07it/s]"
          ]
        },
        {
          "name": "stdout",
          "output_type": "stream",
          "text": [
            "Batch 280 | Loss: 0.0294 | Learning rate:  0.000103\n"
          ]
        },
        {
          "name": "stderr",
          "output_type": "stream",
          "text": [
            "Start training the model for one epoch...:  28%|██▊       | 300/1073 [02:32<06:20,  2.03it/s]"
          ]
        },
        {
          "name": "stdout",
          "output_type": "stream",
          "text": [
            "Batch 300 | Loss: 0.0237 | Learning rate:  0.000102\n"
          ]
        },
        {
          "name": "stderr",
          "output_type": "stream",
          "text": [
            "Start training the model for one epoch...:  30%|██▉       | 320/1073 [02:42<06:04,  2.07it/s]"
          ]
        },
        {
          "name": "stdout",
          "output_type": "stream",
          "text": [
            "Batch 320 | Loss: 0.0972 | Learning rate:  0.000102\n"
          ]
        },
        {
          "name": "stderr",
          "output_type": "stream",
          "text": [
            "Start training the model for one epoch...:  32%|███▏      | 340/1073 [02:52<05:57,  2.05it/s]"
          ]
        },
        {
          "name": "stdout",
          "output_type": "stream",
          "text": [
            "Batch 340 | Loss: 0.0283 | Learning rate:  0.000102\n"
          ]
        },
        {
          "name": "stderr",
          "output_type": "stream",
          "text": [
            "Start training the model for one epoch...:  34%|███▎      | 360/1073 [03:02<05:47,  2.05it/s]"
          ]
        },
        {
          "name": "stdout",
          "output_type": "stream",
          "text": [
            "Batch 360 | Loss: 0.0212 | Learning rate:  0.000102\n"
          ]
        },
        {
          "name": "stderr",
          "output_type": "stream",
          "text": [
            "Start training the model for one epoch...:  35%|███▌      | 380/1073 [03:11<05:43,  2.02it/s]"
          ]
        },
        {
          "name": "stdout",
          "output_type": "stream",
          "text": [
            "Batch 380 | Loss: 0.0179 | Learning rate:  0.000102\n"
          ]
        },
        {
          "name": "stderr",
          "output_type": "stream",
          "text": [
            "Start training the model for one epoch...:  37%|███▋      | 400/1073 [03:21<05:24,  2.07it/s]"
          ]
        },
        {
          "name": "stdout",
          "output_type": "stream",
          "text": [
            "Batch 400 | Loss: 0.0165 | Learning rate:  0.000102\n"
          ]
        },
        {
          "name": "stderr",
          "output_type": "stream",
          "text": [
            "Start training the model for one epoch...:  39%|███▉      | 420/1073 [03:31<05:18,  2.05it/s]"
          ]
        },
        {
          "name": "stdout",
          "output_type": "stream",
          "text": [
            "Batch 420 | Loss: 0.0210 | Learning rate:  0.000101\n"
          ]
        },
        {
          "name": "stderr",
          "output_type": "stream",
          "text": [
            "Start training the model for one epoch...:  41%|████      | 440/1073 [03:41<05:09,  2.04it/s]"
          ]
        },
        {
          "name": "stdout",
          "output_type": "stream",
          "text": [
            "Batch 440 | Loss: 0.0262 | Learning rate:  0.000101\n"
          ]
        },
        {
          "name": "stderr",
          "output_type": "stream",
          "text": [
            "Start training the model for one epoch...:  43%|████▎     | 460/1073 [03:51<04:56,  2.07it/s]"
          ]
        },
        {
          "name": "stdout",
          "output_type": "stream",
          "text": [
            "Batch 460 | Loss: 0.0370 | Learning rate:  0.000101\n"
          ]
        },
        {
          "name": "stderr",
          "output_type": "stream",
          "text": [
            "Start training the model for one epoch...:  45%|████▍     | 480/1073 [04:00<04:50,  2.04it/s]"
          ]
        },
        {
          "name": "stdout",
          "output_type": "stream",
          "text": [
            "Batch 480 | Loss: 0.0194 | Learning rate:  0.000101\n"
          ]
        },
        {
          "name": "stderr",
          "output_type": "stream",
          "text": [
            "Start training the model for one epoch...:  47%|████▋     | 500/1073 [04:10<04:37,  2.06it/s]"
          ]
        },
        {
          "name": "stdout",
          "output_type": "stream",
          "text": [
            "Batch 500 | Loss: 0.0170 | Learning rate:  0.000101\n"
          ]
        },
        {
          "name": "stderr",
          "output_type": "stream",
          "text": [
            "Start training the model for one epoch...:  48%|████▊     | 520/1073 [04:20<04:26,  2.07it/s]"
          ]
        },
        {
          "name": "stdout",
          "output_type": "stream",
          "text": [
            "Batch 520 | Loss: 0.0195 | Learning rate:  0.000101\n"
          ]
        },
        {
          "name": "stderr",
          "output_type": "stream",
          "text": [
            "Start training the model for one epoch...:  50%|█████     | 540/1073 [04:30<04:21,  2.04it/s]"
          ]
        },
        {
          "name": "stdout",
          "output_type": "stream",
          "text": [
            "Batch 540 | Loss: 0.0316 | Learning rate:  0.000100\n"
          ]
        },
        {
          "name": "stderr",
          "output_type": "stream",
          "text": [
            "Start training the model for one epoch...:  52%|█████▏    | 560/1073 [04:40<04:10,  2.05it/s]"
          ]
        },
        {
          "name": "stdout",
          "output_type": "stream",
          "text": [
            "Batch 560 | Loss: 0.0263 | Learning rate:  0.000100\n"
          ]
        },
        {
          "name": "stderr",
          "output_type": "stream",
          "text": [
            "Start training the model for one epoch...:  54%|█████▍    | 580/1073 [04:49<04:01,  2.04it/s]"
          ]
        },
        {
          "name": "stdout",
          "output_type": "stream",
          "text": [
            "Batch 580 | Loss: 0.0217 | Learning rate:  0.000100\n"
          ]
        },
        {
          "name": "stderr",
          "output_type": "stream",
          "text": [
            "Start training the model for one epoch...:  56%|█████▌    | 600/1073 [04:59<03:50,  2.06it/s]"
          ]
        },
        {
          "name": "stdout",
          "output_type": "stream",
          "text": [
            "Batch 600 | Loss: 0.0514 | Learning rate:  0.000100\n"
          ]
        },
        {
          "name": "stderr",
          "output_type": "stream",
          "text": [
            "Start training the model for one epoch...:  58%|█████▊    | 620/1073 [05:09<03:41,  2.05it/s]"
          ]
        },
        {
          "name": "stdout",
          "output_type": "stream",
          "text": [
            "Batch 620 | Loss: 0.0251 | Learning rate:  0.000100\n"
          ]
        },
        {
          "name": "stderr",
          "output_type": "stream",
          "text": [
            "Start training the model for one epoch...:  60%|█████▉    | 640/1073 [05:19<03:30,  2.06it/s]"
          ]
        },
        {
          "name": "stdout",
          "output_type": "stream",
          "text": [
            "Batch 640 | Loss: 0.0314 | Learning rate:  0.000100\n"
          ]
        },
        {
          "name": "stderr",
          "output_type": "stream",
          "text": [
            "Start training the model for one epoch...:  62%|██████▏   | 660/1073 [05:29<03:21,  2.05it/s]"
          ]
        },
        {
          "name": "stdout",
          "output_type": "stream",
          "text": [
            "Batch 660 | Loss: 0.0157 | Learning rate:  0.000099\n"
          ]
        },
        {
          "name": "stderr",
          "output_type": "stream",
          "text": [
            "Start training the model for one epoch...:  63%|██████▎   | 680/1073 [05:38<03:14,  2.02it/s]"
          ]
        },
        {
          "name": "stdout",
          "output_type": "stream",
          "text": [
            "Batch 680 | Loss: 0.0220 | Learning rate:  0.000099\n"
          ]
        },
        {
          "name": "stderr",
          "output_type": "stream",
          "text": [
            "Start training the model for one epoch...:  65%|██████▌   | 700/1073 [05:48<03:00,  2.06it/s]"
          ]
        },
        {
          "name": "stdout",
          "output_type": "stream",
          "text": [
            "Batch 700 | Loss: 0.0296 | Learning rate:  0.000099\n"
          ]
        },
        {
          "name": "stderr",
          "output_type": "stream",
          "text": [
            "Start training the model for one epoch...:  67%|██████▋   | 720/1073 [05:58<02:53,  2.03it/s]"
          ]
        },
        {
          "name": "stdout",
          "output_type": "stream",
          "text": [
            "Batch 720 | Loss: 0.0348 | Learning rate:  0.000099\n"
          ]
        },
        {
          "name": "stderr",
          "output_type": "stream",
          "text": [
            "Start training the model for one epoch...:  69%|██████▉   | 740/1073 [06:08<02:44,  2.03it/s]"
          ]
        },
        {
          "name": "stdout",
          "output_type": "stream",
          "text": [
            "Batch 740 | Loss: 0.0608 | Learning rate:  0.000099\n"
          ]
        },
        {
          "name": "stderr",
          "output_type": "stream",
          "text": [
            "Start training the model for one epoch...:  71%|███████   | 760/1073 [06:18<02:34,  2.03it/s]"
          ]
        },
        {
          "name": "stdout",
          "output_type": "stream",
          "text": [
            "Batch 760 | Loss: 0.0217 | Learning rate:  0.000099\n"
          ]
        },
        {
          "name": "stderr",
          "output_type": "stream",
          "text": [
            "Start training the model for one epoch...:  73%|███████▎  | 780/1073 [06:27<02:25,  2.02it/s]"
          ]
        },
        {
          "name": "stdout",
          "output_type": "stream",
          "text": [
            "Batch 780 | Loss: 0.0151 | Learning rate:  0.000098\n"
          ]
        },
        {
          "name": "stderr",
          "output_type": "stream",
          "text": [
            "Start training the model for one epoch...:  75%|███████▍  | 800/1073 [06:37<02:13,  2.04it/s]"
          ]
        },
        {
          "name": "stdout",
          "output_type": "stream",
          "text": [
            "Batch 800 | Loss: 0.0141 | Learning rate:  0.000098\n"
          ]
        },
        {
          "name": "stderr",
          "output_type": "stream",
          "text": [
            "Start training the model for one epoch...:  76%|███████▋  | 820/1073 [06:47<02:04,  2.03it/s]"
          ]
        },
        {
          "name": "stdout",
          "output_type": "stream",
          "text": [
            "Batch 820 | Loss: 0.0225 | Learning rate:  0.000098\n"
          ]
        },
        {
          "name": "stderr",
          "output_type": "stream",
          "text": [
            "Start training the model for one epoch...:  78%|███████▊  | 840/1073 [06:57<01:54,  2.04it/s]"
          ]
        },
        {
          "name": "stdout",
          "output_type": "stream",
          "text": [
            "Batch 840 | Loss: 0.0351 | Learning rate:  0.000098\n"
          ]
        },
        {
          "name": "stderr",
          "output_type": "stream",
          "text": [
            "Start training the model for one epoch...:  80%|████████  | 860/1073 [07:07<01:44,  2.04it/s]"
          ]
        },
        {
          "name": "stdout",
          "output_type": "stream",
          "text": [
            "Batch 860 | Loss: 0.0252 | Learning rate:  0.000098\n"
          ]
        },
        {
          "name": "stderr",
          "output_type": "stream",
          "text": [
            "Start training the model for one epoch...:  82%|████████▏ | 880/1073 [07:17<01:35,  2.02it/s]"
          ]
        },
        {
          "name": "stdout",
          "output_type": "stream",
          "text": [
            "Batch 880 | Loss: 0.0299 | Learning rate:  0.000098\n"
          ]
        },
        {
          "name": "stderr",
          "output_type": "stream",
          "text": [
            "Start training the model for one epoch...:  84%|████████▍ | 900/1073 [07:26<01:23,  2.07it/s]"
          ]
        },
        {
          "name": "stdout",
          "output_type": "stream",
          "text": [
            "Batch 900 | Loss: 0.0282 | Learning rate:  0.000097\n"
          ]
        },
        {
          "name": "stderr",
          "output_type": "stream",
          "text": [
            "Start training the model for one epoch...:  86%|████████▌ | 920/1073 [07:36<01:16,  2.01it/s]"
          ]
        },
        {
          "name": "stdout",
          "output_type": "stream",
          "text": [
            "Batch 920 | Loss: 0.0383 | Learning rate:  0.000097\n"
          ]
        },
        {
          "name": "stderr",
          "output_type": "stream",
          "text": [
            "Start training the model for one epoch...:  88%|████████▊ | 940/1073 [07:46<01:04,  2.06it/s]"
          ]
        },
        {
          "name": "stdout",
          "output_type": "stream",
          "text": [
            "Batch 940 | Loss: 0.0243 | Learning rate:  0.000097\n"
          ]
        },
        {
          "name": "stderr",
          "output_type": "stream",
          "text": [
            "Start training the model for one epoch...:  89%|████████▉ | 960/1073 [07:56<00:56,  2.02it/s]"
          ]
        },
        {
          "name": "stdout",
          "output_type": "stream",
          "text": [
            "Batch 960 | Loss: 0.0187 | Learning rate:  0.000097\n"
          ]
        },
        {
          "name": "stderr",
          "output_type": "stream",
          "text": [
            "Start training the model for one epoch...:  91%|█████████▏| 980/1073 [08:06<00:45,  2.05it/s]"
          ]
        },
        {
          "name": "stdout",
          "output_type": "stream",
          "text": [
            "Batch 980 | Loss: 0.0205 | Learning rate:  0.000097\n"
          ]
        },
        {
          "name": "stderr",
          "output_type": "stream",
          "text": [
            "Start training the model for one epoch...:  93%|█████████▎| 1000/1073 [08:16<00:36,  2.00it/s]"
          ]
        },
        {
          "name": "stdout",
          "output_type": "stream",
          "text": [
            "Batch 1000 | Loss: 0.0397 | Learning rate:  0.000097\n"
          ]
        },
        {
          "name": "stderr",
          "output_type": "stream",
          "text": [
            "Start training the model for one epoch...:  95%|█████████▌| 1020/1073 [08:25<00:25,  2.05it/s]"
          ]
        },
        {
          "name": "stdout",
          "output_type": "stream",
          "text": [
            "Batch 1020 | Loss: 0.0259 | Learning rate:  0.000096\n"
          ]
        },
        {
          "name": "stderr",
          "output_type": "stream",
          "text": [
            "Start training the model for one epoch...:  97%|█████████▋| 1040/1073 [08:35<00:16,  2.02it/s]"
          ]
        },
        {
          "name": "stdout",
          "output_type": "stream",
          "text": [
            "Batch 1040 | Loss: 0.0337 | Learning rate:  0.000096\n"
          ]
        },
        {
          "name": "stderr",
          "output_type": "stream",
          "text": [
            "Start training the model for one epoch...:  99%|█████████▉| 1060/1073 [08:45<00:06,  2.15it/s]"
          ]
        },
        {
          "name": "stdout",
          "output_type": "stream",
          "text": [
            "Batch 1060 | Loss: 0.0276 | Learning rate:  0.000096\n"
          ]
        },
        {
          "name": "stderr",
          "output_type": "stream",
          "text": [
            "Start training the model for one epoch...: 100%|██████████| 1073/1073 [08:51<00:00,  2.02it/s]\n",
            "120it [00:36,  3.24it/s]\n"
          ]
        },
        {
          "name": "stdout",
          "output_type": "stream",
          "text": [
            "Epoch: 22, train loss: 0.024853696530200507, val_loss: 0.042906109957645336, val_dice: 0.8320012473679366, val_IoU: 0.7553064701923473\n"
          ]
        },
        {
          "name": "stderr",
          "output_type": "stream",
          "text": [
            "Start training the model for one epoch...:   2%|▏         | 20/1073 [00:15<08:52,  1.98it/s]"
          ]
        },
        {
          "name": "stdout",
          "output_type": "stream",
          "text": [
            "Batch 20 | Loss: 0.0200 | Learning rate:  0.000096\n"
          ]
        },
        {
          "name": "stderr",
          "output_type": "stream",
          "text": [
            "Start training the model for one epoch...:   4%|▎         | 40/1073 [00:25<08:15,  2.08it/s]"
          ]
        },
        {
          "name": "stdout",
          "output_type": "stream",
          "text": [
            "Batch 40 | Loss: 0.0341 | Learning rate:  0.000096\n"
          ]
        },
        {
          "name": "stderr",
          "output_type": "stream",
          "text": [
            "Start training the model for one epoch...:   6%|▌         | 60/1073 [00:35<08:21,  2.02it/s]"
          ]
        },
        {
          "name": "stdout",
          "output_type": "stream",
          "text": [
            "Batch 60 | Loss: 0.0284 | Learning rate:  0.000096\n"
          ]
        },
        {
          "name": "stderr",
          "output_type": "stream",
          "text": [
            "Start training the model for one epoch...:   7%|▋         | 80/1073 [00:44<07:55,  2.09it/s]"
          ]
        },
        {
          "name": "stdout",
          "output_type": "stream",
          "text": [
            "Batch 80 | Loss: 0.0233 | Learning rate:  0.000095\n"
          ]
        },
        {
          "name": "stderr",
          "output_type": "stream",
          "text": [
            "Start training the model for one epoch...:   9%|▉         | 100/1073 [00:54<08:03,  2.01it/s]"
          ]
        },
        {
          "name": "stdout",
          "output_type": "stream",
          "text": [
            "Batch 100 | Loss: 0.0332 | Learning rate:  0.000095\n"
          ]
        },
        {
          "name": "stderr",
          "output_type": "stream",
          "text": [
            "Start training the model for one epoch...:  11%|█         | 120/1073 [01:04<07:38,  2.08it/s]"
          ]
        },
        {
          "name": "stdout",
          "output_type": "stream",
          "text": [
            "Batch 120 | Loss: 0.0300 | Learning rate:  0.000095\n"
          ]
        },
        {
          "name": "stderr",
          "output_type": "stream",
          "text": [
            "Start training the model for one epoch...:  13%|█▎        | 140/1073 [01:13<07:35,  2.05it/s]"
          ]
        },
        {
          "name": "stdout",
          "output_type": "stream",
          "text": [
            "Batch 140 | Loss: 0.0293 | Learning rate:  0.000095\n"
          ]
        },
        {
          "name": "stderr",
          "output_type": "stream",
          "text": [
            "Start training the model for one epoch...:  15%|█▍        | 160/1073 [01:23<07:24,  2.05it/s]"
          ]
        },
        {
          "name": "stdout",
          "output_type": "stream",
          "text": [
            "Batch 160 | Loss: 0.0167 | Learning rate:  0.000095\n"
          ]
        },
        {
          "name": "stderr",
          "output_type": "stream",
          "text": [
            "Start training the model for one epoch...:  17%|█▋        | 180/1073 [01:33<07:23,  2.02it/s]"
          ]
        },
        {
          "name": "stdout",
          "output_type": "stream",
          "text": [
            "Batch 180 | Loss: 0.0282 | Learning rate:  0.000095\n"
          ]
        },
        {
          "name": "stderr",
          "output_type": "stream",
          "text": [
            "Start training the model for one epoch...:  19%|█▊        | 200/1073 [01:43<07:06,  2.05it/s]"
          ]
        },
        {
          "name": "stdout",
          "output_type": "stream",
          "text": [
            "Batch 200 | Loss: 0.0207 | Learning rate:  0.000094\n"
          ]
        },
        {
          "name": "stderr",
          "output_type": "stream",
          "text": [
            "Start training the model for one epoch...:  21%|██        | 220/1073 [01:53<06:59,  2.03it/s]"
          ]
        },
        {
          "name": "stdout",
          "output_type": "stream",
          "text": [
            "Batch 220 | Loss: 0.0187 | Learning rate:  0.000094\n"
          ]
        },
        {
          "name": "stderr",
          "output_type": "stream",
          "text": [
            "Start training the model for one epoch...:  22%|██▏       | 240/1073 [02:02<06:53,  2.01it/s]"
          ]
        },
        {
          "name": "stdout",
          "output_type": "stream",
          "text": [
            "Batch 240 | Loss: 0.0254 | Learning rate:  0.000094\n"
          ]
        },
        {
          "name": "stderr",
          "output_type": "stream",
          "text": [
            "Start training the model for one epoch...:  24%|██▍       | 260/1073 [02:12<06:46,  2.00it/s]"
          ]
        },
        {
          "name": "stdout",
          "output_type": "stream",
          "text": [
            "Batch 260 | Loss: 0.0204 | Learning rate:  0.000094\n"
          ]
        },
        {
          "name": "stderr",
          "output_type": "stream",
          "text": [
            "Start training the model for one epoch...:  26%|██▌       | 280/1073 [02:22<06:33,  2.02it/s]"
          ]
        },
        {
          "name": "stdout",
          "output_type": "stream",
          "text": [
            "Batch 280 | Loss: 0.0238 | Learning rate:  0.000094\n"
          ]
        },
        {
          "name": "stderr",
          "output_type": "stream",
          "text": [
            "Start training the model for one epoch...:  28%|██▊       | 300/1073 [02:32<06:24,  2.01it/s]"
          ]
        },
        {
          "name": "stdout",
          "output_type": "stream",
          "text": [
            "Batch 300 | Loss: 0.0138 | Learning rate:  0.000094\n"
          ]
        },
        {
          "name": "stderr",
          "output_type": "stream",
          "text": [
            "Start training the model for one epoch...:  30%|██▉       | 320/1073 [02:42<06:04,  2.07it/s]"
          ]
        },
        {
          "name": "stdout",
          "output_type": "stream",
          "text": [
            "Batch 320 | Loss: 0.0215 | Learning rate:  0.000093\n"
          ]
        },
        {
          "name": "stderr",
          "output_type": "stream",
          "text": [
            "Start training the model for one epoch...:  32%|███▏      | 340/1073 [02:52<06:01,  2.03it/s]"
          ]
        },
        {
          "name": "stdout",
          "output_type": "stream",
          "text": [
            "Batch 340 | Loss: 0.0301 | Learning rate:  0.000093\n"
          ]
        },
        {
          "name": "stderr",
          "output_type": "stream",
          "text": [
            "Start training the model for one epoch...:  34%|███▎      | 360/1073 [03:01<05:49,  2.04it/s]"
          ]
        },
        {
          "name": "stdout",
          "output_type": "stream",
          "text": [
            "Batch 360 | Loss: 0.0264 | Learning rate:  0.000093\n"
          ]
        },
        {
          "name": "stderr",
          "output_type": "stream",
          "text": [
            "Start training the model for one epoch...:  35%|███▌      | 380/1073 [03:11<05:46,  2.00it/s]"
          ]
        },
        {
          "name": "stdout",
          "output_type": "stream",
          "text": [
            "Batch 380 | Loss: 0.0162 | Learning rate:  0.000093\n"
          ]
        },
        {
          "name": "stderr",
          "output_type": "stream",
          "text": [
            "Start training the model for one epoch...:  37%|███▋      | 400/1073 [03:21<05:24,  2.07it/s]"
          ]
        },
        {
          "name": "stdout",
          "output_type": "stream",
          "text": [
            "Batch 400 | Loss: 0.0120 | Learning rate:  0.000093\n"
          ]
        },
        {
          "name": "stderr",
          "output_type": "stream",
          "text": [
            "Start training the model for one epoch...:  39%|███▉      | 420/1073 [03:31<05:30,  1.98it/s]"
          ]
        },
        {
          "name": "stdout",
          "output_type": "stream",
          "text": [
            "Batch 420 | Loss: 0.0192 | Learning rate:  0.000093\n"
          ]
        },
        {
          "name": "stderr",
          "output_type": "stream",
          "text": [
            "Start training the model for one epoch...:  41%|████      | 440/1073 [03:41<05:05,  2.07it/s]"
          ]
        },
        {
          "name": "stdout",
          "output_type": "stream",
          "text": [
            "Batch 440 | Loss: 0.0236 | Learning rate:  0.000092\n"
          ]
        },
        {
          "name": "stderr",
          "output_type": "stream",
          "text": [
            "Start training the model for one epoch...:  43%|████▎     | 460/1073 [03:50<05:02,  2.02it/s]"
          ]
        },
        {
          "name": "stdout",
          "output_type": "stream",
          "text": [
            "Batch 460 | Loss: 0.0209 | Learning rate:  0.000092\n"
          ]
        },
        {
          "name": "stderr",
          "output_type": "stream",
          "text": [
            "Start training the model for one epoch...:  45%|████▍     | 480/1073 [04:00<04:49,  2.05it/s]"
          ]
        },
        {
          "name": "stdout",
          "output_type": "stream",
          "text": [
            "Batch 480 | Loss: 0.0186 | Learning rate:  0.000092\n"
          ]
        },
        {
          "name": "stderr",
          "output_type": "stream",
          "text": [
            "Start training the model for one epoch...:  47%|████▋     | 500/1073 [04:10<04:40,  2.04it/s]"
          ]
        },
        {
          "name": "stdout",
          "output_type": "stream",
          "text": [
            "Batch 500 | Loss: 0.0163 | Learning rate:  0.000092\n"
          ]
        },
        {
          "name": "stderr",
          "output_type": "stream",
          "text": [
            "Start training the model for one epoch...:  48%|████▊     | 520/1073 [04:20<04:30,  2.05it/s]"
          ]
        },
        {
          "name": "stdout",
          "output_type": "stream",
          "text": [
            "Batch 520 | Loss: 0.0144 | Learning rate:  0.000092\n"
          ]
        },
        {
          "name": "stderr",
          "output_type": "stream",
          "text": [
            "Start training the model for one epoch...:  50%|█████     | 540/1073 [04:30<04:20,  2.04it/s]"
          ]
        },
        {
          "name": "stdout",
          "output_type": "stream",
          "text": [
            "Batch 540 | Loss: 0.0210 | Learning rate:  0.000092\n"
          ]
        },
        {
          "name": "stderr",
          "output_type": "stream",
          "text": [
            "Start training the model for one epoch...:  52%|█████▏    | 560/1073 [04:39<04:12,  2.04it/s]"
          ]
        },
        {
          "name": "stdout",
          "output_type": "stream",
          "text": [
            "Batch 560 | Loss: 0.0193 | Learning rate:  0.000091\n"
          ]
        },
        {
          "name": "stderr",
          "output_type": "stream",
          "text": [
            "Start training the model for one epoch...:  54%|█████▍    | 580/1073 [04:49<04:02,  2.03it/s]"
          ]
        },
        {
          "name": "stdout",
          "output_type": "stream",
          "text": [
            "Batch 580 | Loss: 0.0246 | Learning rate:  0.000091\n"
          ]
        },
        {
          "name": "stderr",
          "output_type": "stream",
          "text": [
            "Start training the model for one epoch...:  56%|█████▌    | 600/1073 [04:59<03:53,  2.02it/s]"
          ]
        },
        {
          "name": "stdout",
          "output_type": "stream",
          "text": [
            "Batch 600 | Loss: 0.0186 | Learning rate:  0.000091\n"
          ]
        },
        {
          "name": "stderr",
          "output_type": "stream",
          "text": [
            "Start training the model for one epoch...:  58%|█████▊    | 620/1073 [05:09<03:40,  2.06it/s]"
          ]
        },
        {
          "name": "stdout",
          "output_type": "stream",
          "text": [
            "Batch 620 | Loss: 0.0344 | Learning rate:  0.000091\n"
          ]
        },
        {
          "name": "stderr",
          "output_type": "stream",
          "text": [
            "Start training the model for one epoch...:  60%|█████▉    | 640/1073 [05:19<03:27,  2.08it/s]"
          ]
        },
        {
          "name": "stdout",
          "output_type": "stream",
          "text": [
            "Batch 640 | Loss: 0.0236 | Learning rate:  0.000091\n"
          ]
        },
        {
          "name": "stderr",
          "output_type": "stream",
          "text": [
            "Start training the model for one epoch...:  62%|██████▏   | 660/1073 [05:29<03:21,  2.05it/s]"
          ]
        },
        {
          "name": "stdout",
          "output_type": "stream",
          "text": [
            "Batch 660 | Loss: 0.0157 | Learning rate:  0.000091\n"
          ]
        },
        {
          "name": "stderr",
          "output_type": "stream",
          "text": [
            "Start training the model for one epoch...:  63%|██████▎   | 680/1073 [05:39<03:13,  2.03it/s]"
          ]
        },
        {
          "name": "stdout",
          "output_type": "stream",
          "text": [
            "Batch 680 | Loss: 0.0229 | Learning rate:  0.000090\n"
          ]
        },
        {
          "name": "stderr",
          "output_type": "stream",
          "text": [
            "Start training the model for one epoch...:  65%|██████▌   | 700/1073 [05:48<03:02,  2.05it/s]"
          ]
        },
        {
          "name": "stdout",
          "output_type": "stream",
          "text": [
            "Batch 700 | Loss: 0.0288 | Learning rate:  0.000090\n"
          ]
        },
        {
          "name": "stderr",
          "output_type": "stream",
          "text": [
            "Start training the model for one epoch...:  67%|██████▋   | 720/1073 [05:58<02:54,  2.02it/s]"
          ]
        },
        {
          "name": "stdout",
          "output_type": "stream",
          "text": [
            "Batch 720 | Loss: 0.0581 | Learning rate:  0.000090\n"
          ]
        },
        {
          "name": "stderr",
          "output_type": "stream",
          "text": [
            "Start training the model for one epoch...:  69%|██████▉   | 740/1073 [06:08<02:43,  2.04it/s]"
          ]
        },
        {
          "name": "stdout",
          "output_type": "stream",
          "text": [
            "Batch 740 | Loss: 0.0239 | Learning rate:  0.000090\n"
          ]
        },
        {
          "name": "stderr",
          "output_type": "stream",
          "text": [
            "Start training the model for one epoch...:  71%|███████   | 760/1073 [06:18<02:33,  2.03it/s]"
          ]
        },
        {
          "name": "stdout",
          "output_type": "stream",
          "text": [
            "Batch 760 | Loss: 0.0248 | Learning rate:  0.000090\n"
          ]
        },
        {
          "name": "stderr",
          "output_type": "stream",
          "text": [
            "Start training the model for one epoch...:  73%|███████▎  | 780/1073 [06:28<02:22,  2.05it/s]"
          ]
        },
        {
          "name": "stdout",
          "output_type": "stream",
          "text": [
            "Batch 780 | Loss: 0.0116 | Learning rate:  0.000090\n"
          ]
        },
        {
          "name": "stderr",
          "output_type": "stream",
          "text": [
            "Start training the model for one epoch...:  75%|███████▍  | 800/1073 [06:38<02:16,  2.00it/s]"
          ]
        },
        {
          "name": "stdout",
          "output_type": "stream",
          "text": [
            "Batch 800 | Loss: 0.0253 | Learning rate:  0.000089\n"
          ]
        },
        {
          "name": "stderr",
          "output_type": "stream",
          "text": [
            "Start training the model for one epoch...:  76%|███████▋  | 820/1073 [06:48<02:03,  2.05it/s]"
          ]
        },
        {
          "name": "stdout",
          "output_type": "stream",
          "text": [
            "Batch 820 | Loss: 0.0381 | Learning rate:  0.000089\n"
          ]
        },
        {
          "name": "stderr",
          "output_type": "stream",
          "text": [
            "Start training the model for one epoch...:  78%|███████▊  | 840/1073 [06:57<01:55,  2.02it/s]"
          ]
        },
        {
          "name": "stdout",
          "output_type": "stream",
          "text": [
            "Batch 840 | Loss: 0.0287 | Learning rate:  0.000089\n"
          ]
        },
        {
          "name": "stderr",
          "output_type": "stream",
          "text": [
            "Start training the model for one epoch...:  80%|████████  | 860/1073 [07:07<01:43,  2.06it/s]"
          ]
        },
        {
          "name": "stdout",
          "output_type": "stream",
          "text": [
            "Batch 860 | Loss: 0.0147 | Learning rate:  0.000089\n"
          ]
        },
        {
          "name": "stderr",
          "output_type": "stream",
          "text": [
            "Start training the model for one epoch...:  82%|████████▏ | 880/1073 [07:17<01:35,  2.02it/s]"
          ]
        },
        {
          "name": "stdout",
          "output_type": "stream",
          "text": [
            "Batch 880 | Loss: 0.0220 | Learning rate:  0.000089\n"
          ]
        },
        {
          "name": "stderr",
          "output_type": "stream",
          "text": [
            "Start training the model for one epoch...:  84%|████████▍ | 900/1073 [07:27<01:24,  2.06it/s]"
          ]
        },
        {
          "name": "stdout",
          "output_type": "stream",
          "text": [
            "Batch 900 | Loss: 0.0133 | Learning rate:  0.000089\n"
          ]
        },
        {
          "name": "stderr",
          "output_type": "stream",
          "text": [
            "Start training the model for one epoch...:  86%|████████▌ | 920/1073 [07:37<01:15,  2.02it/s]"
          ]
        },
        {
          "name": "stdout",
          "output_type": "stream",
          "text": [
            "Batch 920 | Loss: 0.0231 | Learning rate:  0.000088\n"
          ]
        },
        {
          "name": "stderr",
          "output_type": "stream",
          "text": [
            "Start training the model for one epoch...:  88%|████████▊ | 940/1073 [07:46<01:05,  2.04it/s]"
          ]
        },
        {
          "name": "stdout",
          "output_type": "stream",
          "text": [
            "Batch 940 | Loss: 0.0216 | Learning rate:  0.000088\n"
          ]
        },
        {
          "name": "stderr",
          "output_type": "stream",
          "text": [
            "Start training the model for one epoch...:  89%|████████▉ | 960/1073 [07:56<00:55,  2.02it/s]"
          ]
        },
        {
          "name": "stdout",
          "output_type": "stream",
          "text": [
            "Batch 960 | Loss: 0.0151 | Learning rate:  0.000088\n"
          ]
        },
        {
          "name": "stderr",
          "output_type": "stream",
          "text": [
            "Start training the model for one epoch...:  91%|█████████▏| 980/1073 [08:06<00:45,  2.05it/s]"
          ]
        },
        {
          "name": "stdout",
          "output_type": "stream",
          "text": [
            "Batch 980 | Loss: 0.0207 | Learning rate:  0.000088\n"
          ]
        },
        {
          "name": "stderr",
          "output_type": "stream",
          "text": [
            "Start training the model for one epoch...:  93%|█████████▎| 1000/1073 [08:16<00:36,  2.01it/s]"
          ]
        },
        {
          "name": "stdout",
          "output_type": "stream",
          "text": [
            "Batch 1000 | Loss: 0.0166 | Learning rate:  0.000088\n"
          ]
        },
        {
          "name": "stderr",
          "output_type": "stream",
          "text": [
            "Start training the model for one epoch...:  95%|█████████▌| 1020/1073 [08:26<00:25,  2.07it/s]"
          ]
        },
        {
          "name": "stdout",
          "output_type": "stream",
          "text": [
            "Batch 1020 | Loss: 0.0206 | Learning rate:  0.000088\n"
          ]
        },
        {
          "name": "stderr",
          "output_type": "stream",
          "text": [
            "Start training the model for one epoch...:  97%|█████████▋| 1040/1073 [08:36<00:16,  2.01it/s]"
          ]
        },
        {
          "name": "stdout",
          "output_type": "stream",
          "text": [
            "Batch 1040 | Loss: 0.0148 | Learning rate:  0.000087\n"
          ]
        },
        {
          "name": "stderr",
          "output_type": "stream",
          "text": [
            "Start training the model for one epoch...:  99%|█████████▉| 1060/1073 [08:45<00:06,  2.16it/s]"
          ]
        },
        {
          "name": "stdout",
          "output_type": "stream",
          "text": [
            "Batch 1060 | Loss: 0.0136 | Learning rate:  0.000087\n"
          ]
        },
        {
          "name": "stderr",
          "output_type": "stream",
          "text": [
            "Start training the model for one epoch...: 100%|██████████| 1073/1073 [08:51<00:00,  2.02it/s]\n",
            "120it [00:36,  3.27it/s]\n"
          ]
        },
        {
          "name": "stdout",
          "output_type": "stream",
          "text": [
            "Epoch: 23, train loss: 0.023930556934156768, val_loss: 0.04244290324859321, val_dice: 0.8332295954045367, val_IoU: 0.7577728054111348\n"
          ]
        },
        {
          "name": "stderr",
          "output_type": "stream",
          "text": [
            "Start training the model for one epoch...:   2%|▏         | 20/1073 [00:15<08:50,  1.98it/s]"
          ]
        },
        {
          "name": "stdout",
          "output_type": "stream",
          "text": [
            "Batch 20 | Loss: 0.0162 | Learning rate:  0.000087\n"
          ]
        },
        {
          "name": "stderr",
          "output_type": "stream",
          "text": [
            "Start training the model for one epoch...:   4%|▎         | 40/1073 [00:25<08:32,  2.01it/s]"
          ]
        },
        {
          "name": "stdout",
          "output_type": "stream",
          "text": [
            "Batch 40 | Loss: 0.0247 | Learning rate:  0.000087\n"
          ]
        },
        {
          "name": "stderr",
          "output_type": "stream",
          "text": [
            "Start training the model for one epoch...:   6%|▌         | 60/1073 [00:34<08:19,  2.03it/s]"
          ]
        },
        {
          "name": "stdout",
          "output_type": "stream",
          "text": [
            "Batch 60 | Loss: 0.0308 | Learning rate:  0.000087\n"
          ]
        },
        {
          "name": "stderr",
          "output_type": "stream",
          "text": [
            "Start training the model for one epoch...:   7%|▋         | 80/1073 [00:44<08:08,  2.03it/s]"
          ]
        },
        {
          "name": "stdout",
          "output_type": "stream",
          "text": [
            "Batch 80 | Loss: 0.0277 | Learning rate:  0.000086\n"
          ]
        },
        {
          "name": "stderr",
          "output_type": "stream",
          "text": [
            "Start training the model for one epoch...:   9%|▉         | 100/1073 [00:54<08:01,  2.02it/s]"
          ]
        },
        {
          "name": "stdout",
          "output_type": "stream",
          "text": [
            "Batch 100 | Loss: 0.0245 | Learning rate:  0.000086\n"
          ]
        },
        {
          "name": "stderr",
          "output_type": "stream",
          "text": [
            "Start training the model for one epoch...:  11%|█         | 120/1073 [01:04<07:35,  2.09it/s]"
          ]
        },
        {
          "name": "stdout",
          "output_type": "stream",
          "text": [
            "Batch 120 | Loss: 0.0158 | Learning rate:  0.000086\n"
          ]
        },
        {
          "name": "stderr",
          "output_type": "stream",
          "text": [
            "Start training the model for one epoch...:  13%|█▎        | 140/1073 [01:14<07:47,  2.00it/s]"
          ]
        },
        {
          "name": "stdout",
          "output_type": "stream",
          "text": [
            "Batch 140 | Loss: 0.0129 | Learning rate:  0.000086\n"
          ]
        },
        {
          "name": "stderr",
          "output_type": "stream",
          "text": [
            "Start training the model for one epoch...:  15%|█▍        | 160/1073 [01:23<07:18,  2.08it/s]"
          ]
        },
        {
          "name": "stdout",
          "output_type": "stream",
          "text": [
            "Batch 160 | Loss: 0.0431 | Learning rate:  0.000086\n"
          ]
        },
        {
          "name": "stderr",
          "output_type": "stream",
          "text": [
            "Start training the model for one epoch...:  17%|█▋        | 180/1073 [01:33<07:26,  2.00it/s]"
          ]
        },
        {
          "name": "stdout",
          "output_type": "stream",
          "text": [
            "Batch 180 | Loss: 0.0232 | Learning rate:  0.000086\n"
          ]
        },
        {
          "name": "stderr",
          "output_type": "stream",
          "text": [
            "Start training the model for one epoch...:  19%|█▊        | 200/1073 [01:43<06:57,  2.09it/s]"
          ]
        },
        {
          "name": "stdout",
          "output_type": "stream",
          "text": [
            "Batch 200 | Loss: 0.0226 | Learning rate:  0.000086\n"
          ]
        },
        {
          "name": "stderr",
          "output_type": "stream",
          "text": [
            "Start training the model for one epoch...:  21%|██        | 220/1073 [01:53<06:59,  2.03it/s]"
          ]
        },
        {
          "name": "stdout",
          "output_type": "stream",
          "text": [
            "Batch 220 | Loss: 0.0301 | Learning rate:  0.000085\n"
          ]
        },
        {
          "name": "stderr",
          "output_type": "stream",
          "text": [
            "Start training the model for one epoch...:  22%|██▏       | 240/1073 [02:02<06:47,  2.05it/s]"
          ]
        },
        {
          "name": "stdout",
          "output_type": "stream",
          "text": [
            "Batch 240 | Loss: 0.0223 | Learning rate:  0.000085\n"
          ]
        },
        {
          "name": "stderr",
          "output_type": "stream",
          "text": [
            "Start training the model for one epoch...:  24%|██▍       | 260/1073 [02:12<06:42,  2.02it/s]"
          ]
        },
        {
          "name": "stdout",
          "output_type": "stream",
          "text": [
            "Batch 260 | Loss: 0.0275 | Learning rate:  0.000085\n"
          ]
        },
        {
          "name": "stderr",
          "output_type": "stream",
          "text": [
            "Start training the model for one epoch...:  26%|██▌       | 280/1073 [02:22<06:20,  2.08it/s]"
          ]
        },
        {
          "name": "stdout",
          "output_type": "stream",
          "text": [
            "Batch 280 | Loss: 0.0232 | Learning rate:  0.000085\n"
          ]
        },
        {
          "name": "stderr",
          "output_type": "stream",
          "text": [
            "Start training the model for one epoch...:  28%|██▊       | 300/1073 [02:32<06:20,  2.03it/s]"
          ]
        },
        {
          "name": "stdout",
          "output_type": "stream",
          "text": [
            "Batch 300 | Loss: 0.0156 | Learning rate:  0.000085\n"
          ]
        },
        {
          "name": "stderr",
          "output_type": "stream",
          "text": [
            "Start training the model for one epoch...:  30%|██▉       | 320/1073 [02:41<06:10,  2.03it/s]"
          ]
        },
        {
          "name": "stdout",
          "output_type": "stream",
          "text": [
            "Batch 320 | Loss: 0.0324 | Learning rate:  0.000085\n"
          ]
        },
        {
          "name": "stderr",
          "output_type": "stream",
          "text": [
            "Start training the model for one epoch...:  32%|███▏      | 340/1073 [02:51<06:04,  2.01it/s]"
          ]
        },
        {
          "name": "stdout",
          "output_type": "stream",
          "text": [
            "Batch 340 | Loss: 0.0239 | Learning rate:  0.000084\n"
          ]
        },
        {
          "name": "stderr",
          "output_type": "stream",
          "text": [
            "Start training the model for one epoch...:  34%|███▎      | 360/1073 [03:01<05:48,  2.05it/s]"
          ]
        },
        {
          "name": "stdout",
          "output_type": "stream",
          "text": [
            "Batch 360 | Loss: 0.0166 | Learning rate:  0.000084\n"
          ]
        },
        {
          "name": "stderr",
          "output_type": "stream",
          "text": [
            "Start training the model for one epoch...:  35%|███▌      | 380/1073 [03:11<05:43,  2.02it/s]"
          ]
        },
        {
          "name": "stdout",
          "output_type": "stream",
          "text": [
            "Batch 380 | Loss: 0.0135 | Learning rate:  0.000084\n"
          ]
        },
        {
          "name": "stderr",
          "output_type": "stream",
          "text": [
            "Start training the model for one epoch...:  37%|███▋      | 400/1073 [03:20<05:29,  2.04it/s]"
          ]
        },
        {
          "name": "stdout",
          "output_type": "stream",
          "text": [
            "Batch 400 | Loss: 0.0199 | Learning rate:  0.000084\n"
          ]
        },
        {
          "name": "stderr",
          "output_type": "stream",
          "text": [
            "Start training the model for one epoch...:  39%|███▉      | 420/1073 [03:30<05:23,  2.02it/s]"
          ]
        },
        {
          "name": "stdout",
          "output_type": "stream",
          "text": [
            "Batch 420 | Loss: 0.0201 | Learning rate:  0.000084\n"
          ]
        },
        {
          "name": "stderr",
          "output_type": "stream",
          "text": [
            "Start training the model for one epoch...:  41%|████      | 440/1073 [03:40<05:05,  2.07it/s]"
          ]
        },
        {
          "name": "stdout",
          "output_type": "stream",
          "text": [
            "Batch 440 | Loss: 0.0252 | Learning rate:  0.000084\n"
          ]
        },
        {
          "name": "stderr",
          "output_type": "stream",
          "text": [
            "Start training the model for one epoch...:  43%|████▎     | 460/1073 [03:50<05:04,  2.01it/s]"
          ]
        },
        {
          "name": "stdout",
          "output_type": "stream",
          "text": [
            "Batch 460 | Loss: 0.0182 | Learning rate:  0.000083\n"
          ]
        },
        {
          "name": "stderr",
          "output_type": "stream",
          "text": [
            "Start training the model for one epoch...:  45%|████▍     | 480/1073 [04:00<04:52,  2.03it/s]"
          ]
        },
        {
          "name": "stdout",
          "output_type": "stream",
          "text": [
            "Batch 480 | Loss: 0.0247 | Learning rate:  0.000083\n"
          ]
        },
        {
          "name": "stderr",
          "output_type": "stream",
          "text": [
            "Start training the model for one epoch...:  47%|████▋     | 500/1073 [04:10<04:42,  2.03it/s]"
          ]
        },
        {
          "name": "stdout",
          "output_type": "stream",
          "text": [
            "Batch 500 | Loss: 0.0123 | Learning rate:  0.000083\n"
          ]
        },
        {
          "name": "stderr",
          "output_type": "stream",
          "text": [
            "Start training the model for one epoch...:  48%|████▊     | 520/1073 [04:19<04:33,  2.02it/s]"
          ]
        },
        {
          "name": "stdout",
          "output_type": "stream",
          "text": [
            "Batch 520 | Loss: 0.0283 | Learning rate:  0.000083\n"
          ]
        },
        {
          "name": "stderr",
          "output_type": "stream",
          "text": [
            "Start training the model for one epoch...:  50%|█████     | 540/1073 [04:29<04:25,  2.01it/s]"
          ]
        },
        {
          "name": "stdout",
          "output_type": "stream",
          "text": [
            "Batch 540 | Loss: 0.0315 | Learning rate:  0.000083\n"
          ]
        },
        {
          "name": "stderr",
          "output_type": "stream",
          "text": [
            "Start training the model for one epoch...:  52%|█████▏    | 560/1073 [04:39<04:08,  2.07it/s]"
          ]
        },
        {
          "name": "stdout",
          "output_type": "stream",
          "text": [
            "Batch 560 | Loss: 0.0257 | Learning rate:  0.000083\n"
          ]
        },
        {
          "name": "stderr",
          "output_type": "stream",
          "text": [
            "Start training the model for one epoch...:  54%|█████▍    | 580/1073 [04:49<04:04,  2.01it/s]"
          ]
        },
        {
          "name": "stdout",
          "output_type": "stream",
          "text": [
            "Batch 580 | Loss: 0.0273 | Learning rate:  0.000082\n"
          ]
        },
        {
          "name": "stderr",
          "output_type": "stream",
          "text": [
            "Start training the model for one epoch...:  56%|█████▌    | 600/1073 [04:59<03:50,  2.05it/s]"
          ]
        },
        {
          "name": "stdout",
          "output_type": "stream",
          "text": [
            "Batch 600 | Loss: 0.0198 | Learning rate:  0.000082\n"
          ]
        },
        {
          "name": "stderr",
          "output_type": "stream",
          "text": [
            "Start training the model for one epoch...:  58%|█████▊    | 620/1073 [05:08<03:42,  2.03it/s]"
          ]
        },
        {
          "name": "stdout",
          "output_type": "stream",
          "text": [
            "Batch 620 | Loss: 0.0315 | Learning rate:  0.000082\n"
          ]
        },
        {
          "name": "stderr",
          "output_type": "stream",
          "text": [
            "Start training the model for one epoch...:  60%|█████▉    | 640/1073 [05:18<03:31,  2.04it/s]"
          ]
        },
        {
          "name": "stdout",
          "output_type": "stream",
          "text": [
            "Batch 640 | Loss: 0.0192 | Learning rate:  0.000082\n"
          ]
        },
        {
          "name": "stderr",
          "output_type": "stream",
          "text": [
            "Start training the model for one epoch...:  62%|██████▏   | 660/1073 [05:28<03:22,  2.03it/s]"
          ]
        },
        {
          "name": "stdout",
          "output_type": "stream",
          "text": [
            "Batch 660 | Loss: 0.0248 | Learning rate:  0.000082\n"
          ]
        },
        {
          "name": "stderr",
          "output_type": "stream",
          "text": [
            "Start training the model for one epoch...:  63%|██████▎   | 680/1073 [05:38<03:12,  2.04it/s]"
          ]
        },
        {
          "name": "stdout",
          "output_type": "stream",
          "text": [
            "Batch 680 | Loss: 0.0138 | Learning rate:  0.000082\n"
          ]
        },
        {
          "name": "stderr",
          "output_type": "stream",
          "text": [
            "Start training the model for one epoch...:  65%|██████▌   | 700/1073 [05:48<03:04,  2.02it/s]"
          ]
        },
        {
          "name": "stdout",
          "output_type": "stream",
          "text": [
            "Batch 700 | Loss: 0.0179 | Learning rate:  0.000081\n"
          ]
        },
        {
          "name": "stderr",
          "output_type": "stream",
          "text": [
            "Start training the model for one epoch...:  67%|██████▋   | 720/1073 [05:58<02:51,  2.06it/s]"
          ]
        },
        {
          "name": "stdout",
          "output_type": "stream",
          "text": [
            "Batch 720 | Loss: 0.0241 | Learning rate:  0.000081\n"
          ]
        },
        {
          "name": "stderr",
          "output_type": "stream",
          "text": [
            "Start training the model for one epoch...:  69%|██████▉   | 740/1073 [06:08<02:46,  2.01it/s]"
          ]
        },
        {
          "name": "stdout",
          "output_type": "stream",
          "text": [
            "Batch 740 | Loss: 0.0249 | Learning rate:  0.000081\n"
          ]
        },
        {
          "name": "stderr",
          "output_type": "stream",
          "text": [
            "Start training the model for one epoch...:  71%|███████   | 760/1073 [06:17<02:35,  2.01it/s]"
          ]
        },
        {
          "name": "stdout",
          "output_type": "stream",
          "text": [
            "Batch 760 | Loss: 0.0141 | Learning rate:  0.000081\n"
          ]
        },
        {
          "name": "stderr",
          "output_type": "stream",
          "text": [
            "Start training the model for one epoch...:  73%|███████▎  | 780/1073 [06:27<02:21,  2.07it/s]"
          ]
        },
        {
          "name": "stdout",
          "output_type": "stream",
          "text": [
            "Batch 780 | Loss: 0.0168 | Learning rate:  0.000081\n"
          ]
        },
        {
          "name": "stderr",
          "output_type": "stream",
          "text": [
            "Start training the model for one epoch...:  75%|███████▍  | 800/1073 [06:37<02:12,  2.05it/s]"
          ]
        },
        {
          "name": "stdout",
          "output_type": "stream",
          "text": [
            "Batch 800 | Loss: 0.0247 | Learning rate:  0.000081\n"
          ]
        },
        {
          "name": "stderr",
          "output_type": "stream",
          "text": [
            "Start training the model for one epoch...:  76%|███████▋  | 820/1073 [06:47<02:03,  2.05it/s]"
          ]
        },
        {
          "name": "stdout",
          "output_type": "stream",
          "text": [
            "Batch 820 | Loss: 0.0183 | Learning rate:  0.000080\n"
          ]
        },
        {
          "name": "stderr",
          "output_type": "stream",
          "text": [
            "Start training the model for one epoch...:  78%|███████▊  | 840/1073 [06:56<01:52,  2.07it/s]"
          ]
        },
        {
          "name": "stdout",
          "output_type": "stream",
          "text": [
            "Batch 840 | Loss: 0.0188 | Learning rate:  0.000080\n"
          ]
        },
        {
          "name": "stderr",
          "output_type": "stream",
          "text": [
            "Start training the model for one epoch...:  80%|████████  | 860/1073 [07:06<01:43,  2.05it/s]"
          ]
        },
        {
          "name": "stdout",
          "output_type": "stream",
          "text": [
            "Batch 860 | Loss: 0.0173 | Learning rate:  0.000080\n"
          ]
        },
        {
          "name": "stderr",
          "output_type": "stream",
          "text": [
            "Start training the model for one epoch...:  82%|████████▏ | 880/1073 [07:16<01:34,  2.04it/s]"
          ]
        },
        {
          "name": "stdout",
          "output_type": "stream",
          "text": [
            "Batch 880 | Loss: 0.0211 | Learning rate:  0.000080\n"
          ]
        },
        {
          "name": "stderr",
          "output_type": "stream",
          "text": [
            "Start training the model for one epoch...:  84%|████████▍ | 900/1073 [07:26<01:24,  2.05it/s]"
          ]
        },
        {
          "name": "stdout",
          "output_type": "stream",
          "text": [
            "Batch 900 | Loss: 0.0148 | Learning rate:  0.000080\n"
          ]
        },
        {
          "name": "stderr",
          "output_type": "stream",
          "text": [
            "Start training the model for one epoch...:  86%|████████▌ | 920/1073 [07:36<01:15,  2.03it/s]"
          ]
        },
        {
          "name": "stdout",
          "output_type": "stream",
          "text": [
            "Batch 920 | Loss: 0.0297 | Learning rate:  0.000080\n"
          ]
        },
        {
          "name": "stderr",
          "output_type": "stream",
          "text": [
            "Start training the model for one epoch...:  88%|████████▊ | 940/1073 [07:46<01:04,  2.07it/s]"
          ]
        },
        {
          "name": "stdout",
          "output_type": "stream",
          "text": [
            "Batch 940 | Loss: 0.0221 | Learning rate:  0.000079\n"
          ]
        },
        {
          "name": "stderr",
          "output_type": "stream",
          "text": [
            "Start training the model for one epoch...:  89%|████████▉ | 960/1073 [07:55<00:56,  2.01it/s]"
          ]
        },
        {
          "name": "stdout",
          "output_type": "stream",
          "text": [
            "Batch 960 | Loss: 0.0326 | Learning rate:  0.000079\n"
          ]
        },
        {
          "name": "stderr",
          "output_type": "stream",
          "text": [
            "Start training the model for one epoch...:  91%|█████████▏| 980/1073 [08:05<00:45,  2.05it/s]"
          ]
        },
        {
          "name": "stdout",
          "output_type": "stream",
          "text": [
            "Batch 980 | Loss: 0.0150 | Learning rate:  0.000079\n"
          ]
        },
        {
          "name": "stderr",
          "output_type": "stream",
          "text": [
            "Start training the model for one epoch...:  93%|█████████▎| 1000/1073 [08:15<00:35,  2.04it/s]"
          ]
        },
        {
          "name": "stdout",
          "output_type": "stream",
          "text": [
            "Batch 1000 | Loss: 0.0161 | Learning rate:  0.000079\n"
          ]
        },
        {
          "name": "stderr",
          "output_type": "stream",
          "text": [
            "Start training the model for one epoch...:  95%|█████████▌| 1020/1073 [08:25<00:25,  2.04it/s]"
          ]
        },
        {
          "name": "stdout",
          "output_type": "stream",
          "text": [
            "Batch 1020 | Loss: 0.0251 | Learning rate:  0.000079\n"
          ]
        },
        {
          "name": "stderr",
          "output_type": "stream",
          "text": [
            "Start training the model for one epoch...:  97%|█████████▋| 1040/1073 [08:34<00:16,  2.03it/s]"
          ]
        },
        {
          "name": "stdout",
          "output_type": "stream",
          "text": [
            "Batch 1040 | Loss: 0.0311 | Learning rate:  0.000079\n"
          ]
        },
        {
          "name": "stderr",
          "output_type": "stream",
          "text": [
            "Start training the model for one epoch...:  99%|█████████▉| 1060/1073 [08:44<00:06,  2.15it/s]"
          ]
        },
        {
          "name": "stdout",
          "output_type": "stream",
          "text": [
            "Batch 1060 | Loss: 0.0282 | Learning rate:  0.000078\n"
          ]
        },
        {
          "name": "stderr",
          "output_type": "stream",
          "text": [
            "Start training the model for one epoch...: 100%|██████████| 1073/1073 [08:50<00:00,  2.02it/s]\n",
            "120it [00:36,  3.27it/s]\n"
          ]
        },
        {
          "name": "stdout",
          "output_type": "stream",
          "text": [
            "Epoch: 24, train loss: 0.023701205328870687, val_loss: 0.04169935989193618, val_dice: 0.8361941161079424, val_IoU: 0.7609300312043934\n"
          ]
        },
        {
          "name": "stderr",
          "output_type": "stream",
          "text": [
            "Start training the model for one epoch...:   2%|▏         | 20/1073 [00:15<08:54,  1.97it/s]"
          ]
        },
        {
          "name": "stdout",
          "output_type": "stream",
          "text": [
            "Batch 20 | Loss: 0.0225 | Learning rate:  0.000078\n"
          ]
        },
        {
          "name": "stderr",
          "output_type": "stream",
          "text": [
            "Start training the model for one epoch...:   4%|▎         | 40/1073 [00:25<08:30,  2.02it/s]"
          ]
        },
        {
          "name": "stdout",
          "output_type": "stream",
          "text": [
            "Batch 40 | Loss: 0.0227 | Learning rate:  0.000078\n"
          ]
        },
        {
          "name": "stderr",
          "output_type": "stream",
          "text": [
            "Start training the model for one epoch...:   6%|▌         | 60/1073 [00:34<08:07,  2.08it/s]"
          ]
        },
        {
          "name": "stdout",
          "output_type": "stream",
          "text": [
            "Batch 60 | Loss: 0.0234 | Learning rate:  0.000078\n"
          ]
        },
        {
          "name": "stderr",
          "output_type": "stream",
          "text": [
            "Start training the model for one epoch...:   7%|▋         | 80/1073 [00:44<07:56,  2.08it/s]"
          ]
        },
        {
          "name": "stdout",
          "output_type": "stream",
          "text": [
            "Batch 80 | Loss: 0.0315 | Learning rate:  0.000078\n"
          ]
        },
        {
          "name": "stderr",
          "output_type": "stream",
          "text": [
            "Start training the model for one epoch...:   9%|▉         | 100/1073 [00:54<07:57,  2.04it/s]"
          ]
        },
        {
          "name": "stdout",
          "output_type": "stream",
          "text": [
            "Batch 100 | Loss: 0.0255 | Learning rate:  0.000078\n"
          ]
        },
        {
          "name": "stderr",
          "output_type": "stream",
          "text": [
            "Start training the model for one epoch...:  11%|█         | 120/1073 [01:04<07:37,  2.08it/s]"
          ]
        },
        {
          "name": "stdout",
          "output_type": "stream",
          "text": [
            "Batch 120 | Loss: 0.0204 | Learning rate:  0.000077\n"
          ]
        },
        {
          "name": "stderr",
          "output_type": "stream",
          "text": [
            "Start training the model for one epoch...:  13%|█▎        | 140/1073 [01:13<07:40,  2.03it/s]"
          ]
        },
        {
          "name": "stdout",
          "output_type": "stream",
          "text": [
            "Batch 140 | Loss: 0.0147 | Learning rate:  0.000077\n"
          ]
        },
        {
          "name": "stderr",
          "output_type": "stream",
          "text": [
            "Start training the model for one epoch...:  15%|█▍        | 160/1073 [01:23<07:19,  2.08it/s]"
          ]
        },
        {
          "name": "stdout",
          "output_type": "stream",
          "text": [
            "Batch 160 | Loss: 0.0250 | Learning rate:  0.000077\n"
          ]
        },
        {
          "name": "stderr",
          "output_type": "stream",
          "text": [
            "Start training the model for one epoch...:  17%|█▋        | 180/1073 [01:33<07:17,  2.04it/s]"
          ]
        },
        {
          "name": "stdout",
          "output_type": "stream",
          "text": [
            "Batch 180 | Loss: 0.0195 | Learning rate:  0.000077\n"
          ]
        },
        {
          "name": "stderr",
          "output_type": "stream",
          "text": [
            "Start training the model for one epoch...:  19%|█▊        | 200/1073 [01:43<07:13,  2.02it/s]"
          ]
        },
        {
          "name": "stdout",
          "output_type": "stream",
          "text": [
            "Batch 200 | Loss: 0.0139 | Learning rate:  0.000077\n"
          ]
        },
        {
          "name": "stderr",
          "output_type": "stream",
          "text": [
            "Start training the model for one epoch...:  21%|██        | 220/1073 [01:53<06:57,  2.04it/s]"
          ]
        },
        {
          "name": "stdout",
          "output_type": "stream",
          "text": [
            "Batch 220 | Loss: 0.0257 | Learning rate:  0.000077\n"
          ]
        },
        {
          "name": "stderr",
          "output_type": "stream",
          "text": [
            "Start training the model for one epoch...:  22%|██▏       | 240/1073 [02:02<06:42,  2.07it/s]"
          ]
        },
        {
          "name": "stdout",
          "output_type": "stream",
          "text": [
            "Batch 240 | Loss: 0.0315 | Learning rate:  0.000076\n"
          ]
        },
        {
          "name": "stderr",
          "output_type": "stream",
          "text": [
            "Start training the model for one epoch...:  24%|██▍       | 260/1073 [02:12<06:42,  2.02it/s]"
          ]
        },
        {
          "name": "stdout",
          "output_type": "stream",
          "text": [
            "Batch 260 | Loss: 0.0177 | Learning rate:  0.000076\n"
          ]
        },
        {
          "name": "stderr",
          "output_type": "stream",
          "text": [
            "Start training the model for one epoch...:  26%|██▌       | 280/1073 [02:22<06:21,  2.08it/s]"
          ]
        },
        {
          "name": "stdout",
          "output_type": "stream",
          "text": [
            "Batch 280 | Loss: 0.0152 | Learning rate:  0.000076\n"
          ]
        },
        {
          "name": "stderr",
          "output_type": "stream",
          "text": [
            "Start training the model for one epoch...:  28%|██▊       | 300/1073 [02:32<06:20,  2.03it/s]"
          ]
        },
        {
          "name": "stdout",
          "output_type": "stream",
          "text": [
            "Batch 300 | Loss: 0.0160 | Learning rate:  0.000076\n"
          ]
        },
        {
          "name": "stderr",
          "output_type": "stream",
          "text": [
            "Start training the model for one epoch...:  30%|██▉       | 320/1073 [02:41<06:10,  2.03it/s]"
          ]
        },
        {
          "name": "stdout",
          "output_type": "stream",
          "text": [
            "Batch 320 | Loss: 0.0160 | Learning rate:  0.000076\n"
          ]
        },
        {
          "name": "stderr",
          "output_type": "stream",
          "text": [
            "Start training the model for one epoch...:  32%|███▏      | 340/1073 [02:51<06:01,  2.03it/s]"
          ]
        },
        {
          "name": "stdout",
          "output_type": "stream",
          "text": [
            "Batch 340 | Loss: 0.0152 | Learning rate:  0.000076\n"
          ]
        },
        {
          "name": "stderr",
          "output_type": "stream",
          "text": [
            "Start training the model for one epoch...:  34%|███▎      | 360/1073 [03:01<05:52,  2.02it/s]"
          ]
        },
        {
          "name": "stdout",
          "output_type": "stream",
          "text": [
            "Batch 360 | Loss: 0.0173 | Learning rate:  0.000075\n"
          ]
        },
        {
          "name": "stderr",
          "output_type": "stream",
          "text": [
            "Start training the model for one epoch...:  35%|███▌      | 380/1073 [03:11<05:41,  2.03it/s]"
          ]
        },
        {
          "name": "stdout",
          "output_type": "stream",
          "text": [
            "Batch 380 | Loss: 0.0452 | Learning rate:  0.000075\n"
          ]
        },
        {
          "name": "stderr",
          "output_type": "stream",
          "text": [
            "Start training the model for one epoch...:  37%|███▋      | 400/1073 [03:21<05:32,  2.02it/s]"
          ]
        },
        {
          "name": "stdout",
          "output_type": "stream",
          "text": [
            "Batch 400 | Loss: 0.0305 | Learning rate:  0.000075\n"
          ]
        },
        {
          "name": "stderr",
          "output_type": "stream",
          "text": [
            "Start training the model for one epoch...:  39%|███▉      | 420/1073 [03:30<05:19,  2.05it/s]"
          ]
        },
        {
          "name": "stdout",
          "output_type": "stream",
          "text": [
            "Batch 420 | Loss: 0.0350 | Learning rate:  0.000075\n"
          ]
        },
        {
          "name": "stderr",
          "output_type": "stream",
          "text": [
            "Start training the model for one epoch...:  41%|████      | 440/1073 [03:40<05:09,  2.04it/s]"
          ]
        },
        {
          "name": "stdout",
          "output_type": "stream",
          "text": [
            "Batch 440 | Loss: 0.0194 | Learning rate:  0.000075\n"
          ]
        },
        {
          "name": "stderr",
          "output_type": "stream",
          "text": [
            "Start training the model for one epoch...:  43%|████▎     | 460/1073 [03:50<05:04,  2.01it/s]"
          ]
        },
        {
          "name": "stdout",
          "output_type": "stream",
          "text": [
            "Batch 460 | Loss: 0.0363 | Learning rate:  0.000075\n"
          ]
        },
        {
          "name": "stderr",
          "output_type": "stream",
          "text": [
            "Start training the model for one epoch...:  45%|████▍     | 480/1073 [04:00<04:45,  2.08it/s]"
          ]
        },
        {
          "name": "stdout",
          "output_type": "stream",
          "text": [
            "Batch 480 | Loss: 0.0322 | Learning rate:  0.000074\n"
          ]
        },
        {
          "name": "stderr",
          "output_type": "stream",
          "text": [
            "Start training the model for one epoch...:  47%|████▋     | 500/1073 [04:10<04:45,  2.01it/s]"
          ]
        },
        {
          "name": "stdout",
          "output_type": "stream",
          "text": [
            "Batch 500 | Loss: 0.0184 | Learning rate:  0.000074\n"
          ]
        },
        {
          "name": "stderr",
          "output_type": "stream",
          "text": [
            "Start training the model for one epoch...:  48%|████▊     | 520/1073 [04:19<04:28,  2.06it/s]"
          ]
        },
        {
          "name": "stdout",
          "output_type": "stream",
          "text": [
            "Batch 520 | Loss: 0.0220 | Learning rate:  0.000074\n"
          ]
        },
        {
          "name": "stderr",
          "output_type": "stream",
          "text": [
            "Start training the model for one epoch...:  50%|█████     | 540/1073 [04:29<04:28,  1.98it/s]"
          ]
        },
        {
          "name": "stdout",
          "output_type": "stream",
          "text": [
            "Batch 540 | Loss: 0.0200 | Learning rate:  0.000074\n"
          ]
        },
        {
          "name": "stderr",
          "output_type": "stream",
          "text": [
            "Start training the model for one epoch...:  52%|█████▏    | 560/1073 [04:39<04:11,  2.04it/s]"
          ]
        },
        {
          "name": "stdout",
          "output_type": "stream",
          "text": [
            "Batch 560 | Loss: 0.0179 | Learning rate:  0.000074\n"
          ]
        },
        {
          "name": "stderr",
          "output_type": "stream",
          "text": [
            "Start training the model for one epoch...:  54%|█████▍    | 580/1073 [04:49<04:04,  2.02it/s]"
          ]
        },
        {
          "name": "stdout",
          "output_type": "stream",
          "text": [
            "Batch 580 | Loss: 0.0249 | Learning rate:  0.000074\n"
          ]
        },
        {
          "name": "stderr",
          "output_type": "stream",
          "text": [
            "Start training the model for one epoch...:  56%|█████▌    | 600/1073 [04:59<03:49,  2.06it/s]"
          ]
        },
        {
          "name": "stdout",
          "output_type": "stream",
          "text": [
            "Batch 600 | Loss: 0.0180 | Learning rate:  0.000074\n"
          ]
        },
        {
          "name": "stderr",
          "output_type": "stream",
          "text": [
            "Start training the model for one epoch...:  58%|█████▊    | 620/1073 [05:09<03:45,  2.01it/s]"
          ]
        },
        {
          "name": "stdout",
          "output_type": "stream",
          "text": [
            "Batch 620 | Loss: 0.0254 | Learning rate:  0.000073\n"
          ]
        },
        {
          "name": "stderr",
          "output_type": "stream",
          "text": [
            "Start training the model for one epoch...:  60%|█████▉    | 640/1073 [05:18<03:31,  2.05it/s]"
          ]
        },
        {
          "name": "stdout",
          "output_type": "stream",
          "text": [
            "Batch 640 | Loss: 0.0246 | Learning rate:  0.000073\n"
          ]
        },
        {
          "name": "stderr",
          "output_type": "stream",
          "text": [
            "Start training the model for one epoch...:  62%|██████▏   | 660/1073 [05:28<03:25,  2.01it/s]"
          ]
        },
        {
          "name": "stdout",
          "output_type": "stream",
          "text": [
            "Batch 660 | Loss: 0.0191 | Learning rate:  0.000073\n"
          ]
        },
        {
          "name": "stderr",
          "output_type": "stream",
          "text": [
            "Start training the model for one epoch...:  63%|██████▎   | 680/1073 [05:38<03:13,  2.03it/s]"
          ]
        },
        {
          "name": "stdout",
          "output_type": "stream",
          "text": [
            "Batch 680 | Loss: 0.0557 | Learning rate:  0.000073\n"
          ]
        },
        {
          "name": "stderr",
          "output_type": "stream",
          "text": [
            "Start training the model for one epoch...:  65%|██████▌   | 700/1073 [05:48<03:05,  2.01it/s]"
          ]
        },
        {
          "name": "stdout",
          "output_type": "stream",
          "text": [
            "Batch 700 | Loss: 0.0204 | Learning rate:  0.000073\n"
          ]
        },
        {
          "name": "stderr",
          "output_type": "stream",
          "text": [
            "Start training the model for one epoch...:  67%|██████▋   | 720/1073 [05:58<02:51,  2.06it/s]"
          ]
        },
        {
          "name": "stdout",
          "output_type": "stream",
          "text": [
            "Batch 720 | Loss: 0.0232 | Learning rate:  0.000073\n"
          ]
        },
        {
          "name": "stderr",
          "output_type": "stream",
          "text": [
            "Start training the model for one epoch...:  69%|██████▉   | 740/1073 [06:08<02:45,  2.01it/s]"
          ]
        },
        {
          "name": "stdout",
          "output_type": "stream",
          "text": [
            "Batch 740 | Loss: 0.0218 | Learning rate:  0.000072\n"
          ]
        },
        {
          "name": "stderr",
          "output_type": "stream",
          "text": [
            "Start training the model for one epoch...:  71%|███████   | 760/1073 [06:17<02:32,  2.06it/s]"
          ]
        },
        {
          "name": "stdout",
          "output_type": "stream",
          "text": [
            "Batch 760 | Loss: 0.0633 | Learning rate:  0.000072\n"
          ]
        },
        {
          "name": "stderr",
          "output_type": "stream",
          "text": [
            "Start training the model for one epoch...:  73%|███████▎  | 780/1073 [06:27<02:25,  2.01it/s]"
          ]
        },
        {
          "name": "stdout",
          "output_type": "stream",
          "text": [
            "Batch 780 | Loss: 0.0221 | Learning rate:  0.000072\n"
          ]
        },
        {
          "name": "stderr",
          "output_type": "stream",
          "text": [
            "Start training the model for one epoch...:  75%|███████▍  | 800/1073 [06:37<02:14,  2.04it/s]"
          ]
        },
        {
          "name": "stdout",
          "output_type": "stream",
          "text": [
            "Batch 800 | Loss: 0.0218 | Learning rate:  0.000072\n"
          ]
        },
        {
          "name": "stderr",
          "output_type": "stream",
          "text": [
            "Start training the model for one epoch...:  76%|███████▋  | 820/1073 [06:47<02:07,  1.99it/s]"
          ]
        },
        {
          "name": "stdout",
          "output_type": "stream",
          "text": [
            "Batch 820 | Loss: 0.0216 | Learning rate:  0.000072\n"
          ]
        },
        {
          "name": "stderr",
          "output_type": "stream",
          "text": [
            "Start training the model for one epoch...:  78%|███████▊  | 840/1073 [06:56<01:53,  2.05it/s]"
          ]
        },
        {
          "name": "stdout",
          "output_type": "stream",
          "text": [
            "Batch 840 | Loss: 0.0193 | Learning rate:  0.000072\n"
          ]
        },
        {
          "name": "stderr",
          "output_type": "stream",
          "text": [
            "Start training the model for one epoch...:  80%|████████  | 860/1073 [07:06<01:47,  1.99it/s]"
          ]
        },
        {
          "name": "stdout",
          "output_type": "stream",
          "text": [
            "Batch 860 | Loss: 0.0218 | Learning rate:  0.000071\n"
          ]
        },
        {
          "name": "stderr",
          "output_type": "stream",
          "text": [
            "Start training the model for one epoch...:  82%|████████▏ | 880/1073 [07:16<01:34,  2.04it/s]"
          ]
        },
        {
          "name": "stdout",
          "output_type": "stream",
          "text": [
            "Batch 880 | Loss: 0.0205 | Learning rate:  0.000071\n"
          ]
        },
        {
          "name": "stderr",
          "output_type": "stream",
          "text": [
            "Start training the model for one epoch...:  84%|████████▍ | 900/1073 [07:26<01:26,  2.01it/s]"
          ]
        },
        {
          "name": "stdout",
          "output_type": "stream",
          "text": [
            "Batch 900 | Loss: 0.0139 | Learning rate:  0.000071\n"
          ]
        },
        {
          "name": "stderr",
          "output_type": "stream",
          "text": [
            "Start training the model for one epoch...:  86%|████████▌ | 920/1073 [07:36<01:13,  2.08it/s]"
          ]
        },
        {
          "name": "stdout",
          "output_type": "stream",
          "text": [
            "Batch 920 | Loss: 0.0136 | Learning rate:  0.000071\n"
          ]
        },
        {
          "name": "stderr",
          "output_type": "stream",
          "text": [
            "Start training the model for one epoch...:  88%|████████▊ | 940/1073 [07:46<01:05,  2.02it/s]"
          ]
        },
        {
          "name": "stdout",
          "output_type": "stream",
          "text": [
            "Batch 940 | Loss: 0.0181 | Learning rate:  0.000071\n"
          ]
        },
        {
          "name": "stderr",
          "output_type": "stream",
          "text": [
            "Start training the model for one epoch...:  89%|████████▉ | 960/1073 [07:56<00:54,  2.06it/s]"
          ]
        },
        {
          "name": "stdout",
          "output_type": "stream",
          "text": [
            "Batch 960 | Loss: 0.0220 | Learning rate:  0.000071\n"
          ]
        },
        {
          "name": "stderr",
          "output_type": "stream",
          "text": [
            "Start training the model for one epoch...:  91%|█████████▏| 980/1073 [08:06<00:46,  2.00it/s]"
          ]
        },
        {
          "name": "stdout",
          "output_type": "stream",
          "text": [
            "Batch 980 | Loss: 0.0283 | Learning rate:  0.000070\n"
          ]
        },
        {
          "name": "stderr",
          "output_type": "stream",
          "text": [
            "Start training the model for one epoch...:  93%|█████████▎| 1000/1073 [08:15<00:36,  2.03it/s]"
          ]
        },
        {
          "name": "stdout",
          "output_type": "stream",
          "text": [
            "Batch 1000 | Loss: 0.0205 | Learning rate:  0.000070\n"
          ]
        },
        {
          "name": "stderr",
          "output_type": "stream",
          "text": [
            "Start training the model for one epoch...:  95%|█████████▌| 1020/1073 [08:25<00:26,  2.03it/s]"
          ]
        },
        {
          "name": "stdout",
          "output_type": "stream",
          "text": [
            "Batch 1020 | Loss: 0.0307 | Learning rate:  0.000070\n"
          ]
        },
        {
          "name": "stderr",
          "output_type": "stream",
          "text": [
            "Start training the model for one epoch...:  97%|█████████▋| 1040/1073 [08:35<00:16,  2.06it/s]"
          ]
        },
        {
          "name": "stdout",
          "output_type": "stream",
          "text": [
            "Batch 1040 | Loss: 0.0248 | Learning rate:  0.000070\n"
          ]
        },
        {
          "name": "stderr",
          "output_type": "stream",
          "text": [
            "Start training the model for one epoch...:  99%|█████████▉| 1060/1073 [08:45<00:06,  2.15it/s]"
          ]
        },
        {
          "name": "stdout",
          "output_type": "stream",
          "text": [
            "Batch 1060 | Loss: 0.0344 | Learning rate:  0.000070\n"
          ]
        },
        {
          "name": "stderr",
          "output_type": "stream",
          "text": [
            "Start training the model for one epoch...: 100%|██████████| 1073/1073 [08:51<00:00,  2.02it/s]\n",
            "120it [00:36,  3.27it/s]\n"
          ]
        },
        {
          "name": "stdout",
          "output_type": "stream",
          "text": [
            "Epoch: 25, train loss: 0.023991811096161355, val_loss: 0.04302333259644608, val_dice: 0.8333456291442662, val_IoU: 0.7577447906209316\n"
          ]
        },
        {
          "name": "stderr",
          "output_type": "stream",
          "text": [
            "Start training the model for one epoch...:   2%|▏         | 20/1073 [00:15<08:49,  1.99it/s]"
          ]
        },
        {
          "name": "stdout",
          "output_type": "stream",
          "text": [
            "Batch 20 | Loss: 0.0187 | Learning rate:  0.000070\n"
          ]
        },
        {
          "name": "stderr",
          "output_type": "stream",
          "text": [
            "Start training the model for one epoch...:   4%|▎         | 40/1073 [00:25<08:30,  2.02it/s]"
          ]
        },
        {
          "name": "stdout",
          "output_type": "stream",
          "text": [
            "Batch 40 | Loss: 0.0282 | Learning rate:  0.000069\n"
          ]
        },
        {
          "name": "stderr",
          "output_type": "stream",
          "text": [
            "Start training the model for one epoch...:   6%|▌         | 60/1073 [00:35<08:13,  2.05it/s]"
          ]
        },
        {
          "name": "stdout",
          "output_type": "stream",
          "text": [
            "Batch 60 | Loss: 0.0253 | Learning rate:  0.000069\n"
          ]
        },
        {
          "name": "stderr",
          "output_type": "stream",
          "text": [
            "Start training the model for one epoch...:   7%|▋         | 80/1073 [00:45<07:58,  2.07it/s]"
          ]
        },
        {
          "name": "stdout",
          "output_type": "stream",
          "text": [
            "Batch 80 | Loss: 0.0218 | Learning rate:  0.000069\n"
          ]
        },
        {
          "name": "stderr",
          "output_type": "stream",
          "text": [
            "Start training the model for one epoch...:   9%|▉         | 100/1073 [00:54<07:57,  2.04it/s]"
          ]
        },
        {
          "name": "stdout",
          "output_type": "stream",
          "text": [
            "Batch 100 | Loss: 0.0269 | Learning rate:  0.000069\n"
          ]
        },
        {
          "name": "stderr",
          "output_type": "stream",
          "text": [
            "Start training the model for one epoch...:  11%|█         | 120/1073 [01:04<07:48,  2.03it/s]"
          ]
        },
        {
          "name": "stdout",
          "output_type": "stream",
          "text": [
            "Batch 120 | Loss: 0.0195 | Learning rate:  0.000069\n"
          ]
        },
        {
          "name": "stderr",
          "output_type": "stream",
          "text": [
            "Start training the model for one epoch...:  13%|█▎        | 140/1073 [01:14<07:37,  2.04it/s]"
          ]
        },
        {
          "name": "stdout",
          "output_type": "stream",
          "text": [
            "Batch 140 | Loss: 0.0256 | Learning rate:  0.000069\n"
          ]
        },
        {
          "name": "stderr",
          "output_type": "stream",
          "text": [
            "Start training the model for one epoch...:  15%|█▍        | 160/1073 [01:24<07:27,  2.04it/s]"
          ]
        },
        {
          "name": "stdout",
          "output_type": "stream",
          "text": [
            "Batch 160 | Loss: 0.0213 | Learning rate:  0.000068\n"
          ]
        },
        {
          "name": "stderr",
          "output_type": "stream",
          "text": [
            "Start training the model for one epoch...:  17%|█▋        | 180/1073 [01:34<07:16,  2.04it/s]"
          ]
        },
        {
          "name": "stdout",
          "output_type": "stream",
          "text": [
            "Batch 180 | Loss: 0.0216 | Learning rate:  0.000068\n"
          ]
        },
        {
          "name": "stderr",
          "output_type": "stream",
          "text": [
            "Start training the model for one epoch...:  19%|█▊        | 200/1073 [01:43<07:02,  2.07it/s]"
          ]
        },
        {
          "name": "stdout",
          "output_type": "stream",
          "text": [
            "Batch 200 | Loss: 0.0132 | Learning rate:  0.000068\n"
          ]
        },
        {
          "name": "stderr",
          "output_type": "stream",
          "text": [
            "Start training the model for one epoch...:  21%|██        | 220/1073 [01:53<06:54,  2.06it/s]"
          ]
        },
        {
          "name": "stdout",
          "output_type": "stream",
          "text": [
            "Batch 220 | Loss: 0.0141 | Learning rate:  0.000068\n"
          ]
        },
        {
          "name": "stderr",
          "output_type": "stream",
          "text": [
            "Start training the model for one epoch...:  22%|██▏       | 240/1073 [02:03<06:55,  2.01it/s]"
          ]
        },
        {
          "name": "stdout",
          "output_type": "stream",
          "text": [
            "Batch 240 | Loss: 0.0149 | Learning rate:  0.000068\n"
          ]
        },
        {
          "name": "stderr",
          "output_type": "stream",
          "text": [
            "Start training the model for one epoch...:  24%|██▍       | 260/1073 [02:13<06:39,  2.04it/s]"
          ]
        },
        {
          "name": "stdout",
          "output_type": "stream",
          "text": [
            "Batch 260 | Loss: 0.0245 | Learning rate:  0.000068\n"
          ]
        },
        {
          "name": "stderr",
          "output_type": "stream",
          "text": [
            "Start training the model for one epoch...:  26%|██▌       | 280/1073 [02:23<06:34,  2.01it/s]"
          ]
        },
        {
          "name": "stdout",
          "output_type": "stream",
          "text": [
            "Batch 280 | Loss: 0.0212 | Learning rate:  0.000068\n"
          ]
        },
        {
          "name": "stderr",
          "output_type": "stream",
          "text": [
            "Start training the model for one epoch...:  28%|██▊       | 300/1073 [02:32<06:23,  2.01it/s]"
          ]
        },
        {
          "name": "stdout",
          "output_type": "stream",
          "text": [
            "Batch 300 | Loss: 0.0230 | Learning rate:  0.000067\n"
          ]
        },
        {
          "name": "stderr",
          "output_type": "stream",
          "text": [
            "Start training the model for one epoch...:  30%|██▉       | 320/1073 [02:42<06:15,  2.01it/s]"
          ]
        },
        {
          "name": "stdout",
          "output_type": "stream",
          "text": [
            "Batch 320 | Loss: 0.0116 | Learning rate:  0.000067\n"
          ]
        },
        {
          "name": "stderr",
          "output_type": "stream",
          "text": [
            "Start training the model for one epoch...:  32%|███▏      | 340/1073 [02:52<05:53,  2.07it/s]"
          ]
        },
        {
          "name": "stdout",
          "output_type": "stream",
          "text": [
            "Batch 340 | Loss: 0.0147 | Learning rate:  0.000067\n"
          ]
        },
        {
          "name": "stderr",
          "output_type": "stream",
          "text": [
            "Start training the model for one epoch...:  34%|███▎      | 360/1073 [03:02<05:55,  2.00it/s]"
          ]
        },
        {
          "name": "stdout",
          "output_type": "stream",
          "text": [
            "Batch 360 | Loss: 0.0363 | Learning rate:  0.000067\n"
          ]
        },
        {
          "name": "stderr",
          "output_type": "stream",
          "text": [
            "Start training the model for one epoch...:  35%|███▌      | 380/1073 [03:12<05:35,  2.07it/s]"
          ]
        },
        {
          "name": "stdout",
          "output_type": "stream",
          "text": [
            "Batch 380 | Loss: 0.0118 | Learning rate:  0.000067\n"
          ]
        },
        {
          "name": "stderr",
          "output_type": "stream",
          "text": [
            "Start training the model for one epoch...:  37%|███▋      | 400/1073 [03:21<05:30,  2.04it/s]"
          ]
        },
        {
          "name": "stdout",
          "output_type": "stream",
          "text": [
            "Batch 400 | Loss: 0.0287 | Learning rate:  0.000067\n"
          ]
        },
        {
          "name": "stderr",
          "output_type": "stream",
          "text": [
            "Start training the model for one epoch...:  39%|███▉      | 420/1073 [03:31<05:16,  2.06it/s]"
          ]
        },
        {
          "name": "stdout",
          "output_type": "stream",
          "text": [
            "Batch 420 | Loss: 0.0209 | Learning rate:  0.000066\n"
          ]
        },
        {
          "name": "stderr",
          "output_type": "stream",
          "text": [
            "Start training the model for one epoch...:  41%|████      | 440/1073 [03:41<05:14,  2.01it/s]"
          ]
        },
        {
          "name": "stdout",
          "output_type": "stream",
          "text": [
            "Batch 440 | Loss: 0.0186 | Learning rate:  0.000066\n"
          ]
        },
        {
          "name": "stderr",
          "output_type": "stream",
          "text": [
            "Start training the model for one epoch...:  43%|████▎     | 460/1073 [03:51<05:03,  2.02it/s]"
          ]
        },
        {
          "name": "stdout",
          "output_type": "stream",
          "text": [
            "Batch 460 | Loss: 0.0250 | Learning rate:  0.000066\n"
          ]
        },
        {
          "name": "stderr",
          "output_type": "stream",
          "text": [
            "Start training the model for one epoch...:  45%|████▍     | 480/1073 [04:01<04:56,  2.00it/s]"
          ]
        },
        {
          "name": "stdout",
          "output_type": "stream",
          "text": [
            "Batch 480 | Loss: 0.0226 | Learning rate:  0.000066\n"
          ]
        },
        {
          "name": "stderr",
          "output_type": "stream",
          "text": [
            "Start training the model for one epoch...:  47%|████▋     | 500/1073 [04:10<04:33,  2.09it/s]"
          ]
        },
        {
          "name": "stdout",
          "output_type": "stream",
          "text": [
            "Batch 500 | Loss: 0.0225 | Learning rate:  0.000066\n"
          ]
        },
        {
          "name": "stderr",
          "output_type": "stream",
          "text": [
            "Start training the model for one epoch...:  48%|████▊     | 520/1073 [04:20<04:33,  2.02it/s]"
          ]
        },
        {
          "name": "stdout",
          "output_type": "stream",
          "text": [
            "Batch 520 | Loss: 0.0180 | Learning rate:  0.000066\n"
          ]
        },
        {
          "name": "stderr",
          "output_type": "stream",
          "text": [
            "Start training the model for one epoch...:  50%|█████     | 540/1073 [04:30<04:22,  2.03it/s]"
          ]
        },
        {
          "name": "stdout",
          "output_type": "stream",
          "text": [
            "Batch 540 | Loss: 0.0186 | Learning rate:  0.000066\n"
          ]
        },
        {
          "name": "stderr",
          "output_type": "stream",
          "text": [
            "Start training the model for one epoch...:  52%|█████▏    | 560/1073 [04:40<04:14,  2.02it/s]"
          ]
        },
        {
          "name": "stdout",
          "output_type": "stream",
          "text": [
            "Batch 560 | Loss: 0.0159 | Learning rate:  0.000065\n"
          ]
        },
        {
          "name": "stderr",
          "output_type": "stream",
          "text": [
            "Start training the model for one epoch...:  54%|█████▍    | 580/1073 [04:49<03:56,  2.08it/s]"
          ]
        },
        {
          "name": "stdout",
          "output_type": "stream",
          "text": [
            "Batch 580 | Loss: 0.0223 | Learning rate:  0.000065\n"
          ]
        },
        {
          "name": "stderr",
          "output_type": "stream",
          "text": [
            "Start training the model for one epoch...:  56%|█████▌    | 600/1073 [04:59<03:52,  2.04it/s]"
          ]
        },
        {
          "name": "stdout",
          "output_type": "stream",
          "text": [
            "Batch 600 | Loss: 0.0263 | Learning rate:  0.000065\n"
          ]
        },
        {
          "name": "stderr",
          "output_type": "stream",
          "text": [
            "Start training the model for one epoch...:  58%|█████▊    | 620/1073 [05:09<03:45,  2.01it/s]"
          ]
        },
        {
          "name": "stdout",
          "output_type": "stream",
          "text": [
            "Batch 620 | Loss: 0.0256 | Learning rate:  0.000065\n"
          ]
        },
        {
          "name": "stderr",
          "output_type": "stream",
          "text": [
            "Start training the model for one epoch...:  60%|█████▉    | 640/1073 [05:19<03:33,  2.03it/s]"
          ]
        },
        {
          "name": "stdout",
          "output_type": "stream",
          "text": [
            "Batch 640 | Loss: 0.0287 | Learning rate:  0.000065\n"
          ]
        },
        {
          "name": "stderr",
          "output_type": "stream",
          "text": [
            "Start training the model for one epoch...:  62%|██████▏   | 660/1073 [05:29<03:20,  2.06it/s]"
          ]
        },
        {
          "name": "stdout",
          "output_type": "stream",
          "text": [
            "Batch 660 | Loss: 0.0183 | Learning rate:  0.000065\n"
          ]
        },
        {
          "name": "stderr",
          "output_type": "stream",
          "text": [
            "Start training the model for one epoch...:  63%|██████▎   | 680/1073 [05:39<03:15,  2.01it/s]"
          ]
        },
        {
          "name": "stdout",
          "output_type": "stream",
          "text": [
            "Batch 680 | Loss: 0.0212 | Learning rate:  0.000064\n"
          ]
        },
        {
          "name": "stderr",
          "output_type": "stream",
          "text": [
            "Start training the model for one epoch...:  65%|██████▌   | 700/1073 [05:48<02:58,  2.09it/s]"
          ]
        },
        {
          "name": "stdout",
          "output_type": "stream",
          "text": [
            "Batch 700 | Loss: 0.0459 | Learning rate:  0.000064\n"
          ]
        },
        {
          "name": "stderr",
          "output_type": "stream",
          "text": [
            "Start training the model for one epoch...:  67%|██████▋   | 720/1073 [05:58<02:56,  2.00it/s]"
          ]
        },
        {
          "name": "stdout",
          "output_type": "stream",
          "text": [
            "Batch 720 | Loss: 0.0237 | Learning rate:  0.000064\n"
          ]
        },
        {
          "name": "stderr",
          "output_type": "stream",
          "text": [
            "Start training the model for one epoch...:  69%|██████▉   | 740/1073 [06:08<02:42,  2.05it/s]"
          ]
        },
        {
          "name": "stdout",
          "output_type": "stream",
          "text": [
            "Batch 740 | Loss: 0.0140 | Learning rate:  0.000064\n"
          ]
        },
        {
          "name": "stderr",
          "output_type": "stream",
          "text": [
            "Start training the model for one epoch...:  71%|███████   | 760/1073 [06:18<02:36,  2.00it/s]"
          ]
        },
        {
          "name": "stdout",
          "output_type": "stream",
          "text": [
            "Batch 760 | Loss: 0.0114 | Learning rate:  0.000064\n"
          ]
        },
        {
          "name": "stderr",
          "output_type": "stream",
          "text": [
            "Start training the model for one epoch...:  73%|███████▎  | 780/1073 [06:28<02:23,  2.04it/s]"
          ]
        },
        {
          "name": "stdout",
          "output_type": "stream",
          "text": [
            "Batch 780 | Loss: 0.0323 | Learning rate:  0.000064\n"
          ]
        },
        {
          "name": "stderr",
          "output_type": "stream",
          "text": [
            "Start training the model for one epoch...:  75%|███████▍  | 800/1073 [06:38<02:16,  2.00it/s]"
          ]
        },
        {
          "name": "stdout",
          "output_type": "stream",
          "text": [
            "Batch 800 | Loss: 0.0167 | Learning rate:  0.000064\n"
          ]
        },
        {
          "name": "stderr",
          "output_type": "stream",
          "text": [
            "Start training the model for one epoch...:  76%|███████▋  | 820/1073 [06:47<02:02,  2.06it/s]"
          ]
        },
        {
          "name": "stdout",
          "output_type": "stream",
          "text": [
            "Batch 820 | Loss: 0.0163 | Learning rate:  0.000063\n"
          ]
        },
        {
          "name": "stderr",
          "output_type": "stream",
          "text": [
            "Start training the model for one epoch...:  78%|███████▊  | 840/1073 [06:57<01:56,  2.00it/s]"
          ]
        },
        {
          "name": "stdout",
          "output_type": "stream",
          "text": [
            "Batch 840 | Loss: 0.0236 | Learning rate:  0.000063\n"
          ]
        },
        {
          "name": "stderr",
          "output_type": "stream",
          "text": [
            "Start training the model for one epoch...:  80%|████████  | 860/1073 [07:07<01:45,  2.03it/s]"
          ]
        },
        {
          "name": "stdout",
          "output_type": "stream",
          "text": [
            "Batch 860 | Loss: 0.0269 | Learning rate:  0.000063\n"
          ]
        },
        {
          "name": "stderr",
          "output_type": "stream",
          "text": [
            "Start training the model for one epoch...:  82%|████████▏ | 880/1073 [07:17<01:34,  2.04it/s]"
          ]
        },
        {
          "name": "stdout",
          "output_type": "stream",
          "text": [
            "Batch 880 | Loss: 0.0207 | Learning rate:  0.000063\n"
          ]
        },
        {
          "name": "stderr",
          "output_type": "stream",
          "text": [
            "Start training the model for one epoch...:  84%|████████▍ | 900/1073 [07:27<01:24,  2.05it/s]"
          ]
        },
        {
          "name": "stdout",
          "output_type": "stream",
          "text": [
            "Batch 900 | Loss: 0.0154 | Learning rate:  0.000063\n"
          ]
        },
        {
          "name": "stderr",
          "output_type": "stream",
          "text": [
            "Start training the model for one epoch...:  86%|████████▌ | 920/1073 [07:37<01:15,  2.03it/s]"
          ]
        },
        {
          "name": "stdout",
          "output_type": "stream",
          "text": [
            "Batch 920 | Loss: 0.0227 | Learning rate:  0.000063\n"
          ]
        },
        {
          "name": "stderr",
          "output_type": "stream",
          "text": [
            "Start training the model for one epoch...:  88%|████████▊ | 940/1073 [07:46<01:04,  2.06it/s]"
          ]
        },
        {
          "name": "stdout",
          "output_type": "stream",
          "text": [
            "Batch 940 | Loss: 0.0213 | Learning rate:  0.000062\n"
          ]
        },
        {
          "name": "stderr",
          "output_type": "stream",
          "text": [
            "Start training the model for one epoch...:  89%|████████▉ | 960/1073 [07:56<00:56,  1.99it/s]"
          ]
        },
        {
          "name": "stdout",
          "output_type": "stream",
          "text": [
            "Batch 960 | Loss: 0.0174 | Learning rate:  0.000062\n"
          ]
        },
        {
          "name": "stderr",
          "output_type": "stream",
          "text": [
            "Start training the model for one epoch...:  91%|█████████▏| 980/1073 [08:06<00:45,  2.06it/s]"
          ]
        },
        {
          "name": "stdout",
          "output_type": "stream",
          "text": [
            "Batch 980 | Loss: 0.0443 | Learning rate:  0.000062\n"
          ]
        },
        {
          "name": "stderr",
          "output_type": "stream",
          "text": [
            "Start training the model for one epoch...:  93%|█████████▎| 1000/1073 [08:16<00:35,  2.05it/s]"
          ]
        },
        {
          "name": "stdout",
          "output_type": "stream",
          "text": [
            "Batch 1000 | Loss: 0.0381 | Learning rate:  0.000062\n"
          ]
        },
        {
          "name": "stderr",
          "output_type": "stream",
          "text": [
            "Start training the model for one epoch...:  95%|█████████▌| 1020/1073 [08:26<00:25,  2.06it/s]"
          ]
        },
        {
          "name": "stdout",
          "output_type": "stream",
          "text": [
            "Batch 1020 | Loss: 0.0261 | Learning rate:  0.000062\n"
          ]
        },
        {
          "name": "stderr",
          "output_type": "stream",
          "text": [
            "Start training the model for one epoch...:  97%|█████████▋| 1040/1073 [08:35<00:16,  2.05it/s]"
          ]
        },
        {
          "name": "stdout",
          "output_type": "stream",
          "text": [
            "Batch 1040 | Loss: 0.0171 | Learning rate:  0.000062\n"
          ]
        },
        {
          "name": "stderr",
          "output_type": "stream",
          "text": [
            "Start training the model for one epoch...:  99%|█████████▉| 1060/1073 [08:45<00:06,  2.16it/s]"
          ]
        },
        {
          "name": "stdout",
          "output_type": "stream",
          "text": [
            "Batch 1060 | Loss: 0.0096 | Learning rate:  0.000062\n"
          ]
        },
        {
          "name": "stderr",
          "output_type": "stream",
          "text": [
            "Start training the model for one epoch...: 100%|██████████| 1073/1073 [08:51<00:00,  2.02it/s]\n",
            "120it [00:36,  3.29it/s]\n"
          ]
        },
        {
          "name": "stdout",
          "output_type": "stream",
          "text": [
            "Epoch: 26, train loss: 0.023242703598176668, val_loss: 0.04185207344902058, val_dice: 0.8354787425224469, val_IoU: 0.7610182744821148\n"
          ]
        },
        {
          "name": "stderr",
          "output_type": "stream",
          "text": [
            "Start training the model for one epoch...:   2%|▏         | 20/1073 [00:15<08:53,  1.97it/s]"
          ]
        },
        {
          "name": "stdout",
          "output_type": "stream",
          "text": [
            "Batch 20 | Loss: 0.0247 | Learning rate:  0.000061\n"
          ]
        },
        {
          "name": "stderr",
          "output_type": "stream",
          "text": [
            "Start training the model for one epoch...:   4%|▎         | 40/1073 [00:25<08:20,  2.06it/s]"
          ]
        },
        {
          "name": "stdout",
          "output_type": "stream",
          "text": [
            "Batch 40 | Loss: 0.0154 | Learning rate:  0.000061\n"
          ]
        },
        {
          "name": "stderr",
          "output_type": "stream",
          "text": [
            "Start training the model for one epoch...:   6%|▌         | 60/1073 [00:34<08:21,  2.02it/s]"
          ]
        },
        {
          "name": "stdout",
          "output_type": "stream",
          "text": [
            "Batch 60 | Loss: 0.0167 | Learning rate:  0.000061\n"
          ]
        },
        {
          "name": "stderr",
          "output_type": "stream",
          "text": [
            "Start training the model for one epoch...:   7%|▋         | 80/1073 [00:45<08:16,  2.00it/s]"
          ]
        },
        {
          "name": "stdout",
          "output_type": "stream",
          "text": [
            "Batch 80 | Loss: 0.0360 | Learning rate:  0.000061\n"
          ]
        },
        {
          "name": "stderr",
          "output_type": "stream",
          "text": [
            "Start training the model for one epoch...:   9%|▉         | 100/1073 [00:55<08:04,  2.01it/s]"
          ]
        },
        {
          "name": "stdout",
          "output_type": "stream",
          "text": [
            "Batch 100 | Loss: 0.0252 | Learning rate:  0.000061\n"
          ]
        },
        {
          "name": "stderr",
          "output_type": "stream",
          "text": [
            "Start training the model for one epoch...:  11%|█         | 120/1073 [01:04<07:36,  2.09it/s]"
          ]
        },
        {
          "name": "stdout",
          "output_type": "stream",
          "text": [
            "Batch 120 | Loss: 0.0184 | Learning rate:  0.000060\n"
          ]
        },
        {
          "name": "stderr",
          "output_type": "stream",
          "text": [
            "Start training the model for one epoch...:  13%|█▎        | 140/1073 [01:14<07:35,  2.05it/s]"
          ]
        },
        {
          "name": "stdout",
          "output_type": "stream",
          "text": [
            "Batch 140 | Loss: 0.0202 | Learning rate:  0.000060\n"
          ]
        },
        {
          "name": "stderr",
          "output_type": "stream",
          "text": [
            "Start training the model for one epoch...:  15%|█▍        | 160/1073 [01:24<07:27,  2.04it/s]"
          ]
        },
        {
          "name": "stdout",
          "output_type": "stream",
          "text": [
            "Batch 160 | Loss: 0.0229 | Learning rate:  0.000060\n"
          ]
        },
        {
          "name": "stderr",
          "output_type": "stream",
          "text": [
            "Start training the model for one epoch...:  17%|█▋        | 180/1073 [01:34<07:15,  2.05it/s]"
          ]
        },
        {
          "name": "stdout",
          "output_type": "stream",
          "text": [
            "Batch 180 | Loss: 0.0362 | Learning rate:  0.000060\n"
          ]
        },
        {
          "name": "stderr",
          "output_type": "stream",
          "text": [
            "Start training the model for one epoch...:  19%|█▊        | 200/1073 [01:43<07:10,  2.03it/s]"
          ]
        },
        {
          "name": "stdout",
          "output_type": "stream",
          "text": [
            "Batch 200 | Loss: 0.0235 | Learning rate:  0.000060\n"
          ]
        },
        {
          "name": "stderr",
          "output_type": "stream",
          "text": [
            "Start training the model for one epoch...:  21%|██        | 220/1073 [01:53<06:49,  2.08it/s]"
          ]
        },
        {
          "name": "stdout",
          "output_type": "stream",
          "text": [
            "Batch 220 | Loss: 0.0244 | Learning rate:  0.000060\n"
          ]
        },
        {
          "name": "stderr",
          "output_type": "stream",
          "text": [
            "Start training the model for one epoch...:  22%|██▏       | 240/1073 [02:03<06:44,  2.06it/s]"
          ]
        },
        {
          "name": "stdout",
          "output_type": "stream",
          "text": [
            "Batch 240 | Loss: 0.0232 | Learning rate:  0.000060\n"
          ]
        },
        {
          "name": "stderr",
          "output_type": "stream",
          "text": [
            "Start training the model for one epoch...:  24%|██▍       | 260/1073 [02:12<06:40,  2.03it/s]"
          ]
        },
        {
          "name": "stdout",
          "output_type": "stream",
          "text": [
            "Batch 260 | Loss: 0.0255 | Learning rate:  0.000059\n"
          ]
        },
        {
          "name": "stderr",
          "output_type": "stream",
          "text": [
            "Start training the model for one epoch...:  26%|██▌       | 280/1073 [02:22<06:26,  2.05it/s]"
          ]
        },
        {
          "name": "stdout",
          "output_type": "stream",
          "text": [
            "Batch 280 | Loss: 0.0170 | Learning rate:  0.000059\n"
          ]
        },
        {
          "name": "stderr",
          "output_type": "stream",
          "text": [
            "Start training the model for one epoch...:  28%|██▊       | 300/1073 [02:32<06:11,  2.08it/s]"
          ]
        },
        {
          "name": "stdout",
          "output_type": "stream",
          "text": [
            "Batch 300 | Loss: 0.0134 | Learning rate:  0.000059\n"
          ]
        },
        {
          "name": "stderr",
          "output_type": "stream",
          "text": [
            "Start training the model for one epoch...:  30%|██▉       | 320/1073 [02:42<06:11,  2.02it/s]"
          ]
        },
        {
          "name": "stdout",
          "output_type": "stream",
          "text": [
            "Batch 320 | Loss: 0.0211 | Learning rate:  0.000059\n"
          ]
        },
        {
          "name": "stderr",
          "output_type": "stream",
          "text": [
            "Start training the model for one epoch...:  32%|███▏      | 340/1073 [02:52<06:00,  2.04it/s]"
          ]
        },
        {
          "name": "stdout",
          "output_type": "stream",
          "text": [
            "Batch 340 | Loss: 0.0261 | Learning rate:  0.000059\n"
          ]
        },
        {
          "name": "stderr",
          "output_type": "stream",
          "text": [
            "Start training the model for one epoch...:  34%|███▎      | 360/1073 [03:01<05:47,  2.05it/s]"
          ]
        },
        {
          "name": "stdout",
          "output_type": "stream",
          "text": [
            "Batch 360 | Loss: 0.0155 | Learning rate:  0.000059\n"
          ]
        },
        {
          "name": "stderr",
          "output_type": "stream",
          "text": [
            "Start training the model for one epoch...:  35%|███▌      | 380/1073 [03:11<05:41,  2.03it/s]"
          ]
        },
        {
          "name": "stdout",
          "output_type": "stream",
          "text": [
            "Batch 380 | Loss: 0.0293 | Learning rate:  0.000059\n"
          ]
        },
        {
          "name": "stderr",
          "output_type": "stream",
          "text": [
            "Start training the model for one epoch...:  37%|███▋      | 400/1073 [03:21<05:38,  1.99it/s]"
          ]
        },
        {
          "name": "stdout",
          "output_type": "stream",
          "text": [
            "Batch 400 | Loss: 0.0257 | Learning rate:  0.000058\n"
          ]
        },
        {
          "name": "stderr",
          "output_type": "stream",
          "text": [
            "Start training the model for one epoch...:  39%|███▉      | 420/1073 [03:31<05:17,  2.06it/s]"
          ]
        },
        {
          "name": "stdout",
          "output_type": "stream",
          "text": [
            "Batch 420 | Loss: 0.0335 | Learning rate:  0.000058\n"
          ]
        },
        {
          "name": "stderr",
          "output_type": "stream",
          "text": [
            "Start training the model for one epoch...:  41%|████      | 440/1073 [03:41<05:09,  2.05it/s]"
          ]
        },
        {
          "name": "stdout",
          "output_type": "stream",
          "text": [
            "Batch 440 | Loss: 0.0252 | Learning rate:  0.000058\n"
          ]
        },
        {
          "name": "stderr",
          "output_type": "stream",
          "text": [
            "Start training the model for one epoch...:  43%|████▎     | 460/1073 [03:50<04:58,  2.06it/s]"
          ]
        },
        {
          "name": "stdout",
          "output_type": "stream",
          "text": [
            "Batch 460 | Loss: 0.0183 | Learning rate:  0.000058\n"
          ]
        },
        {
          "name": "stderr",
          "output_type": "stream",
          "text": [
            "Start training the model for one epoch...:  45%|████▍     | 480/1073 [04:00<04:52,  2.02it/s]"
          ]
        },
        {
          "name": "stdout",
          "output_type": "stream",
          "text": [
            "Batch 480 | Loss: 0.0184 | Learning rate:  0.000058\n"
          ]
        },
        {
          "name": "stderr",
          "output_type": "stream",
          "text": [
            "Start training the model for one epoch...:  47%|████▋     | 500/1073 [04:10<04:37,  2.06it/s]"
          ]
        },
        {
          "name": "stdout",
          "output_type": "stream",
          "text": [
            "Batch 500 | Loss: 0.0280 | Learning rate:  0.000058\n"
          ]
        },
        {
          "name": "stderr",
          "output_type": "stream",
          "text": [
            "Start training the model for one epoch...:  48%|████▊     | 520/1073 [04:20<04:29,  2.05it/s]"
          ]
        },
        {
          "name": "stdout",
          "output_type": "stream",
          "text": [
            "Batch 520 | Loss: 0.0175 | Learning rate:  0.000057\n"
          ]
        },
        {
          "name": "stderr",
          "output_type": "stream",
          "text": [
            "Start training the model for one epoch...:  50%|█████     | 540/1073 [04:30<04:24,  2.01it/s]"
          ]
        },
        {
          "name": "stdout",
          "output_type": "stream",
          "text": [
            "Batch 540 | Loss: 0.0126 | Learning rate:  0.000057\n"
          ]
        },
        {
          "name": "stderr",
          "output_type": "stream",
          "text": [
            "Start training the model for one epoch...:  52%|█████▏    | 560/1073 [04:40<04:14,  2.01it/s]"
          ]
        },
        {
          "name": "stdout",
          "output_type": "stream",
          "text": [
            "Batch 560 | Loss: 0.0176 | Learning rate:  0.000057\n"
          ]
        },
        {
          "name": "stderr",
          "output_type": "stream",
          "text": [
            "Start training the model for one epoch...:  54%|█████▍    | 580/1073 [04:49<04:01,  2.04it/s]"
          ]
        },
        {
          "name": "stdout",
          "output_type": "stream",
          "text": [
            "Batch 580 | Loss: 0.0216 | Learning rate:  0.000057\n"
          ]
        },
        {
          "name": "stderr",
          "output_type": "stream",
          "text": [
            "Start training the model for one epoch...:  56%|█████▌    | 600/1073 [04:59<03:52,  2.03it/s]"
          ]
        },
        {
          "name": "stdout",
          "output_type": "stream",
          "text": [
            "Batch 600 | Loss: 0.0185 | Learning rate:  0.000057\n"
          ]
        },
        {
          "name": "stderr",
          "output_type": "stream",
          "text": [
            "Start training the model for one epoch...:  58%|█████▊    | 620/1073 [05:09<03:40,  2.05it/s]"
          ]
        },
        {
          "name": "stdout",
          "output_type": "stream",
          "text": [
            "Batch 620 | Loss: 0.0283 | Learning rate:  0.000057\n"
          ]
        },
        {
          "name": "stderr",
          "output_type": "stream",
          "text": [
            "Start training the model for one epoch...:  60%|█████▉    | 640/1073 [05:19<03:33,  2.03it/s]"
          ]
        },
        {
          "name": "stdout",
          "output_type": "stream",
          "text": [
            "Batch 640 | Loss: 0.0170 | Learning rate:  0.000057\n"
          ]
        },
        {
          "name": "stderr",
          "output_type": "stream",
          "text": [
            "Start training the model for one epoch...:  62%|██████▏   | 660/1073 [05:29<03:18,  2.08it/s]"
          ]
        },
        {
          "name": "stdout",
          "output_type": "stream",
          "text": [
            "Batch 660 | Loss: 0.0285 | Learning rate:  0.000056\n"
          ]
        },
        {
          "name": "stderr",
          "output_type": "stream",
          "text": [
            "Start training the model for one epoch...:  63%|██████▎   | 680/1073 [05:38<03:14,  2.02it/s]"
          ]
        },
        {
          "name": "stdout",
          "output_type": "stream",
          "text": [
            "Batch 680 | Loss: 0.0176 | Learning rate:  0.000056\n"
          ]
        },
        {
          "name": "stderr",
          "output_type": "stream",
          "text": [
            "Start training the model for one epoch...:  65%|██████▌   | 700/1073 [05:48<03:00,  2.07it/s]"
          ]
        },
        {
          "name": "stdout",
          "output_type": "stream",
          "text": [
            "Batch 700 | Loss: 0.0201 | Learning rate:  0.000056\n"
          ]
        },
        {
          "name": "stderr",
          "output_type": "stream",
          "text": [
            "Start training the model for one epoch...:  67%|██████▋   | 720/1073 [05:58<02:56,  2.00it/s]"
          ]
        },
        {
          "name": "stdout",
          "output_type": "stream",
          "text": [
            "Batch 720 | Loss: 0.0173 | Learning rate:  0.000056\n"
          ]
        },
        {
          "name": "stderr",
          "output_type": "stream",
          "text": [
            "Start training the model for one epoch...:  69%|██████▉   | 740/1073 [06:08<02:40,  2.07it/s]"
          ]
        },
        {
          "name": "stdout",
          "output_type": "stream",
          "text": [
            "Batch 740 | Loss: 0.0294 | Learning rate:  0.000056\n"
          ]
        },
        {
          "name": "stderr",
          "output_type": "stream",
          "text": [
            "Start training the model for one epoch...:  71%|███████   | 760/1073 [06:18<02:36,  2.00it/s]"
          ]
        },
        {
          "name": "stdout",
          "output_type": "stream",
          "text": [
            "Batch 760 | Loss: 0.0188 | Learning rate:  0.000056\n"
          ]
        },
        {
          "name": "stderr",
          "output_type": "stream",
          "text": [
            "Start training the model for one epoch...:  73%|███████▎  | 780/1073 [06:28<02:25,  2.02it/s]"
          ]
        },
        {
          "name": "stdout",
          "output_type": "stream",
          "text": [
            "Batch 780 | Loss: 0.0213 | Learning rate:  0.000056\n"
          ]
        },
        {
          "name": "stderr",
          "output_type": "stream",
          "text": [
            "Start training the model for one epoch...:  75%|███████▍  | 800/1073 [06:38<02:14,  2.03it/s]"
          ]
        },
        {
          "name": "stdout",
          "output_type": "stream",
          "text": [
            "Batch 800 | Loss: 0.0175 | Learning rate:  0.000055\n"
          ]
        },
        {
          "name": "stderr",
          "output_type": "stream",
          "text": [
            "Start training the model for one epoch...:  76%|███████▋  | 820/1073 [06:47<02:04,  2.04it/s]"
          ]
        },
        {
          "name": "stdout",
          "output_type": "stream",
          "text": [
            "Batch 820 | Loss: 0.0238 | Learning rate:  0.000055\n"
          ]
        },
        {
          "name": "stderr",
          "output_type": "stream",
          "text": [
            "Start training the model for one epoch...:  78%|███████▊  | 840/1073 [06:57<01:55,  2.02it/s]"
          ]
        },
        {
          "name": "stdout",
          "output_type": "stream",
          "text": [
            "Batch 840 | Loss: 0.0209 | Learning rate:  0.000055\n"
          ]
        },
        {
          "name": "stderr",
          "output_type": "stream",
          "text": [
            "Start training the model for one epoch...:  80%|████████  | 860/1073 [07:07<01:43,  2.06it/s]"
          ]
        },
        {
          "name": "stdout",
          "output_type": "stream",
          "text": [
            "Batch 860 | Loss: 0.0227 | Learning rate:  0.000055\n"
          ]
        },
        {
          "name": "stderr",
          "output_type": "stream",
          "text": [
            "Start training the model for one epoch...:  82%|████████▏ | 880/1073 [07:17<01:35,  2.02it/s]"
          ]
        },
        {
          "name": "stdout",
          "output_type": "stream",
          "text": [
            "Batch 880 | Loss: 0.0181 | Learning rate:  0.000055\n"
          ]
        },
        {
          "name": "stderr",
          "output_type": "stream",
          "text": [
            "Start training the model for one epoch...:  84%|████████▍ | 900/1073 [07:27<01:25,  2.03it/s]"
          ]
        },
        {
          "name": "stdout",
          "output_type": "stream",
          "text": [
            "Batch 900 | Loss: 0.0169 | Learning rate:  0.000055\n"
          ]
        },
        {
          "name": "stderr",
          "output_type": "stream",
          "text": [
            "Start training the model for one epoch...:  86%|████████▌ | 920/1073 [07:36<01:15,  2.03it/s]"
          ]
        },
        {
          "name": "stdout",
          "output_type": "stream",
          "text": [
            "Batch 920 | Loss: 0.0171 | Learning rate:  0.000054\n"
          ]
        },
        {
          "name": "stderr",
          "output_type": "stream",
          "text": [
            "Start training the model for one epoch...:  88%|████████▊ | 940/1073 [07:46<01:04,  2.07it/s]"
          ]
        },
        {
          "name": "stdout",
          "output_type": "stream",
          "text": [
            "Batch 940 | Loss: 0.0176 | Learning rate:  0.000054\n"
          ]
        },
        {
          "name": "stderr",
          "output_type": "stream",
          "text": [
            "Start training the model for one epoch...:  89%|████████▉ | 960/1073 [07:56<00:55,  2.03it/s]"
          ]
        },
        {
          "name": "stdout",
          "output_type": "stream",
          "text": [
            "Batch 960 | Loss: 0.0218 | Learning rate:  0.000054\n"
          ]
        },
        {
          "name": "stderr",
          "output_type": "stream",
          "text": [
            "Start training the model for one epoch...:  91%|█████████▏| 980/1073 [08:06<00:45,  2.04it/s]"
          ]
        },
        {
          "name": "stdout",
          "output_type": "stream",
          "text": [
            "Batch 980 | Loss: 0.0140 | Learning rate:  0.000054\n"
          ]
        },
        {
          "name": "stderr",
          "output_type": "stream",
          "text": [
            "Start training the model for one epoch...:  93%|█████████▎| 1000/1073 [08:15<00:36,  2.00it/s]"
          ]
        },
        {
          "name": "stdout",
          "output_type": "stream",
          "text": [
            "Batch 1000 | Loss: 0.0189 | Learning rate:  0.000054\n"
          ]
        },
        {
          "name": "stderr",
          "output_type": "stream",
          "text": [
            "Start training the model for one epoch...:  95%|█████████▌| 1020/1073 [08:25<00:25,  2.06it/s]"
          ]
        },
        {
          "name": "stdout",
          "output_type": "stream",
          "text": [
            "Batch 1020 | Loss: 0.0125 | Learning rate:  0.000054\n"
          ]
        },
        {
          "name": "stderr",
          "output_type": "stream",
          "text": [
            "Start training the model for one epoch...:  97%|█████████▋| 1040/1073 [08:35<00:16,  2.01it/s]"
          ]
        },
        {
          "name": "stdout",
          "output_type": "stream",
          "text": [
            "Batch 1040 | Loss: 0.0550 | Learning rate:  0.000054\n"
          ]
        },
        {
          "name": "stderr",
          "output_type": "stream",
          "text": [
            "Start training the model for one epoch...:  99%|█████████▉| 1060/1073 [08:45<00:06,  2.15it/s]"
          ]
        },
        {
          "name": "stdout",
          "output_type": "stream",
          "text": [
            "Batch 1060 | Loss: 0.0282 | Learning rate:  0.000053\n"
          ]
        },
        {
          "name": "stderr",
          "output_type": "stream",
          "text": [
            "Start training the model for one epoch...: 100%|██████████| 1073/1073 [08:51<00:00,  2.02it/s]\n",
            "120it [00:36,  3.28it/s]\n"
          ]
        },
        {
          "name": "stdout",
          "output_type": "stream",
          "text": [
            "Epoch: 27, train loss: 0.022715335804708685, val_loss: 0.04067181046120823, val_dice: 0.8392272782045785, val_IoU: 0.7639688112211253\n"
          ]
        },
        {
          "name": "stderr",
          "output_type": "stream",
          "text": [
            "Start training the model for one epoch...:   2%|▏         | 20/1073 [00:15<08:51,  1.98it/s]"
          ]
        },
        {
          "name": "stdout",
          "output_type": "stream",
          "text": [
            "Batch 20 | Loss: 0.0187 | Learning rate:  0.000053\n"
          ]
        },
        {
          "name": "stderr",
          "output_type": "stream",
          "text": [
            "Start training the model for one epoch...:   4%|▎         | 40/1073 [00:25<08:23,  2.05it/s]"
          ]
        },
        {
          "name": "stdout",
          "output_type": "stream",
          "text": [
            "Batch 40 | Loss: 0.0253 | Learning rate:  0.000053\n"
          ]
        },
        {
          "name": "stderr",
          "output_type": "stream",
          "text": [
            "Start training the model for one epoch...:   6%|▌         | 60/1073 [00:34<08:17,  2.04it/s]"
          ]
        },
        {
          "name": "stdout",
          "output_type": "stream",
          "text": [
            "Batch 60 | Loss: 0.0238 | Learning rate:  0.000053\n"
          ]
        },
        {
          "name": "stderr",
          "output_type": "stream",
          "text": [
            "Start training the model for one epoch...:   7%|▋         | 80/1073 [00:44<07:59,  2.07it/s]"
          ]
        },
        {
          "name": "stdout",
          "output_type": "stream",
          "text": [
            "Batch 80 | Loss: 0.0264 | Learning rate:  0.000053\n"
          ]
        },
        {
          "name": "stderr",
          "output_type": "stream",
          "text": [
            "Start training the model for one epoch...:   9%|▉         | 100/1073 [00:54<08:02,  2.02it/s]"
          ]
        },
        {
          "name": "stdout",
          "output_type": "stream",
          "text": [
            "Batch 100 | Loss: 0.0268 | Learning rate:  0.000053\n"
          ]
        },
        {
          "name": "stderr",
          "output_type": "stream",
          "text": [
            "Start training the model for one epoch...:  11%|█         | 120/1073 [01:04<07:44,  2.05it/s]"
          ]
        },
        {
          "name": "stdout",
          "output_type": "stream",
          "text": [
            "Batch 120 | Loss: 0.0171 | Learning rate:  0.000052\n"
          ]
        },
        {
          "name": "stderr",
          "output_type": "stream",
          "text": [
            "Start training the model for one epoch...:  13%|█▎        | 140/1073 [01:14<07:44,  2.01it/s]"
          ]
        },
        {
          "name": "stdout",
          "output_type": "stream",
          "text": [
            "Batch 140 | Loss: 0.0307 | Learning rate:  0.000052\n"
          ]
        },
        {
          "name": "stderr",
          "output_type": "stream",
          "text": [
            "Start training the model for one epoch...:  15%|█▍        | 160/1073 [01:23<07:35,  2.01it/s]"
          ]
        },
        {
          "name": "stdout",
          "output_type": "stream",
          "text": [
            "Batch 160 | Loss: 0.0128 | Learning rate:  0.000052\n"
          ]
        },
        {
          "name": "stderr",
          "output_type": "stream",
          "text": [
            "Start training the model for one epoch...:  17%|█▋        | 180/1073 [01:33<07:21,  2.02it/s]"
          ]
        },
        {
          "name": "stdout",
          "output_type": "stream",
          "text": [
            "Batch 180 | Loss: 0.0190 | Learning rate:  0.000052\n"
          ]
        },
        {
          "name": "stderr",
          "output_type": "stream",
          "text": [
            "Start training the model for one epoch...:  19%|█▊        | 200/1073 [01:43<07:06,  2.05it/s]"
          ]
        },
        {
          "name": "stdout",
          "output_type": "stream",
          "text": [
            "Batch 200 | Loss: 0.0301 | Learning rate:  0.000052\n"
          ]
        },
        {
          "name": "stderr",
          "output_type": "stream",
          "text": [
            "Start training the model for one epoch...:  21%|██        | 220/1073 [01:53<06:57,  2.04it/s]"
          ]
        },
        {
          "name": "stdout",
          "output_type": "stream",
          "text": [
            "Batch 220 | Loss: 0.0152 | Learning rate:  0.000052\n"
          ]
        },
        {
          "name": "stderr",
          "output_type": "stream",
          "text": [
            "Start training the model for one epoch...:  22%|██▏       | 240/1073 [02:03<06:43,  2.06it/s]"
          ]
        },
        {
          "name": "stdout",
          "output_type": "stream",
          "text": [
            "Batch 240 | Loss: 0.0282 | Learning rate:  0.000052\n"
          ]
        },
        {
          "name": "stderr",
          "output_type": "stream",
          "text": [
            "Start training the model for one epoch...:  24%|██▍       | 260/1073 [02:12<06:42,  2.02it/s]"
          ]
        },
        {
          "name": "stdout",
          "output_type": "stream",
          "text": [
            "Batch 260 | Loss: 0.0188 | Learning rate:  0.000051\n"
          ]
        },
        {
          "name": "stderr",
          "output_type": "stream",
          "text": [
            "Start training the model for one epoch...:  26%|██▌       | 280/1073 [02:22<06:21,  2.08it/s]"
          ]
        },
        {
          "name": "stdout",
          "output_type": "stream",
          "text": [
            "Batch 280 | Loss: 0.0329 | Learning rate:  0.000051\n"
          ]
        },
        {
          "name": "stderr",
          "output_type": "stream",
          "text": [
            "Start training the model for one epoch...:  28%|██▊       | 300/1073 [02:32<06:16,  2.05it/s]"
          ]
        },
        {
          "name": "stdout",
          "output_type": "stream",
          "text": [
            "Batch 300 | Loss: 0.0232 | Learning rate:  0.000051\n"
          ]
        },
        {
          "name": "stderr",
          "output_type": "stream",
          "text": [
            "Start training the model for one epoch...:  30%|██▉       | 320/1073 [02:42<06:05,  2.06it/s]"
          ]
        },
        {
          "name": "stdout",
          "output_type": "stream",
          "text": [
            "Batch 320 | Loss: 0.0208 | Learning rate:  0.000051\n"
          ]
        },
        {
          "name": "stderr",
          "output_type": "stream",
          "text": [
            "Start training the model for one epoch...:  32%|███▏      | 340/1073 [02:52<06:08,  1.99it/s]"
          ]
        },
        {
          "name": "stdout",
          "output_type": "stream",
          "text": [
            "Batch 340 | Loss: 0.0200 | Learning rate:  0.000051\n"
          ]
        },
        {
          "name": "stderr",
          "output_type": "stream",
          "text": [
            "Start training the model for one epoch...:  34%|███▎      | 360/1073 [03:01<05:48,  2.04it/s]"
          ]
        },
        {
          "name": "stdout",
          "output_type": "stream",
          "text": [
            "Batch 360 | Loss: 0.0330 | Learning rate:  0.000051\n"
          ]
        },
        {
          "name": "stderr",
          "output_type": "stream",
          "text": [
            "Start training the model for one epoch...:  35%|███▌      | 380/1073 [03:11<05:43,  2.02it/s]"
          ]
        },
        {
          "name": "stdout",
          "output_type": "stream",
          "text": [
            "Batch 380 | Loss: 0.0167 | Learning rate:  0.000051\n"
          ]
        },
        {
          "name": "stderr",
          "output_type": "stream",
          "text": [
            "Start training the model for one epoch...:  37%|███▋      | 400/1073 [03:21<05:28,  2.05it/s]"
          ]
        },
        {
          "name": "stdout",
          "output_type": "stream",
          "text": [
            "Batch 400 | Loss: 0.0258 | Learning rate:  0.000050\n"
          ]
        },
        {
          "name": "stderr",
          "output_type": "stream",
          "text": [
            "Start training the model for one epoch...:  39%|███▉      | 420/1073 [03:31<05:25,  2.01it/s]"
          ]
        },
        {
          "name": "stdout",
          "output_type": "stream",
          "text": [
            "Batch 420 | Loss: 0.0220 | Learning rate:  0.000050\n"
          ]
        },
        {
          "name": "stderr",
          "output_type": "stream",
          "text": [
            "Start training the model for one epoch...:  41%|████      | 440/1073 [03:41<05:10,  2.04it/s]"
          ]
        },
        {
          "name": "stdout",
          "output_type": "stream",
          "text": [
            "Batch 440 | Loss: 0.0108 | Learning rate:  0.000050\n"
          ]
        },
        {
          "name": "stderr",
          "output_type": "stream",
          "text": [
            "Start training the model for one epoch...:  43%|████▎     | 460/1073 [03:50<05:03,  2.02it/s]"
          ]
        },
        {
          "name": "stdout",
          "output_type": "stream",
          "text": [
            "Batch 460 | Loss: 0.0198 | Learning rate:  0.000050\n"
          ]
        },
        {
          "name": "stderr",
          "output_type": "stream",
          "text": [
            "Start training the model for one epoch...:  45%|████▍     | 480/1073 [04:00<04:55,  2.01it/s]"
          ]
        },
        {
          "name": "stdout",
          "output_type": "stream",
          "text": [
            "Batch 480 | Loss: 0.0211 | Learning rate:  0.000050\n"
          ]
        },
        {
          "name": "stderr",
          "output_type": "stream",
          "text": [
            "Start training the model for one epoch...:  47%|████▋     | 500/1073 [04:10<04:41,  2.04it/s]"
          ]
        },
        {
          "name": "stdout",
          "output_type": "stream",
          "text": [
            "Batch 500 | Loss: 0.0316 | Learning rate:  0.000050\n"
          ]
        },
        {
          "name": "stderr",
          "output_type": "stream",
          "text": [
            "Start training the model for one epoch...:  48%|████▊     | 520/1073 [04:20<04:26,  2.07it/s]"
          ]
        },
        {
          "name": "stdout",
          "output_type": "stream",
          "text": [
            "Batch 520 | Loss: 0.0112 | Learning rate:  0.000050\n"
          ]
        },
        {
          "name": "stderr",
          "output_type": "stream",
          "text": [
            "Start training the model for one epoch...:  50%|█████     | 540/1073 [04:30<04:22,  2.03it/s]"
          ]
        },
        {
          "name": "stdout",
          "output_type": "stream",
          "text": [
            "Batch 540 | Loss: 0.0150 | Learning rate:  0.000049\n"
          ]
        },
        {
          "name": "stderr",
          "output_type": "stream",
          "text": [
            "Start training the model for one epoch...:  52%|█████▏    | 560/1073 [04:40<04:12,  2.03it/s]"
          ]
        },
        {
          "name": "stdout",
          "output_type": "stream",
          "text": [
            "Batch 560 | Loss: 0.0219 | Learning rate:  0.000049\n"
          ]
        },
        {
          "name": "stderr",
          "output_type": "stream",
          "text": [
            "Start training the model for one epoch...:  54%|█████▍    | 580/1073 [04:49<04:03,  2.02it/s]"
          ]
        },
        {
          "name": "stdout",
          "output_type": "stream",
          "text": [
            "Batch 580 | Loss: 0.0174 | Learning rate:  0.000049\n"
          ]
        },
        {
          "name": "stderr",
          "output_type": "stream",
          "text": [
            "Start training the model for one epoch...:  56%|█████▌    | 600/1073 [04:59<03:52,  2.03it/s]"
          ]
        },
        {
          "name": "stdout",
          "output_type": "stream",
          "text": [
            "Batch 600 | Loss: 0.0209 | Learning rate:  0.000049\n"
          ]
        },
        {
          "name": "stderr",
          "output_type": "stream",
          "text": [
            "Start training the model for one epoch...:  58%|█████▊    | 620/1073 [05:09<03:45,  2.01it/s]"
          ]
        },
        {
          "name": "stdout",
          "output_type": "stream",
          "text": [
            "Batch 620 | Loss: 0.0341 | Learning rate:  0.000049\n"
          ]
        },
        {
          "name": "stderr",
          "output_type": "stream",
          "text": [
            "Start training the model for one epoch...:  60%|█████▉    | 640/1073 [05:19<03:29,  2.06it/s]"
          ]
        },
        {
          "name": "stdout",
          "output_type": "stream",
          "text": [
            "Batch 640 | Loss: 0.0126 | Learning rate:  0.000049\n"
          ]
        },
        {
          "name": "stderr",
          "output_type": "stream",
          "text": [
            "Start training the model for one epoch...:  62%|██████▏   | 660/1073 [05:29<03:24,  2.02it/s]"
          ]
        },
        {
          "name": "stdout",
          "output_type": "stream",
          "text": [
            "Batch 660 | Loss: 0.0192 | Learning rate:  0.000049\n"
          ]
        },
        {
          "name": "stderr",
          "output_type": "stream",
          "text": [
            "Start training the model for one epoch...:  63%|██████▎   | 680/1073 [05:38<03:11,  2.05it/s]"
          ]
        },
        {
          "name": "stdout",
          "output_type": "stream",
          "text": [
            "Batch 680 | Loss: 0.0250 | Learning rate:  0.000048\n"
          ]
        },
        {
          "name": "stderr",
          "output_type": "stream",
          "text": [
            "Start training the model for one epoch...:  65%|██████▌   | 700/1073 [05:48<03:05,  2.01it/s]"
          ]
        },
        {
          "name": "stdout",
          "output_type": "stream",
          "text": [
            "Batch 700 | Loss: 0.0362 | Learning rate:  0.000048\n"
          ]
        },
        {
          "name": "stderr",
          "output_type": "stream",
          "text": [
            "Start training the model for one epoch...:  67%|██████▋   | 720/1073 [05:58<02:52,  2.05it/s]"
          ]
        },
        {
          "name": "stdout",
          "output_type": "stream",
          "text": [
            "Batch 720 | Loss: 0.0281 | Learning rate:  0.000048\n"
          ]
        },
        {
          "name": "stderr",
          "output_type": "stream",
          "text": [
            "Start training the model for one epoch...:  69%|██████▉   | 740/1073 [06:08<02:44,  2.02it/s]"
          ]
        },
        {
          "name": "stdout",
          "output_type": "stream",
          "text": [
            "Batch 740 | Loss: 0.0266 | Learning rate:  0.000048\n"
          ]
        },
        {
          "name": "stderr",
          "output_type": "stream",
          "text": [
            "Start training the model for one epoch...:  71%|███████   | 760/1073 [06:18<02:34,  2.03it/s]"
          ]
        },
        {
          "name": "stdout",
          "output_type": "stream",
          "text": [
            "Batch 760 | Loss: 0.0187 | Learning rate:  0.000048\n"
          ]
        },
        {
          "name": "stderr",
          "output_type": "stream",
          "text": [
            "Start training the model for one epoch...:  73%|███████▎  | 780/1073 [06:28<02:26,  1.99it/s]"
          ]
        },
        {
          "name": "stdout",
          "output_type": "stream",
          "text": [
            "Batch 780 | Loss: 0.0345 | Learning rate:  0.000048\n"
          ]
        },
        {
          "name": "stderr",
          "output_type": "stream",
          "text": [
            "Start training the model for one epoch...:  75%|███████▍  | 800/1073 [06:37<02:14,  2.03it/s]"
          ]
        },
        {
          "name": "stdout",
          "output_type": "stream",
          "text": [
            "Batch 800 | Loss: 0.0233 | Learning rate:  0.000048\n"
          ]
        },
        {
          "name": "stderr",
          "output_type": "stream",
          "text": [
            "Start training the model for one epoch...:  76%|███████▋  | 820/1073 [06:47<02:07,  1.99it/s]"
          ]
        },
        {
          "name": "stdout",
          "output_type": "stream",
          "text": [
            "Batch 820 | Loss: 0.0168 | Learning rate:  0.000047\n"
          ]
        },
        {
          "name": "stderr",
          "output_type": "stream",
          "text": [
            "Start training the model for one epoch...:  78%|███████▊  | 840/1073 [06:57<01:53,  2.06it/s]"
          ]
        },
        {
          "name": "stdout",
          "output_type": "stream",
          "text": [
            "Batch 840 | Loss: 0.0884 | Learning rate:  0.000047\n"
          ]
        },
        {
          "name": "stderr",
          "output_type": "stream",
          "text": [
            "Start training the model for one epoch...:  80%|████████  | 860/1073 [07:07<01:45,  2.02it/s]"
          ]
        },
        {
          "name": "stdout",
          "output_type": "stream",
          "text": [
            "Batch 860 | Loss: 0.0206 | Learning rate:  0.000047\n"
          ]
        },
        {
          "name": "stderr",
          "output_type": "stream",
          "text": [
            "Start training the model for one epoch...:  82%|████████▏ | 880/1073 [07:17<01:32,  2.10it/s]"
          ]
        },
        {
          "name": "stdout",
          "output_type": "stream",
          "text": [
            "Batch 880 | Loss: 0.0121 | Learning rate:  0.000047\n"
          ]
        },
        {
          "name": "stderr",
          "output_type": "stream",
          "text": [
            "Start training the model for one epoch...:  84%|████████▍ | 900/1073 [07:27<01:25,  2.01it/s]"
          ]
        },
        {
          "name": "stdout",
          "output_type": "stream",
          "text": [
            "Batch 900 | Loss: 0.0151 | Learning rate:  0.000047\n"
          ]
        },
        {
          "name": "stderr",
          "output_type": "stream",
          "text": [
            "Start training the model for one epoch...:  86%|████████▌ | 920/1073 [07:36<01:14,  2.05it/s]"
          ]
        },
        {
          "name": "stdout",
          "output_type": "stream",
          "text": [
            "Batch 920 | Loss: 0.0328 | Learning rate:  0.000047\n"
          ]
        },
        {
          "name": "stderr",
          "output_type": "stream",
          "text": [
            "Start training the model for one epoch...:  88%|████████▊ | 940/1073 [07:46<01:06,  2.01it/s]"
          ]
        },
        {
          "name": "stdout",
          "output_type": "stream",
          "text": [
            "Batch 940 | Loss: 0.0234 | Learning rate:  0.000047\n"
          ]
        },
        {
          "name": "stderr",
          "output_type": "stream",
          "text": [
            "Start training the model for one epoch...:  89%|████████▉ | 960/1073 [07:56<00:55,  2.05it/s]"
          ]
        },
        {
          "name": "stdout",
          "output_type": "stream",
          "text": [
            "Batch 960 | Loss: 0.0312 | Learning rate:  0.000046\n"
          ]
        },
        {
          "name": "stderr",
          "output_type": "stream",
          "text": [
            "Start training the model for one epoch...:  91%|█████████▏| 980/1073 [08:06<00:46,  2.02it/s]"
          ]
        },
        {
          "name": "stdout",
          "output_type": "stream",
          "text": [
            "Batch 980 | Loss: 0.0234 | Learning rate:  0.000046\n"
          ]
        },
        {
          "name": "stderr",
          "output_type": "stream",
          "text": [
            "Start training the model for one epoch...:  93%|█████████▎| 1000/1073 [08:16<00:35,  2.03it/s]"
          ]
        },
        {
          "name": "stdout",
          "output_type": "stream",
          "text": [
            "Batch 1000 | Loss: 0.0267 | Learning rate:  0.000046\n"
          ]
        },
        {
          "name": "stderr",
          "output_type": "stream",
          "text": [
            "Start training the model for one epoch...:  95%|█████████▌| 1020/1073 [08:26<00:26,  2.00it/s]"
          ]
        },
        {
          "name": "stdout",
          "output_type": "stream",
          "text": [
            "Batch 1020 | Loss: 0.0234 | Learning rate:  0.000046\n"
          ]
        },
        {
          "name": "stderr",
          "output_type": "stream",
          "text": [
            "Start training the model for one epoch...:  97%|█████████▋| 1040/1073 [08:35<00:16,  2.06it/s]"
          ]
        },
        {
          "name": "stdout",
          "output_type": "stream",
          "text": [
            "Batch 1040 | Loss: 0.0190 | Learning rate:  0.000046\n"
          ]
        },
        {
          "name": "stderr",
          "output_type": "stream",
          "text": [
            "Start training the model for one epoch...:  99%|█████████▉| 1060/1073 [08:45<00:06,  2.15it/s]"
          ]
        },
        {
          "name": "stdout",
          "output_type": "stream",
          "text": [
            "Batch 1060 | Loss: 0.0180 | Learning rate:  0.000046\n"
          ]
        },
        {
          "name": "stderr",
          "output_type": "stream",
          "text": [
            "Start training the model for one epoch...: 100%|██████████| 1073/1073 [08:51<00:00,  2.02it/s]\n",
            "120it [00:37,  3.24it/s]\n"
          ]
        },
        {
          "name": "stdout",
          "output_type": "stream",
          "text": [
            "Epoch: 28, train loss: 0.022169679866796438, val_loss: 0.03976259200523297, val_dice: 0.8439817767095154, val_IoU: 0.7699594033784644\n"
          ]
        },
        {
          "name": "stderr",
          "output_type": "stream",
          "text": [
            "Start training the model for one epoch...:   2%|▏         | 20/1073 [00:15<08:43,  2.01it/s]"
          ]
        },
        {
          "name": "stdout",
          "output_type": "stream",
          "text": [
            "Batch 20 | Loss: 0.0123 | Learning rate:  0.000046\n"
          ]
        },
        {
          "name": "stderr",
          "output_type": "stream",
          "text": [
            "Start training the model for one epoch...:   4%|▎         | 40/1073 [00:25<08:24,  2.05it/s]"
          ]
        },
        {
          "name": "stdout",
          "output_type": "stream",
          "text": [
            "Batch 40 | Loss: 0.0214 | Learning rate:  0.000045\n"
          ]
        },
        {
          "name": "stderr",
          "output_type": "stream",
          "text": [
            "Start training the model for one epoch...:   6%|▌         | 60/1073 [00:35<08:10,  2.07it/s]"
          ]
        },
        {
          "name": "stdout",
          "output_type": "stream",
          "text": [
            "Batch 60 | Loss: 0.0167 | Learning rate:  0.000045\n"
          ]
        },
        {
          "name": "stderr",
          "output_type": "stream",
          "text": [
            "Start training the model for one epoch...:   7%|▋         | 80/1073 [00:45<08:07,  2.04it/s]"
          ]
        },
        {
          "name": "stdout",
          "output_type": "stream",
          "text": [
            "Batch 80 | Loss: 0.0382 | Learning rate:  0.000045\n"
          ]
        },
        {
          "name": "stderr",
          "output_type": "stream",
          "text": [
            "Start training the model for one epoch...:   9%|▉         | 100/1073 [00:54<07:50,  2.07it/s]"
          ]
        },
        {
          "name": "stdout",
          "output_type": "stream",
          "text": [
            "Batch 100 | Loss: 0.0238 | Learning rate:  0.000045\n"
          ]
        },
        {
          "name": "stderr",
          "output_type": "stream",
          "text": [
            "Start training the model for one epoch...:  11%|█         | 120/1073 [01:04<07:50,  2.03it/s]"
          ]
        },
        {
          "name": "stdout",
          "output_type": "stream",
          "text": [
            "Batch 120 | Loss: 0.0168 | Learning rate:  0.000045\n"
          ]
        },
        {
          "name": "stderr",
          "output_type": "stream",
          "text": [
            "Start training the model for one epoch...:  13%|█▎        | 140/1073 [01:14<07:28,  2.08it/s]"
          ]
        },
        {
          "name": "stdout",
          "output_type": "stream",
          "text": [
            "Batch 140 | Loss: 0.0150 | Learning rate:  0.000045\n"
          ]
        },
        {
          "name": "stderr",
          "output_type": "stream",
          "text": [
            "Start training the model for one epoch...:  15%|█▍        | 160/1073 [01:23<07:28,  2.04it/s]"
          ]
        },
        {
          "name": "stdout",
          "output_type": "stream",
          "text": [
            "Batch 160 | Loss: 0.0212 | Learning rate:  0.000045\n"
          ]
        },
        {
          "name": "stderr",
          "output_type": "stream",
          "text": [
            "Start training the model for one epoch...:  17%|█▋        | 180/1073 [01:33<07:13,  2.06it/s]"
          ]
        },
        {
          "name": "stdout",
          "output_type": "stream",
          "text": [
            "Batch 180 | Loss: 0.0186 | Learning rate:  0.000044\n"
          ]
        },
        {
          "name": "stderr",
          "output_type": "stream",
          "text": [
            "Start training the model for one epoch...:  19%|█▊        | 200/1073 [01:43<07:10,  2.03it/s]"
          ]
        },
        {
          "name": "stdout",
          "output_type": "stream",
          "text": [
            "Batch 200 | Loss: 0.0198 | Learning rate:  0.000044\n"
          ]
        },
        {
          "name": "stderr",
          "output_type": "stream",
          "text": [
            "Start training the model for one epoch...:  21%|██        | 220/1073 [01:52<06:50,  2.08it/s]"
          ]
        },
        {
          "name": "stdout",
          "output_type": "stream",
          "text": [
            "Batch 220 | Loss: 0.0236 | Learning rate:  0.000044\n"
          ]
        },
        {
          "name": "stderr",
          "output_type": "stream",
          "text": [
            "Start training the model for one epoch...:  22%|██▏       | 240/1073 [02:02<06:57,  2.00it/s]"
          ]
        },
        {
          "name": "stdout",
          "output_type": "stream",
          "text": [
            "Batch 240 | Loss: 0.0208 | Learning rate:  0.000044\n"
          ]
        },
        {
          "name": "stderr",
          "output_type": "stream",
          "text": [
            "Start training the model for one epoch...:  24%|██▍       | 260/1073 [02:12<06:33,  2.07it/s]"
          ]
        },
        {
          "name": "stdout",
          "output_type": "stream",
          "text": [
            "Batch 260 | Loss: 0.0158 | Learning rate:  0.000044\n"
          ]
        },
        {
          "name": "stderr",
          "output_type": "stream",
          "text": [
            "Start training the model for one epoch...:  26%|██▌       | 280/1073 [02:22<06:32,  2.02it/s]"
          ]
        },
        {
          "name": "stdout",
          "output_type": "stream",
          "text": [
            "Batch 280 | Loss: 0.0266 | Learning rate:  0.000044\n"
          ]
        },
        {
          "name": "stderr",
          "output_type": "stream",
          "text": [
            "Start training the model for one epoch...:  28%|██▊       | 300/1073 [02:32<06:10,  2.09it/s]"
          ]
        },
        {
          "name": "stdout",
          "output_type": "stream",
          "text": [
            "Batch 300 | Loss: 0.0205 | Learning rate:  0.000044\n"
          ]
        },
        {
          "name": "stderr",
          "output_type": "stream",
          "text": [
            "Start training the model for one epoch...:  30%|██▉       | 320/1073 [02:41<06:09,  2.04it/s]"
          ]
        },
        {
          "name": "stdout",
          "output_type": "stream",
          "text": [
            "Batch 320 | Loss: 0.0189 | Learning rate:  0.000043\n"
          ]
        },
        {
          "name": "stderr",
          "output_type": "stream",
          "text": [
            "Start training the model for one epoch...:  32%|███▏      | 340/1073 [02:51<05:58,  2.04it/s]"
          ]
        },
        {
          "name": "stdout",
          "output_type": "stream",
          "text": [
            "Batch 340 | Loss: 0.0139 | Learning rate:  0.000043\n"
          ]
        },
        {
          "name": "stderr",
          "output_type": "stream",
          "text": [
            "Start training the model for one epoch...:  34%|███▎      | 360/1073 [03:01<05:53,  2.02it/s]"
          ]
        },
        {
          "name": "stdout",
          "output_type": "stream",
          "text": [
            "Batch 360 | Loss: 0.0308 | Learning rate:  0.000043\n"
          ]
        },
        {
          "name": "stderr",
          "output_type": "stream",
          "text": [
            "Start training the model for one epoch...:  35%|███▌      | 380/1073 [03:11<05:30,  2.09it/s]"
          ]
        },
        {
          "name": "stdout",
          "output_type": "stream",
          "text": [
            "Batch 380 | Loss: 0.0119 | Learning rate:  0.000043\n"
          ]
        },
        {
          "name": "stderr",
          "output_type": "stream",
          "text": [
            "Start training the model for one epoch...:  37%|███▋      | 400/1073 [03:20<05:31,  2.03it/s]"
          ]
        },
        {
          "name": "stdout",
          "output_type": "stream",
          "text": [
            "Batch 400 | Loss: 0.0129 | Learning rate:  0.000043\n"
          ]
        },
        {
          "name": "stderr",
          "output_type": "stream",
          "text": [
            "Start training the model for one epoch...:  39%|███▉      | 420/1073 [03:30<05:21,  2.03it/s]"
          ]
        },
        {
          "name": "stdout",
          "output_type": "stream",
          "text": [
            "Batch 420 | Loss: 0.0163 | Learning rate:  0.000043\n"
          ]
        },
        {
          "name": "stderr",
          "output_type": "stream",
          "text": [
            "Start training the model for one epoch...:  41%|████      | 440/1073 [03:40<05:12,  2.03it/s]"
          ]
        },
        {
          "name": "stdout",
          "output_type": "stream",
          "text": [
            "Batch 440 | Loss: 0.0252 | Learning rate:  0.000043\n"
          ]
        },
        {
          "name": "stderr",
          "output_type": "stream",
          "text": [
            "Start training the model for one epoch...:  43%|████▎     | 460/1073 [03:50<04:57,  2.06it/s]"
          ]
        },
        {
          "name": "stdout",
          "output_type": "stream",
          "text": [
            "Batch 460 | Loss: 0.0261 | Learning rate:  0.000043\n"
          ]
        },
        {
          "name": "stderr",
          "output_type": "stream",
          "text": [
            "Start training the model for one epoch...:  45%|████▍     | 480/1073 [04:00<04:55,  2.01it/s]"
          ]
        },
        {
          "name": "stdout",
          "output_type": "stream",
          "text": [
            "Batch 480 | Loss: 0.0156 | Learning rate:  0.000042\n"
          ]
        },
        {
          "name": "stderr",
          "output_type": "stream",
          "text": [
            "Start training the model for one epoch...:  47%|████▋     | 500/1073 [04:09<04:41,  2.04it/s]"
          ]
        },
        {
          "name": "stdout",
          "output_type": "stream",
          "text": [
            "Batch 500 | Loss: 0.0185 | Learning rate:  0.000042\n"
          ]
        },
        {
          "name": "stderr",
          "output_type": "stream",
          "text": [
            "Start training the model for one epoch...:  48%|████▊     | 520/1073 [04:19<04:36,  2.00it/s]"
          ]
        },
        {
          "name": "stdout",
          "output_type": "stream",
          "text": [
            "Batch 520 | Loss: 0.0158 | Learning rate:  0.000042\n"
          ]
        },
        {
          "name": "stderr",
          "output_type": "stream",
          "text": [
            "Start training the model for one epoch...:  50%|█████     | 540/1073 [04:29<04:18,  2.06it/s]"
          ]
        },
        {
          "name": "stdout",
          "output_type": "stream",
          "text": [
            "Batch 540 | Loss: 0.0192 | Learning rate:  0.000042\n"
          ]
        },
        {
          "name": "stderr",
          "output_type": "stream",
          "text": [
            "Start training the model for one epoch...:  52%|█████▏    | 560/1073 [04:39<04:13,  2.02it/s]"
          ]
        },
        {
          "name": "stdout",
          "output_type": "stream",
          "text": [
            "Batch 560 | Loss: 0.0283 | Learning rate:  0.000042\n"
          ]
        },
        {
          "name": "stderr",
          "output_type": "stream",
          "text": [
            "Start training the model for one epoch...:  54%|█████▍    | 580/1073 [04:49<03:59,  2.06it/s]"
          ]
        },
        {
          "name": "stdout",
          "output_type": "stream",
          "text": [
            "Batch 580 | Loss: 0.0186 | Learning rate:  0.000042\n"
          ]
        },
        {
          "name": "stderr",
          "output_type": "stream",
          "text": [
            "Start training the model for one epoch...:  56%|█████▌    | 600/1073 [04:58<03:54,  2.02it/s]"
          ]
        },
        {
          "name": "stdout",
          "output_type": "stream",
          "text": [
            "Batch 600 | Loss: 0.0161 | Learning rate:  0.000042\n"
          ]
        },
        {
          "name": "stderr",
          "output_type": "stream",
          "text": [
            "Start training the model for one epoch...:  58%|█████▊    | 620/1073 [05:08<03:40,  2.05it/s]"
          ]
        },
        {
          "name": "stdout",
          "output_type": "stream",
          "text": [
            "Batch 620 | Loss: 0.0240 | Learning rate:  0.000041\n"
          ]
        },
        {
          "name": "stderr",
          "output_type": "stream",
          "text": [
            "Start training the model for one epoch...:  60%|█████▉    | 640/1073 [05:18<03:36,  2.00it/s]"
          ]
        },
        {
          "name": "stdout",
          "output_type": "stream",
          "text": [
            "Batch 640 | Loss: 0.0260 | Learning rate:  0.000041\n"
          ]
        },
        {
          "name": "stderr",
          "output_type": "stream",
          "text": [
            "Start training the model for one epoch...:  62%|██████▏   | 660/1073 [05:28<03:19,  2.07it/s]"
          ]
        },
        {
          "name": "stdout",
          "output_type": "stream",
          "text": [
            "Batch 660 | Loss: 0.0279 | Learning rate:  0.000041\n"
          ]
        },
        {
          "name": "stderr",
          "output_type": "stream",
          "text": [
            "Start training the model for one epoch...:  63%|██████▎   | 680/1073 [05:38<03:44,  1.75it/s]"
          ]
        },
        {
          "name": "stdout",
          "output_type": "stream",
          "text": [
            "Batch 680 | Loss: 0.0133 | Learning rate:  0.000041\n"
          ]
        },
        {
          "name": "stderr",
          "output_type": "stream",
          "text": [
            "Start training the model for one epoch...:  65%|██████▌   | 700/1073 [05:48<03:00,  2.06it/s]"
          ]
        },
        {
          "name": "stdout",
          "output_type": "stream",
          "text": [
            "Batch 700 | Loss: 0.0168 | Learning rate:  0.000041\n"
          ]
        },
        {
          "name": "stderr",
          "output_type": "stream",
          "text": [
            "Start training the model for one epoch...:  67%|██████▋   | 720/1073 [05:58<02:56,  2.00it/s]"
          ]
        },
        {
          "name": "stdout",
          "output_type": "stream",
          "text": [
            "Batch 720 | Loss: 0.0146 | Learning rate:  0.000041\n"
          ]
        },
        {
          "name": "stderr",
          "output_type": "stream",
          "text": [
            "Start training the model for one epoch...:  69%|██████▉   | 740/1073 [06:07<02:40,  2.07it/s]"
          ]
        },
        {
          "name": "stdout",
          "output_type": "stream",
          "text": [
            "Batch 740 | Loss: 0.0174 | Learning rate:  0.000041\n"
          ]
        },
        {
          "name": "stderr",
          "output_type": "stream",
          "text": [
            "Start training the model for one epoch...:  71%|███████   | 760/1073 [06:17<02:36,  2.00it/s]"
          ]
        },
        {
          "name": "stdout",
          "output_type": "stream",
          "text": [
            "Batch 760 | Loss: 0.0284 | Learning rate:  0.000041\n"
          ]
        },
        {
          "name": "stderr",
          "output_type": "stream",
          "text": [
            "Start training the model for one epoch...:  73%|███████▎  | 780/1073 [06:27<02:20,  2.09it/s]"
          ]
        },
        {
          "name": "stdout",
          "output_type": "stream",
          "text": [
            "Batch 780 | Loss: 0.0341 | Learning rate:  0.000040\n"
          ]
        },
        {
          "name": "stderr",
          "output_type": "stream",
          "text": [
            "Start training the model for one epoch...:  75%|███████▍  | 800/1073 [06:37<02:15,  2.01it/s]"
          ]
        },
        {
          "name": "stdout",
          "output_type": "stream",
          "text": [
            "Batch 800 | Loss: 0.0254 | Learning rate:  0.000040\n"
          ]
        },
        {
          "name": "stderr",
          "output_type": "stream",
          "text": [
            "Start training the model for one epoch...:  76%|███████▋  | 820/1073 [06:47<02:03,  2.06it/s]"
          ]
        },
        {
          "name": "stdout",
          "output_type": "stream",
          "text": [
            "Batch 820 | Loss: 0.0187 | Learning rate:  0.000040\n"
          ]
        },
        {
          "name": "stderr",
          "output_type": "stream",
          "text": [
            "Start training the model for one epoch...:  78%|███████▊  | 840/1073 [06:57<01:55,  2.02it/s]"
          ]
        },
        {
          "name": "stdout",
          "output_type": "stream",
          "text": [
            "Batch 840 | Loss: 0.0225 | Learning rate:  0.000040\n"
          ]
        },
        {
          "name": "stderr",
          "output_type": "stream",
          "text": [
            "Start training the model for one epoch...:  80%|████████  | 860/1073 [07:06<01:44,  2.03it/s]"
          ]
        },
        {
          "name": "stdout",
          "output_type": "stream",
          "text": [
            "Batch 860 | Loss: 0.0216 | Learning rate:  0.000040\n"
          ]
        },
        {
          "name": "stderr",
          "output_type": "stream",
          "text": [
            "Start training the model for one epoch...:  82%|████████▏ | 880/1073 [07:16<01:36,  2.01it/s]"
          ]
        },
        {
          "name": "stdout",
          "output_type": "stream",
          "text": [
            "Batch 880 | Loss: 0.0206 | Learning rate:  0.000040\n"
          ]
        },
        {
          "name": "stderr",
          "output_type": "stream",
          "text": [
            "Start training the model for one epoch...:  84%|████████▍ | 900/1073 [07:26<01:22,  2.09it/s]"
          ]
        },
        {
          "name": "stdout",
          "output_type": "stream",
          "text": [
            "Batch 900 | Loss: 0.0254 | Learning rate:  0.000040\n"
          ]
        },
        {
          "name": "stderr",
          "output_type": "stream",
          "text": [
            "Start training the model for one epoch...:  86%|████████▌ | 920/1073 [07:36<01:15,  2.04it/s]"
          ]
        },
        {
          "name": "stdout",
          "output_type": "stream",
          "text": [
            "Batch 920 | Loss: 0.0109 | Learning rate:  0.000039\n"
          ]
        },
        {
          "name": "stderr",
          "output_type": "stream",
          "text": [
            "Start training the model for one epoch...:  88%|████████▊ | 940/1073 [07:46<01:03,  2.08it/s]"
          ]
        },
        {
          "name": "stdout",
          "output_type": "stream",
          "text": [
            "Batch 940 | Loss: 0.0297 | Learning rate:  0.000039\n"
          ]
        },
        {
          "name": "stderr",
          "output_type": "stream",
          "text": [
            "Start training the model for one epoch...:  89%|████████▉ | 960/1073 [07:56<00:55,  2.03it/s]"
          ]
        },
        {
          "name": "stdout",
          "output_type": "stream",
          "text": [
            "Batch 960 | Loss: 0.0309 | Learning rate:  0.000039\n"
          ]
        },
        {
          "name": "stderr",
          "output_type": "stream",
          "text": [
            "Start training the model for one epoch...:  91%|█████████▏| 980/1073 [08:05<00:46,  2.02it/s]"
          ]
        },
        {
          "name": "stdout",
          "output_type": "stream",
          "text": [
            "Batch 980 | Loss: 0.0187 | Learning rate:  0.000039\n"
          ]
        },
        {
          "name": "stderr",
          "output_type": "stream",
          "text": [
            "Start training the model for one epoch...:  93%|█████████▎| 1000/1073 [08:15<00:35,  2.06it/s]"
          ]
        },
        {
          "name": "stdout",
          "output_type": "stream",
          "text": [
            "Batch 1000 | Loss: 0.0215 | Learning rate:  0.000039\n"
          ]
        },
        {
          "name": "stderr",
          "output_type": "stream",
          "text": [
            "Start training the model for one epoch...:  95%|█████████▌| 1020/1073 [08:25<00:25,  2.05it/s]"
          ]
        },
        {
          "name": "stdout",
          "output_type": "stream",
          "text": [
            "Batch 1020 | Loss: 0.0272 | Learning rate:  0.000039\n"
          ]
        },
        {
          "name": "stderr",
          "output_type": "stream",
          "text": [
            "Start training the model for one epoch...:  97%|█████████▋| 1040/1073 [08:35<00:15,  2.07it/s]"
          ]
        },
        {
          "name": "stdout",
          "output_type": "stream",
          "text": [
            "Batch 1040 | Loss: 0.0147 | Learning rate:  0.000039\n"
          ]
        },
        {
          "name": "stderr",
          "output_type": "stream",
          "text": [
            "Start training the model for one epoch...:  99%|█████████▉| 1060/1073 [08:44<00:06,  2.16it/s]"
          ]
        },
        {
          "name": "stdout",
          "output_type": "stream",
          "text": [
            "Batch 1060 | Loss: 0.0156 | Learning rate:  0.000039\n"
          ]
        },
        {
          "name": "stderr",
          "output_type": "stream",
          "text": [
            "Start training the model for one epoch...: 100%|██████████| 1073/1073 [08:50<00:00,  2.02it/s]\n",
            "120it [00:36,  3.27it/s]\n"
          ]
        },
        {
          "name": "stdout",
          "output_type": "stream",
          "text": [
            "Epoch: 29, train loss: 0.022051413014065907, val_loss: 0.04070752637150387, val_dice: 0.8418189720934728, val_IoU: 0.766607782512526\n"
          ]
        },
        {
          "name": "stderr",
          "output_type": "stream",
          "text": [
            "Start training the model for one epoch...:   2%|▏         | 20/1073 [00:15<08:57,  1.96it/s]"
          ]
        },
        {
          "name": "stdout",
          "output_type": "stream",
          "text": [
            "Batch 20 | Loss: 0.0282 | Learning rate:  0.000038\n"
          ]
        },
        {
          "name": "stderr",
          "output_type": "stream",
          "text": [
            "Start training the model for one epoch...:   4%|▎         | 40/1073 [00:25<08:25,  2.05it/s]"
          ]
        },
        {
          "name": "stdout",
          "output_type": "stream",
          "text": [
            "Batch 40 | Loss: 0.0270 | Learning rate:  0.000038\n"
          ]
        },
        {
          "name": "stderr",
          "output_type": "stream",
          "text": [
            "Start training the model for one epoch...:   6%|▌         | 60/1073 [00:35<08:13,  2.05it/s]"
          ]
        },
        {
          "name": "stdout",
          "output_type": "stream",
          "text": [
            "Batch 60 | Loss: 0.0265 | Learning rate:  0.000038\n"
          ]
        },
        {
          "name": "stderr",
          "output_type": "stream",
          "text": [
            "Start training the model for one epoch...:   7%|▋         | 80/1073 [00:45<07:58,  2.08it/s]"
          ]
        },
        {
          "name": "stdout",
          "output_type": "stream",
          "text": [
            "Batch 80 | Loss: 0.0227 | Learning rate:  0.000038\n"
          ]
        },
        {
          "name": "stderr",
          "output_type": "stream",
          "text": [
            "Start training the model for one epoch...:   9%|▉         | 100/1073 [00:55<08:02,  2.01it/s]"
          ]
        },
        {
          "name": "stdout",
          "output_type": "stream",
          "text": [
            "Batch 100 | Loss: 0.0178 | Learning rate:  0.000038\n"
          ]
        },
        {
          "name": "stderr",
          "output_type": "stream",
          "text": [
            "Start training the model for one epoch...:  11%|█         | 120/1073 [01:04<07:40,  2.07it/s]"
          ]
        },
        {
          "name": "stdout",
          "output_type": "stream",
          "text": [
            "Batch 120 | Loss: 0.0153 | Learning rate:  0.000038\n"
          ]
        },
        {
          "name": "stderr",
          "output_type": "stream",
          "text": [
            "Start training the model for one epoch...:  13%|█▎        | 140/1073 [01:14<07:42,  2.02it/s]"
          ]
        },
        {
          "name": "stdout",
          "output_type": "stream",
          "text": [
            "Batch 140 | Loss: 0.0286 | Learning rate:  0.000038\n"
          ]
        },
        {
          "name": "stderr",
          "output_type": "stream",
          "text": [
            "Start training the model for one epoch...:  15%|█▍        | 160/1073 [01:24<07:20,  2.07it/s]"
          ]
        },
        {
          "name": "stdout",
          "output_type": "stream",
          "text": [
            "Batch 160 | Loss: 0.0149 | Learning rate:  0.000037\n"
          ]
        },
        {
          "name": "stderr",
          "output_type": "stream",
          "text": [
            "Start training the model for one epoch...:  17%|█▋        | 180/1073 [01:34<07:21,  2.02it/s]"
          ]
        },
        {
          "name": "stdout",
          "output_type": "stream",
          "text": [
            "Batch 180 | Loss: 0.0191 | Learning rate:  0.000037\n"
          ]
        },
        {
          "name": "stderr",
          "output_type": "stream",
          "text": [
            "Start training the model for one epoch...:  19%|█▊        | 200/1073 [01:44<07:08,  2.04it/s]"
          ]
        },
        {
          "name": "stdout",
          "output_type": "stream",
          "text": [
            "Batch 200 | Loss: 0.0230 | Learning rate:  0.000037\n"
          ]
        },
        {
          "name": "stderr",
          "output_type": "stream",
          "text": [
            "Start training the model for one epoch...:  21%|██        | 220/1073 [01:53<06:58,  2.04it/s]"
          ]
        },
        {
          "name": "stdout",
          "output_type": "stream",
          "text": [
            "Batch 220 | Loss: 0.0152 | Learning rate:  0.000037\n"
          ]
        },
        {
          "name": "stderr",
          "output_type": "stream",
          "text": [
            "Start training the model for one epoch...:  22%|██▏       | 240/1073 [02:03<06:45,  2.06it/s]"
          ]
        },
        {
          "name": "stdout",
          "output_type": "stream",
          "text": [
            "Batch 240 | Loss: 0.0603 | Learning rate:  0.000037\n"
          ]
        },
        {
          "name": "stderr",
          "output_type": "stream",
          "text": [
            "Start training the model for one epoch...:  24%|██▍       | 260/1073 [02:13<06:38,  2.04it/s]"
          ]
        },
        {
          "name": "stdout",
          "output_type": "stream",
          "text": [
            "Batch 260 | Loss: 0.0299 | Learning rate:  0.000037\n"
          ]
        },
        {
          "name": "stderr",
          "output_type": "stream",
          "text": [
            "Start training the model for one epoch...:  26%|██▌       | 280/1073 [02:23<06:23,  2.07it/s]"
          ]
        },
        {
          "name": "stdout",
          "output_type": "stream",
          "text": [
            "Batch 280 | Loss: 0.0179 | Learning rate:  0.000037\n"
          ]
        },
        {
          "name": "stderr",
          "output_type": "stream",
          "text": [
            "Start training the model for one epoch...:  28%|██▊       | 300/1073 [02:33<06:17,  2.05it/s]"
          ]
        },
        {
          "name": "stdout",
          "output_type": "stream",
          "text": [
            "Batch 300 | Loss: 0.0178 | Learning rate:  0.000037\n"
          ]
        },
        {
          "name": "stderr",
          "output_type": "stream",
          "text": [
            "Start training the model for one epoch...:  30%|██▉       | 320/1073 [02:42<06:12,  2.02it/s]"
          ]
        },
        {
          "name": "stdout",
          "output_type": "stream",
          "text": [
            "Batch 320 | Loss: 0.0186 | Learning rate:  0.000036\n"
          ]
        },
        {
          "name": "stderr",
          "output_type": "stream",
          "text": [
            "Start training the model for one epoch...:  32%|███▏      | 340/1073 [02:52<05:58,  2.05it/s]"
          ]
        },
        {
          "name": "stdout",
          "output_type": "stream",
          "text": [
            "Batch 340 | Loss: 0.0196 | Learning rate:  0.000036\n"
          ]
        },
        {
          "name": "stderr",
          "output_type": "stream",
          "text": [
            "Start training the model for one epoch...:  34%|███▎      | 360/1073 [03:02<05:47,  2.05it/s]"
          ]
        },
        {
          "name": "stdout",
          "output_type": "stream",
          "text": [
            "Batch 360 | Loss: 0.0257 | Learning rate:  0.000036\n"
          ]
        },
        {
          "name": "stderr",
          "output_type": "stream",
          "text": [
            "Start training the model for one epoch...:  35%|███▌      | 380/1073 [03:12<05:40,  2.04it/s]"
          ]
        },
        {
          "name": "stdout",
          "output_type": "stream",
          "text": [
            "Batch 380 | Loss: 0.0191 | Learning rate:  0.000036\n"
          ]
        },
        {
          "name": "stderr",
          "output_type": "stream",
          "text": [
            "Start training the model for one epoch...:  37%|███▋      | 400/1073 [03:22<05:28,  2.05it/s]"
          ]
        },
        {
          "name": "stdout",
          "output_type": "stream",
          "text": [
            "Batch 400 | Loss: 0.0152 | Learning rate:  0.000036\n"
          ]
        },
        {
          "name": "stderr",
          "output_type": "stream",
          "text": [
            "Start training the model for one epoch...:  39%|███▉      | 420/1073 [03:31<05:17,  2.06it/s]"
          ]
        },
        {
          "name": "stdout",
          "output_type": "stream",
          "text": [
            "Batch 420 | Loss: 0.0227 | Learning rate:  0.000036\n"
          ]
        },
        {
          "name": "stderr",
          "output_type": "stream",
          "text": [
            "Start training the model for one epoch...:  41%|████      | 440/1073 [03:41<05:08,  2.05it/s]"
          ]
        },
        {
          "name": "stdout",
          "output_type": "stream",
          "text": [
            "Batch 440 | Loss: 0.0214 | Learning rate:  0.000036\n"
          ]
        },
        {
          "name": "stderr",
          "output_type": "stream",
          "text": [
            "Start training the model for one epoch...:  43%|████▎     | 460/1073 [03:51<04:58,  2.05it/s]"
          ]
        },
        {
          "name": "stdout",
          "output_type": "stream",
          "text": [
            "Batch 460 | Loss: 0.0150 | Learning rate:  0.000036\n"
          ]
        },
        {
          "name": "stderr",
          "output_type": "stream",
          "text": [
            "Start training the model for one epoch...:  45%|████▍     | 480/1073 [04:01<04:49,  2.05it/s]"
          ]
        },
        {
          "name": "stdout",
          "output_type": "stream",
          "text": [
            "Batch 480 | Loss: 0.0711 | Learning rate:  0.000035\n"
          ]
        },
        {
          "name": "stderr",
          "output_type": "stream",
          "text": [
            "Start training the model for one epoch...:  47%|████▋     | 500/1073 [04:11<04:37,  2.06it/s]"
          ]
        },
        {
          "name": "stdout",
          "output_type": "stream",
          "text": [
            "Batch 500 | Loss: 0.0234 | Learning rate:  0.000035\n"
          ]
        },
        {
          "name": "stderr",
          "output_type": "stream",
          "text": [
            "Start training the model for one epoch...:  48%|████▊     | 520/1073 [04:20<04:27,  2.06it/s]"
          ]
        },
        {
          "name": "stdout",
          "output_type": "stream",
          "text": [
            "Batch 520 | Loss: 0.0158 | Learning rate:  0.000035\n"
          ]
        },
        {
          "name": "stderr",
          "output_type": "stream",
          "text": [
            "Start training the model for one epoch...:  50%|█████     | 540/1073 [04:30<04:18,  2.06it/s]"
          ]
        },
        {
          "name": "stdout",
          "output_type": "stream",
          "text": [
            "Batch 540 | Loss: 0.0268 | Learning rate:  0.000035\n"
          ]
        },
        {
          "name": "stderr",
          "output_type": "stream",
          "text": [
            "Start training the model for one epoch...:  52%|█████▏    | 560/1073 [04:40<04:11,  2.04it/s]"
          ]
        },
        {
          "name": "stdout",
          "output_type": "stream",
          "text": [
            "Batch 560 | Loss: 0.0222 | Learning rate:  0.000035\n"
          ]
        },
        {
          "name": "stderr",
          "output_type": "stream",
          "text": [
            "Start training the model for one epoch...:  54%|█████▍    | 580/1073 [04:50<03:59,  2.06it/s]"
          ]
        },
        {
          "name": "stdout",
          "output_type": "stream",
          "text": [
            "Batch 580 | Loss: 0.0238 | Learning rate:  0.000035\n"
          ]
        },
        {
          "name": "stderr",
          "output_type": "stream",
          "text": [
            "Start training the model for one epoch...:  56%|█████▌    | 600/1073 [05:00<03:53,  2.02it/s]"
          ]
        },
        {
          "name": "stdout",
          "output_type": "stream",
          "text": [
            "Batch 600 | Loss: 0.0277 | Learning rate:  0.000035\n"
          ]
        },
        {
          "name": "stderr",
          "output_type": "stream",
          "text": [
            "Start training the model for one epoch...:  58%|█████▊    | 620/1073 [05:09<03:38,  2.07it/s]"
          ]
        },
        {
          "name": "stdout",
          "output_type": "stream",
          "text": [
            "Batch 620 | Loss: 0.0339 | Learning rate:  0.000035\n"
          ]
        },
        {
          "name": "stderr",
          "output_type": "stream",
          "text": [
            "Start training the model for one epoch...:  60%|█████▉    | 640/1073 [05:19<03:31,  2.04it/s]"
          ]
        },
        {
          "name": "stdout",
          "output_type": "stream",
          "text": [
            "Batch 640 | Loss: 0.0217 | Learning rate:  0.000034\n"
          ]
        },
        {
          "name": "stderr",
          "output_type": "stream",
          "text": [
            "Start training the model for one epoch...:  62%|██████▏   | 660/1073 [05:29<03:24,  2.02it/s]"
          ]
        },
        {
          "name": "stdout",
          "output_type": "stream",
          "text": [
            "Batch 660 | Loss: 0.0168 | Learning rate:  0.000034\n"
          ]
        },
        {
          "name": "stderr",
          "output_type": "stream",
          "text": [
            "Start training the model for one epoch...:  63%|██████▎   | 680/1073 [05:39<03:11,  2.05it/s]"
          ]
        },
        {
          "name": "stdout",
          "output_type": "stream",
          "text": [
            "Batch 680 | Loss: 0.0185 | Learning rate:  0.000034\n"
          ]
        },
        {
          "name": "stderr",
          "output_type": "stream",
          "text": [
            "Start training the model for one epoch...:  65%|██████▌   | 700/1073 [05:49<03:03,  2.03it/s]"
          ]
        },
        {
          "name": "stdout",
          "output_type": "stream",
          "text": [
            "Batch 700 | Loss: 0.0270 | Learning rate:  0.000034\n"
          ]
        },
        {
          "name": "stderr",
          "output_type": "stream",
          "text": [
            "Start training the model for one epoch...:  67%|██████▋   | 720/1073 [05:58<02:54,  2.03it/s]"
          ]
        },
        {
          "name": "stdout",
          "output_type": "stream",
          "text": [
            "Batch 720 | Loss: 0.0180 | Learning rate:  0.000034\n"
          ]
        },
        {
          "name": "stderr",
          "output_type": "stream",
          "text": [
            "Start training the model for one epoch...:  69%|██████▉   | 740/1073 [06:08<02:43,  2.04it/s]"
          ]
        },
        {
          "name": "stdout",
          "output_type": "stream",
          "text": [
            "Batch 740 | Loss: 0.0194 | Learning rate:  0.000034\n"
          ]
        },
        {
          "name": "stderr",
          "output_type": "stream",
          "text": [
            "Start training the model for one epoch...:  71%|███████   | 760/1073 [06:18<02:34,  2.02it/s]"
          ]
        },
        {
          "name": "stdout",
          "output_type": "stream",
          "text": [
            "Batch 760 | Loss: 0.0187 | Learning rate:  0.000034\n"
          ]
        },
        {
          "name": "stderr",
          "output_type": "stream",
          "text": [
            "Start training the model for one epoch...:  73%|███████▎  | 780/1073 [06:28<02:22,  2.06it/s]"
          ]
        },
        {
          "name": "stdout",
          "output_type": "stream",
          "text": [
            "Batch 780 | Loss: 0.0125 | Learning rate:  0.000034\n"
          ]
        },
        {
          "name": "stderr",
          "output_type": "stream",
          "text": [
            "Start training the model for one epoch...:  75%|███████▍  | 800/1073 [06:38<02:15,  2.01it/s]"
          ]
        },
        {
          "name": "stdout",
          "output_type": "stream",
          "text": [
            "Batch 800 | Loss: 0.0153 | Learning rate:  0.000033\n"
          ]
        },
        {
          "name": "stderr",
          "output_type": "stream",
          "text": [
            "Start training the model for one epoch...:  76%|███████▋  | 820/1073 [06:48<02:02,  2.06it/s]"
          ]
        },
        {
          "name": "stdout",
          "output_type": "stream",
          "text": [
            "Batch 820 | Loss: 0.0263 | Learning rate:  0.000033\n"
          ]
        },
        {
          "name": "stderr",
          "output_type": "stream",
          "text": [
            "Start training the model for one epoch...:  78%|███████▊  | 840/1073 [06:57<01:55,  2.02it/s]"
          ]
        },
        {
          "name": "stdout",
          "output_type": "stream",
          "text": [
            "Batch 840 | Loss: 0.0185 | Learning rate:  0.000033\n"
          ]
        },
        {
          "name": "stderr",
          "output_type": "stream",
          "text": [
            "Start training the model for one epoch...:  80%|████████  | 860/1073 [07:07<01:43,  2.06it/s]"
          ]
        },
        {
          "name": "stdout",
          "output_type": "stream",
          "text": [
            "Batch 860 | Loss: 0.0108 | Learning rate:  0.000033\n"
          ]
        },
        {
          "name": "stderr",
          "output_type": "stream",
          "text": [
            "Start training the model for one epoch...:  82%|████████▏ | 880/1073 [07:17<01:35,  2.01it/s]"
          ]
        },
        {
          "name": "stdout",
          "output_type": "stream",
          "text": [
            "Batch 880 | Loss: 0.0142 | Learning rate:  0.000033\n"
          ]
        },
        {
          "name": "stderr",
          "output_type": "stream",
          "text": [
            "Start training the model for one epoch...:  84%|████████▍ | 900/1073 [07:27<01:25,  2.02it/s]"
          ]
        },
        {
          "name": "stdout",
          "output_type": "stream",
          "text": [
            "Batch 900 | Loss: 0.0243 | Learning rate:  0.000033\n"
          ]
        },
        {
          "name": "stderr",
          "output_type": "stream",
          "text": [
            "Start training the model for one epoch...:  86%|████████▌ | 920/1073 [07:37<01:16,  2.00it/s]"
          ]
        },
        {
          "name": "stdout",
          "output_type": "stream",
          "text": [
            "Batch 920 | Loss: 0.0174 | Learning rate:  0.000033\n"
          ]
        },
        {
          "name": "stderr",
          "output_type": "stream",
          "text": [
            "Start training the model for one epoch...:  88%|████████▊ | 940/1073 [07:47<01:04,  2.05it/s]"
          ]
        },
        {
          "name": "stdout",
          "output_type": "stream",
          "text": [
            "Batch 940 | Loss: 0.0243 | Learning rate:  0.000033\n"
          ]
        },
        {
          "name": "stderr",
          "output_type": "stream",
          "text": [
            "Start training the model for one epoch...:  89%|████████▉ | 960/1073 [07:56<00:56,  2.00it/s]"
          ]
        },
        {
          "name": "stdout",
          "output_type": "stream",
          "text": [
            "Batch 960 | Loss: 0.0272 | Learning rate:  0.000032\n"
          ]
        },
        {
          "name": "stderr",
          "output_type": "stream",
          "text": [
            "Start training the model for one epoch...:  91%|█████████▏| 980/1073 [08:06<00:44,  2.07it/s]"
          ]
        },
        {
          "name": "stdout",
          "output_type": "stream",
          "text": [
            "Batch 980 | Loss: 0.0193 | Learning rate:  0.000032\n"
          ]
        },
        {
          "name": "stderr",
          "output_type": "stream",
          "text": [
            "Start training the model for one epoch...:  93%|█████████▎| 1000/1073 [08:16<00:36,  1.99it/s]"
          ]
        },
        {
          "name": "stdout",
          "output_type": "stream",
          "text": [
            "Batch 1000 | Loss: 0.0228 | Learning rate:  0.000032\n"
          ]
        },
        {
          "name": "stderr",
          "output_type": "stream",
          "text": [
            "Start training the model for one epoch...:  95%|█████████▌| 1020/1073 [08:26<00:25,  2.06it/s]"
          ]
        },
        {
          "name": "stdout",
          "output_type": "stream",
          "text": [
            "Batch 1020 | Loss: 0.0160 | Learning rate:  0.000032\n"
          ]
        },
        {
          "name": "stderr",
          "output_type": "stream",
          "text": [
            "Start training the model for one epoch...:  97%|█████████▋| 1040/1073 [08:36<00:16,  2.01it/s]"
          ]
        },
        {
          "name": "stdout",
          "output_type": "stream",
          "text": [
            "Batch 1040 | Loss: 0.0198 | Learning rate:  0.000032\n"
          ]
        },
        {
          "name": "stderr",
          "output_type": "stream",
          "text": [
            "Start training the model for one epoch...:  99%|█████████▉| 1060/1073 [08:45<00:06,  2.16it/s]"
          ]
        },
        {
          "name": "stdout",
          "output_type": "stream",
          "text": [
            "Batch 1060 | Loss: 0.0202 | Learning rate:  0.000032\n"
          ]
        },
        {
          "name": "stderr",
          "output_type": "stream",
          "text": [
            "Start training the model for one epoch...: 100%|██████████| 1073/1073 [08:51<00:00,  2.02it/s]\n",
            "120it [00:36,  3.29it/s]\n"
          ]
        },
        {
          "name": "stdout",
          "output_type": "stream",
          "text": [
            "Epoch: 30, train loss: 0.02157753856569695, val_loss: 0.03971624510983626, val_dice: 0.840750844893533, val_IoU: 0.7660721790030476\n"
          ]
        },
        {
          "name": "stderr",
          "output_type": "stream",
          "text": [
            "Start training the model for one epoch...:   2%|▏         | 20/1073 [00:15<08:54,  1.97it/s]"
          ]
        },
        {
          "name": "stdout",
          "output_type": "stream",
          "text": [
            "Batch 20 | Loss: 0.0201 | Learning rate:  0.000032\n"
          ]
        },
        {
          "name": "stderr",
          "output_type": "stream",
          "text": [
            "Start training the model for one epoch...:   4%|▎         | 40/1073 [00:25<08:29,  2.03it/s]"
          ]
        },
        {
          "name": "stdout",
          "output_type": "stream",
          "text": [
            "Batch 40 | Loss: 0.0138 | Learning rate:  0.000032\n"
          ]
        },
        {
          "name": "stderr",
          "output_type": "stream",
          "text": [
            "Start training the model for one epoch...:   6%|▌         | 60/1073 [00:35<08:22,  2.01it/s]"
          ]
        },
        {
          "name": "stdout",
          "output_type": "stream",
          "text": [
            "Batch 60 | Loss: 0.0130 | Learning rate:  0.000031\n"
          ]
        },
        {
          "name": "stderr",
          "output_type": "stream",
          "text": [
            "Start training the model for one epoch...:   7%|▋         | 80/1073 [00:44<08:05,  2.04it/s]"
          ]
        },
        {
          "name": "stdout",
          "output_type": "stream",
          "text": [
            "Batch 80 | Loss: 0.0302 | Learning rate:  0.000031\n"
          ]
        },
        {
          "name": "stderr",
          "output_type": "stream",
          "text": [
            "Start training the model for one epoch...:   9%|▉         | 100/1073 [00:54<08:06,  2.00it/s]"
          ]
        },
        {
          "name": "stdout",
          "output_type": "stream",
          "text": [
            "Batch 100 | Loss: 0.0286 | Learning rate:  0.000031\n"
          ]
        },
        {
          "name": "stderr",
          "output_type": "stream",
          "text": [
            "Start training the model for one epoch...:  11%|█         | 120/1073 [01:04<07:45,  2.05it/s]"
          ]
        },
        {
          "name": "stdout",
          "output_type": "stream",
          "text": [
            "Batch 120 | Loss: 0.0228 | Learning rate:  0.000031\n"
          ]
        },
        {
          "name": "stderr",
          "output_type": "stream",
          "text": [
            "Start training the model for one epoch...:  13%|█▎        | 140/1073 [01:14<07:37,  2.04it/s]"
          ]
        },
        {
          "name": "stdout",
          "output_type": "stream",
          "text": [
            "Batch 140 | Loss: 0.0156 | Learning rate:  0.000031\n"
          ]
        },
        {
          "name": "stderr",
          "output_type": "stream",
          "text": [
            "Start training the model for one epoch...:  15%|█▍        | 160/1073 [01:23<07:24,  2.06it/s]"
          ]
        },
        {
          "name": "stdout",
          "output_type": "stream",
          "text": [
            "Batch 160 | Loss: 0.0149 | Learning rate:  0.000031\n"
          ]
        },
        {
          "name": "stderr",
          "output_type": "stream",
          "text": [
            "Start training the model for one epoch...:  17%|█▋        | 180/1073 [01:33<07:21,  2.02it/s]"
          ]
        },
        {
          "name": "stdout",
          "output_type": "stream",
          "text": [
            "Batch 180 | Loss: 0.0216 | Learning rate:  0.000031\n"
          ]
        },
        {
          "name": "stderr",
          "output_type": "stream",
          "text": [
            "Start training the model for one epoch...:  19%|█▊        | 200/1073 [01:43<07:05,  2.05it/s]"
          ]
        },
        {
          "name": "stdout",
          "output_type": "stream",
          "text": [
            "Batch 200 | Loss: 0.0201 | Learning rate:  0.000031\n"
          ]
        },
        {
          "name": "stderr",
          "output_type": "stream",
          "text": [
            "Start training the model for one epoch...:  21%|██        | 220/1073 [01:53<07:05,  2.01it/s]"
          ]
        },
        {
          "name": "stdout",
          "output_type": "stream",
          "text": [
            "Batch 220 | Loss: 0.0103 | Learning rate:  0.000030\n"
          ]
        },
        {
          "name": "stderr",
          "output_type": "stream",
          "text": [
            "Start training the model for one epoch...:  22%|██▏       | 240/1073 [02:03<06:40,  2.08it/s]"
          ]
        },
        {
          "name": "stdout",
          "output_type": "stream",
          "text": [
            "Batch 240 | Loss: 0.0206 | Learning rate:  0.000030\n"
          ]
        },
        {
          "name": "stderr",
          "output_type": "stream",
          "text": [
            "Start training the model for one epoch...:  24%|██▍       | 260/1073 [02:12<06:42,  2.02it/s]"
          ]
        },
        {
          "name": "stdout",
          "output_type": "stream",
          "text": [
            "Batch 260 | Loss: 0.0140 | Learning rate:  0.000030\n"
          ]
        },
        {
          "name": "stderr",
          "output_type": "stream",
          "text": [
            "Start training the model for one epoch...:  26%|██▌       | 280/1073 [02:22<06:17,  2.10it/s]"
          ]
        },
        {
          "name": "stdout",
          "output_type": "stream",
          "text": [
            "Batch 280 | Loss: 0.0263 | Learning rate:  0.000030\n"
          ]
        },
        {
          "name": "stderr",
          "output_type": "stream",
          "text": [
            "Start training the model for one epoch...:  28%|██▊       | 300/1073 [02:32<06:24,  2.01it/s]"
          ]
        },
        {
          "name": "stdout",
          "output_type": "stream",
          "text": [
            "Batch 300 | Loss: 0.0251 | Learning rate:  0.000030\n"
          ]
        },
        {
          "name": "stderr",
          "output_type": "stream",
          "text": [
            "Start training the model for one epoch...:  30%|██▉       | 320/1073 [02:42<06:05,  2.06it/s]"
          ]
        },
        {
          "name": "stdout",
          "output_type": "stream",
          "text": [
            "Batch 320 | Loss: 0.0201 | Learning rate:  0.000030\n"
          ]
        },
        {
          "name": "stderr",
          "output_type": "stream",
          "text": [
            "Start training the model for one epoch...:  32%|███▏      | 340/1073 [02:52<06:03,  2.02it/s]"
          ]
        },
        {
          "name": "stdout",
          "output_type": "stream",
          "text": [
            "Batch 340 | Loss: 0.0218 | Learning rate:  0.000030\n"
          ]
        },
        {
          "name": "stderr",
          "output_type": "stream",
          "text": [
            "Start training the model for one epoch...:  34%|███▎      | 360/1073 [03:01<05:41,  2.09it/s]"
          ]
        },
        {
          "name": "stdout",
          "output_type": "stream",
          "text": [
            "Batch 360 | Loss: 0.0210 | Learning rate:  0.000030\n"
          ]
        },
        {
          "name": "stderr",
          "output_type": "stream",
          "text": [
            "Start training the model for one epoch...:  35%|███▌      | 380/1073 [03:11<05:43,  2.02it/s]"
          ]
        },
        {
          "name": "stdout",
          "output_type": "stream",
          "text": [
            "Batch 380 | Loss: 0.0172 | Learning rate:  0.000029\n"
          ]
        },
        {
          "name": "stderr",
          "output_type": "stream",
          "text": [
            "Start training the model for one epoch...:  37%|███▋      | 400/1073 [03:21<05:22,  2.09it/s]"
          ]
        },
        {
          "name": "stdout",
          "output_type": "stream",
          "text": [
            "Batch 400 | Loss: 0.0266 | Learning rate:  0.000029\n"
          ]
        },
        {
          "name": "stderr",
          "output_type": "stream",
          "text": [
            "Start training the model for one epoch...:  39%|███▉      | 420/1073 [03:31<05:25,  2.01it/s]"
          ]
        },
        {
          "name": "stdout",
          "output_type": "stream",
          "text": [
            "Batch 420 | Loss: 0.0196 | Learning rate:  0.000029\n"
          ]
        },
        {
          "name": "stderr",
          "output_type": "stream",
          "text": [
            "Start training the model for one epoch...:  41%|████      | 440/1073 [03:41<05:10,  2.04it/s]"
          ]
        },
        {
          "name": "stdout",
          "output_type": "stream",
          "text": [
            "Batch 440 | Loss: 0.0130 | Learning rate:  0.000029\n"
          ]
        },
        {
          "name": "stderr",
          "output_type": "stream",
          "text": [
            "Start training the model for one epoch...:  43%|████▎     | 460/1073 [03:50<05:03,  2.02it/s]"
          ]
        },
        {
          "name": "stdout",
          "output_type": "stream",
          "text": [
            "Batch 460 | Loss: 0.0210 | Learning rate:  0.000029\n"
          ]
        },
        {
          "name": "stderr",
          "output_type": "stream",
          "text": [
            "Start training the model for one epoch...:  45%|████▍     | 480/1073 [04:00<04:54,  2.02it/s]"
          ]
        },
        {
          "name": "stdout",
          "output_type": "stream",
          "text": [
            "Batch 480 | Loss: 0.0176 | Learning rate:  0.000029\n"
          ]
        },
        {
          "name": "stderr",
          "output_type": "stream",
          "text": [
            "Start training the model for one epoch...:  47%|████▋     | 500/1073 [04:10<04:44,  2.01it/s]"
          ]
        },
        {
          "name": "stdout",
          "output_type": "stream",
          "text": [
            "Batch 500 | Loss: 0.0291 | Learning rate:  0.000029\n"
          ]
        },
        {
          "name": "stderr",
          "output_type": "stream",
          "text": [
            "Start training the model for one epoch...:  48%|████▊     | 520/1073 [04:20<04:31,  2.03it/s]"
          ]
        },
        {
          "name": "stdout",
          "output_type": "stream",
          "text": [
            "Batch 520 | Loss: 0.0184 | Learning rate:  0.000029\n"
          ]
        },
        {
          "name": "stderr",
          "output_type": "stream",
          "text": [
            "Start training the model for one epoch...:  50%|█████     | 540/1073 [04:30<04:22,  2.03it/s]"
          ]
        },
        {
          "name": "stdout",
          "output_type": "stream",
          "text": [
            "Batch 540 | Loss: 0.0233 | Learning rate:  0.000029\n"
          ]
        },
        {
          "name": "stderr",
          "output_type": "stream",
          "text": [
            "Start training the model for one epoch...:  52%|█████▏    | 560/1073 [04:39<04:13,  2.02it/s]"
          ]
        },
        {
          "name": "stdout",
          "output_type": "stream",
          "text": [
            "Batch 560 | Loss: 0.0270 | Learning rate:  0.000028\n"
          ]
        },
        {
          "name": "stderr",
          "output_type": "stream",
          "text": [
            "Start training the model for one epoch...:  54%|█████▍    | 580/1073 [04:49<04:00,  2.05it/s]"
          ]
        },
        {
          "name": "stdout",
          "output_type": "stream",
          "text": [
            "Batch 580 | Loss: 0.0337 | Learning rate:  0.000028\n"
          ]
        },
        {
          "name": "stderr",
          "output_type": "stream",
          "text": [
            "Start training the model for one epoch...:  56%|█████▌    | 600/1073 [04:59<03:50,  2.05it/s]"
          ]
        },
        {
          "name": "stdout",
          "output_type": "stream",
          "text": [
            "Batch 600 | Loss: 0.0144 | Learning rate:  0.000028\n"
          ]
        },
        {
          "name": "stderr",
          "output_type": "stream",
          "text": [
            "Start training the model for one epoch...:  58%|█████▊    | 620/1073 [05:09<03:45,  2.01it/s]"
          ]
        },
        {
          "name": "stdout",
          "output_type": "stream",
          "text": [
            "Batch 620 | Loss: 0.0226 | Learning rate:  0.000028\n"
          ]
        },
        {
          "name": "stderr",
          "output_type": "stream",
          "text": [
            "Start training the model for one epoch...:  60%|█████▉    | 640/1073 [05:19<03:30,  2.05it/s]"
          ]
        },
        {
          "name": "stdout",
          "output_type": "stream",
          "text": [
            "Batch 640 | Loss: 0.0160 | Learning rate:  0.000028\n"
          ]
        },
        {
          "name": "stderr",
          "output_type": "stream",
          "text": [
            "Start training the model for one epoch...:  62%|██████▏   | 660/1073 [05:29<03:24,  2.02it/s]"
          ]
        },
        {
          "name": "stdout",
          "output_type": "stream",
          "text": [
            "Batch 660 | Loss: 0.0186 | Learning rate:  0.000028\n"
          ]
        },
        {
          "name": "stderr",
          "output_type": "stream",
          "text": [
            "Start training the model for one epoch...:  63%|██████▎   | 680/1073 [05:38<03:12,  2.04it/s]"
          ]
        },
        {
          "name": "stdout",
          "output_type": "stream",
          "text": [
            "Batch 680 | Loss: 0.0131 | Learning rate:  0.000028\n"
          ]
        },
        {
          "name": "stderr",
          "output_type": "stream",
          "text": [
            "Start training the model for one epoch...:  65%|██████▌   | 700/1073 [05:48<03:01,  2.06it/s]"
          ]
        },
        {
          "name": "stdout",
          "output_type": "stream",
          "text": [
            "Batch 700 | Loss: 0.0280 | Learning rate:  0.000028\n"
          ]
        },
        {
          "name": "stderr",
          "output_type": "stream",
          "text": [
            "Start training the model for one epoch...:  67%|██████▋   | 720/1073 [05:58<02:55,  2.01it/s]"
          ]
        },
        {
          "name": "stdout",
          "output_type": "stream",
          "text": [
            "Batch 720 | Loss: 0.0250 | Learning rate:  0.000028\n"
          ]
        },
        {
          "name": "stderr",
          "output_type": "stream",
          "text": [
            "Start training the model for one epoch...:  69%|██████▉   | 740/1073 [06:08<02:43,  2.04it/s]"
          ]
        },
        {
          "name": "stdout",
          "output_type": "stream",
          "text": [
            "Batch 740 | Loss: 0.0638 | Learning rate:  0.000027\n"
          ]
        },
        {
          "name": "stderr",
          "output_type": "stream",
          "text": [
            "Start training the model for one epoch...:  71%|███████   | 760/1073 [06:18<02:37,  1.99it/s]"
          ]
        },
        {
          "name": "stdout",
          "output_type": "stream",
          "text": [
            "Batch 760 | Loss: 0.0303 | Learning rate:  0.000027\n"
          ]
        },
        {
          "name": "stderr",
          "output_type": "stream",
          "text": [
            "Start training the model for one epoch...:  73%|███████▎  | 780/1073 [06:28<02:21,  2.07it/s]"
          ]
        },
        {
          "name": "stdout",
          "output_type": "stream",
          "text": [
            "Batch 780 | Loss: 0.0161 | Learning rate:  0.000027\n"
          ]
        },
        {
          "name": "stderr",
          "output_type": "stream",
          "text": [
            "Start training the model for one epoch...:  75%|███████▍  | 800/1073 [06:37<02:13,  2.05it/s]"
          ]
        },
        {
          "name": "stdout",
          "output_type": "stream",
          "text": [
            "Batch 800 | Loss: 0.0165 | Learning rate:  0.000027\n"
          ]
        },
        {
          "name": "stderr",
          "output_type": "stream",
          "text": [
            "Start training the model for one epoch...:  76%|███████▋  | 820/1073 [06:47<02:03,  2.05it/s]"
          ]
        },
        {
          "name": "stdout",
          "output_type": "stream",
          "text": [
            "Batch 820 | Loss: 0.0228 | Learning rate:  0.000027\n"
          ]
        },
        {
          "name": "stderr",
          "output_type": "stream",
          "text": [
            "Start training the model for one epoch...:  78%|███████▊  | 840/1073 [06:57<01:55,  2.02it/s]"
          ]
        },
        {
          "name": "stdout",
          "output_type": "stream",
          "text": [
            "Batch 840 | Loss: 0.0210 | Learning rate:  0.000027\n"
          ]
        },
        {
          "name": "stderr",
          "output_type": "stream",
          "text": [
            "Start training the model for one epoch...:  80%|████████  | 860/1073 [07:07<01:43,  2.07it/s]"
          ]
        },
        {
          "name": "stdout",
          "output_type": "stream",
          "text": [
            "Batch 860 | Loss: 0.0196 | Learning rate:  0.000027\n"
          ]
        },
        {
          "name": "stderr",
          "output_type": "stream",
          "text": [
            "Start training the model for one epoch...:  82%|████████▏ | 880/1073 [07:17<01:37,  1.99it/s]"
          ]
        },
        {
          "name": "stdout",
          "output_type": "stream",
          "text": [
            "Batch 880 | Loss: 0.0189 | Learning rate:  0.000027\n"
          ]
        },
        {
          "name": "stderr",
          "output_type": "stream",
          "text": [
            "Start training the model for one epoch...:  84%|████████▍ | 900/1073 [07:26<01:25,  2.02it/s]"
          ]
        },
        {
          "name": "stdout",
          "output_type": "stream",
          "text": [
            "Batch 900 | Loss: 0.0185 | Learning rate:  0.000027\n"
          ]
        },
        {
          "name": "stderr",
          "output_type": "stream",
          "text": [
            "Start training the model for one epoch...:  86%|████████▌ | 920/1073 [07:36<01:15,  2.02it/s]"
          ]
        },
        {
          "name": "stdout",
          "output_type": "stream",
          "text": [
            "Batch 920 | Loss: 0.0177 | Learning rate:  0.000026\n"
          ]
        },
        {
          "name": "stderr",
          "output_type": "stream",
          "text": [
            "Start training the model for one epoch...:  88%|████████▊ | 940/1073 [07:46<01:04,  2.07it/s]"
          ]
        },
        {
          "name": "stdout",
          "output_type": "stream",
          "text": [
            "Batch 940 | Loss: 0.0149 | Learning rate:  0.000026\n"
          ]
        },
        {
          "name": "stderr",
          "output_type": "stream",
          "text": [
            "Start training the model for one epoch...:  89%|████████▉ | 960/1073 [07:56<00:55,  2.03it/s]"
          ]
        },
        {
          "name": "stdout",
          "output_type": "stream",
          "text": [
            "Batch 960 | Loss: 0.0299 | Learning rate:  0.000026\n"
          ]
        },
        {
          "name": "stderr",
          "output_type": "stream",
          "text": [
            "Start training the model for one epoch...:  91%|█████████▏| 980/1073 [08:06<00:44,  2.08it/s]"
          ]
        },
        {
          "name": "stdout",
          "output_type": "stream",
          "text": [
            "Batch 980 | Loss: 0.0202 | Learning rate:  0.000026\n"
          ]
        },
        {
          "name": "stderr",
          "output_type": "stream",
          "text": [
            "Start training the model for one epoch...:  93%|█████████▎| 1000/1073 [08:16<00:36,  2.02it/s]"
          ]
        },
        {
          "name": "stdout",
          "output_type": "stream",
          "text": [
            "Batch 1000 | Loss: 0.0155 | Learning rate:  0.000026\n"
          ]
        },
        {
          "name": "stderr",
          "output_type": "stream",
          "text": [
            "Start training the model for one epoch...:  95%|█████████▌| 1020/1073 [08:25<00:25,  2.09it/s]"
          ]
        },
        {
          "name": "stdout",
          "output_type": "stream",
          "text": [
            "Batch 1020 | Loss: 0.0189 | Learning rate:  0.000026\n"
          ]
        },
        {
          "name": "stderr",
          "output_type": "stream",
          "text": [
            "Start training the model for one epoch...:  97%|█████████▋| 1040/1073 [08:35<00:16,  2.01it/s]"
          ]
        },
        {
          "name": "stdout",
          "output_type": "stream",
          "text": [
            "Batch 1040 | Loss: 0.0258 | Learning rate:  0.000026\n"
          ]
        },
        {
          "name": "stderr",
          "output_type": "stream",
          "text": [
            "Start training the model for one epoch...:  99%|█████████▉| 1060/1073 [08:45<00:06,  2.15it/s]"
          ]
        },
        {
          "name": "stdout",
          "output_type": "stream",
          "text": [
            "Batch 1060 | Loss: 0.0229 | Learning rate:  0.000026\n"
          ]
        },
        {
          "name": "stderr",
          "output_type": "stream",
          "text": [
            "Start training the model for one epoch...: 100%|██████████| 1073/1073 [08:51<00:00,  2.02it/s]\n",
            "120it [00:36,  3.25it/s]\n"
          ]
        },
        {
          "name": "stdout",
          "output_type": "stream",
          "text": [
            "Epoch: 31, train loss: 0.021488250605588413, val_loss: 0.03892042987669508, val_dice: 0.8423629765223998, val_IoU: 0.7659872724101817\n"
          ]
        },
        {
          "name": "stderr",
          "output_type": "stream",
          "text": [
            "Start training the model for one epoch...:   2%|▏         | 20/1073 [00:15<08:51,  1.98it/s]"
          ]
        },
        {
          "name": "stdout",
          "output_type": "stream",
          "text": [
            "Batch 20 | Loss: 0.0136 | Learning rate:  0.000025\n"
          ]
        },
        {
          "name": "stderr",
          "output_type": "stream",
          "text": [
            "Start training the model for one epoch...:   4%|▎         | 40/1073 [00:24<08:20,  2.06it/s]"
          ]
        },
        {
          "name": "stdout",
          "output_type": "stream",
          "text": [
            "Batch 40 | Loss: 0.0406 | Learning rate:  0.000025\n"
          ]
        },
        {
          "name": "stderr",
          "output_type": "stream",
          "text": [
            "Start training the model for one epoch...:   6%|▌         | 60/1073 [00:34<08:22,  2.02it/s]"
          ]
        },
        {
          "name": "stdout",
          "output_type": "stream",
          "text": [
            "Batch 60 | Loss: 0.0159 | Learning rate:  0.000025\n"
          ]
        },
        {
          "name": "stderr",
          "output_type": "stream",
          "text": [
            "Start training the model for one epoch...:   7%|▋         | 80/1073 [00:44<08:01,  2.06it/s]"
          ]
        },
        {
          "name": "stdout",
          "output_type": "stream",
          "text": [
            "Batch 80 | Loss: 0.0176 | Learning rate:  0.000025\n"
          ]
        },
        {
          "name": "stderr",
          "output_type": "stream",
          "text": [
            "Start training the model for one epoch...:   9%|▉         | 100/1073 [00:54<08:01,  2.02it/s]"
          ]
        },
        {
          "name": "stdout",
          "output_type": "stream",
          "text": [
            "Batch 100 | Loss: 0.0221 | Learning rate:  0.000025\n"
          ]
        },
        {
          "name": "stderr",
          "output_type": "stream",
          "text": [
            "Start training the model for one epoch...:  11%|█         | 120/1073 [01:04<07:38,  2.08it/s]"
          ]
        },
        {
          "name": "stdout",
          "output_type": "stream",
          "text": [
            "Batch 120 | Loss: 0.0155 | Learning rate:  0.000025\n"
          ]
        },
        {
          "name": "stderr",
          "output_type": "stream",
          "text": [
            "Start training the model for one epoch...:  13%|█▎        | 140/1073 [01:14<07:41,  2.02it/s]"
          ]
        },
        {
          "name": "stdout",
          "output_type": "stream",
          "text": [
            "Batch 140 | Loss: 0.0201 | Learning rate:  0.000025\n"
          ]
        },
        {
          "name": "stderr",
          "output_type": "stream",
          "text": [
            "Start training the model for one epoch...:  15%|█▍        | 160/1073 [01:23<07:22,  2.06it/s]"
          ]
        },
        {
          "name": "stdout",
          "output_type": "stream",
          "text": [
            "Batch 160 | Loss: 0.0216 | Learning rate:  0.000025\n"
          ]
        },
        {
          "name": "stderr",
          "output_type": "stream",
          "text": [
            "Start training the model for one epoch...:  17%|█▋        | 180/1073 [01:33<07:18,  2.04it/s]"
          ]
        },
        {
          "name": "stdout",
          "output_type": "stream",
          "text": [
            "Batch 180 | Loss: 0.0212 | Learning rate:  0.000025\n"
          ]
        },
        {
          "name": "stderr",
          "output_type": "stream",
          "text": [
            "Start training the model for one epoch...:  19%|█▊        | 200/1073 [01:43<06:59,  2.08it/s]"
          ]
        },
        {
          "name": "stdout",
          "output_type": "stream",
          "text": [
            "Batch 200 | Loss: 0.0151 | Learning rate:  0.000024\n"
          ]
        },
        {
          "name": "stderr",
          "output_type": "stream",
          "text": [
            "Start training the model for one epoch...:  21%|██        | 220/1073 [01:53<07:05,  2.01it/s]"
          ]
        },
        {
          "name": "stdout",
          "output_type": "stream",
          "text": [
            "Batch 220 | Loss: 0.0220 | Learning rate:  0.000024\n"
          ]
        },
        {
          "name": "stderr",
          "output_type": "stream",
          "text": [
            "Start training the model for one epoch...:  22%|██▏       | 240/1073 [02:03<06:50,  2.03it/s]"
          ]
        },
        {
          "name": "stdout",
          "output_type": "stream",
          "text": [
            "Batch 240 | Loss: 0.0172 | Learning rate:  0.000024\n"
          ]
        },
        {
          "name": "stderr",
          "output_type": "stream",
          "text": [
            "Start training the model for one epoch...:  24%|██▍       | 260/1073 [02:12<06:42,  2.02it/s]"
          ]
        },
        {
          "name": "stdout",
          "output_type": "stream",
          "text": [
            "Batch 260 | Loss: 0.0295 | Learning rate:  0.000024\n"
          ]
        },
        {
          "name": "stderr",
          "output_type": "stream",
          "text": [
            "Start training the model for one epoch...:  26%|██▌       | 280/1073 [02:22<06:26,  2.05it/s]"
          ]
        },
        {
          "name": "stdout",
          "output_type": "stream",
          "text": [
            "Batch 280 | Loss: 0.0224 | Learning rate:  0.000024\n"
          ]
        },
        {
          "name": "stderr",
          "output_type": "stream",
          "text": [
            "Start training the model for one epoch...:  28%|██▊       | 300/1073 [02:32<06:19,  2.04it/s]"
          ]
        },
        {
          "name": "stdout",
          "output_type": "stream",
          "text": [
            "Batch 300 | Loss: 0.0126 | Learning rate:  0.000024\n"
          ]
        },
        {
          "name": "stderr",
          "output_type": "stream",
          "text": [
            "Start training the model for one epoch...:  30%|██▉       | 320/1073 [02:42<06:07,  2.05it/s]"
          ]
        },
        {
          "name": "stdout",
          "output_type": "stream",
          "text": [
            "Batch 320 | Loss: 0.0165 | Learning rate:  0.000024\n"
          ]
        },
        {
          "name": "stderr",
          "output_type": "stream",
          "text": [
            "Start training the model for one epoch...:  32%|███▏      | 340/1073 [02:51<06:04,  2.01it/s]"
          ]
        },
        {
          "name": "stdout",
          "output_type": "stream",
          "text": [
            "Batch 340 | Loss: 0.0177 | Learning rate:  0.000024\n"
          ]
        },
        {
          "name": "stderr",
          "output_type": "stream",
          "text": [
            "Start training the model for one epoch...:  34%|███▎      | 360/1073 [03:01<05:40,  2.10it/s]"
          ]
        },
        {
          "name": "stdout",
          "output_type": "stream",
          "text": [
            "Batch 360 | Loss: 0.0126 | Learning rate:  0.000024\n"
          ]
        },
        {
          "name": "stderr",
          "output_type": "stream",
          "text": [
            "Start training the model for one epoch...:  35%|███▌      | 380/1073 [03:11<05:40,  2.04it/s]"
          ]
        },
        {
          "name": "stdout",
          "output_type": "stream",
          "text": [
            "Batch 380 | Loss: 0.0136 | Learning rate:  0.000024\n"
          ]
        },
        {
          "name": "stderr",
          "output_type": "stream",
          "text": [
            "Start training the model for one epoch...:  37%|███▋      | 400/1073 [03:20<05:25,  2.06it/s]"
          ]
        },
        {
          "name": "stdout",
          "output_type": "stream",
          "text": [
            "Batch 400 | Loss: 0.0245 | Learning rate:  0.000023\n"
          ]
        },
        {
          "name": "stderr",
          "output_type": "stream",
          "text": [
            "Start training the model for one epoch...:  39%|███▉      | 420/1073 [03:30<05:18,  2.05it/s]"
          ]
        },
        {
          "name": "stdout",
          "output_type": "stream",
          "text": [
            "Batch 420 | Loss: 0.0223 | Learning rate:  0.000023\n"
          ]
        },
        {
          "name": "stderr",
          "output_type": "stream",
          "text": [
            "Start training the model for one epoch...:  41%|████      | 440/1073 [03:40<05:10,  2.04it/s]"
          ]
        },
        {
          "name": "stdout",
          "output_type": "stream",
          "text": [
            "Batch 440 | Loss: 0.0114 | Learning rate:  0.000023\n"
          ]
        },
        {
          "name": "stderr",
          "output_type": "stream",
          "text": [
            "Start training the model for one epoch...:  43%|████▎     | 460/1073 [03:50<05:03,  2.02it/s]"
          ]
        },
        {
          "name": "stdout",
          "output_type": "stream",
          "text": [
            "Batch 460 | Loss: 0.0121 | Learning rate:  0.000023\n"
          ]
        },
        {
          "name": "stderr",
          "output_type": "stream",
          "text": [
            "Start training the model for one epoch...:  45%|████▍     | 480/1073 [03:59<04:47,  2.06it/s]"
          ]
        },
        {
          "name": "stdout",
          "output_type": "stream",
          "text": [
            "Batch 480 | Loss: 0.0208 | Learning rate:  0.000023\n"
          ]
        },
        {
          "name": "stderr",
          "output_type": "stream",
          "text": [
            "Start training the model for one epoch...:  47%|████▋     | 500/1073 [04:09<04:37,  2.06it/s]"
          ]
        },
        {
          "name": "stdout",
          "output_type": "stream",
          "text": [
            "Batch 500 | Loss: 0.0225 | Learning rate:  0.000023\n"
          ]
        },
        {
          "name": "stderr",
          "output_type": "stream",
          "text": [
            "Start training the model for one epoch...:  48%|████▊     | 520/1073 [04:19<04:32,  2.03it/s]"
          ]
        },
        {
          "name": "stdout",
          "output_type": "stream",
          "text": [
            "Batch 520 | Loss: 0.0214 | Learning rate:  0.000023\n"
          ]
        },
        {
          "name": "stderr",
          "output_type": "stream",
          "text": [
            "Start training the model for one epoch...:  50%|█████     | 540/1073 [04:29<04:24,  2.01it/s]"
          ]
        },
        {
          "name": "stdout",
          "output_type": "stream",
          "text": [
            "Batch 540 | Loss: 0.0357 | Learning rate:  0.000023\n"
          ]
        },
        {
          "name": "stderr",
          "output_type": "stream",
          "text": [
            "Start training the model for one epoch...:  52%|█████▏    | 560/1073 [04:39<04:15,  2.01it/s]"
          ]
        },
        {
          "name": "stdout",
          "output_type": "stream",
          "text": [
            "Batch 560 | Loss: 0.0462 | Learning rate:  0.000023\n"
          ]
        },
        {
          "name": "stderr",
          "output_type": "stream",
          "text": [
            "Start training the model for one epoch...:  54%|█████▍    | 580/1073 [04:49<03:59,  2.06it/s]"
          ]
        },
        {
          "name": "stdout",
          "output_type": "stream",
          "text": [
            "Batch 580 | Loss: 0.0142 | Learning rate:  0.000022\n"
          ]
        },
        {
          "name": "stderr",
          "output_type": "stream",
          "text": [
            "Start training the model for one epoch...:  56%|█████▌    | 600/1073 [04:58<03:49,  2.06it/s]"
          ]
        },
        {
          "name": "stdout",
          "output_type": "stream",
          "text": [
            "Batch 600 | Loss: 0.0223 | Learning rate:  0.000022\n"
          ]
        },
        {
          "name": "stderr",
          "output_type": "stream",
          "text": [
            "Start training the model for one epoch...:  58%|█████▊    | 620/1073 [05:08<03:39,  2.07it/s]"
          ]
        },
        {
          "name": "stdout",
          "output_type": "stream",
          "text": [
            "Batch 620 | Loss: 0.0232 | Learning rate:  0.000022\n"
          ]
        },
        {
          "name": "stderr",
          "output_type": "stream",
          "text": [
            "Start training the model for one epoch...:  60%|█████▉    | 640/1073 [05:18<03:31,  2.04it/s]"
          ]
        },
        {
          "name": "stdout",
          "output_type": "stream",
          "text": [
            "Batch 640 | Loss: 0.0376 | Learning rate:  0.000022\n"
          ]
        },
        {
          "name": "stderr",
          "output_type": "stream",
          "text": [
            "Start training the model for one epoch...:  62%|██████▏   | 660/1073 [05:28<03:22,  2.04it/s]"
          ]
        },
        {
          "name": "stdout",
          "output_type": "stream",
          "text": [
            "Batch 660 | Loss: 0.0169 | Learning rate:  0.000022\n"
          ]
        },
        {
          "name": "stderr",
          "output_type": "stream",
          "text": [
            "Start training the model for one epoch...:  63%|██████▎   | 680/1073 [05:37<03:12,  2.04it/s]"
          ]
        },
        {
          "name": "stdout",
          "output_type": "stream",
          "text": [
            "Batch 680 | Loss: 0.0253 | Learning rate:  0.000022\n"
          ]
        },
        {
          "name": "stderr",
          "output_type": "stream",
          "text": [
            "Start training the model for one epoch...:  65%|██████▌   | 700/1073 [05:47<03:00,  2.07it/s]"
          ]
        },
        {
          "name": "stdout",
          "output_type": "stream",
          "text": [
            "Batch 700 | Loss: 0.0214 | Learning rate:  0.000022\n"
          ]
        },
        {
          "name": "stderr",
          "output_type": "stream",
          "text": [
            "Start training the model for one epoch...:  67%|██████▋   | 720/1073 [05:57<02:51,  2.06it/s]"
          ]
        },
        {
          "name": "stdout",
          "output_type": "stream",
          "text": [
            "Batch 720 | Loss: 0.0138 | Learning rate:  0.000022\n"
          ]
        },
        {
          "name": "stderr",
          "output_type": "stream",
          "text": [
            "Start training the model for one epoch...:  69%|██████▉   | 740/1073 [06:07<02:41,  2.06it/s]"
          ]
        },
        {
          "name": "stdout",
          "output_type": "stream",
          "text": [
            "Batch 740 | Loss: 0.0155 | Learning rate:  0.000022\n"
          ]
        },
        {
          "name": "stderr",
          "output_type": "stream",
          "text": [
            "Start training the model for one epoch...:  71%|███████   | 760/1073 [06:17<02:31,  2.07it/s]"
          ]
        },
        {
          "name": "stdout",
          "output_type": "stream",
          "text": [
            "Batch 760 | Loss: 0.0235 | Learning rate:  0.000022\n"
          ]
        },
        {
          "name": "stderr",
          "output_type": "stream",
          "text": [
            "Start training the model for one epoch...:  73%|███████▎  | 780/1073 [06:26<02:24,  2.03it/s]"
          ]
        },
        {
          "name": "stdout",
          "output_type": "stream",
          "text": [
            "Batch 780 | Loss: 0.0252 | Learning rate:  0.000021\n"
          ]
        },
        {
          "name": "stderr",
          "output_type": "stream",
          "text": [
            "Start training the model for one epoch...:  75%|███████▍  | 800/1073 [06:36<02:14,  2.03it/s]"
          ]
        },
        {
          "name": "stdout",
          "output_type": "stream",
          "text": [
            "Batch 800 | Loss: 0.0313 | Learning rate:  0.000021\n"
          ]
        },
        {
          "name": "stderr",
          "output_type": "stream",
          "text": [
            "Start training the model for one epoch...:  76%|███████▋  | 820/1073 [06:46<02:05,  2.01it/s]"
          ]
        },
        {
          "name": "stdout",
          "output_type": "stream",
          "text": [
            "Batch 820 | Loss: 0.0175 | Learning rate:  0.000021\n"
          ]
        },
        {
          "name": "stderr",
          "output_type": "stream",
          "text": [
            "Start training the model for one epoch...:  78%|███████▊  | 840/1073 [06:56<01:55,  2.02it/s]"
          ]
        },
        {
          "name": "stdout",
          "output_type": "stream",
          "text": [
            "Batch 840 | Loss: 0.0158 | Learning rate:  0.000021\n"
          ]
        },
        {
          "name": "stderr",
          "output_type": "stream",
          "text": [
            "Start training the model for one epoch...:  80%|████████  | 860/1073 [07:06<01:42,  2.07it/s]"
          ]
        },
        {
          "name": "stdout",
          "output_type": "stream",
          "text": [
            "Batch 860 | Loss: 0.0159 | Learning rate:  0.000021\n"
          ]
        },
        {
          "name": "stderr",
          "output_type": "stream",
          "text": [
            "Start training the model for one epoch...:  82%|████████▏ | 880/1073 [07:16<01:36,  2.01it/s]"
          ]
        },
        {
          "name": "stdout",
          "output_type": "stream",
          "text": [
            "Batch 880 | Loss: 0.0219 | Learning rate:  0.000021\n"
          ]
        },
        {
          "name": "stderr",
          "output_type": "stream",
          "text": [
            "Start training the model for one epoch...:  84%|████████▍ | 900/1073 [07:26<01:24,  2.05it/s]"
          ]
        },
        {
          "name": "stdout",
          "output_type": "stream",
          "text": [
            "Batch 900 | Loss: 0.0240 | Learning rate:  0.000021\n"
          ]
        },
        {
          "name": "stderr",
          "output_type": "stream",
          "text": [
            "Start training the model for one epoch...:  86%|████████▌ | 920/1073 [07:35<01:15,  2.02it/s]"
          ]
        },
        {
          "name": "stdout",
          "output_type": "stream",
          "text": [
            "Batch 920 | Loss: 0.0164 | Learning rate:  0.000021\n"
          ]
        },
        {
          "name": "stderr",
          "output_type": "stream",
          "text": [
            "Start training the model for one epoch...:  88%|████████▊ | 940/1073 [07:45<01:05,  2.03it/s]"
          ]
        },
        {
          "name": "stdout",
          "output_type": "stream",
          "text": [
            "Batch 940 | Loss: 0.0235 | Learning rate:  0.000021\n"
          ]
        },
        {
          "name": "stderr",
          "output_type": "stream",
          "text": [
            "Start training the model for one epoch...:  89%|████████▉ | 960/1073 [07:55<00:55,  2.03it/s]"
          ]
        },
        {
          "name": "stdout",
          "output_type": "stream",
          "text": [
            "Batch 960 | Loss: 0.0258 | Learning rate:  0.000021\n"
          ]
        },
        {
          "name": "stderr",
          "output_type": "stream",
          "text": [
            "Start training the model for one epoch...:  91%|█████████▏| 980/1073 [08:05<00:45,  2.04it/s]"
          ]
        },
        {
          "name": "stdout",
          "output_type": "stream",
          "text": [
            "Batch 980 | Loss: 0.0193 | Learning rate:  0.000020\n"
          ]
        },
        {
          "name": "stderr",
          "output_type": "stream",
          "text": [
            "Start training the model for one epoch...:  93%|█████████▎| 1000/1073 [08:15<00:36,  2.01it/s]"
          ]
        },
        {
          "name": "stdout",
          "output_type": "stream",
          "text": [
            "Batch 1000 | Loss: 0.0166 | Learning rate:  0.000020\n"
          ]
        },
        {
          "name": "stderr",
          "output_type": "stream",
          "text": [
            "Start training the model for one epoch...:  95%|█████████▌| 1020/1073 [08:24<00:25,  2.05it/s]"
          ]
        },
        {
          "name": "stdout",
          "output_type": "stream",
          "text": [
            "Batch 1020 | Loss: 0.0203 | Learning rate:  0.000020\n"
          ]
        },
        {
          "name": "stderr",
          "output_type": "stream",
          "text": [
            "Start training the model for one epoch...:  97%|█████████▋| 1040/1073 [08:34<00:16,  2.00it/s]"
          ]
        },
        {
          "name": "stdout",
          "output_type": "stream",
          "text": [
            "Batch 1040 | Loss: 0.0152 | Learning rate:  0.000020\n"
          ]
        },
        {
          "name": "stderr",
          "output_type": "stream",
          "text": [
            "Start training the model for one epoch...:  99%|█████████▉| 1060/1073 [08:44<00:06,  2.15it/s]"
          ]
        },
        {
          "name": "stdout",
          "output_type": "stream",
          "text": [
            "Batch 1060 | Loss: 0.0233 | Learning rate:  0.000020\n"
          ]
        },
        {
          "name": "stderr",
          "output_type": "stream",
          "text": [
            "Start training the model for one epoch...: 100%|██████████| 1073/1073 [08:50<00:00,  2.02it/s]\n",
            "120it [00:36,  3.27it/s]\n"
          ]
        },
        {
          "name": "stdout",
          "output_type": "stream",
          "text": [
            "Epoch: 32, train loss: 0.021196706621071804, val_loss: 0.0389315120720615, val_dice: 0.8422107303859478, val_IoU: 0.7673325076810245\n"
          ]
        },
        {
          "name": "stderr",
          "output_type": "stream",
          "text": [
            "Start training the model for one epoch...:   2%|▏         | 20/1073 [00:15<08:51,  1.98it/s]"
          ]
        },
        {
          "name": "stdout",
          "output_type": "stream",
          "text": [
            "Batch 20 | Loss: 0.0219 | Learning rate:  0.000020\n"
          ]
        },
        {
          "name": "stderr",
          "output_type": "stream",
          "text": [
            "Start training the model for one epoch...:   4%|▎         | 40/1073 [00:25<08:28,  2.03it/s]"
          ]
        },
        {
          "name": "stdout",
          "output_type": "stream",
          "text": [
            "Batch 40 | Loss: 0.0210 | Learning rate:  0.000020\n"
          ]
        },
        {
          "name": "stderr",
          "output_type": "stream",
          "text": [
            "Start training the model for one epoch...:   6%|▌         | 60/1073 [00:34<08:10,  2.06it/s]"
          ]
        },
        {
          "name": "stdout",
          "output_type": "stream",
          "text": [
            "Batch 60 | Loss: 0.0138 | Learning rate:  0.000020\n"
          ]
        },
        {
          "name": "stderr",
          "output_type": "stream",
          "text": [
            "Start training the model for one epoch...:   7%|▋         | 80/1073 [00:44<08:01,  2.06it/s]"
          ]
        },
        {
          "name": "stdout",
          "output_type": "stream",
          "text": [
            "Batch 80 | Loss: 0.0119 | Learning rate:  0.000020\n"
          ]
        },
        {
          "name": "stderr",
          "output_type": "stream",
          "text": [
            "Start training the model for one epoch...:   9%|▉         | 100/1073 [00:54<07:57,  2.04it/s]"
          ]
        },
        {
          "name": "stdout",
          "output_type": "stream",
          "text": [
            "Batch 100 | Loss: 0.0288 | Learning rate:  0.000020\n"
          ]
        },
        {
          "name": "stderr",
          "output_type": "stream",
          "text": [
            "Start training the model for one epoch...:  11%|█         | 120/1073 [01:04<07:44,  2.05it/s]"
          ]
        },
        {
          "name": "stdout",
          "output_type": "stream",
          "text": [
            "Batch 120 | Loss: 0.0190 | Learning rate:  0.000019\n"
          ]
        },
        {
          "name": "stderr",
          "output_type": "stream",
          "text": [
            "Start training the model for one epoch...:  13%|█▎        | 140/1073 [01:14<07:40,  2.02it/s]"
          ]
        },
        {
          "name": "stdout",
          "output_type": "stream",
          "text": [
            "Batch 140 | Loss: 0.0240 | Learning rate:  0.000019\n"
          ]
        },
        {
          "name": "stderr",
          "output_type": "stream",
          "text": [
            "Start training the model for one epoch...:  15%|█▍        | 160/1073 [01:23<07:24,  2.06it/s]"
          ]
        },
        {
          "name": "stdout",
          "output_type": "stream",
          "text": [
            "Batch 160 | Loss: 0.0160 | Learning rate:  0.000019\n"
          ]
        },
        {
          "name": "stderr",
          "output_type": "stream",
          "text": [
            "Start training the model for one epoch...:  17%|█▋        | 180/1073 [01:33<07:19,  2.03it/s]"
          ]
        },
        {
          "name": "stdout",
          "output_type": "stream",
          "text": [
            "Batch 180 | Loss: 0.0153 | Learning rate:  0.000019\n"
          ]
        },
        {
          "name": "stderr",
          "output_type": "stream",
          "text": [
            "Start training the model for one epoch...:  19%|█▊        | 200/1073 [01:43<07:05,  2.05it/s]"
          ]
        },
        {
          "name": "stdout",
          "output_type": "stream",
          "text": [
            "Batch 200 | Loss: 0.0140 | Learning rate:  0.000019\n"
          ]
        },
        {
          "name": "stderr",
          "output_type": "stream",
          "text": [
            "Start training the model for one epoch...:  21%|██        | 220/1073 [01:53<07:02,  2.02it/s]"
          ]
        },
        {
          "name": "stdout",
          "output_type": "stream",
          "text": [
            "Batch 220 | Loss: 0.0200 | Learning rate:  0.000019\n"
          ]
        },
        {
          "name": "stderr",
          "output_type": "stream",
          "text": [
            "Start training the model for one epoch...:  22%|██▏       | 240/1073 [02:02<06:48,  2.04it/s]"
          ]
        },
        {
          "name": "stdout",
          "output_type": "stream",
          "text": [
            "Batch 240 | Loss: 0.0330 | Learning rate:  0.000019\n"
          ]
        },
        {
          "name": "stderr",
          "output_type": "stream",
          "text": [
            "Start training the model for one epoch...:  24%|██▍       | 260/1073 [02:12<06:39,  2.04it/s]"
          ]
        },
        {
          "name": "stdout",
          "output_type": "stream",
          "text": [
            "Batch 260 | Loss: 0.0134 | Learning rate:  0.000019\n"
          ]
        },
        {
          "name": "stderr",
          "output_type": "stream",
          "text": [
            "Start training the model for one epoch...:  26%|██▌       | 280/1073 [02:22<06:28,  2.04it/s]"
          ]
        },
        {
          "name": "stdout",
          "output_type": "stream",
          "text": [
            "Batch 280 | Loss: 0.0267 | Learning rate:  0.000019\n"
          ]
        },
        {
          "name": "stderr",
          "output_type": "stream",
          "text": [
            "Start training the model for one epoch...:  28%|██▊       | 300/1073 [02:32<06:22,  2.02it/s]"
          ]
        },
        {
          "name": "stdout",
          "output_type": "stream",
          "text": [
            "Batch 300 | Loss: 0.0127 | Learning rate:  0.000019\n"
          ]
        },
        {
          "name": "stderr",
          "output_type": "stream",
          "text": [
            "Start training the model for one epoch...:  30%|██▉       | 320/1073 [02:42<06:13,  2.02it/s]"
          ]
        },
        {
          "name": "stdout",
          "output_type": "stream",
          "text": [
            "Batch 320 | Loss: 0.0431 | Learning rate:  0.000018\n"
          ]
        },
        {
          "name": "stderr",
          "output_type": "stream",
          "text": [
            "Start training the model for one epoch...:  32%|███▏      | 340/1073 [02:51<06:01,  2.03it/s]"
          ]
        },
        {
          "name": "stdout",
          "output_type": "stream",
          "text": [
            "Batch 340 | Loss: 0.0293 | Learning rate:  0.000018\n"
          ]
        },
        {
          "name": "stderr",
          "output_type": "stream",
          "text": [
            "Start training the model for one epoch...:  34%|███▎      | 360/1073 [03:01<05:50,  2.03it/s]"
          ]
        },
        {
          "name": "stdout",
          "output_type": "stream",
          "text": [
            "Batch 360 | Loss: 0.0217 | Learning rate:  0.000018\n"
          ]
        },
        {
          "name": "stderr",
          "output_type": "stream",
          "text": [
            "Start training the model for one epoch...:  35%|███▌      | 380/1073 [03:11<05:43,  2.02it/s]"
          ]
        },
        {
          "name": "stdout",
          "output_type": "stream",
          "text": [
            "Batch 380 | Loss: 0.0119 | Learning rate:  0.000018\n"
          ]
        },
        {
          "name": "stderr",
          "output_type": "stream",
          "text": [
            "Start training the model for one epoch...:  37%|███▋      | 400/1073 [03:21<05:26,  2.06it/s]"
          ]
        },
        {
          "name": "stdout",
          "output_type": "stream",
          "text": [
            "Batch 400 | Loss: 0.0227 | Learning rate:  0.000018\n"
          ]
        },
        {
          "name": "stderr",
          "output_type": "stream",
          "text": [
            "Start training the model for one epoch...:  39%|███▉      | 420/1073 [03:31<05:22,  2.03it/s]"
          ]
        },
        {
          "name": "stdout",
          "output_type": "stream",
          "text": [
            "Batch 420 | Loss: 0.0168 | Learning rate:  0.000018\n"
          ]
        },
        {
          "name": "stderr",
          "output_type": "stream",
          "text": [
            "Start training the model for one epoch...:  41%|████      | 440/1073 [03:40<05:01,  2.10it/s]"
          ]
        },
        {
          "name": "stdout",
          "output_type": "stream",
          "text": [
            "Batch 440 | Loss: 0.0124 | Learning rate:  0.000018\n"
          ]
        },
        {
          "name": "stderr",
          "output_type": "stream",
          "text": [
            "Start training the model for one epoch...:  43%|████▎     | 460/1073 [03:50<05:06,  2.00it/s]"
          ]
        },
        {
          "name": "stdout",
          "output_type": "stream",
          "text": [
            "Batch 460 | Loss: 0.0256 | Learning rate:  0.000018\n"
          ]
        },
        {
          "name": "stderr",
          "output_type": "stream",
          "text": [
            "Start training the model for one epoch...:  45%|████▍     | 480/1073 [04:00<04:47,  2.06it/s]"
          ]
        },
        {
          "name": "stdout",
          "output_type": "stream",
          "text": [
            "Batch 480 | Loss: 0.0209 | Learning rate:  0.000018\n"
          ]
        },
        {
          "name": "stderr",
          "output_type": "stream",
          "text": [
            "Start training the model for one epoch...:  47%|████▋     | 500/1073 [04:10<04:43,  2.02it/s]"
          ]
        },
        {
          "name": "stdout",
          "output_type": "stream",
          "text": [
            "Batch 500 | Loss: 0.0214 | Learning rate:  0.000018\n"
          ]
        },
        {
          "name": "stderr",
          "output_type": "stream",
          "text": [
            "Start training the model for one epoch...:  48%|████▊     | 520/1073 [04:19<04:27,  2.06it/s]"
          ]
        },
        {
          "name": "stdout",
          "output_type": "stream",
          "text": [
            "Batch 520 | Loss: 0.0259 | Learning rate:  0.000018\n"
          ]
        },
        {
          "name": "stderr",
          "output_type": "stream",
          "text": [
            "Start training the model for one epoch...:  50%|█████     | 540/1073 [04:29<04:23,  2.02it/s]"
          ]
        },
        {
          "name": "stdout",
          "output_type": "stream",
          "text": [
            "Batch 540 | Loss: 0.0136 | Learning rate:  0.000017\n"
          ]
        },
        {
          "name": "stderr",
          "output_type": "stream",
          "text": [
            "Start training the model for one epoch...:  52%|█████▏    | 560/1073 [04:39<04:05,  2.09it/s]"
          ]
        },
        {
          "name": "stdout",
          "output_type": "stream",
          "text": [
            "Batch 560 | Loss: 0.0095 | Learning rate:  0.000017\n"
          ]
        },
        {
          "name": "stderr",
          "output_type": "stream",
          "text": [
            "Start training the model for one epoch...:  54%|█████▍    | 580/1073 [04:49<04:01,  2.04it/s]"
          ]
        },
        {
          "name": "stdout",
          "output_type": "stream",
          "text": [
            "Batch 580 | Loss: 0.0115 | Learning rate:  0.000017\n"
          ]
        },
        {
          "name": "stderr",
          "output_type": "stream",
          "text": [
            "Start training the model for one epoch...:  56%|█████▌    | 600/1073 [04:58<03:49,  2.06it/s]"
          ]
        },
        {
          "name": "stdout",
          "output_type": "stream",
          "text": [
            "Batch 600 | Loss: 0.0176 | Learning rate:  0.000017\n"
          ]
        },
        {
          "name": "stderr",
          "output_type": "stream",
          "text": [
            "Start training the model for one epoch...:  58%|█████▊    | 620/1073 [05:08<03:43,  2.02it/s]"
          ]
        },
        {
          "name": "stdout",
          "output_type": "stream",
          "text": [
            "Batch 620 | Loss: 0.0226 | Learning rate:  0.000017\n"
          ]
        },
        {
          "name": "stderr",
          "output_type": "stream",
          "text": [
            "Start training the model for one epoch...:  60%|█████▉    | 640/1073 [05:18<03:26,  2.09it/s]"
          ]
        },
        {
          "name": "stdout",
          "output_type": "stream",
          "text": [
            "Batch 640 | Loss: 0.0226 | Learning rate:  0.000017\n"
          ]
        },
        {
          "name": "stderr",
          "output_type": "stream",
          "text": [
            "Start training the model for one epoch...:  62%|██████▏   | 660/1073 [05:28<03:21,  2.05it/s]"
          ]
        },
        {
          "name": "stdout",
          "output_type": "stream",
          "text": [
            "Batch 660 | Loss: 0.0227 | Learning rate:  0.000017\n"
          ]
        },
        {
          "name": "stderr",
          "output_type": "stream",
          "text": [
            "Start training the model for one epoch...:  63%|██████▎   | 680/1073 [05:37<03:09,  2.07it/s]"
          ]
        },
        {
          "name": "stdout",
          "output_type": "stream",
          "text": [
            "Batch 680 | Loss: 0.0188 | Learning rate:  0.000017\n"
          ]
        },
        {
          "name": "stderr",
          "output_type": "stream",
          "text": [
            "Start training the model for one epoch...:  65%|██████▌   | 700/1073 [05:47<03:07,  1.99it/s]"
          ]
        },
        {
          "name": "stdout",
          "output_type": "stream",
          "text": [
            "Batch 700 | Loss: 0.0108 | Learning rate:  0.000017\n"
          ]
        },
        {
          "name": "stderr",
          "output_type": "stream",
          "text": [
            "Start training the model for one epoch...:  67%|██████▋   | 720/1073 [05:57<02:52,  2.04it/s]"
          ]
        },
        {
          "name": "stdout",
          "output_type": "stream",
          "text": [
            "Batch 720 | Loss: 0.0117 | Learning rate:  0.000017\n"
          ]
        },
        {
          "name": "stderr",
          "output_type": "stream",
          "text": [
            "Start training the model for one epoch...:  69%|██████▉   | 740/1073 [06:07<02:41,  2.06it/s]"
          ]
        },
        {
          "name": "stdout",
          "output_type": "stream",
          "text": [
            "Batch 740 | Loss: 0.0310 | Learning rate:  0.000017\n"
          ]
        },
        {
          "name": "stderr",
          "output_type": "stream",
          "text": [
            "Start training the model for one epoch...:  71%|███████   | 760/1073 [06:17<02:35,  2.01it/s]"
          ]
        },
        {
          "name": "stdout",
          "output_type": "stream",
          "text": [
            "Batch 760 | Loss: 0.0219 | Learning rate:  0.000016\n"
          ]
        },
        {
          "name": "stderr",
          "output_type": "stream",
          "text": [
            "Start training the model for one epoch...:  73%|███████▎  | 780/1073 [06:26<02:22,  2.05it/s]"
          ]
        },
        {
          "name": "stdout",
          "output_type": "stream",
          "text": [
            "Batch 780 | Loss: 0.0214 | Learning rate:  0.000016\n"
          ]
        },
        {
          "name": "stderr",
          "output_type": "stream",
          "text": [
            "Start training the model for one epoch...:  75%|███████▍  | 800/1073 [06:36<02:13,  2.04it/s]"
          ]
        },
        {
          "name": "stdout",
          "output_type": "stream",
          "text": [
            "Batch 800 | Loss: 0.0257 | Learning rate:  0.000016\n"
          ]
        },
        {
          "name": "stderr",
          "output_type": "stream",
          "text": [
            "Start training the model for one epoch...:  76%|███████▋  | 820/1073 [06:46<02:03,  2.05it/s]"
          ]
        },
        {
          "name": "stdout",
          "output_type": "stream",
          "text": [
            "Batch 820 | Loss: 0.0185 | Learning rate:  0.000016\n"
          ]
        },
        {
          "name": "stderr",
          "output_type": "stream",
          "text": [
            "Start training the model for one epoch...:  78%|███████▊  | 840/1073 [06:56<01:52,  2.06it/s]"
          ]
        },
        {
          "name": "stdout",
          "output_type": "stream",
          "text": [
            "Batch 840 | Loss: 0.0110 | Learning rate:  0.000016\n"
          ]
        },
        {
          "name": "stderr",
          "output_type": "stream",
          "text": [
            "Start training the model for one epoch...:  80%|████████  | 860/1073 [07:06<01:44,  2.05it/s]"
          ]
        },
        {
          "name": "stdout",
          "output_type": "stream",
          "text": [
            "Batch 860 | Loss: 0.0237 | Learning rate:  0.000016\n"
          ]
        },
        {
          "name": "stderr",
          "output_type": "stream",
          "text": [
            "Start training the model for one epoch...:  82%|████████▏ | 880/1073 [07:15<01:35,  2.02it/s]"
          ]
        },
        {
          "name": "stdout",
          "output_type": "stream",
          "text": [
            "Batch 880 | Loss: 0.0159 | Learning rate:  0.000016\n"
          ]
        },
        {
          "name": "stderr",
          "output_type": "stream",
          "text": [
            "Start training the model for one epoch...:  84%|████████▍ | 900/1073 [07:25<01:25,  2.03it/s]"
          ]
        },
        {
          "name": "stdout",
          "output_type": "stream",
          "text": [
            "Batch 900 | Loss: 0.0196 | Learning rate:  0.000016\n"
          ]
        },
        {
          "name": "stderr",
          "output_type": "stream",
          "text": [
            "Start training the model for one epoch...:  86%|████████▌ | 920/1073 [07:35<01:16,  2.00it/s]"
          ]
        },
        {
          "name": "stdout",
          "output_type": "stream",
          "text": [
            "Batch 920 | Loss: 0.0203 | Learning rate:  0.000016\n"
          ]
        },
        {
          "name": "stderr",
          "output_type": "stream",
          "text": [
            "Start training the model for one epoch...:  88%|████████▊ | 940/1073 [07:45<01:04,  2.06it/s]"
          ]
        },
        {
          "name": "stdout",
          "output_type": "stream",
          "text": [
            "Batch 940 | Loss: 0.0265 | Learning rate:  0.000016\n"
          ]
        },
        {
          "name": "stderr",
          "output_type": "stream",
          "text": [
            "Start training the model for one epoch...:  89%|████████▉ | 960/1073 [07:55<00:55,  2.02it/s]"
          ]
        },
        {
          "name": "stdout",
          "output_type": "stream",
          "text": [
            "Batch 960 | Loss: 0.0206 | Learning rate:  0.000016\n"
          ]
        },
        {
          "name": "stderr",
          "output_type": "stream",
          "text": [
            "Start training the model for one epoch...:  91%|█████████▏| 980/1073 [08:05<00:45,  2.05it/s]"
          ]
        },
        {
          "name": "stdout",
          "output_type": "stream",
          "text": [
            "Batch 980 | Loss: 0.0202 | Learning rate:  0.000015\n"
          ]
        },
        {
          "name": "stderr",
          "output_type": "stream",
          "text": [
            "Start training the model for one epoch...:  93%|█████████▎| 1000/1073 [08:14<00:36,  2.01it/s]"
          ]
        },
        {
          "name": "stdout",
          "output_type": "stream",
          "text": [
            "Batch 1000 | Loss: 0.0207 | Learning rate:  0.000015\n"
          ]
        },
        {
          "name": "stderr",
          "output_type": "stream",
          "text": [
            "Start training the model for one epoch...:  95%|█████████▌| 1020/1073 [08:24<00:26,  2.03it/s]"
          ]
        },
        {
          "name": "stdout",
          "output_type": "stream",
          "text": [
            "Batch 1020 | Loss: 0.0161 | Learning rate:  0.000015\n"
          ]
        },
        {
          "name": "stderr",
          "output_type": "stream",
          "text": [
            "Start training the model for one epoch...:  97%|█████████▋| 1040/1073 [08:34<00:16,  2.02it/s]"
          ]
        },
        {
          "name": "stdout",
          "output_type": "stream",
          "text": [
            "Batch 1040 | Loss: 0.0221 | Learning rate:  0.000015\n"
          ]
        },
        {
          "name": "stderr",
          "output_type": "stream",
          "text": [
            "Start training the model for one epoch...:  99%|█████████▉| 1060/1073 [08:44<00:06,  2.15it/s]"
          ]
        },
        {
          "name": "stdout",
          "output_type": "stream",
          "text": [
            "Batch 1060 | Loss: 0.0277 | Learning rate:  0.000015\n"
          ]
        },
        {
          "name": "stderr",
          "output_type": "stream",
          "text": [
            "Start training the model for one epoch...: 100%|██████████| 1073/1073 [08:50<00:00,  2.02it/s]\n",
            "120it [00:36,  3.26it/s]\n"
          ]
        },
        {
          "name": "stdout",
          "output_type": "stream",
          "text": [
            "Epoch: 33, train loss: 0.02087894847915132, val_loss: 0.03821427125173311, val_dice: 0.8444537920317996, val_IoU: 0.7700387393385081\n"
          ]
        },
        {
          "name": "stderr",
          "output_type": "stream",
          "text": [
            "Start training the model for one epoch...:   2%|▏         | 20/1073 [00:15<08:55,  1.97it/s]"
          ]
        },
        {
          "name": "stdout",
          "output_type": "stream",
          "text": [
            "Batch 20 | Loss: 0.0222 | Learning rate:  0.000015\n"
          ]
        },
        {
          "name": "stderr",
          "output_type": "stream",
          "text": [
            "Start training the model for one epoch...:   4%|▎         | 40/1073 [00:25<08:13,  2.09it/s]"
          ]
        },
        {
          "name": "stdout",
          "output_type": "stream",
          "text": [
            "Batch 40 | Loss: 0.0124 | Learning rate:  0.000015\n"
          ]
        },
        {
          "name": "stderr",
          "output_type": "stream",
          "text": [
            "Start training the model for one epoch...:   6%|▌         | 60/1073 [00:34<08:17,  2.04it/s]"
          ]
        },
        {
          "name": "stdout",
          "output_type": "stream",
          "text": [
            "Batch 60 | Loss: 0.0182 | Learning rate:  0.000015\n"
          ]
        },
        {
          "name": "stderr",
          "output_type": "stream",
          "text": [
            "Start training the model for one epoch...:   7%|▋         | 80/1073 [00:44<07:58,  2.08it/s]"
          ]
        },
        {
          "name": "stdout",
          "output_type": "stream",
          "text": [
            "Batch 80 | Loss: 0.0105 | Learning rate:  0.000015\n"
          ]
        },
        {
          "name": "stderr",
          "output_type": "stream",
          "text": [
            "Start training the model for one epoch...:   9%|▉         | 100/1073 [00:54<07:59,  2.03it/s]"
          ]
        },
        {
          "name": "stdout",
          "output_type": "stream",
          "text": [
            "Batch 100 | Loss: 0.0159 | Learning rate:  0.000015\n"
          ]
        },
        {
          "name": "stderr",
          "output_type": "stream",
          "text": [
            "Start training the model for one epoch...:  11%|█         | 120/1073 [01:04<07:39,  2.07it/s]"
          ]
        },
        {
          "name": "stdout",
          "output_type": "stream",
          "text": [
            "Batch 120 | Loss: 0.0261 | Learning rate:  0.000015\n"
          ]
        },
        {
          "name": "stderr",
          "output_type": "stream",
          "text": [
            "Start training the model for one epoch...:  13%|█▎        | 140/1073 [01:14<07:40,  2.03it/s]"
          ]
        },
        {
          "name": "stdout",
          "output_type": "stream",
          "text": [
            "Batch 140 | Loss: 0.0115 | Learning rate:  0.000014\n"
          ]
        },
        {
          "name": "stderr",
          "output_type": "stream",
          "text": [
            "Start training the model for one epoch...:  15%|█▍        | 160/1073 [01:23<07:29,  2.03it/s]"
          ]
        },
        {
          "name": "stdout",
          "output_type": "stream",
          "text": [
            "Batch 160 | Loss: 0.0173 | Learning rate:  0.000014\n"
          ]
        },
        {
          "name": "stderr",
          "output_type": "stream",
          "text": [
            "Start training the model for one epoch...:  17%|█▋        | 180/1073 [01:33<07:27,  1.99it/s]"
          ]
        },
        {
          "name": "stdout",
          "output_type": "stream",
          "text": [
            "Batch 180 | Loss: 0.0183 | Learning rate:  0.000014\n"
          ]
        },
        {
          "name": "stderr",
          "output_type": "stream",
          "text": [
            "Start training the model for one epoch...:  19%|█▊        | 200/1073 [01:43<07:03,  2.06it/s]"
          ]
        },
        {
          "name": "stdout",
          "output_type": "stream",
          "text": [
            "Batch 200 | Loss: 0.0381 | Learning rate:  0.000014\n"
          ]
        },
        {
          "name": "stderr",
          "output_type": "stream",
          "text": [
            "Start training the model for one epoch...:  21%|██        | 220/1073 [01:53<07:04,  2.01it/s]"
          ]
        },
        {
          "name": "stdout",
          "output_type": "stream",
          "text": [
            "Batch 220 | Loss: 0.0155 | Learning rate:  0.000014\n"
          ]
        },
        {
          "name": "stderr",
          "output_type": "stream",
          "text": [
            "Start training the model for one epoch...:  22%|██▏       | 240/1073 [02:03<06:46,  2.05it/s]"
          ]
        },
        {
          "name": "stdout",
          "output_type": "stream",
          "text": [
            "Batch 240 | Loss: 0.0268 | Learning rate:  0.000014\n"
          ]
        },
        {
          "name": "stderr",
          "output_type": "stream",
          "text": [
            "Start training the model for one epoch...:  24%|██▍       | 260/1073 [02:13<06:36,  2.05it/s]"
          ]
        },
        {
          "name": "stdout",
          "output_type": "stream",
          "text": [
            "Batch 260 | Loss: 0.0226 | Learning rate:  0.000014\n"
          ]
        },
        {
          "name": "stderr",
          "output_type": "stream",
          "text": [
            "Start training the model for one epoch...:  26%|██▌       | 280/1073 [02:22<06:23,  2.07it/s]"
          ]
        },
        {
          "name": "stdout",
          "output_type": "stream",
          "text": [
            "Batch 280 | Loss: 0.0190 | Learning rate:  0.000014\n"
          ]
        },
        {
          "name": "stderr",
          "output_type": "stream",
          "text": [
            "Start training the model for one epoch...:  28%|██▊       | 300/1073 [02:32<06:24,  2.01it/s]"
          ]
        },
        {
          "name": "stdout",
          "output_type": "stream",
          "text": [
            "Batch 300 | Loss: 0.0183 | Learning rate:  0.000014\n"
          ]
        },
        {
          "name": "stderr",
          "output_type": "stream",
          "text": [
            "Start training the model for one epoch...:  30%|██▉       | 320/1073 [02:42<06:10,  2.03it/s]"
          ]
        },
        {
          "name": "stdout",
          "output_type": "stream",
          "text": [
            "Batch 320 | Loss: 0.0199 | Learning rate:  0.000014\n"
          ]
        },
        {
          "name": "stderr",
          "output_type": "stream",
          "text": [
            "Start training the model for one epoch...:  32%|███▏      | 340/1073 [02:52<06:08,  1.99it/s]"
          ]
        },
        {
          "name": "stdout",
          "output_type": "stream",
          "text": [
            "Batch 340 | Loss: 0.0160 | Learning rate:  0.000014\n"
          ]
        },
        {
          "name": "stderr",
          "output_type": "stream",
          "text": [
            "Start training the model for one epoch...:  34%|███▎      | 360/1073 [03:01<05:50,  2.03it/s]"
          ]
        },
        {
          "name": "stdout",
          "output_type": "stream",
          "text": [
            "Batch 360 | Loss: 0.0211 | Learning rate:  0.000014\n"
          ]
        },
        {
          "name": "stderr",
          "output_type": "stream",
          "text": [
            "Start training the model for one epoch...:  35%|███▌      | 380/1073 [03:11<05:43,  2.02it/s]"
          ]
        },
        {
          "name": "stdout",
          "output_type": "stream",
          "text": [
            "Batch 380 | Loss: 0.0194 | Learning rate:  0.000014\n"
          ]
        },
        {
          "name": "stderr",
          "output_type": "stream",
          "text": [
            "Start training the model for one epoch...:  37%|███▋      | 400/1073 [03:21<05:27,  2.06it/s]"
          ]
        },
        {
          "name": "stdout",
          "output_type": "stream",
          "text": [
            "Batch 400 | Loss: 0.0158 | Learning rate:  0.000013\n"
          ]
        },
        {
          "name": "stderr",
          "output_type": "stream",
          "text": [
            "Start training the model for one epoch...:  39%|███▉      | 420/1073 [03:31<05:28,  1.99it/s]"
          ]
        },
        {
          "name": "stdout",
          "output_type": "stream",
          "text": [
            "Batch 420 | Loss: 0.0204 | Learning rate:  0.000013\n"
          ]
        },
        {
          "name": "stderr",
          "output_type": "stream",
          "text": [
            "Start training the model for one epoch...:  41%|████      | 440/1073 [03:41<05:06,  2.06it/s]"
          ]
        },
        {
          "name": "stdout",
          "output_type": "stream",
          "text": [
            "Batch 440 | Loss: 0.0196 | Learning rate:  0.000013\n"
          ]
        },
        {
          "name": "stderr",
          "output_type": "stream",
          "text": [
            "Start training the model for one epoch...:  43%|████▎     | 460/1073 [03:50<05:03,  2.02it/s]"
          ]
        },
        {
          "name": "stdout",
          "output_type": "stream",
          "text": [
            "Batch 460 | Loss: 0.0196 | Learning rate:  0.000013\n"
          ]
        },
        {
          "name": "stderr",
          "output_type": "stream",
          "text": [
            "Start training the model for one epoch...:  45%|████▍     | 480/1073 [04:00<04:49,  2.05it/s]"
          ]
        },
        {
          "name": "stdout",
          "output_type": "stream",
          "text": [
            "Batch 480 | Loss: 0.0221 | Learning rate:  0.000013\n"
          ]
        },
        {
          "name": "stderr",
          "output_type": "stream",
          "text": [
            "Start training the model for one epoch...:  47%|████▋     | 500/1073 [04:10<04:46,  2.00it/s]"
          ]
        },
        {
          "name": "stdout",
          "output_type": "stream",
          "text": [
            "Batch 500 | Loss: 0.0496 | Learning rate:  0.000013\n"
          ]
        },
        {
          "name": "stderr",
          "output_type": "stream",
          "text": [
            "Start training the model for one epoch...:  48%|████▊     | 520/1073 [04:20<04:34,  2.02it/s]"
          ]
        },
        {
          "name": "stdout",
          "output_type": "stream",
          "text": [
            "Batch 520 | Loss: 0.0168 | Learning rate:  0.000013\n"
          ]
        },
        {
          "name": "stderr",
          "output_type": "stream",
          "text": [
            "Start training the model for one epoch...:  50%|█████     | 540/1073 [04:30<04:19,  2.05it/s]"
          ]
        },
        {
          "name": "stdout",
          "output_type": "stream",
          "text": [
            "Batch 540 | Loss: 0.0183 | Learning rate:  0.000013\n"
          ]
        },
        {
          "name": "stderr",
          "output_type": "stream",
          "text": [
            "Start training the model for one epoch...:  52%|█████▏    | 560/1073 [04:40<04:10,  2.04it/s]"
          ]
        },
        {
          "name": "stdout",
          "output_type": "stream",
          "text": [
            "Batch 560 | Loss: 0.0185 | Learning rate:  0.000013\n"
          ]
        },
        {
          "name": "stderr",
          "output_type": "stream",
          "text": [
            "Start training the model for one epoch...:  54%|█████▍    | 580/1073 [04:49<04:05,  2.01it/s]"
          ]
        },
        {
          "name": "stdout",
          "output_type": "stream",
          "text": [
            "Batch 580 | Loss: 0.0178 | Learning rate:  0.000013\n"
          ]
        },
        {
          "name": "stderr",
          "output_type": "stream",
          "text": [
            "Start training the model for one epoch...:  56%|█████▌    | 600/1073 [04:59<03:49,  2.06it/s]"
          ]
        },
        {
          "name": "stdout",
          "output_type": "stream",
          "text": [
            "Batch 600 | Loss: 0.0395 | Learning rate:  0.000013\n"
          ]
        },
        {
          "name": "stderr",
          "output_type": "stream",
          "text": [
            "Start training the model for one epoch...:  58%|█████▊    | 620/1073 [05:09<03:47,  1.99it/s]"
          ]
        },
        {
          "name": "stdout",
          "output_type": "stream",
          "text": [
            "Batch 620 | Loss: 0.0114 | Learning rate:  0.000013\n"
          ]
        },
        {
          "name": "stderr",
          "output_type": "stream",
          "text": [
            "Start training the model for one epoch...:  60%|█████▉    | 640/1073 [05:19<03:34,  2.02it/s]"
          ]
        },
        {
          "name": "stdout",
          "output_type": "stream",
          "text": [
            "Batch 640 | Loss: 0.0200 | Learning rate:  0.000012\n"
          ]
        },
        {
          "name": "stderr",
          "output_type": "stream",
          "text": [
            "Start training the model for one epoch...:  62%|██████▏   | 660/1073 [05:29<03:33,  1.94it/s]"
          ]
        },
        {
          "name": "stdout",
          "output_type": "stream",
          "text": [
            "Batch 660 | Loss: 0.0188 | Learning rate:  0.000012\n"
          ]
        },
        {
          "name": "stderr",
          "output_type": "stream",
          "text": [
            "Start training the model for one epoch...:  63%|██████▎   | 680/1073 [05:39<03:10,  2.06it/s]"
          ]
        },
        {
          "name": "stdout",
          "output_type": "stream",
          "text": [
            "Batch 680 | Loss: 0.0161 | Learning rate:  0.000012\n"
          ]
        },
        {
          "name": "stderr",
          "output_type": "stream",
          "text": [
            "Start training the model for one epoch...:  65%|██████▌   | 700/1073 [05:49<03:05,  2.02it/s]"
          ]
        },
        {
          "name": "stdout",
          "output_type": "stream",
          "text": [
            "Batch 700 | Loss: 0.0173 | Learning rate:  0.000012\n"
          ]
        },
        {
          "name": "stderr",
          "output_type": "stream",
          "text": [
            "Start training the model for one epoch...:  67%|██████▋   | 720/1073 [05:59<02:53,  2.04it/s]"
          ]
        },
        {
          "name": "stdout",
          "output_type": "stream",
          "text": [
            "Batch 720 | Loss: 0.0190 | Learning rate:  0.000012\n"
          ]
        },
        {
          "name": "stderr",
          "output_type": "stream",
          "text": [
            "Start training the model for one epoch...:  69%|██████▉   | 740/1073 [06:09<02:44,  2.02it/s]"
          ]
        },
        {
          "name": "stdout",
          "output_type": "stream",
          "text": [
            "Batch 740 | Loss: 0.0159 | Learning rate:  0.000012\n"
          ]
        },
        {
          "name": "stderr",
          "output_type": "stream",
          "text": [
            "Start training the model for one epoch...:  71%|███████   | 760/1073 [06:18<02:32,  2.06it/s]"
          ]
        },
        {
          "name": "stdout",
          "output_type": "stream",
          "text": [
            "Batch 760 | Loss: 0.0211 | Learning rate:  0.000012\n"
          ]
        },
        {
          "name": "stderr",
          "output_type": "stream",
          "text": [
            "Start training the model for one epoch...:  73%|███████▎  | 780/1073 [06:28<02:21,  2.07it/s]"
          ]
        },
        {
          "name": "stdout",
          "output_type": "stream",
          "text": [
            "Batch 780 | Loss: 0.0212 | Learning rate:  0.000012\n"
          ]
        },
        {
          "name": "stderr",
          "output_type": "stream",
          "text": [
            "Start training the model for one epoch...:  75%|███████▍  | 800/1073 [06:38<02:15,  2.02it/s]"
          ]
        },
        {
          "name": "stdout",
          "output_type": "stream",
          "text": [
            "Batch 800 | Loss: 0.0090 | Learning rate:  0.000012\n"
          ]
        },
        {
          "name": "stderr",
          "output_type": "stream",
          "text": [
            "Start training the model for one epoch...:  76%|███████▋  | 820/1073 [06:48<02:01,  2.08it/s]"
          ]
        },
        {
          "name": "stdout",
          "output_type": "stream",
          "text": [
            "Batch 820 | Loss: 0.0217 | Learning rate:  0.000012\n"
          ]
        },
        {
          "name": "stderr",
          "output_type": "stream",
          "text": [
            "Start training the model for one epoch...:  78%|███████▊  | 840/1073 [06:58<01:54,  2.03it/s]"
          ]
        },
        {
          "name": "stdout",
          "output_type": "stream",
          "text": [
            "Batch 840 | Loss: 0.0199 | Learning rate:  0.000012\n"
          ]
        },
        {
          "name": "stderr",
          "output_type": "stream",
          "text": [
            "Start training the model for one epoch...:  80%|████████  | 860/1073 [07:08<01:45,  2.01it/s]"
          ]
        },
        {
          "name": "stdout",
          "output_type": "stream",
          "text": [
            "Batch 860 | Loss: 0.0144 | Learning rate:  0.000012\n"
          ]
        },
        {
          "name": "stderr",
          "output_type": "stream",
          "text": [
            "Start training the model for one epoch...:  82%|████████▏ | 880/1073 [07:17<01:34,  2.03it/s]"
          ]
        },
        {
          "name": "stdout",
          "output_type": "stream",
          "text": [
            "Batch 880 | Loss: 0.0240 | Learning rate:  0.000012\n"
          ]
        },
        {
          "name": "stderr",
          "output_type": "stream",
          "text": [
            "Start training the model for one epoch...:  84%|████████▍ | 900/1073 [07:27<01:24,  2.05it/s]"
          ]
        },
        {
          "name": "stdout",
          "output_type": "stream",
          "text": [
            "Batch 900 | Loss: 0.0307 | Learning rate:  0.000011\n"
          ]
        },
        {
          "name": "stderr",
          "output_type": "stream",
          "text": [
            "Start training the model for one epoch...:  86%|████████▌ | 920/1073 [07:37<01:15,  2.02it/s]"
          ]
        },
        {
          "name": "stdout",
          "output_type": "stream",
          "text": [
            "Batch 920 | Loss: 0.0246 | Learning rate:  0.000011\n"
          ]
        },
        {
          "name": "stderr",
          "output_type": "stream",
          "text": [
            "Start training the model for one epoch...:  88%|████████▊ | 940/1073 [07:47<01:05,  2.05it/s]"
          ]
        },
        {
          "name": "stdout",
          "output_type": "stream",
          "text": [
            "Batch 940 | Loss: 0.0169 | Learning rate:  0.000011\n"
          ]
        },
        {
          "name": "stderr",
          "output_type": "stream",
          "text": [
            "Start training the model for one epoch...:  89%|████████▉ | 960/1073 [07:57<00:56,  2.02it/s]"
          ]
        },
        {
          "name": "stdout",
          "output_type": "stream",
          "text": [
            "Batch 960 | Loss: 0.0169 | Learning rate:  0.000011\n"
          ]
        },
        {
          "name": "stderr",
          "output_type": "stream",
          "text": [
            "Start training the model for one epoch...:  91%|█████████▏| 980/1073 [08:06<00:45,  2.06it/s]"
          ]
        },
        {
          "name": "stdout",
          "output_type": "stream",
          "text": [
            "Batch 980 | Loss: 0.0203 | Learning rate:  0.000011\n"
          ]
        },
        {
          "name": "stderr",
          "output_type": "stream",
          "text": [
            "Start training the model for one epoch...:  93%|█████████▎| 1000/1073 [08:16<00:36,  2.02it/s]"
          ]
        },
        {
          "name": "stdout",
          "output_type": "stream",
          "text": [
            "Batch 1000 | Loss: 0.0134 | Learning rate:  0.000011\n"
          ]
        },
        {
          "name": "stderr",
          "output_type": "stream",
          "text": [
            "Start training the model for one epoch...:  95%|█████████▌| 1020/1073 [08:26<00:25,  2.05it/s]"
          ]
        },
        {
          "name": "stdout",
          "output_type": "stream",
          "text": [
            "Batch 1020 | Loss: 0.0139 | Learning rate:  0.000011\n"
          ]
        },
        {
          "name": "stderr",
          "output_type": "stream",
          "text": [
            "Start training the model for one epoch...:  97%|█████████▋| 1040/1073 [08:36<00:16,  2.00it/s]"
          ]
        },
        {
          "name": "stdout",
          "output_type": "stream",
          "text": [
            "Batch 1040 | Loss: 0.0228 | Learning rate:  0.000011\n"
          ]
        },
        {
          "name": "stderr",
          "output_type": "stream",
          "text": [
            "Start training the model for one epoch...:  99%|█████████▉| 1060/1073 [08:46<00:06,  2.15it/s]"
          ]
        },
        {
          "name": "stdout",
          "output_type": "stream",
          "text": [
            "Batch 1060 | Loss: 0.0212 | Learning rate:  0.000011\n"
          ]
        },
        {
          "name": "stderr",
          "output_type": "stream",
          "text": [
            "Start training the model for one epoch...: 100%|██████████| 1073/1073 [08:52<00:00,  2.02it/s]\n",
            "120it [00:36,  3.26it/s]\n"
          ]
        },
        {
          "name": "stdout",
          "output_type": "stream",
          "text": [
            "Epoch: 34, train loss: 0.020801575649581773, val_loss: 0.03834540513344109, val_dice: 0.8428041784079737, val_IoU: 0.7686336841961572\n"
          ]
        },
        {
          "name": "stderr",
          "output_type": "stream",
          "text": [
            "Start training the model for one epoch...:   2%|▏         | 20/1073 [00:15<08:53,  1.97it/s]"
          ]
        },
        {
          "name": "stdout",
          "output_type": "stream",
          "text": [
            "Batch 20 | Loss: 0.0172 | Learning rate:  0.000011\n"
          ]
        },
        {
          "name": "stderr",
          "output_type": "stream",
          "text": [
            "Start training the model for one epoch...:   4%|▎         | 40/1073 [00:25<08:31,  2.02it/s]"
          ]
        },
        {
          "name": "stdout",
          "output_type": "stream",
          "text": [
            "Batch 40 | Loss: 0.0207 | Learning rate:  0.000011\n"
          ]
        },
        {
          "name": "stderr",
          "output_type": "stream",
          "text": [
            "Start training the model for one epoch...:   6%|▌         | 60/1073 [00:35<08:12,  2.06it/s]"
          ]
        },
        {
          "name": "stdout",
          "output_type": "stream",
          "text": [
            "Batch 60 | Loss: 0.0123 | Learning rate:  0.000011\n"
          ]
        },
        {
          "name": "stderr",
          "output_type": "stream",
          "text": [
            "Start training the model for one epoch...:   7%|▋         | 80/1073 [00:45<07:58,  2.08it/s]"
          ]
        },
        {
          "name": "stdout",
          "output_type": "stream",
          "text": [
            "Batch 80 | Loss: 0.0199 | Learning rate:  0.000011\n"
          ]
        },
        {
          "name": "stderr",
          "output_type": "stream",
          "text": [
            "Start training the model for one epoch...:   9%|▉         | 100/1073 [00:54<07:59,  2.03it/s]"
          ]
        },
        {
          "name": "stdout",
          "output_type": "stream",
          "text": [
            "Batch 100 | Loss: 0.0123 | Learning rate:  0.000010\n"
          ]
        },
        {
          "name": "stderr",
          "output_type": "stream",
          "text": [
            "Start training the model for one epoch...:  11%|█         | 120/1073 [01:04<07:42,  2.06it/s]"
          ]
        },
        {
          "name": "stdout",
          "output_type": "stream",
          "text": [
            "Batch 120 | Loss: 0.0249 | Learning rate:  0.000010\n"
          ]
        },
        {
          "name": "stderr",
          "output_type": "stream",
          "text": [
            "Start training the model for one epoch...:  13%|█▎        | 140/1073 [01:14<07:37,  2.04it/s]"
          ]
        },
        {
          "name": "stdout",
          "output_type": "stream",
          "text": [
            "Batch 140 | Loss: 0.0124 | Learning rate:  0.000010\n"
          ]
        },
        {
          "name": "stderr",
          "output_type": "stream",
          "text": [
            "Start training the model for one epoch...:  15%|█▍        | 160/1073 [01:24<07:15,  2.09it/s]"
          ]
        },
        {
          "name": "stdout",
          "output_type": "stream",
          "text": [
            "Batch 160 | Loss: 0.0228 | Learning rate:  0.000010\n"
          ]
        },
        {
          "name": "stderr",
          "output_type": "stream",
          "text": [
            "Start training the model for one epoch...:  17%|█▋        | 180/1073 [01:33<07:19,  2.03it/s]"
          ]
        },
        {
          "name": "stdout",
          "output_type": "stream",
          "text": [
            "Batch 180 | Loss: 0.0111 | Learning rate:  0.000010\n"
          ]
        },
        {
          "name": "stderr",
          "output_type": "stream",
          "text": [
            "Start training the model for one epoch...:  19%|█▊        | 200/1073 [01:43<06:59,  2.08it/s]"
          ]
        },
        {
          "name": "stdout",
          "output_type": "stream",
          "text": [
            "Batch 200 | Loss: 0.0152 | Learning rate:  0.000010\n"
          ]
        },
        {
          "name": "stderr",
          "output_type": "stream",
          "text": [
            "Start training the model for one epoch...:  21%|██        | 220/1073 [01:53<07:02,  2.02it/s]"
          ]
        },
        {
          "name": "stdout",
          "output_type": "stream",
          "text": [
            "Batch 220 | Loss: 0.0150 | Learning rate:  0.000010\n"
          ]
        },
        {
          "name": "stderr",
          "output_type": "stream",
          "text": [
            "Start training the model for one epoch...:  22%|██▏       | 240/1073 [02:03<06:55,  2.01it/s]"
          ]
        },
        {
          "name": "stdout",
          "output_type": "stream",
          "text": [
            "Batch 240 | Loss: 0.0184 | Learning rate:  0.000010\n"
          ]
        },
        {
          "name": "stderr",
          "output_type": "stream",
          "text": [
            "Start training the model for one epoch...:  24%|██▍       | 260/1073 [02:13<06:43,  2.01it/s]"
          ]
        },
        {
          "name": "stdout",
          "output_type": "stream",
          "text": [
            "Batch 260 | Loss: 0.0246 | Learning rate:  0.000010\n"
          ]
        },
        {
          "name": "stderr",
          "output_type": "stream",
          "text": [
            "Start training the model for one epoch...:  26%|██▌       | 280/1073 [02:22<06:22,  2.07it/s]"
          ]
        },
        {
          "name": "stdout",
          "output_type": "stream",
          "text": [
            "Batch 280 | Loss: 0.0209 | Learning rate:  0.000010\n"
          ]
        },
        {
          "name": "stderr",
          "output_type": "stream",
          "text": [
            "Start training the model for one epoch...:  28%|██▊       | 300/1073 [02:32<06:23,  2.01it/s]"
          ]
        },
        {
          "name": "stdout",
          "output_type": "stream",
          "text": [
            "Batch 300 | Loss: 0.0129 | Learning rate:  0.000010\n"
          ]
        },
        {
          "name": "stderr",
          "output_type": "stream",
          "text": [
            "Start training the model for one epoch...:  30%|██▉       | 320/1073 [02:42<06:10,  2.03it/s]"
          ]
        },
        {
          "name": "stdout",
          "output_type": "stream",
          "text": [
            "Batch 320 | Loss: 0.0180 | Learning rate:  0.000010\n"
          ]
        },
        {
          "name": "stderr",
          "output_type": "stream",
          "text": [
            "Start training the model for one epoch...:  32%|███▏      | 340/1073 [02:52<06:03,  2.02it/s]"
          ]
        },
        {
          "name": "stdout",
          "output_type": "stream",
          "text": [
            "Batch 340 | Loss: 0.0171 | Learning rate:  0.000010\n"
          ]
        },
        {
          "name": "stderr",
          "output_type": "stream",
          "text": [
            "Start training the model for one epoch...:  34%|███▎      | 360/1073 [03:02<05:46,  2.06it/s]"
          ]
        },
        {
          "name": "stdout",
          "output_type": "stream",
          "text": [
            "Batch 360 | Loss: 0.0274 | Learning rate:  0.000010\n"
          ]
        },
        {
          "name": "stderr",
          "output_type": "stream",
          "text": [
            "Start training the model for one epoch...:  35%|███▌      | 380/1073 [03:11<05:39,  2.04it/s]"
          ]
        },
        {
          "name": "stdout",
          "output_type": "stream",
          "text": [
            "Batch 380 | Loss: 0.0234 | Learning rate:  0.000010\n"
          ]
        },
        {
          "name": "stderr",
          "output_type": "stream",
          "text": [
            "Start training the model for one epoch...:  37%|███▋      | 400/1073 [03:21<05:28,  2.05it/s]"
          ]
        },
        {
          "name": "stdout",
          "output_type": "stream",
          "text": [
            "Batch 400 | Loss: 0.0138 | Learning rate:  0.000009\n"
          ]
        },
        {
          "name": "stderr",
          "output_type": "stream",
          "text": [
            "Start training the model for one epoch...:  39%|███▉      | 420/1073 [03:31<05:22,  2.03it/s]"
          ]
        },
        {
          "name": "stdout",
          "output_type": "stream",
          "text": [
            "Batch 420 | Loss: 0.0195 | Learning rate:  0.000009\n"
          ]
        },
        {
          "name": "stderr",
          "output_type": "stream",
          "text": [
            "Start training the model for one epoch...:  41%|████      | 440/1073 [03:41<05:09,  2.05it/s]"
          ]
        },
        {
          "name": "stdout",
          "output_type": "stream",
          "text": [
            "Batch 440 | Loss: 0.0239 | Learning rate:  0.000009\n"
          ]
        },
        {
          "name": "stderr",
          "output_type": "stream",
          "text": [
            "Start training the model for one epoch...:  43%|████▎     | 460/1073 [03:51<04:59,  2.05it/s]"
          ]
        },
        {
          "name": "stdout",
          "output_type": "stream",
          "text": [
            "Batch 460 | Loss: 0.0296 | Learning rate:  0.000009\n"
          ]
        },
        {
          "name": "stderr",
          "output_type": "stream",
          "text": [
            "Start training the model for one epoch...:  45%|████▍     | 480/1073 [04:00<04:48,  2.06it/s]"
          ]
        },
        {
          "name": "stdout",
          "output_type": "stream",
          "text": [
            "Batch 480 | Loss: 0.0160 | Learning rate:  0.000009\n"
          ]
        },
        {
          "name": "stderr",
          "output_type": "stream",
          "text": [
            "Start training the model for one epoch...:  47%|████▋     | 500/1073 [04:10<04:44,  2.01it/s]"
          ]
        },
        {
          "name": "stdout",
          "output_type": "stream",
          "text": [
            "Batch 500 | Loss: 0.0129 | Learning rate:  0.000009\n"
          ]
        },
        {
          "name": "stderr",
          "output_type": "stream",
          "text": [
            "Start training the model for one epoch...:  48%|████▊     | 520/1073 [04:20<04:27,  2.07it/s]"
          ]
        },
        {
          "name": "stdout",
          "output_type": "stream",
          "text": [
            "Batch 520 | Loss: 0.0163 | Learning rate:  0.000009\n"
          ]
        },
        {
          "name": "stderr",
          "output_type": "stream",
          "text": [
            "Start training the model for one epoch...:  50%|█████     | 540/1073 [04:30<04:22,  2.03it/s]"
          ]
        },
        {
          "name": "stdout",
          "output_type": "stream",
          "text": [
            "Batch 540 | Loss: 0.0128 | Learning rate:  0.000009\n"
          ]
        },
        {
          "name": "stderr",
          "output_type": "stream",
          "text": [
            "Start training the model for one epoch...:  52%|█████▏    | 560/1073 [04:40<04:10,  2.05it/s]"
          ]
        },
        {
          "name": "stdout",
          "output_type": "stream",
          "text": [
            "Batch 560 | Loss: 0.0157 | Learning rate:  0.000009\n"
          ]
        },
        {
          "name": "stderr",
          "output_type": "stream",
          "text": [
            "Start training the model for one epoch...:  54%|█████▍    | 580/1073 [04:49<04:02,  2.03it/s]"
          ]
        },
        {
          "name": "stdout",
          "output_type": "stream",
          "text": [
            "Batch 580 | Loss: 0.0277 | Learning rate:  0.000009\n"
          ]
        },
        {
          "name": "stderr",
          "output_type": "stream",
          "text": [
            "Start training the model for one epoch...:  56%|█████▌    | 600/1073 [04:59<03:50,  2.05it/s]"
          ]
        },
        {
          "name": "stdout",
          "output_type": "stream",
          "text": [
            "Batch 600 | Loss: 0.0187 | Learning rate:  0.000009\n"
          ]
        },
        {
          "name": "stderr",
          "output_type": "stream",
          "text": [
            "Start training the model for one epoch...:  58%|█████▊    | 620/1073 [05:09<03:46,  2.00it/s]"
          ]
        },
        {
          "name": "stdout",
          "output_type": "stream",
          "text": [
            "Batch 620 | Loss: 0.0218 | Learning rate:  0.000009\n"
          ]
        },
        {
          "name": "stderr",
          "output_type": "stream",
          "text": [
            "Start training the model for one epoch...:  60%|█████▉    | 640/1073 [05:19<03:29,  2.06it/s]"
          ]
        },
        {
          "name": "stdout",
          "output_type": "stream",
          "text": [
            "Batch 640 | Loss: 0.0196 | Learning rate:  0.000009\n"
          ]
        },
        {
          "name": "stderr",
          "output_type": "stream",
          "text": [
            "Start training the model for one epoch...:  62%|██████▏   | 660/1073 [05:29<03:24,  2.02it/s]"
          ]
        },
        {
          "name": "stdout",
          "output_type": "stream",
          "text": [
            "Batch 660 | Loss: 0.0225 | Learning rate:  0.000009\n"
          ]
        },
        {
          "name": "stderr",
          "output_type": "stream",
          "text": [
            "Start training the model for one epoch...:  63%|██████▎   | 680/1073 [05:39<03:13,  2.03it/s]"
          ]
        },
        {
          "name": "stdout",
          "output_type": "stream",
          "text": [
            "Batch 680 | Loss: 0.0155 | Learning rate:  0.000009\n"
          ]
        },
        {
          "name": "stderr",
          "output_type": "stream",
          "text": [
            "Start training the model for one epoch...:  65%|██████▌   | 700/1073 [05:49<03:07,  1.99it/s]"
          ]
        },
        {
          "name": "stdout",
          "output_type": "stream",
          "text": [
            "Batch 700 | Loss: 0.0169 | Learning rate:  0.000008\n"
          ]
        },
        {
          "name": "stderr",
          "output_type": "stream",
          "text": [
            "Start training the model for one epoch...:  67%|██████▋   | 720/1073 [05:58<02:51,  2.05it/s]"
          ]
        },
        {
          "name": "stdout",
          "output_type": "stream",
          "text": [
            "Batch 720 | Loss: 0.0290 | Learning rate:  0.000008\n"
          ]
        },
        {
          "name": "stderr",
          "output_type": "stream",
          "text": [
            "Start training the model for one epoch...:  69%|██████▉   | 740/1073 [06:08<02:46,  1.99it/s]"
          ]
        },
        {
          "name": "stdout",
          "output_type": "stream",
          "text": [
            "Batch 740 | Loss: 0.0158 | Learning rate:  0.000008\n"
          ]
        },
        {
          "name": "stderr",
          "output_type": "stream",
          "text": [
            "Start training the model for one epoch...:  71%|███████   | 760/1073 [06:18<02:35,  2.02it/s]"
          ]
        },
        {
          "name": "stdout",
          "output_type": "stream",
          "text": [
            "Batch 760 | Loss: 0.0357 | Learning rate:  0.000008\n"
          ]
        },
        {
          "name": "stderr",
          "output_type": "stream",
          "text": [
            "Start training the model for one epoch...:  73%|███████▎  | 780/1073 [06:28<02:26,  2.01it/s]"
          ]
        },
        {
          "name": "stdout",
          "output_type": "stream",
          "text": [
            "Batch 780 | Loss: 0.0142 | Learning rate:  0.000008\n"
          ]
        },
        {
          "name": "stderr",
          "output_type": "stream",
          "text": [
            "Start training the model for one epoch...:  75%|███████▍  | 800/1073 [06:38<02:17,  1.99it/s]"
          ]
        },
        {
          "name": "stdout",
          "output_type": "stream",
          "text": [
            "Batch 800 | Loss: 0.0151 | Learning rate:  0.000008\n"
          ]
        },
        {
          "name": "stderr",
          "output_type": "stream",
          "text": [
            "Start training the model for one epoch...:  76%|███████▋  | 820/1073 [06:48<02:05,  2.01it/s]"
          ]
        },
        {
          "name": "stdout",
          "output_type": "stream",
          "text": [
            "Batch 820 | Loss: 0.0219 | Learning rate:  0.000008\n"
          ]
        },
        {
          "name": "stderr",
          "output_type": "stream",
          "text": [
            "Start training the model for one epoch...:  78%|███████▊  | 840/1073 [06:57<01:54,  2.04it/s]"
          ]
        },
        {
          "name": "stdout",
          "output_type": "stream",
          "text": [
            "Batch 840 | Loss: 0.0693 | Learning rate:  0.000008\n"
          ]
        },
        {
          "name": "stderr",
          "output_type": "stream",
          "text": [
            "Start training the model for one epoch...:  80%|████████  | 860/1073 [07:07<01:44,  2.04it/s]"
          ]
        },
        {
          "name": "stdout",
          "output_type": "stream",
          "text": [
            "Batch 860 | Loss: 0.0226 | Learning rate:  0.000008\n"
          ]
        },
        {
          "name": "stderr",
          "output_type": "stream",
          "text": [
            "Start training the model for one epoch...:  82%|████████▏ | 880/1073 [07:17<01:35,  2.03it/s]"
          ]
        },
        {
          "name": "stdout",
          "output_type": "stream",
          "text": [
            "Batch 880 | Loss: 0.0251 | Learning rate:  0.000008\n"
          ]
        },
        {
          "name": "stderr",
          "output_type": "stream",
          "text": [
            "Start training the model for one epoch...:  84%|████████▍ | 900/1073 [07:27<01:27,  1.99it/s]"
          ]
        },
        {
          "name": "stdout",
          "output_type": "stream",
          "text": [
            "Batch 900 | Loss: 0.0222 | Learning rate:  0.000008\n"
          ]
        },
        {
          "name": "stderr",
          "output_type": "stream",
          "text": [
            "Start training the model for one epoch...:  86%|████████▌ | 920/1073 [07:37<01:14,  2.06it/s]"
          ]
        },
        {
          "name": "stdout",
          "output_type": "stream",
          "text": [
            "Batch 920 | Loss: 0.0245 | Learning rate:  0.000008\n"
          ]
        },
        {
          "name": "stderr",
          "output_type": "stream",
          "text": [
            "Start training the model for one epoch...:  88%|████████▊ | 940/1073 [07:46<01:05,  2.02it/s]"
          ]
        },
        {
          "name": "stdout",
          "output_type": "stream",
          "text": [
            "Batch 940 | Loss: 0.0190 | Learning rate:  0.000008\n"
          ]
        },
        {
          "name": "stderr",
          "output_type": "stream",
          "text": [
            "Start training the model for one epoch...:  89%|████████▉ | 960/1073 [07:56<00:54,  2.06it/s]"
          ]
        },
        {
          "name": "stdout",
          "output_type": "stream",
          "text": [
            "Batch 960 | Loss: 0.0198 | Learning rate:  0.000008\n"
          ]
        },
        {
          "name": "stderr",
          "output_type": "stream",
          "text": [
            "Start training the model for one epoch...:  91%|█████████▏| 980/1073 [08:06<00:46,  1.99it/s]"
          ]
        },
        {
          "name": "stdout",
          "output_type": "stream",
          "text": [
            "Batch 980 | Loss: 0.0322 | Learning rate:  0.000008\n"
          ]
        },
        {
          "name": "stderr",
          "output_type": "stream",
          "text": [
            "Start training the model for one epoch...:  93%|█████████▎| 1000/1073 [08:16<00:35,  2.06it/s]"
          ]
        },
        {
          "name": "stdout",
          "output_type": "stream",
          "text": [
            "Batch 1000 | Loss: 0.0139 | Learning rate:  0.000008\n"
          ]
        },
        {
          "name": "stderr",
          "output_type": "stream",
          "text": [
            "Start training the model for one epoch...:  95%|█████████▌| 1020/1073 [08:26<00:26,  1.99it/s]"
          ]
        },
        {
          "name": "stdout",
          "output_type": "stream",
          "text": [
            "Batch 1020 | Loss: 0.0127 | Learning rate:  0.000008\n"
          ]
        },
        {
          "name": "stderr",
          "output_type": "stream",
          "text": [
            "Start training the model for one epoch...:  97%|█████████▋| 1040/1073 [08:36<00:16,  2.01it/s]"
          ]
        },
        {
          "name": "stdout",
          "output_type": "stream",
          "text": [
            "Batch 1040 | Loss: 0.0241 | Learning rate:  0.000007\n"
          ]
        },
        {
          "name": "stderr",
          "output_type": "stream",
          "text": [
            "Start training the model for one epoch...:  99%|█████████▉| 1060/1073 [08:45<00:06,  2.12it/s]"
          ]
        },
        {
          "name": "stdout",
          "output_type": "stream",
          "text": [
            "Batch 1060 | Loss: 0.0241 | Learning rate:  0.000007\n"
          ]
        },
        {
          "name": "stderr",
          "output_type": "stream",
          "text": [
            "Start training the model for one epoch...: 100%|██████████| 1073/1073 [08:51<00:00,  2.02it/s]\n",
            "120it [00:36,  3.25it/s]\n"
          ]
        },
        {
          "name": "stdout",
          "output_type": "stream",
          "text": [
            "Epoch: 35, train loss: 0.020501688208677506, val_loss: 0.0384514004457742, val_dice: 0.8423669851404683, val_IoU: 0.7681421030081769\n"
          ]
        },
        {
          "name": "stderr",
          "output_type": "stream",
          "text": [
            "Start training the model for one epoch...:   2%|▏         | 20/1073 [00:15<08:52,  1.98it/s]"
          ]
        },
        {
          "name": "stdout",
          "output_type": "stream",
          "text": [
            "Batch 20 | Loss: 0.0162 | Learning rate:  0.000007\n"
          ]
        },
        {
          "name": "stderr",
          "output_type": "stream",
          "text": [
            "Start training the model for one epoch...:   4%|▎         | 40/1073 [00:25<08:31,  2.02it/s]"
          ]
        },
        {
          "name": "stdout",
          "output_type": "stream",
          "text": [
            "Batch 40 | Loss: 0.0188 | Learning rate:  0.000007\n"
          ]
        },
        {
          "name": "stderr",
          "output_type": "stream",
          "text": [
            "Start training the model for one epoch...:   6%|▌         | 60/1073 [00:35<08:15,  2.04it/s]"
          ]
        },
        {
          "name": "stdout",
          "output_type": "stream",
          "text": [
            "Batch 60 | Loss: 0.0390 | Learning rate:  0.000007\n"
          ]
        },
        {
          "name": "stderr",
          "output_type": "stream",
          "text": [
            "Start training the model for one epoch...:   7%|▋         | 80/1073 [00:45<08:02,  2.06it/s]"
          ]
        },
        {
          "name": "stdout",
          "output_type": "stream",
          "text": [
            "Batch 80 | Loss: 0.0243 | Learning rate:  0.000007\n"
          ]
        },
        {
          "name": "stderr",
          "output_type": "stream",
          "text": [
            "Start training the model for one epoch...:   9%|▉         | 100/1073 [00:54<07:53,  2.05it/s]"
          ]
        },
        {
          "name": "stdout",
          "output_type": "stream",
          "text": [
            "Batch 100 | Loss: 0.0228 | Learning rate:  0.000007\n"
          ]
        },
        {
          "name": "stderr",
          "output_type": "stream",
          "text": [
            "Start training the model for one epoch...:  11%|█         | 120/1073 [01:04<07:42,  2.06it/s]"
          ]
        },
        {
          "name": "stdout",
          "output_type": "stream",
          "text": [
            "Batch 120 | Loss: 0.0219 | Learning rate:  0.000007\n"
          ]
        },
        {
          "name": "stderr",
          "output_type": "stream",
          "text": [
            "Start training the model for one epoch...:  13%|█▎        | 140/1073 [01:14<07:30,  2.07it/s]"
          ]
        },
        {
          "name": "stdout",
          "output_type": "stream",
          "text": [
            "Batch 140 | Loss: 0.0152 | Learning rate:  0.000007\n"
          ]
        },
        {
          "name": "stderr",
          "output_type": "stream",
          "text": [
            "Start training the model for one epoch...:  15%|█▍        | 160/1073 [01:24<07:27,  2.04it/s]"
          ]
        },
        {
          "name": "stdout",
          "output_type": "stream",
          "text": [
            "Batch 160 | Loss: 0.0277 | Learning rate:  0.000007\n"
          ]
        },
        {
          "name": "stderr",
          "output_type": "stream",
          "text": [
            "Start training the model for one epoch...:  17%|█▋        | 180/1073 [01:33<07:11,  2.07it/s]"
          ]
        },
        {
          "name": "stdout",
          "output_type": "stream",
          "text": [
            "Batch 180 | Loss: 0.0267 | Learning rate:  0.000007\n"
          ]
        },
        {
          "name": "stderr",
          "output_type": "stream",
          "text": [
            "Start training the model for one epoch...:  19%|█▊        | 200/1073 [01:43<07:12,  2.02it/s]"
          ]
        },
        {
          "name": "stdout",
          "output_type": "stream",
          "text": [
            "Batch 200 | Loss: 0.0143 | Learning rate:  0.000007\n"
          ]
        },
        {
          "name": "stderr",
          "output_type": "stream",
          "text": [
            "Start training the model for one epoch...:  21%|██        | 220/1073 [01:53<06:53,  2.06it/s]"
          ]
        },
        {
          "name": "stdout",
          "output_type": "stream",
          "text": [
            "Batch 220 | Loss: 0.0259 | Learning rate:  0.000007\n"
          ]
        },
        {
          "name": "stderr",
          "output_type": "stream",
          "text": [
            "Start training the model for one epoch...:  22%|██▏       | 240/1073 [02:03<06:56,  2.00it/s]"
          ]
        },
        {
          "name": "stdout",
          "output_type": "stream",
          "text": [
            "Batch 240 | Loss: 0.0212 | Learning rate:  0.000007\n"
          ]
        },
        {
          "name": "stderr",
          "output_type": "stream",
          "text": [
            "Start training the model for one epoch...:  24%|██▍       | 260/1073 [02:13<06:31,  2.07it/s]"
          ]
        },
        {
          "name": "stdout",
          "output_type": "stream",
          "text": [
            "Batch 260 | Loss: 0.0110 | Learning rate:  0.000007\n"
          ]
        },
        {
          "name": "stderr",
          "output_type": "stream",
          "text": [
            "Start training the model for one epoch...:  26%|██▌       | 280/1073 [02:22<06:30,  2.03it/s]"
          ]
        },
        {
          "name": "stdout",
          "output_type": "stream",
          "text": [
            "Batch 280 | Loss: 0.0163 | Learning rate:  0.000007\n"
          ]
        },
        {
          "name": "stderr",
          "output_type": "stream",
          "text": [
            "Start training the model for one epoch...:  28%|██▊       | 300/1073 [02:32<06:20,  2.03it/s]"
          ]
        },
        {
          "name": "stdout",
          "output_type": "stream",
          "text": [
            "Batch 300 | Loss: 0.0108 | Learning rate:  0.000006\n"
          ]
        },
        {
          "name": "stderr",
          "output_type": "stream",
          "text": [
            "Start training the model for one epoch...:  30%|██▉       | 320/1073 [02:42<06:15,  2.01it/s]"
          ]
        },
        {
          "name": "stdout",
          "output_type": "stream",
          "text": [
            "Batch 320 | Loss: 0.0155 | Learning rate:  0.000006\n"
          ]
        },
        {
          "name": "stderr",
          "output_type": "stream",
          "text": [
            "Start training the model for one epoch...:  32%|███▏      | 340/1073 [02:52<05:53,  2.07it/s]"
          ]
        },
        {
          "name": "stdout",
          "output_type": "stream",
          "text": [
            "Batch 340 | Loss: 0.0234 | Learning rate:  0.000006\n"
          ]
        },
        {
          "name": "stderr",
          "output_type": "stream",
          "text": [
            "Start training the model for one epoch...:  34%|███▎      | 360/1073 [03:02<05:54,  2.01it/s]"
          ]
        },
        {
          "name": "stdout",
          "output_type": "stream",
          "text": [
            "Batch 360 | Loss: 0.0228 | Learning rate:  0.000006\n"
          ]
        },
        {
          "name": "stderr",
          "output_type": "stream",
          "text": [
            "Start training the model for one epoch...:  35%|███▌      | 380/1073 [03:11<05:35,  2.06it/s]"
          ]
        },
        {
          "name": "stdout",
          "output_type": "stream",
          "text": [
            "Batch 380 | Loss: 0.0150 | Learning rate:  0.000006\n"
          ]
        },
        {
          "name": "stderr",
          "output_type": "stream",
          "text": [
            "Start training the model for one epoch...:  37%|███▋      | 400/1073 [03:21<05:29,  2.04it/s]"
          ]
        },
        {
          "name": "stdout",
          "output_type": "stream",
          "text": [
            "Batch 400 | Loss: 0.0225 | Learning rate:  0.000006\n"
          ]
        },
        {
          "name": "stderr",
          "output_type": "stream",
          "text": [
            "Start training the model for one epoch...:  39%|███▉      | 420/1073 [03:31<05:14,  2.07it/s]"
          ]
        },
        {
          "name": "stdout",
          "output_type": "stream",
          "text": [
            "Batch 420 | Loss: 0.0284 | Learning rate:  0.000006\n"
          ]
        },
        {
          "name": "stderr",
          "output_type": "stream",
          "text": [
            "Start training the model for one epoch...:  41%|████      | 440/1073 [03:41<05:09,  2.05it/s]"
          ]
        },
        {
          "name": "stdout",
          "output_type": "stream",
          "text": [
            "Batch 440 | Loss: 0.0402 | Learning rate:  0.000006\n"
          ]
        },
        {
          "name": "stderr",
          "output_type": "stream",
          "text": [
            "Start training the model for one epoch...:  43%|████▎     | 460/1073 [03:50<04:56,  2.07it/s]"
          ]
        },
        {
          "name": "stdout",
          "output_type": "stream",
          "text": [
            "Batch 460 | Loss: 0.0220 | Learning rate:  0.000006\n"
          ]
        },
        {
          "name": "stderr",
          "output_type": "stream",
          "text": [
            "Start training the model for one epoch...:  45%|████▍     | 480/1073 [04:00<04:53,  2.02it/s]"
          ]
        },
        {
          "name": "stdout",
          "output_type": "stream",
          "text": [
            "Batch 480 | Loss: 0.0195 | Learning rate:  0.000006\n"
          ]
        },
        {
          "name": "stderr",
          "output_type": "stream",
          "text": [
            "Start training the model for one epoch...:  47%|████▋     | 500/1073 [04:10<04:38,  2.06it/s]"
          ]
        },
        {
          "name": "stdout",
          "output_type": "stream",
          "text": [
            "Batch 500 | Loss: 0.0174 | Learning rate:  0.000006\n"
          ]
        },
        {
          "name": "stderr",
          "output_type": "stream",
          "text": [
            "Start training the model for one epoch...:  48%|████▊     | 520/1073 [04:20<04:36,  2.00it/s]"
          ]
        },
        {
          "name": "stdout",
          "output_type": "stream",
          "text": [
            "Batch 520 | Loss: 0.0142 | Learning rate:  0.000006\n"
          ]
        },
        {
          "name": "stderr",
          "output_type": "stream",
          "text": [
            "Start training the model for one epoch...:  50%|█████     | 540/1073 [04:30<04:20,  2.05it/s]"
          ]
        },
        {
          "name": "stdout",
          "output_type": "stream",
          "text": [
            "Batch 540 | Loss: 0.0202 | Learning rate:  0.000006\n"
          ]
        },
        {
          "name": "stderr",
          "output_type": "stream",
          "text": [
            "Start training the model for one epoch...:  52%|█████▏    | 560/1073 [04:39<04:17,  1.99it/s]"
          ]
        },
        {
          "name": "stdout",
          "output_type": "stream",
          "text": [
            "Batch 560 | Loss: 0.0186 | Learning rate:  0.000006\n"
          ]
        },
        {
          "name": "stderr",
          "output_type": "stream",
          "text": [
            "Start training the model for one epoch...:  54%|█████▍    | 580/1073 [04:49<04:05,  2.01it/s]"
          ]
        },
        {
          "name": "stdout",
          "output_type": "stream",
          "text": [
            "Batch 580 | Loss: 0.0360 | Learning rate:  0.000006\n"
          ]
        },
        {
          "name": "stderr",
          "output_type": "stream",
          "text": [
            "Start training the model for one epoch...:  56%|█████▌    | 600/1073 [04:59<03:53,  2.02it/s]"
          ]
        },
        {
          "name": "stdout",
          "output_type": "stream",
          "text": [
            "Batch 600 | Loss: 0.0260 | Learning rate:  0.000006\n"
          ]
        },
        {
          "name": "stderr",
          "output_type": "stream",
          "text": [
            "Start training the model for one epoch...:  58%|█████▊    | 620/1073 [05:09<03:38,  2.07it/s]"
          ]
        },
        {
          "name": "stdout",
          "output_type": "stream",
          "text": [
            "Batch 620 | Loss: 0.0193 | Learning rate:  0.000006\n"
          ]
        },
        {
          "name": "stderr",
          "output_type": "stream",
          "text": [
            "Start training the model for one epoch...:  60%|█████▉    | 640/1073 [05:19<03:33,  2.03it/s]"
          ]
        },
        {
          "name": "stdout",
          "output_type": "stream",
          "text": [
            "Batch 640 | Loss: 0.0170 | Learning rate:  0.000006\n"
          ]
        },
        {
          "name": "stderr",
          "output_type": "stream",
          "text": [
            "Start training the model for one epoch...:  62%|██████▏   | 660/1073 [05:28<03:21,  2.05it/s]"
          ]
        },
        {
          "name": "stdout",
          "output_type": "stream",
          "text": [
            "Batch 660 | Loss: 0.0203 | Learning rate:  0.000006\n"
          ]
        },
        {
          "name": "stderr",
          "output_type": "stream",
          "text": [
            "Start training the model for one epoch...:  63%|██████▎   | 680/1073 [05:38<03:13,  2.03it/s]"
          ]
        },
        {
          "name": "stdout",
          "output_type": "stream",
          "text": [
            "Batch 680 | Loss: 0.0211 | Learning rate:  0.000006\n"
          ]
        },
        {
          "name": "stderr",
          "output_type": "stream",
          "text": [
            "Start training the model for one epoch...:  65%|██████▌   | 700/1073 [05:48<03:01,  2.06it/s]"
          ]
        },
        {
          "name": "stdout",
          "output_type": "stream",
          "text": [
            "Batch 700 | Loss: 0.0239 | Learning rate:  0.000005\n"
          ]
        },
        {
          "name": "stderr",
          "output_type": "stream",
          "text": [
            "Start training the model for one epoch...:  67%|██████▋   | 720/1073 [05:58<02:56,  2.00it/s]"
          ]
        },
        {
          "name": "stdout",
          "output_type": "stream",
          "text": [
            "Batch 720 | Loss: 0.0233 | Learning rate:  0.000005\n"
          ]
        },
        {
          "name": "stderr",
          "output_type": "stream",
          "text": [
            "Start training the model for one epoch...:  69%|██████▉   | 740/1073 [06:08<02:42,  2.05it/s]"
          ]
        },
        {
          "name": "stdout",
          "output_type": "stream",
          "text": [
            "Batch 740 | Loss: 0.0352 | Learning rate:  0.000005\n"
          ]
        },
        {
          "name": "stderr",
          "output_type": "stream",
          "text": [
            "Start training the model for one epoch...:  71%|███████   | 760/1073 [06:17<02:36,  2.00it/s]"
          ]
        },
        {
          "name": "stdout",
          "output_type": "stream",
          "text": [
            "Batch 760 | Loss: 0.0196 | Learning rate:  0.000005\n"
          ]
        },
        {
          "name": "stderr",
          "output_type": "stream",
          "text": [
            "Start training the model for one epoch...:  73%|███████▎  | 780/1073 [06:27<02:22,  2.06it/s]"
          ]
        },
        {
          "name": "stdout",
          "output_type": "stream",
          "text": [
            "Batch 780 | Loss: 0.0238 | Learning rate:  0.000005\n"
          ]
        },
        {
          "name": "stderr",
          "output_type": "stream",
          "text": [
            "Start training the model for one epoch...:  75%|███████▍  | 800/1073 [06:37<02:16,  2.01it/s]"
          ]
        },
        {
          "name": "stdout",
          "output_type": "stream",
          "text": [
            "Batch 800 | Loss: 0.0244 | Learning rate:  0.000005\n"
          ]
        },
        {
          "name": "stderr",
          "output_type": "stream",
          "text": [
            "Start training the model for one epoch...:  76%|███████▋  | 820/1073 [06:47<02:03,  2.05it/s]"
          ]
        },
        {
          "name": "stdout",
          "output_type": "stream",
          "text": [
            "Batch 820 | Loss: 0.0240 | Learning rate:  0.000005\n"
          ]
        },
        {
          "name": "stderr",
          "output_type": "stream",
          "text": [
            "Start training the model for one epoch...:  78%|███████▊  | 840/1073 [06:57<01:54,  2.04it/s]"
          ]
        },
        {
          "name": "stdout",
          "output_type": "stream",
          "text": [
            "Batch 840 | Loss: 0.0303 | Learning rate:  0.000005\n"
          ]
        },
        {
          "name": "stderr",
          "output_type": "stream",
          "text": [
            "Start training the model for one epoch...:  80%|████████  | 860/1073 [07:07<01:44,  2.04it/s]"
          ]
        },
        {
          "name": "stdout",
          "output_type": "stream",
          "text": [
            "Batch 860 | Loss: 0.0300 | Learning rate:  0.000005\n"
          ]
        },
        {
          "name": "stderr",
          "output_type": "stream",
          "text": [
            "Start training the model for one epoch...:  82%|████████▏ | 880/1073 [07:16<01:36,  2.01it/s]"
          ]
        },
        {
          "name": "stdout",
          "output_type": "stream",
          "text": [
            "Batch 880 | Loss: 0.0320 | Learning rate:  0.000005\n"
          ]
        },
        {
          "name": "stderr",
          "output_type": "stream",
          "text": [
            "Start training the model for one epoch...:  84%|████████▍ | 900/1073 [07:26<01:25,  2.02it/s]"
          ]
        },
        {
          "name": "stdout",
          "output_type": "stream",
          "text": [
            "Batch 900 | Loss: 0.0304 | Learning rate:  0.000005\n"
          ]
        },
        {
          "name": "stderr",
          "output_type": "stream",
          "text": [
            "Start training the model for one epoch...:  86%|████████▌ | 920/1073 [07:36<01:16,  1.99it/s]"
          ]
        },
        {
          "name": "stdout",
          "output_type": "stream",
          "text": [
            "Batch 920 | Loss: 0.0226 | Learning rate:  0.000005\n"
          ]
        },
        {
          "name": "stderr",
          "output_type": "stream",
          "text": [
            "Start training the model for one epoch...:  88%|████████▊ | 940/1073 [07:46<01:04,  2.06it/s]"
          ]
        },
        {
          "name": "stdout",
          "output_type": "stream",
          "text": [
            "Batch 940 | Loss: 0.0189 | Learning rate:  0.000005\n"
          ]
        },
        {
          "name": "stderr",
          "output_type": "stream",
          "text": [
            "Start training the model for one epoch...:  89%|████████▉ | 960/1073 [07:56<00:55,  2.04it/s]"
          ]
        },
        {
          "name": "stdout",
          "output_type": "stream",
          "text": [
            "Batch 960 | Loss: 0.0210 | Learning rate:  0.000005\n"
          ]
        },
        {
          "name": "stderr",
          "output_type": "stream",
          "text": [
            "Start training the model for one epoch...:  91%|█████████▏| 980/1073 [08:06<00:44,  2.07it/s]"
          ]
        },
        {
          "name": "stdout",
          "output_type": "stream",
          "text": [
            "Batch 980 | Loss: 0.0159 | Learning rate:  0.000005\n"
          ]
        },
        {
          "name": "stderr",
          "output_type": "stream",
          "text": [
            "Start training the model for one epoch...:  93%|█████████▎| 1000/1073 [08:16<00:36,  2.01it/s]"
          ]
        },
        {
          "name": "stdout",
          "output_type": "stream",
          "text": [
            "Batch 1000 | Loss: 0.0212 | Learning rate:  0.000005\n"
          ]
        },
        {
          "name": "stderr",
          "output_type": "stream",
          "text": [
            "Start training the model for one epoch...:  95%|█████████▌| 1020/1073 [08:25<00:25,  2.07it/s]"
          ]
        },
        {
          "name": "stdout",
          "output_type": "stream",
          "text": [
            "Batch 1020 | Loss: 0.0171 | Learning rate:  0.000005\n"
          ]
        },
        {
          "name": "stderr",
          "output_type": "stream",
          "text": [
            "Start training the model for one epoch...:  97%|█████████▋| 1040/1073 [08:35<00:16,  2.04it/s]"
          ]
        },
        {
          "name": "stdout",
          "output_type": "stream",
          "text": [
            "Batch 1040 | Loss: 0.0186 | Learning rate:  0.000005\n"
          ]
        },
        {
          "name": "stderr",
          "output_type": "stream",
          "text": [
            "Start training the model for one epoch...:  99%|█████████▉| 1060/1073 [08:45<00:06,  2.15it/s]"
          ]
        },
        {
          "name": "stdout",
          "output_type": "stream",
          "text": [
            "Batch 1060 | Loss: 0.0198 | Learning rate:  0.000005\n"
          ]
        },
        {
          "name": "stderr",
          "output_type": "stream",
          "text": [
            "Start training the model for one epoch...: 100%|██████████| 1073/1073 [08:51<00:00,  2.02it/s]\n",
            "120it [00:36,  3.26it/s]\n"
          ]
        },
        {
          "name": "stdout",
          "output_type": "stream",
          "text": [
            "Epoch: 36, train loss: 0.020379407282741627, val_loss: 0.038601985480636355, val_dice: 0.842922824295753, val_IoU: 0.7689318713966797\n"
          ]
        },
        {
          "name": "stderr",
          "output_type": "stream",
          "text": [
            "Start training the model for one epoch...:   2%|▏         | 20/1073 [00:15<08:53,  1.97it/s]"
          ]
        },
        {
          "name": "stdout",
          "output_type": "stream",
          "text": [
            "Batch 20 | Loss: 0.0249 | Learning rate:  0.000005\n"
          ]
        },
        {
          "name": "stderr",
          "output_type": "stream",
          "text": [
            "Start training the model for one epoch...:   4%|▎         | 40/1073 [00:25<08:21,  2.06it/s]"
          ]
        },
        {
          "name": "stdout",
          "output_type": "stream",
          "text": [
            "Batch 40 | Loss: 0.0199 | Learning rate:  0.000004\n"
          ]
        },
        {
          "name": "stderr",
          "output_type": "stream",
          "text": [
            "Start training the model for one epoch...:   6%|▌         | 60/1073 [00:35<08:25,  2.00it/s]"
          ]
        },
        {
          "name": "stdout",
          "output_type": "stream",
          "text": [
            "Batch 60 | Loss: 0.0116 | Learning rate:  0.000004\n"
          ]
        },
        {
          "name": "stderr",
          "output_type": "stream",
          "text": [
            "Start training the model for one epoch...:   7%|▋         | 80/1073 [00:45<08:03,  2.05it/s]"
          ]
        },
        {
          "name": "stdout",
          "output_type": "stream",
          "text": [
            "Batch 80 | Loss: 0.0268 | Learning rate:  0.000004\n"
          ]
        },
        {
          "name": "stderr",
          "output_type": "stream",
          "text": [
            "Start training the model for one epoch...:   9%|▉         | 100/1073 [00:55<08:02,  2.02it/s]"
          ]
        },
        {
          "name": "stdout",
          "output_type": "stream",
          "text": [
            "Batch 100 | Loss: 0.0439 | Learning rate:  0.000004\n"
          ]
        },
        {
          "name": "stderr",
          "output_type": "stream",
          "text": [
            "Start training the model for one epoch...:  11%|█         | 120/1073 [01:04<07:38,  2.08it/s]"
          ]
        },
        {
          "name": "stdout",
          "output_type": "stream",
          "text": [
            "Batch 120 | Loss: 0.0247 | Learning rate:  0.000004\n"
          ]
        },
        {
          "name": "stderr",
          "output_type": "stream",
          "text": [
            "Start training the model for one epoch...:  13%|█▎        | 140/1073 [01:14<07:42,  2.02it/s]"
          ]
        },
        {
          "name": "stdout",
          "output_type": "stream",
          "text": [
            "Batch 140 | Loss: 0.0161 | Learning rate:  0.000004\n"
          ]
        },
        {
          "name": "stderr",
          "output_type": "stream",
          "text": [
            "Start training the model for one epoch...:  15%|█▍        | 160/1073 [01:24<07:25,  2.05it/s]"
          ]
        },
        {
          "name": "stdout",
          "output_type": "stream",
          "text": [
            "Batch 160 | Loss: 0.0230 | Learning rate:  0.000004\n"
          ]
        },
        {
          "name": "stderr",
          "output_type": "stream",
          "text": [
            "Start training the model for one epoch...:  17%|█▋        | 180/1073 [01:34<07:19,  2.03it/s]"
          ]
        },
        {
          "name": "stdout",
          "output_type": "stream",
          "text": [
            "Batch 180 | Loss: 0.0154 | Learning rate:  0.000004\n"
          ]
        },
        {
          "name": "stderr",
          "output_type": "stream",
          "text": [
            "Start training the model for one epoch...:  19%|█▊        | 200/1073 [01:43<07:03,  2.06it/s]"
          ]
        },
        {
          "name": "stdout",
          "output_type": "stream",
          "text": [
            "Batch 200 | Loss: 0.0303 | Learning rate:  0.000004\n"
          ]
        },
        {
          "name": "stderr",
          "output_type": "stream",
          "text": [
            "Start training the model for one epoch...:  21%|██        | 220/1073 [01:53<07:00,  2.03it/s]"
          ]
        },
        {
          "name": "stdout",
          "output_type": "stream",
          "text": [
            "Batch 220 | Loss: 0.0370 | Learning rate:  0.000004\n"
          ]
        },
        {
          "name": "stderr",
          "output_type": "stream",
          "text": [
            "Start training the model for one epoch...:  22%|██▏       | 240/1073 [02:03<06:39,  2.08it/s]"
          ]
        },
        {
          "name": "stdout",
          "output_type": "stream",
          "text": [
            "Batch 240 | Loss: 0.0213 | Learning rate:  0.000004\n"
          ]
        },
        {
          "name": "stderr",
          "output_type": "stream",
          "text": [
            "Start training the model for one epoch...:  24%|██▍       | 260/1073 [02:13<06:41,  2.03it/s]"
          ]
        },
        {
          "name": "stdout",
          "output_type": "stream",
          "text": [
            "Batch 260 | Loss: 0.0163 | Learning rate:  0.000004\n"
          ]
        },
        {
          "name": "stderr",
          "output_type": "stream",
          "text": [
            "Start training the model for one epoch...:  26%|██▌       | 280/1073 [02:23<06:26,  2.05it/s]"
          ]
        },
        {
          "name": "stdout",
          "output_type": "stream",
          "text": [
            "Batch 280 | Loss: 0.0209 | Learning rate:  0.000004\n"
          ]
        },
        {
          "name": "stderr",
          "output_type": "stream",
          "text": [
            "Start training the model for one epoch...:  28%|██▊       | 300/1073 [02:32<06:21,  2.02it/s]"
          ]
        },
        {
          "name": "stdout",
          "output_type": "stream",
          "text": [
            "Batch 300 | Loss: 0.0167 | Learning rate:  0.000004\n"
          ]
        },
        {
          "name": "stderr",
          "output_type": "stream",
          "text": [
            "Start training the model for one epoch...:  30%|██▉       | 320/1073 [02:42<05:59,  2.09it/s]"
          ]
        },
        {
          "name": "stdout",
          "output_type": "stream",
          "text": [
            "Batch 320 | Loss: 0.0107 | Learning rate:  0.000004\n"
          ]
        },
        {
          "name": "stderr",
          "output_type": "stream",
          "text": [
            "Start training the model for one epoch...:  32%|███▏      | 340/1073 [02:52<06:03,  2.02it/s]"
          ]
        },
        {
          "name": "stdout",
          "output_type": "stream",
          "text": [
            "Batch 340 | Loss: 0.0175 | Learning rate:  0.000004\n"
          ]
        },
        {
          "name": "stderr",
          "output_type": "stream",
          "text": [
            "Start training the model for one epoch...:  34%|███▎      | 360/1073 [03:02<05:50,  2.04it/s]"
          ]
        },
        {
          "name": "stdout",
          "output_type": "stream",
          "text": [
            "Batch 360 | Loss: 0.0149 | Learning rate:  0.000004\n"
          ]
        },
        {
          "name": "stderr",
          "output_type": "stream",
          "text": [
            "Start training the model for one epoch...:  35%|███▌      | 380/1073 [03:12<05:37,  2.06it/s]"
          ]
        },
        {
          "name": "stdout",
          "output_type": "stream",
          "text": [
            "Batch 380 | Loss: 0.0139 | Learning rate:  0.000004\n"
          ]
        },
        {
          "name": "stderr",
          "output_type": "stream",
          "text": [
            "Start training the model for one epoch...:  37%|███▋      | 400/1073 [03:21<05:29,  2.04it/s]"
          ]
        },
        {
          "name": "stdout",
          "output_type": "stream",
          "text": [
            "Batch 400 | Loss: 0.0147 | Learning rate:  0.000004\n"
          ]
        },
        {
          "name": "stderr",
          "output_type": "stream",
          "text": [
            "Start training the model for one epoch...:  39%|███▉      | 420/1073 [03:31<05:25,  2.01it/s]"
          ]
        },
        {
          "name": "stdout",
          "output_type": "stream",
          "text": [
            "Batch 420 | Loss: 0.0155 | Learning rate:  0.000004\n"
          ]
        },
        {
          "name": "stderr",
          "output_type": "stream",
          "text": [
            "Start training the model for one epoch...:  41%|████      | 440/1073 [03:41<05:10,  2.04it/s]"
          ]
        },
        {
          "name": "stdout",
          "output_type": "stream",
          "text": [
            "Batch 440 | Loss: 0.0157 | Learning rate:  0.000004\n"
          ]
        },
        {
          "name": "stderr",
          "output_type": "stream",
          "text": [
            "Start training the model for one epoch...:  43%|████▎     | 460/1073 [03:51<04:56,  2.07it/s]"
          ]
        },
        {
          "name": "stdout",
          "output_type": "stream",
          "text": [
            "Batch 460 | Loss: 0.0227 | Learning rate:  0.000004\n"
          ]
        },
        {
          "name": "stderr",
          "output_type": "stream",
          "text": [
            "Start training the model for one epoch...:  45%|████▍     | 480/1073 [04:01<04:46,  2.07it/s]"
          ]
        },
        {
          "name": "stdout",
          "output_type": "stream",
          "text": [
            "Batch 480 | Loss: 0.0248 | Learning rate:  0.000004\n"
          ]
        },
        {
          "name": "stderr",
          "output_type": "stream",
          "text": [
            "Start training the model for one epoch...:  47%|████▋     | 500/1073 [04:10<04:40,  2.04it/s]"
          ]
        },
        {
          "name": "stdout",
          "output_type": "stream",
          "text": [
            "Batch 500 | Loss: 0.0267 | Learning rate:  0.000004\n"
          ]
        },
        {
          "name": "stderr",
          "output_type": "stream",
          "text": [
            "Start training the model for one epoch...:  48%|████▊     | 520/1073 [04:20<04:30,  2.04it/s]"
          ]
        },
        {
          "name": "stdout",
          "output_type": "stream",
          "text": [
            "Batch 520 | Loss: 0.0158 | Learning rate:  0.000004\n"
          ]
        },
        {
          "name": "stderr",
          "output_type": "stream",
          "text": [
            "Start training the model for one epoch...:  50%|█████     | 540/1073 [04:30<04:20,  2.04it/s]"
          ]
        },
        {
          "name": "stdout",
          "output_type": "stream",
          "text": [
            "Batch 540 | Loss: 0.0254 | Learning rate:  0.000003\n"
          ]
        },
        {
          "name": "stderr",
          "output_type": "stream",
          "text": [
            "Start training the model for one epoch...:  52%|█████▏    | 560/1073 [04:40<04:09,  2.06it/s]"
          ]
        },
        {
          "name": "stdout",
          "output_type": "stream",
          "text": [
            "Batch 560 | Loss: 0.0165 | Learning rate:  0.000003\n"
          ]
        },
        {
          "name": "stderr",
          "output_type": "stream",
          "text": [
            "Start training the model for one epoch...:  54%|█████▍    | 580/1073 [04:50<04:02,  2.03it/s]"
          ]
        },
        {
          "name": "stdout",
          "output_type": "stream",
          "text": [
            "Batch 580 | Loss: 0.0310 | Learning rate:  0.000003\n"
          ]
        },
        {
          "name": "stderr",
          "output_type": "stream",
          "text": [
            "Start training the model for one epoch...:  56%|█████▌    | 600/1073 [04:59<03:54,  2.01it/s]"
          ]
        },
        {
          "name": "stdout",
          "output_type": "stream",
          "text": [
            "Batch 600 | Loss: 0.0168 | Learning rate:  0.000003\n"
          ]
        },
        {
          "name": "stderr",
          "output_type": "stream",
          "text": [
            "Start training the model for one epoch...:  58%|█████▊    | 620/1073 [05:09<03:44,  2.02it/s]"
          ]
        },
        {
          "name": "stdout",
          "output_type": "stream",
          "text": [
            "Batch 620 | Loss: 0.0113 | Learning rate:  0.000003\n"
          ]
        },
        {
          "name": "stderr",
          "output_type": "stream",
          "text": [
            "Start training the model for one epoch...:  60%|█████▉    | 640/1073 [05:19<03:31,  2.04it/s]"
          ]
        },
        {
          "name": "stdout",
          "output_type": "stream",
          "text": [
            "Batch 640 | Loss: 0.0161 | Learning rate:  0.000003\n"
          ]
        },
        {
          "name": "stderr",
          "output_type": "stream",
          "text": [
            "Start training the model for one epoch...:  62%|██████▏   | 660/1073 [05:29<03:22,  2.04it/s]"
          ]
        },
        {
          "name": "stdout",
          "output_type": "stream",
          "text": [
            "Batch 660 | Loss: 0.0165 | Learning rate:  0.000003\n"
          ]
        },
        {
          "name": "stderr",
          "output_type": "stream",
          "text": [
            "Start training the model for one epoch...:  63%|██████▎   | 680/1073 [05:39<03:12,  2.04it/s]"
          ]
        },
        {
          "name": "stdout",
          "output_type": "stream",
          "text": [
            "Batch 680 | Loss: 0.0111 | Learning rate:  0.000003\n"
          ]
        },
        {
          "name": "stderr",
          "output_type": "stream",
          "text": [
            "Start training the model for one epoch...:  65%|██████▌   | 700/1073 [05:49<03:01,  2.06it/s]"
          ]
        },
        {
          "name": "stdout",
          "output_type": "stream",
          "text": [
            "Batch 700 | Loss: 0.0168 | Learning rate:  0.000003\n"
          ]
        },
        {
          "name": "stderr",
          "output_type": "stream",
          "text": [
            "Start training the model for one epoch...:  67%|██████▋   | 720/1073 [05:58<02:52,  2.05it/s]"
          ]
        },
        {
          "name": "stdout",
          "output_type": "stream",
          "text": [
            "Batch 720 | Loss: 0.0256 | Learning rate:  0.000003\n"
          ]
        },
        {
          "name": "stderr",
          "output_type": "stream",
          "text": [
            "Start training the model for one epoch...:  69%|██████▉   | 740/1073 [06:08<02:44,  2.02it/s]"
          ]
        },
        {
          "name": "stdout",
          "output_type": "stream",
          "text": [
            "Batch 740 | Loss: 0.0171 | Learning rate:  0.000003\n"
          ]
        },
        {
          "name": "stderr",
          "output_type": "stream",
          "text": [
            "Start training the model for one epoch...:  71%|███████   | 760/1073 [06:18<02:34,  2.03it/s]"
          ]
        },
        {
          "name": "stdout",
          "output_type": "stream",
          "text": [
            "Batch 760 | Loss: 0.0132 | Learning rate:  0.000003\n"
          ]
        },
        {
          "name": "stderr",
          "output_type": "stream",
          "text": [
            "Start training the model for one epoch...:  73%|███████▎  | 780/1073 [06:28<02:26,  2.00it/s]"
          ]
        },
        {
          "name": "stdout",
          "output_type": "stream",
          "text": [
            "Batch 780 | Loss: 0.0169 | Learning rate:  0.000003\n"
          ]
        },
        {
          "name": "stderr",
          "output_type": "stream",
          "text": [
            "Start training the model for one epoch...:  75%|███████▍  | 800/1073 [06:38<02:16,  2.00it/s]"
          ]
        },
        {
          "name": "stdout",
          "output_type": "stream",
          "text": [
            "Batch 800 | Loss: 0.0121 | Learning rate:  0.000003\n"
          ]
        },
        {
          "name": "stderr",
          "output_type": "stream",
          "text": [
            "Start training the model for one epoch...:  76%|███████▋  | 820/1073 [06:48<02:04,  2.03it/s]"
          ]
        },
        {
          "name": "stdout",
          "output_type": "stream",
          "text": [
            "Batch 820 | Loss: 0.0179 | Learning rate:  0.000003\n"
          ]
        },
        {
          "name": "stderr",
          "output_type": "stream",
          "text": [
            "Start training the model for one epoch...:  78%|███████▊  | 840/1073 [06:58<01:57,  1.99it/s]"
          ]
        },
        {
          "name": "stdout",
          "output_type": "stream",
          "text": [
            "Batch 840 | Loss: 0.0233 | Learning rate:  0.000003\n"
          ]
        },
        {
          "name": "stderr",
          "output_type": "stream",
          "text": [
            "Start training the model for one epoch...:  80%|████████  | 860/1073 [07:07<01:44,  2.04it/s]"
          ]
        },
        {
          "name": "stdout",
          "output_type": "stream",
          "text": [
            "Batch 860 | Loss: 0.0205 | Learning rate:  0.000003\n"
          ]
        },
        {
          "name": "stderr",
          "output_type": "stream",
          "text": [
            "Start training the model for one epoch...:  82%|████████▏ | 880/1073 [07:17<01:35,  2.01it/s]"
          ]
        },
        {
          "name": "stdout",
          "output_type": "stream",
          "text": [
            "Batch 880 | Loss: 0.0158 | Learning rate:  0.000003\n"
          ]
        },
        {
          "name": "stderr",
          "output_type": "stream",
          "text": [
            "Start training the model for one epoch...:  84%|████████▍ | 900/1073 [07:27<01:24,  2.05it/s]"
          ]
        },
        {
          "name": "stdout",
          "output_type": "stream",
          "text": [
            "Batch 900 | Loss: 0.0157 | Learning rate:  0.000003\n"
          ]
        },
        {
          "name": "stderr",
          "output_type": "stream",
          "text": [
            "Start training the model for one epoch...:  86%|████████▌ | 920/1073 [07:37<01:16,  2.00it/s]"
          ]
        },
        {
          "name": "stdout",
          "output_type": "stream",
          "text": [
            "Batch 920 | Loss: 0.0133 | Learning rate:  0.000003\n"
          ]
        },
        {
          "name": "stderr",
          "output_type": "stream",
          "text": [
            "Start training the model for one epoch...:  88%|████████▊ | 940/1073 [07:47<01:04,  2.05it/s]"
          ]
        },
        {
          "name": "stdout",
          "output_type": "stream",
          "text": [
            "Batch 940 | Loss: 0.0213 | Learning rate:  0.000003\n"
          ]
        },
        {
          "name": "stderr",
          "output_type": "stream",
          "text": [
            "Start training the model for one epoch...:  89%|████████▉ | 960/1073 [07:57<00:56,  1.99it/s]"
          ]
        },
        {
          "name": "stdout",
          "output_type": "stream",
          "text": [
            "Batch 960 | Loss: 0.0494 | Learning rate:  0.000003\n"
          ]
        },
        {
          "name": "stderr",
          "output_type": "stream",
          "text": [
            "Start training the model for one epoch...:  91%|█████████▏| 980/1073 [08:06<00:44,  2.07it/s]"
          ]
        },
        {
          "name": "stdout",
          "output_type": "stream",
          "text": [
            "Batch 980 | Loss: 0.0113 | Learning rate:  0.000003\n"
          ]
        },
        {
          "name": "stderr",
          "output_type": "stream",
          "text": [
            "Start training the model for one epoch...:  93%|█████████▎| 1000/1073 [08:16<00:36,  2.01it/s]"
          ]
        },
        {
          "name": "stdout",
          "output_type": "stream",
          "text": [
            "Batch 1000 | Loss: 0.0161 | Learning rate:  0.000003\n"
          ]
        },
        {
          "name": "stderr",
          "output_type": "stream",
          "text": [
            "Start training the model for one epoch...:  95%|█████████▌| 1020/1073 [08:26<00:25,  2.08it/s]"
          ]
        },
        {
          "name": "stdout",
          "output_type": "stream",
          "text": [
            "Batch 1020 | Loss: 0.0139 | Learning rate:  0.000003\n"
          ]
        },
        {
          "name": "stderr",
          "output_type": "stream",
          "text": [
            "Start training the model for one epoch...:  97%|█████████▋| 1040/1073 [08:36<00:16,  2.02it/s]"
          ]
        },
        {
          "name": "stdout",
          "output_type": "stream",
          "text": [
            "Batch 1040 | Loss: 0.0155 | Learning rate:  0.000003\n"
          ]
        },
        {
          "name": "stderr",
          "output_type": "stream",
          "text": [
            "Start training the model for one epoch...:  99%|█████████▉| 1060/1073 [08:46<00:06,  2.16it/s]"
          ]
        },
        {
          "name": "stdout",
          "output_type": "stream",
          "text": [
            "Batch 1060 | Loss: 0.0137 | Learning rate:  0.000003\n"
          ]
        },
        {
          "name": "stderr",
          "output_type": "stream",
          "text": [
            "Start training the model for one epoch...: 100%|██████████| 1073/1073 [08:52<00:00,  2.02it/s]\n",
            "120it [00:36,  3.27it/s]\n"
          ]
        },
        {
          "name": "stdout",
          "output_type": "stream",
          "text": [
            "Epoch: 37, train loss: 0.020463668389761436, val_loss: 0.03841209899013241, val_dice: 0.8435407664773191, val_IoU: 0.7688904146462642\n"
          ]
        },
        {
          "name": "stderr",
          "output_type": "stream",
          "text": [
            "Start training the model for one epoch...:   2%|▏         | 20/1073 [00:15<08:54,  1.97it/s]"
          ]
        },
        {
          "name": "stdout",
          "output_type": "stream",
          "text": [
            "Batch 20 | Loss: 0.0212 | Learning rate:  0.000003\n"
          ]
        },
        {
          "name": "stderr",
          "output_type": "stream",
          "text": [
            "Start training the model for one epoch...:   4%|▎         | 40/1073 [00:25<08:21,  2.06it/s]"
          ]
        },
        {
          "name": "stdout",
          "output_type": "stream",
          "text": [
            "Batch 40 | Loss: 0.0183 | Learning rate:  0.000003\n"
          ]
        },
        {
          "name": "stderr",
          "output_type": "stream",
          "text": [
            "Start training the model for one epoch...:   6%|▌         | 60/1073 [00:34<08:20,  2.02it/s]"
          ]
        },
        {
          "name": "stdout",
          "output_type": "stream",
          "text": [
            "Batch 60 | Loss: 0.0257 | Learning rate:  0.000003\n"
          ]
        },
        {
          "name": "stderr",
          "output_type": "stream",
          "text": [
            "Start training the model for one epoch...:   7%|▋         | 80/1073 [00:44<07:59,  2.07it/s]"
          ]
        },
        {
          "name": "stdout",
          "output_type": "stream",
          "text": [
            "Batch 80 | Loss: 0.0191 | Learning rate:  0.000002\n"
          ]
        },
        {
          "name": "stderr",
          "output_type": "stream",
          "text": [
            "Start training the model for one epoch...:   9%|▉         | 100/1073 [00:54<08:05,  2.00it/s]"
          ]
        },
        {
          "name": "stdout",
          "output_type": "stream",
          "text": [
            "Batch 100 | Loss: 0.0145 | Learning rate:  0.000002\n"
          ]
        },
        {
          "name": "stderr",
          "output_type": "stream",
          "text": [
            "Start training the model for one epoch...:  11%|█         | 120/1073 [01:04<07:45,  2.05it/s]"
          ]
        },
        {
          "name": "stdout",
          "output_type": "stream",
          "text": [
            "Batch 120 | Loss: 0.0191 | Learning rate:  0.000002\n"
          ]
        },
        {
          "name": "stderr",
          "output_type": "stream",
          "text": [
            "Start training the model for one epoch...:  13%|█▎        | 140/1073 [01:14<07:37,  2.04it/s]"
          ]
        },
        {
          "name": "stdout",
          "output_type": "stream",
          "text": [
            "Batch 140 | Loss: 0.0167 | Learning rate:  0.000002\n"
          ]
        },
        {
          "name": "stderr",
          "output_type": "stream",
          "text": [
            "Start training the model for one epoch...:  15%|█▍        | 160/1073 [01:23<07:27,  2.04it/s]"
          ]
        },
        {
          "name": "stdout",
          "output_type": "stream",
          "text": [
            "Batch 160 | Loss: 0.0112 | Learning rate:  0.000002\n"
          ]
        },
        {
          "name": "stderr",
          "output_type": "stream",
          "text": [
            "Start training the model for one epoch...:  17%|█▋        | 180/1073 [01:33<07:18,  2.04it/s]"
          ]
        },
        {
          "name": "stdout",
          "output_type": "stream",
          "text": [
            "Batch 180 | Loss: 0.0298 | Learning rate:  0.000002\n"
          ]
        },
        {
          "name": "stderr",
          "output_type": "stream",
          "text": [
            "Start training the model for one epoch...:  19%|█▊        | 200/1073 [01:43<07:08,  2.04it/s]"
          ]
        },
        {
          "name": "stdout",
          "output_type": "stream",
          "text": [
            "Batch 200 | Loss: 0.0205 | Learning rate:  0.000002\n"
          ]
        },
        {
          "name": "stderr",
          "output_type": "stream",
          "text": [
            "Start training the model for one epoch...:  21%|██        | 220/1073 [01:53<06:57,  2.04it/s]"
          ]
        },
        {
          "name": "stdout",
          "output_type": "stream",
          "text": [
            "Batch 220 | Loss: 0.0250 | Learning rate:  0.000002\n"
          ]
        },
        {
          "name": "stderr",
          "output_type": "stream",
          "text": [
            "Start training the model for one epoch...:  22%|██▏       | 240/1073 [02:03<06:48,  2.04it/s]"
          ]
        },
        {
          "name": "stdout",
          "output_type": "stream",
          "text": [
            "Batch 240 | Loss: 0.0152 | Learning rate:  0.000002\n"
          ]
        },
        {
          "name": "stderr",
          "output_type": "stream",
          "text": [
            "Start training the model for one epoch...:  24%|██▍       | 260/1073 [02:12<06:40,  2.03it/s]"
          ]
        },
        {
          "name": "stdout",
          "output_type": "stream",
          "text": [
            "Batch 260 | Loss: 0.0125 | Learning rate:  0.000002\n"
          ]
        },
        {
          "name": "stderr",
          "output_type": "stream",
          "text": [
            "Start training the model for one epoch...:  26%|██▌       | 280/1073 [02:22<06:33,  2.02it/s]"
          ]
        },
        {
          "name": "stdout",
          "output_type": "stream",
          "text": [
            "Batch 280 | Loss: 0.0208 | Learning rate:  0.000002\n"
          ]
        },
        {
          "name": "stderr",
          "output_type": "stream",
          "text": [
            "Start training the model for one epoch...:  28%|██▊       | 300/1073 [02:32<06:16,  2.05it/s]"
          ]
        },
        {
          "name": "stdout",
          "output_type": "stream",
          "text": [
            "Batch 300 | Loss: 0.0140 | Learning rate:  0.000002\n"
          ]
        },
        {
          "name": "stderr",
          "output_type": "stream",
          "text": [
            "Start training the model for one epoch...:  30%|██▉       | 320/1073 [02:42<06:08,  2.04it/s]"
          ]
        },
        {
          "name": "stdout",
          "output_type": "stream",
          "text": [
            "Batch 320 | Loss: 0.0103 | Learning rate:  0.000002\n"
          ]
        },
        {
          "name": "stderr",
          "output_type": "stream",
          "text": [
            "Start training the model for one epoch...:  32%|███▏      | 340/1073 [02:52<05:58,  2.05it/s]"
          ]
        },
        {
          "name": "stdout",
          "output_type": "stream",
          "text": [
            "Batch 340 | Loss: 0.0189 | Learning rate:  0.000002\n"
          ]
        },
        {
          "name": "stderr",
          "output_type": "stream",
          "text": [
            "Start training the model for one epoch...:  34%|███▎      | 360/1073 [03:02<05:52,  2.02it/s]"
          ]
        },
        {
          "name": "stdout",
          "output_type": "stream",
          "text": [
            "Batch 360 | Loss: 0.0193 | Learning rate:  0.000002\n"
          ]
        },
        {
          "name": "stderr",
          "output_type": "stream",
          "text": [
            "Start training the model for one epoch...:  35%|███▌      | 380/1073 [03:11<05:35,  2.06it/s]"
          ]
        },
        {
          "name": "stdout",
          "output_type": "stream",
          "text": [
            "Batch 380 | Loss: 0.0315 | Learning rate:  0.000002\n"
          ]
        },
        {
          "name": "stderr",
          "output_type": "stream",
          "text": [
            "Start training the model for one epoch...:  37%|███▋      | 400/1073 [03:21<05:30,  2.04it/s]"
          ]
        },
        {
          "name": "stdout",
          "output_type": "stream",
          "text": [
            "Batch 400 | Loss: 0.0142 | Learning rate:  0.000002\n"
          ]
        },
        {
          "name": "stderr",
          "output_type": "stream",
          "text": [
            "Start training the model for one epoch...:  39%|███▉      | 420/1073 [03:31<05:22,  2.03it/s]"
          ]
        },
        {
          "name": "stdout",
          "output_type": "stream",
          "text": [
            "Batch 420 | Loss: 0.0420 | Learning rate:  0.000002\n"
          ]
        },
        {
          "name": "stderr",
          "output_type": "stream",
          "text": [
            "Start training the model for one epoch...:  41%|████      | 440/1073 [03:41<05:10,  2.04it/s]"
          ]
        },
        {
          "name": "stdout",
          "output_type": "stream",
          "text": [
            "Batch 440 | Loss: 0.0344 | Learning rate:  0.000002\n"
          ]
        },
        {
          "name": "stderr",
          "output_type": "stream",
          "text": [
            "Start training the model for one epoch...:  43%|████▎     | 460/1073 [03:51<05:00,  2.04it/s]"
          ]
        },
        {
          "name": "stdout",
          "output_type": "stream",
          "text": [
            "Batch 460 | Loss: 0.0183 | Learning rate:  0.000002\n"
          ]
        },
        {
          "name": "stderr",
          "output_type": "stream",
          "text": [
            "Start training the model for one epoch...:  45%|████▍     | 480/1073 [04:00<04:55,  2.01it/s]"
          ]
        },
        {
          "name": "stdout",
          "output_type": "stream",
          "text": [
            "Batch 480 | Loss: 0.0259 | Learning rate:  0.000002\n"
          ]
        },
        {
          "name": "stderr",
          "output_type": "stream",
          "text": [
            "Start training the model for one epoch...:  47%|████▋     | 500/1073 [04:10<04:37,  2.06it/s]"
          ]
        },
        {
          "name": "stdout",
          "output_type": "stream",
          "text": [
            "Batch 500 | Loss: 0.0155 | Learning rate:  0.000002\n"
          ]
        },
        {
          "name": "stderr",
          "output_type": "stream",
          "text": [
            "Start training the model for one epoch...:  48%|████▊     | 520/1073 [04:20<04:35,  2.00it/s]"
          ]
        },
        {
          "name": "stdout",
          "output_type": "stream",
          "text": [
            "Batch 520 | Loss: 0.0235 | Learning rate:  0.000002\n"
          ]
        },
        {
          "name": "stderr",
          "output_type": "stream",
          "text": [
            "Start training the model for one epoch...:  50%|█████     | 540/1073 [04:30<04:20,  2.05it/s]"
          ]
        },
        {
          "name": "stdout",
          "output_type": "stream",
          "text": [
            "Batch 540 | Loss: 0.0141 | Learning rate:  0.000002\n"
          ]
        },
        {
          "name": "stderr",
          "output_type": "stream",
          "text": [
            "Start training the model for one epoch...:  52%|█████▏    | 560/1073 [04:39<04:15,  2.01it/s]"
          ]
        },
        {
          "name": "stdout",
          "output_type": "stream",
          "text": [
            "Batch 560 | Loss: 0.0240 | Learning rate:  0.000002\n"
          ]
        },
        {
          "name": "stderr",
          "output_type": "stream",
          "text": [
            "Start training the model for one epoch...:  54%|█████▍    | 580/1073 [04:49<03:59,  2.05it/s]"
          ]
        },
        {
          "name": "stdout",
          "output_type": "stream",
          "text": [
            "Batch 580 | Loss: 0.0230 | Learning rate:  0.000002\n"
          ]
        },
        {
          "name": "stderr",
          "output_type": "stream",
          "text": [
            "Start training the model for one epoch...:  56%|█████▌    | 600/1073 [04:59<03:55,  2.01it/s]"
          ]
        },
        {
          "name": "stdout",
          "output_type": "stream",
          "text": [
            "Batch 600 | Loss: 0.0197 | Learning rate:  0.000002\n"
          ]
        },
        {
          "name": "stderr",
          "output_type": "stream",
          "text": [
            "Start training the model for one epoch...:  58%|█████▊    | 620/1073 [05:09<03:43,  2.03it/s]"
          ]
        },
        {
          "name": "stdout",
          "output_type": "stream",
          "text": [
            "Batch 620 | Loss: 0.0253 | Learning rate:  0.000002\n"
          ]
        },
        {
          "name": "stderr",
          "output_type": "stream",
          "text": [
            "Start training the model for one epoch...:  60%|█████▉    | 640/1073 [05:19<03:37,  1.99it/s]"
          ]
        },
        {
          "name": "stdout",
          "output_type": "stream",
          "text": [
            "Batch 640 | Loss: 0.0318 | Learning rate:  0.000002\n"
          ]
        },
        {
          "name": "stderr",
          "output_type": "stream",
          "text": [
            "Start training the model for one epoch...:  62%|██████▏   | 660/1073 [05:29<03:22,  2.04it/s]"
          ]
        },
        {
          "name": "stdout",
          "output_type": "stream",
          "text": [
            "Batch 660 | Loss: 0.0186 | Learning rate:  0.000002\n"
          ]
        },
        {
          "name": "stderr",
          "output_type": "stream",
          "text": [
            "Start training the model for one epoch...:  63%|██████▎   | 680/1073 [05:38<03:17,  1.99it/s]"
          ]
        },
        {
          "name": "stdout",
          "output_type": "stream",
          "text": [
            "Batch 680 | Loss: 0.0159 | Learning rate:  0.000002\n"
          ]
        },
        {
          "name": "stderr",
          "output_type": "stream",
          "text": [
            "Start training the model for one epoch...:  65%|██████▌   | 700/1073 [05:48<03:00,  2.07it/s]"
          ]
        },
        {
          "name": "stdout",
          "output_type": "stream",
          "text": [
            "Batch 700 | Loss: 0.0356 | Learning rate:  0.000002\n"
          ]
        },
        {
          "name": "stderr",
          "output_type": "stream",
          "text": [
            "Start training the model for one epoch...:  67%|██████▋   | 720/1073 [05:58<02:51,  2.05it/s]"
          ]
        },
        {
          "name": "stdout",
          "output_type": "stream",
          "text": [
            "Batch 720 | Loss: 0.0169 | Learning rate:  0.000002\n"
          ]
        },
        {
          "name": "stderr",
          "output_type": "stream",
          "text": [
            "Start training the model for one epoch...:  69%|██████▉   | 740/1073 [06:08<02:44,  2.03it/s]"
          ]
        },
        {
          "name": "stdout",
          "output_type": "stream",
          "text": [
            "Batch 740 | Loss: 0.0166 | Learning rate:  0.000002\n"
          ]
        },
        {
          "name": "stderr",
          "output_type": "stream",
          "text": [
            "Start training the model for one epoch...:  71%|███████   | 760/1073 [06:18<02:36,  2.00it/s]"
          ]
        },
        {
          "name": "stdout",
          "output_type": "stream",
          "text": [
            "Batch 760 | Loss: 0.0223 | Learning rate:  0.000002\n"
          ]
        },
        {
          "name": "stderr",
          "output_type": "stream",
          "text": [
            "Start training the model for one epoch...:  73%|███████▎  | 780/1073 [06:28<02:25,  2.02it/s]"
          ]
        },
        {
          "name": "stdout",
          "output_type": "stream",
          "text": [
            "Batch 780 | Loss: 0.0308 | Learning rate:  0.000002\n"
          ]
        },
        {
          "name": "stderr",
          "output_type": "stream",
          "text": [
            "Start training the model for one epoch...:  75%|███████▍  | 800/1073 [06:37<02:14,  2.03it/s]"
          ]
        },
        {
          "name": "stdout",
          "output_type": "stream",
          "text": [
            "Batch 800 | Loss: 0.0257 | Learning rate:  0.000002\n"
          ]
        },
        {
          "name": "stderr",
          "output_type": "stream",
          "text": [
            "Start training the model for one epoch...:  76%|███████▋  | 820/1073 [06:47<02:02,  2.07it/s]"
          ]
        },
        {
          "name": "stdout",
          "output_type": "stream",
          "text": [
            "Batch 820 | Loss: 0.0190 | Learning rate:  0.000002\n"
          ]
        },
        {
          "name": "stderr",
          "output_type": "stream",
          "text": [
            "Start training the model for one epoch...:  78%|███████▊  | 840/1073 [06:57<01:55,  2.02it/s]"
          ]
        },
        {
          "name": "stdout",
          "output_type": "stream",
          "text": [
            "Batch 840 | Loss: 0.0170 | Learning rate:  0.000002\n"
          ]
        },
        {
          "name": "stderr",
          "output_type": "stream",
          "text": [
            "Start training the model for one epoch...:  80%|████████  | 860/1073 [07:07<01:42,  2.08it/s]"
          ]
        },
        {
          "name": "stdout",
          "output_type": "stream",
          "text": [
            "Batch 860 | Loss: 0.0121 | Learning rate:  0.000002\n"
          ]
        },
        {
          "name": "stderr",
          "output_type": "stream",
          "text": [
            "Start training the model for one epoch...:  82%|████████▏ | 880/1073 [07:17<01:36,  2.00it/s]"
          ]
        },
        {
          "name": "stdout",
          "output_type": "stream",
          "text": [
            "Batch 880 | Loss: 0.0141 | Learning rate:  0.000002\n"
          ]
        },
        {
          "name": "stderr",
          "output_type": "stream",
          "text": [
            "Start training the model for one epoch...:  84%|████████▍ | 900/1073 [07:26<01:24,  2.04it/s]"
          ]
        },
        {
          "name": "stdout",
          "output_type": "stream",
          "text": [
            "Batch 900 | Loss: 0.0323 | Learning rate:  0.000002\n"
          ]
        },
        {
          "name": "stderr",
          "output_type": "stream",
          "text": [
            "Start training the model for one epoch...:  86%|████████▌ | 920/1073 [07:36<01:15,  2.01it/s]"
          ]
        },
        {
          "name": "stdout",
          "output_type": "stream",
          "text": [
            "Batch 920 | Loss: 0.0143 | Learning rate:  0.000002\n"
          ]
        },
        {
          "name": "stderr",
          "output_type": "stream",
          "text": [
            "Start training the model for one epoch...:  88%|████████▊ | 940/1073 [07:46<01:04,  2.06it/s]"
          ]
        },
        {
          "name": "stdout",
          "output_type": "stream",
          "text": [
            "Batch 940 | Loss: 0.0216 | Learning rate:  0.000002\n"
          ]
        },
        {
          "name": "stderr",
          "output_type": "stream",
          "text": [
            "Start training the model for one epoch...:  89%|████████▉ | 960/1073 [07:56<00:55,  2.03it/s]"
          ]
        },
        {
          "name": "stdout",
          "output_type": "stream",
          "text": [
            "Batch 960 | Loss: 0.0171 | Learning rate:  0.000001\n"
          ]
        },
        {
          "name": "stderr",
          "output_type": "stream",
          "text": [
            "Start training the model for one epoch...:  91%|█████████▏| 980/1073 [08:06<00:45,  2.04it/s]"
          ]
        },
        {
          "name": "stdout",
          "output_type": "stream",
          "text": [
            "Batch 980 | Loss: 0.0199 | Learning rate:  0.000001\n"
          ]
        },
        {
          "name": "stderr",
          "output_type": "stream",
          "text": [
            "Start training the model for one epoch...:  93%|█████████▎| 1000/1073 [08:16<00:35,  2.04it/s]"
          ]
        },
        {
          "name": "stdout",
          "output_type": "stream",
          "text": [
            "Batch 1000 | Loss: 0.0160 | Learning rate:  0.000001\n"
          ]
        },
        {
          "name": "stderr",
          "output_type": "stream",
          "text": [
            "Start training the model for one epoch...:  95%|█████████▌| 1020/1073 [08:26<00:25,  2.06it/s]"
          ]
        },
        {
          "name": "stdout",
          "output_type": "stream",
          "text": [
            "Batch 1020 | Loss: 0.0152 | Learning rate:  0.000001\n"
          ]
        },
        {
          "name": "stderr",
          "output_type": "stream",
          "text": [
            "Start training the model for one epoch...:  97%|█████████▋| 1040/1073 [08:35<00:16,  2.01it/s]"
          ]
        },
        {
          "name": "stdout",
          "output_type": "stream",
          "text": [
            "Batch 1040 | Loss: 0.0170 | Learning rate:  0.000001\n"
          ]
        },
        {
          "name": "stderr",
          "output_type": "stream",
          "text": [
            "Start training the model for one epoch...:  99%|█████████▉| 1060/1073 [08:45<00:06,  2.15it/s]"
          ]
        },
        {
          "name": "stdout",
          "output_type": "stream",
          "text": [
            "Batch 1060 | Loss: 0.0147 | Learning rate:  0.000001\n"
          ]
        },
        {
          "name": "stderr",
          "output_type": "stream",
          "text": [
            "Start training the model for one epoch...: 100%|██████████| 1073/1073 [08:51<00:00,  2.02it/s]\n",
            "120it [00:36,  3.28it/s]\n"
          ]
        },
        {
          "name": "stdout",
          "output_type": "stream",
          "text": [
            "Epoch: 38, train loss: 0.02042674121619632, val_loss: 0.03818664566303293, val_dice: 0.843676647336329, val_IoU: 0.7697868696889102\n"
          ]
        },
        {
          "name": "stderr",
          "output_type": "stream",
          "text": [
            "Start training the model for one epoch...:   2%|▏         | 20/1073 [00:15<08:53,  1.97it/s]"
          ]
        },
        {
          "name": "stdout",
          "output_type": "stream",
          "text": [
            "Batch 20 | Loss: 0.0153 | Learning rate:  0.000001\n"
          ]
        },
        {
          "name": "stderr",
          "output_type": "stream",
          "text": [
            "Start training the model for one epoch...:   4%|▎         | 40/1073 [00:25<08:28,  2.03it/s]"
          ]
        },
        {
          "name": "stdout",
          "output_type": "stream",
          "text": [
            "Batch 40 | Loss: 0.0203 | Learning rate:  0.000001\n"
          ]
        },
        {
          "name": "stderr",
          "output_type": "stream",
          "text": [
            "Start training the model for one epoch...:   6%|▌         | 60/1073 [00:35<08:20,  2.03it/s]"
          ]
        },
        {
          "name": "stdout",
          "output_type": "stream",
          "text": [
            "Batch 60 | Loss: 0.0143 | Learning rate:  0.000001\n"
          ]
        },
        {
          "name": "stderr",
          "output_type": "stream",
          "text": [
            "Start training the model for one epoch...:   7%|▋         | 80/1073 [00:45<08:03,  2.06it/s]"
          ]
        },
        {
          "name": "stdout",
          "output_type": "stream",
          "text": [
            "Batch 80 | Loss: 0.0199 | Learning rate:  0.000001\n"
          ]
        },
        {
          "name": "stderr",
          "output_type": "stream",
          "text": [
            "Start training the model for one epoch...:   9%|▉         | 100/1073 [00:54<07:49,  2.07it/s]"
          ]
        },
        {
          "name": "stdout",
          "output_type": "stream",
          "text": [
            "Batch 100 | Loss: 0.0177 | Learning rate:  0.000001\n"
          ]
        },
        {
          "name": "stderr",
          "output_type": "stream",
          "text": [
            "Start training the model for one epoch...:  11%|█         | 120/1073 [01:04<07:48,  2.04it/s]"
          ]
        },
        {
          "name": "stdout",
          "output_type": "stream",
          "text": [
            "Batch 120 | Loss: 0.0253 | Learning rate:  0.000001\n"
          ]
        },
        {
          "name": "stderr",
          "output_type": "stream",
          "text": [
            "Start training the model for one epoch...:  13%|█▎        | 140/1073 [01:14<07:37,  2.04it/s]"
          ]
        },
        {
          "name": "stdout",
          "output_type": "stream",
          "text": [
            "Batch 140 | Loss: 0.0201 | Learning rate:  0.000001\n"
          ]
        },
        {
          "name": "stderr",
          "output_type": "stream",
          "text": [
            "Start training the model for one epoch...:  15%|█▍        | 160/1073 [01:24<07:20,  2.07it/s]"
          ]
        },
        {
          "name": "stdout",
          "output_type": "stream",
          "text": [
            "Batch 160 | Loss: 0.0247 | Learning rate:  0.000001\n"
          ]
        },
        {
          "name": "stderr",
          "output_type": "stream",
          "text": [
            "Start training the model for one epoch...:  17%|█▋        | 180/1073 [01:33<07:15,  2.05it/s]"
          ]
        },
        {
          "name": "stdout",
          "output_type": "stream",
          "text": [
            "Batch 180 | Loss: 0.0279 | Learning rate:  0.000001\n"
          ]
        },
        {
          "name": "stderr",
          "output_type": "stream",
          "text": [
            "Start training the model for one epoch...:  19%|█▊        | 200/1073 [01:43<07:02,  2.07it/s]"
          ]
        },
        {
          "name": "stdout",
          "output_type": "stream",
          "text": [
            "Batch 200 | Loss: 0.0281 | Learning rate:  0.000001\n"
          ]
        },
        {
          "name": "stderr",
          "output_type": "stream",
          "text": [
            "Start training the model for one epoch...:  21%|██        | 220/1073 [01:53<07:06,  2.00it/s]"
          ]
        },
        {
          "name": "stdout",
          "output_type": "stream",
          "text": [
            "Batch 220 | Loss: 0.0254 | Learning rate:  0.000001\n"
          ]
        },
        {
          "name": "stderr",
          "output_type": "stream",
          "text": [
            "Start training the model for one epoch...:  22%|██▏       | 240/1073 [02:03<06:43,  2.07it/s]"
          ]
        },
        {
          "name": "stdout",
          "output_type": "stream",
          "text": [
            "Batch 240 | Loss: 0.0246 | Learning rate:  0.000001\n"
          ]
        },
        {
          "name": "stderr",
          "output_type": "stream",
          "text": [
            "Start training the model for one epoch...:  24%|██▍       | 260/1073 [02:13<06:45,  2.01it/s]"
          ]
        },
        {
          "name": "stdout",
          "output_type": "stream",
          "text": [
            "Batch 260 | Loss: 0.0159 | Learning rate:  0.000001\n"
          ]
        },
        {
          "name": "stderr",
          "output_type": "stream",
          "text": [
            "Start training the model for one epoch...:  26%|██▌       | 280/1073 [02:22<06:34,  2.01it/s]"
          ]
        },
        {
          "name": "stdout",
          "output_type": "stream",
          "text": [
            "Batch 280 | Loss: 0.0289 | Learning rate:  0.000001\n"
          ]
        },
        {
          "name": "stderr",
          "output_type": "stream",
          "text": [
            "Start training the model for one epoch...:  28%|██▊       | 300/1073 [02:32<06:18,  2.04it/s]"
          ]
        },
        {
          "name": "stdout",
          "output_type": "stream",
          "text": [
            "Batch 300 | Loss: 0.0255 | Learning rate:  0.000001\n"
          ]
        },
        {
          "name": "stderr",
          "output_type": "stream",
          "text": [
            "Start training the model for one epoch...:  30%|██▉       | 320/1073 [02:42<06:05,  2.06it/s]"
          ]
        },
        {
          "name": "stdout",
          "output_type": "stream",
          "text": [
            "Batch 320 | Loss: 0.0165 | Learning rate:  0.000001\n"
          ]
        },
        {
          "name": "stderr",
          "output_type": "stream",
          "text": [
            "Start training the model for one epoch...:  32%|███▏      | 340/1073 [02:52<05:58,  2.04it/s]"
          ]
        },
        {
          "name": "stdout",
          "output_type": "stream",
          "text": [
            "Batch 340 | Loss: 0.0184 | Learning rate:  0.000001\n"
          ]
        },
        {
          "name": "stderr",
          "output_type": "stream",
          "text": [
            "Start training the model for one epoch...:  34%|███▎      | 360/1073 [03:01<05:48,  2.05it/s]"
          ]
        },
        {
          "name": "stdout",
          "output_type": "stream",
          "text": [
            "Batch 360 | Loss: 0.0152 | Learning rate:  0.000001\n"
          ]
        },
        {
          "name": "stderr",
          "output_type": "stream",
          "text": [
            "Start training the model for one epoch...:  35%|███▌      | 380/1073 [03:11<05:41,  2.03it/s]"
          ]
        },
        {
          "name": "stdout",
          "output_type": "stream",
          "text": [
            "Batch 380 | Loss: 0.0169 | Learning rate:  0.000001\n"
          ]
        },
        {
          "name": "stderr",
          "output_type": "stream",
          "text": [
            "Start training the model for one epoch...:  37%|███▋      | 400/1073 [03:21<05:28,  2.05it/s]"
          ]
        },
        {
          "name": "stdout",
          "output_type": "stream",
          "text": [
            "Batch 400 | Loss: 0.0281 | Learning rate:  0.000001\n"
          ]
        },
        {
          "name": "stderr",
          "output_type": "stream",
          "text": [
            "Start training the model for one epoch...:  39%|███▉      | 420/1073 [03:31<05:16,  2.06it/s]"
          ]
        },
        {
          "name": "stdout",
          "output_type": "stream",
          "text": [
            "Batch 420 | Loss: 0.0210 | Learning rate:  0.000001\n"
          ]
        },
        {
          "name": "stderr",
          "output_type": "stream",
          "text": [
            "Start training the model for one epoch...:  41%|████      | 440/1073 [03:41<05:12,  2.03it/s]"
          ]
        },
        {
          "name": "stdout",
          "output_type": "stream",
          "text": [
            "Batch 440 | Loss: 0.0125 | Learning rate:  0.000001\n"
          ]
        },
        {
          "name": "stderr",
          "output_type": "stream",
          "text": [
            "Start training the model for one epoch...:  43%|████▎     | 460/1073 [03:50<04:57,  2.06it/s]"
          ]
        },
        {
          "name": "stdout",
          "output_type": "stream",
          "text": [
            "Batch 460 | Loss: 0.0154 | Learning rate:  0.000001\n"
          ]
        },
        {
          "name": "stderr",
          "output_type": "stream",
          "text": [
            "Start training the model for one epoch...:  45%|████▍     | 480/1073 [04:00<04:55,  2.01it/s]"
          ]
        },
        {
          "name": "stdout",
          "output_type": "stream",
          "text": [
            "Batch 480 | Loss: 0.0167 | Learning rate:  0.000001\n"
          ]
        },
        {
          "name": "stderr",
          "output_type": "stream",
          "text": [
            "Start training the model for one epoch...:  47%|████▋     | 500/1073 [04:10<04:40,  2.04it/s]"
          ]
        },
        {
          "name": "stdout",
          "output_type": "stream",
          "text": [
            "Batch 500 | Loss: 0.0164 | Learning rate:  0.000001\n"
          ]
        },
        {
          "name": "stderr",
          "output_type": "stream",
          "text": [
            "Start training the model for one epoch...:  48%|████▊     | 520/1073 [04:20<04:36,  2.00it/s]"
          ]
        },
        {
          "name": "stdout",
          "output_type": "stream",
          "text": [
            "Batch 520 | Loss: 0.0118 | Learning rate:  0.000001\n"
          ]
        },
        {
          "name": "stderr",
          "output_type": "stream",
          "text": [
            "Start training the model for one epoch...:  50%|█████     | 540/1073 [04:30<04:18,  2.06it/s]"
          ]
        },
        {
          "name": "stdout",
          "output_type": "stream",
          "text": [
            "Batch 540 | Loss: 0.0131 | Learning rate:  0.000001\n"
          ]
        },
        {
          "name": "stderr",
          "output_type": "stream",
          "text": [
            "Start training the model for one epoch...:  52%|█████▏    | 560/1073 [04:40<04:14,  2.02it/s]"
          ]
        },
        {
          "name": "stdout",
          "output_type": "stream",
          "text": [
            "Batch 560 | Loss: 0.0292 | Learning rate:  0.000001\n"
          ]
        },
        {
          "name": "stderr",
          "output_type": "stream",
          "text": [
            "Start training the model for one epoch...:  54%|█████▍    | 580/1073 [04:49<03:59,  2.06it/s]"
          ]
        },
        {
          "name": "stdout",
          "output_type": "stream",
          "text": [
            "Batch 580 | Loss: 0.0130 | Learning rate:  0.000001\n"
          ]
        },
        {
          "name": "stderr",
          "output_type": "stream",
          "text": [
            "Start training the model for one epoch...:  56%|█████▌    | 600/1073 [04:59<03:55,  2.01it/s]"
          ]
        },
        {
          "name": "stdout",
          "output_type": "stream",
          "text": [
            "Batch 600 | Loss: 0.0229 | Learning rate:  0.000001\n"
          ]
        },
        {
          "name": "stderr",
          "output_type": "stream",
          "text": [
            "Start training the model for one epoch...:  58%|█████▊    | 620/1073 [05:09<03:40,  2.06it/s]"
          ]
        },
        {
          "name": "stdout",
          "output_type": "stream",
          "text": [
            "Batch 620 | Loss: 0.0199 | Learning rate:  0.000001\n"
          ]
        },
        {
          "name": "stderr",
          "output_type": "stream",
          "text": [
            "Start training the model for one epoch...:  60%|█████▉    | 640/1073 [05:19<03:34,  2.02it/s]"
          ]
        },
        {
          "name": "stdout",
          "output_type": "stream",
          "text": [
            "Batch 640 | Loss: 0.0111 | Learning rate:  0.000001\n"
          ]
        },
        {
          "name": "stderr",
          "output_type": "stream",
          "text": [
            "Start training the model for one epoch...:  62%|██████▏   | 660/1073 [05:29<03:22,  2.04it/s]"
          ]
        },
        {
          "name": "stdout",
          "output_type": "stream",
          "text": [
            "Batch 660 | Loss: 0.0232 | Learning rate:  0.000001\n"
          ]
        },
        {
          "name": "stderr",
          "output_type": "stream",
          "text": [
            "Start training the model for one epoch...:  63%|██████▎   | 680/1073 [05:39<03:15,  2.01it/s]"
          ]
        },
        {
          "name": "stdout",
          "output_type": "stream",
          "text": [
            "Batch 680 | Loss: 0.0173 | Learning rate:  0.000001\n"
          ]
        },
        {
          "name": "stderr",
          "output_type": "stream",
          "text": [
            "Start training the model for one epoch...:  65%|██████▌   | 700/1073 [05:49<03:01,  2.05it/s]"
          ]
        },
        {
          "name": "stdout",
          "output_type": "stream",
          "text": [
            "Batch 700 | Loss: 0.0227 | Learning rate:  0.000001\n"
          ]
        },
        {
          "name": "stderr",
          "output_type": "stream",
          "text": [
            "Start training the model for one epoch...:  67%|██████▋   | 720/1073 [05:59<02:54,  2.03it/s]"
          ]
        },
        {
          "name": "stdout",
          "output_type": "stream",
          "text": [
            "Batch 720 | Loss: 0.0230 | Learning rate:  0.000001\n"
          ]
        },
        {
          "name": "stderr",
          "output_type": "stream",
          "text": [
            "Start training the model for one epoch...:  69%|██████▉   | 740/1073 [06:08<02:38,  2.10it/s]"
          ]
        },
        {
          "name": "stdout",
          "output_type": "stream",
          "text": [
            "Batch 740 | Loss: 0.0180 | Learning rate:  0.000001\n"
          ]
        },
        {
          "name": "stderr",
          "output_type": "stream",
          "text": [
            "Start training the model for one epoch...:  71%|███████   | 760/1073 [06:18<02:35,  2.01it/s]"
          ]
        },
        {
          "name": "stdout",
          "output_type": "stream",
          "text": [
            "Batch 760 | Loss: 0.0303 | Learning rate:  0.000001\n"
          ]
        },
        {
          "name": "stderr",
          "output_type": "stream",
          "text": [
            "Start training the model for one epoch...:  73%|███████▎  | 780/1073 [06:28<02:23,  2.05it/s]"
          ]
        },
        {
          "name": "stdout",
          "output_type": "stream",
          "text": [
            "Batch 780 | Loss: 0.0206 | Learning rate:  0.000001\n"
          ]
        },
        {
          "name": "stderr",
          "output_type": "stream",
          "text": [
            "Start training the model for one epoch...:  75%|███████▍  | 800/1073 [06:38<02:16,  2.00it/s]"
          ]
        },
        {
          "name": "stdout",
          "output_type": "stream",
          "text": [
            "Batch 800 | Loss: 0.0213 | Learning rate:  0.000001\n"
          ]
        },
        {
          "name": "stderr",
          "output_type": "stream",
          "text": [
            "Start training the model for one epoch...:  76%|███████▋  | 820/1073 [06:48<02:04,  2.04it/s]"
          ]
        },
        {
          "name": "stdout",
          "output_type": "stream",
          "text": [
            "Batch 820 | Loss: 0.0222 | Learning rate:  0.000001\n"
          ]
        },
        {
          "name": "stderr",
          "output_type": "stream",
          "text": [
            "Start training the model for one epoch...:  78%|███████▊  | 840/1073 [06:58<01:54,  2.03it/s]"
          ]
        },
        {
          "name": "stdout",
          "output_type": "stream",
          "text": [
            "Batch 840 | Loss: 0.0180 | Learning rate:  0.000001\n"
          ]
        },
        {
          "name": "stderr",
          "output_type": "stream",
          "text": [
            "Start training the model for one epoch...:  80%|████████  | 860/1073 [07:07<01:45,  2.01it/s]"
          ]
        },
        {
          "name": "stdout",
          "output_type": "stream",
          "text": [
            "Batch 860 | Loss: 0.0273 | Learning rate:  0.000001\n"
          ]
        },
        {
          "name": "stderr",
          "output_type": "stream",
          "text": [
            "Start training the model for one epoch...:  82%|████████▏ | 880/1073 [07:17<01:35,  2.02it/s]"
          ]
        },
        {
          "name": "stdout",
          "output_type": "stream",
          "text": [
            "Batch 880 | Loss: 0.0171 | Learning rate:  0.000001\n"
          ]
        },
        {
          "name": "stderr",
          "output_type": "stream",
          "text": [
            "Start training the model for one epoch...:  84%|████████▍ | 900/1073 [07:27<01:25,  2.03it/s]"
          ]
        },
        {
          "name": "stdout",
          "output_type": "stream",
          "text": [
            "Batch 900 | Loss: 0.0218 | Learning rate:  0.000001\n"
          ]
        },
        {
          "name": "stderr",
          "output_type": "stream",
          "text": [
            "Start training the model for one epoch...:  86%|████████▌ | 920/1073 [07:37<01:16,  2.01it/s]"
          ]
        },
        {
          "name": "stdout",
          "output_type": "stream",
          "text": [
            "Batch 920 | Loss: 0.0169 | Learning rate:  0.000001\n"
          ]
        },
        {
          "name": "stderr",
          "output_type": "stream",
          "text": [
            "Start training the model for one epoch...:  88%|████████▊ | 940/1073 [07:47<01:05,  2.04it/s]"
          ]
        },
        {
          "name": "stdout",
          "output_type": "stream",
          "text": [
            "Batch 940 | Loss: 0.0337 | Learning rate:  0.000001\n"
          ]
        },
        {
          "name": "stderr",
          "output_type": "stream",
          "text": [
            "Start training the model for one epoch...:  89%|████████▉ | 960/1073 [07:57<00:56,  2.01it/s]"
          ]
        },
        {
          "name": "stdout",
          "output_type": "stream",
          "text": [
            "Batch 960 | Loss: 0.0191 | Learning rate:  0.000001\n"
          ]
        },
        {
          "name": "stderr",
          "output_type": "stream",
          "text": [
            "Start training the model for one epoch...:  91%|█████████▏| 980/1073 [08:07<00:46,  2.02it/s]"
          ]
        },
        {
          "name": "stdout",
          "output_type": "stream",
          "text": [
            "Batch 980 | Loss: 0.0277 | Learning rate:  0.000001\n"
          ]
        },
        {
          "name": "stderr",
          "output_type": "stream",
          "text": [
            "Start training the model for one epoch...:  93%|█████████▎| 1000/1073 [08:16<00:35,  2.04it/s]"
          ]
        },
        {
          "name": "stdout",
          "output_type": "stream",
          "text": [
            "Batch 1000 | Loss: 0.0194 | Learning rate:  0.000001\n"
          ]
        },
        {
          "name": "stderr",
          "output_type": "stream",
          "text": [
            "Start training the model for one epoch...:  95%|█████████▌| 1020/1073 [08:26<00:26,  2.03it/s]"
          ]
        },
        {
          "name": "stdout",
          "output_type": "stream",
          "text": [
            "Batch 1020 | Loss: 0.0156 | Learning rate:  0.000001\n"
          ]
        },
        {
          "name": "stderr",
          "output_type": "stream",
          "text": [
            "Start training the model for one epoch...:  97%|█████████▋| 1040/1073 [08:36<00:16,  2.03it/s]"
          ]
        },
        {
          "name": "stdout",
          "output_type": "stream",
          "text": [
            "Batch 1040 | Loss: 0.0129 | Learning rate:  0.000001\n"
          ]
        },
        {
          "name": "stderr",
          "output_type": "stream",
          "text": [
            "Start training the model for one epoch...:  99%|█████████▉| 1060/1073 [08:46<00:06,  2.12it/s]"
          ]
        },
        {
          "name": "stdout",
          "output_type": "stream",
          "text": [
            "Batch 1060 | Loss: 0.0161 | Learning rate:  0.000001\n"
          ]
        },
        {
          "name": "stderr",
          "output_type": "stream",
          "text": [
            "Start training the model for one epoch...: 100%|██████████| 1073/1073 [08:52<00:00,  2.02it/s]\n",
            "120it [00:36,  3.28it/s]\n"
          ]
        },
        {
          "name": "stdout",
          "output_type": "stream",
          "text": [
            "Epoch: 39, train loss: 0.020431176810078357, val_loss: 0.038118050123254456, val_dice: 0.8436334834041549, val_IoU: 0.7696300653578587\n"
          ]
        },
        {
          "name": "stderr",
          "output_type": "stream",
          "text": [
            "4it [00:23,  5.93s/it]\n"
          ]
        },
        {
          "name": "stdout",
          "output_type": "stream",
          "text": [
            "Epoch: 40, test_loss: 0.0782313970848918, test_dice: 0.8531508765823963, test_IoU: 0.7782590163313574\n"
          ]
        }
      ],
      "source": [
        "training.train_model(train_csv, val_csv, test_csv, writer, args)"
      ]
    }
  ],
  "metadata": {
    "accelerator": "GPU",
    "colab": {
      "gpuType": "A100",
      "machine_shape": "hm",
      "provenance": []
    },
    "kernelspec": {
      "display_name": "Python 3",
      "name": "python3"
    },
    "language_info": {
      "name": "python"
    }
  },
  "nbformat": 4,
  "nbformat_minor": 0
}
